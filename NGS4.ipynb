{
  "nbformat": 4,
  "nbformat_minor": 0,
  "metadata": {
    "colab": {
      "name": "NGS4.ipynb",
      "provenance": [],
      "authorship_tag": "ABX9TyPdl/QUe3EQ8V3WeloOuzZO",
      "include_colab_link": true
    },
    "kernelspec": {
      "name": "python3",
      "display_name": "Python 3"
    },
    "language_info": {
      "name": "python"
    }
  },
  "cells": [
    {
      "cell_type": "markdown",
      "metadata": {
        "id": "view-in-github",
        "colab_type": "text"
      },
      "source": [
        "<a href=\"https://colab.research.google.com/github/ainesko/NGS-HW1/blob/main/NGS4.ipynb\" target=\"_parent\"><img src=\"https://colab.research.google.com/assets/colab-badge.svg\" alt=\"Open In Colab\"/></a>"
      ]
    },
    {
      "cell_type": "markdown",
      "source": [
        "#Скачивание файлов с диска"
      ],
      "metadata": {
        "id": "Abhmz_130llV"
      }
    },
    {
      "cell_type": "markdown",
      "source": [
        "По ссылкам скачиваем с гугл-диска все файлы (кажется, работает только для Google Colab)"
      ],
      "metadata": {
        "id": "6gBPkDN_0hw4"
      }
    },
    {
      "cell_type": "code",
      "execution_count": null,
      "metadata": {
        "id": "xkriecGr0gd5"
      },
      "outputs": [],
      "source": [
        "def download_from_disk(id):\n",
        "  import gdown\n",
        "  gdown.download(f'https://drive.google.com/uc?id={id}&confirm=t', quiet=False)"
      ]
    },
    {
      "cell_type": "code",
      "source": [
        "!pip install pysam"
      ],
      "metadata": {
        "colab": {
          "base_uri": "https://localhost:8080/"
        },
        "id": "jczJvYeZ0HOw",
        "outputId": "c18feae4-a0dc-4978-8053-27cdedf00c8f"
      },
      "execution_count": null,
      "outputs": [
        {
          "output_type": "stream",
          "name": "stdout",
          "text": [
            "Collecting pysam\n",
            "  Using cached pysam-0.18.0-cp37-cp37m-manylinux_2_12_x86_64.manylinux2010_x86_64.whl (14.9 MB)\n",
            "Installing collected packages: pysam\n",
            "Successfully installed pysam-0.18.0\n"
          ]
        }
      ]
    },
    {
      "cell_type": "code",
      "source": [
        "import pysam\n",
        "import pandas as pd\n",
        "import numpy as np"
      ],
      "metadata": {
        "id": "Lfv9ubZL0FYF"
      },
      "execution_count": null,
      "outputs": []
    },
    {
      "cell_type": "markdown",
      "source": [
        "***test***"
      ],
      "metadata": {
        "id": "_RPTaCG_3Zpt"
      }
    },
    {
      "cell_type": "code",
      "source": [
        "download_from_disk('1ehBz22IPzr1vMMsbS5AlcpcrdwJp3m2T')"
      ],
      "metadata": {
        "colab": {
          "base_uri": "https://localhost:8080/"
        },
        "id": "uXWxCf8x3bWf",
        "outputId": "abb45057-7c07-4601-ac07-af183380353a"
      },
      "execution_count": null,
      "outputs": [
        {
          "output_type": "stream",
          "name": "stderr",
          "text": [
            "Downloading...\n",
            "From: https://drive.google.com/uc?id=1ehBz22IPzr1vMMsbS5AlcpcrdwJp3m2T&confirm=t\n",
            "To: /content/MG1655-K12.first10K.fasta\n",
            "100%|██████████| 10.3k/10.3k [00:00<00:00, 11.6MB/s]\n"
          ]
        }
      ]
    },
    {
      "cell_type": "code",
      "source": [
        "download_from_disk('14HMhVadyZnOlx1uqEVm7Bdj_hKRpgObG')"
      ],
      "metadata": {
        "colab": {
          "base_uri": "https://localhost:8080/"
        },
        "id": "U8h1wAlX3fB3",
        "outputId": "1ef746b4-4adc-4629-a6db-23f8871f90d7"
      },
      "execution_count": null,
      "outputs": [
        {
          "output_type": "stream",
          "name": "stderr",
          "text": [
            "Downloading...\n",
            "From: https://drive.google.com/uc?id=14HMhVadyZnOlx1uqEVm7Bdj_hKRpgObG&confirm=t\n",
            "To: /content/ecoli_10K_err_1.fastq.gz\n",
            "100%|██████████| 2.31M/2.31M [00:00<00:00, 10.5MB/s]\n"
          ]
        }
      ]
    },
    {
      "cell_type": "code",
      "source": [
        "download_from_disk('16-6UFcqgU0-W9klcK7FYy16fCgisJkZe')"
      ],
      "metadata": {
        "colab": {
          "base_uri": "https://localhost:8080/"
        },
        "id": "AtRHcSMM3fFu",
        "outputId": "cfce890b-6337-43fd-9a2a-66e19576f03d"
      },
      "execution_count": null,
      "outputs": [
        {
          "output_type": "stream",
          "name": "stderr",
          "text": [
            "Downloading...\n",
            "From: https://drive.google.com/uc?id=16-6UFcqgU0-W9klcK7FYy16fCgisJkZe&confirm=t\n",
            "To: /content/ecoli_10K_err_2.fastq.gz\n",
            "100%|██████████| 2.39M/2.39M [00:00<00:00, 13.6MB/s]\n"
          ]
        }
      ]
    },
    {
      "cell_type": "markdown",
      "source": [
        "***data***"
      ],
      "metadata": {
        "id": "R9JQmkSm3ghZ"
      }
    },
    {
      "cell_type": "code",
      "source": [
        "download_from_disk('1r515oecmkzm-rER4HqqbWBZMAXT5ZzhS')"
      ],
      "metadata": {
        "colab": {
          "base_uri": "https://localhost:8080/"
        },
        "id": "tphWJ2ja3jUz",
        "outputId": "e51fbb86-8708-4a77-84bb-4d1396bd959e"
      },
      "execution_count": null,
      "outputs": [
        {
          "output_type": "stream",
          "name": "stderr",
          "text": [
            "Downloading...\n",
            "From: https://drive.google.com/uc?id=1r515oecmkzm-rER4HqqbWBZMAXT5ZzhS&confirm=t\n",
            "To: /content/MG1655-K12.first400K.fasta\n",
            "100%|██████████| 406k/406k [00:00<00:00, 3.42MB/s]\n"
          ]
        }
      ]
    },
    {
      "cell_type": "code",
      "source": [
        "download_from_disk('1v7do6Sx0Sgsf6su0eFxEAdE8F4gak5Eh')"
      ],
      "metadata": {
        "colab": {
          "base_uri": "https://localhost:8080/"
        },
        "id": "sFNZu6XC3j1N",
        "outputId": "02f0dada-72f7-4efc-ffcd-6288f2967292"
      },
      "execution_count": null,
      "outputs": [
        {
          "output_type": "stream",
          "name": "stderr",
          "text": [
            "Downloading...\n",
            "From: https://drive.google.com/uc?id=1v7do6Sx0Sgsf6su0eFxEAdE8F4gak5Eh&confirm=t\n",
            "To: /content/ecoli_400K_err_1.fastq.gz\n",
            "100%|██████████| 118M/118M [00:01<00:00, 62.6MB/s]\n"
          ]
        }
      ]
    },
    {
      "cell_type": "code",
      "source": [
        "download_from_disk('1SHHnTRt7LCvrhMJ16lYZoX9yZdiCA5MG')"
      ],
      "metadata": {
        "colab": {
          "base_uri": "https://localhost:8080/"
        },
        "id": "E5E7D2ij3j3z",
        "outputId": "e137cf34-fa48-4e7c-e381-e1eb6a87c79d"
      },
      "execution_count": null,
      "outputs": [
        {
          "output_type": "stream",
          "name": "stdout",
          "text": [
            "Access denied with the following error:\n"
          ]
        },
        {
          "output_type": "stream",
          "name": "stderr",
          "text": [
            "\n",
            " \tCannot retrieve the public link of the file. You may need to change\n",
            "\tthe permission to 'Anyone with the link', or have had many accesses. \n",
            "\n",
            "You may still be able to access the file from the browser:\n",
            "\n",
            "\t https://drive.google.com/uc?id=1SHHnTRt7LCvrhMJ16lYZoX9yZdiCA5MG&confirm=t \n",
            "\n"
          ]
        }
      ]
    },
    {
      "cell_type": "markdown",
      "source": [
        "# Установка программ"
      ],
      "metadata": {
        "id": "fKIVjJX6JzWe"
      }
    },
    {
      "cell_type": "code",
      "source": [
        "!pip install -q condacolab"
      ],
      "metadata": {
        "id": "reCR_GUpFFRr"
      },
      "execution_count": null,
      "outputs": []
    },
    {
      "cell_type": "code",
      "source": [
        "import condacolab"
      ],
      "metadata": {
        "id": "jQ1Oqzb9BXoG"
      },
      "execution_count": null,
      "outputs": []
    },
    {
      "cell_type": "code",
      "source": [
        "condacolab.install()"
      ],
      "metadata": {
        "colab": {
          "base_uri": "https://localhost:8080/"
        },
        "id": "q5FUOHCgBZWp",
        "outputId": "b6aa09ea-a3d9-4853-d57b-5c579e071245"
      },
      "execution_count": null,
      "outputs": [
        {
          "output_type": "stream",
          "name": "stdout",
          "text": [
            "✨🍰✨ Everything looks OK!\n"
          ]
        }
      ]
    },
    {
      "cell_type": "code",
      "source": [
        "!conda install -c bioconda minimap2"
      ],
      "metadata": {
        "colab": {
          "base_uri": "https://localhost:8080/"
        },
        "id": "CKXx4JtpCKy2",
        "outputId": "cf9f3bb7-f8bd-47a3-c220-8366fb8ec4ad"
      },
      "execution_count": null,
      "outputs": [
        {
          "output_type": "stream",
          "name": "stdout",
          "text": [
            "Collecting package metadata (current_repodata.json): - \b\b\\ \b\b| \b\b/ \b\b- \b\b\\ \b\b| \b\b/ \b\b- \b\b\\ \b\b| \b\b/ \b\b- \b\b\\ \b\b| \b\b/ \b\b- \b\bdone\n",
            "Solving environment: | \b\b/ \b\b- \b\b\\ \b\b| \b\b/ \b\b- \b\b\\ \b\b| \b\b/ \b\bdone\n",
            "\n",
            "# All requested packages already installed.\n",
            "\n"
          ]
        }
      ]
    },
    {
      "cell_type": "code",
      "execution_count": null,
      "metadata": {
        "colab": {
          "base_uri": "https://localhost:8080/"
        },
        "id": "TmfLUUEEVgij",
        "outputId": "10c08d8d-563b-4811-9ae9-faee134d1aa8"
      },
      "outputs": [
        {
          "output_type": "stream",
          "name": "stdout",
          "text": [
            "Collecting package metadata (current_repodata.json): - \b\b\\ \b\b| \b\b/ \b\b- \b\b\\ \b\b| \b\b/ \b\b- \b\b\\ \b\b| \b\b/ \b\b- \b\b\\ \b\b| \b\b/ \b\b- \b\bdone\n",
            "Solving environment: | \b\b/ \b\b- \b\b\\ \b\b| \b\b/ \b\b- \b\b\\ \b\b| \b\b/ \b\b- \b\b\\ \b\bdone\n",
            "\n",
            "# All requested packages already installed.\n",
            "\n"
          ]
        }
      ],
      "source": [
        "!conda install -c bioconda bwa"
      ]
    },
    {
      "cell_type": "code",
      "execution_count": null,
      "metadata": {
        "colab": {
          "base_uri": "https://localhost:8080/"
        },
        "id": "ALt4efsPVgqH",
        "outputId": "c049b9dc-e6f2-4a85-fa49-d23b1dd44fe8"
      },
      "outputs": [
        {
          "output_type": "stream",
          "name": "stdout",
          "text": [
            "Collecting package metadata (current_repodata.json): - \b\b\\ \b\b| \b\b/ \b\b- \b\b\\ \b\b| \b\b/ \b\b- \b\b\\ \b\b| \b\b/ \b\b- \b\b\\ \b\b| \b\b/ \b\b- \b\bdone\n",
            "Solving environment: | \b\b/ \b\b- \b\b\\ \b\b| \b\b/ \b\b- \b\b\\ \b\b| \b\b/ \b\b- \b\b\\ \b\b| \b\b/ \b\b- \b\bdone\n",
            "\n",
            "# All requested packages already installed.\n",
            "\n"
          ]
        }
      ],
      "source": [
        "!conda install -c bioconda samtools"
      ]
    },
    {
      "cell_type": "code",
      "execution_count": null,
      "metadata": {
        "colab": {
          "base_uri": "https://localhost:8080/"
        },
        "id": "17-iVMX-VamA",
        "outputId": "dfd3a895-0ae6-4c0d-b130-81ac14513e6d"
      },
      "outputs": [
        {
          "output_type": "stream",
          "name": "stdout",
          "text": [
            "Reading package lists... Done\n",
            "Building dependency tree       \n",
            "Reading state information... Done\n",
            "bowtie2 is already the newest version (2.3.4.1-1).\n",
            "samtools is already the newest version (1.7-1).\n",
            "0 upgraded, 0 newly installed, 0 to remove and 39 not upgraded.\n"
          ]
        }
      ],
      "source": [
        "!apt-get install bowtie2 samtools"
      ]
    },
    {
      "cell_type": "code",
      "execution_count": null,
      "metadata": {
        "colab": {
          "base_uri": "https://localhost:8080/"
        },
        "id": "0YpVElyqbBin",
        "outputId": "6c85db80-d5f9-4d6e-bcfa-c6ca651a1bec"
      },
      "outputs": [
        {
          "output_type": "stream",
          "name": "stdout",
          "text": [
            "Collecting package metadata (current_repodata.json): - \b\b\\ \b\b| \b\b/ \b\b- \b\b\\ \b\b| \b\b/ \b\b- \b\b\\ \b\b| \b\b/ \b\b- \b\b\\ \b\b| \b\b/ \b\b- \b\b\\ \b\b| \b\bdone\n",
            "Solving environment: - \b\b\\ \b\b| \b\b/ \b\b- \b\b\\ \b\b| \b\b/ \b\b- \b\b\\ \b\b| \b\b/ \b\bdone\n",
            "\n",
            "# All requested packages already installed.\n",
            "\n"
          ]
        }
      ],
      "source": [
        "!conda install -c bioconda bowtie2"
      ]
    },
    {
      "cell_type": "code",
      "source": [
        "!conda install -c bioconda spades"
      ],
      "metadata": {
        "colab": {
          "base_uri": "https://localhost:8080/"
        },
        "id": "vb7_LI_F-D4p",
        "outputId": "3aaadf61-7ba8-4527-a5f5-11be0564a5d1"
      },
      "execution_count": null,
      "outputs": [
        {
          "output_type": "stream",
          "name": "stdout",
          "text": [
            "Collecting package metadata (current_repodata.json): - \b\b\\ \b\b| \b\b/ \b\b- \b\b\\ \b\b| \b\b/ \b\b- \b\b\\ \b\b| \b\b/ \b\b- \b\b\\ \b\b| \b\b/ \b\b- \b\b\\ \b\bdone\n",
            "Solving environment: / \b\b- \b\b\\ \b\b| \b\b/ \b\b- \b\b\\ \b\b| \b\b/ \b\b- \b\b\\ \b\bdone\n",
            "\n",
            "# All requested packages already installed.\n",
            "\n"
          ]
        }
      ]
    },
    {
      "cell_type": "markdown",
      "source": [
        "# Test"
      ],
      "metadata": {
        "id": "DGxLWVmcj8dL"
      }
    },
    {
      "cell_type": "code",
      "source": [
        "!spades.py --only-error-correction -1 ecoli_10K_err_1.fastq.gz -2 ecoli_10K_err_2.fastq.gz -o spades_output"
      ],
      "metadata": {
        "colab": {
          "base_uri": "https://localhost:8080/"
        },
        "id": "7K2-4thU7NxK",
        "outputId": "9716ba9c-6274-4cb9-c2e0-15c1347f4fe3"
      },
      "execution_count": null,
      "outputs": [
        {
          "output_type": "stream",
          "name": "stdout",
          "text": [
            "Command line: /usr/local/bin/spades.py\t--only-error-correction\t-1\t/content/ecoli_10K_err_1.fastq.gz\t-2\t/content/ecoli_10K_err_2.fastq.gz\t-o\t/content/spades_output\t\n",
            "\n",
            "System information:\n",
            "  SPAdes version: 3.13.0\n",
            "  Python version: 3.7.10\n",
            "  OS: Linux-5.4.144+-x86_64-with-debian-buster-sid\n",
            "\n",
            "Output dir: /content/spades_output\n",
            "Mode: ONLY read error correction (without assembling)\n",
            "Debug mode is turned OFF\n",
            "\n",
            "Dataset parameters:\n",
            "  Multi-cell mode (you should set '--sc' flag if input data was obtained with MDA (single-cell) technology or --meta flag if processing metagenomic dataset)\n",
            "  Reads:\n",
            "    Library number: 1, library type: paired-end\n",
            "      orientation: fr\n",
            "      left reads: ['/content/ecoli_10K_err_1.fastq.gz']\n",
            "      right reads: ['/content/ecoli_10K_err_2.fastq.gz']\n",
            "      interlaced reads: not specified\n",
            "      single reads: not specified\n",
            "      merged reads: not specified\n",
            "Read error correction parameters:\n",
            "  Iterations: 1\n",
            "  PHRED offset will be auto-detected\n",
            "  Corrected reads will be compressed\n",
            "Other parameters:\n",
            "  Dir for temp files: /content/spades_output/tmp\n",
            "  Threads: 16\n",
            "  Memory limit (in Gb): 12\n",
            "\n",
            "\n",
            "======= SPAdes pipeline started. Log can be found here: /content/spades_output/spades.log\n",
            "\n",
            "\n",
            "===== Read error correction started. \n",
            "\n",
            "\n",
            "== Running read error correction tool: /usr/local/share/spades-3.13.0-0/bin/spades-hammer /content/spades_output/corrected/configs/config.info\n",
            "\n",
            "  0:00:00.000     4M / 4M    INFO    General                 (main.cpp                  :  75)   Starting BayesHammer, built from refs/heads/spades_3.13.0, git revision 8ea46659e9b2aca35444a808db550ac333006f8b\n",
            "  0:00:00.000     4M / 4M    INFO    General                 (main.cpp                  :  76)   Loading config from /content/spades_output/corrected/configs/config.info\n",
            "  0:00:00.001     4M / 4M    INFO    General                 (main.cpp                  :  78)   Maximum # of threads to use (adjusted due to OMP capabilities): 2\n",
            "  0:00:00.001     4M / 4M    INFO    General                 (memory_limit.cpp          :  49)   Memory limit set to 12 Gb\n",
            "  0:00:00.001     4M / 4M    INFO    General                 (main.cpp                  :  86)   Trying to determine PHRED offset\n",
            "  0:00:00.001     4M / 4M    INFO    General                 (main.cpp                  :  92)   Determined value is 33\n",
            "  0:00:00.001     4M / 4M    INFO    General                 (hammer_tools.cpp          :  36)   Hamming graph threshold tau=1, k=21, subkmer positions = [ 0 10 ]\n",
            "  0:00:00.001     4M / 4M    INFO    General                 (main.cpp                  : 113)   Size of aux. kmer data 24 bytes\n",
            "     === ITERATION 0 begins ===\n",
            "  0:00:00.001     4M / 4M    INFO   K-mer Index Building     (kmer_index_builder.hpp    : 301)   Building kmer index\n",
            "  0:00:00.001     4M / 4M    INFO    General                 (kmer_index_builder.hpp    : 117)   Splitting kmer instances into 32 files using 2 threads. This might take a while.\n",
            "  0:00:00.001     4M / 4M    INFO    General                 (file_limit.hpp            :  32)   Open file limit set to 1048576\n",
            "  0:00:00.001     4M / 4M    INFO    General                 (kmer_splitters.hpp        :  89)   Memory available for splitting buffers: 1.99935 Gb\n",
            "  0:00:00.001     4M / 4M    INFO    General                 (kmer_splitters.hpp        :  97)   Using cell size of 2097152\n",
            "  0:00:00.001     1G / 1G    INFO   K-mer Splitting          (kmer_data.cpp             :  97)   Processing /content/ecoli_10K_err_1.fastq.gz\n",
            "  0:00:00.804     1G / 1G    INFO   K-mer Splitting          (kmer_data.cpp             :  97)   Processing /content/ecoli_10K_err_2.fastq.gz\n",
            "  0:00:01.580     1G / 1G    INFO   K-mer Splitting          (kmer_data.cpp             : 107)   Processed 59278 reads\n",
            "  0:00:01.581     1G / 1G    INFO   K-mer Splitting          (kmer_data.cpp             : 112)   Total 59278 reads processed\n",
            "  0:00:01.583     8M / 1G    INFO    General                 (kmer_index_builder.hpp    : 120)   Starting k-mer counting.\n",
            "  0:00:01.611     8M / 1G    INFO    General                 (kmer_index_builder.hpp    : 127)   K-mer counting done. There are 318944 kmers in total.\n",
            "  0:00:01.611     8M / 1G    INFO    General                 (kmer_index_builder.hpp    : 133)   Merging temporary buckets.\n",
            "  0:00:01.616     8M / 1G    INFO   K-mer Index Building     (kmer_index_builder.hpp    : 314)   Building perfect hash indices\n",
            "  0:00:01.686     8M / 1G    INFO    General                 (kmer_index_builder.hpp    : 150)   Merging final buckets.\n",
            "  0:00:01.691     8M / 1G    INFO   K-mer Index Building     (kmer_index_builder.hpp    : 336)   Index built. Total 156336 bytes occupied (3.92134 bits per kmer).\n",
            "  0:00:01.692     8M / 1G    INFO   K-mer Counting           (kmer_data.cpp             : 356)   Arranging kmers in hash map order\n",
            "  0:00:01.723    12M / 1G    INFO    General                 (main.cpp                  : 148)   Clustering Hamming graph.\n",
            "  0:00:02.704    12M / 1G    INFO    General                 (main.cpp                  : 155)   Extracting clusters\n",
            "  0:00:02.757    12M / 1G    INFO    General                 (main.cpp                  : 167)   Clustering done. Total clusters: 55766\n",
            "  0:00:02.757     8M / 1G    INFO   K-mer Counting           (kmer_data.cpp             : 376)   Collecting K-mer information, this takes a while.\n",
            "  0:00:02.761    16M / 1G    INFO   K-mer Counting           (kmer_data.cpp             : 382)   Processing /content/ecoli_10K_err_1.fastq.gz\n",
            "  0:00:05.489    16M / 1G    INFO   K-mer Counting           (kmer_data.cpp             : 382)   Processing /content/ecoli_10K_err_2.fastq.gz\n",
            "  0:00:08.110    16M / 1G    INFO   K-mer Counting           (kmer_data.cpp             : 389)   Collection done, postprocessing.\n",
            "  0:00:08.112    16M / 1G    INFO   K-mer Counting           (kmer_data.cpp             : 403)   There are 318944 kmers in total. Among them 235964 (73.9829%) are singletons.\n",
            "  0:00:08.112    16M / 1G    INFO    General                 (main.cpp                  : 173)   Subclustering Hamming graph\n",
            "  0:00:08.425    16M / 1G    INFO   Hamming Subclustering    (kmer_cluster.cpp          : 649)   Subclustering done. Total 0 non-read kmers were generated.\n",
            "  0:00:08.425    16M / 1G    INFO   Hamming Subclustering    (kmer_cluster.cpp          : 650)   Subclustering statistics:\n",
            "  0:00:08.425    16M / 1G    INFO   Hamming Subclustering    (kmer_cluster.cpp          : 651)     Total singleton hamming clusters: 35666. Among them 64 (0.179443%) are good\n",
            "  0:00:08.425    16M / 1G    INFO   Hamming Subclustering    (kmer_cluster.cpp          : 652)     Total singleton subclusters: 120. Among them 120 (100%) are good\n",
            "  0:00:08.425    16M / 1G    INFO   Hamming Subclustering    (kmer_cluster.cpp          : 653)     Total non-singleton subcluster centers: 21147. Among them 20696 (97.8673%) are good\n",
            "  0:00:08.425    16M / 1G    INFO   Hamming Subclustering    (kmer_cluster.cpp          : 654)     Average size of non-trivial subcluster: 13.3957 kmers\n",
            "  0:00:08.425    16M / 1G    INFO   Hamming Subclustering    (kmer_cluster.cpp          : 655)     Average number of sub-clusters per non-singleton cluster: 1.05806\n",
            "  0:00:08.425    16M / 1G    INFO   Hamming Subclustering    (kmer_cluster.cpp          : 656)     Total solid k-mers: 20880\n",
            "  0:00:08.425    16M / 1G    INFO   Hamming Subclustering    (kmer_cluster.cpp          : 657)     Substitution probabilities: [4,4]((0.925229,0.0425029,0.0243006,0.00796784),(0.0159228,0.960759,0.0124884,0.0108302),(0.0108104,0.0124639,0.960776,0.0159498),(0.00795598,0.0242883,0.0424732,0.925282))\n",
            "  0:00:08.425    16M / 1G    INFO    General                 (main.cpp                  : 178)   Finished clustering.\n",
            "  0:00:08.425    16M / 1G    INFO    General                 (main.cpp                  : 197)   Starting solid k-mers expansion in 2 threads.\n",
            "  0:00:09.537    16M / 1G    INFO    General                 (main.cpp                  : 218)   Solid k-mers iteration 0 produced 717 new k-mers.\n",
            "  0:00:10.637    16M / 1G    INFO    General                 (main.cpp                  : 218)   Solid k-mers iteration 1 produced 13 new k-mers.\n",
            "  0:00:11.749    16M / 1G    INFO    General                 (main.cpp                  : 218)   Solid k-mers iteration 2 produced 0 new k-mers.\n",
            "  0:00:11.750    16M / 1G    INFO    General                 (main.cpp                  : 222)   Solid k-mers finalized\n",
            "  0:00:11.750    16M / 1G    INFO    General                 (hammer_tools.cpp          : 220)   Starting read correction in 2 threads.\n",
            "  0:00:11.750    16M / 1G    INFO    General                 (hammer_tools.cpp          : 233)   Correcting pair of reads: /content/ecoli_10K_err_1.fastq.gz and /content/ecoli_10K_err_2.fastq.gz\n",
            "  0:00:11.988    52M / 1G    INFO    General                 (hammer_tools.cpp          : 168)   Prepared batch 0 of 29639 reads.\n",
            "  0:00:12.571    52M / 1G    INFO    General                 (hammer_tools.cpp          : 175)   Processed batch 0\n",
            "  0:00:12.648    52M / 1G    INFO    General                 (hammer_tools.cpp          : 185)   Written batch 0\n",
            "  0:00:12.669    16M / 1G    INFO    General                 (hammer_tools.cpp          : 274)   Correction done. Changed 19891 bases in 14429 reads.\n",
            "  0:00:12.670    16M / 1G    INFO    General                 (hammer_tools.cpp          : 275)   Failed to correct 565 bases out of 5305818.\n",
            "  0:00:12.670     8M / 1G    INFO    General                 (main.cpp                  : 255)   Saving corrected dataset description to /content/spades_output/corrected/corrected.yaml\n",
            "  0:00:12.671     8M / 1G    INFO    General                 (main.cpp                  : 262)   All done. Exiting.\n",
            "\n",
            "== Compressing corrected reads (with gzip)\n",
            "\n",
            "== Dataset description file was created: /content/spades_output/corrected/corrected.yaml\n",
            "\n",
            "\n",
            "===== Read error correction finished. \n",
            "\n",
            " * Corrected reads are in /content/spades_output/corrected/\n",
            "\n",
            "======= SPAdes pipeline finished.\n",
            "\n",
            "SPAdes log can be found here: /content/spades_output/spades.log\n",
            "\n",
            "Thank you for using SPAdes!\n"
          ]
        }
      ]
    },
    {
      "cell_type": "code",
      "execution_count": null,
      "metadata": {
        "colab": {
          "base_uri": "https://localhost:8080/"
        },
        "id": "nousKZ58bjJc",
        "outputId": "9c5f79f5-27d1-4021-f23a-196f7d78dcde"
      },
      "outputs": [
        {
          "output_type": "stream",
          "name": "stdout",
          "text": [
            "[bwa_index] Pack FASTA... 0.00 sec\n",
            "[bwa_index] Construct BWT for the packed sequence...\n",
            "[bwa_index] 0.00 seconds elapse.\n",
            "[bwa_index] Update BWT... 0.00 sec\n",
            "[bwa_index] Pack forward-only FASTA... 0.00 sec\n",
            "[bwa_index] Construct SA from BWT and Occ... 0.00 sec\n",
            "[main] Version: 0.7.17-r1188\n",
            "[main] CMD: bwa index MG1655-K12.first10K.fasta\n",
            "[main] Real time: 0.035 sec; CPU: 0.017 sec\n"
          ]
        }
      ],
      "source": [
        "!bwa index MG1655-K12.first10K.fasta "
      ]
    },
    {
      "cell_type": "markdown",
      "source": [
        "## Выравнивание исправленных ридов\n",
        "\n"
      ],
      "metadata": {
        "id": "0GrH76pkEGms"
      }
    },
    {
      "cell_type": "code",
      "execution_count": null,
      "metadata": {
        "id": "VdQsgAutcAVE",
        "colab": {
          "base_uri": "https://localhost:8080/"
        },
        "outputId": "a541b003-2e9d-4a0b-edac-19deb690fda0"
      },
      "outputs": [
        {
          "output_type": "stream",
          "name": "stdout",
          "text": [
            "[M::bwa_idx_load_from_disk] read 0 ALT contigs\n",
            "[M::process] read 57986 sequences (5798600 bp)...\n",
            "[M::mem_pestat] # candidate unique pairs for (FF, FR, RF, RR): (0, 28895, 0, 0)\n",
            "[M::mem_pestat] skip orientation FF as there are not enough pairs\n",
            "[M::mem_pestat] analyzing insert size distribution for orientation FR...\n",
            "[M::mem_pestat] (25, 50, 75) percentile: (207, 214, 222)\n",
            "[M::mem_pestat] low and high boundaries for computing mean and std.dev: (177, 252)\n",
            "[M::mem_pestat] mean and std.dev: (214.39, 10.18)\n",
            "[M::mem_pestat] low and high boundaries for proper pairs: (162, 267)\n",
            "[M::mem_pestat] skip orientation RF as there are not enough pairs\n",
            "[M::mem_pestat] skip orientation RR as there are not enough pairs\n",
            "[M::mem_process_seqs] Processed 57986 reads in 1.296 CPU sec, 1.312 real sec\n",
            "[main] Version: 0.7.17-r1188\n",
            "[main] CMD: bwa mem MG1655-K12.first10K.fasta spades_output/corrected/ecoli_10K_err_1.fastq.00.0_0.cor.fastq spades_output/corrected/ecoli_10K_err_2.fastq.00.0_0.cor.fastq.gz\n",
            "[main] Real time: 1.669 sec; CPU: 1.523 sec\n"
          ]
        }
      ],
      "source": [
        "!bwa mem MG1655-K12.first10K.fasta  spades_output/corrected/ecoli_10K_err_1.fastq.00.0_0.cor.fastq.gz spades_output/corrected/ecoli_10K_err_2.fastq.00.0_0.cor.fastq.gz > test_corr_alignment.sam"
      ]
    },
    {
      "cell_type": "code",
      "execution_count": null,
      "metadata": {
        "id": "sD0D8STkWryg"
      },
      "outputs": [],
      "source": [
        "!samtools view -bS -o test_corr_alignment.bam test_corr_alignment.sam"
      ]
    },
    {
      "cell_type": "code",
      "execution_count": null,
      "metadata": {
        "id": "VBTGwg3VWr8A"
      },
      "outputs": [],
      "source": [
        "!samtools sort -o test_corr_alignment_sorted.bam test_corr_alignment.bam"
      ]
    },
    {
      "cell_type": "code",
      "execution_count": null,
      "metadata": {
        "id": "tXe_mEIMWm-M"
      },
      "outputs": [],
      "source": [
        "!samtools index -b test_corr_alignment_sorted.bam test_corr_alignment.bai"
      ]
    },
    {
      "cell_type": "code",
      "execution_count": null,
      "metadata": {
        "colab": {
          "base_uri": "https://localhost:8080/"
        },
        "id": "AKCufHlAWnBK",
        "outputId": "e37c1f40-c0d7-400e-ce8e-4a03cf3d475c"
      },
      "outputs": [
        {
          "output_type": "stream",
          "name": "stdout",
          "text": [
            "57986 + 0 in total (QC-passed reads + QC-failed reads)\n",
            "0 + 0 secondary\n",
            "0 + 0 supplementary\n",
            "0 + 0 duplicates\n",
            "57984 + 0 mapped (100.00% : N/A)\n",
            "57986 + 0 paired in sequencing\n",
            "28993 + 0 read1\n",
            "28993 + 0 read2\n",
            "57952 + 0 properly paired (99.94% : N/A)\n",
            "57982 + 0 with itself and mate mapped\n",
            "2 + 0 singletons (0.00% : N/A)\n",
            "0 + 0 with mate mapped to a different chr\n",
            "0 + 0 with mate mapped to a different chr (mapQ>=5)\n"
          ]
        }
      ],
      "source": [
        "!samtools flagstat test_corr_alignment_sorted.bam"
      ]
    },
    {
      "cell_type": "markdown",
      "source": [
        "## Выравнивание исходных ридов\n"
      ],
      "metadata": {
        "id": "D_fFItMlEP6h"
      }
    },
    {
      "cell_type": "code",
      "execution_count": null,
      "metadata": {
        "colab": {
          "base_uri": "https://localhost:8080/"
        },
        "id": "End5bCYwDWCC",
        "outputId": "8c40c991-45a4-45a3-dc0d-b2dbf9b0c05f"
      },
      "outputs": [
        {
          "output_type": "stream",
          "name": "stdout",
          "text": [
            "[M::bwa_idx_load_from_disk] read 0 ALT contigs\n",
            "[M::process] read 59278 sequences (5927800 bp)...\n",
            "[M::mem_pestat] # candidate unique pairs for (FF, FR, RF, RR): (0, 29468, 0, 0)\n",
            "[M::mem_pestat] skip orientation FF as there are not enough pairs\n",
            "[M::mem_pestat] analyzing insert size distribution for orientation FR...\n",
            "[M::mem_pestat] (25, 50, 75) percentile: (207, 214, 222)\n",
            "[M::mem_pestat] low and high boundaries for computing mean and std.dev: (177, 252)\n",
            "[M::mem_pestat] mean and std.dev: (214.40, 10.18)\n",
            "[M::mem_pestat] low and high boundaries for proper pairs: (162, 267)\n",
            "[M::mem_pestat] skip orientation RF as there are not enough pairs\n",
            "[M::mem_pestat] skip orientation RR as there are not enough pairs\n",
            "[M::mem_process_seqs] Processed 59278 reads in 1.751 CPU sec, 1.761 real sec\n",
            "[main] Version: 0.7.17-r1188\n",
            "[main] CMD: bwa mem MG1655-K12.first10K.fasta ecoli_10K_err_1.fastq.gz ecoli_10K_err_2.fastq.gz\n",
            "[main] Real time: 2.077 sec; CPU: 1.970 sec\n"
          ]
        }
      ],
      "source": [
        "!bwa mem MG1655-K12.first10K.fasta ecoli_10K_err_1.fastq.gz ecoli_10K_err_2.fastq.gz > test_alignment.sam"
      ]
    },
    {
      "cell_type": "code",
      "execution_count": null,
      "metadata": {
        "id": "weF8ebtZDWCC"
      },
      "outputs": [],
      "source": [
        "!samtools view -bS -o test_alignment.bam test_alignment.sam"
      ]
    },
    {
      "cell_type": "code",
      "execution_count": null,
      "metadata": {
        "id": "Adblwra_DWCC"
      },
      "outputs": [],
      "source": [
        "!samtools sort -o test_alignment_sorted.bam test_alignment.bam"
      ]
    },
    {
      "cell_type": "code",
      "execution_count": null,
      "metadata": {
        "id": "W_5oNKwQDWCD"
      },
      "outputs": [],
      "source": [
        "!samtools index -b test_alignment_sorted.bam test_alignment.bai"
      ]
    },
    {
      "cell_type": "code",
      "execution_count": null,
      "metadata": {
        "colab": {
          "base_uri": "https://localhost:8080/"
        },
        "outputId": "f343b603-9c5c-4b05-f1e9-23ce9b8c19ce",
        "id": "NMr8VYPPDWCD"
      },
      "outputs": [
        {
          "output_type": "stream",
          "name": "stdout",
          "text": [
            "59278 + 0 in total (QC-passed reads + QC-failed reads)\n",
            "0 + 0 secondary\n",
            "0 + 0 supplementary\n",
            "0 + 0 duplicates\n",
            "59261 + 0 mapped (99.97% : N/A)\n",
            "59278 + 0 paired in sequencing\n",
            "29639 + 0 read1\n",
            "29639 + 0 read2\n",
            "59216 + 0 properly paired (99.90% : N/A)\n",
            "59246 + 0 with itself and mate mapped\n",
            "15 + 0 singletons (0.03% : N/A)\n",
            "0 + 0 with mate mapped to a different chr\n",
            "0 + 0 with mate mapped to a different chr (mapQ>=5)\n"
          ]
        }
      ],
      "source": [
        "!samtools flagstat test_alignment_sorted.bam"
      ]
    },
    {
      "cell_type": "markdown",
      "source": [
        "## Подсчёт замен"
      ],
      "metadata": {
        "id": "9s2pLe2Ay2Bt"
      }
    },
    {
      "cell_type": "code",
      "source": [
        "test = pysam.AlignmentFile('test_alignment.sam', \"r\")\n",
        "pairs = []\n",
        "for read in test.fetch():\n",
        "    if not read.is_unmapped:\n",
        "        ref = read.get_reference_sequence()\n",
        "            \n",
        "        for read_nucleotide_idx, n, ref_nucleotide in read.get_aligned_pairs(matches_only=True, with_seq=True):\n",
        "                read_nucleotide = read.query[read_nucleotide_idx - read.query_alignment_start].upper()\n",
        "                if read_nucleotide.upper() != ref_nucleotide.upper():\n",
        "                    pairs.append([read_nucleotide.upper(), ref_nucleotide.upper(), n])"
      ],
      "metadata": {
        "id": "KX-_6rj2H9Sk"
      },
      "execution_count": null,
      "outputs": []
    },
    {
      "cell_type": "code",
      "source": [
        "pos = np.array(pairs)[:, 2]\n",
        "pos"
      ],
      "metadata": {
        "colab": {
          "base_uri": "https://localhost:8080/"
        },
        "id": "2Cjt4joxZcj1",
        "outputId": "58d895fe-85f4-4dae-ee4a-67a39fe18d49"
      },
      "execution_count": null,
      "outputs": [
        {
          "output_type": "execute_result",
          "data": {
            "text/plain": [
              "array(['8786', '347', '2316', ..., '1375', '1377', '3083'], dtype='<U21')"
            ]
          },
          "metadata": {},
          "execution_count": 62
        }
      ]
    },
    {
      "cell_type": "code",
      "source": [
        "test = pysam.AlignmentFile('test_corr_alignment.sam', \"r\")\n",
        "corr_pairs = []\n",
        "for read in test.fetch():\n",
        "    if not read.is_unmapped:\n",
        "        ref = read.get_reference_sequence()\n",
        "            \n",
        "        for read_nucleotide_idx, n, ref_nucleotide in read.get_aligned_pairs(matches_only=True, with_seq=True):\n",
        "                read_nucleotide = read.query[read_nucleotide_idx - read.query_alignment_start].upper()\n",
        "                if read_nucleotide.upper() != ref_nucleotide.upper():\n",
        "                    corr_pairs.append([read_nucleotide.upper(), ref_nucleotide.upper(), n])"
      ],
      "metadata": {
        "id": "Del1QM80U8uJ"
      },
      "execution_count": null,
      "outputs": []
    },
    {
      "cell_type": "code",
      "source": [
        "def lenth(file):\n",
        "  with open(file, 'r') as f:\n",
        "    lines = [line.strip() for line in f]\n",
        "    l = 0\n",
        "    for i in range(2, len(lines)):\n",
        "      a = lines[i].split('\\t')\n",
        "      l += len(a)\n",
        "  return l"
      ],
      "metadata": {
        "id": "oEkeEM7QdYQ7"
      },
      "execution_count": null,
      "outputs": []
    },
    {
      "cell_type": "code",
      "source": [
        "lenth('test_alignment.sam')"
      ],
      "metadata": {
        "colab": {
          "base_uri": "https://localhost:8080/"
        },
        "id": "yYgZkH8bf9eg",
        "outputId": "0985a83b-3f59-412c-8826-0ba639686758"
      },
      "execution_count": null,
      "outputs": [
        {
          "output_type": "execute_result",
          "data": {
            "text/plain": [
              "948397"
            ]
          },
          "metadata": {},
          "execution_count": 86
        }
      ]
    },
    {
      "cell_type": "code",
      "source": [
        "j = 0\n",
        "tpn = 0\n",
        "fpn = 0\n",
        "fp = 0\n",
        "fn = 0\n",
        "tp = 0\n",
        "tn = 0\n",
        "for i in range(len(corr_pos)):\n",
        "  if corr_pos[i] in pos:\n",
        "    j += 1\n",
        "    if corr_pairs[i][0] == 'N':\n",
        "      tpn += 1\n",
        "    else:\n",
        "      fn += 1\n",
        "  elif corr_pairs[i][0] == 'N':\n",
        "    fpn += 1\n",
        "  else:\n",
        "    fp += 1\n",
        "tp = len(pos) - j\n",
        "tn = int((lenth('test_alignment.sam') + lenth('test_corr_alignment.sam') -  fn  - tp) / 2)\n",
        "\n",
        "\n"
      ],
      "metadata": {
        "id": "KYJFo6XYY7JL"
      },
      "execution_count": null,
      "outputs": []
    },
    {
      "cell_type": "code",
      "source": [
        "data = {'Error in corrected reads':[fn, fp],\n",
        "        \n",
        "        'Correct base in corrected reads':[tp, tn],\n",
        "        \n",
        "        'Base is absent in corrected reads':[tpn, fpn]}\n",
        "\n",
        "df = pd.DataFrame(data, index =['Error in raw data', 'Correct base in raw data'])\n",
        "df"
      ],
      "metadata": {
        "colab": {
          "base_uri": "https://localhost:8080/",
          "height": 112
        },
        "id": "XamWP1vEa4DI",
        "outputId": "749bae6f-5899-4e8a-8d9c-eac3308599ef"
      },
      "execution_count": null,
      "outputs": [
        {
          "output_type": "execute_result",
          "data": {
            "text/plain": [
              "                          Error in corrected reads  \\\n",
              "Error in raw data                             2875   \n",
              "Correct base in raw data                         1   \n",
              "\n",
              "                          Correct base in corrected reads  \\\n",
              "Error in raw data                                   43792   \n",
              "Correct base in raw data                           914750   \n",
              "\n",
              "                          Base is absent in corrected reads  \n",
              "Error in raw data                                      8685  \n",
              "Correct base in raw data                                556  "
            ],
            "text/html": [
              "\n",
              "  <div id=\"df-10555f3d-0fb9-45b3-b732-0969e8abfe50\">\n",
              "    <div class=\"colab-df-container\">\n",
              "      <div>\n",
              "<style scoped>\n",
              "    .dataframe tbody tr th:only-of-type {\n",
              "        vertical-align: middle;\n",
              "    }\n",
              "\n",
              "    .dataframe tbody tr th {\n",
              "        vertical-align: top;\n",
              "    }\n",
              "\n",
              "    .dataframe thead th {\n",
              "        text-align: right;\n",
              "    }\n",
              "</style>\n",
              "<table border=\"1\" class=\"dataframe\">\n",
              "  <thead>\n",
              "    <tr style=\"text-align: right;\">\n",
              "      <th></th>\n",
              "      <th>Error in corrected reads</th>\n",
              "      <th>Correct base in corrected reads</th>\n",
              "      <th>Base is absent in corrected reads</th>\n",
              "    </tr>\n",
              "  </thead>\n",
              "  <tbody>\n",
              "    <tr>\n",
              "      <th>Error in raw data</th>\n",
              "      <td>2875</td>\n",
              "      <td>43792</td>\n",
              "      <td>8685</td>\n",
              "    </tr>\n",
              "    <tr>\n",
              "      <th>Correct base in raw data</th>\n",
              "      <td>1</td>\n",
              "      <td>914750</td>\n",
              "      <td>556</td>\n",
              "    </tr>\n",
              "  </tbody>\n",
              "</table>\n",
              "</div>\n",
              "      <button class=\"colab-df-convert\" onclick=\"convertToInteractive('df-10555f3d-0fb9-45b3-b732-0969e8abfe50')\"\n",
              "              title=\"Convert this dataframe to an interactive table.\"\n",
              "              style=\"display:none;\">\n",
              "        \n",
              "  <svg xmlns=\"http://www.w3.org/2000/svg\" height=\"24px\"viewBox=\"0 0 24 24\"\n",
              "       width=\"24px\">\n",
              "    <path d=\"M0 0h24v24H0V0z\" fill=\"none\"/>\n",
              "    <path d=\"M18.56 5.44l.94 2.06.94-2.06 2.06-.94-2.06-.94-.94-2.06-.94 2.06-2.06.94zm-11 1L8.5 8.5l.94-2.06 2.06-.94-2.06-.94L8.5 2.5l-.94 2.06-2.06.94zm10 10l.94 2.06.94-2.06 2.06-.94-2.06-.94-.94-2.06-.94 2.06-2.06.94z\"/><path d=\"M17.41 7.96l-1.37-1.37c-.4-.4-.92-.59-1.43-.59-.52 0-1.04.2-1.43.59L10.3 9.45l-7.72 7.72c-.78.78-.78 2.05 0 2.83L4 21.41c.39.39.9.59 1.41.59.51 0 1.02-.2 1.41-.59l7.78-7.78 2.81-2.81c.8-.78.8-2.07 0-2.86zM5.41 20L4 18.59l7.72-7.72 1.47 1.35L5.41 20z\"/>\n",
              "  </svg>\n",
              "      </button>\n",
              "      \n",
              "  <style>\n",
              "    .colab-df-container {\n",
              "      display:flex;\n",
              "      flex-wrap:wrap;\n",
              "      gap: 12px;\n",
              "    }\n",
              "\n",
              "    .colab-df-convert {\n",
              "      background-color: #E8F0FE;\n",
              "      border: none;\n",
              "      border-radius: 50%;\n",
              "      cursor: pointer;\n",
              "      display: none;\n",
              "      fill: #1967D2;\n",
              "      height: 32px;\n",
              "      padding: 0 0 0 0;\n",
              "      width: 32px;\n",
              "    }\n",
              "\n",
              "    .colab-df-convert:hover {\n",
              "      background-color: #E2EBFA;\n",
              "      box-shadow: 0px 1px 2px rgba(60, 64, 67, 0.3), 0px 1px 3px 1px rgba(60, 64, 67, 0.15);\n",
              "      fill: #174EA6;\n",
              "    }\n",
              "\n",
              "    [theme=dark] .colab-df-convert {\n",
              "      background-color: #3B4455;\n",
              "      fill: #D2E3FC;\n",
              "    }\n",
              "\n",
              "    [theme=dark] .colab-df-convert:hover {\n",
              "      background-color: #434B5C;\n",
              "      box-shadow: 0px 1px 3px 1px rgba(0, 0, 0, 0.15);\n",
              "      filter: drop-shadow(0px 1px 2px rgba(0, 0, 0, 0.3));\n",
              "      fill: #FFFFFF;\n",
              "    }\n",
              "  </style>\n",
              "\n",
              "      <script>\n",
              "        const buttonEl =\n",
              "          document.querySelector('#df-10555f3d-0fb9-45b3-b732-0969e8abfe50 button.colab-df-convert');\n",
              "        buttonEl.style.display =\n",
              "          google.colab.kernel.accessAllowed ? 'block' : 'none';\n",
              "\n",
              "        async function convertToInteractive(key) {\n",
              "          const element = document.querySelector('#df-10555f3d-0fb9-45b3-b732-0969e8abfe50');\n",
              "          const dataTable =\n",
              "            await google.colab.kernel.invokeFunction('convertToInteractive',\n",
              "                                                     [key], {});\n",
              "          if (!dataTable) return;\n",
              "\n",
              "          const docLinkHtml = 'Like what you see? Visit the ' +\n",
              "            '<a target=\"_blank\" href=https://colab.research.google.com/notebooks/data_table.ipynb>data table notebook</a>'\n",
              "            + ' to learn more about interactive tables.';\n",
              "          element.innerHTML = '';\n",
              "          dataTable['output_type'] = 'display_data';\n",
              "          await google.colab.output.renderOutput(dataTable, element);\n",
              "          const docLink = document.createElement('div');\n",
              "          docLink.innerHTML = docLinkHtml;\n",
              "          element.appendChild(docLink);\n",
              "        }\n",
              "      </script>\n",
              "    </div>\n",
              "  </div>\n",
              "  "
            ]
          },
          "metadata": {},
          "execution_count": 93
        }
      ]
    },
    {
      "cell_type": "markdown",
      "source": [
        "# Реальные данные"
      ],
      "metadata": {
        "id": "pps0isHvkM8P"
      }
    },
    {
      "cell_type": "code",
      "source": [
        "!spades.py --only-error-correction -1 ecoli_400K_err_1.fastq.gz -2 ecoli_400K_err_2.fastq.gz -o spades_output"
      ],
      "metadata": {
        "id": "sdgwE76FkH4W"
      },
      "execution_count": null,
      "outputs": []
    },
    {
      "cell_type": "code",
      "execution_count": null,
      "metadata": {
        "id": "9X7RSJcKkH4X"
      },
      "outputs": [],
      "source": [
        "!bwa index MG1655-K12.first400K.fasta "
      ]
    },
    {
      "cell_type": "markdown",
      "source": [
        "## Выравнивание исправленных ридов\n",
        "\n"
      ],
      "metadata": {
        "id": "Md5_jtgikH4Y"
      }
    },
    {
      "cell_type": "code",
      "execution_count": null,
      "metadata": {
        "colab": {
          "base_uri": "https://localhost:8080/"
        },
        "outputId": "a7b92c48-7bf8-44a5-84b5-4d09eb834a23",
        "id": "0ri4dy_fkH4Y"
      },
      "outputs": [
        {
          "output_type": "stream",
          "name": "stdout",
          "text": [
            "[M::bwa_idx_load_from_disk] read 0 ALT contigs\n",
            "[M::process] read 100000 sequences (10000000 bp)...\n",
            "[M::process] read 100000 sequences (10000000 bp)...\n",
            "[M::mem_pestat] # candidate unique pairs for (FF, FR, RF, RR): (0, 48352, 0, 0)\n",
            "[M::mem_pestat] skip orientation FF as there are not enough pairs\n",
            "[M::mem_pestat] analyzing insert size distribution for orientation FR...\n",
            "[M::mem_pestat] (25, 50, 75) percentile: (207, 214, 222)\n",
            "[M::mem_pestat] low and high boundaries for computing mean and std.dev: (177, 252)\n",
            "[M::mem_pestat] mean and std.dev: (214.27, 10.15)\n",
            "[M::mem_pestat] low and high boundaries for proper pairs: (162, 267)\n",
            "[M::mem_pestat] skip orientation RF as there are not enough pairs\n",
            "[M::mem_pestat] skip orientation RR as there are not enough pairs\n",
            "[M::mem_process_seqs] Processed 100000 reads in 3.004 CPU sec, 2.726 real sec\n",
            "[M::process] read 100000 sequences (10000000 bp)...\n",
            "[M::mem_pestat] # candidate unique pairs for (FF, FR, RF, RR): (0, 48401, 0, 0)\n",
            "[M::mem_pestat] skip orientation FF as there are not enough pairs\n",
            "[M::mem_pestat] analyzing insert size distribution for orientation FR...\n",
            "[M::mem_pestat] (25, 50, 75) percentile: (207, 214, 222)\n",
            "[M::mem_pestat] low and high boundaries for computing mean and std.dev: (177, 252)\n",
            "[M::mem_pestat] mean and std.dev: (214.22, 10.16)\n",
            "[M::mem_pestat] low and high boundaries for proper pairs: (162, 267)\n",
            "[M::mem_pestat] skip orientation RF as there are not enough pairs\n",
            "[M::mem_pestat] skip orientation RR as there are not enough pairs\n",
            "[M::mem_process_seqs] Processed 100000 reads in 3.153 CPU sec, 2.724 real sec\n",
            "[M::process] read 100000 sequences (10000000 bp)...\n",
            "[M::mem_pestat] # candidate unique pairs for (FF, FR, RF, RR): (0, 48399, 0, 0)\n",
            "[M::mem_pestat] skip orientation FF as there are not enough pairs\n",
            "[M::mem_pestat] analyzing insert size distribution for orientation FR...\n",
            "[M::mem_pestat] (25, 50, 75) percentile: (207, 214, 222)\n",
            "[M::mem_pestat] low and high boundaries for computing mean and std.dev: (177, 252)\n",
            "[M::mem_pestat] mean and std.dev: (214.35, 10.15)\n",
            "[M::mem_pestat] low and high boundaries for proper pairs: (162, 267)\n",
            "[M::mem_pestat] skip orientation RF as there are not enough pairs\n",
            "[M::mem_pestat] skip orientation RR as there are not enough pairs\n",
            "[M::mem_process_seqs] Processed 100000 reads in 3.135 CPU sec, 2.717 real sec\n",
            "[M::process] read 100000 sequences (10000000 bp)...\n",
            "[M::mem_pestat] # candidate unique pairs for (FF, FR, RF, RR): (0, 48377, 0, 0)\n",
            "[M::mem_pestat] skip orientation FF as there are not enough pairs\n",
            "[M::mem_pestat] analyzing insert size distribution for orientation FR...\n",
            "[M::mem_pestat] (25, 50, 75) percentile: (207, 214, 222)\n",
            "[M::mem_pestat] low and high boundaries for computing mean and std.dev: (177, 252)\n",
            "[M::mem_pestat] mean and std.dev: (214.38, 10.14)\n",
            "[M::mem_pestat] low and high boundaries for proper pairs: (162, 267)\n",
            "[M::mem_pestat] skip orientation RF as there are not enough pairs\n",
            "[M::mem_pestat] skip orientation RR as there are not enough pairs\n",
            "[M::mem_process_seqs] Processed 100000 reads in 3.157 CPU sec, 2.702 real sec\n",
            "[M::process] read 100000 sequences (10000000 bp)...\n",
            "[M::mem_pestat] # candidate unique pairs for (FF, FR, RF, RR): (0, 48371, 0, 0)\n",
            "[M::mem_pestat] skip orientation FF as there are not enough pairs\n",
            "[M::mem_pestat] analyzing insert size distribution for orientation FR...\n",
            "[M::mem_pestat] (25, 50, 75) percentile: (207, 214, 222)\n",
            "[M::mem_pestat] low and high boundaries for computing mean and std.dev: (177, 252)\n",
            "[M::mem_pestat] mean and std.dev: (214.32, 10.17)\n",
            "[M::mem_pestat] low and high boundaries for proper pairs: (162, 267)\n",
            "[M::mem_pestat] skip orientation RF as there are not enough pairs\n",
            "[M::mem_pestat] skip orientation RR as there are not enough pairs\n",
            "[M::mem_process_seqs] Processed 100000 reads in 3.084 CPU sec, 2.907 real sec\n",
            "[M::process] read 100000 sequences (10000000 bp)...\n",
            "[M::mem_pestat] # candidate unique pairs for (FF, FR, RF, RR): (0, 48414, 0, 0)\n",
            "[M::mem_pestat] skip orientation FF as there are not enough pairs\n",
            "[M::mem_pestat] analyzing insert size distribution for orientation FR...\n",
            "[M::mem_pestat] (25, 50, 75) percentile: (207, 214, 222)\n",
            "[M::mem_pestat] low and high boundaries for computing mean and std.dev: (177, 252)\n",
            "[M::mem_pestat] mean and std.dev: (214.36, 10.15)\n",
            "[M::mem_pestat] low and high boundaries for proper pairs: (162, 267)\n",
            "[M::mem_pestat] skip orientation RF as there are not enough pairs\n",
            "[M::mem_pestat] skip orientation RR as there are not enough pairs\n",
            "[M::mem_process_seqs] Processed 100000 reads in 3.231 CPU sec, 2.780 real sec\n",
            "[M::process] read 100000 sequences (10000000 bp)...\n",
            "[M::mem_pestat] # candidate unique pairs for (FF, FR, RF, RR): (0, 48317, 0, 0)\n",
            "[M::mem_pestat] skip orientation FF as there are not enough pairs\n",
            "[M::mem_pestat] analyzing insert size distribution for orientation FR...\n",
            "[M::mem_pestat] (25, 50, 75) percentile: (207, 214, 221)\n",
            "[M::mem_pestat] low and high boundaries for computing mean and std.dev: (179, 249)\n",
            "[M::mem_pestat] mean and std.dev: (214.24, 10.15)\n",
            "[M::mem_pestat] low and high boundaries for proper pairs: (165, 263)\n",
            "[M::mem_pestat] skip orientation RF as there are not enough pairs\n",
            "[M::mem_pestat] skip orientation RR as there are not enough pairs\n",
            "[M::mem_process_seqs] Processed 100000 reads in 3.220 CPU sec, 2.765 real sec\n",
            "[M::process] read 100000 sequences (10000000 bp)...\n",
            "[M::mem_pestat] # candidate unique pairs for (FF, FR, RF, RR): (0, 48419, 0, 0)\n",
            "[M::mem_pestat] skip orientation FF as there are not enough pairs\n",
            "[M::mem_pestat] analyzing insert size distribution for orientation FR...\n",
            "[M::mem_pestat] (25, 50, 75) percentile: (207, 214, 222)\n",
            "[M::mem_pestat] low and high boundaries for computing mean and std.dev: (177, 252)\n",
            "[M::mem_pestat] mean and std.dev: (214.34, 10.14)\n",
            "[M::mem_pestat] low and high boundaries for proper pairs: (162, 267)\n",
            "[M::mem_pestat] skip orientation RF as there are not enough pairs\n",
            "[M::mem_pestat] skip orientation RR as there are not enough pairs\n",
            "[M::mem_process_seqs] Processed 100000 reads in 3.200 CPU sec, 2.727 real sec\n",
            "[M::process] read 100000 sequences (10000000 bp)...\n",
            "[M::mem_pestat] # candidate unique pairs for (FF, FR, RF, RR): (0, 48404, 0, 0)\n",
            "[M::mem_pestat] skip orientation FF as there are not enough pairs\n",
            "[M::mem_pestat] analyzing insert size distribution for orientation FR...\n",
            "[M::mem_pestat] (25, 50, 75) percentile: (207, 214, 222)\n",
            "[M::mem_pestat] low and high boundaries for computing mean and std.dev: (177, 252)\n",
            "[M::mem_pestat] mean and std.dev: (214.40, 10.07)\n",
            "[M::mem_pestat] low and high boundaries for proper pairs: (162, 267)\n",
            "[M::mem_pestat] skip orientation RF as there are not enough pairs\n",
            "[M::mem_pestat] skip orientation RR as there are not enough pairs\n",
            "[M::mem_process_seqs] Processed 100000 reads in 3.311 CPU sec, 2.857 real sec\n",
            "[M::process] read 100000 sequences (10000000 bp)...\n",
            "[M::mem_pestat] # candidate unique pairs for (FF, FR, RF, RR): (0, 48388, 0, 0)\n",
            "[M::mem_pestat] skip orientation FF as there are not enough pairs\n",
            "[M::mem_pestat] analyzing insert size distribution for orientation FR...\n",
            "[M::mem_pestat] (25, 50, 75) percentile: (207, 214, 222)\n",
            "[M::mem_pestat] low and high boundaries for computing mean and std.dev: (177, 252)\n",
            "[M::mem_pestat] mean and std.dev: (214.36, 10.14)\n",
            "[M::mem_pestat] low and high boundaries for proper pairs: (162, 267)\n",
            "[M::mem_pestat] skip orientation RF as there are not enough pairs\n",
            "[M::mem_pestat] skip orientation RR as there are not enough pairs\n",
            "[M::mem_process_seqs] Processed 100000 reads in 3.171 CPU sec, 2.720 real sec\n",
            "[M::process] read 100000 sequences (10000000 bp)...\n",
            "[M::mem_pestat] # candidate unique pairs for (FF, FR, RF, RR): (0, 48318, 0, 0)\n",
            "[M::mem_pestat] skip orientation FF as there are not enough pairs\n",
            "[M::mem_pestat] analyzing insert size distribution for orientation FR...\n",
            "[M::mem_pestat] (25, 50, 75) percentile: (207, 214, 222)\n",
            "[M::mem_pestat] low and high boundaries for computing mean and std.dev: (177, 252)\n",
            "[M::mem_pestat] mean and std.dev: (214.24, 10.18)\n",
            "[M::mem_pestat] low and high boundaries for proper pairs: (162, 267)\n",
            "[M::mem_pestat] skip orientation RF as there are not enough pairs\n",
            "[M::mem_pestat] skip orientation RR as there are not enough pairs\n",
            "[M::mem_process_seqs] Processed 100000 reads in 3.184 CPU sec, 2.782 real sec\n",
            "[M::process] read 100000 sequences (10000000 bp)...\n",
            "[M::mem_pestat] # candidate unique pairs for (FF, FR, RF, RR): (0, 48338, 0, 0)\n",
            "[M::mem_pestat] skip orientation FF as there are not enough pairs\n",
            "[M::mem_pestat] analyzing insert size distribution for orientation FR...\n",
            "[M::mem_pestat] (25, 50, 75) percentile: (207, 214, 222)\n",
            "[M::mem_pestat] low and high boundaries for computing mean and std.dev: (177, 252)\n",
            "[M::mem_pestat] mean and std.dev: (214.30, 10.14)\n",
            "[M::mem_pestat] low and high boundaries for proper pairs: (162, 267)\n",
            "[M::mem_pestat] skip orientation RF as there are not enough pairs\n",
            "[M::mem_pestat] skip orientation RR as there are not enough pairs\n",
            "[M::mem_process_seqs] Processed 100000 reads in 3.099 CPU sec, 2.676 real sec\n",
            "[M::process] read 100000 sequences (10000000 bp)...\n",
            "[M::mem_pestat] # candidate unique pairs for (FF, FR, RF, RR): (0, 48261, 0, 0)\n",
            "[M::mem_pestat] skip orientation FF as there are not enough pairs\n",
            "[M::mem_pestat] analyzing insert size distribution for orientation FR...\n",
            "[M::mem_pestat] (25, 50, 75) percentile: (207, 214, 222)\n",
            "[M::mem_pestat] low and high boundaries for computing mean and std.dev: (177, 252)\n",
            "[M::mem_pestat] mean and std.dev: (214.35, 10.16)\n",
            "[M::mem_pestat] low and high boundaries for proper pairs: (162, 267)\n",
            "[M::mem_pestat] skip orientation RF as there are not enough pairs\n",
            "[M::mem_pestat] skip orientation RR as there are not enough pairs\n",
            "[M::mem_process_seqs] Processed 100000 reads in 3.132 CPU sec, 2.733 real sec\n",
            "[M::process] read 100000 sequences (10000000 bp)...\n",
            "[M::mem_pestat] # candidate unique pairs for (FF, FR, RF, RR): (0, 48332, 0, 0)\n",
            "[M::mem_pestat] skip orientation FF as there are not enough pairs\n",
            "[M::mem_pestat] analyzing insert size distribution for orientation FR...\n",
            "[M::mem_pestat] (25, 50, 75) percentile: (207, 214, 222)\n",
            "[M::mem_pestat] low and high boundaries for computing mean and std.dev: (177, 252)\n",
            "[M::mem_pestat] mean and std.dev: (214.35, 10.13)\n",
            "[M::mem_pestat] low and high boundaries for proper pairs: (162, 267)\n",
            "[M::mem_pestat] skip orientation RF as there are not enough pairs\n",
            "[M::mem_pestat] skip orientation RR as there are not enough pairs\n",
            "[M::mem_process_seqs] Processed 100000 reads in 3.187 CPU sec, 2.750 real sec\n",
            "[M::process] read 100000 sequences (10000000 bp)...\n",
            "[M::mem_pestat] # candidate unique pairs for (FF, FR, RF, RR): (0, 48379, 0, 0)\n",
            "[M::mem_pestat] skip orientation FF as there are not enough pairs\n",
            "[M::mem_pestat] analyzing insert size distribution for orientation FR...\n",
            "[M::mem_pestat] (25, 50, 75) percentile: (207, 214, 222)\n",
            "[M::mem_pestat] low and high boundaries for computing mean and std.dev: (177, 252)\n",
            "[M::mem_pestat] mean and std.dev: (214.31, 10.17)\n",
            "[M::mem_pestat] low and high boundaries for proper pairs: (162, 267)\n",
            "[M::mem_pestat] skip orientation RF as there are not enough pairs\n",
            "[M::mem_pestat] skip orientation RR as there are not enough pairs\n",
            "[M::mem_process_seqs] Processed 100000 reads in 3.202 CPU sec, 2.833 real sec\n",
            "[M::process] read 100000 sequences (10000000 bp)...\n",
            "[M::mem_pestat] # candidate unique pairs for (FF, FR, RF, RR): (0, 48396, 0, 0)\n",
            "[M::mem_pestat] skip orientation FF as there are not enough pairs\n",
            "[M::mem_pestat] analyzing insert size distribution for orientation FR...\n",
            "[M::mem_pestat] (25, 50, 75) percentile: (207, 214, 222)\n",
            "[M::mem_pestat] low and high boundaries for computing mean and std.dev: (177, 252)\n",
            "[M::mem_pestat] mean and std.dev: (214.29, 10.11)\n",
            "[M::mem_pestat] low and high boundaries for proper pairs: (162, 267)\n",
            "[M::mem_pestat] skip orientation RF as there are not enough pairs\n",
            "[M::mem_pestat] skip orientation RR as there are not enough pairs\n",
            "[M::mem_process_seqs] Processed 100000 reads in 3.120 CPU sec, 2.700 real sec\n",
            "[M::process] read 100000 sequences (10000000 bp)...\n",
            "[M::mem_pestat] # candidate unique pairs for (FF, FR, RF, RR): (0, 48371, 0, 0)\n",
            "[M::mem_pestat] skip orientation FF as there are not enough pairs\n",
            "[M::mem_pestat] analyzing insert size distribution for orientation FR...\n",
            "[M::mem_pestat] (25, 50, 75) percentile: (207, 214, 222)\n",
            "[M::mem_pestat] low and high boundaries for computing mean and std.dev: (177, 252)\n",
            "[M::mem_pestat] mean and std.dev: (214.45, 10.15)\n",
            "[M::mem_pestat] low and high boundaries for proper pairs: (162, 267)\n",
            "[M::mem_pestat] skip orientation RF as there are not enough pairs\n",
            "[M::mem_pestat] skip orientation RR as there are not enough pairs\n",
            "[M::mem_process_seqs] Processed 100000 reads in 3.129 CPU sec, 2.801 real sec\n",
            "[M::process] read 100000 sequences (10000000 bp)...\n",
            "[M::mem_pestat] # candidate unique pairs for (FF, FR, RF, RR): (0, 48421, 0, 0)\n",
            "[M::mem_pestat] skip orientation FF as there are not enough pairs\n",
            "[M::mem_pestat] analyzing insert size distribution for orientation FR...\n",
            "[M::mem_pestat] (25, 50, 75) percentile: (207, 214, 222)\n",
            "[M::mem_pestat] low and high boundaries for computing mean and std.dev: (177, 252)\n",
            "[M::mem_pestat] mean and std.dev: (214.38, 10.13)\n",
            "[M::mem_pestat] low and high boundaries for proper pairs: (162, 267)\n",
            "[M::mem_pestat] skip orientation RF as there are not enough pairs\n",
            "[M::mem_pestat] skip orientation RR as there are not enough pairs\n",
            "[M::mem_process_seqs] Processed 100000 reads in 3.110 CPU sec, 2.698 real sec\n",
            "[M::process] read 100000 sequences (10000000 bp)...\n",
            "[M::mem_pestat] # candidate unique pairs for (FF, FR, RF, RR): (0, 48381, 0, 0)\n",
            "[M::mem_pestat] skip orientation FF as there are not enough pairs\n",
            "[M::mem_pestat] analyzing insert size distribution for orientation FR...\n",
            "[M::mem_pestat] (25, 50, 75) percentile: (207, 214, 221)\n",
            "[M::mem_pestat] low and high boundaries for computing mean and std.dev: (179, 249)\n",
            "[M::mem_pestat] mean and std.dev: (214.26, 10.13)\n",
            "[M::mem_pestat] low and high boundaries for proper pairs: (165, 263)\n",
            "[M::mem_pestat] skip orientation RF as there are not enough pairs\n",
            "[M::mem_pestat] skip orientation RR as there are not enough pairs\n",
            "[M::mem_process_seqs] Processed 100000 reads in 3.170 CPU sec, 2.710 real sec\n",
            "[M::process] read 100000 sequences (10000000 bp)...\n",
            "[M::mem_pestat] # candidate unique pairs for (FF, FR, RF, RR): (0, 48426, 0, 0)\n",
            "[M::mem_pestat] skip orientation FF as there are not enough pairs\n",
            "[M::mem_pestat] analyzing insert size distribution for orientation FR...\n",
            "[M::mem_pestat] (25, 50, 75) percentile: (207, 214, 222)\n",
            "[M::mem_pestat] low and high boundaries for computing mean and std.dev: (177, 252)\n",
            "[M::mem_pestat] mean and std.dev: (214.32, 10.17)\n",
            "[M::mem_pestat] low and high boundaries for proper pairs: (162, 267)\n",
            "[M::mem_pestat] skip orientation RF as there are not enough pairs\n",
            "[M::mem_pestat] skip orientation RR as there are not enough pairs\n",
            "[M::mem_process_seqs] Processed 100000 reads in 3.187 CPU sec, 2.753 real sec\n",
            "[M::process] read 100000 sequences (10000000 bp)...\n",
            "[M::mem_pestat] # candidate unique pairs for (FF, FR, RF, RR): (0, 48336, 0, 0)\n",
            "[M::mem_pestat] skip orientation FF as there are not enough pairs\n",
            "[M::mem_pestat] analyzing insert size distribution for orientation FR...\n",
            "[M::mem_pestat] (25, 50, 75) percentile: (207, 214, 222)\n",
            "[M::mem_pestat] low and high boundaries for computing mean and std.dev: (177, 252)\n",
            "[M::mem_pestat] mean and std.dev: (214.24, 10.13)\n",
            "[M::mem_pestat] low and high boundaries for proper pairs: (162, 267)\n",
            "[M::mem_pestat] skip orientation RF as there are not enough pairs\n",
            "[M::mem_pestat] skip orientation RR as there are not enough pairs\n",
            "[M::mem_process_seqs] Processed 100000 reads in 3.217 CPU sec, 2.851 real sec\n",
            "[M::process] read 100000 sequences (10000000 bp)...\n",
            "[M::mem_pestat] # candidate unique pairs for (FF, FR, RF, RR): (0, 48423, 0, 0)\n",
            "[M::mem_pestat] skip orientation FF as there are not enough pairs\n",
            "[M::mem_pestat] analyzing insert size distribution for orientation FR...\n",
            "[M::mem_pestat] (25, 50, 75) percentile: (207, 214, 222)\n",
            "[M::mem_pestat] low and high boundaries for computing mean and std.dev: (177, 252)\n",
            "[M::mem_pestat] mean and std.dev: (214.24, 10.11)\n",
            "[M::mem_pestat] low and high boundaries for proper pairs: (162, 267)\n",
            "[M::mem_pestat] skip orientation RF as there are not enough pairs\n",
            "[M::mem_pestat] skip orientation RR as there are not enough pairs\n",
            "[M::mem_process_seqs] Processed 100000 reads in 3.149 CPU sec, 2.722 real sec\n",
            "[M::process] read 100000 sequences (10000000 bp)...\n",
            "[M::mem_pestat] # candidate unique pairs for (FF, FR, RF, RR): (0, 48403, 0, 0)\n",
            "[M::mem_pestat] skip orientation FF as there are not enough pairs\n",
            "[M::mem_pestat] analyzing insert size distribution for orientation FR...\n",
            "[M::mem_pestat] (25, 50, 75) percentile: (207, 214, 222)\n",
            "[M::mem_pestat] low and high boundaries for computing mean and std.dev: (177, 252)\n",
            "[M::mem_pestat] mean and std.dev: (214.32, 10.14)\n",
            "[M::mem_pestat] low and high boundaries for proper pairs: (162, 267)\n",
            "[M::mem_pestat] skip orientation RF as there are not enough pairs\n",
            "[M::mem_pestat] skip orientation RR as there are not enough pairs\n",
            "[M::mem_process_seqs] Processed 100000 reads in 3.174 CPU sec, 2.805 real sec\n",
            "[M::process] read 100000 sequences (10000000 bp)...\n",
            "[M::mem_pestat] # candidate unique pairs for (FF, FR, RF, RR): (0, 48382, 0, 0)\n",
            "[M::mem_pestat] skip orientation FF as there are not enough pairs\n",
            "[M::mem_pestat] analyzing insert size distribution for orientation FR...\n",
            "[M::mem_pestat] (25, 50, 75) percentile: (207, 214, 222)\n",
            "[M::mem_pestat] low and high boundaries for computing mean and std.dev: (177, 252)\n",
            "[M::mem_pestat] mean and std.dev: (214.31, 10.16)\n",
            "[M::mem_pestat] low and high boundaries for proper pairs: (162, 267)\n",
            "[M::mem_pestat] skip orientation RF as there are not enough pairs\n",
            "[M::mem_pestat] skip orientation RR as there are not enough pairs\n",
            "[M::mem_process_seqs] Processed 100000 reads in 3.223 CPU sec, 2.752 real sec\n",
            "[M::process] read 100000 sequences (10000000 bp)...\n",
            "[M::mem_pestat] # candidate unique pairs for (FF, FR, RF, RR): (0, 48355, 0, 0)\n",
            "[M::mem_pestat] skip orientation FF as there are not enough pairs\n",
            "[M::mem_pestat] analyzing insert size distribution for orientation FR...\n",
            "[M::mem_pestat] (25, 50, 75) percentile: (207, 214, 222)\n",
            "[M::mem_pestat] low and high boundaries for computing mean and std.dev: (177, 252)\n",
            "[M::mem_pestat] mean and std.dev: (214.31, 10.12)\n",
            "[M::mem_pestat] low and high boundaries for proper pairs: (162, 267)\n",
            "[M::mem_pestat] skip orientation RF as there are not enough pairs\n",
            "[M::mem_pestat] skip orientation RR as there are not enough pairs\n",
            "[M::mem_process_seqs] Processed 100000 reads in 3.194 CPU sec, 2.769 real sec\n",
            "[M::process] read 100000 sequences (10000000 bp)...\n",
            "[M::mem_pestat] # candidate unique pairs for (FF, FR, RF, RR): (0, 48327, 0, 0)\n",
            "[M::mem_pestat] skip orientation FF as there are not enough pairs\n",
            "[M::mem_pestat] analyzing insert size distribution for orientation FR...\n",
            "[M::mem_pestat] (25, 50, 75) percentile: (207, 214, 222)\n",
            "[M::mem_pestat] low and high boundaries for computing mean and std.dev: (177, 252)\n",
            "[M::mem_pestat] mean and std.dev: (214.25, 10.16)\n",
            "[M::mem_pestat] low and high boundaries for proper pairs: (162, 267)\n",
            "[M::mem_pestat] skip orientation RF as there are not enough pairs\n",
            "[M::mem_pestat] skip orientation RR as there are not enough pairs\n",
            "[M::mem_process_seqs] Processed 100000 reads in 3.279 CPU sec, 2.810 real sec\n",
            "[M::process] read 16054 sequences (1605400 bp)...\n",
            "[M::mem_pestat] # candidate unique pairs for (FF, FR, RF, RR): (0, 48388, 0, 0)\n",
            "[M::mem_pestat] skip orientation FF as there are not enough pairs\n",
            "[M::mem_pestat] analyzing insert size distribution for orientation FR...\n",
            "[M::mem_pestat] (25, 50, 75) percentile: (207, 214, 222)\n",
            "[M::mem_pestat] low and high boundaries for computing mean and std.dev: (177, 252)\n",
            "[M::mem_pestat] mean and std.dev: (214.28, 10.15)\n",
            "[M::mem_pestat] low and high boundaries for proper pairs: (162, 267)\n",
            "[M::mem_pestat] skip orientation RF as there are not enough pairs\n",
            "[M::mem_pestat] skip orientation RR as there are not enough pairs\n",
            "[M::mem_process_seqs] Processed 100000 reads in 2.816 CPU sec, 2.693 real sec\n",
            "[M::mem_pestat] # candidate unique pairs for (FF, FR, RF, RR): (0, 7766, 0, 0)\n",
            "[M::mem_pestat] skip orientation FF as there are not enough pairs\n",
            "[M::mem_pestat] analyzing insert size distribution for orientation FR...\n",
            "[M::mem_pestat] (25, 50, 75) percentile: (207, 214, 222)\n",
            "[M::mem_pestat] low and high boundaries for computing mean and std.dev: (177, 252)\n",
            "[M::mem_pestat] mean and std.dev: (214.28, 10.28)\n",
            "[M::mem_pestat] low and high boundaries for proper pairs: (162, 267)\n",
            "[M::mem_pestat] skip orientation RF as there are not enough pairs\n",
            "[M::mem_pestat] skip orientation RR as there are not enough pairs\n",
            "[M::mem_process_seqs] Processed 16054 reads in 0.656 CPU sec, 0.495 real sec\n",
            "[main] Version: 0.7.17-r1188\n",
            "[main] CMD: bwa mem MG1655-K12.first400K.fasta spades_output/corrected/ecoli_400K_err_1.fastq.00.0_0.cor.fastq.gz spades_output/corrected/ecoli_400K_err_2.fastq.00.0_0.cor.fastq.gz\n",
            "[main] Real time: 75.398 sec; CPU: 86.184 sec\n"
          ]
        }
      ],
      "source": [
        "!bwa mem MG1655-K12.first400K.fasta  spades_output/corrected/ecoli_400K_err_1.fastq.00.0_0.cor.fastq.gz spades_output/corrected/ecoli_400K_err_2.fastq.00.0_0.cor.fastq.gz > corr_alignment.sam"
      ]
    },
    {
      "cell_type": "code",
      "execution_count": null,
      "metadata": {
        "id": "Pcx8qaeKkH4Y"
      },
      "outputs": [],
      "source": [
        "!samtools view -bS -o corr_alignment.bam corr_alignment.sam"
      ]
    },
    {
      "cell_type": "code",
      "execution_count": null,
      "metadata": {
        "colab": {
          "base_uri": "https://localhost:8080/"
        },
        "id": "19YWfoqwkH4Y",
        "outputId": "dea3b40a-e1e3-4ed2-9b76-6017c13dbd87"
      },
      "outputs": [
        {
          "output_type": "stream",
          "name": "stdout",
          "text": [
            "[bam_sort_core] merging from 2 files...\n"
          ]
        }
      ],
      "source": [
        "!samtools sort -o corr_alignment_sorted.bam corr_alignment.bam"
      ]
    },
    {
      "cell_type": "code",
      "execution_count": null,
      "metadata": {
        "id": "cx9wZiOckH4Y"
      },
      "outputs": [],
      "source": [
        "!samtools index -b corr_alignment_sorted.bam corr_alignment.bai"
      ]
    },
    {
      "cell_type": "code",
      "execution_count": null,
      "metadata": {
        "colab": {
          "base_uri": "https://localhost:8080/"
        },
        "outputId": "aa3ddcd0-38e0-4cd2-b69e-7e0ed7f0d47c",
        "id": "2ldkkIwlkH4Y"
      },
      "outputs": [
        {
          "output_type": "stream",
          "name": "stdout",
          "text": [
            "2716054 + 0 in total (QC-passed reads + QC-failed reads)\n",
            "0 + 0 secondary\n",
            "0 + 0 supplementary\n",
            "0 + 0 duplicates\n",
            "2715944 + 0 mapped (100.00% : N/A)\n",
            "2716054 + 0 paired in sequencing\n",
            "1358027 + 0 read1\n",
            "1358027 + 0 read2\n",
            "2714586 + 0 properly paired (99.95% : N/A)\n",
            "2715876 + 0 with itself and mate mapped\n",
            "68 + 0 singletons (0.00% : N/A)\n",
            "0 + 0 with mate mapped to a different chr\n",
            "0 + 0 with mate mapped to a different chr (mapQ>=5)\n"
          ]
        }
      ],
      "source": [
        "!samtools flagstat corr_alignment_sorted.bam"
      ]
    },
    {
      "cell_type": "markdown",
      "source": [
        "## Выравнивание исходных ридов\n"
      ],
      "metadata": {
        "id": "bX3MlzJNkH4Z"
      }
    },
    {
      "cell_type": "code",
      "execution_count": null,
      "metadata": {
        "colab": {
          "base_uri": "https://localhost:8080/"
        },
        "outputId": "1d7e4092-c2d5-41e2-fe59-aebe662861d3",
        "id": "DK4PwN7GkH4Z"
      },
      "outputs": [
        {
          "output_type": "stream",
          "name": "stdout",
          "text": [
            "[M::bwa_idx_load_from_disk] read 0 ALT contigs\n",
            "[M::process] read 100000 sequences (10000000 bp)...\n",
            "[M::process] read 100000 sequences (10000000 bp)...\n",
            "[M::mem_pestat] # candidate unique pairs for (FF, FR, RF, RR): (0, 48301, 0, 0)\n",
            "[M::mem_pestat] skip orientation FF as there are not enough pairs\n",
            "[M::mem_pestat] analyzing insert size distribution for orientation FR...\n",
            "[M::mem_pestat] (25, 50, 75) percentile: (207, 214, 222)\n",
            "[M::mem_pestat] low and high boundaries for computing mean and std.dev: (177, 252)\n",
            "[M::mem_pestat] mean and std.dev: (214.27, 10.16)\n",
            "[M::mem_pestat] low and high boundaries for proper pairs: (162, 267)\n",
            "[M::mem_pestat] skip orientation RF as there are not enough pairs\n",
            "[M::mem_pestat] skip orientation RR as there are not enough pairs\n",
            "[M::mem_process_seqs] Processed 100000 reads in 3.665 CPU sec, 3.431 real sec\n",
            "[M::process] read 100000 sequences (10000000 bp)...\n",
            "[M::mem_pestat] # candidate unique pairs for (FF, FR, RF, RR): (0, 48357, 0, 0)\n",
            "[M::mem_pestat] skip orientation FF as there are not enough pairs\n",
            "[M::mem_pestat] analyzing insert size distribution for orientation FR...\n",
            "[M::mem_pestat] (25, 50, 75) percentile: (207, 214, 222)\n",
            "[M::mem_pestat] low and high boundaries for computing mean and std.dev: (177, 252)\n",
            "[M::mem_pestat] mean and std.dev: (214.22, 10.15)\n",
            "[M::mem_pestat] low and high boundaries for proper pairs: (162, 267)\n",
            "[M::mem_pestat] skip orientation RF as there are not enough pairs\n",
            "[M::mem_pestat] skip orientation RR as there are not enough pairs\n",
            "[M::mem_process_seqs] Processed 100000 reads in 3.803 CPU sec, 3.456 real sec\n",
            "[M::process] read 100000 sequences (10000000 bp)...\n",
            "[M::mem_pestat] # candidate unique pairs for (FF, FR, RF, RR): (0, 48345, 0, 0)\n",
            "[M::mem_pestat] skip orientation FF as there are not enough pairs\n",
            "[M::mem_pestat] analyzing insert size distribution for orientation FR...\n",
            "[M::mem_pestat] (25, 50, 75) percentile: (207, 214, 222)\n",
            "[M::mem_pestat] low and high boundaries for computing mean and std.dev: (177, 252)\n",
            "[M::mem_pestat] mean and std.dev: (214.35, 10.15)\n",
            "[M::mem_pestat] low and high boundaries for proper pairs: (162, 267)\n",
            "[M::mem_pestat] skip orientation RF as there are not enough pairs\n",
            "[M::mem_pestat] skip orientation RR as there are not enough pairs\n",
            "[M::mem_process_seqs] Processed 100000 reads in 3.807 CPU sec, 3.431 real sec\n",
            "[M::process] read 100000 sequences (10000000 bp)...\n",
            "[M::mem_pestat] # candidate unique pairs for (FF, FR, RF, RR): (0, 48337, 0, 0)\n",
            "[M::mem_pestat] skip orientation FF as there are not enough pairs\n",
            "[M::mem_pestat] analyzing insert size distribution for orientation FR...\n",
            "[M::mem_pestat] (25, 50, 75) percentile: (207, 214, 222)\n",
            "[M::mem_pestat] low and high boundaries for computing mean and std.dev: (177, 252)\n",
            "[M::mem_pestat] mean and std.dev: (214.37, 10.15)\n",
            "[M::mem_pestat] low and high boundaries for proper pairs: (162, 267)\n",
            "[M::mem_pestat] skip orientation RF as there are not enough pairs\n",
            "[M::mem_pestat] skip orientation RR as there are not enough pairs\n",
            "[M::mem_process_seqs] Processed 100000 reads in 3.803 CPU sec, 3.464 real sec\n",
            "[M::process] read 100000 sequences (10000000 bp)...\n",
            "[M::mem_pestat] # candidate unique pairs for (FF, FR, RF, RR): (0, 48338, 0, 0)\n",
            "[M::mem_pestat] skip orientation FF as there are not enough pairs\n",
            "[M::mem_pestat] analyzing insert size distribution for orientation FR...\n",
            "[M::mem_pestat] (25, 50, 75) percentile: (207, 214, 222)\n",
            "[M::mem_pestat] low and high boundaries for computing mean and std.dev: (177, 252)\n",
            "[M::mem_pestat] mean and std.dev: (214.35, 10.16)\n",
            "[M::mem_pestat] low and high boundaries for proper pairs: (162, 267)\n",
            "[M::mem_pestat] skip orientation RF as there are not enough pairs\n",
            "[M::mem_pestat] skip orientation RR as there are not enough pairs\n",
            "[M::mem_process_seqs] Processed 100000 reads in 3.867 CPU sec, 3.525 real sec\n",
            "[M::process] read 100000 sequences (10000000 bp)...\n",
            "[M::mem_pestat] # candidate unique pairs for (FF, FR, RF, RR): (0, 48367, 0, 0)\n",
            "[M::mem_pestat] skip orientation FF as there are not enough pairs\n",
            "[M::mem_pestat] analyzing insert size distribution for orientation FR...\n",
            "[M::mem_pestat] (25, 50, 75) percentile: (207, 214, 222)\n",
            "[M::mem_pestat] low and high boundaries for computing mean and std.dev: (177, 252)\n",
            "[M::mem_pestat] mean and std.dev: (214.33, 10.15)\n",
            "[M::mem_pestat] low and high boundaries for proper pairs: (162, 267)\n",
            "[M::mem_pestat] skip orientation RF as there are not enough pairs\n",
            "[M::mem_pestat] skip orientation RR as there are not enough pairs\n",
            "[M::mem_process_seqs] Processed 100000 reads in 3.863 CPU sec, 3.533 real sec\n",
            "[M::process] read 100000 sequences (10000000 bp)...\n",
            "[M::mem_pestat] # candidate unique pairs for (FF, FR, RF, RR): (0, 48287, 0, 0)\n",
            "[M::mem_pestat] skip orientation FF as there are not enough pairs\n",
            "[M::mem_pestat] analyzing insert size distribution for orientation FR...\n",
            "[M::mem_pestat] (25, 50, 75) percentile: (207, 214, 221)\n",
            "[M::mem_pestat] low and high boundaries for computing mean and std.dev: (179, 249)\n",
            "[M::mem_pestat] mean and std.dev: (214.23, 10.14)\n",
            "[M::mem_pestat] low and high boundaries for proper pairs: (165, 263)\n",
            "[M::mem_pestat] skip orientation RF as there are not enough pairs\n",
            "[M::mem_pestat] skip orientation RR as there are not enough pairs\n",
            "[M::mem_process_seqs] Processed 100000 reads in 3.960 CPU sec, 3.629 real sec\n",
            "[M::process] read 100000 sequences (10000000 bp)...\n",
            "[M::mem_pestat] # candidate unique pairs for (FF, FR, RF, RR): (0, 48328, 0, 0)\n",
            "[M::mem_pestat] skip orientation FF as there are not enough pairs\n",
            "[M::mem_pestat] analyzing insert size distribution for orientation FR...\n",
            "[M::mem_pestat] (25, 50, 75) percentile: (207, 214, 222)\n",
            "[M::mem_pestat] low and high boundaries for computing mean and std.dev: (177, 252)\n",
            "[M::mem_pestat] mean and std.dev: (214.36, 10.16)\n",
            "[M::mem_pestat] low and high boundaries for proper pairs: (162, 267)\n",
            "[M::mem_pestat] skip orientation RF as there are not enough pairs\n",
            "[M::mem_pestat] skip orientation RR as there are not enough pairs\n",
            "[M::mem_process_seqs] Processed 100000 reads in 3.919 CPU sec, 3.535 real sec\n",
            "[M::process] read 100000 sequences (10000000 bp)...\n",
            "[M::mem_pestat] # candidate unique pairs for (FF, FR, RF, RR): (0, 48359, 0, 0)\n",
            "[M::mem_pestat] skip orientation FF as there are not enough pairs\n",
            "[M::mem_pestat] analyzing insert size distribution for orientation FR...\n",
            "[M::mem_pestat] (25, 50, 75) percentile: (207, 214, 222)\n",
            "[M::mem_pestat] low and high boundaries for computing mean and std.dev: (177, 252)\n",
            "[M::mem_pestat] mean and std.dev: (214.37, 10.08)\n",
            "[M::mem_pestat] low and high boundaries for proper pairs: (162, 267)\n",
            "[M::mem_pestat] skip orientation RF as there are not enough pairs\n",
            "[M::mem_pestat] skip orientation RR as there are not enough pairs\n",
            "[M::mem_process_seqs] Processed 100000 reads in 3.917 CPU sec, 3.547 real sec\n",
            "[M::process] read 100000 sequences (10000000 bp)...\n",
            "[M::mem_pestat] # candidate unique pairs for (FF, FR, RF, RR): (0, 48323, 0, 0)\n",
            "[M::mem_pestat] skip orientation FF as there are not enough pairs\n",
            "[M::mem_pestat] analyzing insert size distribution for orientation FR...\n",
            "[M::mem_pestat] (25, 50, 75) percentile: (207, 214, 222)\n",
            "[M::mem_pestat] low and high boundaries for computing mean and std.dev: (177, 252)\n",
            "[M::mem_pestat] mean and std.dev: (214.38, 10.12)\n",
            "[M::mem_pestat] low and high boundaries for proper pairs: (162, 267)\n",
            "[M::mem_pestat] skip orientation RF as there are not enough pairs\n",
            "[M::mem_pestat] skip orientation RR as there are not enough pairs\n",
            "[M::mem_process_seqs] Processed 100000 reads in 3.978 CPU sec, 3.600 real sec\n",
            "[M::process] read 100000 sequences (10000000 bp)...\n",
            "[M::mem_pestat] # candidate unique pairs for (FF, FR, RF, RR): (0, 48276, 0, 0)\n",
            "[M::mem_pestat] skip orientation FF as there are not enough pairs\n",
            "[M::mem_pestat] analyzing insert size distribution for orientation FR...\n",
            "[M::mem_pestat] (25, 50, 75) percentile: (207, 214, 222)\n",
            "[M::mem_pestat] low and high boundaries for computing mean and std.dev: (177, 252)\n",
            "[M::mem_pestat] mean and std.dev: (214.26, 10.15)\n",
            "[M::mem_pestat] low and high boundaries for proper pairs: (162, 267)\n",
            "[M::mem_pestat] skip orientation RF as there are not enough pairs\n",
            "[M::mem_pestat] skip orientation RR as there are not enough pairs\n",
            "[M::mem_process_seqs] Processed 100000 reads in 3.970 CPU sec, 3.607 real sec\n",
            "[M::process] read 100000 sequences (10000000 bp)...\n",
            "[M::mem_pestat] # candidate unique pairs for (FF, FR, RF, RR): (0, 48231, 0, 0)\n",
            "[M::mem_pestat] skip orientation FF as there are not enough pairs\n",
            "[M::mem_pestat] analyzing insert size distribution for orientation FR...\n",
            "[M::mem_pestat] (25, 50, 75) percentile: (207, 214, 222)\n",
            "[M::mem_pestat] low and high boundaries for computing mean and std.dev: (177, 252)\n",
            "[M::mem_pestat] mean and std.dev: (214.27, 10.13)\n",
            "[M::mem_pestat] low and high boundaries for proper pairs: (162, 267)\n",
            "[M::mem_pestat] skip orientation RF as there are not enough pairs\n",
            "[M::mem_pestat] skip orientation RR as there are not enough pairs\n",
            "[M::mem_process_seqs] Processed 100000 reads in 4.000 CPU sec, 3.642 real sec\n",
            "[M::process] read 100000 sequences (10000000 bp)...\n",
            "[M::mem_pestat] # candidate unique pairs for (FF, FR, RF, RR): (0, 48187, 0, 0)\n",
            "[M::mem_pestat] skip orientation FF as there are not enough pairs\n",
            "[M::mem_pestat] analyzing insert size distribution for orientation FR...\n",
            "[M::mem_pestat] (25, 50, 75) percentile: (207, 214, 222)\n",
            "[M::mem_pestat] low and high boundaries for computing mean and std.dev: (177, 252)\n",
            "[M::mem_pestat] mean and std.dev: (214.35, 10.14)\n",
            "[M::mem_pestat] low and high boundaries for proper pairs: (162, 267)\n",
            "[M::mem_pestat] skip orientation RF as there are not enough pairs\n",
            "[M::mem_pestat] skip orientation RR as there are not enough pairs\n",
            "[M::mem_process_seqs] Processed 100000 reads in 4.140 CPU sec, 3.801 real sec\n",
            "[M::process] read 100000 sequences (10000000 bp)...\n",
            "[M::mem_pestat] # candidate unique pairs for (FF, FR, RF, RR): (0, 48265, 0, 0)\n",
            "[M::mem_pestat] skip orientation FF as there are not enough pairs\n",
            "[M::mem_pestat] analyzing insert size distribution for orientation FR...\n",
            "[M::mem_pestat] (25, 50, 75) percentile: (207, 214, 222)\n",
            "[M::mem_pestat] low and high boundaries for computing mean and std.dev: (177, 252)\n",
            "[M::mem_pestat] mean and std.dev: (214.41, 10.16)\n",
            "[M::mem_pestat] low and high boundaries for proper pairs: (162, 267)\n",
            "[M::mem_pestat] skip orientation RF as there are not enough pairs\n",
            "[M::mem_pestat] skip orientation RR as there are not enough pairs\n",
            "[M::mem_process_seqs] Processed 100000 reads in 3.994 CPU sec, 3.639 real sec\n",
            "[M::process] read 100000 sequences (10000000 bp)...\n",
            "[M::mem_pestat] # candidate unique pairs for (FF, FR, RF, RR): (0, 48287, 0, 0)\n",
            "[M::mem_pestat] skip orientation FF as there are not enough pairs\n",
            "[M::mem_pestat] analyzing insert size distribution for orientation FR...\n",
            "[M::mem_pestat] (25, 50, 75) percentile: (207, 214, 222)\n",
            "[M::mem_pestat] low and high boundaries for computing mean and std.dev: (177, 252)\n",
            "[M::mem_pestat] mean and std.dev: (214.24, 10.17)\n",
            "[M::mem_pestat] low and high boundaries for proper pairs: (162, 267)\n",
            "[M::mem_pestat] skip orientation RF as there are not enough pairs\n",
            "[M::mem_pestat] skip orientation RR as there are not enough pairs\n",
            "[M::mem_process_seqs] Processed 100000 reads in 3.828 CPU sec, 3.473 real sec\n",
            "[M::process] read 100000 sequences (10000000 bp)...\n",
            "[M::mem_pestat] # candidate unique pairs for (FF, FR, RF, RR): (0, 48307, 0, 0)\n",
            "[M::mem_pestat] skip orientation FF as there are not enough pairs\n",
            "[M::mem_pestat] analyzing insert size distribution for orientation FR...\n",
            "[M::mem_pestat] (25, 50, 75) percentile: (207, 214, 222)\n",
            "[M::mem_pestat] low and high boundaries for computing mean and std.dev: (177, 252)\n",
            "[M::mem_pestat] mean and std.dev: (214.33, 10.12)\n",
            "[M::mem_pestat] low and high boundaries for proper pairs: (162, 267)\n",
            "[M::mem_pestat] skip orientation RF as there are not enough pairs\n",
            "[M::mem_pestat] skip orientation RR as there are not enough pairs\n",
            "[M::mem_process_seqs] Processed 100000 reads in 3.808 CPU sec, 3.452 real sec\n",
            "[M::process] read 100000 sequences (10000000 bp)...\n",
            "[M::mem_pestat] # candidate unique pairs for (FF, FR, RF, RR): (0, 48303, 0, 0)\n",
            "[M::mem_pestat] skip orientation FF as there are not enough pairs\n",
            "[M::mem_pestat] analyzing insert size distribution for orientation FR...\n",
            "[M::mem_pestat] (25, 50, 75) percentile: (207, 214, 222)\n",
            "[M::mem_pestat] low and high boundaries for computing mean and std.dev: (177, 252)\n",
            "[M::mem_pestat] mean and std.dev: (214.40, 10.17)\n",
            "[M::mem_pestat] low and high boundaries for proper pairs: (162, 267)\n",
            "[M::mem_pestat] skip orientation RF as there are not enough pairs\n",
            "[M::mem_pestat] skip orientation RR as there are not enough pairs\n",
            "[M::mem_process_seqs] Processed 100000 reads in 3.773 CPU sec, 3.409 real sec\n",
            "[M::process] read 100000 sequences (10000000 bp)...\n",
            "[M::mem_pestat] # candidate unique pairs for (FF, FR, RF, RR): (0, 48393, 0, 0)\n",
            "[M::mem_pestat] skip orientation FF as there are not enough pairs\n",
            "[M::mem_pestat] analyzing insert size distribution for orientation FR...\n",
            "[M::mem_pestat] (25, 50, 75) percentile: (207, 214, 222)\n",
            "[M::mem_pestat] low and high boundaries for computing mean and std.dev: (177, 252)\n",
            "[M::mem_pestat] mean and std.dev: (214.40, 10.14)\n",
            "[M::mem_pestat] low and high boundaries for proper pairs: (162, 267)\n",
            "[M::mem_pestat] skip orientation RF as there are not enough pairs\n",
            "[M::mem_pestat] skip orientation RR as there are not enough pairs\n",
            "[M::mem_process_seqs] Processed 100000 reads in 3.718 CPU sec, 3.360 real sec\n",
            "[M::process] read 100000 sequences (10000000 bp)...\n",
            "[M::mem_pestat] # candidate unique pairs for (FF, FR, RF, RR): (0, 48320, 0, 0)\n",
            "[M::mem_pestat] skip orientation FF as there are not enough pairs\n",
            "[M::mem_pestat] analyzing insert size distribution for orientation FR...\n",
            "[M::mem_pestat] (25, 50, 75) percentile: (207, 214, 222)\n",
            "[M::mem_pestat] low and high boundaries for computing mean and std.dev: (177, 252)\n",
            "[M::mem_pestat] mean and std.dev: (214.32, 10.15)\n",
            "[M::mem_pestat] low and high boundaries for proper pairs: (162, 267)\n",
            "[M::mem_pestat] skip orientation RF as there are not enough pairs\n",
            "[M::mem_pestat] skip orientation RR as there are not enough pairs\n",
            "[M::mem_process_seqs] Processed 100000 reads in 3.736 CPU sec, 3.351 real sec\n",
            "[M::process] read 100000 sequences (10000000 bp)...\n",
            "[M::mem_pestat] # candidate unique pairs for (FF, FR, RF, RR): (0, 48377, 0, 0)\n",
            "[M::mem_pestat] skip orientation FF as there are not enough pairs\n",
            "[M::mem_pestat] analyzing insert size distribution for orientation FR...\n",
            "[M::mem_pestat] (25, 50, 75) percentile: (207, 214, 222)\n",
            "[M::mem_pestat] low and high boundaries for computing mean and std.dev: (177, 252)\n",
            "[M::mem_pestat] mean and std.dev: (214.26, 10.16)\n",
            "[M::mem_pestat] low and high boundaries for proper pairs: (162, 267)\n",
            "[M::mem_pestat] skip orientation RF as there are not enough pairs\n",
            "[M::mem_pestat] skip orientation RR as there are not enough pairs\n",
            "[M::mem_process_seqs] Processed 100000 reads in 3.642 CPU sec, 3.274 real sec\n",
            "[M::process] read 100000 sequences (10000000 bp)...\n",
            "[M::mem_pestat] # candidate unique pairs for (FF, FR, RF, RR): (0, 48307, 0, 0)\n",
            "[M::mem_pestat] skip orientation FF as there are not enough pairs\n",
            "[M::mem_pestat] analyzing insert size distribution for orientation FR...\n",
            "[M::mem_pestat] (25, 50, 75) percentile: (207, 214, 222)\n",
            "[M::mem_pestat] low and high boundaries for computing mean and std.dev: (177, 252)\n",
            "[M::mem_pestat] mean and std.dev: (214.31, 10.13)\n",
            "[M::mem_pestat] low and high boundaries for proper pairs: (162, 267)\n",
            "[M::mem_pestat] skip orientation RF as there are not enough pairs\n",
            "[M::mem_pestat] skip orientation RR as there are not enough pairs\n",
            "[M::mem_process_seqs] Processed 100000 reads in 3.716 CPU sec, 3.362 real sec\n",
            "[M::process] read 100000 sequences (10000000 bp)...\n",
            "[M::mem_pestat] # candidate unique pairs for (FF, FR, RF, RR): (0, 48322, 0, 0)\n",
            "[M::mem_pestat] skip orientation FF as there are not enough pairs\n",
            "[M::mem_pestat] analyzing insert size distribution for orientation FR...\n",
            "[M::mem_pestat] (25, 50, 75) percentile: (207, 214, 221)\n",
            "[M::mem_pestat] low and high boundaries for computing mean and std.dev: (179, 249)\n",
            "[M::mem_pestat] mean and std.dev: (214.27, 10.06)\n",
            "[M::mem_pestat] low and high boundaries for proper pairs: (165, 263)\n",
            "[M::mem_pestat] skip orientation RF as there are not enough pairs\n",
            "[M::mem_pestat] skip orientation RR as there are not enough pairs\n",
            "[M::mem_process_seqs] Processed 100000 reads in 3.649 CPU sec, 3.281 real sec\n",
            "[M::process] read 100000 sequences (10000000 bp)...\n",
            "[M::mem_pestat] # candidate unique pairs for (FF, FR, RF, RR): (0, 48361, 0, 0)\n",
            "[M::mem_pestat] skip orientation FF as there are not enough pairs\n",
            "[M::mem_pestat] analyzing insert size distribution for orientation FR...\n",
            "[M::mem_pestat] (25, 50, 75) percentile: (207, 214, 222)\n",
            "[M::mem_pestat] low and high boundaries for computing mean and std.dev: (177, 252)\n",
            "[M::mem_pestat] mean and std.dev: (214.23, 10.15)\n",
            "[M::mem_pestat] low and high boundaries for proper pairs: (162, 267)\n",
            "[M::mem_pestat] skip orientation RF as there are not enough pairs\n",
            "[M::mem_pestat] skip orientation RR as there are not enough pairs\n",
            "[M::mem_process_seqs] Processed 100000 reads in 3.686 CPU sec, 3.307 real sec\n",
            "[M::process] read 100000 sequences (10000000 bp)...\n",
            "[M::mem_pestat] # candidate unique pairs for (FF, FR, RF, RR): (0, 48350, 0, 0)\n",
            "[M::mem_pestat] skip orientation FF as there are not enough pairs\n",
            "[M::mem_pestat] analyzing insert size distribution for orientation FR...\n",
            "[M::mem_pestat] (25, 50, 75) percentile: (207, 214, 222)\n",
            "[M::mem_pestat] low and high boundaries for computing mean and std.dev: (177, 252)\n",
            "[M::mem_pestat] mean and std.dev: (214.35, 10.15)\n",
            "[M::mem_pestat] low and high boundaries for proper pairs: (162, 267)\n",
            "[M::mem_pestat] skip orientation RF as there are not enough pairs\n",
            "[M::mem_pestat] skip orientation RR as there are not enough pairs\n",
            "[M::mem_process_seqs] Processed 100000 reads in 3.661 CPU sec, 3.294 real sec\n",
            "[M::process] read 100000 sequences (10000000 bp)...\n",
            "[M::mem_pestat] # candidate unique pairs for (FF, FR, RF, RR): (0, 48319, 0, 0)\n",
            "[M::mem_pestat] skip orientation FF as there are not enough pairs\n",
            "[M::mem_pestat] analyzing insert size distribution for orientation FR...\n",
            "[M::mem_pestat] (25, 50, 75) percentile: (207, 214, 222)\n",
            "[M::mem_pestat] low and high boundaries for computing mean and std.dev: (177, 252)\n",
            "[M::mem_pestat] mean and std.dev: (214.32, 10.16)\n",
            "[M::mem_pestat] low and high boundaries for proper pairs: (162, 267)\n",
            "[M::mem_pestat] skip orientation RF as there are not enough pairs\n",
            "[M::mem_pestat] skip orientation RR as there are not enough pairs\n",
            "[M::mem_process_seqs] Processed 100000 reads in 3.693 CPU sec, 3.317 real sec\n",
            "[M::process] read 100000 sequences (10000000 bp)...\n",
            "[M::mem_pestat] # candidate unique pairs for (FF, FR, RF, RR): (0, 48334, 0, 0)\n",
            "[M::mem_pestat] skip orientation FF as there are not enough pairs\n",
            "[M::mem_pestat] analyzing insert size distribution for orientation FR...\n",
            "[M::mem_pestat] (25, 50, 75) percentile: (207, 214, 222)\n",
            "[M::mem_pestat] low and high boundaries for computing mean and std.dev: (177, 252)\n",
            "[M::mem_pestat] mean and std.dev: (214.24, 10.13)\n",
            "[M::mem_pestat] low and high boundaries for proper pairs: (162, 267)\n",
            "[M::mem_pestat] skip orientation RF as there are not enough pairs\n",
            "[M::mem_pestat] skip orientation RR as there are not enough pairs\n",
            "[M::mem_process_seqs] Processed 100000 reads in 3.604 CPU sec, 3.228 real sec\n",
            "[M::process] read 63204 sequences (6320400 bp)...\n",
            "[M::mem_pestat] # candidate unique pairs for (FF, FR, RF, RR): (0, 48289, 0, 0)\n",
            "[M::mem_pestat] skip orientation FF as there are not enough pairs\n",
            "[M::mem_pestat] analyzing insert size distribution for orientation FR...\n",
            "[M::mem_pestat] (25, 50, 75) percentile: (207, 214, 222)\n",
            "[M::mem_pestat] low and high boundaries for computing mean and std.dev: (177, 252)\n",
            "[M::mem_pestat] mean and std.dev: (214.28, 10.14)\n",
            "[M::mem_pestat] low and high boundaries for proper pairs: (162, 267)\n",
            "[M::mem_pestat] skip orientation RF as there are not enough pairs\n",
            "[M::mem_pestat] skip orientation RR as there are not enough pairs\n",
            "[M::mem_process_seqs] Processed 100000 reads in 3.485 CPU sec, 3.211 real sec\n",
            "[M::mem_pestat] # candidate unique pairs for (FF, FR, RF, RR): (0, 30551, 0, 0)\n",
            "[M::mem_pestat] skip orientation FF as there are not enough pairs\n",
            "[M::mem_pestat] analyzing insert size distribution for orientation FR...\n",
            "[M::mem_pestat] (25, 50, 75) percentile: (207, 214, 222)\n",
            "[M::mem_pestat] low and high boundaries for computing mean and std.dev: (177, 252)\n",
            "[M::mem_pestat] mean and std.dev: (214.31, 10.19)\n",
            "[M::mem_pestat] low and high boundaries for proper pairs: (162, 267)\n",
            "[M::mem_pestat] skip orientation RF as there are not enough pairs\n",
            "[M::mem_pestat] skip orientation RR as there are not enough pairs\n",
            "[M::mem_process_seqs] Processed 63204 reads in 2.093 CPU sec, 1.995 real sec\n",
            "[main] Version: 0.7.17-r1188\n",
            "[main] CMD: bwa mem MG1655-K12.first400K.fasta ecoli_400K_err_1.fastq.gz ecoli_400K_err_2.fastq.gz\n",
            "[main] Real time: 95.783 sec; CPU: 105.066 sec\n"
          ]
        }
      ],
      "source": [
        "!bwa mem MG1655-K12.first400K.fasta ecoli_400K_err_1.fastq.gz ecoli_400K_err_2.fastq.gz > alignment.sam"
      ]
    },
    {
      "cell_type": "code",
      "execution_count": null,
      "metadata": {
        "id": "SvHMK-9ikH4Z"
      },
      "outputs": [],
      "source": [
        "!samtools view -bS -o alignment.bam alignment.sam"
      ]
    },
    {
      "cell_type": "code",
      "execution_count": null,
      "metadata": {
        "colab": {
          "base_uri": "https://localhost:8080/"
        },
        "id": "GCizMlMmkH4Z",
        "outputId": "879cf2ef-1875-43fc-94c5-feb104c96f78"
      },
      "outputs": [
        {
          "output_type": "stream",
          "name": "stdout",
          "text": [
            "[bam_sort_core] merging from 2 files...\n"
          ]
        }
      ],
      "source": [
        "!samtools sort -o alignment_sorted.bam alignment.bam"
      ]
    },
    {
      "cell_type": "code",
      "execution_count": null,
      "metadata": {
        "id": "Yn1yP17PkH4Z"
      },
      "outputs": [],
      "source": [
        "!samtools index -b alignment_sorted.bam alignment.bai"
      ]
    },
    {
      "cell_type": "code",
      "execution_count": null,
      "metadata": {
        "colab": {
          "base_uri": "https://localhost:8080/"
        },
        "outputId": "6ca73859-7d4f-40f2-83b4-5ef8ff290d89",
        "id": "rsIzJVLOkH4Z"
      },
      "outputs": [
        {
          "output_type": "stream",
          "name": "stdout",
          "text": [
            "2763204 + 0 in total (QC-passed reads + QC-failed reads)\n",
            "0 + 0 secondary\n",
            "0 + 0 supplementary\n",
            "0 + 0 duplicates\n",
            "2762617 + 0 mapped (99.98% : N/A)\n",
            "2763204 + 0 paired in sequencing\n",
            "1381602 + 0 read1\n",
            "1381602 + 0 read2\n",
            "2760820 + 0 properly paired (99.91% : N/A)\n",
            "2762132 + 0 with itself and mate mapped\n",
            "485 + 0 singletons (0.02% : N/A)\n",
            "0 + 0 with mate mapped to a different chr\n",
            "0 + 0 with mate mapped to a different chr (mapQ>=5)\n"
          ]
        }
      ],
      "source": [
        "!samtools flagstat alignment_sorted.bam"
      ]
    },
    {
      "cell_type": "markdown",
      "source": [
        "## Подсчёт замен"
      ],
      "metadata": {
        "id": "Jh0x7Nos0NEq"
      }
    },
    {
      "cell_type": "code",
      "source": [
        "test = pysam.AlignmentFile('alignment.sam', \"r\")\n",
        "pairs = []\n",
        "for read in test.fetch():\n",
        "    if not read.is_unmapped:\n",
        "        ref = read.get_reference_sequence()\n",
        "            \n",
        "        for read_nucleotide_idx, n, ref_nucleotide in read.get_aligned_pairs(matches_only=True, with_seq=True):\n",
        "                read_nucleotide = read.query[read_nucleotide_idx - read.query_alignment_start].upper()\n",
        "                if read_nucleotide.upper() != ref_nucleotide.upper():\n",
        "                    pairs.append([read_nucleotide.upper(), ref_nucleotide.upper(), n])"
      ],
      "metadata": {
        "id": "qPlW8xP-j1Nr"
      },
      "execution_count": null,
      "outputs": []
    },
    {
      "cell_type": "code",
      "source": [
        "test = pysam.AlignmentFile('corr_alignment.sam', \"r\")\n",
        "corr_pairs = []\n",
        "for read in test.fetch():\n",
        "    if not read.is_unmapped:\n",
        "        ref = read.get_reference_sequence()\n",
        "            \n",
        "        for read_nucleotide_idx, n, ref_nucleotide in read.get_aligned_pairs(matches_only=True, with_seq=True):\n",
        "                read_nucleotide = read.query[read_nucleotide_idx - read.query_alignment_start].upper()\n",
        "                if read_nucleotide.upper() != ref_nucleotide.upper():\n",
        "                    corr_pairs.append([read_nucleotide.upper(), ref_nucleotide.upper(), n])"
      ],
      "metadata": {
        "id": "3RoWdy7tj1Nz"
      },
      "execution_count": null,
      "outputs": []
    },
    {
      "cell_type": "code",
      "source": [
        "j = 0\n",
        "tpn = 0\n",
        "fpn = 0\n",
        "fp = 0\n",
        "fn = 0\n",
        "tp = 0\n",
        "tn = 0\n",
        "for i in range(len(corr_pos)):\n",
        "  if corr_pos[i] in pos:\n",
        "    j += 1\n",
        "    if corr_pairs[i][0] == 'N':\n",
        "      tpn += 1\n",
        "    else:\n",
        "      fn += 1\n",
        "  elif corr_pairs[i][0] == 'N':\n",
        "    fpn += 1\n",
        "  else:\n",
        "    fp += 1\n",
        "tp = len(pos) - j\n",
        "tn = int((lenth('alignment.sam') + lenth('corr_alignment.sam') -  fn  - tp) / 2)\n",
        "# чтобы найти Correctly unmodified base (true negative) мы посмотрим на все исходные и исправленные нуклеотиды\n",
        "# которые совпадают с референсом. в сумму их числа входит их симметрическая разность (нуклеотид исправленный/исходный совпал с референсом, а его брат нет)\n",
        "# и удвоенное пересечение (как раз Correctly unmodified base). Поэтому из суммы нуклеотидов вычитаем Detected & corrected error \n",
        "# (true positive) и Falsely corrected error (false positive) и делим разность пополам.\n",
        "\n",
        "# позиции Falsely corrected error (false positive), Undetected error (false negative), Detected and removed error \n",
        "# (true positive), Incorrectly removed base (false positive) считаем, смотря совпал ли нуклеотид с референсом изначально,\n",
        "# исправленный или совсем нет\n",
        "# Detected & corrected error (true positive) найдём как оставшиеся ошибки в исходных данных, которые мы ещё не учли\n",
        "\n",
        "\n",
        "\n",
        "\n"
      ],
      "metadata": {
        "id": "Ubh4XVptj1Nz"
      },
      "execution_count": null,
      "outputs": []
    },
    {
      "cell_type": "code",
      "source": [
        "data = {'Error in corrected reads':[fn, fp],\n",
        "        \n",
        "        'Correct base in corrected reads':[tp, tn],\n",
        "        \n",
        "        'Base is absent in corrected reads':[tpn, fpn]}\n",
        "\n",
        "df = pd.DataFrame(data, index =['Error in raw data', 'Correct base in raw data'])\n",
        "df"
      ],
      "metadata": {
        "colab": {
          "base_uri": "https://localhost:8080/",
          "height": 112
        },
        "outputId": "8f2441e2-4ec6-43b6-e222-20a838a22a4e",
        "id": "6AYgi63jj1N0"
      },
      "execution_count": null,
      "outputs": [
        {
          "output_type": "execute_result",
          "data": {
            "text/plain": [
              "                          Error in corrected reads  \\\n",
              "Error in raw data                             3682   \n",
              "Correct base in raw data                       173   \n",
              "\n",
              "                          Correct base in corrected reads  \\\n",
              "Error in raw data                                   43792   \n",
              "Correct base in raw data                         43880328   \n",
              "\n",
              "                          Base is absent in corrected reads  \n",
              "Error in raw data                                      7878  \n",
              "Correct base in raw data                                384  "
            ],
            "text/html": [
              "\n",
              "  <div id=\"df-5a675b6a-548d-4a55-bc42-66d40d34128c\">\n",
              "    <div class=\"colab-df-container\">\n",
              "      <div>\n",
              "<style scoped>\n",
              "    .dataframe tbody tr th:only-of-type {\n",
              "        vertical-align: middle;\n",
              "    }\n",
              "\n",
              "    .dataframe tbody tr th {\n",
              "        vertical-align: top;\n",
              "    }\n",
              "\n",
              "    .dataframe thead th {\n",
              "        text-align: right;\n",
              "    }\n",
              "</style>\n",
              "<table border=\"1\" class=\"dataframe\">\n",
              "  <thead>\n",
              "    <tr style=\"text-align: right;\">\n",
              "      <th></th>\n",
              "      <th>Error in corrected reads</th>\n",
              "      <th>Correct base in corrected reads</th>\n",
              "      <th>Base is absent in corrected reads</th>\n",
              "    </tr>\n",
              "  </thead>\n",
              "  <tbody>\n",
              "    <tr>\n",
              "      <th>Error in raw data</th>\n",
              "      <td>3682</td>\n",
              "      <td>43792</td>\n",
              "      <td>7878</td>\n",
              "    </tr>\n",
              "    <tr>\n",
              "      <th>Correct base in raw data</th>\n",
              "      <td>173</td>\n",
              "      <td>43880328</td>\n",
              "      <td>384</td>\n",
              "    </tr>\n",
              "  </tbody>\n",
              "</table>\n",
              "</div>\n",
              "      <button class=\"colab-df-convert\" onclick=\"convertToInteractive('df-5a675b6a-548d-4a55-bc42-66d40d34128c')\"\n",
              "              title=\"Convert this dataframe to an interactive table.\"\n",
              "              style=\"display:none;\">\n",
              "        \n",
              "  <svg xmlns=\"http://www.w3.org/2000/svg\" height=\"24px\"viewBox=\"0 0 24 24\"\n",
              "       width=\"24px\">\n",
              "    <path d=\"M0 0h24v24H0V0z\" fill=\"none\"/>\n",
              "    <path d=\"M18.56 5.44l.94 2.06.94-2.06 2.06-.94-2.06-.94-.94-2.06-.94 2.06-2.06.94zm-11 1L8.5 8.5l.94-2.06 2.06-.94-2.06-.94L8.5 2.5l-.94 2.06-2.06.94zm10 10l.94 2.06.94-2.06 2.06-.94-2.06-.94-.94-2.06-.94 2.06-2.06.94z\"/><path d=\"M17.41 7.96l-1.37-1.37c-.4-.4-.92-.59-1.43-.59-.52 0-1.04.2-1.43.59L10.3 9.45l-7.72 7.72c-.78.78-.78 2.05 0 2.83L4 21.41c.39.39.9.59 1.41.59.51 0 1.02-.2 1.41-.59l7.78-7.78 2.81-2.81c.8-.78.8-2.07 0-2.86zM5.41 20L4 18.59l7.72-7.72 1.47 1.35L5.41 20z\"/>\n",
              "  </svg>\n",
              "      </button>\n",
              "      \n",
              "  <style>\n",
              "    .colab-df-container {\n",
              "      display:flex;\n",
              "      flex-wrap:wrap;\n",
              "      gap: 12px;\n",
              "    }\n",
              "\n",
              "    .colab-df-convert {\n",
              "      background-color: #E8F0FE;\n",
              "      border: none;\n",
              "      border-radius: 50%;\n",
              "      cursor: pointer;\n",
              "      display: none;\n",
              "      fill: #1967D2;\n",
              "      height: 32px;\n",
              "      padding: 0 0 0 0;\n",
              "      width: 32px;\n",
              "    }\n",
              "\n",
              "    .colab-df-convert:hover {\n",
              "      background-color: #E2EBFA;\n",
              "      box-shadow: 0px 1px 2px rgba(60, 64, 67, 0.3), 0px 1px 3px 1px rgba(60, 64, 67, 0.15);\n",
              "      fill: #174EA6;\n",
              "    }\n",
              "\n",
              "    [theme=dark] .colab-df-convert {\n",
              "      background-color: #3B4455;\n",
              "      fill: #D2E3FC;\n",
              "    }\n",
              "\n",
              "    [theme=dark] .colab-df-convert:hover {\n",
              "      background-color: #434B5C;\n",
              "      box-shadow: 0px 1px 3px 1px rgba(0, 0, 0, 0.15);\n",
              "      filter: drop-shadow(0px 1px 2px rgba(0, 0, 0, 0.3));\n",
              "      fill: #FFFFFF;\n",
              "    }\n",
              "  </style>\n",
              "\n",
              "      <script>\n",
              "        const buttonEl =\n",
              "          document.querySelector('#df-5a675b6a-548d-4a55-bc42-66d40d34128c button.colab-df-convert');\n",
              "        buttonEl.style.display =\n",
              "          google.colab.kernel.accessAllowed ? 'block' : 'none';\n",
              "\n",
              "        async function convertToInteractive(key) {\n",
              "          const element = document.querySelector('#df-5a675b6a-548d-4a55-bc42-66d40d34128c');\n",
              "          const dataTable =\n",
              "            await google.colab.kernel.invokeFunction('convertToInteractive',\n",
              "                                                     [key], {});\n",
              "          if (!dataTable) return;\n",
              "\n",
              "          const docLinkHtml = 'Like what you see? Visit the ' +\n",
              "            '<a target=\"_blank\" href=https://colab.research.google.com/notebooks/data_table.ipynb>data table notebook</a>'\n",
              "            + ' to learn more about interactive tables.';\n",
              "          element.innerHTML = '';\n",
              "          dataTable['output_type'] = 'display_data';\n",
              "          await google.colab.output.renderOutput(dataTable, element);\n",
              "          const docLink = document.createElement('div');\n",
              "          docLink.innerHTML = docLinkHtml;\n",
              "          element.appendChild(docLink);\n",
              "        }\n",
              "      </script>\n",
              "    </div>\n",
              "  </div>\n",
              "  "
            ]
          },
          "metadata": {},
          "execution_count": 111
        }
      ]
    }
  ]
}