{
  "nbformat": 4,
  "nbformat_minor": 0,
  "metadata": {
    "colab": {
      "name": "NGS.ipynb",
      "provenance": [],
      "authorship_tag": "ABX9TyPRsrdSQgCWQpsUgv9Eluzh",
      "include_colab_link": true
    },
    "kernelspec": {
      "name": "python3",
      "display_name": "Python 3"
    },
    "language_info": {
      "name": "python"
    }
  },
  "cells": [
    {
      "cell_type": "markdown",
      "metadata": {
        "id": "view-in-github",
        "colab_type": "text"
      },
      "source": [
        "<a href=\"https://colab.research.google.com/github/ainesko/NGS-HW1/blob/main/NGS.ipynb\" target=\"_parent\"><img src=\"https://colab.research.google.com/assets/colab-badge.svg\" alt=\"Open In Colab\"/></a>"
      ]
    },
    {
      "cell_type": "markdown",
      "source": [
        "#Скачивание файлов с диска\n"
      ],
      "metadata": {
        "id": "kNDF5qxoS-jJ"
      }
    },
    {
      "cell_type": "markdown",
      "source": [
        "По ссылкам скачиваем с гугл-диска все файлы (кажется, работает только для Google Colab)"
      ],
      "metadata": {
        "id": "4DFFUfwETFll"
      }
    },
    {
      "cell_type": "code",
      "execution_count": 1,
      "metadata": {
        "id": "pNU35Y_ZSmba"
      },
      "outputs": [],
      "source": [
        "def download_from_disk(id):\n",
        "  import gdown\n",
        "  gdown.download(f'https://drive.google.com/uc?id={id}&confirm=t', quiet=False)"
      ]
    },
    {
      "cell_type": "code",
      "source": [
        "download_from_disk('1CFPMqaDxFEWts_ganpx21WY06IEgEgyj')"
      ],
      "metadata": {
        "colab": {
          "base_uri": "https://localhost:8080/"
        },
        "id": "z4ItfWaJSsbu",
        "outputId": "c5fc6f46-a852-4dd4-ad5e-b3314c4fa628"
      },
      "execution_count": 2,
      "outputs": [
        {
          "output_type": "stream",
          "name": "stderr",
          "text": [
            "Downloading...\n",
            "From: https://drive.google.com/uc?id=1CFPMqaDxFEWts_ganpx21WY06IEgEgyj&confirm=t\n",
            "To: /content/test.fastq\n",
            "100%|██████████| 2.04k/2.04k [00:00<00:00, 1.96MB/s]\n"
          ]
        }
      ]
    },
    {
      "cell_type": "code",
      "source": [
        "download_from_disk('1MOU5zHDh4FEj3QrwAYY1TyARKxfvvUiC')"
      ],
      "metadata": {
        "colab": {
          "base_uri": "https://localhost:8080/"
        },
        "id": "iDdBFlPhSutp",
        "outputId": "286517d6-0ca0-4186-8382-4802a608ffb1"
      },
      "execution_count": 26,
      "outputs": [
        {
          "output_type": "stream",
          "name": "stderr",
          "text": [
            "Downloading...\n",
            "From: https://drive.google.com/uc?id=1MOU5zHDh4FEj3QrwAYY1TyARKxfvvUiC&confirm=t\n",
            "To: /content/test3.fastq\n",
            "100%|██████████| 58.5k/58.5k [00:00<00:00, 2.07MB/s]\n"
          ]
        }
      ]
    },
    {
      "cell_type": "code",
      "source": [
        "download_from_disk('1sQ6ZEXAI2GVWq9ooP7Hfu0hKY85yo9pI')"
      ],
      "metadata": {
        "colab": {
          "base_uri": "https://localhost:8080/"
        },
        "id": "uBozIU4qTdzL",
        "outputId": "b50e495d-f10c-4eff-f84f-adc4ea403edd"
      },
      "execution_count": 2,
      "outputs": [
        {
          "output_type": "stream",
          "name": "stderr",
          "text": [
            "Downloading...\n",
            "From: https://drive.google.com/uc?id=1sQ6ZEXAI2GVWq9ooP7Hfu0hKY85yo9pI&confirm=t\n",
            "To: /content/100x.1.fastq.gz\n",
            "100%|██████████| 221M/221M [00:07<00:00, 28.8MB/s]\n"
          ]
        }
      ]
    },
    {
      "cell_type": "code",
      "source": [
        "download_from_disk('1lfJQANeObC3-t1U02pbR3BpvCK9IHH7V')"
      ],
      "metadata": {
        "colab": {
          "base_uri": "https://localhost:8080/"
        },
        "id": "-U4-mtFGTeCj",
        "outputId": "8f314a9c-61ec-472c-8498-b43de1397fe4"
      },
      "execution_count": 27,
      "outputs": [
        {
          "output_type": "stream",
          "name": "stderr",
          "text": [
            "Downloading...\n",
            "From: https://drive.google.com/uc?id=1lfJQANeObC3-t1U02pbR3BpvCK9IHH7V&confirm=t\n",
            "To: /content/100x.2.fastq.gz\n",
            "100%|██████████| 228M/228M [00:05<00:00, 41.4MB/s]\n"
          ]
        }
      ]
    },
    {
      "cell_type": "code",
      "source": [
        "download_from_disk('1sLa7-eeYyYANSKBp9m47TWKrSrpdZ_RT')"
      ],
      "metadata": {
        "colab": {
          "base_uri": "https://localhost:8080/"
        },
        "id": "rT-3IkmbTeTl",
        "outputId": "f7647e68-4559-4d21-8015-b06bc5c83a4d"
      },
      "execution_count": 11,
      "outputs": [
        {
          "output_type": "stream",
          "name": "stderr",
          "text": [
            "Downloading...\n",
            "From: https://drive.google.com/uc?id=1sLa7-eeYyYANSKBp9m47TWKrSrpdZ_RT&confirm=t\n",
            "To: /content/frag.R1.fastq.gz\n",
            "100%|██████████| 215M/215M [00:08<00:00, 25.4MB/s]\n"
          ]
        }
      ]
    },
    {
      "cell_type": "code",
      "source": [
        "download_from_disk('1PSmt5ZHBX9i2jMHtsiDLlr_5T_uFWk15')"
      ],
      "metadata": {
        "colab": {
          "base_uri": "https://localhost:8080/"
        },
        "id": "_PxQtOhcTegj",
        "outputId": "53facda8-9ac1-4794-d5a5-b9d24c2f29a0"
      },
      "execution_count": 28,
      "outputs": [
        {
          "output_type": "stream",
          "name": "stderr",
          "text": [
            "Downloading...\n",
            "From: https://drive.google.com/uc?id=1PSmt5ZHBX9i2jMHtsiDLlr_5T_uFWk15&confirm=t\n",
            "To: /content/frag.R2.fastq.gz\n",
            "100%|██████████| 199M/199M [00:05<00:00, 34.2MB/s]\n"
          ]
        }
      ]
    },
    {
      "cell_type": "markdown",
      "source": [
        "#Установка FastQC"
      ],
      "metadata": {
        "id": "5LfThYujU7mI"
      }
    },
    {
      "cell_type": "code",
      "source": [
        "!wget https://www.bioinformatics.babraham.ac.uk/projects/fastqc/fastqc_v0.11.9.zip\n",
        "!unzip fastqc_v0.11.9.zip\n",
        "!chmod a+x FastQC/fastqc"
      ],
      "metadata": {
        "colab": {
          "base_uri": "https://localhost:8080/"
        },
        "id": "MhEIQwZ5U6Et",
        "outputId": "1752b5dd-4e02-4006-bfa8-58e919f1b1b4"
      },
      "execution_count": 29,
      "outputs": [
        {
          "output_type": "stream",
          "name": "stdout",
          "text": [
            "--2022-02-22 10:59:53--  https://www.bioinformatics.babraham.ac.uk/projects/fastqc/fastqc_v0.11.9.zip\n",
            "Resolving www.bioinformatics.babraham.ac.uk (www.bioinformatics.babraham.ac.uk)... 149.155.133.4\n",
            "Connecting to www.bioinformatics.babraham.ac.uk (www.bioinformatics.babraham.ac.uk)|149.155.133.4|:443... connected.\n",
            "HTTP request sent, awaiting response... 200 OK\n",
            "Length: 10249221 (9.8M) [application/zip]\n",
            "Saving to: ‘fastqc_v0.11.9.zip’\n",
            "\n",
            "fastqc_v0.11.9.zip  100%[===================>]   9.77M  5.88MB/s    in 1.7s    \n",
            "\n",
            "2022-02-22 10:59:56 (5.88 MB/s) - ‘fastqc_v0.11.9.zip’ saved [10249221/10249221]\n",
            "\n",
            "Archive:  fastqc_v0.11.9.zip\n",
            "  inflating: FastQC/cisd-jhdf5.jar   \n",
            "   creating: FastQC/Configuration/\n",
            "  inflating: FastQC/Configuration/adapter_list.txt  \n",
            "  inflating: FastQC/Configuration/contaminant_list.txt  \n",
            "  inflating: FastQC/Configuration/limits.txt  \n",
            "  inflating: FastQC/fastqc           \n",
            "  inflating: FastQC/fastqc_icon.ico  \n",
            "   creating: FastQC/Help/\n",
            "   creating: FastQC/Help/1 Introduction/\n",
            "   creating: FastQC/Help/1 Introduction/.svn/\n",
            "  inflating: FastQC/Help/1 Introduction/.svn/entries  \n",
            "   creating: FastQC/Help/1 Introduction/.svn/props/\n",
            "   creating: FastQC/Help/1 Introduction/.svn/text-base/\n",
            "  inflating: FastQC/Help/1 Introduction/.svn/text-base/1.1 What is FastQC.html.svn-base  \n",
            "   creating: FastQC/Help/1 Introduction/.svn/tmp/\n",
            "   creating: FastQC/Help/1 Introduction/.svn/tmp/props/\n",
            "  inflating: FastQC/Help/1 Introduction/1.1 What is FastQC.html  \n",
            "   creating: FastQC/Help/2 Basic Operations/\n",
            "   creating: FastQC/Help/2 Basic Operations/.svn/\n",
            "  inflating: FastQC/Help/2 Basic Operations/.svn/entries  \n",
            "   creating: FastQC/Help/2 Basic Operations/.svn/props/\n",
            "   creating: FastQC/Help/2 Basic Operations/.svn/text-base/\n",
            "  inflating: FastQC/Help/2 Basic Operations/.svn/text-base/2.1 Opening a sequence file.html.svn-base  \n",
            "  inflating: FastQC/Help/2 Basic Operations/.svn/text-base/2.2 Evaluating Results.html.svn-base  \n",
            "  inflating: FastQC/Help/2 Basic Operations/.svn/text-base/2.3 Saving a Report.html.svn-base  \n",
            "   creating: FastQC/Help/2 Basic Operations/.svn/tmp/\n",
            "   creating: FastQC/Help/2 Basic Operations/.svn/tmp/props/\n",
            "  inflating: FastQC/Help/2 Basic Operations/2.1 Opening a sequence file.html  \n",
            "  inflating: FastQC/Help/2 Basic Operations/2.2 Evaluating Results.html  \n",
            "  inflating: FastQC/Help/2 Basic Operations/2.3 Saving a Report.html  \n",
            "   creating: FastQC/Help/3 Analysis Modules/\n",
            "   creating: FastQC/Help/3 Analysis Modules/.svn/\n",
            "  inflating: FastQC/Help/3 Analysis Modules/.svn/entries  \n",
            "   creating: FastQC/Help/3 Analysis Modules/.svn/prop-base/\n",
            " extracting: FastQC/Help/3 Analysis Modules/.svn/prop-base/duplication_levels.png.svn-base  \n",
            "  inflating: FastQC/Help/3 Analysis Modules/.svn/prop-base/kmer_profiles.png.svn-base  \n",
            " extracting: FastQC/Help/3 Analysis Modules/.svn/prop-base/per_base_gc_content.png.svn-base  \n",
            " extracting: FastQC/Help/3 Analysis Modules/.svn/prop-base/per_base_n_content.png.svn-base  \n",
            " extracting: FastQC/Help/3 Analysis Modules/.svn/prop-base/per_base_quality.png.svn-base  \n",
            " extracting: FastQC/Help/3 Analysis Modules/.svn/prop-base/per_base_sequence_content.png.svn-base  \n",
            " extracting: FastQC/Help/3 Analysis Modules/.svn/prop-base/per_sequence_gc_content.png.svn-base  \n",
            " extracting: FastQC/Help/3 Analysis Modules/.svn/prop-base/per_sequence_quality.png.svn-base  \n",
            " extracting: FastQC/Help/3 Analysis Modules/.svn/prop-base/per_tile_quality.png.svn-base  \n",
            " extracting: FastQC/Help/3 Analysis Modules/.svn/prop-base/sequence_length_distribution.png.svn-base  \n",
            "   creating: FastQC/Help/3 Analysis Modules/.svn/props/\n",
            "   creating: FastQC/Help/3 Analysis Modules/.svn/text-base/\n",
            "  inflating: FastQC/Help/3 Analysis Modules/.svn/text-base/1 Basic Statistics.html.svn-base  \n",
            "  inflating: FastQC/Help/3 Analysis Modules/.svn/text-base/10 Adapter Content.html.svn-base  \n",
            "  inflating: FastQC/Help/3 Analysis Modules/.svn/text-base/11 Kmer Content.html.svn-base  \n",
            "  inflating: FastQC/Help/3 Analysis Modules/.svn/text-base/12 Per Tile Sequence Quality.html.svn-base  \n",
            "  inflating: FastQC/Help/3 Analysis Modules/.svn/text-base/2 Per Base Sequence Quality.html.svn-base  \n",
            "  inflating: FastQC/Help/3 Analysis Modules/.svn/text-base/3 Per Sequence Quality Scores.html.svn-base  \n",
            "  inflating: FastQC/Help/3 Analysis Modules/.svn/text-base/4 Per Base Sequence Content.html.svn-base  \n",
            "  inflating: FastQC/Help/3 Analysis Modules/.svn/text-base/5 Per Sequence GC Content.html.svn-base  \n",
            "  inflating: FastQC/Help/3 Analysis Modules/.svn/text-base/6 Per Base N Content.html.svn-base  \n",
            "  inflating: FastQC/Help/3 Analysis Modules/.svn/text-base/7 Sequence Length Distribution.html.svn-base  \n",
            "  inflating: FastQC/Help/3 Analysis Modules/.svn/text-base/8 Duplicate Sequences.html.svn-base  \n",
            "  inflating: FastQC/Help/3 Analysis Modules/.svn/text-base/9 Overrepresented Sequences.html.svn-base  \n",
            "  inflating: FastQC/Help/3 Analysis Modules/.svn/text-base/duplication_levels.png.svn-base  \n",
            "  inflating: FastQC/Help/3 Analysis Modules/.svn/text-base/kmer_profiles.png.svn-base  \n",
            "  inflating: FastQC/Help/3 Analysis Modules/.svn/text-base/per_base_gc_content.png.svn-base  \n",
            "  inflating: FastQC/Help/3 Analysis Modules/.svn/text-base/per_base_n_content.png.svn-base  \n",
            "  inflating: FastQC/Help/3 Analysis Modules/.svn/text-base/per_base_quality.png.svn-base  \n",
            "  inflating: FastQC/Help/3 Analysis Modules/.svn/text-base/per_base_sequence_content.png.svn-base  \n",
            "  inflating: FastQC/Help/3 Analysis Modules/.svn/text-base/per_sequence_gc_content.png.svn-base  \n",
            "  inflating: FastQC/Help/3 Analysis Modules/.svn/text-base/per_sequence_quality.png.svn-base  \n",
            "  inflating: FastQC/Help/3 Analysis Modules/.svn/text-base/per_tile_quality.png.svn-base  \n",
            "  inflating: FastQC/Help/3 Analysis Modules/.svn/text-base/sequence_length_distribution.png.svn-base  \n",
            "   creating: FastQC/Help/3 Analysis Modules/.svn/tmp/\n",
            "   creating: FastQC/Help/3 Analysis Modules/.svn/tmp/props/\n",
            "  inflating: FastQC/Help/3 Analysis Modules/1 Basic Statistics.html  \n",
            "  inflating: FastQC/Help/3 Analysis Modules/10 Adapter Content.html  \n",
            "  inflating: FastQC/Help/3 Analysis Modules/11 Kmer Content.html  \n",
            "  inflating: FastQC/Help/3 Analysis Modules/12 Per Tile Sequence Quality.html  \n",
            "  inflating: FastQC/Help/3 Analysis Modules/2 Per Base Sequence Quality.html  \n",
            "  inflating: FastQC/Help/3 Analysis Modules/3 Per Sequence Quality Scores.html  \n",
            "  inflating: FastQC/Help/3 Analysis Modules/4 Per Base Sequence Content.html  \n",
            "  inflating: FastQC/Help/3 Analysis Modules/5 Per Sequence GC Content.html  \n",
            "  inflating: FastQC/Help/3 Analysis Modules/6 Per Base N Content.html  \n",
            "  inflating: FastQC/Help/3 Analysis Modules/7 Sequence Length Distribution.html  \n",
            "  inflating: FastQC/Help/3 Analysis Modules/8 Duplicate Sequences.html  \n",
            "  inflating: FastQC/Help/3 Analysis Modules/9 Overrepresented Sequences.html  \n",
            "  inflating: FastQC/Help/3 Analysis Modules/duplication_levels.png  \n",
            "  inflating: FastQC/Help/3 Analysis Modules/kmer_profiles.png  \n",
            "  inflating: FastQC/Help/3 Analysis Modules/per_base_gc_content.png  \n",
            "  inflating: FastQC/Help/3 Analysis Modules/per_base_n_content.png  \n",
            "  inflating: FastQC/Help/3 Analysis Modules/per_base_quality.png  \n",
            "  inflating: FastQC/Help/3 Analysis Modules/per_base_sequence_content.png  \n",
            "  inflating: FastQC/Help/3 Analysis Modules/per_sequence_gc_content.png  \n",
            "  inflating: FastQC/Help/3 Analysis Modules/per_sequence_quality.png  \n",
            "  inflating: FastQC/Help/3 Analysis Modules/per_tile_quality.png  \n",
            "  inflating: FastQC/Help/3 Analysis Modules/sequence_length_distribution.png  \n",
            "  inflating: FastQC/INSTALL.txt      \n",
            "  inflating: FastQC/jbzip2-0.9.jar   \n",
            "  inflating: FastQC/LICENSE          \n",
            "  inflating: FastQC/LICENSE.txt      \n",
            "  inflating: FastQC/LICENSE_JHDF5.txt  \n",
            "   creating: FastQC/net/\n",
            "   creating: FastQC/net/sourceforge/\n",
            "   creating: FastQC/net/sourceforge/iharder/\n",
            "   creating: FastQC/net/sourceforge/iharder/base64/\n",
            "  inflating: FastQC/net/sourceforge/iharder/base64/Base64$1.class  \n",
            "  inflating: FastQC/net/sourceforge/iharder/base64/Base64$InputStream.class  \n",
            "  inflating: FastQC/net/sourceforge/iharder/base64/Base64$OutputStream.class  \n",
            "  inflating: FastQC/net/sourceforge/iharder/base64/Base64.class  \n",
            "   creating: FastQC/org/\n",
            "   creating: FastQC/org/apache/\n",
            "   creating: FastQC/org/apache/commons/\n",
            "   creating: FastQC/org/apache/commons/math3/\n",
            "   creating: FastQC/org/apache/commons/math3/analysis/\n",
            "   creating: FastQC/org/apache/commons/math3/analysis/solvers/\n",
            "  inflating: FastQC/org/apache/commons/math3/analysis/solvers/AbstractUnivariateSolver.class  \n",
            "  inflating: FastQC/org/apache/commons/math3/analysis/solvers/AllowedSolution.class  \n",
            "  inflating: FastQC/org/apache/commons/math3/analysis/solvers/BaseAbstractUnivariateSolver.class  \n",
            "  inflating: FastQC/org/apache/commons/math3/analysis/solvers/BaseUnivariateSolver.class  \n",
            "  inflating: FastQC/org/apache/commons/math3/analysis/solvers/BracketedUnivariateSolver.class  \n",
            "  inflating: FastQC/org/apache/commons/math3/analysis/solvers/BrentSolver.class  \n",
            "  inflating: FastQC/org/apache/commons/math3/analysis/solvers/UnivariateSolver.class  \n",
            "  inflating: FastQC/org/apache/commons/math3/analysis/solvers/UnivariateSolverUtils.class  \n",
            "  inflating: FastQC/org/apache/commons/math3/analysis/UnivariateFunction.class  \n",
            "   creating: FastQC/org/apache/commons/math3/distribution/\n",
            "  inflating: FastQC/org/apache/commons/math3/distribution/AbstractIntegerDistribution.class  \n",
            "  inflating: FastQC/org/apache/commons/math3/distribution/AbstractRealDistribution$1.class  \n",
            "  inflating: FastQC/org/apache/commons/math3/distribution/AbstractRealDistribution.class  \n",
            "  inflating: FastQC/org/apache/commons/math3/distribution/BetaDistribution.class  \n",
            "  inflating: FastQC/org/apache/commons/math3/distribution/BinomialDistribution.class  \n",
            "  inflating: FastQC/org/apache/commons/math3/distribution/CauchyDistribution.class  \n",
            "  inflating: FastQC/org/apache/commons/math3/distribution/ChiSquaredDistribution.class  \n",
            "  inflating: FastQC/org/apache/commons/math3/distribution/FDistribution.class  \n",
            "  inflating: FastQC/org/apache/commons/math3/distribution/GammaDistribution.class  \n",
            "  inflating: FastQC/org/apache/commons/math3/distribution/HypergeometricDistribution.class  \n",
            "  inflating: FastQC/org/apache/commons/math3/distribution/IntegerDistribution.class  \n",
            "  inflating: FastQC/org/apache/commons/math3/distribution/NormalDistribution.class  \n",
            "  inflating: FastQC/org/apache/commons/math3/distribution/PascalDistribution.class  \n",
            "  inflating: FastQC/org/apache/commons/math3/distribution/PoissonDistribution.class  \n",
            "  inflating: FastQC/org/apache/commons/math3/distribution/RealDistribution.class  \n",
            "  inflating: FastQC/org/apache/commons/math3/distribution/SaddlePointExpansion.class  \n",
            "  inflating: FastQC/org/apache/commons/math3/distribution/TDistribution.class  \n",
            "  inflating: FastQC/org/apache/commons/math3/distribution/WeibullDistribution.class  \n",
            "  inflating: FastQC/org/apache/commons/math3/distribution/ZipfDistribution.class  \n",
            "   creating: FastQC/org/apache/commons/math3/exception/\n",
            "  inflating: FastQC/org/apache/commons/math3/exception/ConvergenceException.class  \n",
            "  inflating: FastQC/org/apache/commons/math3/exception/DimensionMismatchException.class  \n",
            "  inflating: FastQC/org/apache/commons/math3/exception/MathArithmeticException.class  \n",
            "  inflating: FastQC/org/apache/commons/math3/exception/MathIllegalArgumentException.class  \n",
            "  inflating: FastQC/org/apache/commons/math3/exception/MathIllegalNumberException.class  \n",
            "  inflating: FastQC/org/apache/commons/math3/exception/MathIllegalStateException.class  \n",
            "  inflating: FastQC/org/apache/commons/math3/exception/MathInternalError.class  \n",
            "  inflating: FastQC/org/apache/commons/math3/exception/MaxCountExceededException.class  \n",
            "  inflating: FastQC/org/apache/commons/math3/exception/NoBracketingException.class  \n",
            "  inflating: FastQC/org/apache/commons/math3/exception/NotFiniteNumberException.class  \n",
            "  inflating: FastQC/org/apache/commons/math3/exception/NotPositiveException.class  \n",
            "  inflating: FastQC/org/apache/commons/math3/exception/NotStrictlyPositiveException.class  \n",
            "  inflating: FastQC/org/apache/commons/math3/exception/NullArgumentException.class  \n",
            "  inflating: FastQC/org/apache/commons/math3/exception/NumberIsTooLargeException.class  \n",
            "  inflating: FastQC/org/apache/commons/math3/exception/NumberIsTooSmallException.class  \n",
            "  inflating: FastQC/org/apache/commons/math3/exception/OutOfRangeException.class  \n",
            "  inflating: FastQC/org/apache/commons/math3/exception/TooManyEvaluationsException.class  \n",
            "   creating: FastQC/org/apache/commons/math3/exception/util/\n",
            "  inflating: FastQC/org/apache/commons/math3/exception/util/ArgUtils.class  \n",
            "  inflating: FastQC/org/apache/commons/math3/exception/util/ExceptionContext.class  \n",
            "  inflating: FastQC/org/apache/commons/math3/exception/util/ExceptionContextProvider.class  \n",
            "  inflating: FastQC/org/apache/commons/math3/exception/util/Localizable.class  \n",
            "  inflating: FastQC/org/apache/commons/math3/exception/util/LocalizedFormats.class  \n",
            "   creating: FastQC/org/apache/commons/math3/random/\n",
            "  inflating: FastQC/org/apache/commons/math3/random/AbstractWell.class  \n",
            "  inflating: FastQC/org/apache/commons/math3/random/BitsStreamGenerator.class  \n",
            "  inflating: FastQC/org/apache/commons/math3/random/RandomData.class  \n",
            "  inflating: FastQC/org/apache/commons/math3/random/RandomDataImpl.class  \n",
            "  inflating: FastQC/org/apache/commons/math3/random/RandomGenerator.class  \n",
            "  inflating: FastQC/org/apache/commons/math3/random/Well19937c.class  \n",
            "   creating: FastQC/org/apache/commons/math3/special/\n",
            "  inflating: FastQC/org/apache/commons/math3/special/Beta$1.class  \n",
            "  inflating: FastQC/org/apache/commons/math3/special/Beta.class  \n",
            "  inflating: FastQC/org/apache/commons/math3/special/Erf.class  \n",
            "  inflating: FastQC/org/apache/commons/math3/special/Gamma$1.class  \n",
            "  inflating: FastQC/org/apache/commons/math3/special/Gamma.class  \n",
            "   creating: FastQC/org/apache/commons/math3/util/\n",
            "  inflating: FastQC/org/apache/commons/math3/util/ArithmeticUtils.class  \n",
            "  inflating: FastQC/org/apache/commons/math3/util/ContinuedFraction.class  \n",
            "  inflating: FastQC/org/apache/commons/math3/util/DoubleArray.class  \n",
            "  inflating: FastQC/org/apache/commons/math3/util/FastMath$ExpFracTable.class  \n",
            "  inflating: FastQC/org/apache/commons/math3/util/FastMath$ExpIntTable.class  \n",
            "  inflating: FastQC/org/apache/commons/math3/util/FastMath$lnMant.class  \n",
            "  inflating: FastQC/org/apache/commons/math3/util/FastMath.class  \n",
            "  inflating: FastQC/org/apache/commons/math3/util/FastMathCalc.class  \n",
            "  inflating: FastQC/org/apache/commons/math3/util/FastMathLiteralArrays.class  \n",
            "  inflating: FastQC/org/apache/commons/math3/util/Incrementor$1.class  \n",
            "  inflating: FastQC/org/apache/commons/math3/util/Incrementor$MaxCountExceededCallback.class  \n",
            "  inflating: FastQC/org/apache/commons/math3/util/Incrementor.class  \n",
            "  inflating: FastQC/org/apache/commons/math3/util/MathUtils.class  \n",
            "  inflating: FastQC/org/apache/commons/math3/util/Precision.class  \n",
            "  inflating: FastQC/org/apache/commons/math3/util/ResizableDoubleArray.class  \n",
            "  inflating: FastQC/README.md        \n",
            "  inflating: FastQC/README.txt       \n",
            "  inflating: FastQC/RELEASE_NOTES.txt  \n",
            "  inflating: FastQC/run_fastqc.bat   \n",
            "  inflating: FastQC/sam-1.103.jar    \n",
            "   creating: FastQC/Templates/\n",
            "  inflating: FastQC/Templates/fastqc2fo.xsl  \n",
            "  inflating: FastQC/Templates/header_template.html  \n",
            "   creating: FastQC/Templates/Icons/\n",
            " extracting: FastQC/Templates/Icons/error.png  \n",
            " extracting: FastQC/Templates/Icons/fastqc_icon.png  \n",
            " extracting: FastQC/Templates/Icons/tick.png  \n",
            " extracting: FastQC/Templates/Icons/warning.png  \n",
            "   creating: FastQC/uk/\n",
            "   creating: FastQC/uk/ac/\n",
            "   creating: FastQC/uk/ac/babraham/\n",
            "   creating: FastQC/uk/ac/babraham/FastQC/\n",
            "   creating: FastQC/uk/ac/babraham/FastQC/Analysis/\n",
            "  inflating: FastQC/uk/ac/babraham/FastQC/Analysis/AnalysisListener.class  \n",
            "  inflating: FastQC/uk/ac/babraham/FastQC/Analysis/AnalysisQueue.class  \n",
            "  inflating: FastQC/uk/ac/babraham/FastQC/Analysis/AnalysisRunner.class  \n",
            "  inflating: FastQC/uk/ac/babraham/FastQC/Analysis/OfflineRunner.class  \n",
            "   creating: FastQC/uk/ac/babraham/FastQC/Dialogs/\n",
            "  inflating: FastQC/uk/ac/babraham/FastQC/Dialogs/AboutDialog$1.class  \n",
            "  inflating: FastQC/uk/ac/babraham/FastQC/Dialogs/AboutDialog.class  \n",
            "  inflating: FastQC/uk/ac/babraham/FastQC/Dialogs/FastQCTitlePanel$SmoothJLabel.class  \n",
            "  inflating: FastQC/uk/ac/babraham/FastQC/Dialogs/FastQCTitlePanel.class  \n",
            "  inflating: FastQC/uk/ac/babraham/FastQC/Dialogs/WelcomePanel.class  \n",
            "  inflating: FastQC/uk/ac/babraham/FastQC/FastQCApplication$1.class  \n",
            "  inflating: FastQC/uk/ac/babraham/FastQC/FastQCApplication.class  \n",
            "  inflating: FastQC/uk/ac/babraham/FastQC/FastQCConfig.class  \n",
            "  inflating: FastQC/uk/ac/babraham/FastQC/FastQCMenuBar.class  \n",
            "   creating: FastQC/uk/ac/babraham/FastQC/FileFilters/\n",
            "  inflating: FastQC/uk/ac/babraham/FastQC/FileFilters/BAMFileFilter.class  \n",
            "  inflating: FastQC/uk/ac/babraham/FastQC/FileFilters/CasavaFastQFileFilter.class  \n",
            "  inflating: FastQC/uk/ac/babraham/FastQC/FileFilters/FastQFileFilter.class  \n",
            "  inflating: FastQC/uk/ac/babraham/FastQC/FileFilters/GobyFileFilter.class  \n",
            "  inflating: FastQC/uk/ac/babraham/FastQC/FileFilters/MappedBAMFileFilter.class  \n",
            "  inflating: FastQC/uk/ac/babraham/FastQC/FileFilters/SequenceFileFilter.class  \n",
            "   creating: FastQC/uk/ac/babraham/FastQC/Graphs/\n",
            "  inflating: FastQC/uk/ac/babraham/FastQC/Graphs/BaseGroup.class  \n",
            "  inflating: FastQC/uk/ac/babraham/FastQC/Graphs/LineGraph.class  \n",
            "  inflating: FastQC/uk/ac/babraham/FastQC/Graphs/QualityBoxPlot.class  \n",
            "  inflating: FastQC/uk/ac/babraham/FastQC/Graphs/TileGraph.class  \n",
            "   creating: FastQC/uk/ac/babraham/FastQC/Help/\n",
            "  inflating: FastQC/uk/ac/babraham/FastQC/Help/HelpDialog.class  \n",
            "  inflating: FastQC/uk/ac/babraham/FastQC/Help/HelpIndexRoot$FileSorter.class  \n",
            "  inflating: FastQC/uk/ac/babraham/FastQC/Help/HelpIndexRoot.class  \n",
            "  inflating: FastQC/uk/ac/babraham/FastQC/Help/HelpPage.class  \n",
            "  inflating: FastQC/uk/ac/babraham/FastQC/Help/HelpPageDisplay$HelpEditor.class  \n",
            "  inflating: FastQC/uk/ac/babraham/FastQC/Help/HelpPageDisplay.class  \n",
            "  inflating: FastQC/uk/ac/babraham/FastQC/Help/HelpSearchPanel.class  \n",
            "   creating: FastQC/uk/ac/babraham/FastQC/Modules/\n",
            "  inflating: FastQC/uk/ac/babraham/FastQC/Modules/AbstractQCModule.class  \n",
            "  inflating: FastQC/uk/ac/babraham/FastQC/Modules/AdapterContent$Adapter.class  \n",
            "  inflating: FastQC/uk/ac/babraham/FastQC/Modules/AdapterContent$ResultsTable.class  \n",
            "  inflating: FastQC/uk/ac/babraham/FastQC/Modules/AdapterContent.class  \n",
            "  inflating: FastQC/uk/ac/babraham/FastQC/Modules/BasicStats$ResultsTable.class  \n",
            "  inflating: FastQC/uk/ac/babraham/FastQC/Modules/BasicStats.class  \n",
            "  inflating: FastQC/uk/ac/babraham/FastQC/Modules/DuplicationLevel.class  \n",
            "   creating: FastQC/uk/ac/babraham/FastQC/Modules/GCModel/\n",
            "  inflating: FastQC/uk/ac/babraham/FastQC/Modules/GCModel/GCModel.class  \n",
            "  inflating: FastQC/uk/ac/babraham/FastQC/Modules/GCModel/GCModelValue.class  \n",
            "  inflating: FastQC/uk/ac/babraham/FastQC/Modules/KmerContent$Kmer.class  \n",
            "  inflating: FastQC/uk/ac/babraham/FastQC/Modules/KmerContent$ResultsTable.class  \n",
            "  inflating: FastQC/uk/ac/babraham/FastQC/Modules/KmerContent.class  \n",
            "  inflating: FastQC/uk/ac/babraham/FastQC/Modules/ModuleConfig.class  \n",
            "  inflating: FastQC/uk/ac/babraham/FastQC/Modules/ModuleFactory.class  \n",
            "  inflating: FastQC/uk/ac/babraham/FastQC/Modules/NContent.class  \n",
            "  inflating: FastQC/uk/ac/babraham/FastQC/Modules/OverRepresentedSeqs$OverrepresentedSeq.class  \n",
            "  inflating: FastQC/uk/ac/babraham/FastQC/Modules/OverRepresentedSeqs$ResultsTable.class  \n",
            "  inflating: FastQC/uk/ac/babraham/FastQC/Modules/OverRepresentedSeqs.class  \n",
            "  inflating: FastQC/uk/ac/babraham/FastQC/Modules/PerBaseQualityScores.class  \n",
            "  inflating: FastQC/uk/ac/babraham/FastQC/Modules/PerBaseSequenceContent.class  \n",
            "  inflating: FastQC/uk/ac/babraham/FastQC/Modules/PerSequenceGCContent.class  \n",
            "  inflating: FastQC/uk/ac/babraham/FastQC/Modules/PerSequenceQualityScores.class  \n",
            "  inflating: FastQC/uk/ac/babraham/FastQC/Modules/PerTileQualityScores.class  \n",
            "  inflating: FastQC/uk/ac/babraham/FastQC/Modules/QCModule.class  \n",
            "  inflating: FastQC/uk/ac/babraham/FastQC/Modules/SequenceLengthDistribution.class  \n",
            "   creating: FastQC/uk/ac/babraham/FastQC/Report/\n",
            "  inflating: FastQC/uk/ac/babraham/FastQC/Report/HTMLReportArchive.class  \n",
            "  inflating: FastQC/uk/ac/babraham/FastQC/Report/stylesheet.txt  \n",
            "   creating: FastQC/uk/ac/babraham/FastQC/Resources/\n",
            " extracting: FastQC/uk/ac/babraham/FastQC/Resources/error.png  \n",
            " extracting: FastQC/uk/ac/babraham/FastQC/Resources/fastqc_icon.png  \n",
            "  inflating: FastQC/uk/ac/babraham/FastQC/Resources/fastqc_icon.svg  \n",
            " extracting: FastQC/uk/ac/babraham/FastQC/Resources/fastqc_icon_100.png  \n",
            " extracting: FastQC/uk/ac/babraham/FastQC/Resources/tick.png  \n",
            " extracting: FastQC/uk/ac/babraham/FastQC/Resources/warning.png  \n",
            "   creating: FastQC/uk/ac/babraham/FastQC/Results/\n",
            "  inflating: FastQC/uk/ac/babraham/FastQC/Results/ResultsPanel$ModuleRenderer.class  \n",
            "  inflating: FastQC/uk/ac/babraham/FastQC/Results/ResultsPanel.class  \n",
            "   creating: FastQC/uk/ac/babraham/FastQC/Sequence/\n",
            "  inflating: FastQC/uk/ac/babraham/FastQC/Sequence/BAMFile.class  \n",
            "   creating: FastQC/uk/ac/babraham/FastQC/Sequence/Contaminant/\n",
            "  inflating: FastQC/uk/ac/babraham/FastQC/Sequence/Contaminant/Contaminant.class  \n",
            "  inflating: FastQC/uk/ac/babraham/FastQC/Sequence/Contaminant/ContaminantHit.class  \n",
            "  inflating: FastQC/uk/ac/babraham/FastQC/Sequence/Contaminant/ContaminentFinder.class  \n",
            "  inflating: FastQC/uk/ac/babraham/FastQC/Sequence/Fast5File.class  \n",
            "  inflating: FastQC/uk/ac/babraham/FastQC/Sequence/FastQFile.class  \n",
            "   creating: FastQC/uk/ac/babraham/FastQC/Sequence/QualityEncoding/\n",
            "  inflating: FastQC/uk/ac/babraham/FastQC/Sequence/QualityEncoding/PhredEncoding.class  \n",
            "  inflating: FastQC/uk/ac/babraham/FastQC/Sequence/Sequence.class  \n",
            "  inflating: FastQC/uk/ac/babraham/FastQC/Sequence/SequenceFactory.class  \n",
            "  inflating: FastQC/uk/ac/babraham/FastQC/Sequence/SequenceFile.class  \n",
            "  inflating: FastQC/uk/ac/babraham/FastQC/Sequence/SequenceFileGroup.class  \n",
            "  inflating: FastQC/uk/ac/babraham/FastQC/Sequence/SequenceFormatException.class  \n",
            "   creating: FastQC/uk/ac/babraham/FastQC/Statistics/\n",
            "  inflating: FastQC/uk/ac/babraham/FastQC/Statistics/NormalDistribution.class  \n",
            "  inflating: FastQC/uk/ac/babraham/FastQC/Statistics/PearsonCorrelation.class  \n",
            "   creating: FastQC/uk/ac/babraham/FastQC/Utilities/\n",
            "  inflating: FastQC/uk/ac/babraham/FastQC/Utilities/CasavaBasename.class  \n",
            "  inflating: FastQC/uk/ac/babraham/FastQC/Utilities/HotColdColourGradient.class  \n",
            "  inflating: FastQC/uk/ac/babraham/FastQC/Utilities/ImageToBase64.class  \n",
            "  inflating: FastQC/uk/ac/babraham/FastQC/Utilities/MultiMemberGZIPInputStream.class  \n",
            "  inflating: FastQC/uk/ac/babraham/FastQC/Utilities/NameFormatException.class  \n",
            "  inflating: FastQC/uk/ac/babraham/FastQC/Utilities/NanoporeBasename.class  \n",
            "  inflating: FastQC/uk/ac/babraham/FastQC/Utilities/QualityCount.class  \n",
            "  inflating: FastQC/uk/ac/babraham/FastQC/Utilities/RGB.class  \n"
          ]
        }
      ]
    },
    {
      "cell_type": "markdown",
      "source": [
        "#Проведём анализ FastQC для данных"
      ],
      "metadata": {
        "id": "uPdJlN-UWh-p"
      }
    },
    {
      "cell_type": "code",
      "source": [
        "! gunzip 100x.1.fastq.gz"
      ],
      "metadata": {
        "colab": {
          "base_uri": "https://localhost:8080/"
        },
        "id": "sVf9a9U0WQr5",
        "outputId": "958a3ce1-e0b9-425e-d82b-a987c4bba5ca"
      },
      "execution_count": 30,
      "outputs": [
        {
          "output_type": "stream",
          "name": "stdout",
          "text": [
            "gzip: 100x.1.fastq.gz: No such file or directory\n"
          ]
        }
      ]
    },
    {
      "cell_type": "code",
      "source": [
        "!ls 100x.1.fastq | xargs -P 2 -tI{} ./FastQC/fastqc {}"
      ],
      "metadata": {
        "colab": {
          "base_uri": "https://localhost:8080/"
        },
        "id": "MNmBasxNW4B2",
        "outputId": "11821e6a-8cd3-452c-a170-22aff62135ab"
      },
      "execution_count": 31,
      "outputs": [
        {
          "output_type": "stream",
          "name": "stdout",
          "text": [
            "./FastQC/fastqc 100x.1.fastq \n",
            "Started analysis of 100x.1.fastq\n",
            "Approx 5% complete for 100x.1.fastq\n",
            "Approx 10% complete for 100x.1.fastq\n",
            "Approx 15% complete for 100x.1.fastq\n",
            "Approx 20% complete for 100x.1.fastq\n",
            "Approx 25% complete for 100x.1.fastq\n",
            "Approx 30% complete for 100x.1.fastq\n",
            "Approx 35% complete for 100x.1.fastq\n",
            "Approx 40% complete for 100x.1.fastq\n",
            "Approx 45% complete for 100x.1.fastq\n",
            "Approx 50% complete for 100x.1.fastq\n",
            "Approx 55% complete for 100x.1.fastq\n",
            "Approx 60% complete for 100x.1.fastq\n",
            "Approx 65% complete for 100x.1.fastq\n",
            "Approx 70% complete for 100x.1.fastq\n",
            "Approx 75% complete for 100x.1.fastq\n",
            "Approx 80% complete for 100x.1.fastq\n",
            "Approx 85% complete for 100x.1.fastq\n",
            "Approx 90% complete for 100x.1.fastq\n",
            "Approx 95% complete for 100x.1.fastq\n",
            "Approx 100% complete for 100x.1.fastq\n",
            "Analysis complete for 100x.1.fastq\n"
          ]
        }
      ]
    },
    {
      "cell_type": "code",
      "source": [
        "! gunzip 100x.2.fastq.gz"
      ],
      "metadata": {
        "id": "YEmY-exSXQgk"
      },
      "execution_count": 32,
      "outputs": []
    },
    {
      "cell_type": "code",
      "source": [
        "!ls 100x.2.fastq | xargs -P 2 -tI{} ./FastQC/fastqc {}"
      ],
      "metadata": {
        "colab": {
          "base_uri": "https://localhost:8080/"
        },
        "id": "ebgxPRlFXWey",
        "outputId": "8603e1c3-e7c0-488f-c99c-49a781e57c5c"
      },
      "execution_count": 33,
      "outputs": [
        {
          "output_type": "stream",
          "name": "stdout",
          "text": [
            "./FastQC/fastqc 100x.2.fastq \n",
            "Started analysis of 100x.2.fastq\n",
            "Approx 5% complete for 100x.2.fastq\n",
            "Approx 10% complete for 100x.2.fastq\n",
            "Approx 15% complete for 100x.2.fastq\n",
            "Approx 20% complete for 100x.2.fastq\n",
            "Approx 25% complete for 100x.2.fastq\n",
            "Approx 30% complete for 100x.2.fastq\n",
            "Approx 35% complete for 100x.2.fastq\n",
            "Approx 40% complete for 100x.2.fastq\n",
            "Approx 45% complete for 100x.2.fastq\n",
            "Approx 50% complete for 100x.2.fastq\n",
            "Approx 55% complete for 100x.2.fastq\n",
            "Approx 60% complete for 100x.2.fastq\n",
            "Approx 65% complete for 100x.2.fastq\n",
            "Approx 70% complete for 100x.2.fastq\n",
            "Approx 75% complete for 100x.2.fastq\n",
            "Approx 80% complete for 100x.2.fastq\n",
            "Approx 85% complete for 100x.2.fastq\n",
            "Approx 90% complete for 100x.2.fastq\n",
            "Approx 95% complete for 100x.2.fastq\n",
            "Approx 100% complete for 100x.2.fastq\n",
            "Analysis complete for 100x.2.fastq\n"
          ]
        }
      ]
    },
    {
      "cell_type": "code",
      "source": [
        "! gunzip frag.R1.fastq.gz"
      ],
      "metadata": {
        "id": "9al9xZ7nXlzd"
      },
      "execution_count": 12,
      "outputs": []
    },
    {
      "cell_type": "code",
      "source": [
        "!ls frag.R1.fastq | xargs -P 2 -tI{} ./FastQC/fastqc {}"
      ],
      "metadata": {
        "colab": {
          "base_uri": "https://localhost:8080/"
        },
        "id": "7K6I9ThnXl2h",
        "outputId": "fba39627-83c2-4ae3-8afa-9d1822f63e8a"
      },
      "execution_count": 34,
      "outputs": [
        {
          "output_type": "stream",
          "name": "stdout",
          "text": [
            "./FastQC/fastqc frag.R1.fastq \n",
            "Started analysis of frag.R1.fastq\n",
            "Approx 5% complete for frag.R1.fastq\n",
            "Approx 10% complete for frag.R1.fastq\n",
            "Approx 15% complete for frag.R1.fastq\n",
            "Approx 20% complete for frag.R1.fastq\n",
            "Approx 25% complete for frag.R1.fastq\n",
            "Approx 30% complete for frag.R1.fastq\n",
            "Approx 35% complete for frag.R1.fastq\n",
            "Approx 40% complete for frag.R1.fastq\n",
            "Approx 45% complete for frag.R1.fastq\n",
            "Approx 50% complete for frag.R1.fastq\n",
            "Approx 55% complete for frag.R1.fastq\n",
            "Approx 60% complete for frag.R1.fastq\n",
            "Approx 65% complete for frag.R1.fastq\n",
            "Approx 70% complete for frag.R1.fastq\n",
            "Approx 75% complete for frag.R1.fastq\n",
            "Approx 80% complete for frag.R1.fastq\n",
            "Approx 85% complete for frag.R1.fastq\n",
            "Approx 90% complete for frag.R1.fastq\n",
            "Approx 95% complete for frag.R1.fastq\n",
            "Analysis complete for frag.R1.fastq\n"
          ]
        }
      ]
    },
    {
      "cell_type": "code",
      "source": [
        "! gunzip frag.R2.fastq.gz"
      ],
      "metadata": {
        "id": "AVdFBH7uXl71"
      },
      "execution_count": 35,
      "outputs": []
    },
    {
      "cell_type": "code",
      "source": [
        "!ls frag.R2.fastq | xargs -P 2 -tI{} ./FastQC/fastqc {}"
      ],
      "metadata": {
        "colab": {
          "base_uri": "https://localhost:8080/"
        },
        "id": "hPjYYSBeXl-Y",
        "outputId": "ff36dd75-dba7-46b4-a49e-e62e35f52284"
      },
      "execution_count": 36,
      "outputs": [
        {
          "output_type": "stream",
          "name": "stdout",
          "text": [
            "./FastQC/fastqc frag.R2.fastq \n",
            "Started analysis of frag.R2.fastq\n",
            "Approx 5% complete for frag.R2.fastq\n",
            "Approx 10% complete for frag.R2.fastq\n",
            "Approx 15% complete for frag.R2.fastq\n",
            "Approx 20% complete for frag.R2.fastq\n",
            "Approx 25% complete for frag.R2.fastq\n",
            "Approx 30% complete for frag.R2.fastq\n",
            "Approx 35% complete for frag.R2.fastq\n",
            "Approx 40% complete for frag.R2.fastq\n",
            "Approx 45% complete for frag.R2.fastq\n",
            "Approx 50% complete for frag.R2.fastq\n",
            "Approx 55% complete for frag.R2.fastq\n",
            "Approx 60% complete for frag.R2.fastq\n",
            "Approx 65% complete for frag.R2.fastq\n",
            "Approx 70% complete for frag.R2.fastq\n",
            "Approx 75% complete for frag.R2.fastq\n",
            "Approx 80% complete for frag.R2.fastq\n",
            "Approx 85% complete for frag.R2.fastq\n",
            "Approx 90% complete for frag.R2.fastq\n",
            "Approx 95% complete for frag.R2.fastq\n",
            "Analysis complete for frag.R2.fastq\n"
          ]
        }
      ]
    },
    {
      "cell_type": "code",
      "source": [
        "!ls test3.fastq | xargs -P 2 -tI{} ./FastQC/fastqc {}"
      ],
      "metadata": {
        "colab": {
          "base_uri": "https://localhost:8080/"
        },
        "id": "WUbiVT8uUovN",
        "outputId": "92e2c8f1-0660-4f46-b90f-7cbc76bd7fd7"
      },
      "execution_count": 37,
      "outputs": [
        {
          "output_type": "stream",
          "name": "stdout",
          "text": [
            "./FastQC/fastqc test3.fastq \n",
            "Started analysis of test3.fastq\n",
            "Analysis complete for test3.fastq\n"
          ]
        }
      ]
    },
    {
      "cell_type": "markdown",
      "source": [
        "# Задание 1\n"
      ],
      "metadata": {
        "id": "GZGVAlHh0RSd"
      }
    },
    {
      "cell_type": "markdown",
      "source": [
        "#Проводим собственный анализ GC-состава\n",
        "\n",
        "Для исходных ридов, без фильтрации\n",
        "\n"
      ],
      "metadata": {
        "id": "j0y0fdZAT8KX"
      }
    },
    {
      "cell_type": "code",
      "source": [
        "pip install lets_plot"
      ],
      "metadata": {
        "colab": {
          "base_uri": "https://localhost:8080/"
        },
        "id": "CnbVtLvzxKS3",
        "outputId": "49a12fcd-1196-489e-f7b2-b2a83d883d9f"
      },
      "execution_count": 38,
      "outputs": [
        {
          "output_type": "stream",
          "name": "stdout",
          "text": [
            "Requirement already satisfied: lets_plot in /usr/local/lib/python3.7/dist-packages (2.2.1)\n",
            "Requirement already satisfied: pypng in /usr/local/lib/python3.7/dist-packages (from lets_plot) (0.0.21)\n"
          ]
        }
      ]
    },
    {
      "cell_type": "code",
      "source": [
        "import seaborn as sns\n",
        "import pandas as pd\n",
        "import matplotlib.pyplot as plt\n",
        "from lets_plot import *\n",
        "\n",
        "sns.set_style(\"darkgrid\")"
      ],
      "metadata": {
        "id": "SavrQTLudhOf"
      },
      "execution_count": 39,
      "outputs": []
    },
    {
      "cell_type": "markdown",
      "source": [
        "Считаем GC-состав в каждом риде файла"
      ],
      "metadata": {
        "id": "w4rEQeIFGYHY"
      }
    },
    {
      "cell_type": "code",
      "source": [
        "def gc(file):\n",
        "  with open(file, 'r') as f:\n",
        "    gc = []\n",
        "    for i, line in enumerate(f):\n",
        "      if i % 4 == 1:\n",
        "        gc.append(round((line.count('C') + line.count('G')) / len(line), 5))\n",
        "  return gc"
      ],
      "metadata": {
        "id": "y9gsOo8oaf2s"
      },
      "execution_count": 40,
      "outputs": []
    },
    {
      "cell_type": "markdown",
      "source": [
        "Считаем количество ридов с данным GC-составом в файле"
      ],
      "metadata": {
        "id": "oDAIiEGGGrUr"
      }
    },
    {
      "cell_type": "code",
      "source": [
        "def DF(file):\n",
        "  df = pd.DataFrame()\n",
        "  df['GC'] = gc(file)\n",
        "  counter = [1] * len(gc(file))\n",
        "  df['count'] = counter\n",
        "  NewDF = df.groupby(['GC']).count()\n",
        "  return NewDF"
      ],
      "metadata": {
        "id": "19ESVZBihzWe"
      },
      "execution_count": 42,
      "outputs": []
    },
    {
      "cell_type": "code",
      "source": [
        "def pl(file):\n",
        "  return plt.scatter(DF(file).index, DF(file)['count'])"
      ],
      "metadata": {
        "id": "QCn_sJSiiPuI"
      },
      "execution_count": 43,
      "outputs": []
    },
    {
      "cell_type": "code",
      "source": [
        "pl('100x.1.fastq')"
      ],
      "metadata": {
        "colab": {
          "base_uri": "https://localhost:8080/",
          "height": 282
        },
        "id": "-bBTu7LUyig9",
        "outputId": "be0a8347-07fc-4146-9e10-fca8987d7d6e"
      },
      "execution_count": 44,
      "outputs": [
        {
          "output_type": "execute_result",
          "data": {
            "text/plain": [
              "<matplotlib.collections.PathCollection at 0x7f013209b710>"
            ]
          },
          "metadata": {},
          "execution_count": 44
        },
        {
          "output_type": "display_data",
          "data": {
            "image/png": "[encoded data removed]",
            "text/plain": [
              "<Figure size 432x288 with 1 Axes>"
            ]
          },
          "metadata": {}
        }
      ]
    },
    {
      "cell_type": "code",
      "source": [
        "pl('100x.2.fastq')"
      ],
      "metadata": {
        "colab": {
          "base_uri": "https://localhost:8080/",
          "height": 282
        },
        "id": "KgEgT-W6ymov",
        "outputId": "e777aab4-c9e8-4ab0-ed19-6471ba5f5129"
      },
      "execution_count": 45,
      "outputs": [
        {
          "output_type": "execute_result",
          "data": {
            "text/plain": [
              "<matplotlib.collections.PathCollection at 0x7f0133e7a9d0>"
            ]
          },
          "metadata": {},
          "execution_count": 45
        },
        {
          "output_type": "display_data",
          "data": {
            "image/png": "[encoded data removed]",
            "text/plain": [
              "<Figure size 432x288 with 1 Axes>"
            ]
          },
          "metadata": {}
        }
      ]
    },
    {
      "cell_type": "code",
      "source": [
        "pl('frag.R1.fastq')"
      ],
      "metadata": {
        "colab": {
          "base_uri": "https://localhost:8080/",
          "height": 282
        },
        "id": "je5pblnqzY4S",
        "outputId": "9fe7656f-ac4c-4683-9b56-99f92a7b56f9"
      },
      "execution_count": 46,
      "outputs": [
        {
          "output_type": "execute_result",
          "data": {
            "text/plain": [
              "<matplotlib.collections.PathCollection at 0x7f0131b81b50>"
            ]
          },
          "metadata": {},
          "execution_count": 46
        },
        {
          "output_type": "display_data",
          "data": {
            "image/png": "[encoded data removed]",
            "text/plain": [
              "<Figure size 432x288 with 1 Axes>"
            ]
          },
          "metadata": {}
        }
      ]
    },
    {
      "cell_type": "code",
      "source": [
        "pl('frag.R2.fastq')"
      ],
      "metadata": {
        "colab": {
          "base_uri": "https://localhost:8080/",
          "height": 282
        },
        "id": "TZwm3EYQzkFK",
        "outputId": "3376c055-edfe-40f1-ec5d-aaed05e4ca34"
      },
      "execution_count": 47,
      "outputs": [
        {
          "output_type": "execute_result",
          "data": {
            "text/plain": [
              "<matplotlib.collections.PathCollection at 0x7f0134cae610>"
            ]
          },
          "metadata": {},
          "execution_count": 47
        },
        {
          "output_type": "display_data",
          "data": {
            "image/png": "[encoded data removed]",
            "text/plain": [
              "<Figure size 432x288 with 1 Axes>"
            ]
          },
          "metadata": {}
        }
      ]
    },
    {
      "cell_type": "markdown",
      "source": [
        "Фильтрация нуклеотидов с низким качеством"
      ],
      "metadata": {
        "id": "lVrV1BzM4V57"
      }
    },
    {
      "cell_type": "markdown",
      "source": [
        "Функция вероятности ошибки от символа, P = $10^{(-Q/10)}$. Q - Phred33 score.\n"
      ],
      "metadata": {
        "id": "0gcVWcdNwH0e"
      }
    },
    {
      "cell_type": "code",
      "source": [
        "def prob_err(sign):\n",
        "  Q = ord(sign) - 33\n",
        "  P = 10 ** (-Q / 10)\n",
        "  return P"
      ],
      "metadata": {
        "id": "BVDHG4n8wHG0"
      },
      "execution_count": 48,
      "outputs": []
    },
    {
      "cell_type": "markdown",
      "source": [
        "Фильтруем нуклеотиды, в которых вероятность ошибки меньше 10%, и риды, в которых хотя бы 90% таких нуклеотидов"
      ],
      "metadata": {
        "id": "vfiYYYIyxTaO"
      }
    },
    {
      "cell_type": "code",
      "source": [
        "def gc_quality(file):\n",
        "  with open(file, 'r') as f:\n",
        "    gc = []\n",
        "    l = f.read().splitlines()\n",
        "    for i in range(len(l)):\n",
        "      if i % 4 == 1:\n",
        "        sum = 0\n",
        "        for word in l[i+2]:\n",
        "          if prob_err(word) < 0.1:\n",
        "            sum += 1\n",
        "        if sum / len(l[i]) > 0.9:\n",
        "          gc.append(round((l[i].count('C') + l[i].count('G')) / len(l[i]), 5))\n",
        "  return gc"
      ],
      "metadata": {
        "id": "OiVT-D8E4VNO"
      },
      "execution_count": 72,
      "outputs": []
    },
    {
      "cell_type": "markdown",
      "source": [
        "Считаем количество ридов с данным GC-составом в файле"
      ],
      "metadata": {
        "id": "P2n5m8d0HfDP"
      }
    },
    {
      "cell_type": "code",
      "source": [
        "def DF_quality(file):\n",
        "  df = pd.DataFrame()\n",
        "  df['GC'] = gc_quality(file)\n",
        "  counter = [1] * len(gc_quality(file))\n",
        "  df['count'] = counter\n",
        "  NewDF = df.groupby(['GC']).count()\n",
        "  return NewDF"
      ],
      "metadata": {
        "id": "AN_4q7Q_OycE"
      },
      "execution_count": 73,
      "outputs": []
    },
    {
      "cell_type": "code",
      "source": [
        "def pl_quality(file):\n",
        "  return plt.scatter(DF_quality(file).index, DF_quality(file)['count'])"
      ],
      "metadata": {
        "id": "Fs7k1KjhwasC"
      },
      "execution_count": 74,
      "outputs": []
    },
    {
      "cell_type": "code",
      "source": [
        "pl_quality('100x.1.fastq')"
      ],
      "metadata": {
        "colab": {
          "base_uri": "https://localhost:8080/",
          "height": 283
        },
        "id": "wNoL1vFBwdwT",
        "outputId": "805f4f54-a7de-459c-d7d7-ebbb564a5226"
      },
      "execution_count": 75,
      "outputs": [
        {
          "output_type": "execute_result",
          "data": {
            "text/plain": [
              "<matplotlib.collections.PathCollection at 0x7f0174502f50>"
            ]
          },
          "metadata": {},
          "execution_count": 75
        },
        {
          "output_type": "display_data",
          "data": {
            "image/png": "[encoded data removed]",
            "text/plain": [
              "<Figure size 432x288 with 1 Axes>"
            ]
          },
          "metadata": {}
        }
      ]
    },
    {
      "cell_type": "code",
      "source": [
        "pl_quality('100x.2.fastq')"
      ],
      "metadata": {
        "colab": {
          "base_uri": "https://localhost:8080/",
          "height": 282
        },
        "id": "7DMprW5rF1u7",
        "outputId": "a6aa37a8-2f62-40fd-b16a-8acb6f2a6f97"
      },
      "execution_count": 76,
      "outputs": [
        {
          "output_type": "execute_result",
          "data": {
            "text/plain": [
              "<matplotlib.collections.PathCollection at 0x7f019880f610>"
            ]
          },
          "metadata": {},
          "execution_count": 76
        },
        {
          "output_type": "display_data",
          "data": {
            "image/png": "[encoded data removed]",
            "text/plain": [
              "<Figure size 432x288 with 1 Axes>"
            ]
          },
          "metadata": {}
        }
      ]
    },
    {
      "cell_type": "code",
      "source": [
        "pl_quality('frag.R1.fastq')"
      ],
      "metadata": {
        "colab": {
          "base_uri": "https://localhost:8080/",
          "height": 282
        },
        "id": "JsoQGxOixS8O",
        "outputId": "a86cac8d-729f-4c48-bea4-02330cea92a4"
      },
      "execution_count": 77,
      "outputs": [
        {
          "output_type": "execute_result",
          "data": {
            "text/plain": [
              "<matplotlib.collections.PathCollection at 0x7f01a8bbc910>"
            ]
          },
          "metadata": {},
          "execution_count": 77
        },
        {
          "output_type": "display_data",
          "data": {
            "image/png": "[encoded data removed]",
            "text/plain": [
              "<Figure size 432x288 with 1 Axes>"
            ]
          },
          "metadata": {}
        }
      ]
    },
    {
      "cell_type": "code",
      "source": [
        "pl_quality('frag.R2.fastq')"
      ],
      "metadata": {
        "colab": {
          "base_uri": "https://localhost:8080/",
          "height": 282
        },
        "id": "rUn_Dajsysts",
        "outputId": "d492bb65-a8d4-434c-de07-f6251066a8a2"
      },
      "execution_count": 78,
      "outputs": [
        {
          "output_type": "execute_result",
          "data": {
            "text/plain": [
              "<matplotlib.collections.PathCollection at 0x7f00f7688390>"
            ]
          },
          "metadata": {},
          "execution_count": 78
        },
        {
          "output_type": "display_data",
          "data": {
            "image/png": "[encoded data removed]",
            "text/plain": [
              "<Figure size 432x288 with 1 Axes>"
            ]
          },
          "metadata": {}
        }
      ]
    },
    {
      "cell_type": "markdown",
      "source": [
        "# Задание 2\n"
      ],
      "metadata": {
        "id": "S-ynXBpf0IWz"
      }
    },
    {
      "cell_type": "markdown",
      "source": [
        "# Распределение качества"
      ],
      "metadata": {
        "id": "4cRE8s99InWm"
      }
    },
    {
      "cell_type": "markdown",
      "source": [
        "Средняя вероятность ошибки на каждой позиции. Воспользуемся формулой среднего для n чисел s(n):\n",
        "\n",
        "$s(n+1) = \\frac{s(n) * n + a_{n+1}}{n+1}$"
      ],
      "metadata": {
        "id": "7C1O4EDo0dxY"
      }
    },
    {
      "cell_type": "code",
      "source": [
        "def prob_nuc_err(file):\n",
        "  with open(file, 'r') as f:\n",
        "    l = f.read().splitlines()\n",
        "    lenth = len(l[0])\n",
        "    mean_err = [0] * lenth\n",
        "    for i in range(len(l)):\n",
        "      if i % 4 == 3:\n",
        "        sum = 0\n",
        "        n = 0\n",
        "        for word in l[i]:\n",
        "          P = prob_err(word)\n",
        "          if n >= len(mean_err):\n",
        "            mean_err.append(0)\n",
        "          mean_err[n] = (i * mean_err[n] + P) / (i+1)\n",
        "          n += 1  \n",
        "  print(mean_err)\n",
        "  return mean_err"
      ],
      "metadata": {
        "id": "WEKRRznx0LQv"
      },
      "execution_count": 65,
      "outputs": []
    },
    {
      "cell_type": "code",
      "source": [
        "def errors(file):\n",
        "  er = prob_nuc_err(file)\n",
        "  return er"
      ],
      "metadata": {
        "id": "nH_DCSj32tnD"
      },
      "execution_count": 66,
      "outputs": []
    },
    {
      "cell_type": "code",
      "source": [
        "plt.plot(errors('100x.1.fastq'))"
      ],
      "metadata": {
        "colab": {
          "base_uri": "https://localhost:8080/",
          "height": 320
        },
        "id": "DUuddP6K26Ck",
        "outputId": "bb8b5c7a-1a6f-4382-a23e-eff4b2af5a89"
      },
      "execution_count": 68,
      "outputs": [
        {
          "output_type": "stream",
          "name": "stdout",
          "text": [
            "[0.0011865249525960142, 0.0017418329706666274, 0.0016861227521665146, 0.001758686945250259, 0.001788727276874423, 0.0016673931230836144, 0.001642721723872224, 0.0016523545536299648, 0.0016642105824859034, 0.0017963205385546348, 0.001913877650026607, 0.0020289690576959134, 0.0019776007407355098, 0.0024457626588611538, 0.002167143620348791, 0.0026756068658900516, 0.002665956087032595, 0.0027427725494987613, 0.0029868815954620783, 0.0031632679753806894, 0.004509195747532831, 0.004689978130705084, 0.004850292272504752, 0.005130002387075748, 0.005553094479584955, 0.01091725320568777, 0.01109462838244218, 0.01148035026031651, 0.011889636277567943, 0.016642524150704024, 0.018286137519312035, 0.018602537021322186, 0.018825110046924026, 0.019241117703762647, 0.020341256044180016, 0.021688890979366233, 0.022277897348124482, 0.022605088478110158, 0.02335375402431238, 0.023984224079566387, 0.025451909512898458, 0.02570677000986476, 0.02621894918285024, 0.026754653673592647, 0.02760418838651197, 0.029031021410651434, 0.02943228315516495, 0.030112998342909966, 0.0308761167699924, 0.03187120613150516, 0.0334470475325625, 0.03403716735095161, 0.03479996131366089, 0.036228100852092084, 0.037621178824787334, 0.03995940781939033, 0.04062414995114317, 0.041773299708275737, 0.04268640759127516, 0.04441300416180572, 0.04690050325255887, 0.04932259749600404, 0.04881314888632479, 0.05043115856528367, 0.052791338098374135, 0.056428731238098814, 0.05740001636848376, 0.05862542890160396, 0.06055972945828956, 0.06317887300993032, 0.06737892772708293, 0.06863755332853383, 0.07056074183608066, 0.07305799731002977, 0.07618674587582973, 0.08098802771225871, 0.08269201908590723, 0.08497678414911976, 0.08793932718991533, 0.09242329004044265, 0.0987661790119602, 0.1014401345481073, 0.10402029715345329, 0.1078374623805995, 0.11334535544107095, 0.12325469663707635, 0.12623254843466164, 0.12985077968856992, 0.13532864984122436, 0.14316722798853695, 0.15511337945028206, 0.15911569224410485, 0.16379142671573135, 0.17100699836090327, 0.1807359993313537, 0.2018811027461701, 0.20721747614168998, 0.21468265278089246, 0.22603737697319895, 0.24462224014617712]\n"
          ]
        },
        {
          "output_type": "execute_result",
          "data": {
            "text/plain": [
              "[<matplotlib.lines.Line2D at 0x7f00f94ec4d0>]"
            ]
          },
          "metadata": {},
          "execution_count": 68
        },
        {
          "output_type": "display_data",
          "data": {
            "image/png": "[encoded data removed]",
            "text/plain": [
              "<Figure size 432x288 with 1 Axes>"
            ]
          },
          "metadata": {}
        }
      ]
    },
    {
      "cell_type": "code",
      "source": [
        "plt.plot(errors('100x.2.fastq'))"
      ],
      "metadata": {
        "colab": {
          "base_uri": "https://localhost:8080/",
          "height": 320
        },
        "id": "gb8HAyaL4XnC",
        "outputId": "3b3f3c27-ba86-48f7-a4bb-84dcfbecc6c1"
      },
      "execution_count": 69,
      "outputs": [
        {
          "output_type": "stream",
          "name": "stdout",
          "text": [
            "[0.01159513109126674, 0.013113521803326943, 0.013291830073194672, 0.013447875584016587, 0.013773906209563638, 0.013646252370184887, 0.014040746592341634, 0.014530014346640927, 0.014923775985036554, 0.015156504418222886, 0.01542152696879044, 0.015668139669781513, 0.01592053506131613, 0.01603161149621327, 0.016485947961625464, 0.016430198033696577, 0.01658598190938248, 0.016880554169539794, 0.017241551792562565, 0.01754635861616731, 0.018081295280543468, 0.01824987235240755, 0.018367672564558173, 0.01878697786462244, 0.019010079885099992, 0.019672950978773363, 0.019676399515735882, 0.019928975251890906, 0.020363475370052758, 0.020559577575092556, 0.021211475377699927, 0.02128963366703774, 0.021565994593885227, 0.021910714538036204, 0.022439747358852315, 0.023292636157376534, 0.023636336457657517, 0.023757768125070976, 0.024710700516115337, 0.025229980544688845, 0.026194397597147007, 0.026546639617954237, 0.027418542954930767, 0.028356923080154146, 0.02920010745302494, 0.030218867715831713, 0.03062221446870353, 0.031969910049740424, 0.03318821758981499, 0.03458525559578148, 0.03580618047442755, 0.036914755920090296, 0.03768613785464722, 0.038430367702857786, 0.040050696253192096, 0.04173081873115936, 0.04241851996025903, 0.04352002248357938, 0.04506466203632156, 0.047366020955819176, 0.04973520605046149, 0.05123305424743841, 0.053059655150147274, 0.05518877094867995, 0.058442202417942506, 0.06118731424880235, 0.06363090515811343, 0.0654464530348913, 0.06817044070514758, 0.07207387771889195, 0.07584438928827188, 0.07773691786672603, 0.08062278687908883, 0.08358693097858239, 0.08835101269309845, 0.09443701209661202, 0.09674012270590121, 0.10120168426691425, 0.10473548591657747, 0.10895684791149941, 0.1152222560398783, 0.1168982386790123, 0.1210107399945039, 0.12621371398147319, 0.13198753077434663, 0.13800269397353176, 0.14046984960659914, 0.14401463176090118, 0.1504638781269072, 0.15807224010297163, 0.1676434294958564, 0.1724726958496657, 0.1786371878395151, 0.18602489574087835, 0.19773738798862533, 0.21394228092697679, 0.22210842585678794, 0.23160746822390488, 0.24566696912117847, 0.2626494154207266]\n"
          ]
        },
        {
          "output_type": "execute_result",
          "data": {
            "text/plain": [
              "[<matplotlib.lines.Line2D at 0x7f013667a690>]"
            ]
          },
          "metadata": {},
          "execution_count": 69
        },
        {
          "output_type": "display_data",
          "data": {
            "image/png": "[encoded data removed]",
            "text/plain": [
              "<Figure size 432x288 with 1 Axes>"
            ]
          },
          "metadata": {}
        }
      ]
    },
    {
      "cell_type": "code",
      "source": [
        "plt.plot(errors('frag.R1.fastq'))"
      ],
      "metadata": {
        "colab": {
          "base_uri": "https://localhost:8080/",
          "height": 320
        },
        "id": "AlhFKYC0GKTz",
        "outputId": "b697b248-8fc1-4ea1-e4fa-45ba178edd5e"
      },
      "execution_count": 70,
      "outputs": [
        {
          "output_type": "stream",
          "name": "stdout",
          "text": [
            "[9.483917834159044e-07, 6.353331186937519e-07, 6.593029236160063e-07, 3.4348242548207224e-07, 3.9595773824569075e-07, 4.978702913147881e-07, 4.2579063363639086e-07, 5.703962943934035e-07, 4.62868503815671e-07, 4.2232557176454816e-07, 4.5155812957409526e-07, 4.119519322888657e-07, 4.527200801863788e-07, 4.2713427577858923e-07, 4.3128145198792624e-07, 4.766521042258761e-07, 6.01740252796567e-07, 5.984201660825737e-07, 5.860115859741089e-07, 6.82799410443951e-07, 6.625381930833074e-07, 8.882738577496527e-07, 1.0215407195460157e-06, 1.8301728139074224e-06, 1.9259124124714774e-06, 2.157674565416624e-06, 2.381991722590225e-06, 2.4862857478341346e-06, 2.7214655212698468e-06, 3.0307078703391385e-06, 4.21303612765286e-06, 3.4956986695336494e-06, 3.6398361874773195e-06, 3.796953415409092e-06, 4.219456950850223e-06, 4.137416407850528e-06, 4.422582959611852e-06, 4.756120403121861e-06, 5.23633206022416e-06, 5.308589769662229e-06, 5.473343706528665e-06, 5.729216497904357e-06, 5.554553029590672e-06, 5.700416360376366e-06, 5.831006446042688e-06, 6.067642128344239e-06, 6.382909925677365e-06, 6.493776846688662e-06, 6.7796580270383045e-06, 7.212505830762435e-06, 7.579220732409776e-06, 7.961243480159002e-06, 8.308261303291761e-06, 9.046883416198136e-06, 8.912460468635363e-06, 9.574281594942719e-06, 9.942075103849347e-06, 1.021896290987745e-05, 1.067376422153691e-05, 1.1202107786245802e-05, 1.1792104955795101e-05, 1.2539617676211138e-05, 1.3447022700761874e-05, 1.3738818438840849e-05, 1.4121357338310154e-05, 1.4835369712483133e-05, 1.5570227524065755e-05, 1.6075603934114718e-05, 1.6646729017671022e-05, 1.757378949892809e-05, 1.815535173666615e-05, 1.9195375722039088e-05, 2.055669663672289e-05, 2.112774077931981e-05, 2.206465969957831e-05, 2.230832649665728e-05, 2.271683261348557e-05, 2.328944269040043e-05, 2.429261302579767e-05, 2.479493319640115e-05, 2.5614806526217332e-05, 2.7075967885882777e-05, 2.872351874365422e-05, 3.056780963307552e-05, 3.5724804496901014e-05, 3.4586140731952876e-05, 3.5290350966538197e-05, 3.707652489136959e-05, 4.048433088139077e-05, 4.2369415517084384e-05, 4.5155926698173734e-05, 4.7724566446984356e-05, 5.049119576076228e-05, 5.371098737350484e-05, 5.540260519381198e-05, 5.7878553619474595e-05, 6.0465373096924915e-05, 6.551634970096534e-05, 6.89551225246566e-05, 7.407352788393144e-05, 7.76977403967738e-05, 8.139090434015681e-05, 8.535444786332546e-05, 8.97514280977401e-05, 9.506572232370391e-05, 9.937374659284289e-05, 0.00010456186383214408, 0.00011013337927017429, 0.00011559330640063921, 0.00012189840194915747, 0.00012806632880709709, 0.00013523280079959953, 0.00014564438215529745, 0.00015268546482418962, 0.00015970071442440246, 0.00016805384552711706, 0.00017688241375636595, 0.0001845143585268964, 0.00019194592454456437, 0.0002006751986470782, 0.00020876209364452777, 0.00021712192886944503, 0.0002252266827273981, 0.0002337175733538061, 0.0002433952015993951, 0.00025264846794613476, 0.0002615950764018569, 0.0002703392148441138, 0.0002782292820274526, 0.000287758041964578, 0.0002980478964394731, 0.0003075766213148125, 0.0003164464510376946, 0.0003253407677927418, 0.0003351906340546352, 0.0003461694081000572, 0.000356831266681816, 0.00036492414305855077, 0.00037396577761599306, 0.0003829135513024729, 0.00039116616951393124, 0.0003996075328115411, 0.0004075036264878561, 0.0004149248231203226, 0.0004234267341158796, 0.00043051347254403227, 0.00043901908488511474, 0.00044589080726937884, 0.00045145064606787725, 0.0004569496621977126]\n"
          ]
        },
        {
          "output_type": "execute_result",
          "data": {
            "text/plain": [
              "[<matplotlib.lines.Line2D at 0x7f0176b69ad0>]"
            ]
          },
          "metadata": {},
          "execution_count": 70
        },
        {
          "output_type": "display_data",
          "data": {
            "image/png": "[encoded data removed]",
            "text/plain": [
              "<Figure size 432x288 with 1 Axes>"
            ]
          },
          "metadata": {}
        }
      ]
    },
    {
      "cell_type": "code",
      "source": [
        "plt.plot(errors('frag.R2.fastq'))"
      ],
      "metadata": {
        "colab": {
          "base_uri": "https://localhost:8080/",
          "height": 320
        },
        "id": "f6Mv9pJLGQIx",
        "outputId": "4bdc5105-6c31-499e-9f4d-5d2cac3b01b8"
      },
      "execution_count": 71,
      "outputs": [
        {
          "output_type": "stream",
          "name": "stdout",
          "text": [
            "[2.187464628517264e-06, 2.3540932417769503e-06, 2.478054071987525e-06, 2.088885903806473e-06, 2.212110776590935e-06, 2.3680170196500826e-06, 2.560269741050221e-06, 3.088915380399419e-06, 3.3230702764910023e-06, 3.5982983596805046e-06, 3.9897731878684296e-06, 4.104446883324694e-06, 4.257065621248474e-06, 4.489606863537797e-06, 5.127226397156477e-06, 5.4438581265544225e-06, 5.599502146393754e-06, 6.07270793902015e-06, 6.354224914293379e-06, 6.8639709038676115e-06, 7.485740610706002e-06, 7.971439344414665e-06, 8.953553563602065e-06, 9.639760635788552e-06, 1.0545225077609989e-05, 1.166474805936325e-05, 1.2479260745007303e-05, 1.3480148250996734e-05, 1.509183349155751e-05, 1.641040747369129e-05, 1.7751257664695956e-05, 1.9312722815791403e-05, 2.103423135228994e-05, 2.2438175833790793e-05, 2.3169060762214143e-05, 2.4503796413037327e-05, 2.650410961778612e-05, 2.750809507236081e-05, 2.9096264059897494e-05, 3.1407925332307664e-05, 3.2373069210584146e-05, 3.395018270482606e-05, 3.553078971404928e-05, 3.7264129593224594e-05, 3.9177713801554235e-05, 4.1071002087413244e-05, 4.302981766552341e-05, 4.42339205863599e-05, 4.5937234557941135e-05, 4.836307175348935e-05, 4.871304387409288e-05, 4.951014066238728e-05, 5.04992614019982e-05, 5.427081893011095e-05, 5.498968661270583e-05, 5.706969577171272e-05, 5.918013252160865e-05, 6.10192639201711e-05, 6.312598912393006e-05, 6.543378033504061e-05, 6.755141148655798e-05, 7.06966684068126e-05, 7.345324537896353e-05, 7.746788953370046e-05, 8.157183044196156e-05, 8.460621349473886e-05, 8.933628476736492e-05, 9.326257730491258e-05, 9.710826633804523e-05, 0.00010020717477512121, 0.00010380413699920014, 0.00010668869438069606, 0.000110187878619648, 0.00011398956171180506, 0.00011828061867967302, 0.00012412700354838796, 0.00012682837877761764, 0.00013202629644715088, 0.00013820191114162543, 0.00014383105087802602, 0.00014977330113807887, 0.00015568563827648917, 0.00016197632448009138, 0.00016964069822221234, 0.00017639178021638922, 0.00018461386600620298, 0.00019107054953299991, 0.00019769306264722048, 0.00020678256807542332, 0.00021243918888844105, 0.00022026996421273108, 0.00022791612616165831, 0.00023455894645293187, 0.0002420329754005981, 0.0002533665324947639, 0.0002615391026926107, 0.0002714388784141597, 0.00027798712057782257, 0.000286506217743839, 0.0002954294951358766, 0.0003035358739677228, 0.000311248809465272, 0.0003201101468705041, 0.00032775778319971854, 0.00033608615151405004, 0.00034787878055916513, 0.0003557598223379223, 0.0003635535374365527, 0.00037090552135247577, 0.0003786141113111144, 0.00038558191026419434, 0.0003926933556836285, 0.0003995571469413074, 0.00040555572588497885, 0.00041227257639422845, 0.0004183440268013559, 0.00042468049741732123, 0.00043029138794298613, 0.0004352716520046018, 0.0004396251491965469, 0.0004440028254791243, 0.0004479645742247016, 0.0004519536897501791, 0.0004554117153075663, 0.00045971543989266984, 0.00046294543429791223, 0.0004660285005259669, 0.0004688417319748734, 0.00047141582439632566, 0.0004736537424424894, 0.0004756780110799978, 0.00047751118163939007, 0.00047894022707679884, 0.000480522688335109, 0.00048171666979947617, 0.00048280443927942645, 0.00048379554256882415, 0.00048491401283330335, 0.0004858149466406617, 0.00048640859540568436, 0.0004869503563669857, 0.0004876672359239723, 0.00048800223152424863, 0.0004882828142884237, 0.0004885585667907381, 0.0004887925667857613, 0.0004890484628723403, 0.0004892393681881864, 0.0004894053438805114, 0.0004896733556417157]\n"
          ]
        },
        {
          "output_type": "execute_result",
          "data": {
            "text/plain": [
              "[<matplotlib.lines.Line2D at 0x7f017461c6d0>]"
            ]
          },
          "metadata": {},
          "execution_count": 71
        },
        {
          "output_type": "display_data",
          "data": {
            "image/png": "[encoded data removed]",
            "text/plain": [
              "<Figure size 432x288 with 1 Axes>"
            ]
          },
          "metadata": {}
        }
      ]
    },
    {
      "cell_type": "code",
      "source": [
        ""
      ],
      "metadata": {
        "id": "JSU9cscEGSm9"
      },
      "execution_count": null,
      "outputs": []
    }
  ]
}