{
  "cells": [
    {
      "cell_type": "markdown",
      "metadata": {
        "id": "view-in-github",
        "colab_type": "text"
      },
      "source": [
        "<a href=\"https://colab.research.google.com/github/ainesko/NGS-HW/blob/main/NGS6.ipynb\" target=\"_parent\"><img src=\"https://colab.research.google.com/assets/colab-badge.svg\" alt=\"Open In Colab\"/></a>"
      ]
    },
    {
      "cell_type": "markdown",
      "metadata": {
        "id": "kNDF5qxoS-jJ"
      },
      "source": [
        "#Скачивание файлов с диска\n"
      ]
    },
    {
      "cell_type": "code",
      "execution_count": null,
      "metadata": {
        "id": "pNU35Y_ZSmba"
      },
      "outputs": [],
      "source": [
        "def download_from_disk(id):\n",
        "  import gdown\n",
        "  gdown.download(f'https://drive.google.com/uc?id={id}&confirm=t', quiet=False)"
      ]
    },
    {
      "cell_type": "code",
      "execution_count": null,
      "metadata": {
        "colab": {
          "base_uri": "https://localhost:8080/"
        },
        "id": "4DmRAk3Itgos",
        "outputId": "6aa875d0-7380-4257-beeb-cd343848638d"
      },
      "outputs": [
        {
          "name": "stderr",
          "output_type": "stream",
          "text": [
            "Downloading...\n",
            "From: https://drive.google.com/uc?id=1cO5ssk7qU1RduPk0WegvN63i6P6HzWTA&confirm=t\n",
            "To: /content/reference.fasta\n",
            "100%|██████████| 4.71M/4.71M [00:00<00:00, 128MB/s]\n"
          ]
        }
      ],
      "source": [
        "download_from_disk('1cO5ssk7qU1RduPk0WegvN63i6P6HzWTA')"
      ]
    },
    {
      "cell_type": "code",
      "execution_count": null,
      "metadata": {
        "colab": {
          "base_uri": "https://localhost:8080/"
        },
        "id": "hMOiCXAFtoZS",
        "outputId": "821ae1bf-f9ea-4194-d3f5-c6f0eecb84e2"
      },
      "outputs": [
        {
          "name": "stderr",
          "output_type": "stream",
          "text": [
            "Downloading...\n",
            "From: https://drive.google.com/uc?id=137XYJssB60Bfvqb8w0gvZrpMi1_-IVN5&confirm=t\n",
            "To: /content/illumina.100x.1.fq.gz\n",
            "100%|██████████| 221M/221M [00:00<00:00, 262MB/s]\n"
          ]
        }
      ],
      "source": [
        "download_from_disk('137XYJssB60Bfvqb8w0gvZrpMi1_-IVN5')"
      ]
    },
    {
      "cell_type": "code",
      "execution_count": null,
      "metadata": {
        "colab": {
          "base_uri": "https://localhost:8080/"
        },
        "id": "SMjfUBwutqKF",
        "outputId": "7a5c5dd0-d9b3-44f4-bacc-4d966c05fd44"
      },
      "outputs": [
        {
          "name": "stderr",
          "output_type": "stream",
          "text": [
            "Downloading...\n",
            "From: https://drive.google.com/uc?id=1TrQ8pB2OQOt76nGSkxt1lNOATBSCNSaE&confirm=t\n",
            "To: /content/illumina.100x.2.fq.gz\n",
            "100%|██████████| 228M/228M [00:01<00:00, 184MB/s]\n"
          ]
        }
      ],
      "source": [
        "download_from_disk('1TrQ8pB2OQOt76nGSkxt1lNOATBSCNSaE')"
      ]
    },
    {
      "cell_type": "code",
      "execution_count": null,
      "metadata": {
        "colab": {
          "base_uri": "https://localhost:8080/"
        },
        "id": "FXq5jgo2tqvv",
        "outputId": "d3b6e865-ac4b-48bc-e2e2-94bc814a4037"
      },
      "outputs": [
        {
          "name": "stderr",
          "output_type": "stream",
          "text": [
            "Downloading...\n",
            "From: https://drive.google.com/uc?id=1-0HMnGzqRx2WYKNiFj_OLYWbwky9bH5S&confirm=t\n",
            "To: /content/pacbio_10x.fq.gz\n",
            "100%|██████████| 49.3M/49.3M [00:00<00:00, 201MB/s]\n"
          ]
        }
      ],
      "source": [
        "download_from_disk('1-0HMnGzqRx2WYKNiFj_OLYWbwky9bH5S')"
      ]
    },
    {
      "cell_type": "code",
      "execution_count": null,
      "metadata": {
        "colab": {
          "base_uri": "https://localhost:8080/"
        },
        "id": "niFBaWrltqy0",
        "outputId": "a7d24c7d-d089-474d-d342-55dffd656033"
      },
      "outputs": [
        {
          "name": "stderr",
          "output_type": "stream",
          "text": [
            "Downloading...\n",
            "From: https://drive.google.com/uc?id=1M2w6ijudn4tuxrrSLJ0ZLnAKBbGilLZD&confirm=t\n",
            "To: /content/pacbio_20x.fq.gz\n",
            "100%|██████████| 98.7M/98.7M [00:00<00:00, 181MB/s]\n"
          ]
        }
      ],
      "source": [
        "download_from_disk('1M2w6ijudn4tuxrrSLJ0ZLnAKBbGilLZD')"
      ]
    },
    {
      "cell_type": "code",
      "execution_count": null,
      "metadata": {
        "colab": {
          "base_uri": "https://localhost:8080/"
        },
        "id": "I6wKKwhEtq1s",
        "outputId": "0014abb2-3da6-48b4-fc49-28870b37b67a"
      },
      "outputs": [
        {
          "name": "stderr",
          "output_type": "stream",
          "text": [
            "Downloading...\n",
            "From: https://drive.google.com/uc?id=1KAjdeqqCH7rgAfD9yhS2PU0mAjNV6hoV&confirm=t\n",
            "To: /content/pacbio_40x.fq.gz\n",
            "100%|██████████| 198M/198M [00:01<00:00, 191MB/s]\n"
          ]
        }
      ],
      "source": [
        "download_from_disk('1KAjdeqqCH7rgAfD9yhS2PU0mAjNV6hoV')"
      ]
    },
    {
      "cell_type": "code",
      "execution_count": null,
      "metadata": {
        "colab": {
          "base_uri": "https://localhost:8080/"
        },
        "id": "EMWP_g6etq5e",
        "outputId": "bc445584-0ecc-44b5-8b31-dfe83ba4863a"
      },
      "outputs": [
        {
          "name": "stderr",
          "output_type": "stream",
          "text": [
            "Downloading...\n",
            "From: https://drive.google.com/uc?id=15WWNIvNlf8gNu6O0GelwtP25JQAj44fY&confirm=t\n",
            "To: /content/pacbio_80x.fq.gz\n",
            "100%|██████████| 395M/395M [00:01<00:00, 209MB/s]\n"
          ]
        }
      ],
      "source": [
        "download_from_disk('15WWNIvNlf8gNu6O0GelwtP25JQAj44fY')"
      ]
    },
    {
      "cell_type": "markdown",
      "metadata": {
        "id": "fKIVjJX6JzWe"
      },
      "source": [
        "# Установка программ"
      ]
    },
    {
      "cell_type": "code",
      "execution_count": null,
      "metadata": {
        "id": "reCR_GUpFFRr"
      },
      "outputs": [],
      "source": [
        "!pip install -q condacolab"
      ]
    },
    {
      "cell_type": "code",
      "execution_count": null,
      "metadata": {
        "id": "jQ1Oqzb9BXoG"
      },
      "outputs": [],
      "source": [
        "import condacolab"
      ]
    },
    {
      "cell_type": "code",
      "execution_count": null,
      "metadata": {
        "colab": {
          "base_uri": "https://localhost:8080/"
        },
        "id": "q5FUOHCgBZWp",
        "outputId": "535636c0-3a6c-44cf-a42f-d12c3f94e12e"
      },
      "outputs": [
        {
          "name": "stdout",
          "output_type": "stream",
          "text": [
            "✨🍰✨ Everything looks OK!\n"
          ]
        }
      ],
      "source": [
        "condacolab.install()"
      ]
    },
    {
      "cell_type": "code",
      "execution_count": null,
      "metadata": {
        "id": "XLgiwItwuTEf"
      },
      "outputs": [],
      "source": [
        "!conda install -c bioconda flye"
      ]
    },
    {
      "cell_type": "code",
      "execution_count": null,
      "metadata": {
        "colab": {
          "base_uri": "https://localhost:8080/"
        },
        "id": "l7UTgpxsvbFg",
        "outputId": "fb172bbd-d877-4781-be69-4124bda31a6d"
      },
      "outputs": [
        {
          "name": "stdout",
          "output_type": "stream",
          "text": [
            "Collecting package metadata (current_repodata.json): - \b\b\\ \b\b| \b\b/ \b\b- \b\b\\ \b\b| \b\b/ \b\b- \b\b\\ \b\b| \b\b/ \b\b- \b\b\\ \b\b| \b\b/ \b\b- \b\b\\ \b\b| \b\b/ \b\b- \b\b\\ \b\b| \b\b/ \b\b- \b\b\\ \b\b| \b\b/ \b\b- \b\b\\ \b\b| \b\b/ \b\b- \b\b\\ \b\b| \b\b/ \b\b- \b\b\\ \b\b| \b\b/ \b\b- \b\b\\ \b\b| \b\b/ \b\b- \b\b\\ \b\b| \b\b/ \b\b- \b\b\\ \b\b| \b\b/ \b\b- \b\b\\ \b\b| \b\b/ \b\b- \b\b\\ \b\b| \b\b/ \b\b- \b\b\\ \b\b| \b\b/ \b\b- \b\b\\ \b\b| \b\b/ \b\b- \b\b\\ \b\b| \b\b/ \b\b- \b\b\\ \b\b| \b\b/ \b\b- \b\b\\ \b\b| \b\b/ \b\b- \b\b\\ \b\b| \b\b/ \b\b- \b\b\\ \b\b| \b\b/ \b\b- \b\b\\ \b\b| \b\b/ \b\b- \b\b\\ \b\b| \b\b/ \b\b- \b\b\\ \b\b| \b\b/ \b\b- \b\b\\ \b\b| \b\b/ \b\b- \b\b\\ \b\b| \b\b/ \b\b- \b\b\\ \b\b| \b\b/ \b\b- \b\b\\ \b\b| \b\b/ \b\b- \b\b\\ \b\b| \b\b/ \b\b- \b\b\\ \b\b| \b\b/ \b\b- \b\b\\ \b\b| \b\b/ \b\b- \b\bdone\n",
            "Solving environment: | \b\b/ \b\b- \b\b\\ \b\b| \b\b/ \b\b- \b\b\\ \b\b| \b\b/ \b\b- \b\b\\ \b\b| \b\b/ \b\b- \b\b\\ \b\b| \b\b/ \b\b- \b\b\\ \b\b| \b\b/ \b\b- \b\b\\ \b\b| \b\b/ \b\b- \b\b\\ \b\b| \b\b/ \b\b- \b\b\\ \b\b| \b\b/ \b\b- \b\b\\ \b\b| \b\b/ \b\b- \b\b\\ \b\b| \b\b/ \b\b- \b\b\\ \b\b| \b\b/ \b\b- \b\b\\ \b\b| \b\b/ \b\b- \b\b\\ \b\b| \b\b/ \b\b- \b\b\\ \b\b| \b\b/ \b\b- \b\b\\ \b\b| \b\b/ \b\b- \b\b\\ \b\b| \b\b/ \b\b- \b\b\\ \b\b| \b\b/ \b\b- \b\b\\ \b\b| \b\b/ \b\b- \b\b\\ \b\b| \b\b/ \b\b- \b\b\\ \b\b| \b\b/ \b\b- \b\b\\ \b\b| \b\b/ \b\b- \b\b\\ \b\b| \b\b/ \b\b- \b\b\\ \b\b| \b\b/ \b\b- \b\b\\ \b\b| \b\b/ \b\b- \b\b\\ \b\b| \b\b/ \b\b- \b\b\\ \b\b| \b\b/ \b\b- \b\b\\ \b\b| \b\b/ \b\b- \b\b\\ \b\b| \b\b/ \b\b- \b\b\\ \b\b| \b\b/ \b\b- \b\b\\ \b\b| \b\b/ \b\b- \b\b\\ \b\b| \b\b/ \b\b- \b\b\\ \b\b| \b\b/ \b\b- \b\b\\ \b\b| \b\b/ \b\b- \b\b\\ \b\b| \b\b/ \b\b- \b\b\\ \b\b| \b\b/ \b\b- \b\b\\ \b\b| \b\b/ \b\b- \b\b\\ \b\b| \b\b/ \b\b- \b\b\\ \b\b| \b\b/ \b\b- \b\b\\ \b\b| \b\b/ \b\b- \b\b\\ \b\b| \b\b/ \b\b- \b\b\\ \b\b| \b\b/ \b\b- \b\b\\ \b\b| \b\b/ \b\b- \b\b\\ \b\b| \b\b/ \b\b- \b\b\\ \b\b| \b\b/ \b\b- \b\b\\ \b\b| \b\b/ \b\b- \b\b\\ \b\b| \b\b/ \b\b- \b\b\\ \b\b| \b\b/ \b\b- \b\b\\ \b\bfailed with initial frozen solve. Retrying with flexible solve.\n",
            "Solving environment: / \b\b- \b\b\\ \b\b| \b\b/ \b\b- \b\b\\ \b\b| \b\b/ \b\b- \b\b\\ \b\b| \b\b/ \b\b- \b\b\\ \b\b| \b\b/ \b\b- \b\b\\ \b\b| \b\b/ \b\b- \b\b\\ \b\b| \b\b/ \b\b- \b\b\\ \b\b| \b\b/ \b\b- \b\b\\ \b\b| \b\b/ \b\b- \b\b\\ \b\b| \b\b/ \b\b- \b\b\\ \b\b| \b\b/ \b\b- \b\b\\ \b\b| \b\b/ \b\b- \b\b\\ \b\b| \b\b/ \b\b- \b\b\\ \b\bfailed with repodata from current_repodata.json, will retry with next repodata source.\n",
            "\n",
            "ResolvePackageNotFound: \n",
            "  - conda==4.9.2\n",
            "\n"
          ]
        }
      ],
      "source": [
        "!conda install -c bioconda quast"
      ]
    },
    {
      "cell_type": "code",
      "execution_count": 36,
      "metadata": {
        "colab": {
          "base_uri": "https://localhost:8080/"
        },
        "id": "7jFAGGH6GKwd",
        "outputId": "7e51f3fb-13f9-456e-a28a-5d82917e6464"
      },
      "outputs": [
        {
          "output_type": "stream",
          "name": "stdout",
          "text": [
            "Collecting package metadata (current_repodata.json): - \b\b\\ \b\b| \b\b/ \b\b- \b\b\\ \b\b| \b\b/ \b\b- \b\b\\ \b\b| \b\b/ \b\b- \b\b\\ \b\b| \b\b/ \b\b- \b\b\\ \b\b| \b\b/ \b\b- \b\b\\ \b\b| \b\b/ \b\b- \b\b\\ \b\b| \b\b/ \b\b- \b\b\\ \b\b| \b\b/ \b\b- \b\b\\ \b\b| \b\b/ \b\b- \b\b\\ \b\b| \b\b/ \b\b- \b\b\\ \b\b| \b\b/ \b\b- \b\b\\ \b\b| \b\b/ \b\b- \b\b\\ \b\b| \b\b/ \b\b- \b\b\\ \b\b| \b\b/ \b\b- \b\b\\ \b\b| \b\b/ \b\b- \b\b\\ \b\b| \b\b/ \b\b- \b\b\\ \b\b| \b\b/ \b\b- \b\b\\ \b\b| \b\b/ \b\b- \b\b\\ \b\b| \b\b/ \b\b- \b\b\\ \b\b| \b\b/ \b\b- \b\b\\ \b\b| \b\b/ \b\b- \b\b\\ \b\b| \b\b/ \b\b- \b\b\\ \b\b| \b\b/ \b\b- \b\b\\ \b\b| \b\b/ \b\b- \b\b\\ \b\b| \b\b/ \b\b- \b\b\\ \b\b| \b\b/ \b\b- \b\b\\ \b\b| \b\b/ \b\b- \b\bdone\n",
            "Solving environment: | \b\b/ \b\bdone\n",
            "\n",
            "## Package Plan ##\n",
            "\n",
            "  environment location: /usr/local/envs/env_full\n",
            "\n",
            "  added / updated specs:\n",
            "    - python=3.6\n",
            "\n",
            "\n",
            "The following NEW packages will be INSTALLED:\n",
            "\n",
            "  _libgcc_mutex      conda-forge/linux-64::_libgcc_mutex-0.1-conda_forge\n",
            "  _openmp_mutex      conda-forge/linux-64::_openmp_mutex-4.5-2_gnu\n",
            "  ca-certificates    conda-forge/linux-64::ca-certificates-2021.10.8-ha878542_0\n",
            "  certifi            conda-forge/linux-64::certifi-2016.9.26-py36_0\n",
            "  ld_impl_linux-64   conda-forge/linux-64::ld_impl_linux-64-2.36.1-hea4e1c9_2\n",
            "  libffi             conda-forge/linux-64::libffi-3.4.2-h7f98852_5\n",
            "  libgcc-ng          conda-forge/linux-64::libgcc-ng-12.1.0-h8d9b700_16\n",
            "  libgomp            conda-forge/linux-64::libgomp-12.1.0-h8d9b700_16\n",
            "  libnsl             conda-forge/linux-64::libnsl-2.0.0-h7f98852_0\n",
            "  libstdcxx-ng       conda-forge/linux-64::libstdcxx-ng-12.1.0-ha89aaad_16\n",
            "  libzlib            conda-forge/linux-64::libzlib-1.2.11-h166bdaf_1014\n",
            "  ncurses            conda-forge/linux-64::ncurses-6.3-h27087fc_1\n",
            "  openssl            conda-forge/linux-64::openssl-1.1.1o-h166bdaf_0\n",
            "  pip                conda-forge/linux-64::pip-20.0.2-py36_1\n",
            "  python             conda-forge/linux-64::python-3.6.15-hb7a2778_0_cpython\n",
            "  python_abi         conda-forge/linux-64::python_abi-3.6-2_cp36m\n",
            "  readline           conda-forge/linux-64::readline-8.1-h46c0cb4_0\n",
            "  setuptools         conda-forge/linux-64::setuptools-49.6.0-py36h5fab9bb_3\n",
            "  sqlite             conda-forge/linux-64::sqlite-3.38.5-h4ff8645_0\n",
            "  tk                 conda-forge/linux-64::tk-8.6.12-h27826a3_0\n",
            "  wheel              conda-forge/noarch::wheel-0.37.1-pyhd8ed1ab_0\n",
            "  xz                 conda-forge/linux-64::xz-5.2.5-h516909a_1\n",
            "  zlib               conda-forge/linux-64::zlib-1.2.11-h166bdaf_1014\n",
            "\n",
            "\n",
            "Preparing transaction: \\ \b\b| \b\b/ \b\bdone\n",
            "Verifying transaction: \\ \b\b| \b\b/ \b\b- \b\b\\ \b\b| \b\b/ \b\b- \b\b\\ \b\b| \b\b/ \b\b- \b\b\\ \b\b| \b\b/ \b\b- \b\b\\ \b\b| \b\b/ \b\b- \b\b\\ \b\b| \b\b/ \b\bdone\n",
            "Executing transaction: \\ \b\b| \b\b/ \b\b- \b\b\\ \b\b| \b\b/ \b\b- \b\b\\ \b\b| \b\b/ \b\b- \b\b\\ \b\b| \b\bdone\n",
            "#\n",
            "# To activate this environment, use\n",
            "#\n",
            "#     $ conda activate env_full\n",
            "#\n",
            "# To deactivate an active environment, use\n",
            "#\n",
            "#     $ conda deactivate\n",
            "\n",
            "\n",
            "CommandNotFoundError: Your shell has not been properly configured to use 'conda activate'.\n",
            "To initialize your shell, run\n",
            "\n",
            "    $ conda init <SHELL_NAME>\n",
            "\n",
            "Currently supported shells are:\n",
            "  - bash\n",
            "  - fish\n",
            "  - tcsh\n",
            "  - xonsh\n",
            "  - zsh\n",
            "  - powershell\n",
            "\n",
            "See 'conda init --help' for more information and options.\n",
            "\n",
            "IMPORTANT: You may need to close and restart your shell after running 'conda init'.\n",
            "\n",
            "\n",
            "Collecting package metadata (current_repodata.json): - \b\b\\ \b\b| \b\b/ \b\b- \b\b\\ \b\b| \b\b/ \b\b- \b\b\\ \b\b| \b\b/ \b\b- \b\b\\ \b\b| \b\b/ \b\b- \b\b\\ \b\b| \b\b/ \b\b- \b\b\\ \b\b| \b\b/ \b\b- \b\b\\ \b\b| \b\b/ \b\bdone\n",
            "Solving environment: \\ \b\b| \b\b/ \b\b- \b\b\\ \b\b| \b\b/ \b\b- \b\b\\ \b\b| \b\b/ \b\b- \b\b\\ \b\b| \b\b/ \b\b- \b\b\\ \b\b| \b\b/ \b\b- \b\b\\ \b\b| \b\b/ \b\b- \b\b\\ \b\b| \b\b/ \b\b- \b\b\\ \b\b| \b\b/ \b\b- \b\b\\ \b\b| \b\b/ \b\b- \b\b\\ \b\b| \b\b/ \b\b- \b\b\\ \b\b| \b\b/ \b\b- \b\b\\ \b\b| \b\b/ \b\bdone\n",
            "\n",
            "# All requested packages already installed.\n",
            "\n"
          ]
        }
      ],
      "source": [
        "!conda create -n env_full python=3.6\n",
        "!conda activate env_full\n",
        "!conda install -c bioconda quast"
      ]
    },
    {
      "cell_type": "code",
      "execution_count": null,
      "metadata": {
        "id": "ZGGSHPaNigev"
      },
      "outputs": [],
      "source": [
        "!conda install -c bioconda spades"
      ]
    },
    {
      "cell_type": "markdown",
      "metadata": {
        "id": "O6mqfS6Avd_8"
      },
      "source": [
        "# 1. Сборка длинных ридов"
      ]
    },
    {
      "cell_type": "code",
      "execution_count": null,
      "metadata": {
        "colab": {
          "base_uri": "https://localhost:8080/"
        },
        "id": "M3cc0CJPuz8n",
        "outputId": "3720bfb9-4e07-48f4-9720-9f9ae81a0956"
      },
      "outputs": [
        {
          "name": "stdout",
          "output_type": "stream",
          "text": [
            "[2022-04-26 10:58:47] INFO: Starting Flye 2.9-b1768\n",
            "[2022-04-26 10:58:47] INFO: >>>STAGE: configure\n",
            "[2022-04-26 10:58:47] INFO: Configuring run\n",
            "[2022-04-26 10:58:48] INFO: Total read length: 54515681\n",
            "[2022-04-26 10:58:48] INFO: Reads N50/N90: 7475 / 2952\n",
            "[2022-04-26 10:58:48] INFO: Minimum overlap set to 3000\n",
            "[2022-04-26 10:58:48] INFO: >>>STAGE: assembly\n",
            "[2022-04-26 10:58:48] INFO: Assembling disjointigs\n",
            "[2022-04-26 10:58:48] INFO: Reading sequences\n",
            "tcmalloc: large alloc 8589934592 bytes == 0x561384dd2000 @  0x7fb8d1410887 0x5613804b6f05 0x561380484060 0x56138045fab2 0x7fb8d0a39c87 0x56138045fc59\n",
            "[2022-04-26 10:58:56] INFO: Counting k-mers:\n",
            "0% 10% 20% 30% 40% 50% 60% 70% 80% 90% 100% \n",
            "[2022-04-26 11:00:24] INFO: Filling index table (1/2)\n",
            "0% 10% 20% 30% 40% 50% 60% 70% 80% 90% 100% \n",
            "[2022-04-26 11:00:50] INFO: Filling index table (2/2)\n",
            "0% 10% 20% 30% 40% 50% 60% 70% 80% 90% 100% \n",
            "[2022-04-26 11:01:20] INFO: Extending reads\n",
            "[2022-04-26 11:01:25] INFO: Overlap-based coverage: 3\n",
            "[2022-04-26 11:01:25] INFO: Median overlap divergence: 0.195904\n",
            "0% 10% 20% 30% 40% 50% 60% 70% 80% 90% 100% \n",
            "[2022-04-26 11:01:48] INFO: Assembled 115 disjointigs\n",
            "[2022-04-26 11:01:48] INFO: Generating sequence\n",
            "0% 10% 20% 30% 40% 50% 60% 70% 80% 90% 100% \n",
            "[2022-04-26 11:01:59] INFO: Filtering contained disjointigs\n",
            "0% 10% 20% 30% 40% 50% 60% 70% 80% 90% 100% \n",
            "[2022-04-26 11:02:04] INFO: Contained seqs: 7\n",
            "[2022-04-26 11:02:05] INFO: >>>STAGE: consensus\n",
            "[2022-04-26 11:02:05] INFO: Running Minimap2\n",
            "[2022-04-26 11:03:19] INFO: Computing consensus\n",
            "[2022-04-26 11:04:49] INFO: Alignment error rate: 0.189626\n",
            "[2022-04-26 11:04:49] INFO: >>>STAGE: repeat\n",
            "[2022-04-26 11:04:49] INFO: Building and resolving repeat graph\n",
            "[2022-04-26 11:04:49] INFO: Parsing disjointigs\n",
            "[2022-04-26 11:04:49] INFO: Building repeat graph\n",
            "0% 10% 20% 30% 40% 50% 60% 70% 80% 90% 100% \n",
            "[2022-04-26 11:05:04] INFO: Median overlap divergence: 0.0711623\n",
            "[2022-04-26 11:05:04] INFO: Parsing reads\n",
            "[2022-04-26 11:05:05] INFO: Aligning reads to the graph\n",
            "0% 10% 20% 30% 40% 50% 60% 70% 80% 90% 100% \n",
            "[2022-04-26 11:05:45] INFO: Aligned read sequence: 35436354 / 48855793 (0.725326)\n",
            "[2022-04-26 11:05:45] INFO: Median overlap divergence: 0.113125\n",
            "[2022-04-26 11:05:45] INFO: Mean edge coverage: 6\n",
            "[2022-04-26 11:05:45] INFO: Simplifying the graph\n",
            "[2022-04-26 11:05:45] INFO: >>>STAGE: contigger\n",
            "[2022-04-26 11:05:45] INFO: Generating contigs\n",
            "[2022-04-26 11:05:45] INFO: Reading sequences\n",
            "[2022-04-26 11:05:46] INFO: Generated 58 contigs\n",
            "[2022-04-26 11:05:47] INFO: Added 0 scaffold connections\n",
            "[2022-04-26 11:05:47] INFO: >>>STAGE: polishing\n",
            "[2022-04-26 11:05:47] INFO: Polishing genome (1/1)\n",
            "[2022-04-26 11:05:47] INFO: Running minimap2\n",
            "[2022-04-26 11:06:43] INFO: Separating alignment into bubbles\n",
            "[2022-04-26 11:08:08] INFO: Alignment error rate: 0.144098\n",
            "[2022-04-26 11:08:08] INFO: Correcting bubbles\n",
            "0% 10% 20% 30% 40% 50% 60% 70% 80% 90% 100% \n",
            "[2022-04-26 11:28:21] INFO: >>>STAGE: finalize\n",
            "[2022-04-26 11:28:21] INFO: Assembly statistics:\n",
            "\n",
            "\tTotal length:\t4782639\n",
            "\tFragments:\t57\n",
            "\tFragments N50:\t177961\n",
            "\tLargest frg:\t475497\n",
            "\tScaffolds:\t0\n",
            "\tMean coverage:\t9\n",
            "\n",
            "[2022-04-26 11:28:21] INFO: Final assembly: /content/out_pacbio_10/assembly.fasta\n"
          ]
        }
      ],
      "source": [
        "!flye --pacbio-raw pacbio_10x.fq.gz --out-dir out_pacbio_10"
      ]
    },
    {
      "cell_type": "code",
      "execution_count": null,
      "metadata": {
        "colab": {
          "base_uri": "https://localhost:8080/"
        },
        "id": "dPh7BLg6xYMS",
        "outputId": "8360893b-11e1-42d5-d0a1-0ec826733eba"
      },
      "outputs": [
        {
          "name": "stdout",
          "output_type": "stream",
          "text": [
            "[2022-04-26 11:38:12] INFO: Starting Flye 2.9-b1768\n",
            "[2022-04-26 11:38:12] INFO: >>>STAGE: configure\n",
            "[2022-04-26 11:38:12] INFO: Configuring run\n",
            "[2022-04-26 11:38:15] INFO: Total read length: 109142883\n",
            "[2022-04-26 11:38:15] INFO: Reads N50/N90: 7563 / 2948\n",
            "[2022-04-26 11:38:15] INFO: Minimum overlap set to 3000\n",
            "[2022-04-26 11:38:15] INFO: >>>STAGE: assembly\n",
            "[2022-04-26 11:38:15] INFO: Assembling disjointigs\n",
            "[2022-04-26 11:38:15] INFO: Reading sequences\n",
            "tcmalloc: large alloc 8589934592 bytes == 0x55e35a478000 @  0x7fa749a48887 0x55e353778f05 0x55e353746060 0x55e353721ab2 0x7fa749071c87 0x55e353721c59\n",
            "[2022-04-26 11:38:22] INFO: Counting k-mers:\n",
            "0% 10% 20% 30% 40% 50% 60% 70% 80% 90% 100% \n",
            "[2022-04-26 11:40:06] INFO: Filling index table (1/2)\n",
            "0% 10% 20% 30% 40% 50% 60% 70% 80% 90% 100% \n",
            "[2022-04-26 11:41:01] INFO: Filling index table (2/2)\n",
            "0% 10% 20% 30% 40% 50% 60% 70% 80% 90% 100% \n",
            "[2022-04-26 11:42:04] INFO: Extending reads\n",
            "[2022-04-26 11:42:10] INFO: Overlap-based coverage: 7\n",
            "[2022-04-26 11:42:10] INFO: Median overlap divergence: 0.196288\n",
            "0% 10% 20% 30% 40% 50% 60% 70% 80% 90% 100% \n",
            "[2022-04-26 11:43:00] INFO: Assembled 56 disjointigs\n",
            "[2022-04-26 11:43:01] INFO: Generating sequence\n",
            "0% 10% 20% 30% 40% 50% 60% 70% 80% 90% 100% \n",
            "[2022-04-26 11:43:14] INFO: Filtering contained disjointigs\n",
            "0% 10% 20% 30% 40% 50% 60% 70% 80% 90% 100% \n",
            "[2022-04-26 11:43:19] INFO: Contained seqs: 13\n",
            "[2022-04-26 11:43:20] INFO: >>>STAGE: consensus\n",
            "[2022-04-26 11:43:20] INFO: Running Minimap2\n",
            "[2022-04-26 11:45:45] INFO: Computing consensus\n",
            "[2022-04-26 11:48:00] INFO: Alignment error rate: 0.195344\n",
            "[2022-04-26 11:48:00] INFO: >>>STAGE: repeat\n",
            "[2022-04-26 11:48:00] INFO: Building and resolving repeat graph\n",
            "[2022-04-26 11:48:00] INFO: Parsing disjointigs\n",
            "[2022-04-26 11:48:00] INFO: Building repeat graph\n",
            "0% 10% 20% 30% 40% 50% 60% 70% 80% 90% 100% \n",
            "[2022-04-26 11:48:12] INFO: Median overlap divergence: 0.0414494\n",
            "[2022-04-26 11:48:13] INFO: Parsing reads\n",
            "[2022-04-26 11:48:15] INFO: Aligning reads to the graph\n",
            "0% 10% 20% 30% 40% 50% 60% 70% 80% 90% 100% \n",
            "[2022-04-26 11:49:22] INFO: Aligned read sequence: 69758088 / 97811235 (0.713191)\n",
            "[2022-04-26 11:49:22] INFO: Median overlap divergence: 0.112985\n",
            "[2022-04-26 11:49:22] INFO: Mean edge coverage: 14\n",
            "[2022-04-26 11:49:22] INFO: Simplifying the graph\n",
            "[2022-04-26 11:49:22] INFO: >>>STAGE: contigger\n",
            "[2022-04-26 11:49:22] INFO: Generating contigs\n",
            "[2022-04-26 11:49:22] INFO: Reading sequences\n",
            "[2022-04-26 11:49:24] INFO: Generated 4 contigs\n",
            "[2022-04-26 11:49:24] INFO: Added 0 scaffold connections\n",
            "[2022-04-26 11:49:25] INFO: >>>STAGE: polishing\n",
            "[2022-04-26 11:49:25] INFO: Polishing genome (1/1)\n",
            "[2022-04-26 11:49:25] INFO: Running minimap2\n",
            "[2022-04-26 11:51:15] INFO: Separating alignment into bubbles\n",
            "[2022-04-26 11:53:39] INFO: Alignment error rate: 0.142370\n",
            "[2022-04-26 11:53:39] INFO: Correcting bubbles\n",
            "0% 10% 20% 30% 40% 50% 60% 70% 80% 90% 100% \n",
            "[2022-04-26 12:14:32] INFO: >>>STAGE: finalize\n",
            "[2022-04-26 12:14:32] INFO: Assembly statistics:\n",
            "\n",
            "\tTotal length:\t4654186\n",
            "\tFragments:\t2\n",
            "\tFragments N50:\t4652742\n",
            "\tLargest frg:\t4652742\n",
            "\tScaffolds:\t0\n",
            "\tMean coverage:\t17\n",
            "\n",
            "[2022-04-26 12:14:32] INFO: Final assembly: /content/out_pacbio_20/assembly.fasta\n"
          ]
        }
      ],
      "source": [
        "!flye --pacbio-raw pacbio_20x.fq.gz --out-dir out_pacbio_20"
      ]
    },
    {
      "cell_type": "code",
      "execution_count": null,
      "metadata": {
        "colab": {
          "base_uri": "https://localhost:8080/"
        },
        "id": "K1a_BWqOxYay",
        "outputId": "946e7d6f-a7cc-4100-ebc3-45e8c1393840"
      },
      "outputs": [
        {
          "name": "stdout",
          "output_type": "stream",
          "text": [
            "[2022-04-26 13:10:24] INFO: Starting Flye 2.9-b1768\n",
            "[2022-04-26 13:10:24] INFO: >>>STAGE: configure\n",
            "[2022-04-26 13:10:24] INFO: Configuring run\n",
            "[2022-04-26 13:10:30] INFO: Total read length: 218843316\n",
            "[2022-04-26 13:10:30] INFO: Reads N50/N90: 7543 / 2957\n",
            "[2022-04-26 13:10:30] INFO: Minimum overlap set to 3000\n",
            "[2022-04-26 13:10:30] INFO: >>>STAGE: assembly\n",
            "[2022-04-26 13:10:30] INFO: Assembling disjointigs\n",
            "[2022-04-26 13:10:30] INFO: Reading sequences\n",
            "tcmalloc: large alloc 8589934592 bytes == 0x5634bc686000 @  0x7f3b851e8887 0x5634b2fa2f05 0x5634b2f70060 0x5634b2f4bab2 0x7f3b84811c87 0x5634b2f4bc59\n",
            "[2022-04-26 13:10:44] INFO: Counting k-mers:\n",
            "0% 10% 20% 30% 40% 50% 60% 70% 80% 90% 100% \n",
            "[2022-04-26 13:13:07] INFO: Filling index table (1/2)\n",
            "0% 10% 20% 30% 40% 50% 60% 70% 80% 90% 100% \n",
            "[2022-04-26 13:15:13] INFO: Filling index table (2/2)\n",
            "0% 10% 20% 30% 40% 50% 60% 70% 80% 90% 100% \n",
            "[2022-04-26 13:17:27] INFO: Extending reads\n",
            "[2022-04-26 13:17:33] INFO: Overlap-based coverage: 15\n",
            "[2022-04-26 13:17:33] INFO: Median overlap divergence: 0.197442\n",
            "0% 50% 60% 70% 80% 90% 100% \n",
            "[2022-04-26 13:19:04] INFO: Assembled 8 disjointigs\n",
            "[2022-04-26 13:19:04] INFO: Generating sequence\n",
            "0% 10% 20% 30% 40% 50% 60% 70% 80% 90% 100% \n",
            "[2022-04-26 13:19:19] INFO: Filtering contained disjointigs\n",
            "0% 10% 20% 30% 50% 60% 70% 80% 100% \n",
            "[2022-04-26 13:19:23] INFO: Contained seqs: 4\n",
            "[2022-04-26 13:19:24] INFO: >>>STAGE: consensus\n",
            "[2022-04-26 13:19:24] INFO: Running Minimap2\n",
            "[2022-04-26 13:23:53] INFO: Computing consensus\n",
            "[2022-04-26 13:27:47] INFO: Alignment error rate: 0.196785\n",
            "[2022-04-26 13:27:47] INFO: >>>STAGE: repeat\n",
            "[2022-04-26 13:27:47] INFO: Building and resolving repeat graph\n",
            "[2022-04-26 13:27:47] INFO: Parsing disjointigs\n",
            "[2022-04-26 13:27:47] INFO: Building repeat graph\n",
            "0% 20% 50% 70% 100% \n",
            "[2022-04-26 13:27:58] INFO: Median overlap divergence: 0.0364042\n",
            "[2022-04-26 13:27:58] INFO: Parsing reads\n",
            "[2022-04-26 13:28:02] INFO: Aligning reads to the graph\n",
            "0% 10% 20% 30% 40% 50% 60% 70% 80% 90% 100% \n",
            "[2022-04-26 13:30:17] INFO: Aligned read sequence: 140819039 / 196329755 (0.717258)\n",
            "[2022-04-26 13:30:17] INFO: Median overlap divergence: 0.111389\n",
            "[2022-04-26 13:30:17] INFO: Mean edge coverage: 29\n",
            "[2022-04-26 13:30:17] INFO: Simplifying the graph\n",
            "[2022-04-26 13:30:17] INFO: >>>STAGE: contigger\n",
            "[2022-04-26 13:30:17] INFO: Generating contigs\n",
            "[2022-04-26 13:30:17] INFO: Reading sequences\n",
            "[2022-04-26 13:30:21] INFO: Generated 3 contigs\n",
            "[2022-04-26 13:30:21] INFO: Added 0 scaffold connections\n",
            "[2022-04-26 13:30:22] INFO: >>>STAGE: polishing\n",
            "[2022-04-26 13:30:22] INFO: Polishing genome (1/1)\n",
            "[2022-04-26 13:30:22] INFO: Running minimap2\n",
            "[2022-04-26 13:34:05] INFO: Separating alignment into bubbles\n",
            "[2022-04-26 13:38:34] INFO: Alignment error rate: 0.140749\n",
            "[2022-04-26 13:38:34] INFO: Correcting bubbles\n",
            "0% 10% 20% 30% 40% 50% 60% 70% 80% 90% 100% \n",
            "[2022-04-26 13:59:55] INFO: >>>STAGE: finalize\n",
            "[2022-04-26 13:59:56] INFO: Assembly statistics:\n",
            "\n",
            "\tTotal length:\t4643869\n",
            "\tFragments:\t2\n",
            "\tFragments N50:\t4642058\n",
            "\tLargest frg:\t4642058\n",
            "\tScaffolds:\t0\n",
            "\tMean coverage:\t36\n",
            "\n",
            "[2022-04-26 13:59:56] INFO: Final assembly: /content/out_pacbio_40/assembly.fasta\n"
          ]
        }
      ],
      "source": [
        "!flye --pacbio-raw pacbio_40x.fq.gz --out-dir out_pacbio_40"
      ]
    },
    {
      "cell_type": "code",
      "execution_count": null,
      "metadata": {
        "colab": {
          "base_uri": "https://localhost:8080/"
        },
        "id": "0IkMFGNqxYmS",
        "outputId": "ad9e3234-1d71-4335-d76d-feaeec3b697c"
      },
      "outputs": [
        {
          "name": "stdout",
          "output_type": "stream",
          "text": [
            "[2022-04-26 13:59:56] INFO: Starting Flye 2.9-b1768\n",
            "[2022-04-26 13:59:56] INFO: >>>STAGE: configure\n",
            "[2022-04-26 13:59:56] INFO: Configuring run\n",
            "[2022-04-26 14:00:07] INFO: Total read length: 436994771\n",
            "[2022-04-26 14:00:07] INFO: Reads N50/N90: 7566 / 2967\n",
            "[2022-04-26 14:00:07] INFO: Minimum overlap set to 3000\n",
            "[2022-04-26 14:00:07] INFO: >>>STAGE: assembly\n",
            "[2022-04-26 14:00:07] INFO: Assembling disjointigs\n",
            "[2022-04-26 14:00:07] INFO: Reading sequences\n",
            "tcmalloc: large alloc 8589934592 bytes == 0x55fdb17ae000 @  0x7f3a5942d887 0x55fda29adf05 0x55fda297b060 0x55fda2956ab2 0x7f3a58a56c87 0x55fda2956c59\n",
            "[2022-04-26 14:00:26] INFO: Counting k-mers:\n",
            "0% 10% 20% 30% 40% 50% 60% 70% 80% 90% 100% \n",
            "[2022-04-26 14:03:59] INFO: Filling index table (1/2)\n",
            "0% 10% 20% 30% 40% 50% 60% 70% 80% tcmalloc: large alloc 1744830464 bytes == 0x55ffe7aae000 @  0x7f3a5942d887 0x55fda29bbbf8 0x55fda29b17bf 0x55fda29701dd 0x7f3a597969d4 0x7f3a58e2d6db 0x7f3a58b5661f\n",
            "90% 100% \n",
            "[2022-04-26 14:08:36] INFO: Filling index table (2/2)\n",
            "0% 10% 20% 30% 40% 50% 60% 70% 80% 90% 100% \n",
            "[2022-04-26 14:13:33] INFO: Extending reads\n",
            "[2022-04-26 14:13:42] INFO: Overlap-based coverage: 30\n",
            "[2022-04-26 14:13:42] INFO: Median overlap divergence: 0.193644\n",
            "0% 60% 70% 100% \n",
            "[2022-04-26 14:17:09] INFO: Assembled 4 disjointigs\n",
            "[2022-04-26 14:17:10] INFO: Generating sequence\n",
            "0% 10% 20% 30% 40% 50% 60% 70% 80% 90% 100% \n",
            "[2022-04-26 14:17:28] INFO: Filtering contained disjointigs\n",
            "0% 20% 50% 70% 100% \n",
            "[2022-04-26 14:17:32] INFO: Contained seqs: 2\n",
            "[2022-04-26 14:17:33] INFO: >>>STAGE: consensus\n",
            "[2022-04-26 14:17:33] INFO: Running Minimap2\n",
            "[2022-04-26 14:26:24] INFO: Computing consensus\n",
            "[2022-04-26 14:33:42] INFO: Alignment error rate: 0.196599\n",
            "[2022-04-26 14:33:42] INFO: >>>STAGE: repeat\n",
            "[2022-04-26 14:33:42] INFO: Building and resolving repeat graph\n",
            "[2022-04-26 14:33:42] INFO: Parsing disjointigs\n",
            "[2022-04-26 14:33:42] INFO: Building repeat graph\n",
            "0% 50% 100% \n",
            "[2022-04-26 14:33:53] INFO: Median overlap divergence: 0.0523266\n",
            "[2022-04-26 14:33:53] INFO: Parsing reads\n",
            "[2022-04-26 14:34:01] INFO: Aligning reads to the graph\n",
            "0% 10% 20% 30% 40% 50% 60% 70% 80% 90% 100% \n",
            "[2022-04-26 14:38:13] INFO: Aligned read sequence: 281191983 / 392320185 (0.716741)\n",
            "[2022-04-26 14:38:13] INFO: Median overlap divergence: 0.110955\n",
            "[2022-04-26 14:38:13] INFO: Mean edge coverage: 58\n",
            "[2022-04-26 14:38:13] INFO: Simplifying the graph\n",
            "[2022-04-26 14:38:14] INFO: >>>STAGE: contigger\n",
            "[2022-04-26 14:38:14] INFO: Generating contigs\n",
            "[2022-04-26 14:38:14] INFO: Reading sequences\n",
            "[2022-04-26 14:38:23] INFO: Generated 1 contigs\n",
            "[2022-04-26 14:38:23] INFO: Added 0 scaffold connections\n",
            "[2022-04-26 14:38:23] INFO: >>>STAGE: polishing\n",
            "[2022-04-26 14:38:23] INFO: Polishing genome (1/1)\n",
            "[2022-04-26 14:38:23] INFO: Running minimap2\n",
            "[2022-04-26 14:45:44] INFO: Separating alignment into bubbles\n",
            "[2022-04-26 14:54:13] INFO: Alignment error rate: 0.140553\n",
            "[2022-04-26 14:54:13] INFO: Correcting bubbles\n",
            "0% 10% 20% 30% 40% 50% 60% 70% 80% 90% 100% \n",
            "[2022-04-26 15:13:09] INFO: >>>STAGE: finalize\n",
            "[2022-04-26 15:13:09] INFO: Assembly statistics:\n",
            "\n",
            "\tTotal length:\t4642327\n",
            "\tFragments:\t1\n",
            "\tFragments N50:\t4642327\n",
            "\tLargest frg:\t4642327\n",
            "\tScaffolds:\t0\n",
            "\tMean coverage:\t75\n",
            "\n",
            "[2022-04-26 15:13:09] INFO: Final assembly: /content/out_pacbio_80/assembly.fasta\n"
          ]
        }
      ],
      "source": [
        "!flye --pacbio-raw pacbio_80x.fq.gz --out-dir out_pacbio_80"
      ]
    },
    {
      "cell_type": "code",
      "execution_count": null,
      "metadata": {
        "colab": {
          "base_uri": "https://localhost:8080/"
        },
        "id": "IXgM9HK_uM1V",
        "outputId": "d15a7daf-a2bc-4dea-93d5-b5568c0bc777"
      },
      "outputs": [
        {
          "name": "stdout",
          "output_type": "stream",
          "text": [
            "/usr/local/bin/quast.py -r reference.fasta /content/out_pacbio_80/assembly.fasta\n",
            "\n",
            "Version: 5.0.2\n",
            "\n",
            "System information:\n",
            "  OS: Linux-5.4.144+-x86_64-with-debian-buster-sid (linux_64)\n",
            "  Python version: 3.7.10\n",
            "  CPUs number: 2\n",
            "\n",
            "Started: 2022-04-26 15:13:09\n",
            "\n",
            "Logging to /content/quast_results/results_2022_04_26_15_13_09/quast.log\n",
            "NOTICE: Maximum number of threads is set to 1 (use --threads option to set it manually)\n",
            "\n",
            "CWD: /content\n",
            "Main parameters: \n",
            "  MODE: default, threads: 1, minimum contig length: 500, minimum alignment length: 65, \\\n",
            "  ambiguity: one, threshold for extensive misassembly size: 1000\n",
            "\n",
            "Reference:\n",
            "  /content/reference.fasta ==> reference\n",
            "\n",
            "Contigs:\n",
            "  Pre-processing...\n",
            "  /content/out_pacbio_80/assembly.fasta ==> assembly\n",
            "\n",
            "2022-04-26 15:13:11\n",
            "Running Basic statistics processor...\n",
            "  Reference genome:\n",
            "    reference.fasta, length = 4639675, num fragments = 1, GC % = 50.79\n",
            "  Contig files: \n",
            "    assembly\n",
            "  Calculating N50 and L50...\n",
            "    assembly, N50 = 4642327, L50 = 1, Total length = 4642327, GC % = 50.79, # N's per 100 kbp =  0.00\n",
            "  Drawing Nx plot...\n",
            "    saved to /content/quast_results/results_2022_04_26_15_13_09/basic_stats/Nx_plot.pdf\n",
            "  Drawing NGx plot...\n",
            "    saved to /content/quast_results/results_2022_04_26_15_13_09/basic_stats/NGx_plot.pdf\n",
            "  Drawing cumulative plot...\n",
            "    saved to /content/quast_results/results_2022_04_26_15_13_09/basic_stats/cumulative_plot.pdf\n",
            "  Drawing GC content plot...\n",
            "    saved to /content/quast_results/results_2022_04_26_15_13_09/basic_stats/GC_content_plot.pdf\n",
            "  Drawing assembly GC content plot...\n",
            "    saved to /content/quast_results/results_2022_04_26_15_13_09/basic_stats/assembly_GC_content_plot.pdf\n",
            "Done.\n",
            "\n",
            "2022-04-26 15:13:13\n",
            "Running Contig analyzer...\n",
            "  assembly\n",
            "  Logging to files /content/quast_results/results_2022_04_26_15_13_09/contigs_reports/contigs_report_assembly.stdout and contigs_report_assembly.stderr...\n",
            "  Aligning contigs to the reference\n",
            "  Analysis is finished.\n",
            "  Creating total report...\n",
            "    saved to /content/quast_results/results_2022_04_26_15_13_09/contigs_reports/misassemblies_report.txt, misassemblies_report.tsv, and misassemblies_report.tex\n",
            "  Transposed version of total report...\n",
            "    saved to /content/quast_results/results_2022_04_26_15_13_09/contigs_reports/transposed_report_misassemblies.txt, transposed_report_misassemblies.tsv, and transposed_report_misassemblies.tex\n",
            "  Creating total report...\n",
            "    saved to /content/quast_results/results_2022_04_26_15_13_09/contigs_reports/unaligned_report.txt, unaligned_report.tsv, and unaligned_report.tex\n",
            "  Drawing misassemblies by types plot...\n",
            "    saved to /content/quast_results/results_2022_04_26_15_13_09/contigs_reports/misassemblies_plot.pdf\n",
            "  Drawing misassemblies FRCurve plot...\n",
            "    saved to /content/quast_results/results_2022_04_26_15_13_09/contigs_reports/misassemblies_frcurve_plot.pdf\n",
            "Done.\n",
            "\n",
            "2022-04-26 15:13:16\n",
            "Running NA-NGA calculation...\n",
            "  assembly, Largest alignment = 2340009, NA50 = 2340009, NGA50 = 2340009, LA50 = 1, LGA50 = 1\n",
            "  Drawing cumulative plot...\n",
            "    saved to /content/quast_results/results_2022_04_26_15_13_09/aligned_stats/cumulative_plot.pdf\n",
            "  Drawing NAx plot...\n",
            "    saved to /content/quast_results/results_2022_04_26_15_13_09/aligned_stats/NAx_plot.pdf\n",
            "  Drawing NGAx plot...\n",
            "    saved to /content/quast_results/results_2022_04_26_15_13_09/aligned_stats/NGAx_plot.pdf\n",
            "Done.\n",
            "\n",
            "2022-04-26 15:13:17\n",
            "Running Genome analyzer...\n",
            "  NOTICE: No file with genomic features were provided. Use the --features option if you want to specify it.\n",
            "\n",
            "  NOTICE: No file with operons were provided. Use the -O option if you want to specify it.\n",
            "  assembly\n",
            "  Analysis is finished.\n",
            "  Skipping drawing Genome fraction, % histogram... (less than 2 columns histogram makes no sense)\n",
            "Done.\n",
            "\n",
            "NOTICE: Genes are not predicted by default. Use --gene-finding or --glimmer option to enable it.\n",
            "\n",
            "2022-04-26 15:13:18\n",
            "Creating large visual summaries...\n",
            "This may take a while: press Ctrl-C to skip this step..\n",
            "  1 of 2: Creating Icarus viewers...\n",
            "  2 of 2: Creating PDF with all tables and plots...\n",
            "Done\n",
            "\n",
            "2022-04-26 15:13:20\n",
            "RESULTS:\n",
            "  Text versions of total report are saved to /content/quast_results/results_2022_04_26_15_13_09/report.txt, report.tsv, and report.tex\n",
            "  Text versions of transposed total report are saved to /content/quast_results/results_2022_04_26_15_13_09/transposed_report.txt, transposed_report.tsv, and transposed_report.tex\n",
            "  HTML version (interactive tables and plots) is saved to /content/quast_results/results_2022_04_26_15_13_09/report.html\n",
            "  PDF version (tables and plots) is saved to /content/quast_results/results_2022_04_26_15_13_09/report.pdf\n",
            "  Icarus (contig browser) is saved to /content/quast_results/results_2022_04_26_15_13_09/icarus.html\n",
            "  Log is saved to /content/quast_results/results_2022_04_26_15_13_09/quast.log\n",
            "\n",
            "Finished: 2022-04-26 15:13:20\n",
            "Elapsed time: 0:00:10.518708\n",
            "NOTICEs: 4; WARNINGs: 0; non-fatal ERRORs: 0\n",
            "\n",
            "Thank you for using QUAST!\n"
          ]
        }
      ],
      "source": [
        "!quast.py -r reference.fasta /content/out_pacbio_80/assembly.fasta"
      ]
    },
    {
      "cell_type": "code",
      "execution_count": null,
      "metadata": {
        "colab": {
          "base_uri": "https://localhost:8080/"
        },
        "id": "zFaCUPkuw-Pl",
        "outputId": "14947ca6-4d1c-461d-89ef-a1fec27cd99d"
      },
      "outputs": [
        {
          "name": "stdout",
          "output_type": "stream",
          "text": [
            "/usr/local/bin/quast.py -r reference.fasta /content/out_pacbio_40/assembly.fasta\n",
            "\n",
            "Version: 5.0.2\n",
            "\n",
            "System information:\n",
            "  OS: Linux-5.4.144+-x86_64-with-debian-buster-sid (linux_64)\n",
            "  Python version: 3.7.10\n",
            "  CPUs number: 2\n",
            "\n",
            "Started: 2022-04-26 15:13:20\n",
            "\n",
            "Logging to /content/quast_results/results_2022_04_26_15_13_20/quast.log\n",
            "NOTICE: Maximum number of threads is set to 1 (use --threads option to set it manually)\n",
            "\n",
            "CWD: /content\n",
            "Main parameters: \n",
            "  MODE: default, threads: 1, minimum contig length: 500, minimum alignment length: 65, \\\n",
            "  ambiguity: one, threshold for extensive misassembly size: 1000\n",
            "\n",
            "Reference:\n",
            "  /content/reference.fasta ==> reference\n",
            "\n",
            "Contigs:\n",
            "  Pre-processing...\n",
            "  /content/out_pacbio_40/assembly.fasta ==> assembly\n",
            "\n",
            "2022-04-26 15:13:21\n",
            "Running Basic statistics processor...\n",
            "  Reference genome:\n",
            "    reference.fasta, length = 4639675, num fragments = 1, GC % = 50.79\n",
            "  Contig files: \n",
            "    assembly\n",
            "  Calculating N50 and L50...\n",
            "    assembly, N50 = 4642058, L50 = 1, Total length = 4643869, GC % = 50.79, # N's per 100 kbp =  0.00\n",
            "  Drawing Nx plot...\n",
            "    saved to /content/quast_results/results_2022_04_26_15_13_20/basic_stats/Nx_plot.pdf\n",
            "  Drawing NGx plot...\n",
            "    saved to /content/quast_results/results_2022_04_26_15_13_20/basic_stats/NGx_plot.pdf\n",
            "  Drawing cumulative plot...\n",
            "    saved to /content/quast_results/results_2022_04_26_15_13_20/basic_stats/cumulative_plot.pdf\n",
            "  Drawing GC content plot...\n",
            "    saved to /content/quast_results/results_2022_04_26_15_13_20/basic_stats/GC_content_plot.pdf\n",
            "  Drawing assembly GC content plot...\n",
            "    saved to /content/quast_results/results_2022_04_26_15_13_20/basic_stats/assembly_GC_content_plot.pdf\n",
            "Done.\n",
            "\n",
            "2022-04-26 15:13:23\n",
            "Running Contig analyzer...\n",
            "  assembly\n",
            "  Logging to files /content/quast_results/results_2022_04_26_15_13_20/contigs_reports/contigs_report_assembly.stdout and contigs_report_assembly.stderr...\n",
            "  Aligning contigs to the reference\n",
            "  Analysis is finished.\n",
            "  Creating total report...\n",
            "    saved to /content/quast_results/results_2022_04_26_15_13_20/contigs_reports/misassemblies_report.txt, misassemblies_report.tsv, and misassemblies_report.tex\n",
            "  Transposed version of total report...\n",
            "    saved to /content/quast_results/results_2022_04_26_15_13_20/contigs_reports/transposed_report_misassemblies.txt, transposed_report_misassemblies.tsv, and transposed_report_misassemblies.tex\n",
            "  Creating total report...\n",
            "    saved to /content/quast_results/results_2022_04_26_15_13_20/contigs_reports/unaligned_report.txt, unaligned_report.tsv, and unaligned_report.tex\n",
            "  Drawing misassemblies by types plot...\n",
            "    saved to /content/quast_results/results_2022_04_26_15_13_20/contigs_reports/misassemblies_plot.pdf\n",
            "  Drawing misassemblies FRCurve plot...\n",
            "    saved to /content/quast_results/results_2022_04_26_15_13_20/contigs_reports/misassemblies_frcurve_plot.pdf\n",
            "Done.\n",
            "\n",
            "2022-04-26 15:13:26\n",
            "Running NA-NGA calculation...\n",
            "  assembly, Largest alignment = 2298519, NA50 = 1040422, NGA50 = 1040422, LA50 = 2, LGA50 = 2\n",
            "  Drawing cumulative plot...\n",
            "    saved to /content/quast_results/results_2022_04_26_15_13_20/aligned_stats/cumulative_plot.pdf\n",
            "  Drawing NAx plot...\n",
            "    saved to /content/quast_results/results_2022_04_26_15_13_20/aligned_stats/NAx_plot.pdf\n",
            "  Drawing NGAx plot...\n",
            "    saved to /content/quast_results/results_2022_04_26_15_13_20/aligned_stats/NGAx_plot.pdf\n",
            "Done.\n",
            "\n",
            "2022-04-26 15:13:27\n",
            "Running Genome analyzer...\n",
            "  NOTICE: No file with genomic features were provided. Use the --features option if you want to specify it.\n",
            "\n",
            "  NOTICE: No file with operons were provided. Use the -O option if you want to specify it.\n",
            "  assembly\n",
            "  Analysis is finished.\n",
            "  Skipping drawing Genome fraction, % histogram... (less than 2 columns histogram makes no sense)\n",
            "Done.\n",
            "\n",
            "NOTICE: Genes are not predicted by default. Use --gene-finding or --glimmer option to enable it.\n",
            "\n",
            "2022-04-26 15:13:28\n",
            "Creating large visual summaries...\n",
            "This may take a while: press Ctrl-C to skip this step..\n",
            "  1 of 2: Creating Icarus viewers...\n",
            "  2 of 2: Creating PDF with all tables and plots...\n",
            "Done\n",
            "\n",
            "2022-04-26 15:13:30\n",
            "RESULTS:\n",
            "  Text versions of total report are saved to /content/quast_results/results_2022_04_26_15_13_20/report.txt, report.tsv, and report.tex\n",
            "  Text versions of transposed total report are saved to /content/quast_results/results_2022_04_26_15_13_20/transposed_report.txt, transposed_report.tsv, and transposed_report.tex\n",
            "  HTML version (interactive tables and plots) is saved to /content/quast_results/results_2022_04_26_15_13_20/report.html\n",
            "  PDF version (tables and plots) is saved to /content/quast_results/results_2022_04_26_15_13_20/report.pdf\n",
            "  Icarus (contig browser) is saved to /content/quast_results/results_2022_04_26_15_13_20/icarus.html\n",
            "  Log is saved to /content/quast_results/results_2022_04_26_15_13_20/quast.log\n",
            "\n",
            "Finished: 2022-04-26 15:13:30\n",
            "Elapsed time: 0:00:09.620033\n",
            "NOTICEs: 4; WARNINGs: 0; non-fatal ERRORs: 0\n",
            "\n",
            "Thank you for using QUAST!\n"
          ]
        }
      ],
      "source": [
        "!quast.py -r reference.fasta /content/out_pacbio_40/assembly.fasta"
      ]
    },
    {
      "cell_type": "code",
      "execution_count": null,
      "metadata": {
        "colab": {
          "base_uri": "https://localhost:8080/"
        },
        "id": "s2BwoBlSxbJ_",
        "outputId": "e57de0fa-d66d-4b41-a33c-45f4a76d3b22"
      },
      "outputs": [
        {
          "name": "stdout",
          "output_type": "stream",
          "text": [
            "/usr/local/bin/quast.py -r reference.fasta /content/out_pacbio_20/assembly.fasta\n",
            "\n",
            "Version: 5.0.2\n",
            "\n",
            "System information:\n",
            "  OS: Linux-5.4.144+-x86_64-with-debian-buster-sid (linux_64)\n",
            "  Python version: 3.7.10\n",
            "  CPUs number: 2\n",
            "\n",
            "Started: 2022-04-26 12:16:36\n",
            "\n",
            "Logging to /content/quast_results/results_2022_04_26_12_16_36/quast.log\n",
            "NOTICE: Maximum number of threads is set to 1 (use --threads option to set it manually)\n",
            "\n",
            "CWD: /content\n",
            "Main parameters: \n",
            "  MODE: default, threads: 1, minimum contig length: 500, minimum alignment length: 65, \\\n",
            "  ambiguity: one, threshold for extensive misassembly size: 1000\n",
            "\n",
            "Reference:\n",
            "  /content/reference.fasta ==> reference\n",
            "\n",
            "Contigs:\n",
            "  Pre-processing...\n",
            "  /content/out_pacbio_20/assembly.fasta ==> assembly\n",
            "\n",
            "2022-04-26 12:16:37\n",
            "Running Basic statistics processor...\n",
            "  Reference genome:\n",
            "    reference.fasta, length = 4639675, num fragments = 1, GC % = 50.79\n",
            "  Contig files: \n",
            "    assembly\n",
            "  Calculating N50 and L50...\n",
            "    assembly, N50 = 4652742, L50 = 1, Total length = 4654186, GC % = 50.78, # N's per 100 kbp =  0.00\n",
            "  Drawing Nx plot...\n",
            "    saved to /content/quast_results/results_2022_04_26_12_16_36/basic_stats/Nx_plot.pdf\n",
            "  Drawing NGx plot...\n",
            "    saved to /content/quast_results/results_2022_04_26_12_16_36/basic_stats/NGx_plot.pdf\n",
            "  Drawing cumulative plot...\n",
            "    saved to /content/quast_results/results_2022_04_26_12_16_36/basic_stats/cumulative_plot.pdf\n",
            "  Drawing GC content plot...\n",
            "    saved to /content/quast_results/results_2022_04_26_12_16_36/basic_stats/GC_content_plot.pdf\n",
            "  Drawing assembly GC content plot...\n",
            "    saved to /content/quast_results/results_2022_04_26_12_16_36/basic_stats/assembly_GC_content_plot.pdf\n",
            "Done.\n",
            "\n",
            "2022-04-26 12:16:39\n",
            "Running Contig analyzer...\n",
            "  assembly\n",
            "  Logging to files /content/quast_results/results_2022_04_26_12_16_36/contigs_reports/contigs_report_assembly.stdout and contigs_report_assembly.stderr...\n",
            "  Aligning contigs to the reference\n",
            "  Analysis is finished.\n",
            "  Creating total report...\n",
            "    saved to /content/quast_results/results_2022_04_26_12_16_36/contigs_reports/misassemblies_report.txt, misassemblies_report.tsv, and misassemblies_report.tex\n",
            "  Transposed version of total report...\n",
            "    saved to /content/quast_results/results_2022_04_26_12_16_36/contigs_reports/transposed_report_misassemblies.txt, transposed_report_misassemblies.tsv, and transposed_report_misassemblies.tex\n",
            "  Creating total report...\n",
            "    saved to /content/quast_results/results_2022_04_26_12_16_36/contigs_reports/unaligned_report.txt, unaligned_report.tsv, and unaligned_report.tex\n",
            "  Drawing misassemblies by types plot...\n",
            "    saved to /content/quast_results/results_2022_04_26_12_16_36/contigs_reports/misassemblies_plot.pdf\n",
            "  Drawing misassemblies FRCurve plot...\n",
            "    saved to /content/quast_results/results_2022_04_26_12_16_36/contigs_reports/misassemblies_frcurve_plot.pdf\n",
            "Done.\n",
            "\n",
            "2022-04-26 12:16:42\n",
            "Running NA-NGA calculation...\n",
            "  assembly, Largest alignment = 3022723, NA50 = 3022723, NGA50 = 3022723, LA50 = 1, LGA50 = 1\n",
            "  Drawing cumulative plot...\n",
            "    saved to /content/quast_results/results_2022_04_26_12_16_36/aligned_stats/cumulative_plot.pdf\n",
            "  Drawing NAx plot...\n",
            "    saved to /content/quast_results/results_2022_04_26_12_16_36/aligned_stats/NAx_plot.pdf\n",
            "  Drawing NGAx plot...\n",
            "    saved to /content/quast_results/results_2022_04_26_12_16_36/aligned_stats/NGAx_plot.pdf\n",
            "Done.\n",
            "\n",
            "2022-04-26 12:16:43\n",
            "Running Genome analyzer...\n",
            "  NOTICE: No file with genomic features were provided. Use the --features option if you want to specify it.\n",
            "\n",
            "  NOTICE: No file with operons were provided. Use the -O option if you want to specify it.\n",
            "  assembly\n",
            "  Analysis is finished.\n",
            "  Skipping drawing Genome fraction, % histogram... (less than 2 columns histogram makes no sense)\n",
            "Done.\n",
            "\n",
            "NOTICE: Genes are not predicted by default. Use --gene-finding or --glimmer option to enable it.\n",
            "\n",
            "2022-04-26 12:16:44\n",
            "Creating large visual summaries...\n",
            "This may take a while: press Ctrl-C to skip this step..\n",
            "  1 of 2: Creating Icarus viewers...\n",
            "  2 of 2: Creating PDF with all tables and plots...\n",
            "Done\n",
            "\n",
            "2022-04-26 12:16:46\n",
            "RESULTS:\n",
            "  Text versions of total report are saved to /content/quast_results/results_2022_04_26_12_16_36/report.txt, report.tsv, and report.tex\n",
            "  Text versions of transposed total report are saved to /content/quast_results/results_2022_04_26_12_16_36/transposed_report.txt, transposed_report.tsv, and transposed_report.tex\n",
            "  HTML version (interactive tables and plots) is saved to /content/quast_results/results_2022_04_26_12_16_36/report.html\n",
            "  PDF version (tables and plots) is saved to /content/quast_results/results_2022_04_26_12_16_36/report.pdf\n",
            "  Icarus (contig browser) is saved to /content/quast_results/results_2022_04_26_12_16_36/icarus.html\n",
            "  Log is saved to /content/quast_results/results_2022_04_26_12_16_36/quast.log\n",
            "\n",
            "Finished: 2022-04-26 12:16:46\n",
            "Elapsed time: 0:00:09.501758\n",
            "NOTICEs: 4; WARNINGs: 0; non-fatal ERRORs: 0\n",
            "\n",
            "Thank you for using QUAST!\n"
          ]
        }
      ],
      "source": [
        "!quast.py -r reference.fasta /content/out_pacbio_20/assembly.fasta"
      ]
    },
    {
      "cell_type": "code",
      "execution_count": null,
      "metadata": {
        "colab": {
          "base_uri": "https://localhost:8080/"
        },
        "id": "gCYwt5Hi5Kj2",
        "outputId": "fe07a741-7288-477e-c0e9-efb12b092792"
      },
      "outputs": [
        {
          "name": "stdout",
          "output_type": "stream",
          "text": [
            "/usr/local/bin/quast.py -r reference.fasta /content/out_pacbio_10/assembly.fasta\n",
            "\n",
            "Version: 5.0.2\n",
            "\n",
            "System information:\n",
            "  OS: Linux-5.4.144+-x86_64-with-debian-buster-sid (linux_64)\n",
            "  Python version: 3.7.10\n",
            "  CPUs number: 2\n",
            "\n",
            "Started: 2022-04-26 11:36:32\n",
            "\n",
            "Logging to /content/quast_results/results_2022_04_26_11_36_32/quast.log\n",
            "NOTICE: Maximum number of threads is set to 1 (use --threads option to set it manually)\n",
            "\n",
            "CWD: /content\n",
            "Main parameters: \n",
            "  MODE: default, threads: 1, minimum contig length: 500, minimum alignment length: 65, \\\n",
            "  ambiguity: one, threshold for extensive misassembly size: 1000\n",
            "\n",
            "Reference:\n",
            "  /content/reference.fasta ==> reference\n",
            "\n",
            "Contigs:\n",
            "  Pre-processing...\n",
            "  /content/out_pacbio_10/assembly.fasta ==> assembly\n",
            "\n",
            "2022-04-26 11:36:34\n",
            "Running Basic statistics processor...\n",
            "  Reference genome:\n",
            "    reference.fasta, length = 4639675, num fragments = 1, GC % = 50.79\n",
            "  Contig files: \n",
            "    assembly\n",
            "  Calculating N50 and L50...\n",
            "    assembly, N50 = 177961, L50 = 9, Total length = 4782639, GC % = 50.75, # N's per 100 kbp =  0.00\n",
            "  Drawing Nx plot...\n",
            "    saved to /content/quast_results/results_2022_04_26_11_36_32/basic_stats/Nx_plot.pdf\n",
            "  Drawing NGx plot...\n",
            "    saved to /content/quast_results/results_2022_04_26_11_36_32/basic_stats/NGx_plot.pdf\n",
            "  Drawing cumulative plot...\n",
            "    saved to /content/quast_results/results_2022_04_26_11_36_32/basic_stats/cumulative_plot.pdf\n",
            "  Drawing GC content plot...\n",
            "    saved to /content/quast_results/results_2022_04_26_11_36_32/basic_stats/GC_content_plot.pdf\n",
            "  Drawing assembly GC content plot...\n",
            "    saved to /content/quast_results/results_2022_04_26_11_36_32/basic_stats/assembly_GC_content_plot.pdf\n",
            "Done.\n",
            "\n",
            "2022-04-26 11:36:35\n",
            "Running Contig analyzer...\n",
            "  assembly\n",
            "  Logging to files /content/quast_results/results_2022_04_26_11_36_32/contigs_reports/contigs_report_assembly.stdout and contigs_report_assembly.stderr...\n",
            "  Aligning contigs to the reference\n",
            "  Analysis is finished.\n",
            "  Creating total report...\n",
            "    saved to /content/quast_results/results_2022_04_26_11_36_32/contigs_reports/misassemblies_report.txt, misassemblies_report.tsv, and misassemblies_report.tex\n",
            "  Transposed version of total report...\n",
            "    saved to /content/quast_results/results_2022_04_26_11_36_32/contigs_reports/transposed_report_misassemblies.txt, transposed_report_misassemblies.tsv, and transposed_report_misassemblies.tex\n",
            "  Creating total report...\n",
            "    saved to /content/quast_results/results_2022_04_26_11_36_32/contigs_reports/unaligned_report.txt, unaligned_report.tsv, and unaligned_report.tex\n",
            "  Drawing misassemblies by types plot...\n",
            "    saved to /content/quast_results/results_2022_04_26_11_36_32/contigs_reports/misassemblies_plot.pdf\n",
            "  Drawing misassemblies FRCurve plot...\n",
            "    saved to /content/quast_results/results_2022_04_26_11_36_32/contigs_reports/misassemblies_frcurve_plot.pdf\n",
            "Done.\n",
            "\n",
            "2022-04-26 11:36:39\n",
            "Running NA-NGA calculation...\n",
            "  assembly, Largest alignment = 424979, NA50 = 121869, NGA50 = 126495, LA50 = 11, LGA50 = 10\n",
            "  Drawing cumulative plot...\n",
            "    saved to /content/quast_results/results_2022_04_26_11_36_32/aligned_stats/cumulative_plot.pdf\n",
            "  Drawing NAx plot...\n",
            "    saved to /content/quast_results/results_2022_04_26_11_36_32/aligned_stats/NAx_plot.pdf\n",
            "  Drawing NGAx plot...\n",
            "    saved to /content/quast_results/results_2022_04_26_11_36_32/aligned_stats/NGAx_plot.pdf\n",
            "Done.\n",
            "\n",
            "2022-04-26 11:36:39\n",
            "Running Genome analyzer...\n",
            "  NOTICE: No file with genomic features were provided. Use the --features option if you want to specify it.\n",
            "\n",
            "  NOTICE: No file with operons were provided. Use the -O option if you want to specify it.\n",
            "  assembly\n",
            "  Analysis is finished.\n",
            "  Skipping drawing Genome fraction, % histogram... (less than 2 columns histogram makes no sense)\n",
            "Done.\n",
            "\n",
            "NOTICE: Genes are not predicted by default. Use --gene-finding or --glimmer option to enable it.\n",
            "\n",
            "2022-04-26 11:36:41\n",
            "Creating large visual summaries...\n",
            "This may take a while: press Ctrl-C to skip this step..\n",
            "  1 of 2: Creating Icarus viewers...\n",
            "  2 of 2: Creating PDF with all tables and plots...\n",
            "Done\n",
            "\n",
            "2022-04-26 11:36:43\n",
            "RESULTS:\n",
            "  Text versions of total report are saved to /content/quast_results/results_2022_04_26_11_36_32/report.txt, report.tsv, and report.tex\n",
            "  Text versions of transposed total report are saved to /content/quast_results/results_2022_04_26_11_36_32/transposed_report.txt, transposed_report.tsv, and transposed_report.tex\n",
            "  HTML version (interactive tables and plots) is saved to /content/quast_results/results_2022_04_26_11_36_32/report.html\n",
            "  PDF version (tables and plots) is saved to /content/quast_results/results_2022_04_26_11_36_32/report.pdf\n",
            "  Icarus (contig browser) is saved to /content/quast_results/results_2022_04_26_11_36_32/icarus.html\n",
            "  Log is saved to /content/quast_results/results_2022_04_26_11_36_32/quast.log\n",
            "\n",
            "Finished: 2022-04-26 11:36:43\n",
            "Elapsed time: 0:00:10.331059\n",
            "NOTICEs: 4; WARNINGs: 0; non-fatal ERRORs: 0\n",
            "\n",
            "Thank you for using QUAST!\n"
          ]
        }
      ],
      "source": [
        "!quast.py -r reference.fasta /content/out_pacbio_10/assembly.fasta"
      ]
    },
    {
      "cell_type": "markdown",
      "metadata": {
        "id": "RhrmItgr9Wgs"
      },
      "source": [
        " # 2. Сборка коротких ридов"
      ]
    },
    {
      "cell_type": "markdown",
      "metadata": {
        "id": "EsO3sPtxY67R"
      },
      "source": [
        "Поскольку QUAST работает с костылями в jupyter notebook, а SPAdes - в Google Colab, то я загрузила часть вывода SPAdes на ридах Illumina на GitHub и скачаю их оттуда."
      ]
    },
    {
      "cell_type": "code",
      "execution_count": null,
      "metadata": {
        "colab": {
          "base_uri": "https://localhost:8080/"
        },
        "id": "vtfO_-3gjrgl",
        "outputId": "e6d9c4eb-a473-4205-fa19-d1cbbfdd5c45"
      },
      "outputs": [
        {
          "name": "stdout",
          "output_type": "stream",
          "text": [
            "--2022-04-26 10:53:18--  https://raw.githubusercontent.com/ainesko/NGS-HW/main/NGS6/scaffolds.fasta\n",
            "Resolving raw.githubusercontent.com (raw.githubusercontent.com)... 185.199.108.133, 185.199.109.133, 185.199.110.133, ...\n",
            "Connecting to raw.githubusercontent.com (raw.githubusercontent.com)|185.199.108.133|:443... connected.\n",
            "HTTP request sent, awaiting response... 200 OK\n",
            "Length: 4649861 (4.4M) [text/plain]\n",
            "Saving to: ‘scaffolds.fasta’\n",
            "\n",
            "scaffolds.fasta     100%[===================>]   4.43M  --.-KB/s    in 0.08s   \n",
            "\n",
            "2022-04-26 10:53:19 (57.8 MB/s) - ‘scaffolds.fasta’ saved [4649861/4649861]\n",
            "\n"
          ]
        }
      ],
      "source": [
        "!wget 'https://raw.githubusercontent.com/ainesko/NGS-HW/main/NGS6/scaffolds.fasta'"
      ]
    },
    {
      "cell_type": "code",
      "execution_count": null,
      "metadata": {
        "colab": {
          "base_uri": "https://localhost:8080/"
        },
        "id": "LnPXMYlrY5EY",
        "outputId": "d9b0326b-7a88-49da-b8e0-c3c7c3601396"
      },
      "outputs": [
        {
          "name": "stdout",
          "output_type": "stream",
          "text": [
            "/usr/local/bin/quast.py -r reference.fasta /content/scaffolds.fasta\n",
            "\n",
            "Version: 5.0.2\n",
            "\n",
            "System information:\n",
            "  OS: Linux-5.4.144+-x86_64-with-debian-buster-sid (linux_64)\n",
            "  Python version: 3.7.10\n",
            "  CPUs number: 2\n",
            "\n",
            "Started: 2022-04-26 10:53:38\n",
            "\n",
            "Logging to /content/quast_results/results_2022_04_26_10_53_38/quast.log\n",
            "NOTICE: Maximum number of threads is set to 1 (use --threads option to set it manually)\n",
            "\n",
            "CWD: /content\n",
            "Main parameters: \n",
            "  MODE: default, threads: 1, minimum contig length: 500, minimum alignment length: 65, \\\n",
            "  ambiguity: one, threshold for extensive misassembly size: 1000\n",
            "\n",
            "Reference:\n",
            "  /content/reference.fasta ==> reference\n",
            "\n",
            "Contigs:\n",
            "  Pre-processing...\n",
            "  /content/scaffolds.fasta ==> scaffolds\n",
            "\n",
            "2022-04-26 10:53:39\n",
            "Running Basic statistics processor...\n",
            "  Reference genome:\n",
            "    reference.fasta, length = 4639675, num fragments = 1, GC % = 50.79\n",
            "  Contig files: \n",
            "    scaffolds\n",
            "  Calculating N50 and L50...\n",
            "    scaffolds, N50 = 134691, L50 = 12, Total length = 4556248, GC % = 50.74, # N's per 100 kbp =  21.95\n",
            "  Drawing Nx plot...\n",
            "    saved to /content/quast_results/results_2022_04_26_10_53_38/basic_stats/Nx_plot.pdf\n",
            "  Drawing NGx plot...\n",
            "    saved to /content/quast_results/results_2022_04_26_10_53_38/basic_stats/NGx_plot.pdf\n",
            "  Drawing cumulative plot...\n",
            "    saved to /content/quast_results/results_2022_04_26_10_53_38/basic_stats/cumulative_plot.pdf\n",
            "  Drawing GC content plot...\n",
            "    saved to /content/quast_results/results_2022_04_26_10_53_38/basic_stats/GC_content_plot.pdf\n",
            "  Drawing scaffolds GC content plot...\n",
            "    saved to /content/quast_results/results_2022_04_26_10_53_38/basic_stats/scaffolds_GC_content_plot.pdf\n",
            "  Drawing Coverage histogram (bin size: 1x)...\n",
            "    saved to /content/quast_results/results_2022_04_26_10_53_38/basic_stats/coverage_histogram.pdf\n",
            "  Drawing scaffolds coverage histogram (bin size: 1x)...\n",
            "    saved to /content/quast_results/results_2022_04_26_10_53_38/basic_stats/scaffolds_coverage_histogram.pdf\n",
            "Done.\n",
            "\n",
            "2022-04-26 10:53:41\n",
            "Running Contig analyzer...\n",
            "  scaffolds\n",
            "  Logging to files /content/quast_results/results_2022_04_26_10_53_38/contigs_reports/contigs_report_scaffolds.stdout and contigs_report_scaffolds.stderr...\n",
            "  Aligning contigs to the reference\n",
            "  Analysis is finished.\n",
            "  Creating total report...\n",
            "    saved to /content/quast_results/results_2022_04_26_10_53_38/contigs_reports/misassemblies_report.txt, misassemblies_report.tsv, and misassemblies_report.tex\n",
            "  Transposed version of total report...\n",
            "    saved to /content/quast_results/results_2022_04_26_10_53_38/contigs_reports/transposed_report_misassemblies.txt, transposed_report_misassemblies.tsv, and transposed_report_misassemblies.tex\n",
            "  Creating total report...\n",
            "    saved to /content/quast_results/results_2022_04_26_10_53_38/contigs_reports/unaligned_report.txt, unaligned_report.tsv, and unaligned_report.tex\n",
            "  Drawing misassemblies by types plot...\n",
            "    saved to /content/quast_results/results_2022_04_26_10_53_38/contigs_reports/misassemblies_plot.pdf\n",
            "  Drawing misassemblies FRCurve plot...\n",
            "    saved to /content/quast_results/results_2022_04_26_10_53_38/contigs_reports/misassemblies_frcurve_plot.pdf\n",
            "Done.\n",
            "\n",
            "2022-04-26 10:53:44\n",
            "Running NA-NGA calculation...\n",
            "  scaffolds, Largest alignment = 285326, NA50 = 134691, NGA50 = 134691, LA50 = 12, LGA50 = 12\n",
            "  Drawing cumulative plot...\n",
            "    saved to /content/quast_results/results_2022_04_26_10_53_38/aligned_stats/cumulative_plot.pdf\n",
            "  Drawing NAx plot...\n",
            "    saved to /content/quast_results/results_2022_04_26_10_53_38/aligned_stats/NAx_plot.pdf\n",
            "  Drawing NGAx plot...\n",
            "    saved to /content/quast_results/results_2022_04_26_10_53_38/aligned_stats/NGAx_plot.pdf\n",
            "Done.\n",
            "\n",
            "2022-04-26 10:53:45\n",
            "Running Genome analyzer...\n",
            "  NOTICE: No file with genomic features were provided. Use the --features option if you want to specify it.\n",
            "\n",
            "  NOTICE: No file with operons were provided. Use the -O option if you want to specify it.\n",
            "  scaffolds\n",
            "  Analysis is finished.\n",
            "  Skipping drawing Genome fraction, % histogram... (less than 2 columns histogram makes no sense)\n",
            "Done.\n",
            "\n",
            "NOTICE: Genes are not predicted by default. Use --gene-finding or --glimmer option to enable it.\n",
            "\n",
            "2022-04-26 10:53:46\n",
            "Creating large visual summaries...\n",
            "This may take a while: press Ctrl-C to skip this step..\n",
            "  1 of 2: Creating Icarus viewers...\n",
            "  2 of 2: Creating PDF with all tables and plots...\n",
            "Done\n",
            "\n",
            "2022-04-26 10:53:48\n",
            "RESULTS:\n",
            "  Text versions of total report are saved to /content/quast_results/results_2022_04_26_10_53_38/report.txt, report.tsv, and report.tex\n",
            "  Text versions of transposed total report are saved to /content/quast_results/results_2022_04_26_10_53_38/transposed_report.txt, transposed_report.tsv, and transposed_report.tex\n",
            "  HTML version (interactive tables and plots) is saved to /content/quast_results/results_2022_04_26_10_53_38/report.html\n",
            "  PDF version (tables and plots) is saved to /content/quast_results/results_2022_04_26_10_53_38/report.pdf\n",
            "  Icarus (contig browser) is saved to /content/quast_results/results_2022_04_26_10_53_38/icarus.html\n",
            "  Log is saved to /content/quast_results/results_2022_04_26_10_53_38/quast.log\n",
            "\n",
            "Finished: 2022-04-26 10:53:48\n",
            "Elapsed time: 0:00:10.170848\n",
            "NOTICEs: 4; WARNINGs: 0; non-fatal ERRORs: 0\n",
            "\n",
            "Thank you for using QUAST!\n"
          ]
        }
      ],
      "source": [
        "!quast.py -r reference.fasta /content/scaffolds.fasta"
      ]
    },
    {
      "cell_type": "markdown",
      "metadata": {
        "id": "cfDQ-KKapUI1"
      },
      "source": [
        " # 3. Гибридная сборка"
      ]
    },
    {
      "cell_type": "code",
      "execution_count": 37,
      "metadata": {
        "colab": {
          "base_uri": "https://localhost:8080/"
        },
        "id": "_rZAz2fek-ZZ",
        "outputId": "4fd60741-c2d4-4a60-9e15-7ed24e2931f2"
      },
      "outputs": [
        {
          "output_type": "stream",
          "name": "stdout",
          "text": [
            "--2022-05-15 19:40:19--  https://raw.githubusercontent.com/ainesko/NGS-HW/main/NGS6/hybrid_10scaffolds.fasta\n",
            "Resolving raw.githubusercontent.com (raw.githubusercontent.com)... 185.199.108.133, 185.199.109.133, 185.199.110.133, ...\n",
            "Connecting to raw.githubusercontent.com (raw.githubusercontent.com)|185.199.108.133|:443... connected.\n",
            "HTTP request sent, awaiting response... 200 OK\n",
            "Length: 4715623 (4.5M) [text/plain]\n",
            "Saving to: ‘hybrid_10scaffolds.fasta.1’\n",
            "\n",
            "hybrid_10scaffolds. 100%[===================>]   4.50M  --.-KB/s    in 0.03s   \n",
            "\n",
            "2022-05-15 19:40:20 (141 MB/s) - ‘hybrid_10scaffolds.fasta.1’ saved [4715623/4715623]\n",
            "\n"
          ]
        }
      ],
      "source": [
        "!wget 'https://raw.githubusercontent.com/ainesko/NGS-HW/main/NGS6/hybrid_10scaffolds.fasta'"
      ]
    },
    {
      "cell_type": "code",
      "source": [
        "!wget 'https://raw.githubusercontent.com/ainesko/NGS-HW/main/NGS6/hybrid_20scaffolds.fasta'"
      ],
      "metadata": {
        "colab": {
          "base_uri": "https://localhost:8080/"
        },
        "id": "9hqqbVQrPnN1",
        "outputId": "31ea1d0c-6086-43e5-b510-89458e05e29e"
      },
      "execution_count": 39,
      "outputs": [
        {
          "output_type": "stream",
          "name": "stdout",
          "text": [
            "--2022-05-15 19:42:39--  https://raw.githubusercontent.com/ainesko/NGS-HW/main/NGS6/hybrid_20scaffolds.fasta\n",
            "Resolving raw.githubusercontent.com (raw.githubusercontent.com)... 185.199.108.133, 185.199.109.133, 185.199.110.133, ...\n",
            "Connecting to raw.githubusercontent.com (raw.githubusercontent.com)|185.199.108.133|:443... connected.\n",
            "HTTP request sent, awaiting response... 200 OK\n",
            "Length: 4720387 (4.5M) [text/plain]\n",
            "Saving to: ‘hybrid_20scaffolds.fasta’\n",
            "\n",
            "hybrid_20scaffolds. 100%[===================>]   4.50M  --.-KB/s    in 0.04s   \n",
            "\n",
            "2022-05-15 19:42:39 (113 MB/s) - ‘hybrid_20scaffolds.fasta’ saved [4720387/4720387]\n",
            "\n"
          ]
        }
      ]
    },
    {
      "cell_type": "code",
      "source": [
        "!wget 'https://raw.githubusercontent.com/ainesko/NGS-HW/main/NGS6/hybrid_40scaffolds.fasta'"
      ],
      "metadata": {
        "colab": {
          "base_uri": "https://localhost:8080/"
        },
        "id": "epWOB51bSjEm",
        "outputId": "2d193b8c-c7aa-4907-acb7-f0a668d7e41a"
      },
      "execution_count": 42,
      "outputs": [
        {
          "output_type": "stream",
          "name": "stdout",
          "text": [
            "--2022-05-15 19:55:28--  https://raw.githubusercontent.com/ainesko/NGS-HW/main/NGS6/hybrid_40scaffolds.fasta\n",
            "Resolving raw.githubusercontent.com (raw.githubusercontent.com)... 185.199.109.133, 185.199.108.133, 185.199.111.133, ...\n",
            "Connecting to raw.githubusercontent.com (raw.githubusercontent.com)|185.199.109.133|:443... connected.\n",
            "HTTP request sent, awaiting response... 200 OK\n",
            "Length: 4720249 (4.5M) [text/plain]\n",
            "Saving to: ‘hybrid_40scaffolds.fasta’\n",
            "\n",
            "hybrid_40scaffolds. 100%[===================>]   4.50M  --.-KB/s    in 0.03s   \n",
            "\n",
            "2022-05-15 19:55:29 (151 MB/s) - ‘hybrid_40scaffolds.fasta’ saved [4720249/4720249]\n",
            "\n"
          ]
        }
      ]
    },
    {
      "cell_type": "code",
      "source": [
        "!wget 'https://raw.githubusercontent.com/ainesko/NGS-HW/main/NGS6/scaffolds_hybrid80.fasta'"
      ],
      "metadata": {
        "colab": {
          "base_uri": "https://localhost:8080/"
        },
        "id": "ajY4sbJUXL0K",
        "outputId": "0c27c16d-03cc-4935-d074-4e980679dfe8"
      },
      "execution_count": 45,
      "outputs": [
        {
          "output_type": "stream",
          "name": "stdout",
          "text": [
            "--2022-05-15 20:16:14--  https://raw.githubusercontent.com/ainesko/NGS-HW/main/NGS6/scaffolds_hybrid80.fasta\n",
            "Resolving raw.githubusercontent.com (raw.githubusercontent.com)... 185.199.108.133, 185.199.109.133, 185.199.110.133, ...\n",
            "Connecting to raw.githubusercontent.com (raw.githubusercontent.com)|185.199.108.133|:443... connected.\n",
            "HTTP request sent, awaiting response... 200 OK\n",
            "Length: 4720249 (4.5M) [text/plain]\n",
            "Saving to: ‘scaffolds_hybrid80.fasta’\n",
            "\n",
            "scaffolds_hybrid80. 100%[===================>]   4.50M  --.-KB/s    in 0.03s   \n",
            "\n",
            "2022-05-15 20:16:15 (155 MB/s) - ‘scaffolds_hybrid80.fasta’ saved [4720249/4720249]\n",
            "\n"
          ]
        }
      ]
    },
    {
      "cell_type": "code",
      "execution_count": 38,
      "metadata": {
        "colab": {
          "base_uri": "https://localhost:8080/"
        },
        "id": "nXYNIRSJsJt8",
        "outputId": "ee5cffbc-6d6d-4821-a835-dcd626c7b2dd"
      },
      "outputs": [
        {
          "output_type": "stream",
          "name": "stdout",
          "text": [
            "/usr/local/bin/quast.py -r reference.fasta /content/hybrid_10scaffolds.fasta\n",
            "\n",
            "Version: 5.0.2\n",
            "\n",
            "System information:\n",
            "  OS: Linux-5.4.188+-x86_64-with-debian-buster-sid (linux_64)\n",
            "  Python version: 3.7.10\n",
            "  CPUs number: 2\n",
            "\n",
            "Started: 2022-05-15 19:40:24\n",
            "\n",
            "Logging to /content/quast_results/results_2022_05_15_19_40_24/quast.log\n",
            "NOTICE: Maximum number of threads is set to 1 (use --threads option to set it manually)\n",
            "\n",
            "CWD: /content\n",
            "Main parameters: \n",
            "  MODE: default, threads: 1, minimum contig length: 500, minimum alignment length: 65, \\\n",
            "  ambiguity: one, threshold for extensive misassembly size: 1000\n",
            "\n",
            "Reference:\n",
            "  /content/reference.fasta ==> reference\n",
            "\n",
            "Contigs:\n",
            "  Pre-processing...\n",
            "  /content/hybrid_10scaffolds.fasta ==> hybrid_10scaffolds\n",
            "\n",
            "2022-05-15 19:40:26\n",
            "Running Basic statistics processor...\n",
            "  Reference genome:\n",
            "    reference.fasta, length = 4639675, num fragments = 1, GC % = 50.79\n",
            "  Contig files: \n",
            "    hybrid_10scaffolds\n",
            "  Calculating N50 and L50...\n",
            "    hybrid_10scaffolds, N50 = 3211307, L50 = 1, Total length = 4636395, GC % = 50.78, # N's per 100 kbp =  72.86\n",
            "  Drawing Nx plot...\n",
            "    saved to /content/quast_results/results_2022_05_15_19_40_24/basic_stats/Nx_plot.pdf\n",
            "  Drawing NGx plot...\n",
            "    saved to /content/quast_results/results_2022_05_15_19_40_24/basic_stats/NGx_plot.pdf\n",
            "  Drawing cumulative plot...\n",
            "    saved to /content/quast_results/results_2022_05_15_19_40_24/basic_stats/cumulative_plot.pdf\n",
            "  Drawing GC content plot...\n",
            "    saved to /content/quast_results/results_2022_05_15_19_40_24/basic_stats/GC_content_plot.pdf\n",
            "  Drawing hybrid_10scaffolds GC content plot...\n",
            "    saved to /content/quast_results/results_2022_05_15_19_40_24/basic_stats/hybrid_10scaffolds_GC_content_plot.pdf\n",
            "  Drawing Coverage histogram (bin size: 1x)...\n",
            "    saved to /content/quast_results/results_2022_05_15_19_40_24/basic_stats/coverage_histogram.pdf\n",
            "  Drawing hybrid_10scaffolds coverage histogram (bin size: 1x)...\n",
            "    saved to /content/quast_results/results_2022_05_15_19_40_24/basic_stats/hybrid_10scaffolds_coverage_histogram.pdf\n",
            "Done.\n",
            "\n",
            "2022-05-15 19:40:28\n",
            "Running Contig analyzer...\n",
            "  hybrid_10scaffolds\n",
            "  Logging to files /content/quast_results/results_2022_05_15_19_40_24/contigs_reports/contigs_report_hybrid_10scaffolds.stdout and contigs_report_hybrid_10scaffolds.stderr...\n",
            "  Aligning contigs to the reference\n",
            "  Analysis is finished.\n",
            "  Creating total report...\n",
            "    saved to /content/quast_results/results_2022_05_15_19_40_24/contigs_reports/misassemblies_report.txt, misassemblies_report.tsv, and misassemblies_report.tex\n",
            "  Transposed version of total report...\n",
            "    saved to /content/quast_results/results_2022_05_15_19_40_24/contigs_reports/transposed_report_misassemblies.txt, transposed_report_misassemblies.tsv, and transposed_report_misassemblies.tex\n",
            "  Creating total report...\n",
            "    saved to /content/quast_results/results_2022_05_15_19_40_24/contigs_reports/unaligned_report.txt, unaligned_report.tsv, and unaligned_report.tex\n",
            "  Drawing misassemblies by types plot...\n",
            "    saved to /content/quast_results/results_2022_05_15_19_40_24/contigs_reports/misassemblies_plot.pdf\n",
            "  Drawing misassemblies FRCurve plot...\n",
            "    saved to /content/quast_results/results_2022_05_15_19_40_24/contigs_reports/misassemblies_frcurve_plot.pdf\n",
            "Done.\n",
            "\n",
            "2022-05-15 19:40:31\n",
            "Running NA-NGA calculation...\n",
            "  hybrid_10scaffolds, Largest alignment = 2065288, NA50 = 951840, NGA50 = 951840, LA50 = 2, LGA50 = 2\n",
            "  Drawing cumulative plot...\n",
            "    saved to /content/quast_results/results_2022_05_15_19_40_24/aligned_stats/cumulative_plot.pdf\n",
            "  Drawing NAx plot...\n",
            "    saved to /content/quast_results/results_2022_05_15_19_40_24/aligned_stats/NAx_plot.pdf\n",
            "  Drawing NGAx plot...\n",
            "    saved to /content/quast_results/results_2022_05_15_19_40_24/aligned_stats/NGAx_plot.pdf\n",
            "Done.\n",
            "\n",
            "2022-05-15 19:40:32\n",
            "Running Genome analyzer...\n",
            "  NOTICE: No file with genomic features were provided. Use the --features option if you want to specify it.\n",
            "\n",
            "  NOTICE: No file with operons were provided. Use the -O option if you want to specify it.\n",
            "  hybrid_10scaffolds\n",
            "  Analysis is finished.\n",
            "  Skipping drawing Genome fraction, % histogram... (less than 2 columns histogram makes no sense)\n",
            "Done.\n",
            "\n",
            "NOTICE: Genes are not predicted by default. Use --gene-finding or --glimmer option to enable it.\n",
            "\n",
            "2022-05-15 19:40:33\n",
            "Creating large visual summaries...\n",
            "This may take a while: press Ctrl-C to skip this step..\n",
            "  1 of 2: Creating Icarus viewers...\n",
            "  2 of 2: Creating PDF with all tables and plots...\n",
            "Done\n",
            "\n",
            "2022-05-15 19:40:35\n",
            "RESULTS:\n",
            "  Text versions of total report are saved to /content/quast_results/results_2022_05_15_19_40_24/report.txt, report.tsv, and report.tex\n",
            "  Text versions of transposed total report are saved to /content/quast_results/results_2022_05_15_19_40_24/transposed_report.txt, transposed_report.tsv, and transposed_report.tex\n",
            "  HTML version (interactive tables and plots) is saved to /content/quast_results/results_2022_05_15_19_40_24/report.html\n",
            "  PDF version (tables and plots) is saved to /content/quast_results/results_2022_05_15_19_40_24/report.pdf\n",
            "  Icarus (contig browser) is saved to /content/quast_results/results_2022_05_15_19_40_24/icarus.html\n",
            "  Log is saved to /content/quast_results/results_2022_05_15_19_40_24/quast.log\n",
            "\n",
            "Finished: 2022-05-15 19:40:35\n",
            "Elapsed time: 0:00:10.908997\n",
            "NOTICEs: 4; WARNINGs: 0; non-fatal ERRORs: 0\n",
            "\n",
            "Thank you for using QUAST!\n"
          ]
        }
      ],
      "source": [
        "!quast.py -r reference.fasta /content/hybrid_10scaffolds.fasta"
      ]
    },
    {
      "cell_type": "code",
      "source": [
        "!quast.py -r reference.fasta /content/hybrid_20scaffolds.fasta"
      ],
      "metadata": {
        "colab": {
          "base_uri": "https://localhost:8080/"
        },
        "id": "zs6miW88PpgI",
        "outputId": "b31e3c0c-c3df-4647-b5b6-dc04f21c40ab"
      },
      "execution_count": 40,
      "outputs": [
        {
          "output_type": "stream",
          "name": "stdout",
          "text": [
            "/usr/local/bin/quast.py -r reference.fasta /content/hybrid_20scaffolds.fasta\n",
            "\n",
            "Version: 5.0.2\n",
            "\n",
            "System information:\n",
            "  OS: Linux-5.4.188+-x86_64-with-debian-buster-sid (linux_64)\n",
            "  Python version: 3.7.10\n",
            "  CPUs number: 2\n",
            "\n",
            "Started: 2022-05-15 19:42:48\n",
            "\n",
            "Logging to /content/quast_results/results_2022_05_15_19_42_48/quast.log\n",
            "NOTICE: Maximum number of threads is set to 1 (use --threads option to set it manually)\n",
            "\n",
            "CWD: /content\n",
            "Main parameters: \n",
            "  MODE: default, threads: 1, minimum contig length: 500, minimum alignment length: 65, \\\n",
            "  ambiguity: one, threshold for extensive misassembly size: 1000\n",
            "\n",
            "Reference:\n",
            "  /content/reference.fasta ==> reference\n",
            "\n",
            "Contigs:\n",
            "  Pre-processing...\n",
            "  /content/hybrid_20scaffolds.fasta ==> hybrid_20scaffolds\n",
            "\n",
            "2022-05-15 19:42:49\n",
            "Running Basic statistics processor...\n",
            "  Reference genome:\n",
            "    reference.fasta, length = 4639675, num fragments = 1, GC % = 50.79\n",
            "  Contig files: \n",
            "    hybrid_20scaffolds\n",
            "  Calculating N50 and L50...\n",
            "    hybrid_20scaffolds, N50 = 4641720, L50 = 1, Total length = 4642262, GC % = 50.79, # N's per 100 kbp =  13.48\n",
            "  Drawing Nx plot...\n",
            "    saved to /content/quast_results/results_2022_05_15_19_42_48/basic_stats/Nx_plot.pdf\n",
            "  Drawing NGx plot...\n",
            "    saved to /content/quast_results/results_2022_05_15_19_42_48/basic_stats/NGx_plot.pdf\n",
            "  Drawing cumulative plot...\n",
            "    saved to /content/quast_results/results_2022_05_15_19_42_48/basic_stats/cumulative_plot.pdf\n",
            "  Drawing GC content plot...\n",
            "    saved to /content/quast_results/results_2022_05_15_19_42_48/basic_stats/GC_content_plot.pdf\n",
            "  Drawing hybrid_20scaffolds GC content plot...\n",
            "    saved to /content/quast_results/results_2022_05_15_19_42_48/basic_stats/hybrid_20scaffolds_GC_content_plot.pdf\n",
            "  Drawing Coverage histogram (bin size: 1x)...\n",
            "    saved to /content/quast_results/results_2022_05_15_19_42_48/basic_stats/coverage_histogram.pdf\n",
            "  Drawing hybrid_20scaffolds coverage histogram (bin size: 1x)...\n",
            "    saved to /content/quast_results/results_2022_05_15_19_42_48/basic_stats/hybrid_20scaffolds_coverage_histogram.pdf\n",
            "Done.\n",
            "\n",
            "2022-05-15 19:42:51\n",
            "Running Contig analyzer...\n",
            "  hybrid_20scaffolds\n",
            "  Logging to files /content/quast_results/results_2022_05_15_19_42_48/contigs_reports/contigs_report_hybrid_20scaffolds.stdout and contigs_report_hybrid_20scaffolds.stderr...\n",
            "  Aligning contigs to the reference\n",
            "  Analysis is finished.\n",
            "  Creating total report...\n",
            "    saved to /content/quast_results/results_2022_05_15_19_42_48/contigs_reports/misassemblies_report.txt, misassemblies_report.tsv, and misassemblies_report.tex\n",
            "  Transposed version of total report...\n",
            "    saved to /content/quast_results/results_2022_05_15_19_42_48/contigs_reports/transposed_report_misassemblies.txt, transposed_report_misassemblies.tsv, and transposed_report_misassemblies.tex\n",
            "  Creating total report...\n",
            "    saved to /content/quast_results/results_2022_05_15_19_42_48/contigs_reports/unaligned_report.txt, unaligned_report.tsv, and unaligned_report.tex\n",
            "  Drawing misassemblies by types plot...\n",
            "    saved to /content/quast_results/results_2022_05_15_19_42_48/contigs_reports/misassemblies_plot.pdf\n",
            "  Drawing misassemblies FRCurve plot...\n",
            "    saved to /content/quast_results/results_2022_05_15_19_42_48/contigs_reports/misassemblies_frcurve_plot.pdf\n",
            "Done.\n",
            "\n",
            "2022-05-15 19:42:55\n",
            "Running NA-NGA calculation...\n",
            "  hybrid_20scaffolds, Largest alignment = 3023576, NA50 = 3023576, NGA50 = 3023576, LA50 = 1, LGA50 = 1\n",
            "  Drawing cumulative plot...\n",
            "    saved to /content/quast_results/results_2022_05_15_19_42_48/aligned_stats/cumulative_plot.pdf\n",
            "  Drawing NAx plot...\n",
            "    saved to /content/quast_results/results_2022_05_15_19_42_48/aligned_stats/NAx_plot.pdf\n",
            "  Drawing NGAx plot...\n",
            "    saved to /content/quast_results/results_2022_05_15_19_42_48/aligned_stats/NGAx_plot.pdf\n",
            "Done.\n",
            "\n",
            "2022-05-15 19:42:55\n",
            "Running Genome analyzer...\n",
            "  NOTICE: No file with genomic features were provided. Use the --features option if you want to specify it.\n",
            "\n",
            "  NOTICE: No file with operons were provided. Use the -O option if you want to specify it.\n",
            "  hybrid_20scaffolds\n",
            "  Analysis is finished.\n",
            "  Skipping drawing Genome fraction, % histogram... (less than 2 columns histogram makes no sense)\n",
            "Done.\n",
            "\n",
            "NOTICE: Genes are not predicted by default. Use --gene-finding or --glimmer option to enable it.\n",
            "\n",
            "2022-05-15 19:42:57\n",
            "Creating large visual summaries...\n",
            "This may take a while: press Ctrl-C to skip this step..\n",
            "  1 of 2: Creating Icarus viewers...\n",
            "  2 of 2: Creating PDF with all tables and plots...\n",
            "Done\n",
            "\n",
            "2022-05-15 19:42:58\n",
            "RESULTS:\n",
            "  Text versions of total report are saved to /content/quast_results/results_2022_05_15_19_42_48/report.txt, report.tsv, and report.tex\n",
            "  Text versions of transposed total report are saved to /content/quast_results/results_2022_05_15_19_42_48/transposed_report.txt, transposed_report.tsv, and transposed_report.tex\n",
            "  HTML version (interactive tables and plots) is saved to /content/quast_results/results_2022_05_15_19_42_48/report.html\n",
            "  PDF version (tables and plots) is saved to /content/quast_results/results_2022_05_15_19_42_48/report.pdf\n",
            "  Icarus (contig browser) is saved to /content/quast_results/results_2022_05_15_19_42_48/icarus.html\n",
            "  Log is saved to /content/quast_results/results_2022_05_15_19_42_48/quast.log\n",
            "\n",
            "Finished: 2022-05-15 19:42:58\n",
            "Elapsed time: 0:00:10.133650\n",
            "NOTICEs: 4; WARNINGs: 0; non-fatal ERRORs: 0\n",
            "\n",
            "Thank you for using QUAST!\n"
          ]
        }
      ]
    },
    {
      "cell_type": "code",
      "source": [
        "!quast.py -r reference.fasta /content/hybrid_40scaffolds.fasta"
      ],
      "metadata": {
        "colab": {
          "base_uri": "https://localhost:8080/"
        },
        "id": "0k4j4svNSmFi",
        "outputId": "ef05517a-5c55-4a7e-cd9f-59ba5162609c"
      },
      "execution_count": 43,
      "outputs": [
        {
          "output_type": "stream",
          "name": "stdout",
          "text": [
            "/usr/local/bin/quast.py -r reference.fasta /content/hybrid_40scaffolds.fasta\n",
            "\n",
            "Version: 5.0.2\n",
            "\n",
            "System information:\n",
            "  OS: Linux-5.4.188+-x86_64-with-debian-buster-sid (linux_64)\n",
            "  Python version: 3.7.10\n",
            "  CPUs number: 2\n",
            "\n",
            "Started: 2022-05-15 19:55:40\n",
            "\n",
            "Logging to /content/quast_results/results_2022_05_15_19_55_40/quast.log\n",
            "NOTICE: Maximum number of threads is set to 1 (use --threads option to set it manually)\n",
            "\n",
            "CWD: /content\n",
            "Main parameters: \n",
            "  MODE: default, threads: 1, minimum contig length: 500, minimum alignment length: 65, \\\n",
            "  ambiguity: one, threshold for extensive misassembly size: 1000\n",
            "\n",
            "Reference:\n",
            "  /content/reference.fasta ==> reference\n",
            "\n",
            "Contigs:\n",
            "  Pre-processing...\n",
            "  /content/hybrid_40scaffolds.fasta ==> hybrid_40scaffolds\n",
            "\n",
            "2022-05-15 19:55:41\n",
            "Running Basic statistics processor...\n",
            "  Reference genome:\n",
            "    reference.fasta, length = 4639675, num fragments = 1, GC % = 50.79\n",
            "  Contig files: \n",
            "    hybrid_40scaffolds\n",
            "  Calculating N50 and L50...\n",
            "    hybrid_40scaffolds, N50 = 4641722, L50 = 1, Total length = 4642264, GC % = 50.79, # N's per 100 kbp =  0.00\n",
            "  Drawing Nx plot...\n",
            "    saved to /content/quast_results/results_2022_05_15_19_55_40/basic_stats/Nx_plot.pdf\n",
            "  Drawing NGx plot...\n",
            "    saved to /content/quast_results/results_2022_05_15_19_55_40/basic_stats/NGx_plot.pdf\n",
            "  Drawing cumulative plot...\n",
            "    saved to /content/quast_results/results_2022_05_15_19_55_40/basic_stats/cumulative_plot.pdf\n",
            "  Drawing GC content plot...\n",
            "    saved to /content/quast_results/results_2022_05_15_19_55_40/basic_stats/GC_content_plot.pdf\n",
            "  Drawing hybrid_40scaffolds GC content plot...\n",
            "    saved to /content/quast_results/results_2022_05_15_19_55_40/basic_stats/hybrid_40scaffolds_GC_content_plot.pdf\n",
            "  Drawing Coverage histogram (bin size: 1x)...\n",
            "    saved to /content/quast_results/results_2022_05_15_19_55_40/basic_stats/coverage_histogram.pdf\n",
            "  Drawing hybrid_40scaffolds coverage histogram (bin size: 1x)...\n",
            "    saved to /content/quast_results/results_2022_05_15_19_55_40/basic_stats/hybrid_40scaffolds_coverage_histogram.pdf\n",
            "Done.\n",
            "\n",
            "2022-05-15 19:55:43\n",
            "Running Contig analyzer...\n",
            "  hybrid_40scaffolds\n",
            "  Logging to files /content/quast_results/results_2022_05_15_19_55_40/contigs_reports/contigs_report_hybrid_40scaffolds.stdout and contigs_report_hybrid_40scaffolds.stderr...\n",
            "  Aligning contigs to the reference\n",
            "  Analysis is finished.\n",
            "  Creating total report...\n",
            "    saved to /content/quast_results/results_2022_05_15_19_55_40/contigs_reports/misassemblies_report.txt, misassemblies_report.tsv, and misassemblies_report.tex\n",
            "  Transposed version of total report...\n",
            "    saved to /content/quast_results/results_2022_05_15_19_55_40/contigs_reports/transposed_report_misassemblies.txt, transposed_report_misassemblies.tsv, and transposed_report_misassemblies.tex\n",
            "  Creating total report...\n",
            "    saved to /content/quast_results/results_2022_05_15_19_55_40/contigs_reports/unaligned_report.txt, unaligned_report.tsv, and unaligned_report.tex\n",
            "  Drawing misassemblies by types plot...\n",
            "    saved to /content/quast_results/results_2022_05_15_19_55_40/contigs_reports/misassemblies_plot.pdf\n",
            "  Drawing misassemblies FRCurve plot...\n",
            "    saved to /content/quast_results/results_2022_05_15_19_55_40/contigs_reports/misassemblies_frcurve_plot.pdf\n",
            "Done.\n",
            "\n",
            "2022-05-15 19:55:46\n",
            "Running NA-NGA calculation...\n",
            "  hybrid_40scaffolds, Largest alignment = 3023578, NA50 = 3023578, NGA50 = 3023578, LA50 = 1, LGA50 = 1\n",
            "  Drawing cumulative plot...\n",
            "    saved to /content/quast_results/results_2022_05_15_19_55_40/aligned_stats/cumulative_plot.pdf\n",
            "  Drawing NAx plot...\n",
            "    saved to /content/quast_results/results_2022_05_15_19_55_40/aligned_stats/NAx_plot.pdf\n",
            "  Drawing NGAx plot...\n",
            "    saved to /content/quast_results/results_2022_05_15_19_55_40/aligned_stats/NGAx_plot.pdf\n",
            "Done.\n",
            "\n",
            "2022-05-15 19:55:47\n",
            "Running Genome analyzer...\n",
            "  NOTICE: No file with genomic features were provided. Use the --features option if you want to specify it.\n",
            "\n",
            "  NOTICE: No file with operons were provided. Use the -O option if you want to specify it.\n",
            "  hybrid_40scaffolds\n",
            "  Analysis is finished.\n",
            "  Skipping drawing Genome fraction, % histogram... (less than 2 columns histogram makes no sense)\n",
            "Done.\n",
            "\n",
            "NOTICE: Genes are not predicted by default. Use --gene-finding or --glimmer option to enable it.\n",
            "\n",
            "2022-05-15 19:55:48\n",
            "Creating large visual summaries...\n",
            "This may take a while: press Ctrl-C to skip this step..\n",
            "  1 of 2: Creating Icarus viewers...\n",
            "  2 of 2: Creating PDF with all tables and plots...\n",
            "Done\n",
            "\n",
            "2022-05-15 19:55:50\n",
            "RESULTS:\n",
            "  Text versions of total report are saved to /content/quast_results/results_2022_05_15_19_55_40/report.txt, report.tsv, and report.tex\n",
            "  Text versions of transposed total report are saved to /content/quast_results/results_2022_05_15_19_55_40/transposed_report.txt, transposed_report.tsv, and transposed_report.tex\n",
            "  HTML version (interactive tables and plots) is saved to /content/quast_results/results_2022_05_15_19_55_40/report.html\n",
            "  PDF version (tables and plots) is saved to /content/quast_results/results_2022_05_15_19_55_40/report.pdf\n",
            "  Icarus (contig browser) is saved to /content/quast_results/results_2022_05_15_19_55_40/icarus.html\n",
            "  Log is saved to /content/quast_results/results_2022_05_15_19_55_40/quast.log\n",
            "\n",
            "Finished: 2022-05-15 19:55:50\n",
            "Elapsed time: 0:00:09.910108\n",
            "NOTICEs: 4; WARNINGs: 0; non-fatal ERRORs: 0\n",
            "\n",
            "Thank you for using QUAST!\n"
          ]
        }
      ]
    },
    {
      "cell_type": "code",
      "source": [
        "!quast.py -r reference.fasta /content/scaffolds_hybrid80.fasta"
      ],
      "metadata": {
        "colab": {
          "base_uri": "https://localhost:8080/"
        },
        "id": "OFNTk5EaXXt7",
        "outputId": "6fbbff9b-0be6-4760-e257-8bf5612f4e73"
      },
      "execution_count": 46,
      "outputs": [
        {
          "output_type": "stream",
          "name": "stdout",
          "text": [
            "/usr/local/bin/quast.py -r reference.fasta /content/scaffolds_hybrid80.fasta\n",
            "\n",
            "Version: 5.0.2\n",
            "\n",
            "System information:\n",
            "  OS: Linux-5.4.188+-x86_64-with-debian-buster-sid (linux_64)\n",
            "  Python version: 3.7.10\n",
            "  CPUs number: 2\n",
            "\n",
            "Started: 2022-05-15 20:16:40\n",
            "\n",
            "Logging to /content/quast_results/results_2022_05_15_20_16_40/quast.log\n",
            "NOTICE: Maximum number of threads is set to 1 (use --threads option to set it manually)\n",
            "\n",
            "CWD: /content\n",
            "Main parameters: \n",
            "  MODE: default, threads: 1, minimum contig length: 500, minimum alignment length: 65, \\\n",
            "  ambiguity: one, threshold for extensive misassembly size: 1000\n",
            "\n",
            "Reference:\n",
            "  /content/reference.fasta ==> reference\n",
            "\n",
            "Contigs:\n",
            "  Pre-processing...\n",
            "  /content/scaffolds_hybrid80.fasta ==> scaffolds_hybrid80\n",
            "\n",
            "2022-05-15 20:16:40\n",
            "Running Basic statistics processor...\n",
            "  Reference genome:\n",
            "    reference.fasta, length = 4639675, num fragments = 1, GC % = 50.79\n",
            "  Contig files: \n",
            "    scaffolds_hybrid80\n",
            "  Calculating N50 and L50...\n",
            "    scaffolds_hybrid80, N50 = 4641722, L50 = 1, Total length = 4642264, GC % = 50.79, # N's per 100 kbp =  0.00\n",
            "  Drawing Nx plot...\n",
            "    saved to /content/quast_results/results_2022_05_15_20_16_40/basic_stats/Nx_plot.pdf\n",
            "  Drawing NGx plot...\n",
            "    saved to /content/quast_results/results_2022_05_15_20_16_40/basic_stats/NGx_plot.pdf\n",
            "  Drawing cumulative plot...\n",
            "    saved to /content/quast_results/results_2022_05_15_20_16_40/basic_stats/cumulative_plot.pdf\n",
            "  Drawing GC content plot...\n",
            "    saved to /content/quast_results/results_2022_05_15_20_16_40/basic_stats/GC_content_plot.pdf\n",
            "  Drawing scaffolds_hybrid80 GC content plot...\n",
            "    saved to /content/quast_results/results_2022_05_15_20_16_40/basic_stats/scaffolds_hybrid80_GC_content_plot.pdf\n",
            "  Drawing Coverage histogram (bin size: 1x)...\n",
            "    saved to /content/quast_results/results_2022_05_15_20_16_40/basic_stats/coverage_histogram.pdf\n",
            "  Drawing scaffolds_hybrid80 coverage histogram (bin size: 1x)...\n",
            "    saved to /content/quast_results/results_2022_05_15_20_16_40/basic_stats/scaffolds_hybrid80_coverage_histogram.pdf\n",
            "Done.\n",
            "\n",
            "2022-05-15 20:16:43\n",
            "Running Contig analyzer...\n",
            "  scaffolds_hybrid80\n",
            "  Logging to files /content/quast_results/results_2022_05_15_20_16_40/contigs_reports/contigs_report_scaffolds_hybrid80.stdout and contigs_report_scaffolds_hybrid80.stderr...\n",
            "  Aligning contigs to the reference\n",
            "  Analysis is finished.\n",
            "  Creating total report...\n",
            "    saved to /content/quast_results/results_2022_05_15_20_16_40/contigs_reports/misassemblies_report.txt, misassemblies_report.tsv, and misassemblies_report.tex\n",
            "  Transposed version of total report...\n",
            "    saved to /content/quast_results/results_2022_05_15_20_16_40/contigs_reports/transposed_report_misassemblies.txt, transposed_report_misassemblies.tsv, and transposed_report_misassemblies.tex\n",
            "  Creating total report...\n",
            "    saved to /content/quast_results/results_2022_05_15_20_16_40/contigs_reports/unaligned_report.txt, unaligned_report.tsv, and unaligned_report.tex\n",
            "  Drawing misassemblies by types plot...\n",
            "    saved to /content/quast_results/results_2022_05_15_20_16_40/contigs_reports/misassemblies_plot.pdf\n",
            "  Drawing misassemblies FRCurve plot...\n",
            "    saved to /content/quast_results/results_2022_05_15_20_16_40/contigs_reports/misassemblies_frcurve_plot.pdf\n",
            "Done.\n",
            "\n",
            "2022-05-15 20:16:46\n",
            "Running NA-NGA calculation...\n",
            "  scaffolds_hybrid80, Largest alignment = 3023578, NA50 = 3023578, NGA50 = 3023578, LA50 = 1, LGA50 = 1\n",
            "  Drawing cumulative plot...\n",
            "    saved to /content/quast_results/results_2022_05_15_20_16_40/aligned_stats/cumulative_plot.pdf\n",
            "  Drawing NAx plot...\n",
            "    saved to /content/quast_results/results_2022_05_15_20_16_40/aligned_stats/NAx_plot.pdf\n",
            "  Drawing NGAx plot...\n",
            "    saved to /content/quast_results/results_2022_05_15_20_16_40/aligned_stats/NGAx_plot.pdf\n",
            "Done.\n",
            "\n",
            "2022-05-15 20:16:46\n",
            "Running Genome analyzer...\n",
            "  NOTICE: No file with genomic features were provided. Use the --features option if you want to specify it.\n",
            "\n",
            "  NOTICE: No file with operons were provided. Use the -O option if you want to specify it.\n",
            "  scaffolds_hybrid80\n",
            "  Analysis is finished.\n",
            "  Skipping drawing Genome fraction, % histogram... (less than 2 columns histogram makes no sense)\n",
            "Done.\n",
            "\n",
            "NOTICE: Genes are not predicted by default. Use --gene-finding or --glimmer option to enable it.\n",
            "\n",
            "2022-05-15 20:16:48\n",
            "Creating large visual summaries...\n",
            "This may take a while: press Ctrl-C to skip this step..\n",
            "  1 of 2: Creating Icarus viewers...\n",
            "  2 of 2: Creating PDF with all tables and plots...\n",
            "Done\n",
            "\n",
            "2022-05-15 20:16:50\n",
            "RESULTS:\n",
            "  Text versions of total report are saved to /content/quast_results/results_2022_05_15_20_16_40/report.txt, report.tsv, and report.tex\n",
            "  Text versions of transposed total report are saved to /content/quast_results/results_2022_05_15_20_16_40/transposed_report.txt, transposed_report.tsv, and transposed_report.tex\n",
            "  HTML version (interactive tables and plots) is saved to /content/quast_results/results_2022_05_15_20_16_40/report.html\n",
            "  PDF version (tables and plots) is saved to /content/quast_results/results_2022_05_15_20_16_40/report.pdf\n",
            "  Icarus (contig browser) is saved to /content/quast_results/results_2022_05_15_20_16_40/icarus.html\n",
            "  Log is saved to /content/quast_results/results_2022_05_15_20_16_40/quast.log\n",
            "\n",
            "Finished: 2022-05-15 20:16:50\n",
            "Elapsed time: 0:00:10.018685\n",
            "NOTICEs: 4; WARNINGs: 0; non-fatal ERRORs: 0\n",
            "\n",
            "Thank you for using QUAST!\n"
          ]
        }
      ]
    },
    {
      "cell_type": "markdown",
      "metadata": {
        "id": "rSGHOqYtMyP3"
      },
      "source": [
        "# 4. Cравнение сборок"
      ]
    },
    {
      "cell_type": "code",
      "execution_count": 41,
      "metadata": {
        "id": "cB8oP09OMzIx"
      },
      "outputs": [],
      "source": [
        "import pandas as pd"
      ]
    },
    {
      "cell_type": "code",
      "execution_count": 48,
      "metadata": {
        "colab": {
          "base_uri": "https://localhost:8080/",
          "height": 367
        },
        "id": "fUiyJ8f9M2VQ",
        "outputId": "820d22d6-b76c-4627-a493-d3014d398c8b"
      },
      "outputs": [
        {
          "output_type": "stream",
          "name": "stdout",
          "text": [
            "Reference GC-content = 50.79% \n",
            " Reference length = 4639675 bp\n"
          ]
        },
        {
          "output_type": "execute_result",
          "data": {
            "text/plain": [
              "         GC-content  Total aligned lenght      N50  L50  Largest alignment  \\\n",
              "PacBio10     50.75%               4648621   177961    9             424979   \n",
              "PacBio20     50.78%               4652742  4652742    1            3022723   \n",
              "PacBio40     50.79%               4643428  4642058    1            2298519   \n",
              "PacBio80     50.79%               4641885  4642327    1            2340009   \n",
              "Illumina     50.74%               4552795   134691   12             285326   \n",
              "Hybrid10     50.78%               4631822  3211307    1            2065288   \n",
              "Hybrid20     50.79%               4638308  4641720    1            3023576   \n",
              "Hybrid40     50.79%               4638936  4641722    1            3023578   \n",
              "Hybrid80     50.79%               4638936  4641722    1            3023578   \n",
              "\n",
              "         Genome fraction  \n",
              "PacBio10         98.333%  \n",
              "PacBio20         99.917%  \n",
              "PacBio40         99.998%  \n",
              "PacBio80         99.997%  \n",
              "Illumina          98.11%  \n",
              "Hybrid10         99.779%  \n",
              "Hybrid20         99.969%  \n",
              "Hybrid40         99.983%  \n",
              "Hybrid80         99.983%  "
            ],
            "text/html": [
              "\n",
              "  <div id=\"df-7feef029-a779-4321-b742-f8546b50bcb4\">\n",
              "    <div class=\"colab-df-container\">\n",
              "      <div>\n",
              "<style scoped>\n",
              "    .dataframe tbody tr th:only-of-type {\n",
              "        vertical-align: middle;\n",
              "    }\n",
              "\n",
              "    .dataframe tbody tr th {\n",
              "        vertical-align: top;\n",
              "    }\n",
              "\n",
              "    .dataframe thead th {\n",
              "        text-align: right;\n",
              "    }\n",
              "</style>\n",
              "<table border=\"1\" class=\"dataframe\">\n",
              "  <thead>\n",
              "    <tr style=\"text-align: right;\">\n",
              "      <th></th>\n",
              "      <th>GC-content</th>\n",
              "      <th>Total aligned lenght</th>\n",
              "      <th>N50</th>\n",
              "      <th>L50</th>\n",
              "      <th>Largest alignment</th>\n",
              "      <th>Genome fraction</th>\n",
              "    </tr>\n",
              "  </thead>\n",
              "  <tbody>\n",
              "    <tr>\n",
              "      <th>PacBio10</th>\n",
              "      <td>50.75%</td>\n",
              "      <td>4648621</td>\n",
              "      <td>177961</td>\n",
              "      <td>9</td>\n",
              "      <td>424979</td>\n",
              "      <td>98.333%</td>\n",
              "    </tr>\n",
              "    <tr>\n",
              "      <th>PacBio20</th>\n",
              "      <td>50.78%</td>\n",
              "      <td>4652742</td>\n",
              "      <td>4652742</td>\n",
              "      <td>1</td>\n",
              "      <td>3022723</td>\n",
              "      <td>99.917%</td>\n",
              "    </tr>\n",
              "    <tr>\n",
              "      <th>PacBio40</th>\n",
              "      <td>50.79%</td>\n",
              "      <td>4643428</td>\n",
              "      <td>4642058</td>\n",
              "      <td>1</td>\n",
              "      <td>2298519</td>\n",
              "      <td>99.998%</td>\n",
              "    </tr>\n",
              "    <tr>\n",
              "      <th>PacBio80</th>\n",
              "      <td>50.79%</td>\n",
              "      <td>4641885</td>\n",
              "      <td>4642327</td>\n",
              "      <td>1</td>\n",
              "      <td>2340009</td>\n",
              "      <td>99.997%</td>\n",
              "    </tr>\n",
              "    <tr>\n",
              "      <th>Illumina</th>\n",
              "      <td>50.74%</td>\n",
              "      <td>4552795</td>\n",
              "      <td>134691</td>\n",
              "      <td>12</td>\n",
              "      <td>285326</td>\n",
              "      <td>98.11%</td>\n",
              "    </tr>\n",
              "    <tr>\n",
              "      <th>Hybrid10</th>\n",
              "      <td>50.78%</td>\n",
              "      <td>4631822</td>\n",
              "      <td>3211307</td>\n",
              "      <td>1</td>\n",
              "      <td>2065288</td>\n",
              "      <td>99.779%</td>\n",
              "    </tr>\n",
              "    <tr>\n",
              "      <th>Hybrid20</th>\n",
              "      <td>50.79%</td>\n",
              "      <td>4638308</td>\n",
              "      <td>4641720</td>\n",
              "      <td>1</td>\n",
              "      <td>3023576</td>\n",
              "      <td>99.969%</td>\n",
              "    </tr>\n",
              "    <tr>\n",
              "      <th>Hybrid40</th>\n",
              "      <td>50.79%</td>\n",
              "      <td>4638936</td>\n",
              "      <td>4641722</td>\n",
              "      <td>1</td>\n",
              "      <td>3023578</td>\n",
              "      <td>99.983%</td>\n",
              "    </tr>\n",
              "    <tr>\n",
              "      <th>Hybrid80</th>\n",
              "      <td>50.79%</td>\n",
              "      <td>4638936</td>\n",
              "      <td>4641722</td>\n",
              "      <td>1</td>\n",
              "      <td>3023578</td>\n",
              "      <td>99.983%</td>\n",
              "    </tr>\n",
              "  </tbody>\n",
              "</table>\n",
              "</div>\n",
              "      <button class=\"colab-df-convert\" onclick=\"convertToInteractive('df-7feef029-a779-4321-b742-f8546b50bcb4')\"\n",
              "              title=\"Convert this dataframe to an interactive table.\"\n",
              "              style=\"display:none;\">\n",
              "        \n",
              "  <svg xmlns=\"http://www.w3.org/2000/svg\" height=\"24px\"viewBox=\"0 0 24 24\"\n",
              "       width=\"24px\">\n",
              "    <path d=\"M0 0h24v24H0V0z\" fill=\"none\"/>\n",
              "    <path d=\"M18.56 5.44l.94 2.06.94-2.06 2.06-.94-2.06-.94-.94-2.06-.94 2.06-2.06.94zm-11 1L8.5 8.5l.94-2.06 2.06-.94-2.06-.94L8.5 2.5l-.94 2.06-2.06.94zm10 10l.94 2.06.94-2.06 2.06-.94-2.06-.94-.94-2.06-.94 2.06-2.06.94z\"/><path d=\"M17.41 7.96l-1.37-1.37c-.4-.4-.92-.59-1.43-.59-.52 0-1.04.2-1.43.59L10.3 9.45l-7.72 7.72c-.78.78-.78 2.05 0 2.83L4 21.41c.39.39.9.59 1.41.59.51 0 1.02-.2 1.41-.59l7.78-7.78 2.81-2.81c.8-.78.8-2.07 0-2.86zM5.41 20L4 18.59l7.72-7.72 1.47 1.35L5.41 20z\"/>\n",
              "  </svg>\n",
              "      </button>\n",
              "      \n",
              "  <style>\n",
              "    .colab-df-container {\n",
              "      display:flex;\n",
              "      flex-wrap:wrap;\n",
              "      gap: 12px;\n",
              "    }\n",
              "\n",
              "    .colab-df-convert {\n",
              "      background-color: #E8F0FE;\n",
              "      border: none;\n",
              "      border-radius: 50%;\n",
              "      cursor: pointer;\n",
              "      display: none;\n",
              "      fill: #1967D2;\n",
              "      height: 32px;\n",
              "      padding: 0 0 0 0;\n",
              "      width: 32px;\n",
              "    }\n",
              "\n",
              "    .colab-df-convert:hover {\n",
              "      background-color: #E2EBFA;\n",
              "      box-shadow: 0px 1px 2px rgba(60, 64, 67, 0.3), 0px 1px 3px 1px rgba(60, 64, 67, 0.15);\n",
              "      fill: #174EA6;\n",
              "    }\n",
              "\n",
              "    [theme=dark] .colab-df-convert {\n",
              "      background-color: #3B4455;\n",
              "      fill: #D2E3FC;\n",
              "    }\n",
              "\n",
              "    [theme=dark] .colab-df-convert:hover {\n",
              "      background-color: #434B5C;\n",
              "      box-shadow: 0px 1px 3px 1px rgba(0, 0, 0, 0.15);\n",
              "      filter: drop-shadow(0px 1px 2px rgba(0, 0, 0, 0.3));\n",
              "      fill: #FFFFFF;\n",
              "    }\n",
              "  </style>\n",
              "\n",
              "      <script>\n",
              "        const buttonEl =\n",
              "          document.querySelector('#df-7feef029-a779-4321-b742-f8546b50bcb4 button.colab-df-convert');\n",
              "        buttonEl.style.display =\n",
              "          google.colab.kernel.accessAllowed ? 'block' : 'none';\n",
              "\n",
              "        async function convertToInteractive(key) {\n",
              "          const element = document.querySelector('#df-7feef029-a779-4321-b742-f8546b50bcb4');\n",
              "          const dataTable =\n",
              "            await google.colab.kernel.invokeFunction('convertToInteractive',\n",
              "                                                     [key], {});\n",
              "          if (!dataTable) return;\n",
              "\n",
              "          const docLinkHtml = 'Like what you see? Visit the ' +\n",
              "            '<a target=\"_blank\" href=https://colab.research.google.com/notebooks/data_table.ipynb>data table notebook</a>'\n",
              "            + ' to learn more about interactive tables.';\n",
              "          element.innerHTML = '';\n",
              "          dataTable['output_type'] = 'display_data';\n",
              "          await google.colab.output.renderOutput(dataTable, element);\n",
              "          const docLink = document.createElement('div');\n",
              "          docLink.innerHTML = docLinkHtml;\n",
              "          element.appendChild(docLink);\n",
              "        }\n",
              "      </script>\n",
              "    </div>\n",
              "  </div>\n",
              "  "
            ]
          },
          "metadata": {},
          "execution_count": 48
        }
      ],
      "source": [
        "print('Reference GC-content = 50.79% \\n Reference length = 4639675 bp')\n",
        "\n",
        "data = {'GC-content':['50.75%',\n",
        "                      '50.78%',\n",
        "                      '50.79%',\n",
        "                      '50.79%', \n",
        "                      '50.74%',\n",
        "                      '50.78%',\n",
        "                      '50.79%',\n",
        "                      '50.79%',\n",
        "                      '50.79%'],\n",
        "        \n",
        "        'Total aligned lenght':[4648621,\n",
        "                      4652742,\n",
        "                      4643428,\n",
        "                      4641885, \n",
        "                      4552795,\n",
        "                      4631822,\n",
        "                      4638308,\n",
        "                      4638936,\n",
        "                      4638936],\n",
        "        \n",
        "        'N50':[177961,\n",
        "               4652742,\n",
        "               4642058,\n",
        "               4642327, \n",
        "               134691,\n",
        "               3211307,\n",
        "               4641720,\n",
        "               4641722,\n",
        "               4641722],\n",
        "        \n",
        "        'L50':[9,\n",
        "               1,\n",
        "               1,\n",
        "               1, \n",
        "               12,\n",
        "               1,\n",
        "               1,\n",
        "               1,\n",
        "               1],\n",
        "        \n",
        "        'Largest alignment':[424979,\n",
        "                             3022723, \n",
        "                             2298519, \n",
        "                             2340009, \n",
        "                             285326,\n",
        "                             2065288,\n",
        "                             3023576,\n",
        "                             3023578,\n",
        "                             3023578],\n",
        "        \n",
        "        'Genome fraction':['98.333%',\n",
        "                            '99.917%', \n",
        "                             '99.998%', \n",
        "                            '99.997%', \n",
        "                            '98.11%',\n",
        "                           '99.779%',\n",
        "                           '99.969%',\n",
        "                           '99.983%',\n",
        "                           '99.983%']}\n",
        "\n",
        "df = pd.DataFrame(data, index =['PacBio10',\n",
        "                                'PacBio20',\n",
        "                                'PacBio40',\n",
        "                                'PacBio80',\n",
        "                                'Illumina',\n",
        "                                'Hybrid10',\n",
        "                                'Hybrid20',\n",
        "                                'Hybrid40',\n",
        "                                'Hybrid80',])\n",
        "df"
      ]
    },
    {
      "cell_type": "markdown",
      "source": [
        "Честно говоря, очень смущает совпадение значений в последних двух строчках, но я проверила, что брала данные из разных отчётов. \n",
        "\n",
        "\n",
        "По существу: хуже всех результаты по основым статистикам у PacBio10х и Illumina. Остальные сборки относительно похожи и соотносятся со статистиками референса (длина и GC-content)."
      ],
      "metadata": {
        "id": "Zb0cNDYQZvaN"
      }
    },
    {
      "cell_type": "code",
      "source": [
        ""
      ],
      "metadata": {
        "id": "1nf72EsKagqS"
      },
      "execution_count": null,
      "outputs": []
    }
  ],
  "metadata": {
    "colab": {
      "collapsed_sections": [],
      "name": "NGS6.ipynb",
      "provenance": [],
      "authorship_tag": "ABX9TyMOwfK1NAGFbVTgX/qW1BZk",
      "include_colab_link": true
    },
    "kernelspec": {
      "display_name": "Python 3",
      "name": "python3"
    },
    "language_info": {
      "name": "python"
    }
  },
  "nbformat": 4,
  "nbformat_minor": 0
}