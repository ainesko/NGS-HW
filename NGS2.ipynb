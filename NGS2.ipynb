{
  "cells": [
    {
      "cell_type": "markdown",
      "metadata": {
        "id": "view-in-github",
        "colab_type": "text"
      },
      "source": [
        "<a href=\"https://colab.research.google.com/github/ainesko/NGS-HW/blob/main/NGS2.ipynb\" target=\"_parent\"><img src=\"https://colab.research.google.com/assets/colab-badge.svg\" alt=\"Open In Colab\"/></a>"
      ]
    },
    {
      "cell_type": "markdown",
      "source": [
        "##***Результаты анализа ридов Illumina***"
      ],
      "metadata": {
        "id": "hG79NIzvDlmg"
      }
    },
    {
      "cell_type": "code",
      "source": [
        "data = {'Общее число ридов':[3432364,\n",
        "                             4315600],\n",
        "        \n",
        "        'Выравнившиеся':['3156674 (91.97%)',\n",
        "                              '4103027 (95.07%)'],\n",
        "        \n",
        "        'Среднее покрытие':[130.82,\n",
        "                             138.587],\n",
        "        \n",
        "        'Доля покрытой области генома':['100%',\n",
        "                              '88.7%'],\n",
        "        \n",
        "        'Среднее расстояние вставки':[266.21,\n",
        "                             274.77],\n",
        "        \n",
        "        'Среднеквадратичное отклонение':[61.04,\n",
        "                             86.45],\n",
        "        \n",
        "        'Интервал минимальной ширины, в который попадает 95% ридов':['[173.0, 410.0]',\n",
        "                              '[157.0, 478.0]'],\n",
        "        \n",
        "        'Процент ошибок':[3.26,\n",
        "                             1.55]}\n",
        "\n",
        "df = pd.DataFrame(data, index =['frag_alignment.sam',\n",
        "                                'jump_alignment.bam'])\n",
        "df"
      ],
      "metadata": {
        "colab": {
          "base_uri": "https://localhost:8080/",
          "height": 260
        },
        "id": "N7GLpZDSpnJB",
        "outputId": "62c86858-540d-49fd-cf90-a2c1cd35fae9"
      },
      "execution_count": null,
      "outputs": [
        {
          "output_type": "execute_result",
          "data": {
            "text/plain": [
              "                    Общее число ридов     Выравнившиеся  Среднее покрытие  \\\n",
              "frag_alignment.sam            3432364  3156674 (91.97%)           130.820   \n",
              "jump_alignment.bam            4315600  4103027 (95.07%)           138.587   \n",
              "\n",
              "                   Доля покрытой области генома  Среднее расстояние вставки  \\\n",
              "frag_alignment.sam                         100%                      266.21   \n",
              "jump_alignment.bam                        88.7%                      274.77   \n",
              "\n",
              "                    Среднеквадратичное отклонение  \\\n",
              "frag_alignment.sam                          61.04   \n",
              "jump_alignment.bam                          86.45   \n",
              "\n",
              "                   Интервал минимальной ширины, в который попадает 95% ридов  \\\n",
              "frag_alignment.sam                                     [173.0, 410.0]          \n",
              "jump_alignment.bam                                     [157.0, 478.0]          \n",
              "\n",
              "                    Процент ошибок  \n",
              "frag_alignment.sam            3.26  \n",
              "jump_alignment.bam            1.55  "
            ],
            "text/html": [
              "\n",
              "  <div id=\"df-97ff83ca-7442-4f88-8154-c287cc32680b\">\n",
              "    <div class=\"colab-df-container\">\n",
              "      <div>\n",
              "<style scoped>\n",
              "    .dataframe tbody tr th:only-of-type {\n",
              "        vertical-align: middle;\n",
              "    }\n",
              "\n",
              "    .dataframe tbody tr th {\n",
              "        vertical-align: top;\n",
              "    }\n",
              "\n",
              "    .dataframe thead th {\n",
              "        text-align: right;\n",
              "    }\n",
              "</style>\n",
              "<table border=\"1\" class=\"dataframe\">\n",
              "  <thead>\n",
              "    <tr style=\"text-align: right;\">\n",
              "      <th></th>\n",
              "      <th>Общее число ридов</th>\n",
              "      <th>Выравнившиеся</th>\n",
              "      <th>Среднее покрытие</th>\n",
              "      <th>Доля покрытой области генома</th>\n",
              "      <th>Среднее расстояние вставки</th>\n",
              "      <th>Среднеквадратичное отклонение</th>\n",
              "      <th>Интервал минимальной ширины, в который попадает 95% ридов</th>\n",
              "      <th>Процент ошибок</th>\n",
              "    </tr>\n",
              "  </thead>\n",
              "  <tbody>\n",
              "    <tr>\n",
              "      <th>frag_alignment.sam</th>\n",
              "      <td>3432364</td>\n",
              "      <td>3156674 (91.97%)</td>\n",
              "      <td>130.820</td>\n",
              "      <td>100%</td>\n",
              "      <td>266.21</td>\n",
              "      <td>61.04</td>\n",
              "      <td>[173.0, 410.0]</td>\n",
              "      <td>3.26</td>\n",
              "    </tr>\n",
              "    <tr>\n",
              "      <th>jump_alignment.bam</th>\n",
              "      <td>4315600</td>\n",
              "      <td>4103027 (95.07%)</td>\n",
              "      <td>138.587</td>\n",
              "      <td>88.7%</td>\n",
              "      <td>274.77</td>\n",
              "      <td>86.45</td>\n",
              "      <td>[157.0, 478.0]</td>\n",
              "      <td>1.55</td>\n",
              "    </tr>\n",
              "  </tbody>\n",
              "</table>\n",
              "</div>\n",
              "      <button class=\"colab-df-convert\" onclick=\"convertToInteractive('df-97ff83ca-7442-4f88-8154-c287cc32680b')\"\n",
              "              title=\"Convert this dataframe to an interactive table.\"\n",
              "              style=\"display:none;\">\n",
              "        \n",
              "  <svg xmlns=\"http://www.w3.org/2000/svg\" height=\"24px\"viewBox=\"0 0 24 24\"\n",
              "       width=\"24px\">\n",
              "    <path d=\"M0 0h24v24H0V0z\" fill=\"none\"/>\n",
              "    <path d=\"M18.56 5.44l.94 2.06.94-2.06 2.06-.94-2.06-.94-.94-2.06-.94 2.06-2.06.94zm-11 1L8.5 8.5l.94-2.06 2.06-.94-2.06-.94L8.5 2.5l-.94 2.06-2.06.94zm10 10l.94 2.06.94-2.06 2.06-.94-2.06-.94-.94-2.06-.94 2.06-2.06.94z\"/><path d=\"M17.41 7.96l-1.37-1.37c-.4-.4-.92-.59-1.43-.59-.52 0-1.04.2-1.43.59L10.3 9.45l-7.72 7.72c-.78.78-.78 2.05 0 2.83L4 21.41c.39.39.9.59 1.41.59.51 0 1.02-.2 1.41-.59l7.78-7.78 2.81-2.81c.8-.78.8-2.07 0-2.86zM5.41 20L4 18.59l7.72-7.72 1.47 1.35L5.41 20z\"/>\n",
              "  </svg>\n",
              "      </button>\n",
              "      \n",
              "  <style>\n",
              "    .colab-df-container {\n",
              "      display:flex;\n",
              "      flex-wrap:wrap;\n",
              "      gap: 12px;\n",
              "    }\n",
              "\n",
              "    .colab-df-convert {\n",
              "      background-color: #E8F0FE;\n",
              "      border: none;\n",
              "      border-radius: 50%;\n",
              "      cursor: pointer;\n",
              "      display: none;\n",
              "      fill: #1967D2;\n",
              "      height: 32px;\n",
              "      padding: 0 0 0 0;\n",
              "      width: 32px;\n",
              "    }\n",
              "\n",
              "    .colab-df-convert:hover {\n",
              "      background-color: #E2EBFA;\n",
              "      box-shadow: 0px 1px 2px rgba(60, 64, 67, 0.3), 0px 1px 3px 1px rgba(60, 64, 67, 0.15);\n",
              "      fill: #174EA6;\n",
              "    }\n",
              "\n",
              "    [theme=dark] .colab-df-convert {\n",
              "      background-color: #3B4455;\n",
              "      fill: #D2E3FC;\n",
              "    }\n",
              "\n",
              "    [theme=dark] .colab-df-convert:hover {\n",
              "      background-color: #434B5C;\n",
              "      box-shadow: 0px 1px 3px 1px rgba(0, 0, 0, 0.15);\n",
              "      filter: drop-shadow(0px 1px 2px rgba(0, 0, 0, 0.3));\n",
              "      fill: #FFFFFF;\n",
              "    }\n",
              "  </style>\n",
              "\n",
              "      <script>\n",
              "        const buttonEl =\n",
              "          document.querySelector('#df-97ff83ca-7442-4f88-8154-c287cc32680b button.colab-df-convert');\n",
              "        buttonEl.style.display =\n",
              "          google.colab.kernel.accessAllowed ? 'block' : 'none';\n",
              "\n",
              "        async function convertToInteractive(key) {\n",
              "          const element = document.querySelector('#df-97ff83ca-7442-4f88-8154-c287cc32680b');\n",
              "          const dataTable =\n",
              "            await google.colab.kernel.invokeFunction('convertToInteractive',\n",
              "                                                     [key], {});\n",
              "          if (!dataTable) return;\n",
              "\n",
              "          const docLinkHtml = 'Like what you see? Visit the ' +\n",
              "            '<a target=\"_blank\" href=https://colab.research.google.com/notebooks/data_table.ipynb>data table notebook</a>'\n",
              "            + ' to learn more about interactive tables.';\n",
              "          element.innerHTML = '';\n",
              "          dataTable['output_type'] = 'display_data';\n",
              "          await google.colab.output.renderOutput(dataTable, element);\n",
              "          const docLink = document.createElement('div');\n",
              "          docLink.innerHTML = docLinkHtml;\n",
              "          element.appendChild(docLink);\n",
              "        }\n",
              "      </script>\n",
              "    </div>\n",
              "  </div>\n",
              "  "
            ]
          },
          "metadata": {},
          "execution_count": 28
        }
      ]
    },
    {
      "cell_type": "markdown",
      "source": [
        "## ***Результаты анализа ридов IonTorrent***"
      ],
      "metadata": {
        "id": "e09gs1573bP8"
      }
    },
    {
      "cell_type": "code",
      "source": [
        "data = {'Среднее покрытие':[34.037,\n",
        "                             35.7],\n",
        "        \n",
        "        'Доля покрытой области генома':['100%',\n",
        "                              '100%'],\n",
        "        \n",
        "        'Процент ошибок':['1.61%',\n",
        "                              '0.69%'],\n",
        "        \n",
        "        'Средняя длина делеции':[1.09,\n",
        "                             1.08],\n",
        "        \n",
        "        'Средняя длина вставки':[1.064,\n",
        "                             1.055],\n",
        "        \n",
        "        'Среднее качество при ошибочно вставленном нуклеотиде':[16.09,\n",
        "                             15.39],\n",
        "        \n",
        "        'Среднее качество при замене':[19.14,\n",
        "                             21.04],\n",
        "        \n",
        "        'Процент инделов, находящихся рядом с гомополимерными участками':[28.19,\n",
        "                             26.26]}\n",
        "\n",
        "df = pd.DataFrame(data, index =['B22-730',\n",
        "                                'C24-698'])\n",
        "df"
      ],
      "metadata": {
        "colab": {
          "base_uri": "https://localhost:8080/",
          "height": 243
        },
        "id": "4cqNwiZx3alr",
        "outputId": "cdd1257b-69ce-4d38-ea52-272879072310"
      },
      "execution_count": null,
      "outputs": [
        {
          "output_type": "execute_result",
          "data": {
            "text/plain": [
              "         Среднее покрытие Доля покрытой области генома Процент ошибок  \\\n",
              "B22-730            34.037                         100%          1.61%   \n",
              "C24-698            35.700                         100%          0.69%   \n",
              "\n",
              "         Средняя длина делеции  Средняя длина вставки  \\\n",
              "B22-730                   1.09                  1.064   \n",
              "C24-698                   1.08                  1.055   \n",
              "\n",
              "         Среднее качество при ошибочно вставленном нуклеотиде  \\\n",
              "B22-730                                              16.09      \n",
              "C24-698                                              15.39      \n",
              "\n",
              "         Среднее качество при замене  \\\n",
              "B22-730                        19.14   \n",
              "C24-698                        21.04   \n",
              "\n",
              "         Процент инделов, находящихся рядом с гомополимерными участками  \n",
              "B22-730                                              28.19               \n",
              "C24-698                                              26.26               "
            ],
            "text/html": [
              "\n",
              "  <div id=\"df-3dddd53c-2574-499f-8cf7-255fd0665191\">\n",
              "    <div class=\"colab-df-container\">\n",
              "      <div>\n",
              "<style scoped>\n",
              "    .dataframe tbody tr th:only-of-type {\n",
              "        vertical-align: middle;\n",
              "    }\n",
              "\n",
              "    .dataframe tbody tr th {\n",
              "        vertical-align: top;\n",
              "    }\n",
              "\n",
              "    .dataframe thead th {\n",
              "        text-align: right;\n",
              "    }\n",
              "</style>\n",
              "<table border=\"1\" class=\"dataframe\">\n",
              "  <thead>\n",
              "    <tr style=\"text-align: right;\">\n",
              "      <th></th>\n",
              "      <th>Среднее покрытие</th>\n",
              "      <th>Доля покрытой области генома</th>\n",
              "      <th>Процент ошибок</th>\n",
              "      <th>Средняя длина делеции</th>\n",
              "      <th>Средняя длина вставки</th>\n",
              "      <th>Среднее качество при ошибочно вставленном нуклеотиде</th>\n",
              "      <th>Среднее качество при замене</th>\n",
              "      <th>Процент инделов, находящихся рядом с гомополимерными участками</th>\n",
              "    </tr>\n",
              "  </thead>\n",
              "  <tbody>\n",
              "    <tr>\n",
              "      <th>B22-730</th>\n",
              "      <td>34.037</td>\n",
              "      <td>100%</td>\n",
              "      <td>1.61%</td>\n",
              "      <td>1.09</td>\n",
              "      <td>1.064</td>\n",
              "      <td>16.09</td>\n",
              "      <td>19.14</td>\n",
              "      <td>28.19</td>\n",
              "    </tr>\n",
              "    <tr>\n",
              "      <th>C24-698</th>\n",
              "      <td>35.700</td>\n",
              "      <td>100%</td>\n",
              "      <td>0.69%</td>\n",
              "      <td>1.08</td>\n",
              "      <td>1.055</td>\n",
              "      <td>15.39</td>\n",
              "      <td>21.04</td>\n",
              "      <td>26.26</td>\n",
              "    </tr>\n",
              "  </tbody>\n",
              "</table>\n",
              "</div>\n",
              "      <button class=\"colab-df-convert\" onclick=\"convertToInteractive('df-3dddd53c-2574-499f-8cf7-255fd0665191')\"\n",
              "              title=\"Convert this dataframe to an interactive table.\"\n",
              "              style=\"display:none;\">\n",
              "        \n",
              "  <svg xmlns=\"http://www.w3.org/2000/svg\" height=\"24px\"viewBox=\"0 0 24 24\"\n",
              "       width=\"24px\">\n",
              "    <path d=\"M0 0h24v24H0V0z\" fill=\"none\"/>\n",
              "    <path d=\"M18.56 5.44l.94 2.06.94-2.06 2.06-.94-2.06-.94-.94-2.06-.94 2.06-2.06.94zm-11 1L8.5 8.5l.94-2.06 2.06-.94-2.06-.94L8.5 2.5l-.94 2.06-2.06.94zm10 10l.94 2.06.94-2.06 2.06-.94-2.06-.94-.94-2.06-.94 2.06-2.06.94z\"/><path d=\"M17.41 7.96l-1.37-1.37c-.4-.4-.92-.59-1.43-.59-.52 0-1.04.2-1.43.59L10.3 9.45l-7.72 7.72c-.78.78-.78 2.05 0 2.83L4 21.41c.39.39.9.59 1.41.59.51 0 1.02-.2 1.41-.59l7.78-7.78 2.81-2.81c.8-.78.8-2.07 0-2.86zM5.41 20L4 18.59l7.72-7.72 1.47 1.35L5.41 20z\"/>\n",
              "  </svg>\n",
              "      </button>\n",
              "      \n",
              "  <style>\n",
              "    .colab-df-container {\n",
              "      display:flex;\n",
              "      flex-wrap:wrap;\n",
              "      gap: 12px;\n",
              "    }\n",
              "\n",
              "    .colab-df-convert {\n",
              "      background-color: #E8F0FE;\n",
              "      border: none;\n",
              "      border-radius: 50%;\n",
              "      cursor: pointer;\n",
              "      display: none;\n",
              "      fill: #1967D2;\n",
              "      height: 32px;\n",
              "      padding: 0 0 0 0;\n",
              "      width: 32px;\n",
              "    }\n",
              "\n",
              "    .colab-df-convert:hover {\n",
              "      background-color: #E2EBFA;\n",
              "      box-shadow: 0px 1px 2px rgba(60, 64, 67, 0.3), 0px 1px 3px 1px rgba(60, 64, 67, 0.15);\n",
              "      fill: #174EA6;\n",
              "    }\n",
              "\n",
              "    [theme=dark] .colab-df-convert {\n",
              "      background-color: #3B4455;\n",
              "      fill: #D2E3FC;\n",
              "    }\n",
              "\n",
              "    [theme=dark] .colab-df-convert:hover {\n",
              "      background-color: #434B5C;\n",
              "      box-shadow: 0px 1px 3px 1px rgba(0, 0, 0, 0.15);\n",
              "      filter: drop-shadow(0px 1px 2px rgba(0, 0, 0, 0.3));\n",
              "      fill: #FFFFFF;\n",
              "    }\n",
              "  </style>\n",
              "\n",
              "      <script>\n",
              "        const buttonEl =\n",
              "          document.querySelector('#df-3dddd53c-2574-499f-8cf7-255fd0665191 button.colab-df-convert');\n",
              "        buttonEl.style.display =\n",
              "          google.colab.kernel.accessAllowed ? 'block' : 'none';\n",
              "\n",
              "        async function convertToInteractive(key) {\n",
              "          const element = document.querySelector('#df-3dddd53c-2574-499f-8cf7-255fd0665191');\n",
              "          const dataTable =\n",
              "            await google.colab.kernel.invokeFunction('convertToInteractive',\n",
              "                                                     [key], {});\n",
              "          if (!dataTable) return;\n",
              "\n",
              "          const docLinkHtml = 'Like what you see? Visit the ' +\n",
              "            '<a target=\"_blank\" href=https://colab.research.google.com/notebooks/data_table.ipynb>data table notebook</a>'\n",
              "            + ' to learn more about interactive tables.';\n",
              "          element.innerHTML = '';\n",
              "          dataTable['output_type'] = 'display_data';\n",
              "          await google.colab.output.renderOutput(dataTable, element);\n",
              "          const docLink = document.createElement('div');\n",
              "          docLink.innerHTML = docLinkHtml;\n",
              "          element.appendChild(docLink);\n",
              "        }\n",
              "      </script>\n",
              "    </div>\n",
              "  </div>\n",
              "  "
            ]
          },
          "metadata": {},
          "execution_count": 89
        }
      ]
    },
    {
      "cell_type": "markdown",
      "metadata": {
        "id": "oLONza8XGfKR"
      },
      "source": [
        "# Часть 1: анализ ридов Illumina\n",
        "## Скачивание файлов с диска\n",
        "\n",
        "***B.faecium***"
      ]
    },
    {
      "cell_type": "code",
      "execution_count": 7,
      "metadata": {
        "id": "YTqO6avaGLCw"
      },
      "outputs": [],
      "source": [
        "def download_from_disk(id):\n",
        "  import gdown\n",
        "  gdown.download(f'https://drive.google.com/uc?id={id}&confirm=t', quiet=False)"
      ]
    },
    {
      "cell_type": "code",
      "execution_count": null,
      "metadata": {
        "colab": {
          "base_uri": "https://localhost:8080/"
        },
        "id": "QgerHtFBGmWM",
        "outputId": "443a1a4e-7b8a-4c18-ab81-7939097bfa37"
      },
      "outputs": [
        {
          "output_type": "stream",
          "name": "stderr",
          "text": [
            "Downloading...\n",
            "From: https://drive.google.com/uc?id=1gwiztaQnJ0JuoLersNbGD0vuUxT1lgdo&confirm=t\n",
            "To: /content/frag.R1.fastq.gz\n",
            "100%|██████████| 215M/215M [00:02<00:00, 86.5MB/s]\n"
          ]
        }
      ],
      "source": [
        "download_from_disk('1gwiztaQnJ0JuoLersNbGD0vuUxT1lgdo')"
      ]
    },
    {
      "cell_type": "code",
      "execution_count": null,
      "metadata": {
        "colab": {
          "base_uri": "https://localhost:8080/"
        },
        "id": "BKZ9QkWpHUha",
        "outputId": "7f5be8b2-44b5-450c-8fe7-cbc505fee4cc"
      },
      "outputs": [
        {
          "output_type": "stream",
          "name": "stderr",
          "text": [
            "Downloading...\n",
            "From: https://drive.google.com/uc?id=1R-GVUzwQTFjeKotZzJALvKiyYmUwUZd7&confirm=t\n",
            "To: /content/frag.R2.fastq.gz\n",
            "100%|██████████| 199M/199M [00:01<00:00, 142MB/s]\n"
          ]
        }
      ],
      "source": [
        "download_from_disk('1R-GVUzwQTFjeKotZzJALvKiyYmUwUZd7')"
      ]
    },
    {
      "cell_type": "code",
      "execution_count": 8,
      "metadata": {
        "colab": {
          "base_uri": "https://localhost:8080/"
        },
        "id": "_LCoPEcPHhd5",
        "outputId": "9525a3ea-2531-4dd8-d7da-5433f4b3ad87"
      },
      "outputs": [
        {
          "output_type": "stream",
          "name": "stderr",
          "text": [
            "Downloading...\n",
            "From: https://drive.google.com/uc?id=1c5aUoNpqtR97kdi6Pf7_PB4ZYfdpgd7n&confirm=t\n",
            "To: /content/jump.R1.fastq.gz\n",
            "100%|██████████| 197M/197M [00:00<00:00, 209MB/s]\n"
          ]
        }
      ],
      "source": [
        "download_from_disk('1c5aUoNpqtR97kdi6Pf7_PB4ZYfdpgd7n')"
      ]
    },
    {
      "cell_type": "code",
      "execution_count": 9,
      "metadata": {
        "colab": {
          "base_uri": "https://localhost:8080/"
        },
        "id": "sRS5E9zYHjph",
        "outputId": "d40677c6-c5ae-4ea9-fb59-5783dd8837b6"
      },
      "outputs": [
        {
          "output_type": "stream",
          "name": "stderr",
          "text": [
            "Downloading...\n",
            "From: https://drive.google.com/uc?id=100MuDiPAX7z2qdcRpQ3DO3EV-H7aPPub&confirm=t\n",
            "To: /content/jump.R2.fastq.gz\n",
            "100%|██████████| 196M/196M [00:00<00:00, 235MB/s]\n"
          ]
        }
      ],
      "source": [
        "download_from_disk('100MuDiPAX7z2qdcRpQ3DO3EV-H7aPPub')"
      ]
    },
    {
      "cell_type": "code",
      "execution_count": 10,
      "metadata": {
        "colab": {
          "base_uri": "https://localhost:8080/"
        },
        "id": "pLRyzwP-Hj4X",
        "outputId": "c15fb8a7-3016-4909-e80d-23c0d815f803"
      },
      "outputs": [
        {
          "output_type": "stream",
          "name": "stderr",
          "text": [
            "Downloading...\n",
            "From: https://drive.google.com/uc?id=1kMaq8gGzrD7BDYFwoVhjSt65d1g8ZVh5&confirm=t\n",
            "To: /content/ref.fasta.gz\n",
            "100%|██████████| 1.03M/1.03M [00:00<00:00, 72.3MB/s]\n"
          ]
        }
      ],
      "source": [
        "download_from_disk('1kMaq8gGzrD7BDYFwoVhjSt65d1g8ZVh5')"
      ]
    },
    {
      "cell_type": "markdown",
      "metadata": {
        "id": "ZqwkCksnJ0Uc"
      },
      "source": [
        "# 0. Разобраться с Bowtie2 / bwa mem\n",
        "Построить индекс, запустить любой из тулов на ваш выбор, определить процент приложившихся ридов (samtools flagstat). \n"
      ]
    },
    {
      "cell_type": "code",
      "execution_count": 5,
      "metadata": {
        "id": "mx7DhQUeEf-o"
      },
      "outputs": [],
      "source": [
        "import pandas as pd\n",
        "import numpy as np\n",
        "import matplotlib.pyplot as plt\n",
        "import seaborn as sns"
      ]
    },
    {
      "cell_type": "code",
      "execution_count": 6,
      "metadata": {
        "id": "ACetziJlVaPl"
      },
      "outputs": [],
      "source": [
        "!pip install -q condacolab"
      ]
    },
    {
      "cell_type": "code",
      "execution_count": 7,
      "metadata": {
        "id": "uPG-_GtWVaYB"
      },
      "outputs": [],
      "source": [
        "import condacolab"
      ]
    },
    {
      "cell_type": "code",
      "execution_count": 8,
      "metadata": {
        "colab": {
          "base_uri": "https://localhost:8080/"
        },
        "id": "dPta1VfrVafF",
        "outputId": "bd04fead-70fa-4871-9d12-15f5cc6ffe7a"
      },
      "outputs": [
        {
          "output_type": "stream",
          "name": "stdout",
          "text": [
            "⏬ Downloading https://github.com/jaimergp/miniforge/releases/latest/download/Mambaforge-colab-Linux-x86_64.sh...\n",
            "📦 Installing...\n",
            "📌 Adjusting configuration...\n",
            "🩹 Patching environment...\n",
            "⏲ Done in 0:00:43\n",
            "🔁 Restarting kernel...\n"
          ]
        }
      ],
      "source": [
        "condacolab.install()"
      ]
    },
    {
      "cell_type": "code",
      "execution_count": 9,
      "metadata": {
        "colab": {
          "base_uri": "https://localhost:8080/"
        },
        "id": "TmfLUUEEVgij",
        "outputId": "d83795f1-b11f-436b-ba84-dc6c11948631"
      },
      "outputs": [
        {
          "output_type": "stream",
          "name": "stdout",
          "text": [
            "Collecting package metadata (current_repodata.json): - \b\b\\ \b\b| \b\b/ \b\b- \b\b\\ \b\b| \b\b/ \b\b- \b\b\\ \b\b| \b\b/ \b\b- \b\b\\ \b\b| \b\b/ \b\b- \b\b\\ \b\b| \b\b/ \b\b- \b\b\\ \b\b| \b\b/ \b\b- \b\b\\ \b\b| \b\b/ \b\b- \b\b\\ \b\b| \b\b/ \b\b- \b\b\\ \b\b| \b\b/ \b\b- \b\b\\ \b\b| \b\b/ \b\b- \b\b\\ \b\b| \b\b/ \b\b- \b\b\\ \b\b| \b\b/ \b\b- \b\b\\ \b\b| \b\b/ \b\b- \b\b\\ \b\b| \b\b/ \b\b- \b\b\\ \b\b| \b\b/ \b\b- \b\b\\ \b\b| \b\b/ \b\b- \b\b\\ \b\b| \b\b/ \b\b- \b\b\\ \b\b| \b\b/ \b\b- \b\b\\ \b\b| \b\b/ \b\b- \b\b\\ \b\b| \b\b/ \b\b- \b\b\\ \b\b| \b\b/ \b\b- \b\b\\ \b\b| \b\b/ \b\b- \b\b\\ \b\b| \b\b/ \b\b- \b\b\\ \b\b| \b\b/ \b\b- \b\b\\ \b\b| \b\b/ \b\b- \b\b\\ \b\b| \b\b/ \b\b- \b\b\\ \b\b| \b\b/ \b\b- \b\b\\ \b\b| \b\b/ \b\b- \b\b\\ \b\b| \b\b/ \b\b- \b\bdone\n",
            "Solving environment: | \b\b/ \b\b- \b\b\\ \b\b| \b\b/ \b\b- \b\b\\ \b\b| \b\bdone\n",
            "\n",
            "## Package Plan ##\n",
            "\n",
            "  environment location: /usr/local\n",
            "\n",
            "  added / updated specs:\n",
            "    - bwa\n",
            "\n",
            "\n",
            "The following packages will be downloaded:\n",
            "\n",
            "    package                    |            build\n",
            "    ---------------------------|-----------------\n",
            "    bwa-0.7.17                 |       h5bf99c6_8         608 KB  bioconda\n",
            "    ca-certificates-2022.5.18.1|       ha878542_0         144 KB  conda-forge\n",
            "    certifi-2022.5.18.1        |   py37h89c1867_0         150 KB  conda-forge\n",
            "    conda-4.13.0               |   py37h89c1867_0         990 KB  conda-forge\n",
            "    perl-5.32.1                | 0_h7f98852_perl5        14.5 MB  conda-forge\n",
            "    ------------------------------------------------------------\n",
            "                                           Total:        16.3 MB\n",
            "\n",
            "The following NEW packages will be INSTALLED:\n",
            "\n",
            "  bwa                bioconda/linux-64::bwa-0.7.17-h5bf99c6_8\n",
            "  perl               conda-forge/linux-64::perl-5.32.1-0_h7f98852_perl5\n",
            "\n",
            "The following packages will be UPDATED:\n",
            "\n",
            "  ca-certificates                      2020.12.5-ha878542_0 --> 2022.5.18.1-ha878542_0\n",
            "  certifi                          2020.12.5-py37h89c1867_1 --> 2022.5.18.1-py37h89c1867_0\n",
            "  conda                                4.9.2-py37h89c1867_0 --> 4.13.0-py37h89c1867_0\n",
            "\n",
            "\n",
            "\n",
            "Downloading and Extracting Packages\n",
            "bwa-0.7.17           | 608 KB    | : 100% 1.0/1 [00:00<00:00,  3.52it/s]\n",
            "perl-5.32.1          | 14.5 MB   | : 100% 1.0/1 [00:04<00:00,  4.29s/it]\n",
            "conda-4.13.0         | 990 KB    | : 100% 1.0/1 [00:00<00:00,  2.79it/s]\n",
            "ca-certificates-2022 | 144 KB    | : 100% 1.0/1 [00:00<00:00, 16.99it/s]\n",
            "certifi-2022.5.18.1  | 150 KB    | : 100% 1.0/1 [00:00<00:00, 13.36it/s]\n",
            "Preparing transaction: - \b\b\\ \b\bdone\n",
            "Verifying transaction: / \b\b- \b\b\\ \b\b| \b\b/ \b\b- \b\bdone\n",
            "Executing transaction: | \b\b/ \b\b- \b\bdone\n"
          ]
        }
      ],
      "source": [
        "!conda install -c bioconda bwa"
      ]
    },
    {
      "cell_type": "code",
      "execution_count": 10,
      "metadata": {
        "colab": {
          "base_uri": "https://localhost:8080/"
        },
        "id": "ALt4efsPVgqH",
        "outputId": "2fbeaf5a-00f2-4dd9-982f-6ba39a8b8b4d"
      },
      "outputs": [
        {
          "output_type": "stream",
          "name": "stdout",
          "text": [
            "Collecting package metadata (current_repodata.json): - \b\b\\ \b\b| \b\b/ \b\b- \b\b\\ \b\b| \b\b/ \b\b- \b\b\\ \b\b| \b\b/ \b\b- \b\b\\ \b\b| \b\b/ \b\b- \b\b\\ \b\b| \b\bdone\n",
            "Solving environment: - \b\b\\ \b\b| \b\b/ \b\b- \b\b\\ \b\b| \b\b/ \b\b- \b\b\\ \b\b| \b\b/ \b\b- \b\b\\ \b\b| \b\b/ \b\b- \b\bdone\n",
            "\n",
            "## Package Plan ##\n",
            "\n",
            "  environment location: /usr/local\n",
            "\n",
            "  added / updated specs:\n",
            "    - samtools\n",
            "\n",
            "\n",
            "The following packages will be downloaded:\n",
            "\n",
            "    package                    |            build\n",
            "    ---------------------------|-----------------\n",
            "    samtools-1.3.1             |                0         1.5 MB  bioconda\n",
            "    ------------------------------------------------------------\n",
            "                                           Total:         1.5 MB\n",
            "\n",
            "The following NEW packages will be INSTALLED:\n",
            "\n",
            "  samtools           bioconda/linux-64::samtools-1.3.1-0\n",
            "\n",
            "\n",
            "\n",
            "Downloading and Extracting Packages\n",
            "samtools-1.3.1       | 1.5 MB    | : 100% 1.0/1 [00:00<00:00,  2.31it/s]\n",
            "Preparing transaction: | \b\bdone\n",
            "Verifying transaction: - \b\bdone\n",
            "Executing transaction: | \b\bdone\n"
          ]
        }
      ],
      "source": [
        "!conda install -c bioconda samtools"
      ]
    },
    {
      "cell_type": "code",
      "execution_count": 11,
      "metadata": {
        "colab": {
          "base_uri": "https://localhost:8080/"
        },
        "id": "17-iVMX-VamA",
        "outputId": "5fc4e315-ac86-4989-ee14-3728d88b1fc4"
      },
      "outputs": [
        {
          "output_type": "stream",
          "name": "stdout",
          "text": [
            "Reading package lists... Done\n",
            "Building dependency tree       \n",
            "Reading state information... Done\n",
            "The following package was automatically installed and is no longer required:\n",
            "  libnvidia-common-460\n",
            "Use 'apt autoremove' to remove it.\n",
            "The following additional packages will be installed:\n",
            "  cwltool libc-ares2 libhts2 libjs-bootstrap nodejs nodejs-doc\n",
            "  python-asn1crypto python-avro python-cachecontrol python-certifi\n",
            "  python-cffi-backend python-chardet python-cryptography python-enum34\n",
            "  python-html5lib python-idna python-ipaddress python-isodate python-lockfile\n",
            "  python-mistune python-openssl python-pkg-resources python-pyparsing\n",
            "  python-rdflib python-rdflib-jsonld python-requests python-ruamel.yaml\n",
            "  python-schema-salad python-shellescape python-six python-sparqlwrapper\n",
            "  python-typing python-urllib3 python-webencodings\n",
            "Suggested packages:\n",
            "  bowtie2-examples python-cryptography-doc python-cryptography-vectors\n",
            "  python-enum34-doc python-genshi python-lxml python-lockfile-doc\n",
            "  python-openssl-doc python-openssl-dbg python-setuptools python-pyparsing-doc\n",
            "  python-rdflib-doc python-rdflib-tools python-socks python-ntlm\n",
            "The following NEW packages will be installed:\n",
            "  bowtie2 cwltool libc-ares2 libhts2 libjs-bootstrap nodejs nodejs-doc\n",
            "  python-asn1crypto python-avro python-cachecontrol python-certifi\n",
            "  python-cffi-backend python-chardet python-cryptography python-enum34\n",
            "  python-html5lib python-idna python-ipaddress python-isodate python-lockfile\n",
            "  python-mistune python-openssl python-pkg-resources python-pyparsing\n",
            "  python-rdflib python-rdflib-jsonld python-requests python-ruamel.yaml\n",
            "  python-schema-salad python-shellescape python-six python-sparqlwrapper\n",
            "  python-typing python-urllib3 python-webencodings samtools\n",
            "0 upgraded, 36 newly installed, 0 to remove and 42 not upgraded.\n",
            "Need to get 9,743 kB of archives.\n",
            "After this operation, 46.1 MB of additional disk space will be used.\n",
            "Get:1 http://archive.ubuntu.com/ubuntu bionic/main amd64 python-pkg-resources all 39.0.1-2 [128 kB]\n",
            "Get:2 http://archive.ubuntu.com/ubuntu bionic/main amd64 python-six all 1.11.0-2 [11.3 kB]\n",
            "Get:3 http://archive.ubuntu.com/ubuntu bionic/universe amd64 python-isodate all 0.6.0-1 [23.8 kB]\n",
            "Get:4 http://archive.ubuntu.com/ubuntu bionic/main amd64 python-pyparsing all 2.2.0+dfsg1-2 [52.1 kB]\n",
            "Get:5 http://archive.ubuntu.com/ubuntu bionic/universe amd64 python-rdflib all 4.2.1-2 [237 kB]\n",
            "Get:6 http://archive.ubuntu.com/ubuntu bionic/main amd64 python-certifi all 2018.1.18-2 [144 kB]\n",
            "Get:7 http://archive.ubuntu.com/ubuntu bionic/main amd64 python-chardet all 3.0.4-1 [80.3 kB]\n",
            "Get:8 http://archive.ubuntu.com/ubuntu bionic/main amd64 python-idna all 2.6-1 [32.4 kB]\n",
            "Get:9 http://archive.ubuntu.com/ubuntu bionic-updates/main amd64 python-urllib3 all 1.22-1ubuntu0.18.04.2 [86.0 kB]\n",
            "Get:10 http://archive.ubuntu.com/ubuntu bionic-updates/main amd64 python-requests all 2.18.4-2ubuntu0.1 [58.5 kB]\n",
            "Get:11 http://archive.ubuntu.com/ubuntu bionic/universe amd64 python-ruamel.yaml amd64 0.15.34-1 [183 kB]\n",
            "Get:12 http://archive.ubuntu.com/ubuntu bionic/universe amd64 python-cachecontrol all 0.11.7-1 [15.2 kB]\n",
            "Get:13 http://archive.ubuntu.com/ubuntu bionic/main amd64 python-lockfile all 1:0.12.2-2 [14.6 kB]\n",
            "Get:14 http://archive.ubuntu.com/ubuntu bionic/universe amd64 python-mistune all 0.8.3-2 [13.8 kB]\n",
            "Get:15 http://archive.ubuntu.com/ubuntu bionic/universe amd64 python-rdflib-jsonld all 0.4.0-3 [12.2 kB]\n",
            "Get:16 http://archive.ubuntu.com/ubuntu bionic/universe amd64 python-typing all 3.6.2-1 [22.2 kB]\n",
            "Get:17 http://archive.ubuntu.com/ubuntu bionic/universe amd64 python-avro all 1.8.2+dfsg-1 [23.2 kB]\n",
            "Get:18 http://archive.ubuntu.com/ubuntu bionic/universe amd64 libjs-bootstrap all 3.3.7+dfsg-2 [228 kB]\n",
            "Get:19 http://archive.ubuntu.com/ubuntu bionic/universe amd64 python-schema-salad all 2.6.20171201034858-3 [260 kB]\n",
            "Get:20 http://archive.ubuntu.com/ubuntu bionic/universe amd64 python-shellescape all 3.4.1-2 [4,432 B]\n",
            "Get:21 http://archive.ubuntu.com/ubuntu bionic/universe amd64 cwltool all 1.0.20180302231433-1 [143 kB]\n",
            "Get:22 http://archive.ubuntu.com/ubuntu bionic/universe amd64 libhts2 amd64 1.7-2 [300 kB]\n",
            "Get:23 http://archive.ubuntu.com/ubuntu bionic-updates/universe amd64 nodejs-doc all 8.10.0~dfsg-2ubuntu0.4 [752 kB]\n",
            "Get:24 http://archive.ubuntu.com/ubuntu bionic/main amd64 python-asn1crypto all 0.24.0-1 [72.7 kB]\n",
            "Get:25 http://archive.ubuntu.com/ubuntu bionic/main amd64 python-cffi-backend amd64 1.11.5-1 [63.4 kB]\n",
            "Get:26 http://archive.ubuntu.com/ubuntu bionic/main amd64 python-enum34 all 1.1.6-2 [34.8 kB]\n",
            "Get:27 http://archive.ubuntu.com/ubuntu bionic/main amd64 python-ipaddress all 1.0.17-1 [18.2 kB]\n",
            "Get:28 http://archive.ubuntu.com/ubuntu bionic-updates/main amd64 python-cryptography amd64 2.1.4-1ubuntu1.4 [276 kB]\n",
            "Get:29 http://archive.ubuntu.com/ubuntu bionic/main amd64 python-webencodings all 0.5-2 [10.3 kB]\n",
            "Get:30 http://archive.ubuntu.com/ubuntu bionic/main amd64 python-html5lib all 0.999999999-1 [83.6 kB]\n",
            "Get:31 http://archive.ubuntu.com/ubuntu bionic/main amd64 python-openssl all 17.5.0-1ubuntu1 [41.3 kB]\n",
            "Get:32 http://archive.ubuntu.com/ubuntu bionic/universe amd64 python-sparqlwrapper all 1.7.6-2 [21.8 kB]\n",
            "Get:33 http://archive.ubuntu.com/ubuntu bionic/universe amd64 samtools amd64 1.7-1 [288 kB]\n",
            "Get:34 http://archive.ubuntu.com/ubuntu bionic/universe amd64 bowtie2 amd64 2.3.4.1-1 [1,174 kB]\n",
            "Get:35 http://archive.ubuntu.com/ubuntu bionic-updates/main amd64 libc-ares2 amd64 1.14.0-1ubuntu0.1 [37.5 kB]\n",
            "Get:36 http://archive.ubuntu.com/ubuntu bionic-updates/universe amd64 nodejs amd64 8.10.0~dfsg-2ubuntu0.4 [4,796 kB]\n",
            "Fetched 9,743 kB in 1s (6,658 kB/s)\n",
            "Extracting templates from packages: 100%\n",
            "Selecting previously unselected package python-pkg-resources.\n",
            "(Reading database ... 155629 files and directories currently installed.)\n",
            "Preparing to unpack .../00-python-pkg-resources_39.0.1-2_all.deb ...\n",
            "Unpacking python-pkg-resources (39.0.1-2) ...\n",
            "Selecting previously unselected package python-six.\n",
            "Preparing to unpack .../01-python-six_1.11.0-2_all.deb ...\n",
            "Unpacking python-six (1.11.0-2) ...\n",
            "Selecting previously unselected package python-isodate.\n",
            "Preparing to unpack .../02-python-isodate_0.6.0-1_all.deb ...\n",
            "Unpacking python-isodate (0.6.0-1) ...\n",
            "Selecting previously unselected package python-pyparsing.\n",
            "Preparing to unpack .../03-python-pyparsing_2.2.0+dfsg1-2_all.deb ...\n",
            "Unpacking python-pyparsing (2.2.0+dfsg1-2) ...\n",
            "Selecting previously unselected package python-rdflib.\n",
            "Preparing to unpack .../04-python-rdflib_4.2.1-2_all.deb ...\n",
            "Unpacking python-rdflib (4.2.1-2) ...\n",
            "Selecting previously unselected package python-certifi.\n",
            "Preparing to unpack .../05-python-certifi_2018.1.18-2_all.deb ...\n",
            "Unpacking python-certifi (2018.1.18-2) ...\n",
            "Selecting previously unselected package python-chardet.\n",
            "Preparing to unpack .../06-python-chardet_3.0.4-1_all.deb ...\n",
            "Unpacking python-chardet (3.0.4-1) ...\n",
            "Selecting previously unselected package python-idna.\n",
            "Preparing to unpack .../07-python-idna_2.6-1_all.deb ...\n",
            "Unpacking python-idna (2.6-1) ...\n",
            "Selecting previously unselected package python-urllib3.\n",
            "Preparing to unpack .../08-python-urllib3_1.22-1ubuntu0.18.04.2_all.deb ...\n",
            "Unpacking python-urllib3 (1.22-1ubuntu0.18.04.2) ...\n",
            "Selecting previously unselected package python-requests.\n",
            "Preparing to unpack .../09-python-requests_2.18.4-2ubuntu0.1_all.deb ...\n",
            "Unpacking python-requests (2.18.4-2ubuntu0.1) ...\n",
            "Selecting previously unselected package python-ruamel.yaml.\n",
            "Preparing to unpack .../10-python-ruamel.yaml_0.15.34-1_amd64.deb ...\n",
            "Unpacking python-ruamel.yaml (0.15.34-1) ...\n",
            "Selecting previously unselected package python-cachecontrol.\n",
            "Preparing to unpack .../11-python-cachecontrol_0.11.7-1_all.deb ...\n",
            "Unpacking python-cachecontrol (0.11.7-1) ...\n",
            "Selecting previously unselected package python-lockfile.\n",
            "Preparing to unpack .../12-python-lockfile_1%3a0.12.2-2_all.deb ...\n",
            "Unpacking python-lockfile (1:0.12.2-2) ...\n",
            "Selecting previously unselected package python-mistune.\n",
            "Preparing to unpack .../13-python-mistune_0.8.3-2_all.deb ...\n",
            "Unpacking python-mistune (0.8.3-2) ...\n",
            "Selecting previously unselected package python-rdflib-jsonld.\n",
            "Preparing to unpack .../14-python-rdflib-jsonld_0.4.0-3_all.deb ...\n",
            "Unpacking python-rdflib-jsonld (0.4.0-3) ...\n",
            "Selecting previously unselected package python-typing.\n",
            "Preparing to unpack .../15-python-typing_3.6.2-1_all.deb ...\n",
            "Unpacking python-typing (3.6.2-1) ...\n",
            "Selecting previously unselected package python-avro.\n",
            "Preparing to unpack .../16-python-avro_1.8.2+dfsg-1_all.deb ...\n",
            "Unpacking python-avro (1.8.2+dfsg-1) ...\n",
            "Selecting previously unselected package libjs-bootstrap.\n",
            "Preparing to unpack .../17-libjs-bootstrap_3.3.7+dfsg-2_all.deb ...\n",
            "Unpacking libjs-bootstrap (3.3.7+dfsg-2) ...\n",
            "Selecting previously unselected package python-schema-salad.\n",
            "Preparing to unpack .../18-python-schema-salad_2.6.20171201034858-3_all.deb ...\n",
            "Unpacking python-schema-salad (2.6.20171201034858-3) ...\n",
            "Selecting previously unselected package python-shellescape.\n",
            "Preparing to unpack .../19-python-shellescape_3.4.1-2_all.deb ...\n",
            "Unpacking python-shellescape (3.4.1-2) ...\n",
            "Selecting previously unselected package cwltool.\n",
            "Preparing to unpack .../20-cwltool_1.0.20180302231433-1_all.deb ...\n",
            "Unpacking cwltool (1.0.20180302231433-1) ...\n",
            "Selecting previously unselected package libhts2:amd64.\n",
            "Preparing to unpack .../21-libhts2_1.7-2_amd64.deb ...\n",
            "Unpacking libhts2:amd64 (1.7-2) ...\n",
            "Selecting previously unselected package nodejs-doc.\n",
            "Preparing to unpack .../22-nodejs-doc_8.10.0~dfsg-2ubuntu0.4_all.deb ...\n",
            "Unpacking nodejs-doc (8.10.0~dfsg-2ubuntu0.4) ...\n",
            "Selecting previously unselected package python-asn1crypto.\n",
            "Preparing to unpack .../23-python-asn1crypto_0.24.0-1_all.deb ...\n",
            "Unpacking python-asn1crypto (0.24.0-1) ...\n",
            "Selecting previously unselected package python-cffi-backend.\n",
            "Preparing to unpack .../24-python-cffi-backend_1.11.5-1_amd64.deb ...\n",
            "Unpacking python-cffi-backend (1.11.5-1) ...\n",
            "Selecting previously unselected package python-enum34.\n",
            "Preparing to unpack .../25-python-enum34_1.1.6-2_all.deb ...\n",
            "Unpacking python-enum34 (1.1.6-2) ...\n",
            "Selecting previously unselected package python-ipaddress.\n",
            "Preparing to unpack .../26-python-ipaddress_1.0.17-1_all.deb ...\n",
            "Unpacking python-ipaddress (1.0.17-1) ...\n",
            "Selecting previously unselected package python-cryptography.\n",
            "Preparing to unpack .../27-python-cryptography_2.1.4-1ubuntu1.4_amd64.deb ...\n",
            "Unpacking python-cryptography (2.1.4-1ubuntu1.4) ...\n",
            "Selecting previously unselected package python-webencodings.\n",
            "Preparing to unpack .../28-python-webencodings_0.5-2_all.deb ...\n",
            "Unpacking python-webencodings (0.5-2) ...\n",
            "Selecting previously unselected package python-html5lib.\n",
            "Preparing to unpack .../29-python-html5lib_0.999999999-1_all.deb ...\n",
            "Unpacking python-html5lib (0.999999999-1) ...\n",
            "Selecting previously unselected package python-openssl.\n",
            "Preparing to unpack .../30-python-openssl_17.5.0-1ubuntu1_all.deb ...\n",
            "Unpacking python-openssl (17.5.0-1ubuntu1) ...\n",
            "Selecting previously unselected package python-sparqlwrapper.\n",
            "Preparing to unpack .../31-python-sparqlwrapper_1.7.6-2_all.deb ...\n",
            "Unpacking python-sparqlwrapper (1.7.6-2) ...\n",
            "Selecting previously unselected package samtools.\n",
            "Preparing to unpack .../32-samtools_1.7-1_amd64.deb ...\n",
            "Unpacking samtools (1.7-1) ...\n",
            "Selecting previously unselected package bowtie2.\n",
            "Preparing to unpack .../33-bowtie2_2.3.4.1-1_amd64.deb ...\n",
            "Unpacking bowtie2 (2.3.4.1-1) ...\n",
            "Selecting previously unselected package libc-ares2:amd64.\n",
            "Preparing to unpack .../34-libc-ares2_1.14.0-1ubuntu0.1_amd64.deb ...\n",
            "Unpacking libc-ares2:amd64 (1.14.0-1ubuntu0.1) ...\n",
            "Selecting previously unselected package nodejs.\n",
            "Preparing to unpack .../35-nodejs_8.10.0~dfsg-2ubuntu0.4_amd64.deb ...\n",
            "Unpacking nodejs (8.10.0~dfsg-2ubuntu0.4) ...\n",
            "Setting up python-idna (2.6-1) ...\n",
            "Setting up nodejs-doc (8.10.0~dfsg-2ubuntu0.4) ...\n",
            "Setting up python-asn1crypto (0.24.0-1) ...\n",
            "Setting up python-mistune (0.8.3-2) ...\n",
            "Setting up python-certifi (2018.1.18-2) ...\n",
            "Setting up python-avro (1.8.2+dfsg-1) ...\n",
            "Setting up python-pkg-resources (39.0.1-2) ...\n",
            "Setting up bowtie2 (2.3.4.1-1) ...\n",
            "Setting up python-ruamel.yaml (0.15.34-1) ...\n",
            "Setting up python-cffi-backend (1.11.5-1) ...\n",
            "Setting up python-six (1.11.0-2) ...\n",
            "Setting up python-isodate (0.6.0-1) ...\n",
            "Setting up python-shellescape (3.4.1-2) ...\n",
            "Setting up python-enum34 (1.1.6-2) ...\n",
            "Setting up libjs-bootstrap (3.3.7+dfsg-2) ...\n",
            "Setting up python-lockfile (1:0.12.2-2) ...\n",
            "Setting up python-ipaddress (1.0.17-1) ...\n",
            "Setting up libc-ares2:amd64 (1.14.0-1ubuntu0.1) ...\n",
            "Setting up libhts2:amd64 (1.7-2) ...\n",
            "Setting up python-webencodings (0.5-2) ...\n",
            "Setting up python-typing (3.6.2-1) ...\n",
            "Setting up python-pyparsing (2.2.0+dfsg1-2) ...\n",
            "Setting up python-urllib3 (1.22-1ubuntu0.18.04.2) ...\n",
            "Setting up python-chardet (3.0.4-1) ...\n",
            "Setting up nodejs (8.10.0~dfsg-2ubuntu0.4) ...\n",
            "update-alternatives: using /usr/bin/nodejs to provide /usr/bin/js (js) in auto mode\n",
            "Setting up python-rdflib (4.2.1-2) ...\n",
            "Setting up python-sparqlwrapper (1.7.6-2) ...\n",
            "Setting up python-rdflib-jsonld (0.4.0-3) ...\n",
            "Setting up python-cryptography (2.1.4-1ubuntu1.4) ...\n",
            "Setting up python-requests (2.18.4-2ubuntu0.1) ...\n",
            "Setting up python-cachecontrol (0.11.7-1) ...\n",
            "Setting up python-schema-salad (2.6.20171201034858-3) ...\n",
            "Setting up python-html5lib (0.999999999-1) ...\n",
            "Setting up samtools (1.7-1) ...\n",
            "Setting up python-openssl (17.5.0-1ubuntu1) ...\n",
            "Setting up cwltool (1.0.20180302231433-1) ...\n",
            "Processing triggers for libc-bin (2.27-3ubuntu1.3) ...\n",
            "/sbin/ldconfig.real: /usr/local/lib/python3.7/dist-packages/ideep4py/lib/libmkldnn.so.0 is not a symbolic link\n",
            "\n",
            "Processing triggers for man-db (2.8.3-2ubuntu0.1) ...\n"
          ]
        }
      ],
      "source": [
        "!apt-get install bowtie2 samtools"
      ]
    },
    {
      "cell_type": "code",
      "execution_count": 12,
      "metadata": {
        "colab": {
          "base_uri": "https://localhost:8080/"
        },
        "id": "0YpVElyqbBin",
        "outputId": "a4b54ba0-96a6-47b4-cb31-a67352a8ff28"
      },
      "outputs": [
        {
          "output_type": "stream",
          "name": "stdout",
          "text": [
            "Collecting package metadata (current_repodata.json): - \b\b\\ \b\b| \b\b/ \b\b- \b\b\\ \b\b| \b\b/ \b\b- \b\b\\ \b\b| \b\b/ \b\b- \b\b\\ \b\b| \b\b/ \b\b- \b\b\\ \b\b| \b\bdone\n",
            "Solving environment: - \b\b\\ \b\b| \b\b/ \b\b- \b\b\\ \b\b| \b\b/ \b\b- \b\b\\ \b\b| \b\b/ \b\bdone\n",
            "\n",
            "## Package Plan ##\n",
            "\n",
            "  environment location: /usr/local\n",
            "\n",
            "  added / updated specs:\n",
            "    - bowtie2\n",
            "\n",
            "\n",
            "The following packages will be downloaded:\n",
            "\n",
            "    package                    |            build\n",
            "    ---------------------------|-----------------\n",
            "    bowtie2-2.3.5.1            |   py37he513fc3_0        12.0 MB  bioconda\n",
            "    python_abi-3.7             |          2_cp37m           4 KB  conda-forge\n",
            "    tbb-2020.2                 |       h4bd325d_4         1.5 MB  conda-forge\n",
            "    ------------------------------------------------------------\n",
            "                                           Total:        13.4 MB\n",
            "\n",
            "The following NEW packages will be INSTALLED:\n",
            "\n",
            "  bowtie2            bioconda/linux-64::bowtie2-2.3.5.1-py37he513fc3_0\n",
            "  tbb                conda-forge/linux-64::tbb-2020.2-h4bd325d_4\n",
            "\n",
            "The following packages will be UPDATED:\n",
            "\n",
            "  python_abi                                    3.7-1_cp37m --> 3.7-2_cp37m\n",
            "\n",
            "\n",
            "\n",
            "Downloading and Extracting Packages\n",
            "bowtie2-2.3.5.1      | 12.0 MB   | : 100% 1.0/1 [00:02<00:00,  2.43s/it]\n",
            "python_abi-3.7       | 4 KB      | : 100% 1.0/1 [00:00<00:00, 27.34it/s]\n",
            "tbb-2020.2           | 1.5 MB    | : 100% 1.0/1 [00:00<00:00,  3.22it/s]\n",
            "Preparing transaction: \\ \b\bdone\n",
            "Verifying transaction: / \b\b- \b\b\\ \b\b| \b\b/ \b\b- \b\bdone\n",
            "Executing transaction: | \b\bdone\n"
          ]
        }
      ],
      "source": [
        "!conda install -c bioconda bowtie2"
      ]
    },
    {
      "cell_type": "code",
      "source": [
        "!pip install pysam"
      ],
      "metadata": {
        "colab": {
          "base_uri": "https://localhost:8080/"
        },
        "id": "Cwl6VXAGN_Fi",
        "outputId": "2c011027-4410-4151-bdc6-c02588900db0"
      },
      "execution_count": 13,
      "outputs": [
        {
          "output_type": "stream",
          "name": "stdout",
          "text": [
            "Looking in indexes: https://pypi.org/simple, https://us-python.pkg.dev/colab-wheels/public/simple/\n",
            "Collecting pysam\n",
            "  Downloading pysam-0.19.1-cp37-cp37m-manylinux_2_24_x86_64.whl (15.1 MB)\n",
            "\u001b[K     |████████████████████████████████| 15.1 MB 4.3 MB/s \n",
            "\u001b[?25hInstalling collected packages: pysam\n",
            "Successfully installed pysam-0.19.1\n"
          ]
        }
      ]
    },
    {
      "cell_type": "code",
      "source": [
        "import pysam\n",
        "import matplotlib.pyplot as plt\n",
        "import matplotlib\n",
        "import statistics\n",
        "import numpy as np\n",
        "from collections import defaultdict, Counter\n",
        "import pandas as pd\n",
        "import seaborn as sns"
      ],
      "metadata": {
        "id": "O9-ZIOEnsIyR"
      },
      "execution_count": 24,
      "outputs": []
    },
    {
      "cell_type": "code",
      "source": [
        "!pip install Bio"
      ],
      "metadata": {
        "colab": {
          "base_uri": "https://localhost:8080/",
          "height": 498
        },
        "id": "G7UV7kp5_-hY",
        "outputId": "e970240b-e399-436f-eb78-83a439e7b938"
      },
      "execution_count": 15,
      "outputs": [
        {
          "output_type": "stream",
          "name": "stdout",
          "text": [
            "Looking in indexes: https://pypi.org/simple, https://us-python.pkg.dev/colab-wheels/public/simple/\n",
            "Collecting Bio\n",
            "  Downloading bio-1.3.9-py3-none-any.whl (270 kB)\n",
            "\u001b[K     |████████████████████████████████| 270 kB 5.0 MB/s \n",
            "\u001b[?25hRequirement already satisfied: tqdm in /usr/local/lib/python3.7/site-packages (from Bio) (4.59.0)\n",
            "Requirement already satisfied: requests in /usr/local/lib/python3.7/site-packages (from Bio) (2.25.1)\n",
            "Collecting biopython>=1.79\n",
            "  Downloading biopython-1.79-cp37-cp37m-manylinux_2_5_x86_64.manylinux1_x86_64.whl (2.3 MB)\n",
            "\u001b[K     |████████████████████████████████| 2.3 MB 22.0 MB/s \n",
            "\u001b[?25hCollecting mygene\n",
            "  Downloading mygene-3.2.2-py2.py3-none-any.whl (5.4 kB)\n",
            "Collecting numpy\n",
            "  Downloading numpy-1.21.6-cp37-cp37m-manylinux_2_12_x86_64.manylinux2010_x86_64.whl (15.7 MB)\n",
            "\u001b[K     |████████████████████████████████| 15.7 MB 44.1 MB/s \n",
            "\u001b[?25hCollecting biothings-client>=0.2.6\n",
            "  Downloading biothings_client-0.2.6-py2.py3-none-any.whl (37 kB)\n",
            "Requirement already satisfied: certifi>=2017.4.17 in /usr/local/lib/python3.7/site-packages (from requests->Bio) (2022.5.18.1)\n",
            "Requirement already satisfied: chardet<5,>=3.0.2 in /usr/local/lib/python3.7/site-packages (from requests->Bio) (4.0.0)\n",
            "Requirement already satisfied: urllib3<1.27,>=1.21.1 in /usr/local/lib/python3.7/site-packages (from requests->Bio) (1.26.3)\n",
            "Requirement already satisfied: idna<3,>=2.5 in /usr/local/lib/python3.7/site-packages (from requests->Bio) (2.10)\n",
            "Installing collected packages: numpy, biothings-client, mygene, biopython, Bio\n",
            "Successfully installed Bio-1.3.9 biopython-1.79 biothings-client-0.2.6 mygene-3.2.2 numpy-1.21.6\n"
          ]
        },
        {
          "output_type": "display_data",
          "data": {
            "application/vnd.colab-display-data+json": {
              "pip_warning": {
                "packages": [
                  "numpy"
                ]
              }
            }
          },
          "metadata": {}
        }
      ]
    },
    {
      "cell_type": "code",
      "source": [
        "from Bio import SeqIO"
      ],
      "metadata": {
        "id": "vCKEFeMmABmU"
      },
      "execution_count": 1,
      "outputs": []
    },
    {
      "cell_type": "markdown",
      "metadata": {
        "id": "sLcw5KpwdOgu"
      },
      "source": [
        "***B.faecium***"
      ]
    },
    {
      "cell_type": "code",
      "execution_count": 11,
      "metadata": {
        "colab": {
          "base_uri": "https://localhost:8080/"
        },
        "id": "avk9HrXidMsU",
        "outputId": "95a34505-0634-4989-c2e7-129f5abb9dbd"
      },
      "outputs": [
        {
          "output_type": "stream",
          "name": "stdout",
          "text": [
            "Settings:\n",
            "  Output files: \"chromosome_index.*.bt2\"\n",
            "  Line rate: 6 (line is 64 bytes)\n",
            "  Lines per side: 1 (side is 64 bytes)\n",
            "  Offset rate: 4 (one in 16)\n",
            "  FTable chars: 10\n",
            "  Strings: unpacked\n",
            "  Max bucket size: default\n",
            "  Max bucket size, sqrt multiplier: default\n",
            "  Max bucket size, len divisor: 4\n",
            "  Difference-cover sample period: 1024\n",
            "  Endianness: little\n",
            "  Actual local endianness: little\n",
            "  Sanity checking: disabled\n",
            "  Assertions: disabled\n",
            "  Random seed: 0\n",
            "  Sizeofs: void*:8, int:4, long:8, size_t:8\n",
            "Input files DNA, FASTA:\n",
            "  ref.fasta.gz\n",
            "Building a SMALL index\n",
            "Reading reference sizes\n",
            "  Time reading reference sizes: 00:00:00\n",
            "Calculating joined length\n",
            "Writing header\n",
            "Reserving space for joined string\n",
            "Joining reference sequences\n",
            "  Time to join reference sequences: 00:00:00\n",
            "bmax according to bmaxDivN setting: 903747\n",
            "Using parameters --bmax 677811 --dcv 1024\n",
            "  Doing ahead-of-time memory usage test\n",
            "  Passed!  Constructing with these parameters: --bmax 677811 --dcv 1024\n",
            "Constructing suffix-array element generator\n",
            "Building DifferenceCoverSample\n",
            "  Building sPrime\n",
            "  Building sPrimeOrder\n",
            "  V-Sorting samples\n",
            "  V-Sorting samples time: 00:00:00\n",
            "  Allocating rank array\n",
            "  Ranking v-sort output\n",
            "  Ranking v-sort output time: 00:00:00\n",
            "  Invoking Larsson-Sadakane on ranks\n",
            "  Invoking Larsson-Sadakane on ranks time: 00:00:00\n",
            "  Sanity-checking and returning\n",
            "Building samples\n",
            "Reserving space for 12 sample suffixes\n",
            "Generating random suffixes\n",
            "QSorting 12 sample offsets, eliminating duplicates\n",
            "QSorting sample offsets, eliminating duplicates time: 00:00:00\n",
            "Multikey QSorting 12 samples\n",
            "  (Using difference cover)\n",
            "  Multikey QSorting samples time: 00:00:00\n",
            "Calculating bucket sizes\n",
            "Splitting and merging\n",
            "  Splitting and merging time: 00:00:00\n",
            "Avg bucket size: 3.61499e+06 (target: 677810)\n",
            "Converting suffix-array elements to index image\n",
            "Allocating ftab, absorbFtab\n",
            "Entering Ebwt loop\n",
            "Getting block 1 of 1\n",
            "  No samples; assembling all-inclusive block\n",
            "  Sorting block of length 3614991 for bucket 1\n",
            "  (Using difference cover)\n",
            "  Sorting block time: 00:00:00\n",
            "Returning block of 3614992 for bucket 1\n",
            "Exited Ebwt loop\n",
            "fchr[A]: 0\n",
            "fchr[C]: 505683\n",
            "fchr[G]: 1805989\n",
            "fchr[T]: 3110131\n",
            "fchr[$]: 3614991\n",
            "Exiting Ebwt::buildToDisk()\n",
            "Returning from initFromVector\n",
            "Wrote 5399573 bytes to primary EBWT file: chromosome_index.1.bt2\n",
            "Wrote 903752 bytes to secondary EBWT file: chromosome_index.2.bt2\n",
            "Re-opening _in1 and _in2 as input streams\n",
            "Returning from Ebwt constructor\n",
            "Headers:\n",
            "    len: 3614991\n",
            "    bwtLen: 3614992\n",
            "    sz: 903748\n",
            "    bwtSz: 903748\n",
            "    lineRate: 6\n",
            "    offRate: 4\n",
            "    offMask: 0xfffffff0\n",
            "    ftabChars: 10\n",
            "    eftabLen: 20\n",
            "    eftabSz: 80\n",
            "    ftabLen: 1048577\n",
            "    ftabSz: 4194308\n",
            "    offsLen: 225937\n",
            "    offsSz: 903748\n",
            "    lineSz: 64\n",
            "    sideSz: 64\n",
            "    sideBwtSz: 48\n",
            "    sideBwtLen: 192\n",
            "    numSides: 18829\n",
            "    numLines: 18829\n",
            "    ebwtTotLen: 1205056\n",
            "    ebwtTotSz: 1205056\n",
            "    color: 0\n",
            "    reverse: 0\n",
            "Total time for call to driver() for forward index: 00:00:01\n",
            "Reading reference sizes\n",
            "  Time reading reference sizes: 00:00:00\n",
            "Calculating joined length\n",
            "Writing header\n",
            "Reserving space for joined string\n",
            "Joining reference sequences\n",
            "  Time to join reference sequences: 00:00:00\n",
            "  Time to reverse reference sequence: 00:00:00\n",
            "bmax according to bmaxDivN setting: 903747\n",
            "Using parameters --bmax 677811 --dcv 1024\n",
            "  Doing ahead-of-time memory usage test\n",
            "  Passed!  Constructing with these parameters: --bmax 677811 --dcv 1024\n",
            "Constructing suffix-array element generator\n",
            "Building DifferenceCoverSample\n",
            "  Building sPrime\n",
            "  Building sPrimeOrder\n",
            "  V-Sorting samples\n",
            "  V-Sorting samples time: 00:00:00\n",
            "  Allocating rank array\n",
            "  Ranking v-sort output\n",
            "  Ranking v-sort output time: 00:00:00\n",
            "  Invoking Larsson-Sadakane on ranks\n",
            "  Invoking Larsson-Sadakane on ranks time: 00:00:00\n",
            "  Sanity-checking and returning\n",
            "Building samples\n",
            "Reserving space for 12 sample suffixes\n",
            "Generating random suffixes\n",
            "QSorting 12 sample offsets, eliminating duplicates\n",
            "QSorting sample offsets, eliminating duplicates time: 00:00:00\n",
            "Multikey QSorting 12 samples\n",
            "  (Using difference cover)\n",
            "  Multikey QSorting samples time: 00:00:00\n",
            "Calculating bucket sizes\n",
            "Splitting and merging\n",
            "  Splitting and merging time: 00:00:00\n",
            "Avg bucket size: 3.61499e+06 (target: 677810)\n",
            "Converting suffix-array elements to index image\n",
            "Allocating ftab, absorbFtab\n",
            "Entering Ebwt loop\n",
            "Getting block 1 of 1\n",
            "  No samples; assembling all-inclusive block\n",
            "  Sorting block of length 3614991 for bucket 1\n",
            "  (Using difference cover)\n",
            "  Sorting block time: 00:00:00\n",
            "Returning block of 3614992 for bucket 1\n",
            "Exited Ebwt loop\n",
            "fchr[A]: 0\n",
            "fchr[C]: 505683\n",
            "fchr[G]: 1805989\n",
            "fchr[T]: 3110131\n",
            "fchr[$]: 3614991\n",
            "Exiting Ebwt::buildToDisk()\n",
            "Returning from initFromVector\n",
            "Wrote 5399573 bytes to primary EBWT file: chromosome_index.rev.1.bt2\n",
            "Wrote 903752 bytes to secondary EBWT file: chromosome_index.rev.2.bt2\n",
            "Re-opening _in1 and _in2 as input streams\n",
            "Returning from Ebwt constructor\n",
            "Headers:\n",
            "    len: 3614991\n",
            "    bwtLen: 3614992\n",
            "    sz: 903748\n",
            "    bwtSz: 903748\n",
            "    lineRate: 6\n",
            "    offRate: 4\n",
            "    offMask: 0xfffffff0\n",
            "    ftabChars: 10\n",
            "    eftabLen: 20\n",
            "    eftabSz: 80\n",
            "    ftabLen: 1048577\n",
            "    ftabSz: 4194308\n",
            "    offsLen: 225937\n",
            "    offsSz: 903748\n",
            "    lineSz: 64\n",
            "    sideSz: 64\n",
            "    sideBwtSz: 48\n",
            "    sideBwtLen: 192\n",
            "    numSides: 18829\n",
            "    numLines: 18829\n",
            "    ebwtTotLen: 1205056\n",
            "    ebwtTotSz: 1205056\n",
            "    color: 0\n",
            "    reverse: 1\n",
            "Total time for backward call to driver() for mirror index: 00:00:01\n"
          ]
        }
      ],
      "source": [
        "!bowtie2-build ref.fasta.gz chromosome_index"
      ]
    },
    {
      "cell_type": "code",
      "execution_count": 12,
      "metadata": {
        "id": "OR-C6piXcUBx"
      },
      "outputs": [],
      "source": [
        "!bowtie2 -x chromosome_index -1 frag.R1.fastq.gz -2 frag.R2.fastq.gz 1> fr_alignment.sam 2> fr_bowtie2.log"
      ]
    },
    {
      "cell_type": "code",
      "execution_count": 13,
      "metadata": {
        "id": "AjCQZrd5d_Wb"
      },
      "outputs": [],
      "source": [
        "!samtools view -bS -o fr_alignment.bam fr_alignment.sam"
      ]
    },
    {
      "cell_type": "code",
      "execution_count": 14,
      "metadata": {
        "id": "J0GEvx0yd_Z0"
      },
      "outputs": [],
      "source": [
        "!samtools sort -o fr_alignment_sorted.bam fr_alignment.bam"
      ]
    },
    {
      "cell_type": "code",
      "execution_count": 15,
      "metadata": {
        "id": "2N1sFm3yd_cq"
      },
      "outputs": [],
      "source": [
        "!samtools index fr_alignment_sorted.bam"
      ]
    },
    {
      "cell_type": "code",
      "execution_count": null,
      "metadata": {
        "id": "BeiInTptd_ga",
        "colab": {
          "base_uri": "https://localhost:8080/"
        },
        "outputId": "db0ca45a-0e18-4641-a3e9-cc6f4c168da2"
      },
      "outputs": [
        {
          "output_type": "stream",
          "name": "stdout",
          "text": [
            "3432364 + 0 in total (QC-passed reads + QC-failed reads)\n",
            "0 + 0 secondary\n",
            "0 + 0 supplementary\n",
            "0 + 0 duplicates\n",
            "3156674 + 0 mapped (91.97% : N/A)\n",
            "3432364 + 0 paired in sequencing\n",
            "1716182 + 0 read1\n",
            "1716182 + 0 read2\n",
            "2864544 + 0 properly paired (83.46% : N/A)\n",
            "2881804 + 0 with itself and mate mapped\n",
            "274870 + 0 singletons (8.01% : N/A)\n",
            "0 + 0 with mate mapped to a different chr\n",
            "0 + 0 with mate mapped to a different chr (mapQ>=5)\n"
          ]
        }
      ],
      "source": [
        "!samtools flagstat fr_alignment_sorted.bam"
      ]
    },
    {
      "cell_type": "markdown",
      "metadata": {
        "id": "6r-NeolkfoZV"
      },
      "source": [
        " ***jump***"
      ]
    },
    {
      "cell_type": "code",
      "execution_count": 49,
      "metadata": {
        "id": "L7_SDkn0Vz5m"
      },
      "outputs": [],
      "source": [
        "!bowtie2 -x chromosome_index -1 jump.R1.fastq.gz -2 jump.R2.fastq.gz 1> jump_alignment.sam 2> jump_bowtie2.log"
      ]
    },
    {
      "cell_type": "code",
      "execution_count": 50,
      "metadata": {
        "id": "vvaZOS0lV0d5"
      },
      "outputs": [],
      "source": [
        "!samtools view -bS -o jump_alignment.bam jump_alignment.sam"
      ]
    },
    {
      "cell_type": "code",
      "execution_count": 51,
      "metadata": {
        "id": "8CYTAymiedZH",
        "colab": {
          "base_uri": "https://localhost:8080/"
        },
        "outputId": "cdde8594-568b-40f7-b247-3e56059f40a2"
      },
      "outputs": [
        {
          "output_type": "stream",
          "name": "stdout",
          "text": [
            "[bam_sort_core] merging from 3 files...\n"
          ]
        }
      ],
      "source": [
        "!samtools sort -o jump_alignment_sorted.bam jump_alignment.bam"
      ]
    },
    {
      "cell_type": "code",
      "execution_count": 52,
      "metadata": {
        "id": "6j9IVbwZfb05"
      },
      "outputs": [],
      "source": [
        "!samtools index jump_alignment_sorted.bam"
      ]
    },
    {
      "cell_type": "code",
      "execution_count": 53,
      "metadata": {
        "id": "4ZQmYtFGfdUw",
        "colab": {
          "base_uri": "https://localhost:8080/"
        },
        "outputId": "89cadb6b-0b52-48ca-f081-da64564bafe0"
      },
      "outputs": [
        {
          "output_type": "stream",
          "name": "stdout",
          "text": [
            "4315600 + 0 in total (QC-passed reads + QC-failed reads)\n",
            "0 + 0 secondary\n",
            "0 + 0 supplementary\n",
            "0 + 0 duplicates\n",
            "4103027 + 0 mapped (95.07% : N/A)\n",
            "4315600 + 0 paired in sequencing\n",
            "2157800 + 0 read1\n",
            "2157800 + 0 read2\n",
            "13668 + 0 properly paired (0.32% : N/A)\n",
            "3899468 + 0 with itself and mate mapped\n",
            "203559 + 0 singletons (4.72% : N/A)\n",
            "0 + 0 with mate mapped to a different chr\n",
            "0 + 0 with mate mapped to a different chr (mapQ>=5)\n"
          ]
        }
      ],
      "source": [
        "!samtools flagstat jump_alignment_sorted.bam"
      ]
    },
    {
      "cell_type": "code",
      "execution_count": null,
      "metadata": {
        "id": "h-MokWXxEjTO",
        "colab": {
          "base_uri": "https://localhost:8080/",
          "height": 112
        },
        "outputId": "3d46f905-11d3-478a-9a93-fbcc9d84f7ca"
      },
      "outputs": [
        {
          "output_type": "execute_result",
          "data": {
            "text/plain": [
              "                    Общее число ридов     Выравнившиеся\n",
              "frag_alignment.sam            3432364  3156674 (91.97%)\n",
              "jump_alignment.bam            4315600  4103027 (95.07%)"
            ],
            "text/html": [
              "\n",
              "  <div id=\"df-26dfd54c-0218-454a-b2fb-283eed8b98df\">\n",
              "    <div class=\"colab-df-container\">\n",
              "      <div>\n",
              "<style scoped>\n",
              "    .dataframe tbody tr th:only-of-type {\n",
              "        vertical-align: middle;\n",
              "    }\n",
              "\n",
              "    .dataframe tbody tr th {\n",
              "        vertical-align: top;\n",
              "    }\n",
              "\n",
              "    .dataframe thead th {\n",
              "        text-align: right;\n",
              "    }\n",
              "</style>\n",
              "<table border=\"1\" class=\"dataframe\">\n",
              "  <thead>\n",
              "    <tr style=\"text-align: right;\">\n",
              "      <th></th>\n",
              "      <th>Общее число ридов</th>\n",
              "      <th>Выравнившиеся</th>\n",
              "    </tr>\n",
              "  </thead>\n",
              "  <tbody>\n",
              "    <tr>\n",
              "      <th>frag_alignment.sam</th>\n",
              "      <td>3432364</td>\n",
              "      <td>3156674 (91.97%)</td>\n",
              "    </tr>\n",
              "    <tr>\n",
              "      <th>jump_alignment.bam</th>\n",
              "      <td>4315600</td>\n",
              "      <td>4103027 (95.07%)</td>\n",
              "    </tr>\n",
              "  </tbody>\n",
              "</table>\n",
              "</div>\n",
              "      <button class=\"colab-df-convert\" onclick=\"convertToInteractive('df-26dfd54c-0218-454a-b2fb-283eed8b98df')\"\n",
              "              title=\"Convert this dataframe to an interactive table.\"\n",
              "              style=\"display:none;\">\n",
              "        \n",
              "  <svg xmlns=\"http://www.w3.org/2000/svg\" height=\"24px\"viewBox=\"0 0 24 24\"\n",
              "       width=\"24px\">\n",
              "    <path d=\"M0 0h24v24H0V0z\" fill=\"none\"/>\n",
              "    <path d=\"M18.56 5.44l.94 2.06.94-2.06 2.06-.94-2.06-.94-.94-2.06-.94 2.06-2.06.94zm-11 1L8.5 8.5l.94-2.06 2.06-.94-2.06-.94L8.5 2.5l-.94 2.06-2.06.94zm10 10l.94 2.06.94-2.06 2.06-.94-2.06-.94-.94-2.06-.94 2.06-2.06.94z\"/><path d=\"M17.41 7.96l-1.37-1.37c-.4-.4-.92-.59-1.43-.59-.52 0-1.04.2-1.43.59L10.3 9.45l-7.72 7.72c-.78.78-.78 2.05 0 2.83L4 21.41c.39.39.9.59 1.41.59.51 0 1.02-.2 1.41-.59l7.78-7.78 2.81-2.81c.8-.78.8-2.07 0-2.86zM5.41 20L4 18.59l7.72-7.72 1.47 1.35L5.41 20z\"/>\n",
              "  </svg>\n",
              "      </button>\n",
              "      \n",
              "  <style>\n",
              "    .colab-df-container {\n",
              "      display:flex;\n",
              "      flex-wrap:wrap;\n",
              "      gap: 12px;\n",
              "    }\n",
              "\n",
              "    .colab-df-convert {\n",
              "      background-color: #E8F0FE;\n",
              "      border: none;\n",
              "      border-radius: 50%;\n",
              "      cursor: pointer;\n",
              "      display: none;\n",
              "      fill: #1967D2;\n",
              "      height: 32px;\n",
              "      padding: 0 0 0 0;\n",
              "      width: 32px;\n",
              "    }\n",
              "\n",
              "    .colab-df-convert:hover {\n",
              "      background-color: #E2EBFA;\n",
              "      box-shadow: 0px 1px 2px rgba(60, 64, 67, 0.3), 0px 1px 3px 1px rgba(60, 64, 67, 0.15);\n",
              "      fill: #174EA6;\n",
              "    }\n",
              "\n",
              "    [theme=dark] .colab-df-convert {\n",
              "      background-color: #3B4455;\n",
              "      fill: #D2E3FC;\n",
              "    }\n",
              "\n",
              "    [theme=dark] .colab-df-convert:hover {\n",
              "      background-color: #434B5C;\n",
              "      box-shadow: 0px 1px 3px 1px rgba(0, 0, 0, 0.15);\n",
              "      filter: drop-shadow(0px 1px 2px rgba(0, 0, 0, 0.3));\n",
              "      fill: #FFFFFF;\n",
              "    }\n",
              "  </style>\n",
              "\n",
              "      <script>\n",
              "        const buttonEl =\n",
              "          document.querySelector('#df-26dfd54c-0218-454a-b2fb-283eed8b98df button.colab-df-convert');\n",
              "        buttonEl.style.display =\n",
              "          google.colab.kernel.accessAllowed ? 'block' : 'none';\n",
              "\n",
              "        async function convertToInteractive(key) {\n",
              "          const element = document.querySelector('#df-26dfd54c-0218-454a-b2fb-283eed8b98df');\n",
              "          const dataTable =\n",
              "            await google.colab.kernel.invokeFunction('convertToInteractive',\n",
              "                                                     [key], {});\n",
              "          if (!dataTable) return;\n",
              "\n",
              "          const docLinkHtml = 'Like what you see? Visit the ' +\n",
              "            '<a target=\"_blank\" href=https://colab.research.google.com/notebooks/data_table.ipynb>data table notebook</a>'\n",
              "            + ' to learn more about interactive tables.';\n",
              "          element.innerHTML = '';\n",
              "          dataTable['output_type'] = 'display_data';\n",
              "          await google.colab.output.renderOutput(dataTable, element);\n",
              "          const docLink = document.createElement('div');\n",
              "          docLink.innerHTML = docLinkHtml;\n",
              "          element.appendChild(docLink);\n",
              "        }\n",
              "      </script>\n",
              "    </div>\n",
              "  </div>\n",
              "  "
            ]
          },
          "metadata": {},
          "execution_count": 15
        }
      ],
      "source": [
        "data = {'Общее число ридов':[3432364,\n",
        "                             4315600],\n",
        "        \n",
        "        'Выравнившиеся':['3156674 (91.97%)',\n",
        "                              '4103027 (95.07%)']}\n",
        "\n",
        "df = pd.DataFrame(data, index =['frag_alignment.sam',\n",
        "                                'jump_alignment.bam'])\n",
        "df"
      ]
    },
    {
      "cell_type": "markdown",
      "metadata": {
        "id": "hh0TEbONXs4p"
      },
      "source": [
        "# 1. Покрытие генома"
      ]
    },
    {
      "cell_type": "code",
      "source": [
        "!gunzip ref.fasta.gz"
      ],
      "metadata": {
        "id": "AH5ilyXEZlhn"
      },
      "execution_count": null,
      "outputs": []
    },
    {
      "cell_type": "code",
      "source": [
        "reference = SeqIO.read('ref.fasta', 'fasta').seq"
      ],
      "metadata": {
        "id": "EEumC6oI_7Vr"
      },
      "execution_count": null,
      "outputs": []
    },
    {
      "cell_type": "code",
      "source": [
        "def coverage(file):\n",
        "    align = pysam.AlignmentFile(file, 'rb')\n",
        "    cover = {}\n",
        "    for read in align.fetch():\n",
        "        start, end = read.reference_start, read.reference_end\n",
        "        if start and end :\n",
        "            for i in range(start, end):\n",
        "                if i in cover:\n",
        "                    cover[i] += 1\n",
        "                else:\n",
        "                    cover[i] = 1\n",
        "    print('Среднее покрытие =', round(np.array(list(cover.values())).mean(), 3))\n",
        "    print('Доля покрытого генома =', round(len(cover.keys()) / len(reference), 3))\n",
        "    sns.set(rc={'figure.figsize':(15, 10)})\n",
        "    sns.lineplot(list(cover.keys()), list(cover.values()))"
      ],
      "metadata": {
        "id": "BudXa8Yy_6w_"
      },
      "execution_count": null,
      "outputs": []
    },
    {
      "cell_type": "code",
      "source": [
        "coverage('fr_alignment_sorted.bam')"
      ],
      "metadata": {
        "colab": {
          "base_uri": "https://localhost:8080/",
          "height": 698
        },
        "id": "oqvuwMuOZ1YM",
        "outputId": "2240dcd3-3898-4e74-a4e4-067b88665357"
      },
      "execution_count": null,
      "outputs": [
        {
          "output_type": "stream",
          "name": "stdout",
          "text": [
            "Среднее покрытие = 130.82\n",
            "Доля покрытого генома = 1.0\n"
          ]
        },
        {
          "output_type": "stream",
          "name": "stderr",
          "text": [
            "/usr/local/lib/python3.7/dist-packages/seaborn/_decorators.py:43: FutureWarning: Pass the following variables as keyword args: x, y. From version 0.12, the only valid positional argument will be `data`, and passing other arguments without an explicit keyword will result in an error or misinterpretation.\n",
            "  FutureWarning\n"
          ]
        },
        {
          "output_type": "display_data",
          "data": {
            "text/plain": [
              "<Figure size 1080x720 with 1 Axes>"
            ],
            "image/png": "[encoded data removed]"
          },
          "metadata": {}
        }
      ]
    },
    {
      "cell_type": "code",
      "source": [
        "coverage('jump_alignment_sorted.bam')"
      ],
      "metadata": {
        "colab": {
          "base_uri": "https://localhost:8080/",
          "height": 698
        },
        "id": "HWMGDNs8Zqjf",
        "outputId": "f149f331-c70a-4480-b519-972f7205671e"
      },
      "execution_count": null,
      "outputs": [
        {
          "output_type": "stream",
          "name": "stdout",
          "text": [
            "Среднее покрытие = 138.587\n",
            "Доля покрытого генома = 0.887\n"
          ]
        },
        {
          "output_type": "stream",
          "name": "stderr",
          "text": [
            "/usr/local/lib/python3.7/dist-packages/seaborn/_decorators.py:43: FutureWarning: Pass the following variables as keyword args: x, y. From version 0.12, the only valid positional argument will be `data`, and passing other arguments without an explicit keyword will result in an error or misinterpretation.\n",
            "  FutureWarning\n"
          ]
        },
        {
          "output_type": "display_data",
          "data": {
            "text/plain": [
              "<Figure size 1080x720 with 1 Axes>"
            ],
            "image/png": "[encoded data removed]"
          },
          "metadata": {}
        }
      ]
    },
    {
      "cell_type": "markdown",
      "metadata": {
        "id": "VUmUpcPzmzev"
      },
      "source": [
        "Итоговая табличка с результатами\n"
      ]
    },
    {
      "cell_type": "code",
      "execution_count": null,
      "metadata": {
        "id": "pC0VuJK8oUK_",
        "colab": {
          "base_uri": "https://localhost:8080/",
          "height": 112
        },
        "outputId": "09e35593-a553-49f0-8698-03e35cf41e10"
      },
      "outputs": [
        {
          "output_type": "execute_result",
          "data": {
            "text/plain": [
              "                    Среднее покрытие Доля покрытой области генома\n",
              "frag_alignment.sam           130.820                         100%\n",
              "jump_alignment.sam           138.587                        88.7%"
            ],
            "text/html": [
              "\n",
              "  <div id=\"df-f79f24cb-8543-40bb-9565-8f9d4170f058\">\n",
              "    <div class=\"colab-df-container\">\n",
              "      <div>\n",
              "<style scoped>\n",
              "    .dataframe tbody tr th:only-of-type {\n",
              "        vertical-align: middle;\n",
              "    }\n",
              "\n",
              "    .dataframe tbody tr th {\n",
              "        vertical-align: top;\n",
              "    }\n",
              "\n",
              "    .dataframe thead th {\n",
              "        text-align: right;\n",
              "    }\n",
              "</style>\n",
              "<table border=\"1\" class=\"dataframe\">\n",
              "  <thead>\n",
              "    <tr style=\"text-align: right;\">\n",
              "      <th></th>\n",
              "      <th>Среднее покрытие</th>\n",
              "      <th>Доля покрытой области генома</th>\n",
              "    </tr>\n",
              "  </thead>\n",
              "  <tbody>\n",
              "    <tr>\n",
              "      <th>frag_alignment.sam</th>\n",
              "      <td>130.820</td>\n",
              "      <td>100%</td>\n",
              "    </tr>\n",
              "    <tr>\n",
              "      <th>jump_alignment.sam</th>\n",
              "      <td>138.587</td>\n",
              "      <td>88.7%</td>\n",
              "    </tr>\n",
              "  </tbody>\n",
              "</table>\n",
              "</div>\n",
              "      <button class=\"colab-df-convert\" onclick=\"convertToInteractive('df-f79f24cb-8543-40bb-9565-8f9d4170f058')\"\n",
              "              title=\"Convert this dataframe to an interactive table.\"\n",
              "              style=\"display:none;\">\n",
              "        \n",
              "  <svg xmlns=\"http://www.w3.org/2000/svg\" height=\"24px\"viewBox=\"0 0 24 24\"\n",
              "       width=\"24px\">\n",
              "    <path d=\"M0 0h24v24H0V0z\" fill=\"none\"/>\n",
              "    <path d=\"M18.56 5.44l.94 2.06.94-2.06 2.06-.94-2.06-.94-.94-2.06-.94 2.06-2.06.94zm-11 1L8.5 8.5l.94-2.06 2.06-.94-2.06-.94L8.5 2.5l-.94 2.06-2.06.94zm10 10l.94 2.06.94-2.06 2.06-.94-2.06-.94-.94-2.06-.94 2.06-2.06.94z\"/><path d=\"M17.41 7.96l-1.37-1.37c-.4-.4-.92-.59-1.43-.59-.52 0-1.04.2-1.43.59L10.3 9.45l-7.72 7.72c-.78.78-.78 2.05 0 2.83L4 21.41c.39.39.9.59 1.41.59.51 0 1.02-.2 1.41-.59l7.78-7.78 2.81-2.81c.8-.78.8-2.07 0-2.86zM5.41 20L4 18.59l7.72-7.72 1.47 1.35L5.41 20z\"/>\n",
              "  </svg>\n",
              "      </button>\n",
              "      \n",
              "  <style>\n",
              "    .colab-df-container {\n",
              "      display:flex;\n",
              "      flex-wrap:wrap;\n",
              "      gap: 12px;\n",
              "    }\n",
              "\n",
              "    .colab-df-convert {\n",
              "      background-color: #E8F0FE;\n",
              "      border: none;\n",
              "      border-radius: 50%;\n",
              "      cursor: pointer;\n",
              "      display: none;\n",
              "      fill: #1967D2;\n",
              "      height: 32px;\n",
              "      padding: 0 0 0 0;\n",
              "      width: 32px;\n",
              "    }\n",
              "\n",
              "    .colab-df-convert:hover {\n",
              "      background-color: #E2EBFA;\n",
              "      box-shadow: 0px 1px 2px rgba(60, 64, 67, 0.3), 0px 1px 3px 1px rgba(60, 64, 67, 0.15);\n",
              "      fill: #174EA6;\n",
              "    }\n",
              "\n",
              "    [theme=dark] .colab-df-convert {\n",
              "      background-color: #3B4455;\n",
              "      fill: #D2E3FC;\n",
              "    }\n",
              "\n",
              "    [theme=dark] .colab-df-convert:hover {\n",
              "      background-color: #434B5C;\n",
              "      box-shadow: 0px 1px 3px 1px rgba(0, 0, 0, 0.15);\n",
              "      filter: drop-shadow(0px 1px 2px rgba(0, 0, 0, 0.3));\n",
              "      fill: #FFFFFF;\n",
              "    }\n",
              "  </style>\n",
              "\n",
              "      <script>\n",
              "        const buttonEl =\n",
              "          document.querySelector('#df-f79f24cb-8543-40bb-9565-8f9d4170f058 button.colab-df-convert');\n",
              "        buttonEl.style.display =\n",
              "          google.colab.kernel.accessAllowed ? 'block' : 'none';\n",
              "\n",
              "        async function convertToInteractive(key) {\n",
              "          const element = document.querySelector('#df-f79f24cb-8543-40bb-9565-8f9d4170f058');\n",
              "          const dataTable =\n",
              "            await google.colab.kernel.invokeFunction('convertToInteractive',\n",
              "                                                     [key], {});\n",
              "          if (!dataTable) return;\n",
              "\n",
              "          const docLinkHtml = 'Like what you see? Visit the ' +\n",
              "            '<a target=\"_blank\" href=https://colab.research.google.com/notebooks/data_table.ipynb>data table notebook</a>'\n",
              "            + ' to learn more about interactive tables.';\n",
              "          element.innerHTML = '';\n",
              "          dataTable['output_type'] = 'display_data';\n",
              "          await google.colab.output.renderOutput(dataTable, element);\n",
              "          const docLink = document.createElement('div');\n",
              "          docLink.innerHTML = docLinkHtml;\n",
              "          element.appendChild(docLink);\n",
              "        }\n",
              "      </script>\n",
              "    </div>\n",
              "  </div>\n",
              "  "
            ]
          },
          "metadata": {},
          "execution_count": 22
        }
      ],
      "source": [
        "data = {'Среднее покрытие':[130.82,\n",
        "                             138.587],\n",
        "        \n",
        "        'Доля покрытой области генома':['100%',\n",
        "                              '88.7%']}\n",
        "\n",
        "df = pd.DataFrame(data, index =['frag_alignment.sam',\n",
        "                                'jump_alignment.sam'])\n",
        "df"
      ]
    },
    {
      "cell_type": "markdown",
      "metadata": {
        "id": "JwoaU2Lno3Fo"
      },
      "source": [
        "# 2. Распределение расстояния вставки"
      ]
    },
    {
      "cell_type": "code",
      "source": [
        "!samtools view -f 67 -F 0x800 fr_alignment_sorted.bam | awk '{print $9}' > fr_stat.txt"
      ],
      "metadata": {
        "id": "5YDu9CFDUpiw"
      },
      "execution_count": null,
      "outputs": []
    },
    {
      "cell_type": "code",
      "source": [
        "def inserts(file):\n",
        "  insert = []\n",
        "  with open(file, 'r') as file:\n",
        "    for line in file:\n",
        "        number = line.strip()\n",
        "        num = int(number)\n",
        "        insert.append(abs(num))\n",
        "  insert = np.array(insert)\n",
        "  q1 = np.percentile(insert, 2.5)\n",
        "  q2 = np.percentile(insert, 97.5)\n",
        "  df = pd.DataFrame()\n",
        "  df['ins'] = insert\n",
        "  df['count'] = 1\n",
        "  df = df.groupby('ins').count()\n",
        "  print(f'Среднее расстояние вставки =  {round(insert.mean(), 2)}')\n",
        "  print(f'Среднеквадратичное отклонение = {round(insert.std(), 2)}')\n",
        "  print(f'Интервал минимальной ширины, в который попадает 95% ридов: [{round(q1, 3)}, {round(q2, 3)}]') \n",
        "  sns.set(rc={'figure.figsize':(15, 10)})\n",
        "  sns.lineplot(data=df, x=df.index, y=df['count'])\n",
        "  "
      ],
      "metadata": {
        "id": "Ya9oh8NvUt85"
      },
      "execution_count": 21,
      "outputs": []
    },
    {
      "cell_type": "code",
      "source": [
        "inserts('fr_stat.txt')"
      ],
      "metadata": {
        "colab": {
          "base_uri": "https://localhost:8080/",
          "height": 665
        },
        "id": "gtIjagbSX46F",
        "outputId": "41727749-747b-4e57-fc10-84607b0875c5"
      },
      "execution_count": null,
      "outputs": [
        {
          "output_type": "stream",
          "name": "stdout",
          "text": [
            "Среднее расстояние вставки =  266.21\n",
            "Среднеквадратичное отклонение = 61.04\n",
            "Интервал минимальной ширины, в который попадает 95% ридов: [173.0, 410.0]\n"
          ]
        },
        {
          "output_type": "display_data",
          "data": {
            "text/plain": [
              "<Figure size 1080x720 with 1 Axes>"
            ],
            "image/png": "[encoded data removed]"
          },
          "metadata": {}
        }
      ]
    },
    {
      "cell_type": "code",
      "source": [
        "!samtools stats jump_alignment_sorted.bam | grep ^IS | cut -f 2- > stats.txt"
      ],
      "metadata": {
        "id": "w30i7Ed0sTqv"
      },
      "execution_count": 90,
      "outputs": []
    },
    {
      "cell_type": "code",
      "source": [
        "insert = pd.read_table('stats.txt', sep='\\t', names=['IS', 'counts', '1', '2', '3'])\n",
        "mas = []\n",
        "num = insert['IS'] \n",
        "tot = insert['counts']\n",
        "for t in range(len(tot)):\n",
        "  for k in range(tot[t]):\n",
        "    mas.append(num[t])\n",
        "mas = np.array(mas)\n",
        "q1 = np.percentile(mas, 2.5)\n",
        "q2 = np.percentile(mas, 97.5)\n",
        "print(f'Среднее расстояние вставки =  {round(mas.mean(), 2)}')\n",
        "print(f'Среднеквадратичное отклонение = {round(mas.std(), 2)}')\n",
        "print(f'Интервал минимальной ширины, в который попадает 95% ридов: [{round(q1, 3)}, {round(q2, 3)}]')"
      ],
      "metadata": {
        "colab": {
          "base_uri": "https://localhost:8080/"
        },
        "id": "nZlCayhswjbr",
        "outputId": "b5d86048-3798-4d19-fecc-dc20aa90fd5e"
      },
      "execution_count": 91,
      "outputs": [
        {
          "output_type": "stream",
          "name": "stdout",
          "text": [
            "Среднее расстояние вставки =  7086.88\n",
            "Среднеквадратичное отклонение = 1554.0\n",
            "Интервал минимальной ширины, в который попадает 95% ридов: [0.0, 7999.0]\n"
          ]
        }
      ]
    },
    {
      "cell_type": "code",
      "source": [
        "sns.lineplot(data=insert, x='IS', y='counts')"
      ],
      "metadata": {
        "colab": {
          "base_uri": "https://localhost:8080/",
          "height": 629
        },
        "id": "NqBb8DoXWFYv",
        "outputId": "108be535-999c-42cc-d807-9195b4792445"
      },
      "execution_count": 92,
      "outputs": [
        {
          "output_type": "execute_result",
          "data": {
            "text/plain": [
              "<matplotlib.axes._subplots.AxesSubplot at 0x7fc003f22fd0>"
            ]
          },
          "metadata": {},
          "execution_count": 92
        },
        {
          "output_type": "display_data",
          "data": {
            "text/plain": [
              "<Figure size 1080x720 with 1 Axes>"
            ],
            "image/png": "[encoded data removed]"
          },
          "metadata": {}
        }
      ]
    },
    {
      "cell_type": "markdown",
      "source": [
        "Подрежем экстремальные значения."
      ],
      "metadata": {
        "id": "tgJ_YYeI1z3O"
      }
    },
    {
      "cell_type": "code",
      "source": [
        "num_mod = num[1:-1]\n",
        "tot_mod = tot[1:-1]\n",
        "sns.lineplot(num_mod, y=tot_mod)"
      ],
      "metadata": {
        "colab": {
          "base_uri": "https://localhost:8080/",
          "height": 685
        },
        "id": "T_k3mSVy1dm4",
        "outputId": "47837475-1b8f-4604-ed3d-73e4bd261af1"
      },
      "execution_count": 94,
      "outputs": [
        {
          "output_type": "stream",
          "name": "stderr",
          "text": [
            "/usr/local/lib/python3.7/dist-packages/seaborn/_decorators.py:43: FutureWarning: Pass the following variable as a keyword arg: x. From version 0.12, the only valid positional argument will be `data`, and passing other arguments without an explicit keyword will result in an error or misinterpretation.\n",
            "  FutureWarning\n"
          ]
        },
        {
          "output_type": "execute_result",
          "data": {
            "text/plain": [
              "<matplotlib.axes._subplots.AxesSubplot at 0x7fc000b88910>"
            ]
          },
          "metadata": {},
          "execution_count": 94
        },
        {
          "output_type": "display_data",
          "data": {
            "text/plain": [
              "<Figure size 1080x720 with 1 Axes>"
            ],
            "image/png": "[encoded data removed]"
          },
          "metadata": {}
        }
      ]
    },
    {
      "cell_type": "code",
      "source": [
        "data = {'Среднее расстояние вставки':[266.21,\n",
        "                             274.77],\n",
        "        \n",
        "        'Среднеквадратичное отклонение':[61.04,\n",
        "                             86.45],\n",
        "        \n",
        "        'Интервал минимальной ширины, в который попадает 95% ридов':['[173.0, 410.0]',\n",
        "                              '[157.0, 478.0]']}\n",
        "\n",
        "df = pd.DataFrame(data, index =['frag_alignment.sam',\n",
        "                                'jump_alignment.bam'])\n",
        "df"
      ],
      "metadata": {
        "colab": {
          "base_uri": "https://localhost:8080/",
          "height": 173
        },
        "id": "abNKOlojv-kU",
        "outputId": "d1618b36-ca8e-410b-efed-867dad76a86e"
      },
      "execution_count": null,
      "outputs": [
        {
          "output_type": "execute_result",
          "data": {
            "text/plain": [
              "                    Среднее расстояние вставки  Среднеквадратичное отклонение  \\\n",
              "frag_alignment.sam                      266.21                          61.04   \n",
              "jump_alignment.bam                      274.77                          86.45   \n",
              "\n",
              "                   Интервал минимальной ширины, в который попадает 95% ридов  \n",
              "frag_alignment.sam                                     [173.0, 410.0]         \n",
              "jump_alignment.bam                                     [157.0, 478.0]         "
            ],
            "text/html": [
              "\n",
              "  <div id=\"df-892b0c3c-5cb4-4c5e-9285-f2b94c9bfbe4\">\n",
              "    <div class=\"colab-df-container\">\n",
              "      <div>\n",
              "<style scoped>\n",
              "    .dataframe tbody tr th:only-of-type {\n",
              "        vertical-align: middle;\n",
              "    }\n",
              "\n",
              "    .dataframe tbody tr th {\n",
              "        vertical-align: top;\n",
              "    }\n",
              "\n",
              "    .dataframe thead th {\n",
              "        text-align: right;\n",
              "    }\n",
              "</style>\n",
              "<table border=\"1\" class=\"dataframe\">\n",
              "  <thead>\n",
              "    <tr style=\"text-align: right;\">\n",
              "      <th></th>\n",
              "      <th>Среднее расстояние вставки</th>\n",
              "      <th>Среднеквадратичное отклонение</th>\n",
              "      <th>Интервал минимальной ширины, в который попадает 95% ридов</th>\n",
              "    </tr>\n",
              "  </thead>\n",
              "  <tbody>\n",
              "    <tr>\n",
              "      <th>frag_alignment.sam</th>\n",
              "      <td>266.21</td>\n",
              "      <td>61.04</td>\n",
              "      <td>[173.0, 410.0]</td>\n",
              "    </tr>\n",
              "    <tr>\n",
              "      <th>jump_alignment.bam</th>\n",
              "      <td>274.77</td>\n",
              "      <td>86.45</td>\n",
              "      <td>[157.0, 478.0]</td>\n",
              "    </tr>\n",
              "  </tbody>\n",
              "</table>\n",
              "</div>\n",
              "      <button class=\"colab-df-convert\" onclick=\"convertToInteractive('df-892b0c3c-5cb4-4c5e-9285-f2b94c9bfbe4')\"\n",
              "              title=\"Convert this dataframe to an interactive table.\"\n",
              "              style=\"display:none;\">\n",
              "        \n",
              "  <svg xmlns=\"http://www.w3.org/2000/svg\" height=\"24px\"viewBox=\"0 0 24 24\"\n",
              "       width=\"24px\">\n",
              "    <path d=\"M0 0h24v24H0V0z\" fill=\"none\"/>\n",
              "    <path d=\"M18.56 5.44l.94 2.06.94-2.06 2.06-.94-2.06-.94-.94-2.06-.94 2.06-2.06.94zm-11 1L8.5 8.5l.94-2.06 2.06-.94-2.06-.94L8.5 2.5l-.94 2.06-2.06.94zm10 10l.94 2.06.94-2.06 2.06-.94-2.06-.94-.94-2.06-.94 2.06-2.06.94z\"/><path d=\"M17.41 7.96l-1.37-1.37c-.4-.4-.92-.59-1.43-.59-.52 0-1.04.2-1.43.59L10.3 9.45l-7.72 7.72c-.78.78-.78 2.05 0 2.83L4 21.41c.39.39.9.59 1.41.59.51 0 1.02-.2 1.41-.59l7.78-7.78 2.81-2.81c.8-.78.8-2.07 0-2.86zM5.41 20L4 18.59l7.72-7.72 1.47 1.35L5.41 20z\"/>\n",
              "  </svg>\n",
              "      </button>\n",
              "      \n",
              "  <style>\n",
              "    .colab-df-container {\n",
              "      display:flex;\n",
              "      flex-wrap:wrap;\n",
              "      gap: 12px;\n",
              "    }\n",
              "\n",
              "    .colab-df-convert {\n",
              "      background-color: #E8F0FE;\n",
              "      border: none;\n",
              "      border-radius: 50%;\n",
              "      cursor: pointer;\n",
              "      display: none;\n",
              "      fill: #1967D2;\n",
              "      height: 32px;\n",
              "      padding: 0 0 0 0;\n",
              "      width: 32px;\n",
              "    }\n",
              "\n",
              "    .colab-df-convert:hover {\n",
              "      background-color: #E2EBFA;\n",
              "      box-shadow: 0px 1px 2px rgba(60, 64, 67, 0.3), 0px 1px 3px 1px rgba(60, 64, 67, 0.15);\n",
              "      fill: #174EA6;\n",
              "    }\n",
              "\n",
              "    [theme=dark] .colab-df-convert {\n",
              "      background-color: #3B4455;\n",
              "      fill: #D2E3FC;\n",
              "    }\n",
              "\n",
              "    [theme=dark] .colab-df-convert:hover {\n",
              "      background-color: #434B5C;\n",
              "      box-shadow: 0px 1px 3px 1px rgba(0, 0, 0, 0.15);\n",
              "      filter: drop-shadow(0px 1px 2px rgba(0, 0, 0, 0.3));\n",
              "      fill: #FFFFFF;\n",
              "    }\n",
              "  </style>\n",
              "\n",
              "      <script>\n",
              "        const buttonEl =\n",
              "          document.querySelector('#df-892b0c3c-5cb4-4c5e-9285-f2b94c9bfbe4 button.colab-df-convert');\n",
              "        buttonEl.style.display =\n",
              "          google.colab.kernel.accessAllowed ? 'block' : 'none';\n",
              "\n",
              "        async function convertToInteractive(key) {\n",
              "          const element = document.querySelector('#df-892b0c3c-5cb4-4c5e-9285-f2b94c9bfbe4');\n",
              "          const dataTable =\n",
              "            await google.colab.kernel.invokeFunction('convertToInteractive',\n",
              "                                                     [key], {});\n",
              "          if (!dataTable) return;\n",
              "\n",
              "          const docLinkHtml = 'Like what you see? Visit the ' +\n",
              "            '<a target=\"_blank\" href=https://colab.research.google.com/notebooks/data_table.ipynb>data table notebook</a>'\n",
              "            + ' to learn more about interactive tables.';\n",
              "          element.innerHTML = '';\n",
              "          dataTable['output_type'] = 'display_data';\n",
              "          await google.colab.output.renderOutput(dataTable, element);\n",
              "          const docLink = document.createElement('div');\n",
              "          docLink.innerHTML = docLinkHtml;\n",
              "          element.appendChild(docLink);\n",
              "        }\n",
              "      </script>\n",
              "    </div>\n",
              "  </div>\n",
              "  "
            ]
          },
          "metadata": {},
          "execution_count": 51
        }
      ]
    },
    {
      "cell_type": "markdown",
      "metadata": {
        "id": "B5r4Rp_6qzPq"
      },
      "source": [
        "# 3. Частоты различных замен"
      ]
    },
    {
      "cell_type": "code",
      "source": [
        "!gunzip ref.fasta.gz"
      ],
      "metadata": {
        "id": "Ksl43qDidy6_"
      },
      "execution_count": null,
      "outputs": []
    },
    {
      "cell_type": "code",
      "source": [
        "from Bio import SeqIO\n",
        "for ref in SeqIO.parse('ref.fasta', 'fasta'):\n",
        "    genome = ref.seq"
      ],
      "metadata": {
        "id": "SOsfDU5-dt1c"
      },
      "execution_count": null,
      "outputs": []
    },
    {
      "cell_type": "code",
      "source": [
        "keys = ['A', 'C', 'G', 'T', '-']\n",
        "pairs = {key: {key: 0 for key in keys} for key in keys}\n",
        "samfile = pysam.AlignmentFile('fr_alignment.sam', \"r\")\n",
        "for read in samfile:\n",
        "    al = read.get_aligned_pairs()\n",
        "    read = read.query_sequence \n",
        "    for pair in al:\n",
        "        ind_read = pair[0]\n",
        "        ind_ref = pair[1]\n",
        "        if ind_read != None and ind_ref != None and read[ind_read]!='N' and genome[ind_ref]!='N':\n",
        "            pairs[read[ind_read]][genome[ind_ref]] += 1\n",
        "        elif ind_read is None and ind_ref is not None and genome[ind_ref] != 'N':\n",
        "            pairs['-'][genome[ind_ref]] += 1\n",
        "        elif ind_read is not None and ind_ref is None and read[ind_read] != 'N':\n",
        "            pairs[read[ind_read]]['-'] += 1"
      ],
      "metadata": {
        "id": "Dhy0A43yfLoC"
      },
      "execution_count": null,
      "outputs": []
    },
    {
      "cell_type": "code",
      "source": [
        "df = pd.DataFrame({'A':pairs['A'], 'T':pairs['T'], 'G':pairs['G'], 'C':pairs['C'], '-':pairs['-']})\n",
        "s = 0\n",
        "for i in pairs.keys():\n",
        "    s += sum(pairs[i].values())\n",
        "    s -= pairs[i][i]\n",
        "l = 0\n",
        "samfile = pysam.AlignmentFile('fr_alignment.sam', \"r\")\n",
        "for read in samfile.fetch():\n",
        "    read = read.query_sequence\n",
        "    l += len(read)\n",
        "print(f'Процент ошибок = {round(s / l * 100, 2)}')\n",
        "for i in range(5):\n",
        "    df.iloc[i,i] = 0\n",
        "df"
      ],
      "metadata": {
        "colab": {
          "base_uri": "https://localhost:8080/",
          "height": 224
        },
        "id": "fl8GoCyTirV4",
        "outputId": "7586a7fb-8386-4a8a-e583-fdf2f1a06b93"
      },
      "execution_count": null,
      "outputs": [
        {
          "output_type": "stream",
          "name": "stdout",
          "text": [
            "Процент ошибок = 3.26\n"
          ]
        },
        {
          "output_type": "execute_result",
          "data": {
            "text/plain": [
              "         A         T        G          C      -\n",
              "A        0    231225  1477185    2298352  42494\n",
              "C  1132733         0  2229790  164590465  50352\n",
              "G   527321   1136912        0    2222600  51917\n",
              "T   234948  63483445  2314922          0  43580\n",
              "-   113860    117617   272090     273430      0"
            ],
            "text/html": [
              "\n",
              "  <div id=\"df-2f7009ac-f169-49ee-9f65-8eb032d62f72\">\n",
              "    <div class=\"colab-df-container\">\n",
              "      <div>\n",
              "<style scoped>\n",
              "    .dataframe tbody tr th:only-of-type {\n",
              "        vertical-align: middle;\n",
              "    }\n",
              "\n",
              "    .dataframe tbody tr th {\n",
              "        vertical-align: top;\n",
              "    }\n",
              "\n",
              "    .dataframe thead th {\n",
              "        text-align: right;\n",
              "    }\n",
              "</style>\n",
              "<table border=\"1\" class=\"dataframe\">\n",
              "  <thead>\n",
              "    <tr style=\"text-align: right;\">\n",
              "      <th></th>\n",
              "      <th>A</th>\n",
              "      <th>T</th>\n",
              "      <th>G</th>\n",
              "      <th>C</th>\n",
              "      <th>-</th>\n",
              "    </tr>\n",
              "  </thead>\n",
              "  <tbody>\n",
              "    <tr>\n",
              "      <th>A</th>\n",
              "      <td>0</td>\n",
              "      <td>231225</td>\n",
              "      <td>1477185</td>\n",
              "      <td>2298352</td>\n",
              "      <td>42494</td>\n",
              "    </tr>\n",
              "    <tr>\n",
              "      <th>C</th>\n",
              "      <td>1132733</td>\n",
              "      <td>0</td>\n",
              "      <td>2229790</td>\n",
              "      <td>164590465</td>\n",
              "      <td>50352</td>\n",
              "    </tr>\n",
              "    <tr>\n",
              "      <th>G</th>\n",
              "      <td>527321</td>\n",
              "      <td>1136912</td>\n",
              "      <td>0</td>\n",
              "      <td>2222600</td>\n",
              "      <td>51917</td>\n",
              "    </tr>\n",
              "    <tr>\n",
              "      <th>T</th>\n",
              "      <td>234948</td>\n",
              "      <td>63483445</td>\n",
              "      <td>2314922</td>\n",
              "      <td>0</td>\n",
              "      <td>43580</td>\n",
              "    </tr>\n",
              "    <tr>\n",
              "      <th>-</th>\n",
              "      <td>113860</td>\n",
              "      <td>117617</td>\n",
              "      <td>272090</td>\n",
              "      <td>273430</td>\n",
              "      <td>0</td>\n",
              "    </tr>\n",
              "  </tbody>\n",
              "</table>\n",
              "</div>\n",
              "      <button class=\"colab-df-convert\" onclick=\"convertToInteractive('df-2f7009ac-f169-49ee-9f65-8eb032d62f72')\"\n",
              "              title=\"Convert this dataframe to an interactive table.\"\n",
              "              style=\"display:none;\">\n",
              "        \n",
              "  <svg xmlns=\"http://www.w3.org/2000/svg\" height=\"24px\"viewBox=\"0 0 24 24\"\n",
              "       width=\"24px\">\n",
              "    <path d=\"M0 0h24v24H0V0z\" fill=\"none\"/>\n",
              "    <path d=\"M18.56 5.44l.94 2.06.94-2.06 2.06-.94-2.06-.94-.94-2.06-.94 2.06-2.06.94zm-11 1L8.5 8.5l.94-2.06 2.06-.94-2.06-.94L8.5 2.5l-.94 2.06-2.06.94zm10 10l.94 2.06.94-2.06 2.06-.94-2.06-.94-.94-2.06-.94 2.06-2.06.94z\"/><path d=\"M17.41 7.96l-1.37-1.37c-.4-.4-.92-.59-1.43-.59-.52 0-1.04.2-1.43.59L10.3 9.45l-7.72 7.72c-.78.78-.78 2.05 0 2.83L4 21.41c.39.39.9.59 1.41.59.51 0 1.02-.2 1.41-.59l7.78-7.78 2.81-2.81c.8-.78.8-2.07 0-2.86zM5.41 20L4 18.59l7.72-7.72 1.47 1.35L5.41 20z\"/>\n",
              "  </svg>\n",
              "      </button>\n",
              "      \n",
              "  <style>\n",
              "    .colab-df-container {\n",
              "      display:flex;\n",
              "      flex-wrap:wrap;\n",
              "      gap: 12px;\n",
              "    }\n",
              "\n",
              "    .colab-df-convert {\n",
              "      background-color: #E8F0FE;\n",
              "      border: none;\n",
              "      border-radius: 50%;\n",
              "      cursor: pointer;\n",
              "      display: none;\n",
              "      fill: #1967D2;\n",
              "      height: 32px;\n",
              "      padding: 0 0 0 0;\n",
              "      width: 32px;\n",
              "    }\n",
              "\n",
              "    .colab-df-convert:hover {\n",
              "      background-color: #E2EBFA;\n",
              "      box-shadow: 0px 1px 2px rgba(60, 64, 67, 0.3), 0px 1px 3px 1px rgba(60, 64, 67, 0.15);\n",
              "      fill: #174EA6;\n",
              "    }\n",
              "\n",
              "    [theme=dark] .colab-df-convert {\n",
              "      background-color: #3B4455;\n",
              "      fill: #D2E3FC;\n",
              "    }\n",
              "\n",
              "    [theme=dark] .colab-df-convert:hover {\n",
              "      background-color: #434B5C;\n",
              "      box-shadow: 0px 1px 3px 1px rgba(0, 0, 0, 0.15);\n",
              "      filter: drop-shadow(0px 1px 2px rgba(0, 0, 0, 0.3));\n",
              "      fill: #FFFFFF;\n",
              "    }\n",
              "  </style>\n",
              "\n",
              "      <script>\n",
              "        const buttonEl =\n",
              "          document.querySelector('#df-2f7009ac-f169-49ee-9f65-8eb032d62f72 button.colab-df-convert');\n",
              "        buttonEl.style.display =\n",
              "          google.colab.kernel.accessAllowed ? 'block' : 'none';\n",
              "\n",
              "        async function convertToInteractive(key) {\n",
              "          const element = document.querySelector('#df-2f7009ac-f169-49ee-9f65-8eb032d62f72');\n",
              "          const dataTable =\n",
              "            await google.colab.kernel.invokeFunction('convertToInteractive',\n",
              "                                                     [key], {});\n",
              "          if (!dataTable) return;\n",
              "\n",
              "          const docLinkHtml = 'Like what you see? Visit the ' +\n",
              "            '<a target=\"_blank\" href=https://colab.research.google.com/notebooks/data_table.ipynb>data table notebook</a>'\n",
              "            + ' to learn more about interactive tables.';\n",
              "          element.innerHTML = '';\n",
              "          dataTable['output_type'] = 'display_data';\n",
              "          await google.colab.output.renderOutput(dataTable, element);\n",
              "          const docLink = document.createElement('div');\n",
              "          docLink.innerHTML = docLinkHtml;\n",
              "          element.appendChild(docLink);\n",
              "        }\n",
              "      </script>\n",
              "    </div>\n",
              "  </div>\n",
              "  "
            ]
          },
          "metadata": {},
          "execution_count": 16
        }
      ]
    },
    {
      "cell_type": "code",
      "source": [
        "keys = ['A', 'C', 'G', 'T', '-']\n",
        "pairs = {key: {key: 0 for key in keys} for key in keys}\n",
        "samfile = pysam.AlignmentFile('jump_alignment.sam', \"r\")\n",
        "for read in samfile:\n",
        "    al = read.get_aligned_pairs()\n",
        "    read = read.query_sequence \n",
        "    for pair in al:\n",
        "        ind_read = pair[0]\n",
        "        ind_ref = pair[1]\n",
        "        if ind_read != None and ind_ref != None and read[ind_read]!='N' and genome[ind_ref]!='N':\n",
        "            pairs[read[ind_read]][genome[ind_ref]] += 1\n",
        "        elif ind_read is None and ind_ref is not None and genome[ind_ref] != 'N':\n",
        "            pairs['-'][genome[ind_ref]] += 1\n",
        "        elif ind_read is not None and ind_ref is None and read[ind_read] != 'N':\n",
        "            pairs[read[ind_read]]['-'] += 1"
      ],
      "metadata": {
        "id": "KnF_UJxp7e7H"
      },
      "execution_count": null,
      "outputs": []
    },
    {
      "cell_type": "code",
      "source": [
        "df = pd.DataFrame({'A':pairs['A'], 'T':pairs['T'], 'G':pairs['G'], 'C':pairs['C'], '-':pairs['-']})\n",
        "s = 0\n",
        "for i in pairs.keys():\n",
        "    s += sum(pairs[i].values())\n",
        "    s -= pairs[i][i]\n",
        "l = 0\n",
        "samfile = pysam.AlignmentFile('jump_alignment.sam', \"r\")\n",
        "for read in samfile.fetch():\n",
        "    read = read.query_sequence\n",
        "    l += len(read)\n",
        "print(f'Процент ошибок = {round(s / l * 100, 2)}')\n",
        "for i in range(5):\n",
        "    df.iloc[i,i] = 0\n",
        "df"
      ],
      "metadata": {
        "colab": {
          "base_uri": "https://localhost:8080/",
          "height": 224
        },
        "id": "olwWfoLbjTLm",
        "outputId": "bc046aa5-7323-42cd-c80d-90ce9679a7e8"
      },
      "execution_count": null,
      "outputs": [
        {
          "output_type": "stream",
          "name": "stdout",
          "text": [
            "Процент ошибок = 1.55\n"
          ]
        },
        {
          "output_type": "execute_result",
          "data": {
            "text/plain": [
              "        A         T        G          C      -\n",
              "A       0     81971   823224    1233853  19053\n",
              "C  227204         0   872249  152987036  16586\n",
              "G  127226    228243        0     860601  17068\n",
              "T   81850  65375076  1250129          0  19503\n",
              "-   65926     66368   207259     204971      0"
            ],
            "text/html": [
              "\n",
              "  <div id=\"df-5ae01998-ffa0-4656-8191-c060ef38823c\">\n",
              "    <div class=\"colab-df-container\">\n",
              "      <div>\n",
              "<style scoped>\n",
              "    .dataframe tbody tr th:only-of-type {\n",
              "        vertical-align: middle;\n",
              "    }\n",
              "\n",
              "    .dataframe tbody tr th {\n",
              "        vertical-align: top;\n",
              "    }\n",
              "\n",
              "    .dataframe thead th {\n",
              "        text-align: right;\n",
              "    }\n",
              "</style>\n",
              "<table border=\"1\" class=\"dataframe\">\n",
              "  <thead>\n",
              "    <tr style=\"text-align: right;\">\n",
              "      <th></th>\n",
              "      <th>A</th>\n",
              "      <th>T</th>\n",
              "      <th>G</th>\n",
              "      <th>C</th>\n",
              "      <th>-</th>\n",
              "    </tr>\n",
              "  </thead>\n",
              "  <tbody>\n",
              "    <tr>\n",
              "      <th>A</th>\n",
              "      <td>0</td>\n",
              "      <td>81971</td>\n",
              "      <td>823224</td>\n",
              "      <td>1233853</td>\n",
              "      <td>19053</td>\n",
              "    </tr>\n",
              "    <tr>\n",
              "      <th>C</th>\n",
              "      <td>227204</td>\n",
              "      <td>0</td>\n",
              "      <td>872249</td>\n",
              "      <td>152987036</td>\n",
              "      <td>16586</td>\n",
              "    </tr>\n",
              "    <tr>\n",
              "      <th>G</th>\n",
              "      <td>127226</td>\n",
              "      <td>228243</td>\n",
              "      <td>0</td>\n",
              "      <td>860601</td>\n",
              "      <td>17068</td>\n",
              "    </tr>\n",
              "    <tr>\n",
              "      <th>T</th>\n",
              "      <td>81850</td>\n",
              "      <td>65375076</td>\n",
              "      <td>1250129</td>\n",
              "      <td>0</td>\n",
              "      <td>19503</td>\n",
              "    </tr>\n",
              "    <tr>\n",
              "      <th>-</th>\n",
              "      <td>65926</td>\n",
              "      <td>66368</td>\n",
              "      <td>207259</td>\n",
              "      <td>204971</td>\n",
              "      <td>0</td>\n",
              "    </tr>\n",
              "  </tbody>\n",
              "</table>\n",
              "</div>\n",
              "      <button class=\"colab-df-convert\" onclick=\"convertToInteractive('df-5ae01998-ffa0-4656-8191-c060ef38823c')\"\n",
              "              title=\"Convert this dataframe to an interactive table.\"\n",
              "              style=\"display:none;\">\n",
              "        \n",
              "  <svg xmlns=\"http://www.w3.org/2000/svg\" height=\"24px\"viewBox=\"0 0 24 24\"\n",
              "       width=\"24px\">\n",
              "    <path d=\"M0 0h24v24H0V0z\" fill=\"none\"/>\n",
              "    <path d=\"M18.56 5.44l.94 2.06.94-2.06 2.06-.94-2.06-.94-.94-2.06-.94 2.06-2.06.94zm-11 1L8.5 8.5l.94-2.06 2.06-.94-2.06-.94L8.5 2.5l-.94 2.06-2.06.94zm10 10l.94 2.06.94-2.06 2.06-.94-2.06-.94-.94-2.06-.94 2.06-2.06.94z\"/><path d=\"M17.41 7.96l-1.37-1.37c-.4-.4-.92-.59-1.43-.59-.52 0-1.04.2-1.43.59L10.3 9.45l-7.72 7.72c-.78.78-.78 2.05 0 2.83L4 21.41c.39.39.9.59 1.41.59.51 0 1.02-.2 1.41-.59l7.78-7.78 2.81-2.81c.8-.78.8-2.07 0-2.86zM5.41 20L4 18.59l7.72-7.72 1.47 1.35L5.41 20z\"/>\n",
              "  </svg>\n",
              "      </button>\n",
              "      \n",
              "  <style>\n",
              "    .colab-df-container {\n",
              "      display:flex;\n",
              "      flex-wrap:wrap;\n",
              "      gap: 12px;\n",
              "    }\n",
              "\n",
              "    .colab-df-convert {\n",
              "      background-color: #E8F0FE;\n",
              "      border: none;\n",
              "      border-radius: 50%;\n",
              "      cursor: pointer;\n",
              "      display: none;\n",
              "      fill: #1967D2;\n",
              "      height: 32px;\n",
              "      padding: 0 0 0 0;\n",
              "      width: 32px;\n",
              "    }\n",
              "\n",
              "    .colab-df-convert:hover {\n",
              "      background-color: #E2EBFA;\n",
              "      box-shadow: 0px 1px 2px rgba(60, 64, 67, 0.3), 0px 1px 3px 1px rgba(60, 64, 67, 0.15);\n",
              "      fill: #174EA6;\n",
              "    }\n",
              "\n",
              "    [theme=dark] .colab-df-convert {\n",
              "      background-color: #3B4455;\n",
              "      fill: #D2E3FC;\n",
              "    }\n",
              "\n",
              "    [theme=dark] .colab-df-convert:hover {\n",
              "      background-color: #434B5C;\n",
              "      box-shadow: 0px 1px 3px 1px rgba(0, 0, 0, 0.15);\n",
              "      filter: drop-shadow(0px 1px 2px rgba(0, 0, 0, 0.3));\n",
              "      fill: #FFFFFF;\n",
              "    }\n",
              "  </style>\n",
              "\n",
              "      <script>\n",
              "        const buttonEl =\n",
              "          document.querySelector('#df-5ae01998-ffa0-4656-8191-c060ef38823c button.colab-df-convert');\n",
              "        buttonEl.style.display =\n",
              "          google.colab.kernel.accessAllowed ? 'block' : 'none';\n",
              "\n",
              "        async function convertToInteractive(key) {\n",
              "          const element = document.querySelector('#df-5ae01998-ffa0-4656-8191-c060ef38823c');\n",
              "          const dataTable =\n",
              "            await google.colab.kernel.invokeFunction('convertToInteractive',\n",
              "                                                     [key], {});\n",
              "          if (!dataTable) return;\n",
              "\n",
              "          const docLinkHtml = 'Like what you see? Visit the ' +\n",
              "            '<a target=\"_blank\" href=https://colab.research.google.com/notebooks/data_table.ipynb>data table notebook</a>'\n",
              "            + ' to learn more about interactive tables.';\n",
              "          element.innerHTML = '';\n",
              "          dataTable['output_type'] = 'display_data';\n",
              "          await google.colab.output.renderOutput(dataTable, element);\n",
              "          const docLink = document.createElement('div');\n",
              "          docLink.innerHTML = docLinkHtml;\n",
              "          element.appendChild(docLink);\n",
              "        }\n",
              "      </script>\n",
              "    </div>\n",
              "  </div>\n",
              "  "
            ]
          },
          "metadata": {},
          "execution_count": 18
        }
      ]
    },
    {
      "cell_type": "code",
      "source": [
        "data = {'Процент ошибок':[3.26,\n",
        "                             1.55]}\n",
        "\n",
        "df = pd.DataFrame(data, index =['frag_alignment',\n",
        "                                'jump_alignment'])\n",
        "df"
      ],
      "metadata": {
        "colab": {
          "base_uri": "https://localhost:8080/",
          "height": 112
        },
        "id": "KY8lJVfFmPIH",
        "outputId": "ab3fb0e8-a6b0-4e34-e729-ac6963353ad9"
      },
      "execution_count": null,
      "outputs": [
        {
          "output_type": "execute_result",
          "data": {
            "text/plain": [
              "                Процент ошибок\n",
              "frag_alignment            3.26\n",
              "jump_alignment            1.55"
            ],
            "text/html": [
              "\n",
              "  <div id=\"df-ca78f1fc-a622-4008-8062-dd74b7d24220\">\n",
              "    <div class=\"colab-df-container\">\n",
              "      <div>\n",
              "<style scoped>\n",
              "    .dataframe tbody tr th:only-of-type {\n",
              "        vertical-align: middle;\n",
              "    }\n",
              "\n",
              "    .dataframe tbody tr th {\n",
              "        vertical-align: top;\n",
              "    }\n",
              "\n",
              "    .dataframe thead th {\n",
              "        text-align: right;\n",
              "    }\n",
              "</style>\n",
              "<table border=\"1\" class=\"dataframe\">\n",
              "  <thead>\n",
              "    <tr style=\"text-align: right;\">\n",
              "      <th></th>\n",
              "      <th>Процент ошибок</th>\n",
              "    </tr>\n",
              "  </thead>\n",
              "  <tbody>\n",
              "    <tr>\n",
              "      <th>frag_alignment</th>\n",
              "      <td>3.26</td>\n",
              "    </tr>\n",
              "    <tr>\n",
              "      <th>jump_alignment</th>\n",
              "      <td>1.55</td>\n",
              "    </tr>\n",
              "  </tbody>\n",
              "</table>\n",
              "</div>\n",
              "      <button class=\"colab-df-convert\" onclick=\"convertToInteractive('df-ca78f1fc-a622-4008-8062-dd74b7d24220')\"\n",
              "              title=\"Convert this dataframe to an interactive table.\"\n",
              "              style=\"display:none;\">\n",
              "        \n",
              "  <svg xmlns=\"http://www.w3.org/2000/svg\" height=\"24px\"viewBox=\"0 0 24 24\"\n",
              "       width=\"24px\">\n",
              "    <path d=\"M0 0h24v24H0V0z\" fill=\"none\"/>\n",
              "    <path d=\"M18.56 5.44l.94 2.06.94-2.06 2.06-.94-2.06-.94-.94-2.06-.94 2.06-2.06.94zm-11 1L8.5 8.5l.94-2.06 2.06-.94-2.06-.94L8.5 2.5l-.94 2.06-2.06.94zm10 10l.94 2.06.94-2.06 2.06-.94-2.06-.94-.94-2.06-.94 2.06-2.06.94z\"/><path d=\"M17.41 7.96l-1.37-1.37c-.4-.4-.92-.59-1.43-.59-.52 0-1.04.2-1.43.59L10.3 9.45l-7.72 7.72c-.78.78-.78 2.05 0 2.83L4 21.41c.39.39.9.59 1.41.59.51 0 1.02-.2 1.41-.59l7.78-7.78 2.81-2.81c.8-.78.8-2.07 0-2.86zM5.41 20L4 18.59l7.72-7.72 1.47 1.35L5.41 20z\"/>\n",
              "  </svg>\n",
              "      </button>\n",
              "      \n",
              "  <style>\n",
              "    .colab-df-container {\n",
              "      display:flex;\n",
              "      flex-wrap:wrap;\n",
              "      gap: 12px;\n",
              "    }\n",
              "\n",
              "    .colab-df-convert {\n",
              "      background-color: #E8F0FE;\n",
              "      border: none;\n",
              "      border-radius: 50%;\n",
              "      cursor: pointer;\n",
              "      display: none;\n",
              "      fill: #1967D2;\n",
              "      height: 32px;\n",
              "      padding: 0 0 0 0;\n",
              "      width: 32px;\n",
              "    }\n",
              "\n",
              "    .colab-df-convert:hover {\n",
              "      background-color: #E2EBFA;\n",
              "      box-shadow: 0px 1px 2px rgba(60, 64, 67, 0.3), 0px 1px 3px 1px rgba(60, 64, 67, 0.15);\n",
              "      fill: #174EA6;\n",
              "    }\n",
              "\n",
              "    [theme=dark] .colab-df-convert {\n",
              "      background-color: #3B4455;\n",
              "      fill: #D2E3FC;\n",
              "    }\n",
              "\n",
              "    [theme=dark] .colab-df-convert:hover {\n",
              "      background-color: #434B5C;\n",
              "      box-shadow: 0px 1px 3px 1px rgba(0, 0, 0, 0.15);\n",
              "      filter: drop-shadow(0px 1px 2px rgba(0, 0, 0, 0.3));\n",
              "      fill: #FFFFFF;\n",
              "    }\n",
              "  </style>\n",
              "\n",
              "      <script>\n",
              "        const buttonEl =\n",
              "          document.querySelector('#df-ca78f1fc-a622-4008-8062-dd74b7d24220 button.colab-df-convert');\n",
              "        buttonEl.style.display =\n",
              "          google.colab.kernel.accessAllowed ? 'block' : 'none';\n",
              "\n",
              "        async function convertToInteractive(key) {\n",
              "          const element = document.querySelector('#df-ca78f1fc-a622-4008-8062-dd74b7d24220');\n",
              "          const dataTable =\n",
              "            await google.colab.kernel.invokeFunction('convertToInteractive',\n",
              "                                                     [key], {});\n",
              "          if (!dataTable) return;\n",
              "\n",
              "          const docLinkHtml = 'Like what you see? Visit the ' +\n",
              "            '<a target=\"_blank\" href=https://colab.research.google.com/notebooks/data_table.ipynb>data table notebook</a>'\n",
              "            + ' to learn more about interactive tables.';\n",
              "          element.innerHTML = '';\n",
              "          dataTable['output_type'] = 'display_data';\n",
              "          await google.colab.output.renderOutput(dataTable, element);\n",
              "          const docLink = document.createElement('div');\n",
              "          docLink.innerHTML = docLinkHtml;\n",
              "          element.appendChild(docLink);\n",
              "        }\n",
              "      </script>\n",
              "    </div>\n",
              "  </div>\n",
              "  "
            ]
          },
          "metadata": {},
          "execution_count": 19
        }
      ]
    },
    {
      "cell_type": "markdown",
      "metadata": {
        "id": "TyRc-SOGXtaY"
      },
      "source": [
        "#Часть 2: анализ ридов IonTorrent\n",
        "##  Статистика ридов IonTorrent\n"
      ]
    },
    {
      "cell_type": "markdown",
      "metadata": {
        "id": "MqtaCeUcYPxW"
      },
      "source": [
        "***Реальные данные***"
      ]
    },
    {
      "cell_type": "code",
      "execution_count": null,
      "metadata": {
        "id": "5lFZuGBeX9h0",
        "colab": {
          "base_uri": "https://localhost:8080/"
        },
        "outputId": "d9e1b6e9-458b-4191-d05e-43006d4d65b6"
      },
      "outputs": [
        {
          "output_type": "stream",
          "name": "stderr",
          "text": [
            "Downloading...\n",
            "From: https://drive.google.com/uc?id=1Tu1EyQP45Wu-ibgUnf7Pw73UGpqQcyDp&confirm=t\n",
            "To: /content/B22-730.fastq.gz\n",
            "100%|██████████| 97.4M/97.4M [00:01<00:00, 94.7MB/s]\n"
          ]
        }
      ],
      "source": [
        "download_from_disk('1Tu1EyQP45Wu-ibgUnf7Pw73UGpqQcyDp')"
      ]
    },
    {
      "cell_type": "code",
      "execution_count": null,
      "metadata": {
        "id": "Oy3TXrlxX963",
        "colab": {
          "base_uri": "https://localhost:8080/"
        },
        "outputId": "f16d80c1-d9dc-44a9-eea7-a04cb5df2ce6"
      },
      "outputs": [
        {
          "output_type": "stream",
          "name": "stderr",
          "text": [
            "Downloading...\n",
            "From: https://drive.google.com/uc?id=194itwrkAOCd73oyYrO2E7spO_LyOtWz1&confirm=t\n",
            "To: /content/C24-698.fastq.gz\n",
            "100%|██████████| 97.4M/97.4M [00:00<00:00, 100MB/s]\n"
          ]
        }
      ],
      "source": [
        "download_from_disk('194itwrkAOCd73oyYrO2E7spO_LyOtWz1')"
      ]
    },
    {
      "cell_type": "markdown",
      "metadata": {
        "id": "DFYgTQYUYVqL"
      },
      "source": [
        "***Референсный геном***"
      ]
    },
    {
      "cell_type": "code",
      "execution_count": null,
      "metadata": {
        "id": "ZOUTij3FX-E0",
        "colab": {
          "base_uri": "https://localhost:8080/"
        },
        "outputId": "66450944-93e6-4001-af32-399b9d43a241"
      },
      "outputs": [
        {
          "output_type": "stream",
          "name": "stderr",
          "text": [
            "Downloading...\n",
            "From: https://drive.google.com/uc?id=1FKWaB4kcMtZWitippiOd_hRejwnyPYWD&confirm=t\n",
            "To: /content/DH10B-K12.fasta\n",
            "100%|██████████| 4.75M/4.75M [00:00<00:00, 167MB/s]\n"
          ]
        }
      ],
      "source": [
        "download_from_disk('1FKWaB4kcMtZWitippiOd_hRejwnyPYWD')"
      ]
    },
    {
      "cell_type": "code",
      "execution_count": null,
      "metadata": {
        "id": "aFA2FXKiYnhq",
        "colab": {
          "base_uri": "https://localhost:8080/"
        },
        "outputId": "1919f28f-0b1e-4715-ea0f-f3ea93d1ac1c"
      },
      "outputs": [
        {
          "output_type": "stream",
          "name": "stdout",
          "text": [
            "[bwa_index] Pack FASTA... 0.05 sec\n",
            "[bwa_index] Construct BWT for the packed sequence...\n",
            "[bwa_index] 1.36 seconds elapse.\n",
            "[bwa_index] Update BWT... 0.03 sec\n",
            "[bwa_index] Pack forward-only FASTA... 0.03 sec\n",
            "[bwa_index] Construct SA from BWT and Occ... 0.60 sec\n",
            "[main] Version: 0.7.17-r1188\n",
            "[main] CMD: bwa index DH10B-K12.fasta\n",
            "[main] Real time: 2.174 sec; CPU: 2.078 sec\n"
          ]
        }
      ],
      "source": [
        "!bwa index DH10B-K12.fasta"
      ]
    },
    {
      "cell_type": "code",
      "source": [
        "!bwa mem DH10B-K12.fasta B22-730.fastq.gz > tor_b_alignment.sam"
      ],
      "metadata": {
        "id": "WuP1LJ60AUbr",
        "colab": {
          "base_uri": "https://localhost:8080/"
        },
        "outputId": "d75686aa-4a3c-46fb-8c47-2ceb4754d4cd"
      },
      "execution_count": null,
      "outputs": [
        {
          "output_type": "stream",
          "name": "stdout",
          "text": [
            "[M::bwa_idx_load_from_disk] read 0 ALT contigs\n",
            "[M::process] read 30580 sequences (10000589 bp)...\n",
            "[M::process] read 30700 sequences (10000499 bp)...\n",
            "[M::mem_process_seqs] Processed 30580 reads in 6.169 CPU sec, 6.028 real sec\n",
            "[M::process] read 30654 sequences (10000464 bp)...\n",
            "[M::mem_process_seqs] Processed 30700 reads in 6.701 CPU sec, 6.519 real sec\n",
            "[M::process] read 30558 sequences (10000069 bp)...\n",
            "[M::mem_process_seqs] Processed 30654 reads in 7.316 CPU sec, 7.109 real sec\n",
            "[M::process] read 30468 sequences (10000148 bp)...\n",
            "[M::mem_process_seqs] Processed 30558 reads in 5.719 CPU sec, 5.444 real sec\n",
            "[M::process] read 30596 sequences (10000413 bp)...\n",
            "[M::mem_process_seqs] Processed 30468 reads in 5.855 CPU sec, 5.580 real sec\n",
            "[M::process] read 30514 sequences (10000381 bp)...\n",
            "[M::mem_process_seqs] Processed 30596 reads in 6.183 CPU sec, 5.906 real sec\n",
            "[M::process] read 30520 sequences (10000266 bp)...\n",
            "[M::mem_process_seqs] Processed 30514 reads in 5.663 CPU sec, 5.325 real sec\n",
            "[M::process] read 30396 sequences (10000010 bp)...\n",
            "[M::mem_process_seqs] Processed 30520 reads in 6.151 CPU sec, 5.889 real sec\n",
            "[M::process] read 30478 sequences (10000118 bp)...\n",
            "[M::mem_process_seqs] Processed 30396 reads in 5.854 CPU sec, 5.585 real sec\n",
            "[M::process] read 30562 sequences (10000033 bp)...\n",
            "[M::mem_process_seqs] Processed 30478 reads in 5.926 CPU sec, 5.696 real sec\n",
            "[M::process] read 30576 sequences (10000499 bp)...\n",
            "[M::mem_process_seqs] Processed 30562 reads in 5.891 CPU sec, 5.674 real sec\n",
            "[M::process] read 30436 sequences (10000698 bp)...\n",
            "[M::mem_process_seqs] Processed 30576 reads in 5.833 CPU sec, 5.608 real sec\n",
            "[M::process] read 30768 sequences (10000324 bp)...\n",
            "[M::mem_process_seqs] Processed 30436 reads in 6.108 CPU sec, 5.881 real sec\n",
            "[M::process] read 30638 sequences (10000103 bp)...\n",
            "[M::mem_process_seqs] Processed 30768 reads in 6.134 CPU sec, 5.911 real sec\n",
            "[M::process] read 30718 sequences (10000240 bp)...\n",
            "[M::mem_process_seqs] Processed 30638 reads in 6.677 CPU sec, 6.423 real sec\n",
            "[M::process] read 5759 sequences (1147709 bp)...\n",
            "[M::mem_process_seqs] Processed 30718 reads in 5.643 CPU sec, 5.552 real sec\n",
            "[M::mem_process_seqs] Processed 5759 reads in 0.710 CPU sec, 0.634 real sec\n",
            "[main] Version: 0.7.17-r1188\n",
            "[main] CMD: bwa mem DH10B-K12.fasta B22-730.fastq.gz\n",
            "[main] Real time: 95.146 sec; CPU: 98.719 sec\n"
          ]
        }
      ]
    },
    {
      "cell_type": "code",
      "source": [
        "!samtools sort tor_b_alignment.sam > tor_b_sorted.bam"
      ],
      "metadata": {
        "id": "c-UnDDtziOd6"
      },
      "execution_count": null,
      "outputs": []
    },
    {
      "cell_type": "code",
      "source": [
        "!samtools index tor_b_sorted.bam"
      ],
      "metadata": {
        "id": "WDyQsg3fiels"
      },
      "execution_count": null,
      "outputs": []
    },
    {
      "cell_type": "code",
      "source": [
        "!bwa mem DH10B-K12.fasta C24-698.fastq.gz > tor_c_alignment.sam"
      ],
      "metadata": {
        "colab": {
          "base_uri": "https://localhost:8080/"
        },
        "outputId": "2364bac3-d974-4115-a0dd-e0fdcc57a7c7",
        "id": "KNWiW-ZXnaiK"
      },
      "execution_count": null,
      "outputs": [
        {
          "output_type": "stream",
          "name": "stdout",
          "text": [
            "[M::bwa_idx_load_from_disk] read 0 ALT contigs\n",
            "[M::process] read 40748 sequences (10000257 bp)...\n",
            "[M::process] read 40830 sequences (10000256 bp)...\n",
            "[M::mem_process_seqs] Processed 40748 reads in 4.312 CPU sec, 4.169 real sec\n",
            "[M::process] read 40678 sequences (10000475 bp)...\n",
            "[M::mem_process_seqs] Processed 40830 reads in 4.431 CPU sec, 4.180 real sec\n",
            "[M::process] read 40934 sequences (10000123 bp)...\n",
            "[M::mem_process_seqs] Processed 40678 reads in 5.188 CPU sec, 4.933 real sec\n",
            "[M::process] read 40668 sequences (10000353 bp)...\n",
            "[M::mem_process_seqs] Processed 40934 reads in 4.039 CPU sec, 3.787 real sec\n",
            "[M::process] read 40714 sequences (10000220 bp)...\n",
            "[M::mem_process_seqs] Processed 40668 reads in 3.910 CPU sec, 3.650 real sec\n",
            "[M::process] read 40714 sequences (10000207 bp)...\n",
            "[M::mem_process_seqs] Processed 40714 reads in 4.336 CPU sec, 4.092 real sec\n",
            "[M::process] read 40584 sequences (10000468 bp)...\n",
            "[M::mem_process_seqs] Processed 40714 reads in 4.016 CPU sec, 3.777 real sec\n",
            "[M::process] read 40728 sequences (10000278 bp)...\n",
            "[M::mem_process_seqs] Processed 40584 reads in 4.229 CPU sec, 3.964 real sec\n",
            "[M::process] read 40746 sequences (10000126 bp)...\n",
            "[M::mem_process_seqs] Processed 40728 reads in 4.021 CPU sec, 3.713 real sec\n",
            "[M::process] read 40890 sequences (10000295 bp)...\n",
            "[M::mem_process_seqs] Processed 40746 reads in 4.258 CPU sec, 3.878 real sec\n",
            "[M::process] read 40758 sequences (10000106 bp)...\n",
            "[M::mem_process_seqs] Processed 40890 reads in 4.355 CPU sec, 3.989 real sec\n",
            "[M::process] read 40668 sequences (10000113 bp)...\n",
            "[M::mem_process_seqs] Processed 40758 reads in 4.376 CPU sec, 4.005 real sec\n",
            "[M::process] read 40834 sequences (10000508 bp)...\n",
            "[M::mem_process_seqs] Processed 40668 reads in 4.351 CPU sec, 3.997 real sec\n",
            "[M::process] read 40740 sequences (10000085 bp)...\n",
            "[M::mem_process_seqs] Processed 40834 reads in 4.554 CPU sec, 4.211 real sec\n",
            "[M::process] read 40748 sequences (10000509 bp)...\n",
            "[M::mem_process_seqs] Processed 40740 reads in 4.636 CPU sec, 4.272 real sec\n",
            "[M::process] read 33424 sequences (7905189 bp)...\n",
            "[M::mem_process_seqs] Processed 40748 reads in 4.639 CPU sec, 4.322 real sec\n",
            "[M::mem_process_seqs] Processed 33424 reads in 3.271 CPU sec, 3.066 real sec\n",
            "[main] Version: 0.7.17-r1188\n",
            "[main] CMD: bwa mem DH10B-K12.fasta C24-698.fastq.gz\n",
            "[main] Real time: 68.496 sec; CPU: 73.182 sec\n"
          ]
        }
      ]
    },
    {
      "cell_type": "code",
      "source": [
        "!samtools sort tor_c_alignment.sam > tor_c_sorted.bam"
      ],
      "metadata": {
        "id": "jgsIeIKUnaiN"
      },
      "execution_count": null,
      "outputs": []
    },
    {
      "cell_type": "code",
      "source": [
        "!samtools index tor_c_sorted.bam"
      ],
      "metadata": {
        "id": "fsPsVcg4naiN"
      },
      "execution_count": null,
      "outputs": []
    },
    {
      "cell_type": "markdown",
      "source": [
        "## B22-730.fastq"
      ],
      "metadata": {
        "id": "oh_hpQ0_nGAD"
      }
    },
    {
      "cell_type": "code",
      "source": [
        "reference = SeqIO.read('DH10B-K12.fasta', 'fasta').seq"
      ],
      "metadata": {
        "id": "llbIKEu0mvgX"
      },
      "execution_count": null,
      "outputs": []
    },
    {
      "cell_type": "code",
      "execution_count": null,
      "metadata": {
        "id": "QQfwWP2cFxxm",
        "colab": {
          "base_uri": "https://localhost:8080/",
          "height": 698
        },
        "outputId": "c4050e28-85a7-45a6-9bf3-a91bd1bd4ece"
      },
      "outputs": [
        {
          "output_type": "stream",
          "name": "stdout",
          "text": [
            "Среднее покрытие = 34.037\n",
            "Доля покрытого генома = 1.0\n"
          ]
        },
        {
          "output_type": "stream",
          "name": "stderr",
          "text": [
            "/usr/local/lib/python3.7/dist-packages/seaborn/_decorators.py:43: FutureWarning: Pass the following variables as keyword args: x, y. From version 0.12, the only valid positional argument will be `data`, and passing other arguments without an explicit keyword will result in an error or misinterpretation.\n",
            "  FutureWarning\n"
          ]
        },
        {
          "output_type": "display_data",
          "data": {
            "text/plain": [
              "<Figure size 1080x720 with 1 Axes>"
            ],
            "image/png": "[encoded data removed]"
          },
          "metadata": {}
        }
      ],
      "source": [
        "coverage('tor_b_sorted.bam')"
      ]
    },
    {
      "cell_type": "code",
      "source": [
        "!samtools stats tor_b_sorted.bam | grep ID > tor_b_stats.txt"
      ],
      "metadata": {
        "id": "BNGz76WMG4kQ"
      },
      "execution_count": null,
      "outputs": []
    },
    {
      "cell_type": "code",
      "source": [
        "def indel(file):\n",
        "  with open(file, 'r') as f:\n",
        "    l = [line.strip() for line in f]\n",
        "    IS = [0] * (len(l) - 1)\n",
        "    COUNT = [0] * (len(l) - 1)\n",
        "    sum_DEL = 0\n",
        "    count_DEL = 0\n",
        "    sum_INS = 0\n",
        "    count_INS = 0\n",
        "    for i in range(1, len(l)):\n",
        "      a = l[i].split('\\t')\n",
        "      IS[i - 1] = int(a[1])\n",
        "      sum_DEL += int(a[1]) * int(a[2])\n",
        "      sum_INS += int(a[1]) * int(a[3])\n",
        "      count_DEL += int(a[2])\n",
        "      count_INS += int(a[3])\n",
        "      COUNT[i - 1] = int(a[2]) + int(a[3])\n",
        "  mean_DEL = sum_DEL / count_DEL\n",
        "  mean_INS = sum_INS / count_INS\n",
        "  print(f'Средняя длина делеции = {round(mean_DEL, 3)}', f'Средняя длина вставки = {round(mean_INS, 3)}')\n",
        "  df = pd.DataFrame()\n",
        "  df['indel size'] = IS\n",
        "  df['count'] = COUNT\n",
        "  sns.set(rc={'figure.figsize':(15, 10)})\n",
        "  sns.lineplot(data=df, x=df['indel size'], y=df['count'])"
      ],
      "metadata": {
        "id": "GmPWy9MJI6si"
      },
      "execution_count": null,
      "outputs": []
    },
    {
      "cell_type": "code",
      "source": [
        "indel('tor_b_stats.txt')"
      ],
      "metadata": {
        "colab": {
          "base_uri": "https://localhost:8080/",
          "height": 629
        },
        "id": "3YiCAj3ZJqvw",
        "outputId": "222fdcd8-b416-44ec-faff-6c1f0e382964"
      },
      "execution_count": null,
      "outputs": [
        {
          "output_type": "stream",
          "name": "stdout",
          "text": [
            "Средняя длина делеции = 1.09 Средняя длина вставки = 1.064\n"
          ]
        },
        {
          "output_type": "display_data",
          "data": {
            "text/plain": [
              "<Figure size 1080x720 with 1 Axes>"
            ],
            "image/png": "[encoded data removed]"
          },
          "metadata": {}
        }
      ]
    },
    {
      "cell_type": "code",
      "source": [
        "from Bio import SeqIO\n",
        "for ref in SeqIO.parse('DH10B-K12.fasta', 'fasta'):\n",
        "    genome = ref.seq"
      ],
      "metadata": {
        "id": "YmOe8JgSoVVe"
      },
      "execution_count": null,
      "outputs": []
    },
    {
      "cell_type": "code",
      "source": [
        "keys = ['A', 'C', 'G', 'T', '-']\n",
        "pairs = {key: {key: 0 for key in keys} for key in keys}\n",
        "samfile = pysam.AlignmentFile('tor_b_alignment.sam', \"r\")\n",
        "for read in samfile:\n",
        "    al = read.get_aligned_pairs()\n",
        "    read = read.query_sequence \n",
        "    for pair in al:\n",
        "        ind_read = pair[0]\n",
        "        ind_ref = pair[1]\n",
        "        if ind_read != None and ind_ref != None and read[ind_read]!='N' and genome[ind_ref]!='N':\n",
        "            pairs[read[ind_read]][genome[ind_ref]] += 1\n",
        "        elif ind_read is None and ind_ref is not None and genome[ind_ref] != 'N':\n",
        "            pairs['-'][genome[ind_ref]] += 1\n",
        "        elif ind_read is not None and ind_ref is None and read[ind_read] != 'N':\n",
        "            pairs[read[ind_read]]['-'] += 1"
      ],
      "metadata": {
        "id": "5yO8xrILoVVf"
      },
      "execution_count": null,
      "outputs": []
    },
    {
      "cell_type": "code",
      "source": [
        "df = pd.DataFrame({'A':pairs['A'], 'T':pairs['T'], 'G':pairs['G'], 'C':pairs['C'], '-':pairs['-']})\n",
        "s = 0\n",
        "for i in pairs.keys():\n",
        "    s += sum(pairs[i].values())\n",
        "    s -= pairs[i][i]\n",
        "l = 0\n",
        "samfile = pysam.AlignmentFile('tor_b_alignment.sam', \"r\")\n",
        "for read in samfile.fetch():\n",
        "    read = read.query_sequence\n",
        "    l += len(read)\n",
        "print(f'Процент ошибок = {round(s / l * 100, 2)}')\n",
        "for i in range(5):\n",
        "    df.iloc[i,i] = 0\n",
        "df"
      ],
      "metadata": {
        "colab": {
          "base_uri": "https://localhost:8080/",
          "height": 224
        },
        "outputId": "9e2434f5-cbd1-4005-c13a-dfab1a42bf7d",
        "id": "t9burd62oVVf"
      },
      "execution_count": null,
      "outputs": [
        {
          "output_type": "stream",
          "name": "stdout",
          "text": [
            "Процент ошибок = 1.61\n"
          ]
        },
        {
          "output_type": "execute_result",
          "data": {
            "text/plain": [
              "        A         T       G         C       -\n",
              "A       0     11173   23657      9147  119254\n",
              "C   10360         0    8092  39493809   72479\n",
              "G   17215     10563       0      7209   72804\n",
              "T   11325  40010171    9060         0  119372\n",
              "-  590244    591824  440955    442044       0"
            ],
            "text/html": [
              "\n",
              "  <div id=\"df-ac503b12-3f0a-4a6c-afab-1ef140813702\">\n",
              "    <div class=\"colab-df-container\">\n",
              "      <div>\n",
              "<style scoped>\n",
              "    .dataframe tbody tr th:only-of-type {\n",
              "        vertical-align: middle;\n",
              "    }\n",
              "\n",
              "    .dataframe tbody tr th {\n",
              "        vertical-align: top;\n",
              "    }\n",
              "\n",
              "    .dataframe thead th {\n",
              "        text-align: right;\n",
              "    }\n",
              "</style>\n",
              "<table border=\"1\" class=\"dataframe\">\n",
              "  <thead>\n",
              "    <tr style=\"text-align: right;\">\n",
              "      <th></th>\n",
              "      <th>A</th>\n",
              "      <th>T</th>\n",
              "      <th>G</th>\n",
              "      <th>C</th>\n",
              "      <th>-</th>\n",
              "    </tr>\n",
              "  </thead>\n",
              "  <tbody>\n",
              "    <tr>\n",
              "      <th>A</th>\n",
              "      <td>0</td>\n",
              "      <td>11173</td>\n",
              "      <td>23657</td>\n",
              "      <td>9147</td>\n",
              "      <td>119254</td>\n",
              "    </tr>\n",
              "    <tr>\n",
              "      <th>C</th>\n",
              "      <td>10360</td>\n",
              "      <td>0</td>\n",
              "      <td>8092</td>\n",
              "      <td>39493809</td>\n",
              "      <td>72479</td>\n",
              "    </tr>\n",
              "    <tr>\n",
              "      <th>G</th>\n",
              "      <td>17215</td>\n",
              "      <td>10563</td>\n",
              "      <td>0</td>\n",
              "      <td>7209</td>\n",
              "      <td>72804</td>\n",
              "    </tr>\n",
              "    <tr>\n",
              "      <th>T</th>\n",
              "      <td>11325</td>\n",
              "      <td>40010171</td>\n",
              "      <td>9060</td>\n",
              "      <td>0</td>\n",
              "      <td>119372</td>\n",
              "    </tr>\n",
              "    <tr>\n",
              "      <th>-</th>\n",
              "      <td>590244</td>\n",
              "      <td>591824</td>\n",
              "      <td>440955</td>\n",
              "      <td>442044</td>\n",
              "      <td>0</td>\n",
              "    </tr>\n",
              "  </tbody>\n",
              "</table>\n",
              "</div>\n",
              "      <button class=\"colab-df-convert\" onclick=\"convertToInteractive('df-ac503b12-3f0a-4a6c-afab-1ef140813702')\"\n",
              "              title=\"Convert this dataframe to an interactive table.\"\n",
              "              style=\"display:none;\">\n",
              "        \n",
              "  <svg xmlns=\"http://www.w3.org/2000/svg\" height=\"24px\"viewBox=\"0 0 24 24\"\n",
              "       width=\"24px\">\n",
              "    <path d=\"M0 0h24v24H0V0z\" fill=\"none\"/>\n",
              "    <path d=\"M18.56 5.44l.94 2.06.94-2.06 2.06-.94-2.06-.94-.94-2.06-.94 2.06-2.06.94zm-11 1L8.5 8.5l.94-2.06 2.06-.94-2.06-.94L8.5 2.5l-.94 2.06-2.06.94zm10 10l.94 2.06.94-2.06 2.06-.94-2.06-.94-.94-2.06-.94 2.06-2.06.94z\"/><path d=\"M17.41 7.96l-1.37-1.37c-.4-.4-.92-.59-1.43-.59-.52 0-1.04.2-1.43.59L10.3 9.45l-7.72 7.72c-.78.78-.78 2.05 0 2.83L4 21.41c.39.39.9.59 1.41.59.51 0 1.02-.2 1.41-.59l7.78-7.78 2.81-2.81c.8-.78.8-2.07 0-2.86zM5.41 20L4 18.59l7.72-7.72 1.47 1.35L5.41 20z\"/>\n",
              "  </svg>\n",
              "      </button>\n",
              "      \n",
              "  <style>\n",
              "    .colab-df-container {\n",
              "      display:flex;\n",
              "      flex-wrap:wrap;\n",
              "      gap: 12px;\n",
              "    }\n",
              "\n",
              "    .colab-df-convert {\n",
              "      background-color: #E8F0FE;\n",
              "      border: none;\n",
              "      border-radius: 50%;\n",
              "      cursor: pointer;\n",
              "      display: none;\n",
              "      fill: #1967D2;\n",
              "      height: 32px;\n",
              "      padding: 0 0 0 0;\n",
              "      width: 32px;\n",
              "    }\n",
              "\n",
              "    .colab-df-convert:hover {\n",
              "      background-color: #E2EBFA;\n",
              "      box-shadow: 0px 1px 2px rgba(60, 64, 67, 0.3), 0px 1px 3px 1px rgba(60, 64, 67, 0.15);\n",
              "      fill: #174EA6;\n",
              "    }\n",
              "\n",
              "    [theme=dark] .colab-df-convert {\n",
              "      background-color: #3B4455;\n",
              "      fill: #D2E3FC;\n",
              "    }\n",
              "\n",
              "    [theme=dark] .colab-df-convert:hover {\n",
              "      background-color: #434B5C;\n",
              "      box-shadow: 0px 1px 3px 1px rgba(0, 0, 0, 0.15);\n",
              "      filter: drop-shadow(0px 1px 2px rgba(0, 0, 0, 0.3));\n",
              "      fill: #FFFFFF;\n",
              "    }\n",
              "  </style>\n",
              "\n",
              "      <script>\n",
              "        const buttonEl =\n",
              "          document.querySelector('#df-ac503b12-3f0a-4a6c-afab-1ef140813702 button.colab-df-convert');\n",
              "        buttonEl.style.display =\n",
              "          google.colab.kernel.accessAllowed ? 'block' : 'none';\n",
              "\n",
              "        async function convertToInteractive(key) {\n",
              "          const element = document.querySelector('#df-ac503b12-3f0a-4a6c-afab-1ef140813702');\n",
              "          const dataTable =\n",
              "            await google.colab.kernel.invokeFunction('convertToInteractive',\n",
              "                                                     [key], {});\n",
              "          if (!dataTable) return;\n",
              "\n",
              "          const docLinkHtml = 'Like what you see? Visit the ' +\n",
              "            '<a target=\"_blank\" href=https://colab.research.google.com/notebooks/data_table.ipynb>data table notebook</a>'\n",
              "            + ' to learn more about interactive tables.';\n",
              "          element.innerHTML = '';\n",
              "          dataTable['output_type'] = 'display_data';\n",
              "          await google.colab.output.renderOutput(dataTable, element);\n",
              "          const docLink = document.createElement('div');\n",
              "          docLink.innerHTML = docLinkHtml;\n",
              "          element.appendChild(docLink);\n",
              "        }\n",
              "      </script>\n",
              "    </div>\n",
              "  </div>\n",
              "  "
            ]
          },
          "metadata": {},
          "execution_count": 56
        }
      ]
    },
    {
      "cell_type": "code",
      "source": [
        "def qual(alignment):\n",
        "    letters = ['a', 'c', 'g', 't']\n",
        "    bam = pysam.AlignmentFile(alignment, 'rb')\n",
        "    ins_qual = []\n",
        "    mismatch_qual = []\n",
        "    for line in bam.fetch(bam.get_reference_name(0)):\n",
        "        ci, c = 0, 0\n",
        "        cigar = line.cigartuples\n",
        "        read_len = line.query_length\n",
        "        pairs = line.get_aligned_pairs(with_seq=True)\n",
        "        qual = line.query_alignment_qualities\n",
        "        for s in cigar:\n",
        "            if s[0] == 0: \n",
        "                for ip, p in enumerate(pairs[ci:ci + s[1]]):\n",
        "                    if p[2] in letters:\n",
        "                        mismatch_qual.append(round(qual[c + ip], 2))\n",
        "            elif s[0] == 1:\n",
        "                for ip, p in enumerate(pairs[ci:ci + s[1]]):\n",
        "                    if p[0] is not None:\n",
        "                        ins_qual.append(round(qual[c + ip], 2))\n",
        "            ci += s[1]\n",
        "            if s[0] != 2 and s[0] != 4 and s[0] != 5:\n",
        "                c += s[1]\n",
        "    df_i = pd.DataFrame()\n",
        "    df_i['Длина'] = ins_qual\n",
        "    df_i['Количество'] = 1\n",
        "    df_i = df_i.groupby('Длина').count()\n",
        "    ins_qual = np.array(ins_qual)   \n",
        "    print(f'Среднее качество нуклеотида при ошибочно вставленном нуклеотиде: {round(ins_qual.mean(), 2)}')\n",
        "    print(f'Среднеквадратичное отклонение = {round(ins_qual.std(), 2)}')\n",
        "    sns.set(rc={'figure.figsize':(15, 10)})\n",
        "    sns.lineplot(data=df_i, x=df_i.index, y=df_i['Количество'])\n",
        "\n",
        "    df_m = pd.DataFrame()\n",
        "    df_m['mis'] = mismatch_qual\n",
        "    df_m['Количество'] = 1\n",
        "    df_m = df_m.groupby('mis').count()\n",
        "    mismatch_qual = np.array(mismatch_qual)\n",
        "    print(f'Среднее качество нуклеотида при замене: {round(np.mean(mismatch_qual), 2)}')\n",
        "    print(f'Среднеквадратичное отклонение = {round(mismatch_qual.std(), 2)}')\n",
        "    sns.set(rc={'figure.figsize':(15, 10)})\n",
        "    sns.lineplot(data=df_m, x=df_m.index, y=df_m['Количество'])\n",
        "    plt.legend(labels=[\"Ошибочно вставленный нуклеотид\",\"Замена\"], title = \"Среднее качество нуклеотида\")"
      ],
      "metadata": {
        "id": "XLZ0Kg5QnTly"
      },
      "execution_count": null,
      "outputs": []
    },
    {
      "cell_type": "code",
      "source": [
        "qual('tor_b_sorted.bam')"
      ],
      "metadata": {
        "colab": {
          "base_uri": "https://localhost:8080/",
          "height": 682
        },
        "id": "1P4k0mZCvBmO",
        "outputId": "f7e79593-9cfa-42a2-dfb3-c4663b267563"
      },
      "execution_count": null,
      "outputs": [
        {
          "output_type": "stream",
          "name": "stdout",
          "text": [
            "Среднее качество нуклеотида при ошибочно вставленном нуклеотиде: 16.09\n",
            "Среднеквадратичное отклонение = 5.88\n",
            "Среднее качество нуклеотида при замене: 19.14\n",
            "Среднеквадратичное отклонение = 8.04\n"
          ]
        },
        {
          "output_type": "display_data",
          "data": {
            "text/plain": [
              "<Figure size 1080x720 with 1 Axes>"
            ],
            "image/png": "[encoded data removed]"
          },
          "metadata": {}
        }
      ]
    },
    {
      "cell_type": "code",
      "source": [
        "def homopolymer(file):\n",
        "  indels_sum = 0\n",
        "  homo_indels_sum = 0\n",
        "  for position in file.pileup():\n",
        "    position_values = position.get_query_sequences(add_indels=True)\n",
        "    pileups = position.pileups\n",
        "    for read in pileups:\n",
        "      if read.indel:\n",
        "        indels_sum += 1\n",
        "        alignment = read.alignment\n",
        "        end = alignment.query_alignment_sequence[read.query_position_or_next - 2 : read.query_position_or_next]\n",
        "        start = alignment.query_alignment_sequence[read.query_position_or_next: read.query_position_or_next + 2]\n",
        "        if start in ['AA', 'CC', 'TT', 'GG'] or end in ['AA', 'CC', 'TT', 'GG']:\n",
        "          homo_indels_sum += 1\n",
        "  print(f'Процент инделов, находящихся рядом с гомополимерными участками = {round(homo_indels_sum / indels_sum * 100, 2)}')"
      ],
      "metadata": {
        "id": "dw0_kVxftT-h"
      },
      "execution_count": null,
      "outputs": []
    },
    {
      "cell_type": "code",
      "source": [
        "sam_b = pysam.AlignmentFile('tor_b_sorted.bam', \"rb\")\n",
        "homopolymer(sam_b)"
      ],
      "metadata": {
        "colab": {
          "base_uri": "https://localhost:8080/"
        },
        "id": "oftK2z-M2vs5",
        "outputId": "979d9eb5-6865-47fa-e290-9f757fc68a6d"
      },
      "execution_count": null,
      "outputs": [
        {
          "output_type": "stream",
          "name": "stdout",
          "text": [
            "Процент инделов, находящихся рядом с гомополимерными участками = 28.19\n"
          ]
        }
      ]
    },
    {
      "cell_type": "markdown",
      "source": [
        "## C24-698.fastq"
      ],
      "metadata": {
        "id": "sZqw_TWFnL3k"
      }
    },
    {
      "cell_type": "code",
      "source": [
        "reference = SeqIO.read('DH10B-K12.fasta', 'fasta').seq"
      ],
      "metadata": {
        "id": "t7GiZ7KceMkc"
      },
      "execution_count": null,
      "outputs": []
    },
    {
      "cell_type": "code",
      "source": [
        "coverage('tor_c_sorted.bam')"
      ],
      "metadata": {
        "colab": {
          "base_uri": "https://localhost:8080/",
          "height": 698
        },
        "id": "21UduvoJnTeu",
        "outputId": "7e2b9d77-5e34-4259-98a6-743708e75f7b"
      },
      "execution_count": null,
      "outputs": [
        {
          "output_type": "stream",
          "name": "stdout",
          "text": [
            "Среднее покрытие = 35.704\n",
            "Доля покрытого генома = 1.0\n"
          ]
        },
        {
          "output_type": "stream",
          "name": "stderr",
          "text": [
            "/usr/local/lib/python3.7/dist-packages/seaborn/_decorators.py:43: FutureWarning: Pass the following variables as keyword args: x, y. From version 0.12, the only valid positional argument will be `data`, and passing other arguments without an explicit keyword will result in an error or misinterpretation.\n",
            "  FutureWarning\n"
          ]
        },
        {
          "output_type": "display_data",
          "data": {
            "text/plain": [
              "<Figure size 1080x720 with 1 Axes>"
            ],
            "image/png": "[encoded data removed]"
          },
          "metadata": {}
        }
      ]
    },
    {
      "cell_type": "code",
      "source": [
        "!samtools stats tor_c_sorted.bam | grep ID > tor_c_stats.txt"
      ],
      "metadata": {
        "id": "BlB7hf3FnThH"
      },
      "execution_count": null,
      "outputs": []
    },
    {
      "cell_type": "code",
      "source": [
        "indel('tor_c_stats.txt')"
      ],
      "metadata": {
        "colab": {
          "base_uri": "https://localhost:8080/",
          "height": 629
        },
        "id": "CjOkYfounTjN",
        "outputId": "7324b40f-888c-4181-f581-69b40c82f2f6"
      },
      "execution_count": null,
      "outputs": [
        {
          "output_type": "stream",
          "name": "stdout",
          "text": [
            "Средняя длина делеции = 1.08 Средняя длина вставки = 1.055\n"
          ]
        },
        {
          "output_type": "display_data",
          "data": {
            "text/plain": [
              "<Figure size 1080x720 with 1 Axes>"
            ],
            "image/png": "[encoded data removed]"
          },
          "metadata": {}
        }
      ]
    },
    {
      "cell_type": "code",
      "source": [
        "from Bio import SeqIO\n",
        "for ref in SeqIO.parse('DH10B-K12.fasta', 'fasta'):\n",
        "    genome = ref.seq"
      ],
      "metadata": {
        "id": "Tu95W6sloWBV"
      },
      "execution_count": null,
      "outputs": []
    },
    {
      "cell_type": "code",
      "source": [
        "keys = ['A', 'C', 'G', 'T', '-']\n",
        "pairs = {key: {key: 0 for key in keys} for key in keys}\n",
        "samfile = pysam.AlignmentFile('tor_c_alignment.sam', \"r\")\n",
        "for read in samfile:\n",
        "    al = read.get_aligned_pairs()\n",
        "    read = read.query_sequence \n",
        "    for pair in al:\n",
        "        ind_read = pair[0]\n",
        "        ind_ref = pair[1]\n",
        "        if ind_read != None and ind_ref != None and read[ind_read]!='N' and genome[ind_ref]!='N':\n",
        "            pairs[read[ind_read]][genome[ind_ref]] += 1\n",
        "        elif ind_read is None and ind_ref is not None and genome[ind_ref] != 'N':\n",
        "            pairs['-'][genome[ind_ref]] += 1\n",
        "        elif ind_read is not None and ind_ref is None and read[ind_read] != 'N':\n",
        "            pairs[read[ind_read]]['-'] += 1"
      ],
      "metadata": {
        "id": "9ApOByJDoWBV"
      },
      "execution_count": null,
      "outputs": []
    },
    {
      "cell_type": "code",
      "source": [
        "df = pd.DataFrame({'A':pairs['A'], 'T':pairs['T'], 'G':pairs['G'], 'C':pairs['C'], '-':pairs['-']})\n",
        "s = 0\n",
        "for i in pairs.keys():\n",
        "    s += sum(pairs[i].values())\n",
        "    s -= pairs[i][i]\n",
        "l = 0\n",
        "samfile = pysam.AlignmentFile('tor_c_alignment.sam', \"r\")\n",
        "for read in samfile.fetch():\n",
        "    read = read.query_sequence\n",
        "    l += len(read)\n",
        "print(f'Процент ошибок = {round(s / l * 100, 2)}')\n",
        "for i in range(5):\n",
        "    df.iloc[i,i] = 0\n",
        "df"
      ],
      "metadata": {
        "colab": {
          "base_uri": "https://localhost:8080/",
          "height": 224
        },
        "outputId": "f83622bb-68ae-4f9d-81af-78a88d9f1409",
        "id": "KAENUAPRoWBV"
      },
      "execution_count": null,
      "outputs": [
        {
          "output_type": "stream",
          "name": "stdout",
          "text": [
            "Процент ошибок = 0.69\n"
          ]
        },
        {
          "output_type": "execute_result",
          "data": {
            "text/plain": [
              "        A         T       G         C      -\n",
              "A       0      6488   21938      5124  37199\n",
              "C    6751         0    5380  41826438  82132\n",
              "G   14257      7069       0      4978  82142\n",
              "T    6549  41693194    5248         0  37728\n",
              "-  220153    220640  179672    180769      0"
            ],
            "text/html": [
              "\n",
              "  <div id=\"df-9992d1bb-ec5f-42a4-a8b7-3dc172738268\">\n",
              "    <div class=\"colab-df-container\">\n",
              "      <div>\n",
              "<style scoped>\n",
              "    .dataframe tbody tr th:only-of-type {\n",
              "        vertical-align: middle;\n",
              "    }\n",
              "\n",
              "    .dataframe tbody tr th {\n",
              "        vertical-align: top;\n",
              "    }\n",
              "\n",
              "    .dataframe thead th {\n",
              "        text-align: right;\n",
              "    }\n",
              "</style>\n",
              "<table border=\"1\" class=\"dataframe\">\n",
              "  <thead>\n",
              "    <tr style=\"text-align: right;\">\n",
              "      <th></th>\n",
              "      <th>A</th>\n",
              "      <th>T</th>\n",
              "      <th>G</th>\n",
              "      <th>C</th>\n",
              "      <th>-</th>\n",
              "    </tr>\n",
              "  </thead>\n",
              "  <tbody>\n",
              "    <tr>\n",
              "      <th>A</th>\n",
              "      <td>0</td>\n",
              "      <td>6488</td>\n",
              "      <td>21938</td>\n",
              "      <td>5124</td>\n",
              "      <td>37199</td>\n",
              "    </tr>\n",
              "    <tr>\n",
              "      <th>C</th>\n",
              "      <td>6751</td>\n",
              "      <td>0</td>\n",
              "      <td>5380</td>\n",
              "      <td>41826438</td>\n",
              "      <td>82132</td>\n",
              "    </tr>\n",
              "    <tr>\n",
              "      <th>G</th>\n",
              "      <td>14257</td>\n",
              "      <td>7069</td>\n",
              "      <td>0</td>\n",
              "      <td>4978</td>\n",
              "      <td>82142</td>\n",
              "    </tr>\n",
              "    <tr>\n",
              "      <th>T</th>\n",
              "      <td>6549</td>\n",
              "      <td>41693194</td>\n",
              "      <td>5248</td>\n",
              "      <td>0</td>\n",
              "      <td>37728</td>\n",
              "    </tr>\n",
              "    <tr>\n",
              "      <th>-</th>\n",
              "      <td>220153</td>\n",
              "      <td>220640</td>\n",
              "      <td>179672</td>\n",
              "      <td>180769</td>\n",
              "      <td>0</td>\n",
              "    </tr>\n",
              "  </tbody>\n",
              "</table>\n",
              "</div>\n",
              "      <button class=\"colab-df-convert\" onclick=\"convertToInteractive('df-9992d1bb-ec5f-42a4-a8b7-3dc172738268')\"\n",
              "              title=\"Convert this dataframe to an interactive table.\"\n",
              "              style=\"display:none;\">\n",
              "        \n",
              "  <svg xmlns=\"http://www.w3.org/2000/svg\" height=\"24px\"viewBox=\"0 0 24 24\"\n",
              "       width=\"24px\">\n",
              "    <path d=\"M0 0h24v24H0V0z\" fill=\"none\"/>\n",
              "    <path d=\"M18.56 5.44l.94 2.06.94-2.06 2.06-.94-2.06-.94-.94-2.06-.94 2.06-2.06.94zm-11 1L8.5 8.5l.94-2.06 2.06-.94-2.06-.94L8.5 2.5l-.94 2.06-2.06.94zm10 10l.94 2.06.94-2.06 2.06-.94-2.06-.94-.94-2.06-.94 2.06-2.06.94z\"/><path d=\"M17.41 7.96l-1.37-1.37c-.4-.4-.92-.59-1.43-.59-.52 0-1.04.2-1.43.59L10.3 9.45l-7.72 7.72c-.78.78-.78 2.05 0 2.83L4 21.41c.39.39.9.59 1.41.59.51 0 1.02-.2 1.41-.59l7.78-7.78 2.81-2.81c.8-.78.8-2.07 0-2.86zM5.41 20L4 18.59l7.72-7.72 1.47 1.35L5.41 20z\"/>\n",
              "  </svg>\n",
              "      </button>\n",
              "      \n",
              "  <style>\n",
              "    .colab-df-container {\n",
              "      display:flex;\n",
              "      flex-wrap:wrap;\n",
              "      gap: 12px;\n",
              "    }\n",
              "\n",
              "    .colab-df-convert {\n",
              "      background-color: #E8F0FE;\n",
              "      border: none;\n",
              "      border-radius: 50%;\n",
              "      cursor: pointer;\n",
              "      display: none;\n",
              "      fill: #1967D2;\n",
              "      height: 32px;\n",
              "      padding: 0 0 0 0;\n",
              "      width: 32px;\n",
              "    }\n",
              "\n",
              "    .colab-df-convert:hover {\n",
              "      background-color: #E2EBFA;\n",
              "      box-shadow: 0px 1px 2px rgba(60, 64, 67, 0.3), 0px 1px 3px 1px rgba(60, 64, 67, 0.15);\n",
              "      fill: #174EA6;\n",
              "    }\n",
              "\n",
              "    [theme=dark] .colab-df-convert {\n",
              "      background-color: #3B4455;\n",
              "      fill: #D2E3FC;\n",
              "    }\n",
              "\n",
              "    [theme=dark] .colab-df-convert:hover {\n",
              "      background-color: #434B5C;\n",
              "      box-shadow: 0px 1px 3px 1px rgba(0, 0, 0, 0.15);\n",
              "      filter: drop-shadow(0px 1px 2px rgba(0, 0, 0, 0.3));\n",
              "      fill: #FFFFFF;\n",
              "    }\n",
              "  </style>\n",
              "\n",
              "      <script>\n",
              "        const buttonEl =\n",
              "          document.querySelector('#df-9992d1bb-ec5f-42a4-a8b7-3dc172738268 button.colab-df-convert');\n",
              "        buttonEl.style.display =\n",
              "          google.colab.kernel.accessAllowed ? 'block' : 'none';\n",
              "\n",
              "        async function convertToInteractive(key) {\n",
              "          const element = document.querySelector('#df-9992d1bb-ec5f-42a4-a8b7-3dc172738268');\n",
              "          const dataTable =\n",
              "            await google.colab.kernel.invokeFunction('convertToInteractive',\n",
              "                                                     [key], {});\n",
              "          if (!dataTable) return;\n",
              "\n",
              "          const docLinkHtml = 'Like what you see? Visit the ' +\n",
              "            '<a target=\"_blank\" href=https://colab.research.google.com/notebooks/data_table.ipynb>data table notebook</a>'\n",
              "            + ' to learn more about interactive tables.';\n",
              "          element.innerHTML = '';\n",
              "          dataTable['output_type'] = 'display_data';\n",
              "          await google.colab.output.renderOutput(dataTable, element);\n",
              "          const docLink = document.createElement('div');\n",
              "          docLink.innerHTML = docLinkHtml;\n",
              "          element.appendChild(docLink);\n",
              "        }\n",
              "      </script>\n",
              "    </div>\n",
              "  </div>\n",
              "  "
            ]
          },
          "metadata": {},
          "execution_count": 59
        }
      ]
    },
    {
      "cell_type": "code",
      "source": [
        "qual('tor_c_sorted.bam')"
      ],
      "metadata": {
        "colab": {
          "base_uri": "https://localhost:8080/",
          "height": 682
        },
        "id": "7UugU6jUvJ8X",
        "outputId": "432e5f00-0004-4a75-bf01-36dd6b5cba6c"
      },
      "execution_count": null,
      "outputs": [
        {
          "output_type": "stream",
          "name": "stdout",
          "text": [
            "Среднее качество нуклеотида при ошибочно вставленном нуклеотиде: 15.39\n",
            "Среднеквадратичное отклонение = 5.06\n",
            "Среднее качество нуклеотида при замене: 21.04\n",
            "Среднеквадратичное отклонение = 8.56\n"
          ]
        },
        {
          "output_type": "display_data",
          "data": {
            "text/plain": [
              "<Figure size 1080x720 with 1 Axes>"
            ],
            "image/png": "[encoded data removed]"
          },
          "metadata": {}
        }
      ]
    },
    {
      "cell_type": "code",
      "source": [
        "sam_c = pysam.AlignmentFile('tor_c_sorted.bam', \"rb\")\n",
        "homopolymer(sam_c)"
      ],
      "metadata": {
        "colab": {
          "base_uri": "https://localhost:8080/"
        },
        "id": "sBNlb8iO2WWt",
        "outputId": "55442e53-b58a-4685-c0e5-914e3befba13"
      },
      "execution_count": null,
      "outputs": [
        {
          "output_type": "stream",
          "name": "stdout",
          "text": [
            "Процент инделов, находящихся рядом с гомополимерными участками = 26.26\n"
          ]
        }
      ]
    },
    {
      "cell_type": "code",
      "source": [
        "data = {'Среднее покрытие':[34.037,\n",
        "                             35.7],\n",
        "        \n",
        "        'Доля покрытой области генома':['100%',\n",
        "                              '100%'],\n",
        "        \n",
        "        'Процент ошибок':['1.61%',\n",
        "                              '0.69%'],\n",
        "        \n",
        "        'Средняя длина делеции':[1.09,\n",
        "                             1.08],\n",
        "        \n",
        "        'Средняя длина вставки':[1.064,\n",
        "                             1.055],\n",
        "        \n",
        "        'Среднее качество при ошибочно вставленном нуклеотиде':[16.09,\n",
        "                             15.39],\n",
        "        \n",
        "        'Среднее качество при замене':[19.14,\n",
        "                             21.04],\n",
        "        \n",
        "        'Процент инделов, находящихся рядом с гомополимерными участками':[28.19,\n",
        "                             26.26]}\n",
        "\n",
        "df = pd.DataFrame(data, index =['B22-730',\n",
        "                                'C24-698'])\n",
        "df"
      ],
      "metadata": {
        "colab": {
          "base_uri": "https://localhost:8080/",
          "height": 243
        },
        "id": "D4D0qJu3rSgN",
        "outputId": "87e8c59f-ee38-4a27-d9c1-ce9e9d9738a0"
      },
      "execution_count": null,
      "outputs": [
        {
          "output_type": "execute_result",
          "data": {
            "text/plain": [
              "         Среднее покрытие Доля покрытой области генома Процент ошибок  \\\n",
              "B22-730            34.037                         100%          1.61%   \n",
              "C24-698            35.700                         100%          0.69%   \n",
              "\n",
              "         Средняя длина делеции  Средняя длина вставки  \\\n",
              "B22-730                   1.09                  1.064   \n",
              "C24-698                   1.08                  1.055   \n",
              "\n",
              "         Среднее качество при ошибочно вставленном нуклеотиде  \\\n",
              "B22-730                                              16.09      \n",
              "C24-698                                              15.39      \n",
              "\n",
              "         Среднее качество при замене  \\\n",
              "B22-730                        19.14   \n",
              "C24-698                        21.04   \n",
              "\n",
              "         Процент инделов, находящихся рядом с гомополимерными участками  \n",
              "B22-730                                              28.19               \n",
              "C24-698                                              26.26               "
            ],
            "text/html": [
              "\n",
              "  <div id=\"df-695910a1-511c-4d2c-8992-4ff30b524ca9\">\n",
              "    <div class=\"colab-df-container\">\n",
              "      <div>\n",
              "<style scoped>\n",
              "    .dataframe tbody tr th:only-of-type {\n",
              "        vertical-align: middle;\n",
              "    }\n",
              "\n",
              "    .dataframe tbody tr th {\n",
              "        vertical-align: top;\n",
              "    }\n",
              "\n",
              "    .dataframe thead th {\n",
              "        text-align: right;\n",
              "    }\n",
              "</style>\n",
              "<table border=\"1\" class=\"dataframe\">\n",
              "  <thead>\n",
              "    <tr style=\"text-align: right;\">\n",
              "      <th></th>\n",
              "      <th>Среднее покрытие</th>\n",
              "      <th>Доля покрытой области генома</th>\n",
              "      <th>Процент ошибок</th>\n",
              "      <th>Средняя длина делеции</th>\n",
              "      <th>Средняя длина вставки</th>\n",
              "      <th>Среднее качество при ошибочно вставленном нуклеотиде</th>\n",
              "      <th>Среднее качество при замене</th>\n",
              "      <th>Процент инделов, находящихся рядом с гомополимерными участками</th>\n",
              "    </tr>\n",
              "  </thead>\n",
              "  <tbody>\n",
              "    <tr>\n",
              "      <th>B22-730</th>\n",
              "      <td>34.037</td>\n",
              "      <td>100%</td>\n",
              "      <td>1.61%</td>\n",
              "      <td>1.09</td>\n",
              "      <td>1.064</td>\n",
              "      <td>16.09</td>\n",
              "      <td>19.14</td>\n",
              "      <td>28.19</td>\n",
              "    </tr>\n",
              "    <tr>\n",
              "      <th>C24-698</th>\n",
              "      <td>35.700</td>\n",
              "      <td>100%</td>\n",
              "      <td>0.69%</td>\n",
              "      <td>1.08</td>\n",
              "      <td>1.055</td>\n",
              "      <td>15.39</td>\n",
              "      <td>21.04</td>\n",
              "      <td>26.26</td>\n",
              "    </tr>\n",
              "  </tbody>\n",
              "</table>\n",
              "</div>\n",
              "      <button class=\"colab-df-convert\" onclick=\"convertToInteractive('df-695910a1-511c-4d2c-8992-4ff30b524ca9')\"\n",
              "              title=\"Convert this dataframe to an interactive table.\"\n",
              "              style=\"display:none;\">\n",
              "        \n",
              "  <svg xmlns=\"http://www.w3.org/2000/svg\" height=\"24px\"viewBox=\"0 0 24 24\"\n",
              "       width=\"24px\">\n",
              "    <path d=\"M0 0h24v24H0V0z\" fill=\"none\"/>\n",
              "    <path d=\"M18.56 5.44l.94 2.06.94-2.06 2.06-.94-2.06-.94-.94-2.06-.94 2.06-2.06.94zm-11 1L8.5 8.5l.94-2.06 2.06-.94-2.06-.94L8.5 2.5l-.94 2.06-2.06.94zm10 10l.94 2.06.94-2.06 2.06-.94-2.06-.94-.94-2.06-.94 2.06-2.06.94z\"/><path d=\"M17.41 7.96l-1.37-1.37c-.4-.4-.92-.59-1.43-.59-.52 0-1.04.2-1.43.59L10.3 9.45l-7.72 7.72c-.78.78-.78 2.05 0 2.83L4 21.41c.39.39.9.59 1.41.59.51 0 1.02-.2 1.41-.59l7.78-7.78 2.81-2.81c.8-.78.8-2.07 0-2.86zM5.41 20L4 18.59l7.72-7.72 1.47 1.35L5.41 20z\"/>\n",
              "  </svg>\n",
              "      </button>\n",
              "      \n",
              "  <style>\n",
              "    .colab-df-container {\n",
              "      display:flex;\n",
              "      flex-wrap:wrap;\n",
              "      gap: 12px;\n",
              "    }\n",
              "\n",
              "    .colab-df-convert {\n",
              "      background-color: #E8F0FE;\n",
              "      border: none;\n",
              "      border-radius: 50%;\n",
              "      cursor: pointer;\n",
              "      display: none;\n",
              "      fill: #1967D2;\n",
              "      height: 32px;\n",
              "      padding: 0 0 0 0;\n",
              "      width: 32px;\n",
              "    }\n",
              "\n",
              "    .colab-df-convert:hover {\n",
              "      background-color: #E2EBFA;\n",
              "      box-shadow: 0px 1px 2px rgba(60, 64, 67, 0.3), 0px 1px 3px 1px rgba(60, 64, 67, 0.15);\n",
              "      fill: #174EA6;\n",
              "    }\n",
              "\n",
              "    [theme=dark] .colab-df-convert {\n",
              "      background-color: #3B4455;\n",
              "      fill: #D2E3FC;\n",
              "    }\n",
              "\n",
              "    [theme=dark] .colab-df-convert:hover {\n",
              "      background-color: #434B5C;\n",
              "      box-shadow: 0px 1px 3px 1px rgba(0, 0, 0, 0.15);\n",
              "      filter: drop-shadow(0px 1px 2px rgba(0, 0, 0, 0.3));\n",
              "      fill: #FFFFFF;\n",
              "    }\n",
              "  </style>\n",
              "\n",
              "      <script>\n",
              "        const buttonEl =\n",
              "          document.querySelector('#df-695910a1-511c-4d2c-8992-4ff30b524ca9 button.colab-df-convert');\n",
              "        buttonEl.style.display =\n",
              "          google.colab.kernel.accessAllowed ? 'block' : 'none';\n",
              "\n",
              "        async function convertToInteractive(key) {\n",
              "          const element = document.querySelector('#df-695910a1-511c-4d2c-8992-4ff30b524ca9');\n",
              "          const dataTable =\n",
              "            await google.colab.kernel.invokeFunction('convertToInteractive',\n",
              "                                                     [key], {});\n",
              "          if (!dataTable) return;\n",
              "\n",
              "          const docLinkHtml = 'Like what you see? Visit the ' +\n",
              "            '<a target=\"_blank\" href=https://colab.research.google.com/notebooks/data_table.ipynb>data table notebook</a>'\n",
              "            + ' to learn more about interactive tables.';\n",
              "          element.innerHTML = '';\n",
              "          dataTable['output_type'] = 'display_data';\n",
              "          await google.colab.output.renderOutput(dataTable, element);\n",
              "          const docLink = document.createElement('div');\n",
              "          docLink.innerHTML = docLinkHtml;\n",
              "          element.appendChild(docLink);\n",
              "        }\n",
              "      </script>\n",
              "    </div>\n",
              "  </div>\n",
              "  "
            ]
          },
          "metadata": {},
          "execution_count": 88
        }
      ]
    },
    {
      "cell_type": "markdown",
      "source": [
        "## Вывод\n",
        "\n",
        "У ридов IonTorrent ниже процент ошибок при меньшем среднем покрытии."
      ],
      "metadata": {
        "id": "PiCdlIkPvbFK"
      }
    },
    {
      "cell_type": "code",
      "source": [
        ""
      ],
      "metadata": {
        "id": "5AsQPdibr8v8"
      },
      "execution_count": null,
      "outputs": []
    }
  ],
  "metadata": {
    "colab": {
      "collapsed_sections": [],
      "name": "NGS2.ipynb",
      "provenance": [],
      "authorship_tag": "ABX9TyOiLdJQqcM57U6f03LVJwvO",
      "include_colab_link": true
    },
    "kernelspec": {
      "display_name": "Python 3",
      "name": "python3"
    },
    "language_info": {
      "name": "python"
    }
  },
  "nbformat": 4,
  "nbformat_minor": 0
}