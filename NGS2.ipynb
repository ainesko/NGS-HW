{
  "cells": [
    {
      "cell_type": "markdown",
      "metadata": {
        "id": "view-in-github",
        "colab_type": "text"
      },
      "source": [
        "<a href=\"https://colab.research.google.com/github/ainesko/NGS-HW1/blob/main/NGS2.ipynb\" target=\"_parent\"><img src=\"https://colab.research.google.com/assets/colab-badge.svg\" alt=\"Open In Colab\"/></a>"
      ]
    },
    {
      "cell_type": "markdown",
      "metadata": {
        "id": "oLONza8XGfKR"
      },
      "source": [
        "# Часть 1: анализ ридов Illumina\n",
        "## Скачивание файлов с диска\n",
        "\n",
        "***B.faecium***"
      ]
    },
    {
      "cell_type": "code",
      "execution_count": 28,
      "metadata": {
        "id": "YTqO6avaGLCw"
      },
      "outputs": [],
      "source": [
        "def download_from_disk(id):\n",
        "  import gdown\n",
        "  gdown.download(f'https://drive.google.com/uc?id={id}&confirm=t', quiet=False)"
      ]
    },
    {
      "cell_type": "code",
      "execution_count": 29,
      "metadata": {
        "colab": {
          "base_uri": "https://localhost:8080/"
        },
        "id": "QgerHtFBGmWM",
        "outputId": "b37f4dc0-8209-4545-8261-7e5b1f68df2b"
      },
      "outputs": [
        {
          "output_type": "stream",
          "name": "stderr",
          "text": [
            "Downloading...\n",
            "From: https://drive.google.com/uc?id=1gwiztaQnJ0JuoLersNbGD0vuUxT1lgdo&confirm=t\n",
            "To: /content/frag.R1.fastq.gz\n",
            "100%|██████████| 215M/215M [00:08<00:00, 24.9MB/s]\n"
          ]
        }
      ],
      "source": [
        "download_from_disk('1gwiztaQnJ0JuoLersNbGD0vuUxT1lgdo')"
      ]
    },
    {
      "cell_type": "code",
      "execution_count": 30,
      "metadata": {
        "colab": {
          "base_uri": "https://localhost:8080/"
        },
        "id": "BKZ9QkWpHUha",
        "outputId": "3accacf8-f619-405d-913f-49d1a2b59620"
      },
      "outputs": [
        {
          "output_type": "stream",
          "name": "stderr",
          "text": [
            "Downloading...\n",
            "From: https://drive.google.com/uc?id=1R-GVUzwQTFjeKotZzJALvKiyYmUwUZd7&confirm=t\n",
            "To: /content/frag.R2.fastq.gz\n",
            "100%|██████████| 199M/199M [00:05<00:00, 33.2MB/s]\n"
          ]
        }
      ],
      "source": [
        "download_from_disk('1R-GVUzwQTFjeKotZzJALvKiyYmUwUZd7')"
      ]
    },
    {
      "cell_type": "code",
      "execution_count": 31,
      "metadata": {
        "colab": {
          "base_uri": "https://localhost:8080/"
        },
        "id": "_LCoPEcPHhd5",
        "outputId": "05ad605b-e4ea-47ec-b9d6-4b6841db7738"
      },
      "outputs": [
        {
          "output_type": "stream",
          "name": "stderr",
          "text": [
            "Downloading...\n",
            "From: https://drive.google.com/uc?id=1c5aUoNpqtR97kdi6Pf7_PB4ZYfdpgd7n&confirm=t\n",
            "To: /content/jump.R1.fastq.gz\n",
            "100%|██████████| 197M/197M [00:08<00:00, 23.4MB/s]\n"
          ]
        }
      ],
      "source": [
        "download_from_disk('1c5aUoNpqtR97kdi6Pf7_PB4ZYfdpgd7n')"
      ]
    },
    {
      "cell_type": "code",
      "execution_count": 32,
      "metadata": {
        "colab": {
          "base_uri": "https://localhost:8080/"
        },
        "id": "sRS5E9zYHjph",
        "outputId": "64e948f8-d8fc-4724-eb0b-6d0f879316e0"
      },
      "outputs": [
        {
          "output_type": "stream",
          "name": "stderr",
          "text": [
            "Downloading...\n",
            "From: https://drive.google.com/uc?id=100MuDiPAX7z2qdcRpQ3DO3EV-H7aPPub&confirm=t\n",
            "To: /content/jump.R2.fastq.gz\n",
            "100%|██████████| 196M/196M [00:03<00:00, 63.4MB/s]\n"
          ]
        }
      ],
      "source": [
        "download_from_disk('100MuDiPAX7z2qdcRpQ3DO3EV-H7aPPub')"
      ]
    },
    {
      "cell_type": "code",
      "execution_count": 33,
      "metadata": {
        "colab": {
          "base_uri": "https://localhost:8080/"
        },
        "id": "pLRyzwP-Hj4X",
        "outputId": "2e156de8-3aa5-4b31-9588-185b463b2248"
      },
      "outputs": [
        {
          "output_type": "stream",
          "name": "stderr",
          "text": [
            "Downloading...\n",
            "From: https://drive.google.com/uc?id=1kMaq8gGzrD7BDYFwoVhjSt65d1g8ZVh5&confirm=t\n",
            "To: /content/ref.fasta.gz\n",
            "100%|██████████| 1.03M/1.03M [00:00<00:00, 5.04MB/s]\n"
          ]
        }
      ],
      "source": [
        "download_from_disk('1kMaq8gGzrD7BDYFwoVhjSt65d1g8ZVh5')"
      ]
    },
    {
      "cell_type": "markdown",
      "metadata": {
        "id": "mZEL0UYBIvI7"
      },
      "source": [
        "***test***"
      ]
    },
    {
      "cell_type": "code",
      "execution_count": 34,
      "metadata": {
        "colab": {
          "base_uri": "https://localhost:8080/"
        },
        "id": "lrkNFDcmH45L",
        "outputId": "2f8c96b0-d5bd-4678-e42f-dbaaeb5d80c2"
      },
      "outputs": [
        {
          "output_type": "stream",
          "name": "stderr",
          "text": [
            "Downloading...\n",
            "From: https://drive.google.com/uc?id=1-MIyUSR0EAurkK8Dt014UrKmHhBP79l1&confirm=t\n",
            "To: /content/test_1.fastq\n",
            "100%|██████████| 6.08M/6.08M [00:00<00:00, 27.8MB/s]\n"
          ]
        }
      ],
      "source": [
        "download_from_disk('1-MIyUSR0EAurkK8Dt014UrKmHhBP79l1')"
      ]
    },
    {
      "cell_type": "code",
      "execution_count": 35,
      "metadata": {
        "colab": {
          "base_uri": "https://localhost:8080/"
        },
        "id": "Mfhb-X4kIzpK",
        "outputId": "3dde7eb2-8b5c-43a0-a777-f5ddd4cc0120"
      },
      "outputs": [
        {
          "output_type": "stream",
          "name": "stderr",
          "text": [
            "Downloading...\n",
            "From: https://drive.google.com/uc?id=1JpOmFJ6eKNsmt7vnSMbntteQy2Qfu3Ie&confirm=t\n",
            "To: /content/test_2.fastq\n",
            "100%|██████████| 6.03M/6.03M [00:00<00:00, 27.6MB/s]\n"
          ]
        }
      ],
      "source": [
        "download_from_disk('1JpOmFJ6eKNsmt7vnSMbntteQy2Qfu3Ie')"
      ]
    },
    {
      "cell_type": "code",
      "execution_count": 36,
      "metadata": {
        "colab": {
          "base_uri": "https://localhost:8080/"
        },
        "id": "Ukx_zmZoIz-c",
        "outputId": "4474577f-9b2d-4845-e411-bf59ccd2eb73"
      },
      "outputs": [
        {
          "output_type": "stream",
          "name": "stderr",
          "text": [
            "Downloading...\n",
            "From: https://drive.google.com/uc?id=1s1L-771s75_XEuKd1LNZJgQ5asGKlISR&confirm=t\n",
            "To: /content/MG1655-K12.first10K.fasta\n",
            "100%|██████████| 10.3k/10.3k [00:00<00:00, 3.09MB/s]\n"
          ]
        }
      ],
      "source": [
        "download_from_disk('1s1L-771s75_XEuKd1LNZJgQ5asGKlISR')"
      ]
    },
    {
      "cell_type": "markdown",
      "metadata": {
        "id": "ZqwkCksnJ0Uc"
      },
      "source": [
        "# 0. Разобраться с Bowtie2 / bwa mem\n",
        "Построить индекс, запустить любой из тулов на ваш выбор, определить процент приложившихся ридов (samtools flagstat). \n"
      ]
    },
    {
      "cell_type": "code",
      "execution_count": 37,
      "metadata": {
        "id": "mx7DhQUeEf-o"
      },
      "outputs": [],
      "source": [
        "import pandas as pd\n",
        "import numpy as np\n",
        "import matplotlib.pyplot as plt\n",
        "import seaborn as sns"
      ]
    },
    {
      "cell_type": "code",
      "execution_count": 38,
      "metadata": {
        "id": "ACetziJlVaPl"
      },
      "outputs": [],
      "source": [
        "!pip install -q condacolab"
      ]
    },
    {
      "cell_type": "code",
      "execution_count": 39,
      "metadata": {
        "id": "uPG-_GtWVaYB"
      },
      "outputs": [],
      "source": [
        "import condacolab"
      ]
    },
    {
      "cell_type": "code",
      "execution_count": 40,
      "metadata": {
        "colab": {
          "base_uri": "https://localhost:8080/"
        },
        "id": "dPta1VfrVafF",
        "outputId": "bd502f6e-50bd-474a-fa8e-974121aa1a28"
      },
      "outputs": [
        {
          "output_type": "stream",
          "name": "stdout",
          "text": [
            "✨🍰✨ Everything looks OK!\n"
          ]
        }
      ],
      "source": [
        "condacolab.install()"
      ]
    },
    {
      "cell_type": "code",
      "execution_count": 41,
      "metadata": {
        "colab": {
          "base_uri": "https://localhost:8080/"
        },
        "id": "TmfLUUEEVgij",
        "outputId": "8201c159-aca9-484f-c2bc-cdfaaa93fa60"
      },
      "outputs": [
        {
          "output_type": "stream",
          "name": "stdout",
          "text": [
            "Collecting package metadata (current_repodata.json): - \b\b\\ \b\b| \b\b/ \b\b- \b\b\\ \b\b| \b\b/ \b\b- \b\b\\ \b\b| \b\b/ \b\b- \b\b\\ \b\b| \b\b/ \b\b- \b\bdone\n",
            "Solving environment: | \b\b/ \b\b- \b\b\\ \b\b| \b\b/ \b\b- \b\b\\ \b\b| \b\b/ \b\b- \b\bdone\n",
            "\n",
            "# All requested packages already installed.\n",
            "\n"
          ]
        }
      ],
      "source": [
        "!conda install -c bioconda bwa"
      ]
    },
    {
      "cell_type": "code",
      "execution_count": 6,
      "metadata": {
        "colab": {
          "base_uri": "https://localhost:8080/"
        },
        "id": "ALt4efsPVgqH",
        "outputId": "8f88164c-7135-44f5-b81a-53f4ec476591"
      },
      "outputs": [
        {
          "output_type": "stream",
          "name": "stdout",
          "text": [
            "Collecting package metadata (current_repodata.json): - \b\b\\ \b\b| \b\b/ \b\b- \b\b\\ \b\b| \b\b/ \b\b- \b\b\\ \b\b| \b\b/ \b\b- \b\b\\ \b\b| \b\b/ \b\b- \b\b\\ \b\bdone\n",
            "Solving environment: / \b\b- \b\b\\ \b\b| \b\b/ \b\b- \b\b\\ \b\b| \b\b/ \b\b- \b\b\\ \b\b| \b\b/ \b\b- \b\bdone\n",
            "\n",
            "# All requested packages already installed.\n",
            "\n"
          ]
        }
      ],
      "source": [
        "!conda install -c bioconda samtools"
      ]
    },
    {
      "cell_type": "code",
      "execution_count": 42,
      "metadata": {
        "colab": {
          "base_uri": "https://localhost:8080/"
        },
        "id": "17-iVMX-VamA",
        "outputId": "7c4a059a-1992-46e7-8360-985c95306322"
      },
      "outputs": [
        {
          "output_type": "stream",
          "name": "stdout",
          "text": [
            "Reading package lists... Done\n",
            "Building dependency tree       \n",
            "Reading state information... Done\n",
            "bowtie2 is already the newest version (2.3.4.1-1).\n",
            "samtools is already the newest version (1.7-1).\n",
            "The following package was automatically installed and is no longer required:\n",
            "  libnvidia-common-470\n",
            "Use 'apt autoremove' to remove it.\n",
            "0 upgraded, 0 newly installed, 0 to remove and 39 not upgraded.\n"
          ]
        }
      ],
      "source": [
        "!apt-get install bowtie2 samtools"
      ]
    },
    {
      "cell_type": "code",
      "execution_count": 43,
      "metadata": {
        "colab": {
          "base_uri": "https://localhost:8080/"
        },
        "id": "0YpVElyqbBin",
        "outputId": "c3f5305b-f675-4027-abb6-60bdfe2643f7"
      },
      "outputs": [
        {
          "output_type": "stream",
          "name": "stdout",
          "text": [
            "Collecting package metadata (current_repodata.json): - \b\b\\ \b\b| \b\b/ \b\b- \b\b\\ \b\b| \b\b/ \b\b- \b\b\\ \b\b| \b\b/ \b\b- \b\b\\ \b\b| \b\b/ \b\bdone\n",
            "Solving environment: \\ \b\b| \b\b/ \b\b- \b\b\\ \b\b| \b\b/ \b\b- \b\b\\ \b\b| \b\bdone\n",
            "\n",
            "# All requested packages already installed.\n",
            "\n"
          ]
        }
      ],
      "source": [
        "!conda install -c bioconda bowtie2"
      ]
    },
    {
      "cell_type": "code",
      "source": [
        "!pip install pysam"
      ],
      "metadata": {
        "colab": {
          "base_uri": "https://localhost:8080/"
        },
        "id": "Cwl6VXAGN_Fi",
        "outputId": "e8ee1ffc-8492-491d-c510-42efb5224c6c"
      },
      "execution_count": 44,
      "outputs": [
        {
          "output_type": "stream",
          "name": "stdout",
          "text": [
            "Requirement already satisfied: pysam in /usr/local/lib/python3.7/site-packages (0.18.0)\n"
          ]
        }
      ]
    },
    {
      "cell_type": "markdown",
      "metadata": {
        "id": "kijsYu7kc_J1"
      },
      "source": [
        "***test***"
      ]
    },
    {
      "cell_type": "code",
      "execution_count": 46,
      "metadata": {
        "colab": {
          "base_uri": "https://localhost:8080/"
        },
        "id": "nousKZ58bjJc",
        "outputId": "9eeaa0a2-4fe4-4fd4-be62-be6cfc294dde"
      },
      "outputs": [
        {
          "output_type": "stream",
          "name": "stdout",
          "text": [
            "Settings:\n",
            "  Output files: \"chromosome_index.*.bt2\"\n",
            "  Line rate: 6 (line is 64 bytes)\n",
            "  Lines per side: 1 (side is 64 bytes)\n",
            "  Offset rate: 4 (one in 16)\n",
            "  FTable chars: 10\n",
            "  Strings: unpacked\n",
            "  Max bucket size: default\n",
            "  Max bucket size, sqrt multiplier: default\n",
            "  Max bucket size, len divisor: 4\n",
            "  Difference-cover sample period: 1024\n",
            "  Endianness: little\n",
            "  Actual local endianness: little\n",
            "  Sanity checking: disabled\n",
            "  Assertions: disabled\n",
            "  Random seed: 0\n",
            "  Sizeofs: void*:8, int:4, long:8, size_t:8\n",
            "Input files DNA, FASTA:\n",
            "  MG1655-K12.first10K.fasta\n",
            "Building a SMALL index\n",
            "Reading reference sizes\n",
            "  Time reading reference sizes: 00:00:00\n",
            "Calculating joined length\n",
            "Writing header\n",
            "Reserving space for joined string\n",
            "Joining reference sequences\n",
            "  Time to join reference sequences: 00:00:00\n",
            "bmax according to bmaxDivN setting: 2500\n",
            "Using parameters --bmax 1875 --dcv 1024\n",
            "  Doing ahead-of-time memory usage test\n",
            "  Passed!  Constructing with these parameters: --bmax 1875 --dcv 1024\n",
            "Constructing suffix-array element generator\n",
            "Building DifferenceCoverSample\n",
            "  Building sPrime\n",
            "  Building sPrimeOrder\n",
            "  V-Sorting samples\n",
            "  V-Sorting samples time: 00:00:00\n",
            "  Allocating rank array\n",
            "  Ranking v-sort output\n",
            "  Ranking v-sort output time: 00:00:00\n",
            "  Invoking Larsson-Sadakane on ranks\n",
            "  Invoking Larsson-Sadakane on ranks time: 00:00:00\n",
            "  Sanity-checking and returning\n",
            "Building samples\n",
            "Reserving space for 12 sample suffixes\n",
            "Generating random suffixes\n",
            "QSorting 12 sample offsets, eliminating duplicates\n",
            "QSorting sample offsets, eliminating duplicates time: 00:00:00\n",
            "Multikey QSorting 12 samples\n",
            "  (Using difference cover)\n",
            "  Multikey QSorting samples time: 00:00:00\n",
            "Calculating bucket sizes\n",
            "Splitting and merging\n",
            "  Splitting and merging time: 00:00:00\n",
            "Avg bucket size: 10000 (target: 1874)\n",
            "Converting suffix-array elements to index image\n",
            "Allocating ftab, absorbFtab\n",
            "Entering Ebwt loop\n",
            "Getting block 1 of 1\n",
            "  No samples; assembling all-inclusive block\n",
            "  Sorting block of length 10000 for bucket 1\n",
            "  (Using difference cover)\n",
            "  Sorting block time: 00:00:00\n",
            "Returning block of 10001 for bucket 1\n",
            "Exited Ebwt loop\n",
            "fchr[A]: 0\n",
            "fchr[C]: 2491\n",
            "fchr[G]: 5002\n",
            "fchr[T]: 7698\n",
            "fchr[$]: 10000\n",
            "Exiting Ebwt::buildToDisk()\n",
            "Returning from initFromVector\n",
            "Wrote 4197981 bytes to primary EBWT file: chromosome_index.1.bt2\n",
            "Wrote 2508 bytes to secondary EBWT file: chromosome_index.2.bt2\n",
            "Re-opening _in1 and _in2 as input streams\n",
            "Returning from Ebwt constructor\n",
            "Headers:\n",
            "    len: 10000\n",
            "    bwtLen: 10001\n",
            "    sz: 2500\n",
            "    bwtSz: 2501\n",
            "    lineRate: 6\n",
            "    offRate: 4\n",
            "    offMask: 0xfffffff0\n",
            "    ftabChars: 10\n",
            "    eftabLen: 20\n",
            "    eftabSz: 80\n",
            "    ftabLen: 1048577\n",
            "    ftabSz: 4194308\n",
            "    offsLen: 626\n",
            "    offsSz: 2504\n",
            "    lineSz: 64\n",
            "    sideSz: 64\n",
            "    sideBwtSz: 48\n",
            "    sideBwtLen: 192\n",
            "    numSides: 53\n",
            "    numLines: 53\n",
            "    ebwtTotLen: 3392\n",
            "    ebwtTotSz: 3392\n",
            "    color: 0\n",
            "    reverse: 0\n",
            "Total time for call to driver() for forward index: 00:00:01\n",
            "Reading reference sizes\n",
            "  Time reading reference sizes: 00:00:00\n",
            "Calculating joined length\n",
            "Writing header\n",
            "Reserving space for joined string\n",
            "Joining reference sequences\n",
            "  Time to join reference sequences: 00:00:00\n",
            "  Time to reverse reference sequence: 00:00:00\n",
            "bmax according to bmaxDivN setting: 2500\n",
            "Using parameters --bmax 1875 --dcv 1024\n",
            "  Doing ahead-of-time memory usage test\n",
            "  Passed!  Constructing with these parameters: --bmax 1875 --dcv 1024\n",
            "Constructing suffix-array element generator\n",
            "Building DifferenceCoverSample\n",
            "  Building sPrime\n",
            "  Building sPrimeOrder\n",
            "  V-Sorting samples\n",
            "  V-Sorting samples time: 00:00:00\n",
            "  Allocating rank array\n",
            "  Ranking v-sort output\n",
            "  Ranking v-sort output time: 00:00:00\n",
            "  Invoking Larsson-Sadakane on ranks\n",
            "  Invoking Larsson-Sadakane on ranks time: 00:00:00\n",
            "  Sanity-checking and returning\n",
            "Building samples\n",
            "Reserving space for 12 sample suffixes\n",
            "Generating random suffixes\n",
            "QSorting 12 sample offsets, eliminating duplicates\n",
            "QSorting sample offsets, eliminating duplicates time: 00:00:00\n",
            "Multikey QSorting 12 samples\n",
            "  (Using difference cover)\n",
            "  Multikey QSorting samples time: 00:00:00\n",
            "Calculating bucket sizes\n",
            "Splitting and merging\n",
            "  Splitting and merging time: 00:00:00\n",
            "Avg bucket size: 10000 (target: 1874)\n",
            "Converting suffix-array elements to index image\n",
            "Allocating ftab, absorbFtab\n",
            "Entering Ebwt loop\n",
            "Getting block 1 of 1\n",
            "  No samples; assembling all-inclusive block\n",
            "  Sorting block of length 10000 for bucket 1\n",
            "  (Using difference cover)\n",
            "  Sorting block time: 00:00:00\n",
            "Returning block of 10001 for bucket 1\n",
            "Exited Ebwt loop\n",
            "fchr[A]: 0\n",
            "fchr[C]: 2491\n",
            "fchr[G]: 5002\n",
            "fchr[T]: 7698\n",
            "fchr[$]: 10000\n",
            "Exiting Ebwt::buildToDisk()\n",
            "Returning from initFromVector\n",
            "Wrote 4197981 bytes to primary EBWT file: chromosome_index.rev.1.bt2\n",
            "Wrote 2508 bytes to secondary EBWT file: chromosome_index.rev.2.bt2\n",
            "Re-opening _in1 and _in2 as input streams\n",
            "Returning from Ebwt constructor\n",
            "Headers:\n",
            "    len: 10000\n",
            "    bwtLen: 10001\n",
            "    sz: 2500\n",
            "    bwtSz: 2501\n",
            "    lineRate: 6\n",
            "    offRate: 4\n",
            "    offMask: 0xfffffff0\n",
            "    ftabChars: 10\n",
            "    eftabLen: 20\n",
            "    eftabSz: 80\n",
            "    ftabLen: 1048577\n",
            "    ftabSz: 4194308\n",
            "    offsLen: 626\n",
            "    offsSz: 2504\n",
            "    lineSz: 64\n",
            "    sideSz: 64\n",
            "    sideBwtSz: 48\n",
            "    sideBwtLen: 192\n",
            "    numSides: 53\n",
            "    numLines: 53\n",
            "    ebwtTotLen: 3392\n",
            "    ebwtTotSz: 3392\n",
            "    color: 0\n",
            "    reverse: 1\n",
            "Total time for backward call to driver() for mirror index: 00:00:00\n"
          ]
        }
      ],
      "source": [
        "!bowtie2-build MG1655-K12.first10K.fasta chromosome_index"
      ]
    },
    {
      "cell_type": "code",
      "execution_count": 47,
      "metadata": {
        "id": "VdQsgAutcAVE"
      },
      "outputs": [],
      "source": [
        "!bowtie2 -x chromosome_index -1 test_1.fastq -2 test_2.fastq 1> test_alignment.sam 2> test_bowtie2.log"
      ]
    },
    {
      "cell_type": "code",
      "execution_count": 48,
      "metadata": {
        "id": "sD0D8STkWryg"
      },
      "outputs": [],
      "source": [
        "!samtools view -bS -o test_alignment.bam test_alignment.sam"
      ]
    },
    {
      "cell_type": "code",
      "execution_count": 49,
      "metadata": {
        "id": "VBTGwg3VWr8A"
      },
      "outputs": [],
      "source": [
        "!samtools sort -o test_alignment_sorted.bam test_alignment.bam"
      ]
    },
    {
      "cell_type": "code",
      "execution_count": 50,
      "metadata": {
        "id": "tXe_mEIMWm-M"
      },
      "outputs": [],
      "source": [
        "!samtools index -b test_alignment_sorted.bam test_alignment.bai"
      ]
    },
    {
      "cell_type": "code",
      "execution_count": 51,
      "metadata": {
        "colab": {
          "base_uri": "https://localhost:8080/"
        },
        "id": "AKCufHlAWnBK",
        "outputId": "edfccc2b-bae6-4538-8015-a415c823abc1"
      },
      "outputs": [
        {
          "output_type": "stream",
          "name": "stdout",
          "text": [
            "56320 + 0 in total (QC-passed reads + QC-failed reads)\n",
            "0 + 0 secondary\n",
            "0 + 0 supplementary\n",
            "0 + 0 duplicates\n",
            "56320 + 0 mapped (100.00% : N/A)\n",
            "56320 + 0 paired in sequencing\n",
            "28160 + 0 read1\n",
            "28160 + 0 read2\n",
            "56320 + 0 properly paired (100.00% : N/A)\n",
            "56320 + 0 with itself and mate mapped\n",
            "0 + 0 singletons (0.00% : N/A)\n",
            "0 + 0 with mate mapped to a different chr\n",
            "0 + 0 with mate mapped to a different chr (mapQ>=5)\n"
          ]
        }
      ],
      "source": [
        "!samtools flagstat test_alignment_sorted.bam"
      ]
    },
    {
      "cell_type": "markdown",
      "metadata": {
        "id": "sLcw5KpwdOgu"
      },
      "source": [
        "***B.faecium***"
      ]
    },
    {
      "cell_type": "code",
      "execution_count": 52,
      "metadata": {
        "colab": {
          "base_uri": "https://localhost:8080/"
        },
        "id": "avk9HrXidMsU",
        "outputId": "1367ccc2-249f-4285-8b97-49c1844a639c"
      },
      "outputs": [
        {
          "output_type": "stream",
          "name": "stdout",
          "text": [
            "Settings:\n",
            "  Output files: \"chromosome_index.*.bt2\"\n",
            "  Line rate: 6 (line is 64 bytes)\n",
            "  Lines per side: 1 (side is 64 bytes)\n",
            "  Offset rate: 4 (one in 16)\n",
            "  FTable chars: 10\n",
            "  Strings: unpacked\n",
            "  Max bucket size: default\n",
            "  Max bucket size, sqrt multiplier: default\n",
            "  Max bucket size, len divisor: 4\n",
            "  Difference-cover sample period: 1024\n",
            "  Endianness: little\n",
            "  Actual local endianness: little\n",
            "  Sanity checking: disabled\n",
            "  Assertions: disabled\n",
            "  Random seed: 0\n",
            "  Sizeofs: void*:8, int:4, long:8, size_t:8\n",
            "Input files DNA, FASTA:\n",
            "  ref.fasta.gz\n",
            "Building a SMALL index\n",
            "Reading reference sizes\n",
            "  Time reading reference sizes: 00:00:00\n",
            "Calculating joined length\n",
            "Writing header\n",
            "Reserving space for joined string\n",
            "Joining reference sequences\n",
            "  Time to join reference sequences: 00:00:00\n",
            "bmax according to bmaxDivN setting: 903747\n",
            "Using parameters --bmax 677811 --dcv 1024\n",
            "  Doing ahead-of-time memory usage test\n",
            "  Passed!  Constructing with these parameters: --bmax 677811 --dcv 1024\n",
            "Constructing suffix-array element generator\n",
            "Building DifferenceCoverSample\n",
            "  Building sPrime\n",
            "  Building sPrimeOrder\n",
            "  V-Sorting samples\n",
            "  V-Sorting samples time: 00:00:00\n",
            "  Allocating rank array\n",
            "  Ranking v-sort output\n",
            "  Ranking v-sort output time: 00:00:00\n",
            "  Invoking Larsson-Sadakane on ranks\n",
            "  Invoking Larsson-Sadakane on ranks time: 00:00:00\n",
            "  Sanity-checking and returning\n",
            "Building samples\n",
            "Reserving space for 12 sample suffixes\n",
            "Generating random suffixes\n",
            "QSorting 12 sample offsets, eliminating duplicates\n",
            "QSorting sample offsets, eliminating duplicates time: 00:00:00\n",
            "Multikey QSorting 12 samples\n",
            "  (Using difference cover)\n",
            "  Multikey QSorting samples time: 00:00:00\n",
            "Calculating bucket sizes\n",
            "Splitting and merging\n",
            "  Splitting and merging time: 00:00:00\n",
            "Avg bucket size: 3.61499e+06 (target: 677810)\n",
            "Converting suffix-array elements to index image\n",
            "Allocating ftab, absorbFtab\n",
            "Entering Ebwt loop\n",
            "Getting block 1 of 1\n",
            "  No samples; assembling all-inclusive block\n",
            "  Sorting block of length 3614991 for bucket 1\n",
            "  (Using difference cover)\n",
            "  Sorting block time: 00:00:01\n",
            "Returning block of 3614992 for bucket 1\n",
            "Exited Ebwt loop\n",
            "fchr[A]: 0\n",
            "fchr[C]: 505683\n",
            "fchr[G]: 1805989\n",
            "fchr[T]: 3110131\n",
            "fchr[$]: 3614991\n",
            "Exiting Ebwt::buildToDisk()\n",
            "Returning from initFromVector\n",
            "Wrote 5399573 bytes to primary EBWT file: chromosome_index.1.bt2\n",
            "Wrote 903752 bytes to secondary EBWT file: chromosome_index.2.bt2\n",
            "Re-opening _in1 and _in2 as input streams\n",
            "Returning from Ebwt constructor\n",
            "Headers:\n",
            "    len: 3614991\n",
            "    bwtLen: 3614992\n",
            "    sz: 903748\n",
            "    bwtSz: 903748\n",
            "    lineRate: 6\n",
            "    offRate: 4\n",
            "    offMask: 0xfffffff0\n",
            "    ftabChars: 10\n",
            "    eftabLen: 20\n",
            "    eftabSz: 80\n",
            "    ftabLen: 1048577\n",
            "    ftabSz: 4194308\n",
            "    offsLen: 225937\n",
            "    offsSz: 903748\n",
            "    lineSz: 64\n",
            "    sideSz: 64\n",
            "    sideBwtSz: 48\n",
            "    sideBwtLen: 192\n",
            "    numSides: 18829\n",
            "    numLines: 18829\n",
            "    ebwtTotLen: 1205056\n",
            "    ebwtTotSz: 1205056\n",
            "    color: 0\n",
            "    reverse: 0\n",
            "Total time for call to driver() for forward index: 00:00:01\n",
            "Reading reference sizes\n",
            "  Time reading reference sizes: 00:00:00\n",
            "Calculating joined length\n",
            "Writing header\n",
            "Reserving space for joined string\n",
            "Joining reference sequences\n",
            "  Time to join reference sequences: 00:00:00\n",
            "  Time to reverse reference sequence: 00:00:00\n",
            "bmax according to bmaxDivN setting: 903747\n",
            "Using parameters --bmax 677811 --dcv 1024\n",
            "  Doing ahead-of-time memory usage test\n",
            "  Passed!  Constructing with these parameters: --bmax 677811 --dcv 1024\n",
            "Constructing suffix-array element generator\n",
            "Building DifferenceCoverSample\n",
            "  Building sPrime\n",
            "  Building sPrimeOrder\n",
            "  V-Sorting samples\n",
            "  V-Sorting samples time: 00:00:00\n",
            "  Allocating rank array\n",
            "  Ranking v-sort output\n",
            "  Ranking v-sort output time: 00:00:00\n",
            "  Invoking Larsson-Sadakane on ranks\n",
            "  Invoking Larsson-Sadakane on ranks time: 00:00:00\n",
            "  Sanity-checking and returning\n",
            "Building samples\n",
            "Reserving space for 12 sample suffixes\n",
            "Generating random suffixes\n",
            "QSorting 12 sample offsets, eliminating duplicates\n",
            "QSorting sample offsets, eliminating duplicates time: 00:00:00\n",
            "Multikey QSorting 12 samples\n",
            "  (Using difference cover)\n",
            "  Multikey QSorting samples time: 00:00:00\n",
            "Calculating bucket sizes\n",
            "Splitting and merging\n",
            "  Splitting and merging time: 00:00:00\n",
            "Avg bucket size: 3.61499e+06 (target: 677810)\n",
            "Converting suffix-array elements to index image\n",
            "Allocating ftab, absorbFtab\n",
            "Entering Ebwt loop\n",
            "Getting block 1 of 1\n",
            "  No samples; assembling all-inclusive block\n",
            "  Sorting block of length 3614991 for bucket 1\n",
            "  (Using difference cover)\n",
            "  Sorting block time: 00:00:01\n",
            "Returning block of 3614992 for bucket 1\n",
            "Exited Ebwt loop\n",
            "fchr[A]: 0\n",
            "fchr[C]: 505683\n",
            "fchr[G]: 1805989\n",
            "fchr[T]: 3110131\n",
            "fchr[$]: 3614991\n",
            "Exiting Ebwt::buildToDisk()\n",
            "Returning from initFromVector\n",
            "Wrote 5399573 bytes to primary EBWT file: chromosome_index.rev.1.bt2\n",
            "Wrote 903752 bytes to secondary EBWT file: chromosome_index.rev.2.bt2\n",
            "Re-opening _in1 and _in2 as input streams\n",
            "Returning from Ebwt constructor\n",
            "Headers:\n",
            "    len: 3614991\n",
            "    bwtLen: 3614992\n",
            "    sz: 903748\n",
            "    bwtSz: 903748\n",
            "    lineRate: 6\n",
            "    offRate: 4\n",
            "    offMask: 0xfffffff0\n",
            "    ftabChars: 10\n",
            "    eftabLen: 20\n",
            "    eftabSz: 80\n",
            "    ftabLen: 1048577\n",
            "    ftabSz: 4194308\n",
            "    offsLen: 225937\n",
            "    offsSz: 903748\n",
            "    lineSz: 64\n",
            "    sideSz: 64\n",
            "    sideBwtSz: 48\n",
            "    sideBwtLen: 192\n",
            "    numSides: 18829\n",
            "    numLines: 18829\n",
            "    ebwtTotLen: 1205056\n",
            "    ebwtTotSz: 1205056\n",
            "    color: 0\n",
            "    reverse: 1\n",
            "Total time for backward call to driver() for mirror index: 00:00:01\n"
          ]
        }
      ],
      "source": [
        "!bowtie2-build ref.fasta.gz chromosome_index"
      ]
    },
    {
      "cell_type": "code",
      "execution_count": 53,
      "metadata": {
        "id": "OR-C6piXcUBx"
      },
      "outputs": [],
      "source": [
        "!bowtie2 -x chromosome_index -1 frag.R1.fastq.gz -2 frag.R2.fastq.gz 1> fr_alignment.sam 2> fr_bowtie2.log"
      ]
    },
    {
      "cell_type": "code",
      "execution_count": null,
      "metadata": {
        "id": "AjCQZrd5d_Wb"
      },
      "outputs": [],
      "source": [
        "!samtools view -bS -o fr_alignment.bam fr_alignment.sam"
      ]
    },
    {
      "cell_type": "code",
      "execution_count": null,
      "metadata": {
        "id": "J0GEvx0yd_Z0"
      },
      "outputs": [],
      "source": [
        "!samtools sort -o fr_alignment_sorted.bam fr_alignment.bam"
      ]
    },
    {
      "cell_type": "code",
      "execution_count": null,
      "metadata": {
        "id": "2N1sFm3yd_cq"
      },
      "outputs": [],
      "source": [
        "!samtools index -b fr_alignment_sorted.bam fr_alignment.bai"
      ]
    },
    {
      "cell_type": "code",
      "execution_count": null,
      "metadata": {
        "id": "BeiInTptd_ga"
      },
      "outputs": [],
      "source": [
        "!samtools flagstat fr_alignment_sorted.bam"
      ]
    },
    {
      "cell_type": "markdown",
      "metadata": {
        "id": "6r-NeolkfoZV"
      },
      "source": [
        " ***jump***"
      ]
    },
    {
      "cell_type": "code",
      "execution_count": 58,
      "metadata": {
        "id": "L7_SDkn0Vz5m"
      },
      "outputs": [],
      "source": [
        "!bowtie2 -x chromosome_index -1 jump.R1.fastq.gz -2 jump.R2.fastq.gz 1> jump_alignment.sam 2> jump_bowtie2.log"
      ]
    },
    {
      "cell_type": "code",
      "execution_count": null,
      "metadata": {
        "id": "vvaZOS0lV0d5"
      },
      "outputs": [],
      "source": [
        "!samtools view -bS -o jump_alignment.bam jump_alignment.sam"
      ]
    },
    {
      "cell_type": "code",
      "execution_count": null,
      "metadata": {
        "id": "8CYTAymiedZH"
      },
      "outputs": [],
      "source": [
        "!samtools sort -o jump_alignment_sorted.bam jump_alignment.bam"
      ]
    },
    {
      "cell_type": "code",
      "execution_count": null,
      "metadata": {
        "id": "6j9IVbwZfb05"
      },
      "outputs": [],
      "source": [
        "!samtools index -b jump_alignment_sorted.bam jump_alignment.bai"
      ]
    },
    {
      "cell_type": "code",
      "execution_count": null,
      "metadata": {
        "id": "4ZQmYtFGfdUw"
      },
      "outputs": [],
      "source": [
        "!samtools flagstat jump_alignment_sorted.bam"
      ]
    },
    {
      "cell_type": "code",
      "execution_count": 27,
      "metadata": {
        "id": "h-MokWXxEjTO",
        "colab": {
          "base_uri": "https://localhost:8080/",
          "height": 112
        },
        "outputId": "62f33995-4962-4fb0-e286-f4fb87d93342"
      },
      "outputs": [
        {
          "output_type": "execute_result",
          "data": {
            "text/html": [
              "\n",
              "  <div id=\"df-6f502326-7906-40ec-b06c-651ac7a1dd78\">\n",
              "    <div class=\"colab-df-container\">\n",
              "      <div>\n",
              "<style scoped>\n",
              "    .dataframe tbody tr th:only-of-type {\n",
              "        vertical-align: middle;\n",
              "    }\n",
              "\n",
              "    .dataframe tbody tr th {\n",
              "        vertical-align: top;\n",
              "    }\n",
              "\n",
              "    .dataframe thead th {\n",
              "        text-align: right;\n",
              "    }\n",
              "</style>\n",
              "<table border=\"1\" class=\"dataframe\">\n",
              "  <thead>\n",
              "    <tr style=\"text-align: right;\">\n",
              "      <th></th>\n",
              "      <th>Общее число ридов</th>\n",
              "      <th>Выравнившиеся</th>\n",
              "    </tr>\n",
              "  </thead>\n",
              "  <tbody>\n",
              "    <tr>\n",
              "      <th>frag_alignment.sam</th>\n",
              "      <td>3432364</td>\n",
              "      <td>3156674 (91.97%)</td>\n",
              "    </tr>\n",
              "    <tr>\n",
              "      <th>jump_alignment.bam</th>\n",
              "      <td>4315600</td>\n",
              "      <td>4103027 (95.07%)</td>\n",
              "    </tr>\n",
              "  </tbody>\n",
              "</table>\n",
              "</div>\n",
              "      <button class=\"colab-df-convert\" onclick=\"convertToInteractive('df-6f502326-7906-40ec-b06c-651ac7a1dd78')\"\n",
              "              title=\"Convert this dataframe to an interactive table.\"\n",
              "              style=\"display:none;\">\n",
              "        \n",
              "  <svg xmlns=\"http://www.w3.org/2000/svg\" height=\"24px\"viewBox=\"0 0 24 24\"\n",
              "       width=\"24px\">\n",
              "    <path d=\"M0 0h24v24H0V0z\" fill=\"none\"/>\n",
              "    <path d=\"M18.56 5.44l.94 2.06.94-2.06 2.06-.94-2.06-.94-.94-2.06-.94 2.06-2.06.94zm-11 1L8.5 8.5l.94-2.06 2.06-.94-2.06-.94L8.5 2.5l-.94 2.06-2.06.94zm10 10l.94 2.06.94-2.06 2.06-.94-2.06-.94-.94-2.06-.94 2.06-2.06.94z\"/><path d=\"M17.41 7.96l-1.37-1.37c-.4-.4-.92-.59-1.43-.59-.52 0-1.04.2-1.43.59L10.3 9.45l-7.72 7.72c-.78.78-.78 2.05 0 2.83L4 21.41c.39.39.9.59 1.41.59.51 0 1.02-.2 1.41-.59l7.78-7.78 2.81-2.81c.8-.78.8-2.07 0-2.86zM5.41 20L4 18.59l7.72-7.72 1.47 1.35L5.41 20z\"/>\n",
              "  </svg>\n",
              "      </button>\n",
              "      \n",
              "  <style>\n",
              "    .colab-df-container {\n",
              "      display:flex;\n",
              "      flex-wrap:wrap;\n",
              "      gap: 12px;\n",
              "    }\n",
              "\n",
              "    .colab-df-convert {\n",
              "      background-color: #E8F0FE;\n",
              "      border: none;\n",
              "      border-radius: 50%;\n",
              "      cursor: pointer;\n",
              "      display: none;\n",
              "      fill: #1967D2;\n",
              "      height: 32px;\n",
              "      padding: 0 0 0 0;\n",
              "      width: 32px;\n",
              "    }\n",
              "\n",
              "    .colab-df-convert:hover {\n",
              "      background-color: #E2EBFA;\n",
              "      box-shadow: 0px 1px 2px rgba(60, 64, 67, 0.3), 0px 1px 3px 1px rgba(60, 64, 67, 0.15);\n",
              "      fill: #174EA6;\n",
              "    }\n",
              "\n",
              "    [theme=dark] .colab-df-convert {\n",
              "      background-color: #3B4455;\n",
              "      fill: #D2E3FC;\n",
              "    }\n",
              "\n",
              "    [theme=dark] .colab-df-convert:hover {\n",
              "      background-color: #434B5C;\n",
              "      box-shadow: 0px 1px 3px 1px rgba(0, 0, 0, 0.15);\n",
              "      filter: drop-shadow(0px 1px 2px rgba(0, 0, 0, 0.3));\n",
              "      fill: #FFFFFF;\n",
              "    }\n",
              "  </style>\n",
              "\n",
              "      <script>\n",
              "        const buttonEl =\n",
              "          document.querySelector('#df-6f502326-7906-40ec-b06c-651ac7a1dd78 button.colab-df-convert');\n",
              "        buttonEl.style.display =\n",
              "          google.colab.kernel.accessAllowed ? 'block' : 'none';\n",
              "\n",
              "        async function convertToInteractive(key) {\n",
              "          const element = document.querySelector('#df-6f502326-7906-40ec-b06c-651ac7a1dd78');\n",
              "          const dataTable =\n",
              "            await google.colab.kernel.invokeFunction('convertToInteractive',\n",
              "                                                     [key], {});\n",
              "          if (!dataTable) return;\n",
              "\n",
              "          const docLinkHtml = 'Like what you see? Visit the ' +\n",
              "            '<a target=\"_blank\" href=https://colab.research.google.com/notebooks/data_table.ipynb>data table notebook</a>'\n",
              "            + ' to learn more about interactive tables.';\n",
              "          element.innerHTML = '';\n",
              "          dataTable['output_type'] = 'display_data';\n",
              "          await google.colab.output.renderOutput(dataTable, element);\n",
              "          const docLink = document.createElement('div');\n",
              "          docLink.innerHTML = docLinkHtml;\n",
              "          element.appendChild(docLink);\n",
              "        }\n",
              "      </script>\n",
              "    </div>\n",
              "  </div>\n",
              "  "
            ],
            "text/plain": [
              "                    Общее число ридов     Выравнившиеся\n",
              "frag_alignment.sam            3432364  3156674 (91.97%)\n",
              "jump_alignment.bam            4315600  4103027 (95.07%)"
            ]
          },
          "metadata": {},
          "execution_count": 27
        }
      ],
      "source": [
        "data = {'Общее число ридов':[3432364,\n",
        "                             4315600],\n",
        "        \n",
        "        'Выравнившиеся':['3156674 (91.97%)',\n",
        "                              '4103027 (95.07%)']}\n",
        "\n",
        "df = pd.DataFrame(data, index =['frag_alignment.sam',\n",
        "                                'jump_alignment.bam'])\n",
        "df"
      ]
    },
    {
      "cell_type": "markdown",
      "metadata": {
        "id": "hh0TEbONXs4p"
      },
      "source": [
        "# 1. Покрытие генома"
      ]
    },
    {
      "cell_type": "markdown",
      "metadata": {
        "id": "T55kRI2XBpNQ"
      },
      "source": [
        "Функция, которая по sam-файлу возвращает множество значений FLAG (второй столбец)."
      ]
    },
    {
      "cell_type": "code",
      "execution_count": 112,
      "metadata": {
        "id": "UDf49-WwB12c"
      },
      "outputs": [],
      "source": [
        "def flags(file):\n",
        "  with open(file, 'r') as f:\n",
        "    l = [line.strip() for line in f]\n",
        "    s = set()\n",
        "    for i in range(3, len(l)):\n",
        "      a = l[i].split('\\t')\n",
        "      sc = a[1]\n",
        "      if sc not in s:\n",
        "        s.add(sc)\n",
        "    return s\n"
      ]
    },
    {
      "cell_type": "markdown",
      "metadata": {
        "id": "sKiZAj2nRnRp"
      },
      "source": [
        "Найдём длину референсного генома."
      ]
    },
    {
      "cell_type": "code",
      "execution_count": 78,
      "metadata": {
        "id": "8xNsqKhjRr7Q"
      },
      "outputs": [],
      "source": [
        "def lenth(file):\n",
        "  with open(file, 'r') as f:\n",
        "    l = 0\n",
        "    for i, line in enumerate(f):\n",
        "      l += len(line)\n",
        "    return l"
      ]
    },
    {
      "cell_type": "code",
      "execution_count": 324,
      "metadata": {
        "id": "FCc-epX6DCVS",
        "colab": {
          "base_uri": "https://localhost:8080/"
        },
        "outputId": "74643bdc-0078-47a9-e033-0c6dd6667ba2"
      },
      "outputs": [
        {
          "output_type": "execute_result",
          "data": {
            "text/plain": [
              "{'101',\n",
              " '113',\n",
              " '129',\n",
              " '133',\n",
              " '137',\n",
              " '141',\n",
              " '145',\n",
              " '147',\n",
              " '153',\n",
              " '161',\n",
              " '163',\n",
              " '165',\n",
              " '177',\n",
              " '65',\n",
              " '69',\n",
              " '73',\n",
              " '77',\n",
              " '81',\n",
              " '83',\n",
              " '89',\n",
              " '97',\n",
              " '99'}"
            ]
          },
          "metadata": {},
          "execution_count": 324
        }
      ],
      "source": [
        "flags('jump_alignment.sam')"
      ]
    },
    {
      "cell_type": "code",
      "execution_count": null,
      "metadata": {
        "id": "wmh30fvdltwc",
        "colab": {
          "base_uri": "https://localhost:8080/"
        },
        "outputId": "6875b19e-b0b3-4737-c6af-cc13e1f4f920"
      },
      "outputs": [
        {
          "output_type": "execute_result",
          "data": {
            "text/plain": [
              "{'147', '163', '83', '99'}"
            ]
          },
          "metadata": {},
          "execution_count": 82
        }
      ],
      "source": [
        "flags('test_alignment.sam')"
      ]
    },
    {
      "cell_type": "code",
      "execution_count": null,
      "metadata": {
        "id": "KPh0WWGsDPJJ",
        "colab": {
          "base_uri": "https://localhost:8080/"
        },
        "outputId": "fecc750b-8c01-4f30-b863-98247324e9e2"
      },
      "outputs": [
        {
          "output_type": "execute_result",
          "data": {
            "text/plain": [
              "{'101',\n",
              " '113',\n",
              " '129',\n",
              " '133',\n",
              " '137',\n",
              " '141',\n",
              " '145',\n",
              " '147',\n",
              " '153',\n",
              " '161',\n",
              " '163',\n",
              " '165',\n",
              " '177',\n",
              " '65',\n",
              " '69',\n",
              " '73',\n",
              " '77',\n",
              " '81',\n",
              " '83',\n",
              " '89',\n",
              " '97',\n",
              " '99'}"
            ]
          },
          "metadata": {},
          "execution_count": 83
        }
      ],
      "source": [
        "flags('fr_alignment.sam')"
      ]
    },
    {
      "cell_type": "markdown",
      "metadata": {
        "id": "idO8-YnMD1X1"
      },
      "source": [
        "Полученные значения соответствуют следующему:\n",
        "\n",
        "'0' - всё ок;\n",
        "\n",
        "'4' - рид не был выровнен;\n",
        "\n",
        "'16' - рид был выровнен в обратном направлении\n",
        "\n",
        "'64' - read1\n",
        "\n",
        "'128' - read2\n",
        "\n",
        "и прочие, которые говорят о парности ридов\n",
        "\n",
        "Число FLAG - сумма некоторых значений и объединение соответствующих признаков. Нас больше интересует, есть ли у значения слагаемые 4 и 16"
      ]
    },
    {
      "cell_type": "code",
      "execution_count": 80,
      "metadata": {
        "id": "o3FT3Q-Sjnzp"
      },
      "outputs": [],
      "source": [
        "revers = (145, 81, 83, 147, 89, 113, 153, 177)\n",
        "straight = (65, 129, 73, 97, 99, 137, 161, 163)"
      ]
    },
    {
      "cell_type": "markdown",
      "metadata": {
        "id": "QA4y7LF-X7Ea"
      },
      "source": [
        "***test***"
      ]
    },
    {
      "cell_type": "code",
      "execution_count": 325,
      "metadata": {
        "id": "6gURl89HX9E4",
        "colab": {
          "base_uri": "https://localhost:8080/"
        },
        "outputId": "f3f90a63-0ec1-447a-f5dc-5e894f34c171"
      },
      "outputs": [
        {
          "output_type": "stream",
          "name": "stdout",
          "text": [
            "head: cannot open 'test_alignment_sorted.sam' for reading: No such file or directory\n"
          ]
        }
      ],
      "source": [
        "!head 'test_alignment_sorted.sam'"
      ]
    },
    {
      "cell_type": "code",
      "execution_count": null,
      "metadata": {
        "id": "4VeQAc8gX9HM"
      },
      "outputs": [],
      "source": [
        "with open('test_alignment.sam', 'r') as f:\n",
        "    l = [line.strip() for line in f]\n",
        "    n = lenth('MG1655-K12.first10K.fasta')\n",
        "    s = [0] * n\n",
        "    for i in range(3, len(l)):\n",
        "      a = l[i].split('\\t')\n",
        "      if int(a[1]) in straight:\n",
        "        for i in range(int(a[3]) + 1, int(a[3]) + len(a[9]) + 1):\n",
        "          s[i] += 1\n",
        "      elif int(a[1]) in revers:\n",
        "        for i in range(int(a[3]) + 1, int(a[3]) + len(a[9]) + 1):\n",
        "          s[n - i - 1] += 1\n",
        "    df = pd.DataFrame()\n",
        "    df['coverage'] = s"
      ]
    },
    {
      "cell_type": "code",
      "execution_count": null,
      "metadata": {
        "id": "wrjW92sGX9JP",
        "colab": {
          "base_uri": "https://localhost:8080/",
          "height": 283
        },
        "outputId": "3c2c5f6a-4e58-452d-9cfb-1ad1e3d3a78c"
      },
      "outputs": [
        {
          "output_type": "execute_result",
          "data": {
            "text/plain": [
              "<matplotlib.axes._subplots.AxesSubplot at 0x7fbfa7919490>"
            ]
          },
          "metadata": {},
          "execution_count": 89
        },
        {
          "output_type": "display_data",
          "data": {
            "image/png": "[encoded data removed]",
            "text/plain": [
              "<Figure size 432x288 with 1 Axes>"
            ]
          },
          "metadata": {
            "needs_background": "light"
          }
        }
      ],
      "source": [
        "sns.lineplot(data=df, x=df.index, y=df['coverage'])\n"
      ]
    },
    {
      "cell_type": "code",
      "execution_count": null,
      "metadata": {
        "id": "LQ3eLaB8mhkq",
        "colab": {
          "base_uri": "https://localhost:8080/"
        },
        "outputId": "e5adec12-9349-4d07-95e7-f79bceef0f6b"
      },
      "outputs": [
        {
          "output_type": "stream",
          "name": "stdout",
          "text": [
            "gzip: ref.fasta.gz: No such file or directory\n"
          ]
        }
      ],
      "source": [
        "!gunzip ref.fasta.gz"
      ]
    },
    {
      "cell_type": "code",
      "execution_count": null,
      "metadata": {
        "id": "B8ouJvX8aifT"
      },
      "outputs": [],
      "source": [
        "with open('fr_alignment.sam', 'r') as f:\n",
        "    l = [line.strip() for line in f]\n",
        "    n = lenth('ref.fasta')\n",
        "    s = [0] * n\n",
        "    for i in range(3, len(l)):\n",
        "      a = l[i].split('\\t')\n",
        "      if int(a[1]) in straight:\n",
        "        for i in range(int(a[3]) + 1, int(a[3]) + len(a[9]) + 1):\n",
        "          s[i] += 1\n",
        "      elif int(a[1]) in revers:\n",
        "        for i in range(int(a[3]) + 1, int(a[3]) + len(a[9]) + 1):\n",
        "          s[n - i - 1] += 1\n",
        "    df = pd.DataFrame()\n",
        "    df['coverage'] = s"
      ]
    },
    {
      "cell_type": "code",
      "execution_count": null,
      "metadata": {
        "id": "R21iJRkfaiiQ",
        "colab": {
          "base_uri": "https://localhost:8080/",
          "height": 296
        },
        "outputId": "ba00fd4c-f1b8-4765-ab56-a313123e95cc"
      },
      "outputs": [
        {
          "output_type": "execute_result",
          "data": {
            "text/plain": [
              "<matplotlib.axes._subplots.AxesSubplot at 0x7fc008545790>"
            ]
          },
          "metadata": {},
          "execution_count": 93
        },
        {
          "output_type": "display_data",
          "data": {
            "image/png": "[encoded data removed]",
            "text/plain": [
              "<Figure size 432x288 with 1 Axes>"
            ]
          },
          "metadata": {
            "needs_background": "light"
          }
        }
      ],
      "source": [
        "sns.lineplot(data=df, x=df.index, y=df['coverage'])\n"
      ]
    },
    {
      "cell_type": "code",
      "execution_count": null,
      "metadata": {
        "id": "TQ_kG2PWnnjm",
        "colab": {
          "base_uri": "https://localhost:8080/"
        },
        "outputId": "7cd9d652-a28a-4dcd-8bf3-2b4eda59f0a0"
      },
      "outputs": [
        {
          "output_type": "execute_result",
          "data": {
            "text/plain": [
              "0.999998915208345"
            ]
          },
          "metadata": {},
          "execution_count": 94
        }
      ],
      "source": [
        "prop = (len(s) - s.count(0)) / len(s)\n",
        "prop"
      ]
    },
    {
      "cell_type": "code",
      "execution_count": null,
      "metadata": {
        "id": "PIK1rZ8XnEtr",
        "colab": {
          "base_uri": "https://localhost:8080/"
        },
        "outputId": "53f78091-efb1-4676-f4e0-17a19f7e2fea"
      },
      "outputs": [
        {
          "output_type": "execute_result",
          "data": {
            "text/plain": [
              "128.41251046823947"
            ]
          },
          "metadata": {},
          "execution_count": 95
        }
      ],
      "source": [
        "meanzn = np.mean(s)\n",
        "meanzn"
      ]
    },
    {
      "cell_type": "code",
      "execution_count": null,
      "metadata": {
        "id": "g8MPVNTUmphL"
      },
      "outputs": [],
      "source": [
        "with open('jump_alignment.sam', 'r') as f:\n",
        "    l = [line.strip() for line in f]\n",
        "    n = lenth('ref.fasta')\n",
        "    s = [0] * n\n",
        "    for i in range(3, len(l)):\n",
        "      a = l[i].split('\\t')\n",
        "      if int(a[1]) in straight:\n",
        "        for i in range(int(a[3]) + 1, int(a[3]) + len(a[9]) + 1):\n",
        "          s[i] += 1\n",
        "      elif int(a[1]) in revers:\n",
        "        for i in range(int(a[3]) + 1, int(a[3]) + len(a[9]) + 1):\n",
        "          s[n - i - 1] += 1\n",
        "    df = pd.DataFrame()\n",
        "    df['coverage'] = s"
      ]
    },
    {
      "cell_type": "code",
      "execution_count": null,
      "metadata": {
        "id": "22XzGYbrmplS",
        "colab": {
          "base_uri": "https://localhost:8080/",
          "height": 296
        },
        "outputId": "461348d6-df8f-436f-9413-61c2de12f55f"
      },
      "outputs": [
        {
          "output_type": "execute_result",
          "data": {
            "text/plain": [
              "<matplotlib.axes._subplots.AxesSubplot at 0x7fc065396890>"
            ]
          },
          "metadata": {},
          "execution_count": 97
        },
        {
          "output_type": "display_data",
          "data": {
            "image/png": "[encoded data removed]",
            "text/plain": [
              "<Figure size 432x288 with 1 Axes>"
            ]
          },
          "metadata": {
            "needs_background": "light"
          }
        }
      ],
      "source": [
        "sns.lineplot(data=df, x=df.index, y=df['coverage'])\n"
      ]
    },
    {
      "cell_type": "code",
      "execution_count": null,
      "metadata": {
        "id": "hofgL-a0oLYr",
        "colab": {
          "base_uri": "https://localhost:8080/"
        },
        "outputId": "3f8a7414-1df1-4eb5-fe40-2e8f30fff488"
      },
      "outputs": [
        {
          "output_type": "execute_result",
          "data": {
            "text/plain": [
              "0.9094079641064137"
            ]
          },
          "metadata": {},
          "execution_count": 98
        }
      ],
      "source": [
        "prop = (len(s) - s.count(0)) / len(s)\n",
        "prop"
      ]
    },
    {
      "cell_type": "code",
      "execution_count": null,
      "metadata": {
        "id": "CsR0whzooL87",
        "colab": {
          "base_uri": "https://localhost:8080/"
        },
        "outputId": "3343f6ce-50e5-4cf6-9b37-68b62931f0d7"
      },
      "outputs": [
        {
          "output_type": "execute_result",
          "data": {
            "text/plain": [
              "120.65565783935537"
            ]
          },
          "metadata": {},
          "execution_count": 99
        }
      ],
      "source": [
        "meanzn = np.mean(s)\n",
        "meanzn"
      ]
    },
    {
      "cell_type": "markdown",
      "metadata": {
        "id": "VUmUpcPzmzev"
      },
      "source": [
        "Итоговая табличка с результатами\n"
      ]
    },
    {
      "cell_type": "code",
      "execution_count": null,
      "metadata": {
        "id": "pC0VuJK8oUK_",
        "colab": {
          "base_uri": "https://localhost:8080/",
          "height": 112
        },
        "outputId": "7af66fc6-7d31-4771-8037-2f1bacd99935"
      },
      "outputs": [
        {
          "output_type": "execute_result",
          "data": {
            "text/html": [
              "\n",
              "  <div id=\"df-cbb7ca5d-8ed9-4db1-bc29-fe05591b39e3\">\n",
              "    <div class=\"colab-df-container\">\n",
              "      <div>\n",
              "<style scoped>\n",
              "    .dataframe tbody tr th:only-of-type {\n",
              "        vertical-align: middle;\n",
              "    }\n",
              "\n",
              "    .dataframe tbody tr th {\n",
              "        vertical-align: top;\n",
              "    }\n",
              "\n",
              "    .dataframe thead th {\n",
              "        text-align: right;\n",
              "    }\n",
              "</style>\n",
              "<table border=\"1\" class=\"dataframe\">\n",
              "  <thead>\n",
              "    <tr style=\"text-align: right;\">\n",
              "      <th></th>\n",
              "      <th>Среднее покрытие</th>\n",
              "      <th>Доля покрытой области генома</th>\n",
              "    </tr>\n",
              "  </thead>\n",
              "  <tbody>\n",
              "    <tr>\n",
              "      <th>frag_alignment.sam</th>\n",
              "      <td>128.41</td>\n",
              "      <td>0.999</td>\n",
              "    </tr>\n",
              "    <tr>\n",
              "      <th>jump_alignment.bam</th>\n",
              "      <td>120.65</td>\n",
              "      <td>0.909</td>\n",
              "    </tr>\n",
              "  </tbody>\n",
              "</table>\n",
              "</div>\n",
              "      <button class=\"colab-df-convert\" onclick=\"convertToInteractive('df-cbb7ca5d-8ed9-4db1-bc29-fe05591b39e3')\"\n",
              "              title=\"Convert this dataframe to an interactive table.\"\n",
              "              style=\"display:none;\">\n",
              "        \n",
              "  <svg xmlns=\"http://www.w3.org/2000/svg\" height=\"24px\"viewBox=\"0 0 24 24\"\n",
              "       width=\"24px\">\n",
              "    <path d=\"M0 0h24v24H0V0z\" fill=\"none\"/>\n",
              "    <path d=\"M18.56 5.44l.94 2.06.94-2.06 2.06-.94-2.06-.94-.94-2.06-.94 2.06-2.06.94zm-11 1L8.5 8.5l.94-2.06 2.06-.94-2.06-.94L8.5 2.5l-.94 2.06-2.06.94zm10 10l.94 2.06.94-2.06 2.06-.94-2.06-.94-.94-2.06-.94 2.06-2.06.94z\"/><path d=\"M17.41 7.96l-1.37-1.37c-.4-.4-.92-.59-1.43-.59-.52 0-1.04.2-1.43.59L10.3 9.45l-7.72 7.72c-.78.78-.78 2.05 0 2.83L4 21.41c.39.39.9.59 1.41.59.51 0 1.02-.2 1.41-.59l7.78-7.78 2.81-2.81c.8-.78.8-2.07 0-2.86zM5.41 20L4 18.59l7.72-7.72 1.47 1.35L5.41 20z\"/>\n",
              "  </svg>\n",
              "      </button>\n",
              "      \n",
              "  <style>\n",
              "    .colab-df-container {\n",
              "      display:flex;\n",
              "      flex-wrap:wrap;\n",
              "      gap: 12px;\n",
              "    }\n",
              "\n",
              "    .colab-df-convert {\n",
              "      background-color: #E8F0FE;\n",
              "      border: none;\n",
              "      border-radius: 50%;\n",
              "      cursor: pointer;\n",
              "      display: none;\n",
              "      fill: #1967D2;\n",
              "      height: 32px;\n",
              "      padding: 0 0 0 0;\n",
              "      width: 32px;\n",
              "    }\n",
              "\n",
              "    .colab-df-convert:hover {\n",
              "      background-color: #E2EBFA;\n",
              "      box-shadow: 0px 1px 2px rgba(60, 64, 67, 0.3), 0px 1px 3px 1px rgba(60, 64, 67, 0.15);\n",
              "      fill: #174EA6;\n",
              "    }\n",
              "\n",
              "    [theme=dark] .colab-df-convert {\n",
              "      background-color: #3B4455;\n",
              "      fill: #D2E3FC;\n",
              "    }\n",
              "\n",
              "    [theme=dark] .colab-df-convert:hover {\n",
              "      background-color: #434B5C;\n",
              "      box-shadow: 0px 1px 3px 1px rgba(0, 0, 0, 0.15);\n",
              "      filter: drop-shadow(0px 1px 2px rgba(0, 0, 0, 0.3));\n",
              "      fill: #FFFFFF;\n",
              "    }\n",
              "  </style>\n",
              "\n",
              "      <script>\n",
              "        const buttonEl =\n",
              "          document.querySelector('#df-cbb7ca5d-8ed9-4db1-bc29-fe05591b39e3 button.colab-df-convert');\n",
              "        buttonEl.style.display =\n",
              "          google.colab.kernel.accessAllowed ? 'block' : 'none';\n",
              "\n",
              "        async function convertToInteractive(key) {\n",
              "          const element = document.querySelector('#df-cbb7ca5d-8ed9-4db1-bc29-fe05591b39e3');\n",
              "          const dataTable =\n",
              "            await google.colab.kernel.invokeFunction('convertToInteractive',\n",
              "                                                     [key], {});\n",
              "          if (!dataTable) return;\n",
              "\n",
              "          const docLinkHtml = 'Like what you see? Visit the ' +\n",
              "            '<a target=\"_blank\" href=https://colab.research.google.com/notebooks/data_table.ipynb>data table notebook</a>'\n",
              "            + ' to learn more about interactive tables.';\n",
              "          element.innerHTML = '';\n",
              "          dataTable['output_type'] = 'display_data';\n",
              "          await google.colab.output.renderOutput(dataTable, element);\n",
              "          const docLink = document.createElement('div');\n",
              "          docLink.innerHTML = docLinkHtml;\n",
              "          element.appendChild(docLink);\n",
              "        }\n",
              "      </script>\n",
              "    </div>\n",
              "  </div>\n",
              "  "
            ],
            "text/plain": [
              "                    Среднее покрытие Доля покрытой области генома\n",
              "frag_alignment.sam            128.41                        0.999\n",
              "jump_alignment.bam            120.65                        0.909"
            ]
          },
          "metadata": {},
          "execution_count": 100
        }
      ],
      "source": [
        "data = {'Среднее покрытие':[128.41,\n",
        "                             120.65],\n",
        "        \n",
        "        'Доля покрытой области генома':['0.999',\n",
        "                              '0.909']}\n",
        "\n",
        "df = pd.DataFrame(data, index =['frag_alignment.sam',\n",
        "                                'jump_alignment.bam'])\n",
        "df"
      ]
    },
    {
      "cell_type": "markdown",
      "metadata": {
        "id": "JwoaU2Lno3Fo"
      },
      "source": [
        "# 2. Распределение расстояния вставки"
      ]
    },
    {
      "cell_type": "code",
      "execution_count": null,
      "metadata": {
        "id": "RpaSgJwlpgrU"
      },
      "outputs": [],
      "source": [
        "!samtools stats test_alignment_sorted.bam | grep IS > test_stats.txt"
      ]
    },
    {
      "cell_type": "code",
      "execution_count": null,
      "metadata": {
        "id": "DOhquBsBqwzj",
        "colab": {
          "base_uri": "https://localhost:8080/"
        },
        "outputId": "ffc94720-9c1e-43ad-f37b-dd6a2472199e"
      },
      "outputs": [
        {
          "output_type": "stream",
          "name": "stdout",
          "text": [
            "# Insert sizes. Use `grep ^IS | cut -f 2-` to extract this part. The columns are: insert size, pairs total, inward oriented pairs, outward oriented pairs, other pairs\n",
            "IS\t0\t0\t0\t0\t0\n",
            "IS\t1\t0\t0\t0\t0\n",
            "IS\t2\t0\t0\t0\t0\n",
            "IS\t3\t0\t0\t0\t0\n",
            "IS\t4\t0\t0\t0\t0\n",
            "IS\t5\t0\t0\t0\t0\n",
            "IS\t6\t0\t0\t0\t0\n",
            "IS\t7\t0\t0\t0\t0\n",
            "IS\t8\t0\t0\t0\t0\n"
          ]
        }
      ],
      "source": [
        "!head test_stats.txt"
      ]
    },
    {
      "cell_type": "code",
      "execution_count": null,
      "metadata": {
        "id": "2ttwqJL6sN0D"
      },
      "outputs": [],
      "source": [
        "with open('test_stats.txt', 'r') as f:\n",
        "    l = [line.strip() for line in f]\n",
        "    IS = [0] * (len(l) - 1)\n",
        "    COUNT = [0] * (len(l) - 1)\n",
        "    for i in range(1, len(l)):\n",
        "      a = l[i].split('\\t')\n",
        "      IS[i - 1] = int(a[1])\n",
        "      COUNT[i - 1] = int(a[2])\n",
        "df = pd.DataFrame()\n",
        "df['insert size'] = IS\n",
        "df['count'] = COUNT"
      ]
    },
    {
      "cell_type": "code",
      "execution_count": null,
      "metadata": {
        "id": "qoaVDVsUtKgd",
        "colab": {
          "base_uri": "https://localhost:8080/",
          "height": 297
        },
        "outputId": "f7a076d6-19ee-4e78-de96-4fa2d386f541"
      },
      "outputs": [
        {
          "output_type": "execute_result",
          "data": {
            "text/plain": [
              "<matplotlib.axes._subplots.AxesSubplot at 0x7fc008524610>"
            ]
          },
          "metadata": {},
          "execution_count": 104
        },
        {
          "output_type": "display_data",
          "data": {
            "image/png": "[encoded data removed]",
            "text/plain": [
              "<Figure size 432x288 with 1 Axes>"
            ]
          },
          "metadata": {
            "needs_background": "light"
          }
        }
      ],
      "source": [
        "sns.lineplot(data=df, x=df['insert size'], y=df['count'])\n"
      ]
    },
    {
      "cell_type": "markdown",
      "source": [
        "График полученный при помощи samtools stats."
      ],
      "metadata": {
        "id": "94tlXt9iCWfQ"
      }
    },
    {
      "cell_type": "code",
      "execution_count": null,
      "metadata": {
        "id": "uLm0jWd0tzb6",
        "colab": {
          "base_uri": "https://localhost:8080/",
          "height": 455
        },
        "outputId": "200841b7-8da1-4c7e-88ad-8da2ab3210ed"
      },
      "outputs": [
        {
          "output_type": "execute_result",
          "data": {
            "text/html": [
              "\n",
              "  <div id=\"df-ebe9a140-76e2-4a1a-a437-7f82ea76af6d\">\n",
              "    <div class=\"colab-df-container\">\n",
              "      <div>\n",
              "<style scoped>\n",
              "    .dataframe tbody tr th:only-of-type {\n",
              "        vertical-align: middle;\n",
              "    }\n",
              "\n",
              "    .dataframe tbody tr th {\n",
              "        vertical-align: top;\n",
              "    }\n",
              "\n",
              "    .dataframe thead th {\n",
              "        text-align: right;\n",
              "    }\n",
              "</style>\n",
              "<table border=\"1\" class=\"dataframe\">\n",
              "  <thead>\n",
              "    <tr style=\"text-align: right;\">\n",
              "      <th></th>\n",
              "      <th>count</th>\n",
              "    </tr>\n",
              "    <tr>\n",
              "      <th>Расстояние вставки</th>\n",
              "      <th></th>\n",
              "    </tr>\n",
              "  </thead>\n",
              "  <tbody>\n",
              "    <tr>\n",
              "      <th>58</th>\n",
              "      <td>2</td>\n",
              "    </tr>\n",
              "    <tr>\n",
              "      <th>60</th>\n",
              "      <td>2</td>\n",
              "    </tr>\n",
              "    <tr>\n",
              "      <th>62</th>\n",
              "      <td>2</td>\n",
              "    </tr>\n",
              "    <tr>\n",
              "      <th>65</th>\n",
              "      <td>2</td>\n",
              "    </tr>\n",
              "    <tr>\n",
              "      <th>100</th>\n",
              "      <td>2</td>\n",
              "    </tr>\n",
              "    <tr>\n",
              "      <th>...</th>\n",
              "      <td>...</td>\n",
              "    </tr>\n",
              "    <tr>\n",
              "      <th>246</th>\n",
              "      <td>26</td>\n",
              "    </tr>\n",
              "    <tr>\n",
              "      <th>247</th>\n",
              "      <td>16</td>\n",
              "    </tr>\n",
              "    <tr>\n",
              "      <th>248</th>\n",
              "      <td>16</td>\n",
              "    </tr>\n",
              "    <tr>\n",
              "      <th>249</th>\n",
              "      <td>8</td>\n",
              "    </tr>\n",
              "    <tr>\n",
              "      <th>250</th>\n",
              "      <td>6</td>\n",
              "    </tr>\n",
              "  </tbody>\n",
              "</table>\n",
              "<p>98 rows × 1 columns</p>\n",
              "</div>\n",
              "      <button class=\"colab-df-convert\" onclick=\"convertToInteractive('df-ebe9a140-76e2-4a1a-a437-7f82ea76af6d')\"\n",
              "              title=\"Convert this dataframe to an interactive table.\"\n",
              "              style=\"display:none;\">\n",
              "        \n",
              "  <svg xmlns=\"http://www.w3.org/2000/svg\" height=\"24px\"viewBox=\"0 0 24 24\"\n",
              "       width=\"24px\">\n",
              "    <path d=\"M0 0h24v24H0V0z\" fill=\"none\"/>\n",
              "    <path d=\"M18.56 5.44l.94 2.06.94-2.06 2.06-.94-2.06-.94-.94-2.06-.94 2.06-2.06.94zm-11 1L8.5 8.5l.94-2.06 2.06-.94-2.06-.94L8.5 2.5l-.94 2.06-2.06.94zm10 10l.94 2.06.94-2.06 2.06-.94-2.06-.94-.94-2.06-.94 2.06-2.06.94z\"/><path d=\"M17.41 7.96l-1.37-1.37c-.4-.4-.92-.59-1.43-.59-.52 0-1.04.2-1.43.59L10.3 9.45l-7.72 7.72c-.78.78-.78 2.05 0 2.83L4 21.41c.39.39.9.59 1.41.59.51 0 1.02-.2 1.41-.59l7.78-7.78 2.81-2.81c.8-.78.8-2.07 0-2.86zM5.41 20L4 18.59l7.72-7.72 1.47 1.35L5.41 20z\"/>\n",
              "  </svg>\n",
              "      </button>\n",
              "      \n",
              "  <style>\n",
              "    .colab-df-container {\n",
              "      display:flex;\n",
              "      flex-wrap:wrap;\n",
              "      gap: 12px;\n",
              "    }\n",
              "\n",
              "    .colab-df-convert {\n",
              "      background-color: #E8F0FE;\n",
              "      border: none;\n",
              "      border-radius: 50%;\n",
              "      cursor: pointer;\n",
              "      display: none;\n",
              "      fill: #1967D2;\n",
              "      height: 32px;\n",
              "      padding: 0 0 0 0;\n",
              "      width: 32px;\n",
              "    }\n",
              "\n",
              "    .colab-df-convert:hover {\n",
              "      background-color: #E2EBFA;\n",
              "      box-shadow: 0px 1px 2px rgba(60, 64, 67, 0.3), 0px 1px 3px 1px rgba(60, 64, 67, 0.15);\n",
              "      fill: #174EA6;\n",
              "    }\n",
              "\n",
              "    [theme=dark] .colab-df-convert {\n",
              "      background-color: #3B4455;\n",
              "      fill: #D2E3FC;\n",
              "    }\n",
              "\n",
              "    [theme=dark] .colab-df-convert:hover {\n",
              "      background-color: #434B5C;\n",
              "      box-shadow: 0px 1px 3px 1px rgba(0, 0, 0, 0.15);\n",
              "      filter: drop-shadow(0px 1px 2px rgba(0, 0, 0, 0.3));\n",
              "      fill: #FFFFFF;\n",
              "    }\n",
              "  </style>\n",
              "\n",
              "      <script>\n",
              "        const buttonEl =\n",
              "          document.querySelector('#df-ebe9a140-76e2-4a1a-a437-7f82ea76af6d button.colab-df-convert');\n",
              "        buttonEl.style.display =\n",
              "          google.colab.kernel.accessAllowed ? 'block' : 'none';\n",
              "\n",
              "        async function convertToInteractive(key) {\n",
              "          const element = document.querySelector('#df-ebe9a140-76e2-4a1a-a437-7f82ea76af6d');\n",
              "          const dataTable =\n",
              "            await google.colab.kernel.invokeFunction('convertToInteractive',\n",
              "                                                     [key], {});\n",
              "          if (!dataTable) return;\n",
              "\n",
              "          const docLinkHtml = 'Like what you see? Visit the ' +\n",
              "            '<a target=\"_blank\" href=https://colab.research.google.com/notebooks/data_table.ipynb>data table notebook</a>'\n",
              "            + ' to learn more about interactive tables.';\n",
              "          element.innerHTML = '';\n",
              "          dataTable['output_type'] = 'display_data';\n",
              "          await google.colab.output.renderOutput(dataTable, element);\n",
              "          const docLink = document.createElement('div');\n",
              "          docLink.innerHTML = docLinkHtml;\n",
              "          element.appendChild(docLink);\n",
              "        }\n",
              "      </script>\n",
              "    </div>\n",
              "  </div>\n",
              "  "
            ],
            "text/plain": [
              "                    count\n",
              "Расстояние вставки       \n",
              "58                      2\n",
              "60                      2\n",
              "62                      2\n",
              "65                      2\n",
              "100                     2\n",
              "...                   ...\n",
              "246                    26\n",
              "247                    16\n",
              "248                    16\n",
              "249                     8\n",
              "250                     6\n",
              "\n",
              "[98 rows x 1 columns]"
            ]
          },
          "metadata": {},
          "execution_count": 113
        }
      ],
      "source": [
        "with open('test_alignment.sam', 'r') as f:\n",
        "    l = [line.strip() for line in f]\n",
        "    s = []\n",
        "    for i in range(3, len(l)):\n",
        "      a = l[i].split('\\t')\n",
        "      s.append(abs(int(a[8])))\n",
        "    df = pd.DataFrame()\n",
        "    df['Расстояние вставки'] = s\n",
        "    df['count'] = 1\n",
        "DF = df.groupby('Расстояние вставки').count()\n",
        "DF"
      ]
    },
    {
      "cell_type": "code",
      "source": [
        "sns.lineplot(data=DF, x=DF.index, y=DF['count'])"
      ],
      "metadata": {
        "colab": {
          "base_uri": "https://localhost:8080/",
          "height": 297
        },
        "id": "qF3H6oT8AwHr",
        "outputId": "da20db26-2411-4ec1-e208-54d851b10b77"
      },
      "execution_count": null,
      "outputs": [
        {
          "output_type": "execute_result",
          "data": {
            "text/plain": [
              "<matplotlib.axes._subplots.AxesSubplot at 0x7fc06d6b0110>"
            ]
          },
          "metadata": {},
          "execution_count": 114
        },
        {
          "output_type": "display_data",
          "data": {
            "image/png": "[encoded data removed]",
            "text/plain": [
              "<Figure size 432x288 with 1 Axes>"
            ]
          },
          "metadata": {
            "needs_background": "light"
          }
        }
      ]
    },
    {
      "cell_type": "markdown",
      "source": [
        "График по столбцу Template Length or TLEN .sam файла. Отличается от верхнего вдвое (каждое расстояние между парой ридов считается дважды). Поскольку до конца неясно, что требуется в задании, то для каждого файла оставлю два графика"
      ],
      "metadata": {
        "id": "893Dt8CXCjtm"
      }
    },
    {
      "cell_type": "code",
      "execution_count": null,
      "metadata": {
        "id": "6N2KwyCHt5-e"
      },
      "outputs": [],
      "source": [
        "!samtools stats fr_alignment_sorted.bam | grep IS > fr_stats.txt"
      ]
    },
    {
      "cell_type": "code",
      "execution_count": null,
      "metadata": {
        "id": "bwnz8eaxt5-f",
        "colab": {
          "base_uri": "https://localhost:8080/"
        },
        "outputId": "95155394-73bd-4175-e7dd-984b5fc0be61"
      },
      "outputs": [
        {
          "output_type": "stream",
          "name": "stdout",
          "text": [
            "# Insert sizes. Use `grep ^IS | cut -f 2-` to extract this part. The columns are: insert size, pairs total, inward oriented pairs, outward oriented pairs, other pairs\n",
            "IS\t0\t135\t52\t48\t35\n",
            "IS\t1\t0\t0\t0\t0\n",
            "IS\t2\t0\t0\t0\t0\n",
            "IS\t3\t0\t0\t0\t0\n",
            "IS\t4\t0\t0\t0\t0\n",
            "IS\t5\t0\t0\t0\t0\n",
            "IS\t6\t0\t0\t0\t0\n",
            "IS\t7\t0\t0\t0\t0\n",
            "IS\t8\t0\t0\t0\t0\n"
          ]
        }
      ],
      "source": [
        "!head fr_stats.txt"
      ]
    },
    {
      "cell_type": "code",
      "source": [
        "!head fr_alignment.sam"
      ],
      "metadata": {
        "colab": {
          "base_uri": "https://localhost:8080/"
        },
        "id": "t47f49xLGAZy",
        "outputId": "c59d82e3-1a29-4034-904d-005a12e89d99"
      },
      "execution_count": null,
      "outputs": [
        {
          "output_type": "stream",
          "name": "stdout",
          "text": [
            "@HD\tVN:1.0\tSO:unsorted\n",
            "@SQ\tSN:Contig184\tLN:3614991\n",
            "@PG\tID:bowtie2\tPN:bowtie2\tVN:2.3.5.1\tCL:\"/usr/local/bin/bowtie2-align-s --wrapper basic-0 -x chromosome_index -1 frag.R1.fastq.gz -2 frag.R2.fastq.gz\"\n",
            "2069:1:1208:3689:178475\t83\tContig184\t3167909\t23\t16M1D134M\t=\t3167855\t-205\tGCTGCCTCCCCCCCCGGGTTGGGGTCGTGCTCACGGCGCTGATCTTCGTGATCAACGTGGGCGTGACCCGGATCGGGGAGCGGCAGTCATGAGGGTCTCCCGCGCCGAGACGACGATGAACTACGTGCTCCTGCTGGGCTTCGCCGCCTT\tBBBBBBBBBBBBBBBBBBBBBBBBBBBBBBBBBBBBBBb_Y]TVa_WXJGG[WP`acaac`T][TH_aca[TTaacccaaacccccbbbacbccccccccccccccccb`bedegfgfgggdgihffhfhhgfiiiigfgfgeeeeebbb\tAS:i:-48\tXN:i:0\tXM:i:8\tXO:i:1\tXG:i:1\tNM:i:9\tMD:Z:1T0C1G4G2T3^C3C1C1A126\tYS:i:-25\tYT:Z:CP\n",
            "2069:1:1208:3689:178475\t163\tContig184\t3167855\t23\t150M\t=\t3167909\t205\tACCACCACCGTGCCCAGCTTCGAGGTGTACTTCCGGGCGTTCGAGCTGCGCGCCGTCGGCTCCGCCTCCGCGGTCGCGATCGTGCTCACGGCGCTGCTCTTCGTGATCAACGTGGGCGTGACCCGGATCGTGGGGCGGCAGTCATCACGG\tabbeeeeegfeggffdhh`ggh\\fg_b^effhhiiiiiiihhiiddgdeabccccacccc_acc]aaccaZa_]TET_a]_c`^^GJS]^X[[_RMES_b]b^[^BBBBBBBBBBBBBBBBBBBBBBBBBBBBBBBBBBBBBBBBBBBBB\tAS:i:-25\tXN:i:0\tXM:i:5\tXO:i:0\tXG:i:0\tNM:i:5\tMD:Z:96A33G2A11G1G2\tYS:i:-48\tYT:Z:CP\n",
            "2069:1:1303:4157:113475\t99\tContig184\t1444070\t23\t150M\t=\t1444166\t234\tACAACGCCCCGGCGGTCGCGGCGACCGCGGTGCGCAGCAGCACCAGGGCGGTGGCGTCGTTGACCAGCCCCTCCCCCTCGAGGATCGTCAGCAGCCGCGGCGGCAGGCCGAGCCGCTTGCCGCTCCAGGTGGCGGCGACCGCATCCGGAG\t___ececeggc^bcfeea``dcac_cP_aaEUYa_caR[W^[`^[acXaacTT[WVV[aVV[`b`bacaccaaW_]aaa_XTTXRXTR[^___`^aaBBBBBBBBBBBBBBBBBBBBBBBBBBBBBBBBBBBBBBBBBBBBBBBBBBBBB\tAS:i:-21\tXN:i:0\tXM:i:4\tXO:i:0\tXG:i:0\tNM:i:4\tMD:Z:1G120A2G22C1\tYS:i:-56\tYT:Z:CP\n",
            "2069:1:1303:4157:113475\t147\tContig184\t1444166\t23\t8M11I3M1I127M\t=\t1444070\t-234\tGCGGCGGCGCCGGTGGGGGAGGCCCGAGCCGCTTGCCGATCGAGGGGGCGGCGACCGCATCCGGCGGGCTGATGACCGCGCCGACGGCGACCGCGGAGGCCAGGCCCAGATCCGGGAAGATCCACCACAGCAGCGCACCGGTGCCGAAGG\tBBBBBBBBBBBBBBBBBBBBBBBBBBBBBBBBBBBBBBBBBBBBBBBBBBBBBBBBaXTTOEaca_[Yb_bbRXOORa_a]OZLZ^Va_Z\\Qa]ZUG__c\\^eddb`d_LF_[be\\IcccQa^Xfe^gbffgf`ffegcgeeeccec___\tAS:i:-56\tXN:i:0\tXM:i:2\tXO:i:2\tXG:i:12\tNM:i:14\tMD:Z:33T50C53\tYS:i:-21\tYT:Z:CP\n",
            "2069:1:2308:15390:155355\t73\tContig184\t2418994\t24\t150M\t=\t2418994\t0\tGCACGAGGTCGGGCTGCTCCTGCCCGATGCGTTCCAGCACGCCGGCGCGCCACTGCGCGCATTCGGTGTACTCCACCCCCTCGAGCAGGAGCGGGAGGTCCGCCGAGGGGAAGGAGCTCTTCGAGTTCGTGTCCAGCTGGAGCCTGCCTT\t___cecccgec`cgaeaRb_bfcgh[cg`ga_fgf_effhddf`WW]aYWT_ac_]WWOVZZLY_PWWZYYS_b_bWTT]]acTOET^BBBBBBBBBBBBBBBBBBBBBBBBBBBBBBBBBBBBBBBBBBBBBBBBBBBBBBBBBBBBBB\tAS:i:-30\tXN:i:0\tXM:i:6\tXO:i:0\tXG:i:0\tNM:i:6\tMD:Z:110C12T12G0C3T6C1\tYT:Z:UP\n",
            "2069:1:2308:15390:155355\t133\tContig184\t2418994\t0\t*\t=\t2418994\t0\tTGACGCCCCGCTGGTGTTCCTGTTCGGCGACTCCCACGCGGCCTCCTGGTACCCGGCGCTCGCGGAGCTGGCGGAGCCGGGCAGGATCCGCCTGGACCAGAAACCGCAACGCTCCTGCACCGCGGAGGCCACGCCGCGCACGACAGCACG\t_[[cccccgcggg]dgccfgfhegbgfhdgegfV\\ZGT\\a[R\\^X[[_]bbXXXUTVTVRZT[aBBBBBBBBBBBBBBBBBBBBBBBBBBBBBBBBBBBBBBBBBBBBBBBBBBBBBBBBBBBBBBBBBBBBBBBBBBBBBBBBBBBBBB\tYT:Z:UP\n",
            "2069:1:2304:7494:114508\t99\tContig184\t3113904\t23\t150M\t=\t3113950\t196\tAGCGCGTGGTCCCCTCCTACGAGGAGGCCTGGGGCGCGTGGCCCGAGGGGCCCGACGCCATCGTCGTCACCAGCGCGAACGCGCACCACAAGGACCTGGTGCTCGAGGCCGCCCGGCGCGGCGTGCACGTGCTGTGCGAGAAGCCGCTGG\tbbbeeeeefggggiiiiihiiiiihhiiiihiiiigeccccccacccccccccc[WaccZaccccc]a`ac_ac[[acaccccaaccccaccccccbcaY`b`bccc_aacccacX[X]aa]XOOXW]a`[`^_]XS[T[XOX^BBBBBB\tAS:i:0\tXN:i:0\tXM:i:0\tXO:i:0\tXG:i:0\tNM:i:0\tMD:Z:150\tYS:i:-90\tYT:Z:CP\n"
          ]
        }
      ]
    },
    {
      "cell_type": "code",
      "execution_count": null,
      "metadata": {
        "id": "Fb764Duvt5-f"
      },
      "outputs": [],
      "source": [
        "with open('fr_stats.txt', 'r') as f:\n",
        "    l = [line.strip() for line in f]\n",
        "    IS = [0] * (len(l) - 1)\n",
        "    COUNT = [0] * (len(l) - 1)\n",
        "    for i in range(1, len(l)):\n",
        "      a = l[i].split('\\t')\n",
        "      IS[i - 1] = int(a[1])\n",
        "      COUNT[i - 1] = int(a[2])\n",
        "df = pd.DataFrame()\n",
        "df['insert size'] = IS\n",
        "df['count'] = COUNT"
      ]
    },
    {
      "cell_type": "code",
      "execution_count": null,
      "metadata": {
        "id": "KCwlHAdVt5-g",
        "colab": {
          "base_uri": "https://localhost:8080/",
          "height": 297
        },
        "outputId": "4d2ce69d-44f6-43af-f239-4376254aa6ed"
      },
      "outputs": [
        {
          "output_type": "execute_result",
          "data": {
            "text/plain": [
              "<matplotlib.axes._subplots.AxesSubplot at 0x7fc06cbf2350>"
            ]
          },
          "metadata": {},
          "execution_count": 118
        },
        {
          "output_type": "display_data",
          "data": {
            "image/png": "[encoded data removed]",
            "text/plain": [
              "<Figure size 432x288 with 1 Axes>"
            ]
          },
          "metadata": {
            "needs_background": "light"
          }
        }
      ],
      "source": [
        "sns.lineplot(data=df, x=df['insert size'], y=df['count'])\n"
      ]
    },
    {
      "cell_type": "markdown",
      "source": [
        "График полученный при помощи samtools stats."
      ],
      "metadata": {
        "id": "nQHkdb-MDJoY"
      }
    },
    {
      "cell_type": "code",
      "execution_count": null,
      "metadata": {
        "id": "C47Udf_wt8Pu"
      },
      "outputs": [],
      "source": [
        "!samtools stats jump_alignment_sorted.bam | grep IS > jump_stats.txt"
      ]
    },
    {
      "cell_type": "code",
      "execution_count": null,
      "metadata": {
        "id": "hKcPjBfDu2ie",
        "colab": {
          "base_uri": "https://localhost:8080/"
        },
        "outputId": "ee876c21-0f45-4731-cdd1-6f5aa3f14beb"
      },
      "outputs": [
        {
          "output_type": "stream",
          "name": "stdout",
          "text": [
            "# Insert sizes. Use `grep ^IS | cut -f 2-` to extract this part. The columns are: insert size, pairs total, inward oriented pairs, outward oriented pairs, other pairs\n",
            "IS\t0\t50391\t30626\t5776\t13989\n",
            "IS\t1\t0\t0\t0\t0\n",
            "IS\t2\t0\t0\t0\t0\n",
            "IS\t3\t0\t0\t0\t0\n",
            "IS\t4\t0\t0\t0\t0\n",
            "IS\t5\t0\t0\t0\t0\n",
            "IS\t6\t0\t0\t0\t0\n",
            "IS\t7\t0\t0\t0\t0\n",
            "IS\t8\t0\t0\t0\t0\n"
          ]
        }
      ],
      "source": [
        "!head jump_stats.txt"
      ]
    },
    {
      "cell_type": "code",
      "execution_count": null,
      "metadata": {
        "id": "_j6Quhilt8Pu",
        "colab": {
          "base_uri": "https://localhost:8080/"
        },
        "outputId": "6f860b4e-ef46-4c4d-acf8-655b4527a85c"
      },
      "outputs": [
        {
          "output_type": "stream",
          "name": "stdout",
          "text": [
            "IS\t7990\t422\t422\t0\t0\n",
            "IS\t7991\t434\t434\t0\t0\n",
            "IS\t7992\t402\t402\t0\t0\n",
            "IS\t7993\t399\t399\t0\t0\n",
            "IS\t7994\t412\t412\t0\t0\n",
            "IS\t7995\t417\t417\t0\t0\n",
            "IS\t7996\t423\t423\t0\t0\n",
            "IS\t7997\t464\t464\t0\t0\n",
            "IS\t7998\t416\t416\t0\t0\n",
            "IS\t7999\t735418\t603035\t46872\t85511\n"
          ]
        }
      ],
      "source": [
        "!tail jump_stats.txt"
      ]
    },
    {
      "cell_type": "markdown",
      "metadata": {
        "id": "0flldgd7u4yj"
      },
      "source": [
        "Заметим, что первое (0) и последнеднее (7999) расстояния вставки имеют экстремальные значения, мы уберём их с пониманием, что весь остальной график на их фоне, на самом деле, не так значителен."
      ]
    },
    {
      "cell_type": "code",
      "execution_count": null,
      "metadata": {
        "id": "v_dMWwM1t8Pu"
      },
      "outputs": [],
      "source": [
        "with open('jump_stats.txt', 'r') as f:\n",
        "    l = [line.strip() for line in f]\n",
        "    IS = [0] * (len(l) - 3)\n",
        "    COUNT = [0] * (len(l) - 3)\n",
        "    for i in range(2, len(l) - 1):\n",
        "      a = l[i].split('\\t')\n",
        "      IS[i - 2] = int(a[1])\n",
        "      COUNT[i - 2] = int(a[2])\n",
        "df = pd.DataFrame()\n",
        "df['insert size'] = IS\n",
        "df['count'] = COUNT"
      ]
    },
    {
      "cell_type": "code",
      "execution_count": null,
      "metadata": {
        "id": "qZ6VOPJUt8Pu",
        "colab": {
          "base_uri": "https://localhost:8080/",
          "height": 297
        },
        "outputId": "e0bd1391-c4e2-4157-9507-51a0e1b325a0"
      },
      "outputs": [
        {
          "output_type": "execute_result",
          "data": {
            "text/plain": [
              "<matplotlib.axes._subplots.AxesSubplot at 0x7fbffc589b90>"
            ]
          },
          "metadata": {},
          "execution_count": 154
        },
        {
          "output_type": "display_data",
          "data": {
            "image/png": "[encoded data removed]",
            "text/plain": [
              "<Figure size 432x288 with 1 Axes>"
            ]
          },
          "metadata": {
            "needs_background": "light"
          }
        }
      ],
      "source": [
        "sns.lineplot(data=df, x=df['insert size'], y=df['count'])\n"
      ]
    },
    {
      "cell_type": "markdown",
      "metadata": {
        "id": "B5r4Rp_6qzPq"
      },
      "source": [
        "# 3. Частоты различных замен"
      ]
    },
    {
      "cell_type": "code",
      "execution_count": null,
      "metadata": {
        "id": "P-sZzbfT1VnQ"
      },
      "outputs": [],
      "source": [
        "!samtools mpileup -f MG1655-K12.first10K.fasta -s test_alignment_sorted.bam > test_replace.txt"
      ]
    },
    {
      "cell_type": "code",
      "execution_count": null,
      "metadata": {
        "id": "hGt_U7T21Vt4"
      },
      "outputs": [],
      "source": [
        "!head -100 test_replace.txt "
      ]
    },
    {
      "cell_type": "code",
      "execution_count": null,
      "metadata": {
        "id": "SqD5r1vZq1IL"
      },
      "outputs": [],
      "source": [
        "!samtools mpileup -f ref.fasta -s fr_alignment_sorted.bam > fr_replace.txt"
      ]
    },
    {
      "cell_type": "code",
      "source": [
        "!head -50 MG1655-K12.first10K.fasta"
      ],
      "metadata": {
        "colab": {
          "base_uri": "https://localhost:8080/"
        },
        "id": "9aiHdMf_N-z1",
        "outputId": "53177511-ca34-47de-d12d-dd0c5478307d"
      },
      "execution_count": null,
      "outputs": [
        {
          "output_type": "stream",
          "name": "stdout",
          "text": [
            ">gi|49175990|ref|NC_000913.2| Escherichia coli str. K-12 substr. MG1655, complete genome, cropped to first 10000 nucleotides\n",
            "AGCTTTTCATTCTGACTGCAACGGGCAATATGTCTCTGTGTGGATTAAAAAAAGAGTGTCTGATAGCAGC\n",
            "TTCTGAACTGGTTACCTGCCGTGAGTAAATTAAAATTTTATTGACTTAGGTCACTAAATACTTTAACCAA\n",
            "TATAGGCATAGCGCACAGACAGATAAAAATTACAGAGTACACAACATCCATGAAACGCATTAGCACCACC\n",
            "ATTACCACCACCATCACCATTACCACAGGTAACGGTGCGGGCTGACGCGTACAGGAAACACAGAAAAAAG\n",
            "CCCGCACCTGACAGTGCGGGCTTTTTTTTTCGACCAAAGGTAACGAGGTAACAACCATGCGAGTGTTGAA\n",
            "GTTCGGCGGTACATCAGTGGCAAATGCAGAACGTTTTCTGCGTGTTGCCGATATTCTGGAAAGCAATGCC\n",
            "AGGCAGGGGCAGGTGGCCACCGTCCTCTCTGCCCCCGCCAAAATCACCAACCACCTGGTGGCGATGATTG\n",
            "AAAAAACCATTAGCGGCCAGGATGCTTTACCCAATATCAGCGATGCCGAACGTATTTTTGCCGAACTTTT\n",
            "GACGGGACTCGCCGCCGCCCAGCCGGGGTTCCCGCTGGCGCAATTGAAAACTTTCGTCGATCAGGAATTT\n",
            "GCCCAAATAAAACATGTCCTGCATGGCATTAGTTTGTTGGGGCAGTGCCCGGATAGCATCAACGCTGCGC\n",
            "TGATTTGCCGTGGCGAGAAAATGTCGATCGCCATTATGGCCGGCGTATTAGAAGCGCGCGGTCACAACGT\n",
            "TACTGTTATCGATCCGGTCGAAAAACTGCTGGCAGTGGGGCATTACCTCGAATCTACCGTCGATATTGCT\n",
            "GAGTCCACCCGCCGTATTGCGGCAAGCCGCATTCCGGCTGATCACATGGTGCTGATGGCAGGTTTCACCG\n",
            "CCGGTAATGAAAAAGGCGAACTGGTGGTGCTTGGACGCAACGGTTCCGACTACTCTGCTGCGGTGCTGGC\n",
            "TGCCTGTTTACGCGCCGATTGTTGCGAGATTTGGACGGACGTTGACGGGGTCTATACCTGCGACCCGCGT\n",
            "CAGGTGCCCGATGCGAGGTTGTTGAAGTCGATGTCCTACCAGGAAGCGATGGAGCTTTCCTACTTCGGCG\n",
            "CTAAAGTTCTTCACCCCCGCACCATTACCCCCATCGCCCAGTTCCAGATCCCTTGCCTGATTAAAAATAC\n",
            "CGGAAATCCTCAAGCACCAGGTACGCTCATTGGTGCCAGCCGTGATGAAGACGAATTACCGGTCAAGGGC\n",
            "ATTTCCAATCTGAATAACATGGCAATGTTCAGCGTTTCTGGTCCGGGGATGAAAGGGATGGTCGGCATGG\n",
            "CGGCGCGCGTCTTTGCAGCGATGTCACGCGCCCGTATTTCCGTGGTGCTGATTACGCAATCATCTTCCGA\n",
            "ATACAGCATCAGTTTCTGCGTTCCACAAAGCGACTGTGTGCGAGCTGAACGGGCAATGCAGGAAGAGTTC\n",
            "TACCTGGAACTGAAAGAAGGCTTACTGGAGCCGCTGGCAGTGACGGAACGGCTGGCCATTATCTCGGTGG\n",
            "TAGGTGATGGTATGCGCACCTTGCGTGGGATCTCGGCGAAATTCTTTGCCGCACTGGCCCGCGCCAATAT\n",
            "CAACATTGTCGCCATTGCTCAGGGATCTTCTGAACGCTCAATCTCTGTCGTGGTAAATAACGATGATGCG\n",
            "ACCACTGGCGTGCGCGTTACTCATCAGATGCTGTTCAATACCGATCAGGTTATCGAAGTGTTTGTGATTG\n",
            "GCGTCGGTGGCGTTGGCGGTGCGCTGCTGGAGCAACTGAAGCGTCAGCAAAGCTGGCTGAAGAATAAACA\n",
            "TATCGACTTACGTGTCTGCGGTGTTGCCAACTCGAAGGCTCTGCTCACCAATGTACATGGCCTTAATCTG\n",
            "GAAAACTGGCAGGAAGAACTGGCGCAAGCCAAAGAGCCGTTTAATCTCGGGCGCTTAATTCGCCTCGTGA\n",
            "AAGAATATCATCTGCTGAACCCGGTCATTGTTGACTGCACTTCCAGCCAGGCAGTGGCGGATCAATATGC\n",
            "CGACTTCCTGCGCGAAGGTTTCCACGTTGTCACGCCGAACAAAAAGGCCAACACCTCGTCGATGGATTAC\n",
            "TACCATCAGTTGCGTTATGCGGCGGAAAAATCGCGGCGTAAATTCCTCTATGACACCAACGTTGGGGCTG\n",
            "GATTACCGGTTATTGAGAACCTGCAAAATCTGCTCAATGCAGGTGATGAATTGATGAAGTTCTCCGGCAT\n",
            "TCTTTCTGGTTCGCTTTCTTATATCTTCGGCAAGTTAGACGAAGGCATGAGTTTCTCCGAGGCGACCACG\n",
            "CTGGCGCGGGAAATGGGTTATACCGAACCGGACCCGCGAGATGATCTTTCTGGTATGGATGTGGCGCGTA\n",
            "AACTATTGATTCTCGCTCGTGAAACGGGACGTGAACTGGAGCTGGCGGATATTGAAATTGAACCTGTGCT\n",
            "GCCCGCAGAGTTTAACGCCGAGGGTGATGTTGCCGCTTTTATGGCGAATCTGTCACAACTCGACGATCTC\n",
            "TTTGCCGCGCGCGTGGCGAAGGCCCGTGATGAAGGAAAAGTTTTGCGCTATGTTGGCAATATTGATGAAG\n",
            "ATGGCGTCTGCCGCGTGAAGATTGCCGAAGTGGATGGTAATGATCCGCTGTTCAAAGTGAAAAATGGCGA\n",
            "AAACGCCCTGGCCTTCTATAGCCACTATTATCAGCCGCTGCCGTTGGTACTGCGCGGATATGGTGCGGGC\n",
            "AATGACGTTACAGCTGCCGGTGTCTTTGCTGATCTGCTACGTACCCTCTCATGGAAGTTAGGAGTCTGAC\n",
            "ATGGTTAAAGTTTATGCCCCGGCTTCCAGTGCCAATATGAGCGTCGGGTTTGATGTGCTCGGGGCGGCGG\n",
            "TGACACCTGTTGATGGTGCATTGCTCGGAGATGTAGTCACGGTTGAGGCGGCAGAGACATTCAGTCTCAA\n",
            "CAACCTCGGACGCTTTGCCGATAAGCTGCCGTCAGAACCACGGGAAAATATCGTTTATCAGTGCTGGGAG\n",
            "CGTTTTTGCCAGGAACTGGGTAAGCAAATTCCAGTGGCGATGACCCTGGAAAAGAATATGCCGATCGGTT\n",
            "CGGGCTTAGGCTCCAGTGCCTGTTCGGTGGTCGCGGCGCTGATGGCGATGAATGAACACTGCGGCAAGCC\n",
            "GCTTAATGACACTCGTTTGCTGGCTTTGATGGGCGAGCTGGAAGGCCGTATCTCCGGCAGCATTCATTAC\n",
            "GACAACGTGGCACCGTGTTTTCTCGGTGGTATGCAGTTGATGATCGAAGAAAACGACATCATCAGCCAGC\n",
            "AAGTGCCAGGGTTTGATGAGTGGCTGTGGGTGCTGGCGTATCCGGGGATTAAAGTCTCGACGGCAGAAGC\n",
            "CAGGGCTATTTTACCGGCGCAGTATCGCCGCCAGGATTGCATTGCGCACGGGCGACATCTGGCAGGCTTC\n"
          ]
        }
      ]
    },
    {
      "cell_type": "code",
      "source": [
        "!head -50 test_alignment.sam"
      ],
      "metadata": {
        "colab": {
          "base_uri": "https://localhost:8080/"
        },
        "id": "-yDdedEnN-2S",
        "outputId": "4baad5b5-e1a1-4d2c-d535-c145983fffc3"
      },
      "execution_count": null,
      "outputs": [
        {
          "output_type": "stream",
          "name": "stdout",
          "text": [
            "@HD\tVN:1.0\tSO:unsorted\n",
            "@SQ\tSN:gi|49175990|ref|NC_000913.2|\tLN:10000\n",
            "@PG\tID:bowtie2\tPN:bowtie2\tVN:2.3.5.1\tCL:\"/usr/local/bin/bowtie2-align-s --wrapper basic-0 -x chromosome_index -1 test_1.fastq -2 test_2.fastq\"\n",
            "EAS20_8_6_1_6_1211\t83\tgi|49175990|ref|NC_000913.2|\t8845\t42\t100M\t=\t8719\t-226\tTGGTTTCTGTATCTGAAATCTACCAGTACTACAAAGAGCACGGTTATGAAACCGTGGTTATGGGCGCAAGCTTCCGTAACATCGGCGAAATTCTGGAACT\t@0=HAFHH3HHHFB-EFHHHHFFFFHHHF@HAHHHFHBHHDH@HHHHEHHB@DF?HGDGHHGHHHHIHHGHIHHHGHHHHHHHGIGHHHHGGHHHGHHGH\tAS:i:0\tXN:i:0\tXM:i:0\tXO:i:0\tXG:i:0\tNM:i:0\tMD:Z:100\tYS:i:0\tYT:Z:CP\n",
            "EAS20_8_6_1_6_1211/2\t163\tgi|49175990|ref|NC_000913.2|\t8719\t42\t100M\t=\t8845\t226\tTCGCTCAGGCTCGTGCTTGTGCGGAAGCGGGCGTGTTCCTGATCTCGCCGTTTGTTGGCCGTATTCTTGACTGGTACAAAGCGAATACCGATAAGAAAGA\tHHHHE=FFFGHHHGHHHFDFHEHHHFHHEF8BC<5BEHHDHDBFHHHHCG:FF3?B8EHBEEFEGCHG#<EH>?>?=8E?EB:GEEC3BA??3AC=EB,?\tAS:i:0\tXN:i:0\tXM:i:0\tXO:i:0\tXG:i:0\tNM:i:0\tMD:Z:100\tYS:i:0\tYT:Z:CP\n",
            "EAS20_8_6_1_9_1972/1\t99\tgi|49175990|ref|NC_000913.2|\t205\t42\t94M\t=\t342\t237\tACCACCATTACCACCACCATCACCATTACCACAGGTAACGGTGCGGGCTGACGCGTACAGGAAACACAGAAAAAAGCCCGCACCTGACAGTGCG\tHHHHHHGHHHHFHHGGHHFHHHHHFHHFHFHHHHHFHHHHHFHHHHHHHHFHHFHFDHHGG@BGGHCDHE:;3)7.A973A:AA5>AD9G=D<D\tAS:i:0\tXN:i:0\tXM:i:0\tXO:i:0\tXG:i:0\tNM:i:0\tMD:Z:94\tYS:i:0\tYT:Z:CP\n",
            "EAS20_8_6_1_9_1972/2\t147\tgi|49175990|ref|NC_000913.2|\t342\t42\t100M\t=\t205\t-237\tAGTGTTGAAGTTCGGCGGTACATCAGTGGCAAATGCAGAACGTTTTCTGCGTGTTGCCGATATTCTGGAAAGCAATGCCAGGCAGGGGCAGGTGGCCACC\t@@C=67#@F4:69HH@HEE?@A7HHHCD:DBFEE/FFDG?F<F?G;HEHHHHHHEHGHHGHHFHHHHHHHHHHHGHHHHHHGHHHHHHHHHHHHGHHHFH\tAS:i:0\tXN:i:0\tXM:i:0\tXO:i:0\tXG:i:0\tNM:i:0\tMD:Z:100\tYS:i:0\tYT:Z:CP\n",
            "EAS20_8_6_1_15_567/1\t83\tgi|49175990|ref|NC_000913.2|\t2280\t42\t100M\t=\t2184\t-196\tCGAAGGCATGAGTTTCTCCGAGGCGACCACGCTGGCGCGGGAAATGGGTTATACCGAACCGGACCCGCGAGATGATCTTTCTGGTATGGATGTGGCGCGT\tBAEDBEGECGGCEADGDA@GFHGHEDFGAHDFCAFFF#FBGHEHGBEGHGHGGHGHGGDHEGGFHHHHHHHHHHHGHHHHHHDHHHHHHHHHIGHGHHHI\tAS:i:0\tXN:i:0\tXM:i:0\tXO:i:0\tXG:i:0\tNM:i:0\tMD:Z:100\tYS:i:0\tYT:Z:CP\n",
            "EAS20_8_6_1_15_567/2\t163\tgi|49175990|ref|NC_000913.2|\t2184\t42\t100M\t=\t2280\t196\tTGAGAACCTGCAAAATCTGCTCAATGCAGGTGATGAATTGATGAAGTTCTCCGGCATTCTTTCTGGTTCGCTTTCTTATATCTTCGGCAAGTTAGACGAA\tHGHEFHEEE@FFHHFHEHGHFEHHGHGHFGHDGHGGHB@H8HHHAGDHHHGHCHFH=HHFHHHHG0.FFFHHHHHHHEFDHFEHH70D?@>FFB8@#B07\tAS:i:0\tXN:i:0\tXM:i:0\tXO:i:0\tXG:i:0\tNM:i:0\tMD:Z:100\tYS:i:0\tYT:Z:CP\n",
            "EAS20_8_6_1_16_1562/1\t99\tgi|49175990|ref|NC_000913.2|\t2815\t42\t100M\t=\t2931\t216\tTGCCCCGGCTTCCAGTGCCAATATGAGCGTCGGGTTTGATGTGCTCGGGGCGGCGGTGACACCTGTTGATGGTGCATTGCTCGGAGATGTAGTCACGGTT\tHHIHGHHHHHHHGHHHHHHHIHHIHHHGHHGHHHHHHGBHHHHHHHHHHHHHGCHF?G3GDACDD<FB?=@D<E-BFFD6FGHB#F/FDC0;471+@@82\tAS:i:0\tXN:i:0\tXM:i:0\tXO:i:0\tXG:i:0\tNM:i:0\tMD:Z:100\tYS:i:0\tYT:Z:CP\n",
            "EAS20_8_6_1_16_1562\t147\tgi|49175990|ref|NC_000913.2|\t2931\t42\t100M\t=\t2815\t-216\tTCAGTCTCAACAACCTCGGACGCTTTGCCGATAAGCTGCCGTCAGAACCACGGGAAAATATCGTTTATCAGTGCTGGGAGCGTTTTTGCCAGGAACTGGG\t5:?CEBCEDGB=EGFG@E?GG@HHGE>:HHHGADGHHHDHGDHHHHHHHIEEGHHHHHHHHHHFHEHHHHHHHIHHHHHEGHHHHHHHHHHHHHHHHHIH\tAS:i:0\tXN:i:0\tXM:i:0\tXO:i:0\tXG:i:0\tNM:i:0\tMD:Z:100\tYS:i:0\tYT:Z:CP\n",
            "EAS20_8_6_1_23_212/1\t83\tgi|49175990|ref|NC_000913.2|\t3375\t42\t90M\t=\t3241\t-224\tCGGCGCAGTATCGCCGCCAGGATTGCATTGCGCACGGGCGACATCTGGCAGGCTTCATTCACGCCTGCTATTCCCGTCAGCCTGAGCTTG\tFFABB?B5F.EF9FHHH=HE=F;@FHH6EDEHH@HFFHHGG@GF@FBCHFFEHBBBHGHHHHHHHFHFHDHFFHDGBHHFHEHFHFHGHE\tAS:i:0\tXN:i:0\tXM:i:0\tXO:i:0\tXG:i:0\tNM:i:0\tMD:Z:90\tYS:i:0\tYT:Z:CP\n",
            "EAS20_8_6_1_23_212/2\t163\tgi|49175990|ref|NC_000913.2|\t3241\t42\t74M\t=\t3375\t224\tTCTCGGTGGTATGCAGTTGATGATCGAAGAAAACGACATCATCAGCCAGCAAGTGCCAGGGTTTGATGAGTGGC\tCGCCA;BD<=GAGDD<<8A@@ADDFHGG8H?F<<D9HDCHA:C?CHHE8E=?84?E<CCEA#B8?8?3:9689G\tAS:i:0\tXN:i:0\tXM:i:0\tXO:i:0\tXG:i:0\tNM:i:0\tMD:Z:74\tYS:i:0\tYT:Z:CP\n",
            "EAS20_8_6_1_24_1206/1\t83\tgi|49175990|ref|NC_000913.2|\t5879\t42\t100M\t=\t5762\t-217\tAGGAACACCGGCTTGATAATCTCGGCATTCAATTTCTTCGGCTTCACCGATTTAAAATACTCATCTGACGCCAGATTAATCACCACATTATCGCCTTGTG\tHFHHHHEHHEFHHFHHHHHFHFGHEHHG@HHHHHHHHHHHHHHDHHHHHHHHHHHHHHHHHHHHHHHHHHHHHHHHHHHHHHHHHHHHHHGGGGG#DDDD\tAS:i:0\tXN:i:0\tXM:i:0\tXO:i:0\tXG:i:0\tNM:i:0\tMD:Z:100\tYS:i:0\tYT:Z:CP\n",
            "EAS20_8_6_1_24_1206\t163\tgi|49175990|ref|NC_000913.2|\t5762\t42\t100M\t=\t5879\t217\tAAACCAGTCAGTTGCTCTGGTTTGGTCAGCCGATTTTCAATAATGAAACGACTCATCAGACCGCGTGCTTTCTTAGCGTAGAAGCTGATGATCTTAAATT\tHHHHHHHHHHHHHHHHHHHHIHHHHHHHHHHHEHHHHHHHHHHHHGHHHEHHHHHHHHHDEHHFHFHEGFFGHGGEBHGADEBHDGFGGHEFH;8HCEEC\tAS:i:0\tXN:i:0\tXM:i:0\tXO:i:0\tXG:i:0\tNM:i:0\tMD:Z:100\tYS:i:0\tYT:Z:CP\n",
            "EAS20_8_6_1_38_1912/1\t99\tgi|49175990|ref|NC_000913.2|\t4328\t42\t98M\t=\t4471\t232\tGATGAAGAACTGAAAGTGGCGCTAGGGTTAAACTCGGCTAACTCGATTAACATCAGCCGTTTGCTGGCGCAGATTTGCTACTACTTTGAAGCTGTTGC\tHDHHHGHEHHHHFFBHEEFHHDFHH>DBHEGGHHFFHHHEHDHHHCHHGGGGGFEHHFHGGHFHGH>ACE>D;DDHCEG37<<<BFHBCD8=B?C.:B\tAS:i:0\tXN:i:0\tXM:i:0\tXO:i:0\tXG:i:0\tNM:i:0\tMD:Z:98\tYS:i:0\tYT:Z:CP\n",
            "EAS20_8_6_1_38_1912/2\t147\tgi|49175990|ref|NC_000913.2|\t4471\t42\t89M\t=\t4328\t-232\tAAGCGGAAACTTCGGCGATTTGACGGCGGGTCTGCTGGCGAAGTCACTCGGTCTGCCGGTGAAACGTTTTATTGCTGCGACCAACGTGA\tEBEDD9D.AD@><GE9GBGEEG@BEGEBF?CFGBBEGBB@HFGFBEGEGFE;EHEBHHHHGGHDHEGHIHHGHH=FGHHHEHHHHCGHG\tAS:i:0\tXN:i:0\tXM:i:0\tXO:i:0\tXG:i:0\tNM:i:0\tMD:Z:89\tYS:i:0\tYT:Z:CP\n",
            "EAS20_8_6_1_53_597/1\t99\tgi|49175990|ref|NC_000913.2|\t9078\t42\t94M\t=\t9201\t205\tTTCCTGTGGCAGCACAACCAGGATCCAATGGCAGTAGATAAACTGGCGGAAGGTATCCGTAAGTTTGCTATTGACCAGGAAAAACTGGAAAAAA\tGGGGGGGCGGGG>GDCG=G=CD>C6D7B=8CC>C;CG6GGGGAECG6@C*@@C5?:3@@56784@;07:-@D/0.@0<@#B>8B>GCA0CGGEG\tAS:i:0\tXN:i:0\tXM:i:0\tXO:i:0\tXG:i:0\tNM:i:0\tMD:Z:94\tYS:i:0\tYT:Z:CP\n",
            "EAS20_8_6_1_53_597/2\t147\tgi|49175990|ref|NC_000913.2|\t9201\t42\t82M\t=\t9078\t-205\tGCGTGACCGGGAAGTCGGTCACGCTACCTCTTCTGAAGCCTGTCTGTCACTCCCTTCGCAGTGTATCATTCTGTTTAACGAG\tD?A#?5;1?C3<<F7+F151=?GCH8EHHDDGBDHFHHHHFHHEDHHHEGGHHHADHHGHHHHHHHHHHGHFHHHHGHGHHH\tAS:i:0\tXN:i:0\tXM:i:0\tXO:i:0\tXG:i:0\tNM:i:0\tMD:Z:82\tYS:i:0\tYT:Z:CP\n",
            "EAS20_8_6_1_56_148\t83\tgi|49175990|ref|NC_000913.2|\t9730\t42\t100M\t=\t9606\t-224\tCGCTGGAAGGTGTGAAGGACGCTGAGGGTAACGTTGTGGTACACGGTATTTTTGCCAGCGTACCGTACTGCATTCAGTTGCTGGAAGGGCCATACGTTGA\tE=@;AGCGHEGHEGGHHDGGEGFHHEG@HEDHHFGHFHHEHHFHFBBHCEEGFHGHHDHGHEGHHHHHHGHHAFHHFGHGHHHHHHGHGHHHHHHHGHHH\tAS:i:0\tXN:i:0\tXM:i:0\tXO:i:0\tXG:i:0\tNM:i:0\tMD:Z:100\tYS:i:0\tYT:Z:CP\n",
            "EAS20_8_6_1_56_148/2\t163\tgi|49175990|ref|NC_000913.2|\t9606\t42\t100M\t=\t9730\t224\tGAACAGATGCGCCAGATCAGCCTGCATTTTGTACCAACTGCGATCCTTTCGCGTCAGGTGGGCGTGATTCGCAAACAGGCGCTGATCCTTAACTTACCCG\tHHFHEFHH@HEHHHHHHHHHHHHHHHHHGHBHHHHDHGEHHBBHHEHHHH6H>EHB?#2??GEHEE6GE;BCA05EBB:DGC<F@8@FG@:8?BGGHB-C\tAS:i:0\tXN:i:0\tXM:i:0\tXO:i:0\tXG:i:0\tNM:i:0\tMD:Z:100\tYS:i:0\tYT:Z:CP\n",
            "EAS20_8_6_1_63_905/1\t99\tgi|49175990|ref|NC_000913.2|\t9029\t42\t45M\t=\t9226\t238\tTTACACCGGCGAAGTGAAAGCGCGTCCGGCGCGTATCACTGAGTC\tGGHIHH8HEFEEEEE?FEEHBH=EGE@EH;F>G?FEDHEEBB?CA\tAS:i:0\tXN:i:0\tXM:i:0\tXO:i:0\tXG:i:0\tNM:i:0\tMD:Z:45\tYS:i:0\tYT:Z:CP\n",
            "EAS20_8_6_1_63_905/2\t147\tgi|49175990|ref|NC_000913.2|\t9226\t42\t41M\t=\t9029\t-238\tACCTCTTCTGAAGCCTGTCTGTCACTCCCTTCGCAGTGTAT\tBHG=HHDHGGHHHHFGEGHHGGHHHHHEHFFDHFGHHEEGH\tAS:i:0\tXN:i:0\tXM:i:0\tXO:i:0\tXG:i:0\tNM:i:0\tMD:Z:41\tYS:i:0\tYT:Z:CP\n",
            "EAS20_8_6_1_75_1110/1\t83\tgi|49175990|ref|NC_000913.2|\t7578\t42\t94M\t=\t7438\t-234\tCGCCACGAAACTGCCCATTGACGTCACGTTCTTTATAAAGTTGTGCCAGAGAACATTCGGCAAACGAGGTCGCCATGCCGATAAACGCGGCAAC\t@694)?7D??DA6GAFB+F@EFDGF@FBF:<?;,EEECFGAA<E.FDF=H=HGGFF=C;3?HHF<DDECGFEGHHHHDHCHBHHFHHHHFHHHH\tAS:i:0\tXN:i:0\tXM:i:0\tXO:i:0\tXG:i:0\tNM:i:0\tMD:Z:94\tYS:i:0\tYT:Z:CP\n",
            "EAS20_8_6_1_75_1110/2\t163\tgi|49175990|ref|NC_000913.2|\t7438\t42\t93M\t=\t7578\t234\tAAAAGAAAAACTCAGGGCGCGGGCAACGGCGTTCGCTTGAACTCCGCTGAAAATTATGCCATAGGCGATGAGCAAAAAGACGGCGAACAGAAC\tDG;AG;?B?B>GGC;F;EBEG?GG;><EECGFA;BECEEEAGGAAGEGE4GEDGGG4G/4#/-74?GCEA2C4#?CC@EE*0=EE8<?CEE1C\tAS:i:0\tXN:i:0\tXM:i:0\tXO:i:0\tXG:i:0\tNM:i:0\tMD:Z:93\tYS:i:0\tYT:Z:CP\n",
            "EAS20_8_6_1_85_492\t83\tgi|49175990|ref|NC_000913.2|\t8479\t42\t100M\t=\t8379\t-200\tTTGGTCTGGAAATCCTGAAACTGGTTCCGGGCCGTATCTCAACTGAAGTTGATGCGCGTCTTTCCTATGACACCGAAGCGTCAATTGCGAAAGCAAAACG\t;=HHFEEHGHHFEHHFHHHEH=HEDFGHHHGHHHHHHHHHHHGFHHHHHHGHHHHGHHHHHHHGHHHHGHHHFHHHHHHHHHHHFHHHHHHHHHHHHHHH\tAS:i:0\tXN:i:0\tXM:i:0\tXO:i:0\tXG:i:0\tNM:i:0\tMD:Z:100\tYS:i:0\tYT:Z:CP\n",
            "EAS20_8_6_1_85_492/2\t163\tgi|49175990|ref|NC_000913.2|\t8379\t42\t100M\t=\t8479\t200\tTACCGTAAGTTGATTGATGATGCTGTCGCCTGGGCGAAACAGCAGAGCAACGATCGCGCGCAGCAGATCGTGGACGCGACCGACAAACTGGCAGTAAATA\tGEGGFGG?GGGGEGGA?G?AGGFGGAG?GGGDCDGEGEGGGGGGGFGGGEGGFGGEGAE?GEAGC7B9=B1F4>B>FF@F>9CFF#+0<01@866F@*@>\tAS:i:0\tXN:i:0\tXM:i:0\tXO:i:0\tXG:i:0\tNM:i:0\tMD:Z:100\tYS:i:0\tYT:Z:CP\n",
            "EAS20_8_6_1_92_245\t83\tgi|49175990|ref|NC_000913.2|\t7318\t42\t100M\t=\t7211\t-207\tGATTATCGCCATCAACGGGACAAAGCCCTGCATGAGCCGGGCGACGCCATGAAGACCGCGAGTGATTGCCAGCAGAGTAAAGACAGCGAGAATAATGCCT\t5?;??(FE?FG9HFGHHFFFHFGEHHEHIHHHHHHH@HHHFHHIHHFHHHHHHGGHHHIHHHIHHHGHHHHHHHIHHHHHHHHHHFHHHHHHHHHIHHHH\tAS:i:0\tXN:i:0\tXM:i:0\tXO:i:0\tXG:i:0\tNM:i:0\tMD:Z:100\tYS:i:0\tYT:Z:CP\n",
            "EAS20_8_6_1_92_245/2\t163\tgi|49175990|ref|NC_000913.2|\t7211\t42\t94M\t=\t7318\t207\tCCGCCTGCCGCTTCCTGCCAGCCAAAAGCACTCTCAAAAATAGACCAAATGACGTGGGGAAGTTGCCCGATATTCATTACGCAAATTACCAGGC\tEEEEEE8EEEEEEEEEGBE1DEDD2;;<C<>AAAE>E*EEE>>EED7B6>;9DA9?64D9=A<AAEEEBBEEBBEEEBE@<>1D#2<@D8A+@C\tAS:i:0\tXN:i:0\tXM:i:0\tXO:i:0\tXG:i:0\tNM:i:0\tMD:Z:94\tYS:i:0\tYT:Z:CP\n",
            "EAS20_8_6_1_116_1823/1\t99\tgi|49175990|ref|NC_000913.2|\t8587\t42\t94M\t=\t8715\t228\tAACTCTACAACGATGCTGGTATTAGCAACGATCGTATTCTGATCAAACTGGCTTCTACCTGGCAGGGTATCCGTGCTGCAGAACAGCTGGAAAA\tHGHHDHF@FB<@@DDEFHHGEHH?FBG=FGFHDF>EGGBGHHHGHIHFIDHHIHHHGCA@AHFE?EE<EE=EEFD>DDDFG:CGCEDEFF+EA?\tAS:i:0\tXN:i:0\tXM:i:0\tXO:i:0\tXG:i:0\tNM:i:0\tMD:Z:94\tYS:i:0\tYT:Z:CP\n",
            "EAS20_8_6_1_116_1823/2\t147\tgi|49175990|ref|NC_000913.2|\t8715\t42\t100M\t=\t8587\t-228\tTCCTTCGCTCAGGCTCGTGCTTGTGCGGAAGCGGGCGTGTTCCTGATCTCGCCGTTTGTTGGCCGTATTCTTGACTGGTACAAAGCGAATACCGATAAGA\t8A#89<CBB7E@=B@BGEHH5)?;4:@#A(9EDE@E>C=B7GFB6CEECGEHE8HHG@HGGHAHIDHHHHGFHGH;H@DHGHHHDGBFHHHHGFHHH@EH\tAS:i:0\tXN:i:0\tXM:i:0\tXO:i:0\tXG:i:0\tNM:i:0\tMD:Z:100\tYS:i:0\tYT:Z:CP\n",
            "EAS20_8_6_1_133_250\t99\tgi|49175990|ref|NC_000913.2|\t7906\t42\t100M\t=\t8020\t214\tAATCATTACCGATCCCCAAAGGACGCTGTTAATGAAGGAGAAAAAATCTGGCATGCATATCCCTCTTATTGCCGGTCGCGATGACTTTCCTGTGTAAACG\tHGHHHHHHFHHHHGHHHHHDHHHHHHHHGHEGHH;HHHEHHFFH?>CGHHHHHHHHHHHHHHHHHHHHHFHD@HEGHDEGCGEDGGGGGEHHGHGDD17E\tAS:i:0\tXN:i:0\tXM:i:0\tXO:i:0\tXG:i:0\tNM:i:0\tMD:Z:100\tYS:i:0\tYT:Z:CP\n",
            "EAS20_8_6_1_133_250\t147\tgi|49175990|ref|NC_000913.2|\t8020\t42\t100M\t=\t7906\t-214\tAGAAGTATATACGCTACGAGGTACTTGATAACTTCTGCGTAGCATACATGAGGTTTTGTATAAAAATGGCGGGCGATATCAACGCAGTGTCAGAAATCCG\tDFGGFEGEGE?DF5?A<HGGDFEGEGHGDG?FBD>HH=HHHDHFHEBHEHFHHFIBHHEGHHHHHGDHHDHIHFHFHHHHHHEHHGHHHHHHHHHEGDHH\tAS:i:0\tXN:i:0\tXM:i:0\tXO:i:0\tXG:i:0\tNM:i:0\tMD:Z:100\tYS:i:0\tYT:Z:CP\n",
            "EAS20_8_6_1_137_806\t83\tgi|49175990|ref|NC_000913.2|\t7815\t42\t100M\t=\t7716\t-199\tTTTTAAGACTTTTGCCAAACTGGCGGATGTAGCGAAACTGCACAAATCCGGTGCGAAAAGTGAACCAACAACCTGCGCCGAAGAGCAGGTAAATCATTAC\t59=?AD=CA795?A?CEBCFDE?EGGGFFGHGADHGGHGGIGBHIHCFHFEHAFHGHHHGEGHIIHHGHHGHHGIHHEHHHHHHHEHHHHHHHHHHHHHH\tAS:i:0\tXN:i:0\tXM:i:0\tXO:i:0\tXG:i:0\tNM:i:0\tMD:Z:100\tYS:i:0\tYT:Z:CP\n",
            "EAS20_8_6_1_137_806/2\t163\tgi|49175990|ref|NC_000913.2|\t7716\t42\t100M\t=\t7815\t199\tGCGCAACGCCGGCCAGGTTGCCGCTACCCACGCGCGCCGCAAGACTGGTACACAATGACTGAAATGAGGTTAAACCGCCTGGCTGTGGATGAATGCTATT\tGHHHHHHGHHHEHHFHHHHHGHHHHHHHHFGHHHGFHHGHADEHHEF?+HHHHHD3D;?=B77@FHHH+:HH;=HB@FF?H:EHH9B8EB>#88/@=?63\tAS:i:0\tXN:i:0\tXM:i:0\tXO:i:0\tXG:i:0\tNM:i:0\tMD:Z:100\tYS:i:0\tYT:Z:CP\n",
            "EAS20_8_6_1_141_353\t99\tgi|49175990|ref|NC_000913.2|\t9300\t42\t100M\t=\t9428\t228\tATCTTGATGAATACTTTACGTATTGGCTTAGTTTCCATCTCTGATCGCGCATCCAGCGGCGTTTATCAGGATAAAGGCATCCCTGCGCTGGAAGAATGGC\tGGHHHHHHHGHHGHHHHFHFHHHHFFCHFFGHEHHFHHHHGHHHHHGHGGGHFHFHEHFHHGHHGDFCEFEHEEEHHHFGDBGDHFHEHFA.<A4/?CCA\tAS:i:0\tXN:i:0\tXM:i:0\tXO:i:0\tXG:i:0\tNM:i:0\tMD:Z:100\tYS:i:0\tYT:Z:CP\n",
            "EAS20_8_6_1_141_353/2\t147\tgi|49175990|ref|NC_000913.2|\t9428\t42\t100M\t=\t9300\t-228\tACTGGAAACCCGCTTAATCCCCGATGAGCAGGCGATCATCGAGCAAACGTTGTGTGAGCTGGTGGATGAAATGAGTTGCCATCTGGTGCTCACCACGGGC\t:>44B+8#)75B)444A,=3BFEDGE8F?=E3=FABD8>AE;8HE9=BC=HEHE5CECEHFBHDHE@FFFCHHFHHAEDAECFFHBBFBBD?AGBDHHHD\tAS:i:0\tXN:i:0\tXM:i:0\tXO:i:0\tXG:i:0\tNM:i:0\tMD:Z:100\tYS:i:0\tYT:Z:CP\n",
            "EAS20_8_6_1_152_1053\t99\tgi|49175990|ref|NC_000913.2|\t8779\t42\t100M\t=\t8916\t237\tGTATTCTTGACTGGTACAAAGCGAATACCGATAAGAAAGAGTACGCTCCGGCAGAAGATCCGGGCGTGGTTTCTGTATCTGAAATCTACCAGTACTACAA\tHHHHHHHHHHHHHGFHDHGHHFHHHHHHHHEHGEHECBHFHHHFHHHHEHGGGHFGHFHHEGEGEFHHEBHFGGGG2HEHGEE>GGGEE;DEBEFFCDG=\tAS:i:0\tXN:i:0\tXM:i:0\tXO:i:0\tXG:i:0\tNM:i:0\tMD:Z:100\tYS:i:0\tYT:Z:CP\n",
            "EAS20_8_6_1_152_1053\t147\tgi|49175990|ref|NC_000913.2|\t8916\t42\t100M\t=\t8779\t-237\tTTCCGTAACATCGGCGAAATTCTGGAACTGGCAGGCTGCGACCGTCTGACCATCGCACCGGCACTGCTGAAAGAGCTGGCGGAGAGCGAAGGGGCTATCG\tDC.=DGGEHE:GEEEF?D?77B:/8ECG@GHFGDGHDEFG@EEHHHGAGHHHGHHGHGHBHHHHHHHFFHHHDHHGHHHG@HHHHGHHHHHHHDHHGIHH\tAS:i:0\tXN:i:0\tXM:i:0\tXO:i:0\tXG:i:0\tNM:i:0\tMD:Z:100\tYS:i:0\tYT:Z:CP\n",
            "EAS20_8_6_1_156_78/1\t83\tgi|49175990|ref|NC_000913.2|\t1116\t42\t99M\t=\t997\t-218\tCGGCGCTAAAGTTCTTCACCCCCGCACCATTACCCCCATCGCCCAGTTCCAGATCCCTTGCCTGATTAAAAATACCGGAAATCCTCAAGCACCAGGTAC\tC;+BAGADE?>5;?66G@@GEAGDFFGGGEGGEBIEHEGHDGGGIGGIBHHGHCIGIIHHHHGHHICGHHHHFGHHHHHHHGHHGHHHHHHHHHHHHHH\tAS:i:0\tXN:i:0\tXM:i:0\tXO:i:0\tXG:i:0\tNM:i:0\tMD:Z:99\tYS:i:0\tYT:Z:CP\n",
            "EAS20_8_6_1_156_78/2\t163\tgi|49175990|ref|NC_000913.2|\t997\t42\t90M\t=\t1116\t218\tGATTGTTGCGAGATTTGGACGGACGTTGACGGGGTCTATACCTGCGACCCGCGTCAGGTGCCCGATGCGAGGTTGTTGAAGTCGATGTCC\tHHHHHHHHHHHHHHHHHHGHHDHHHHHHFHHGHHGHFHHHHHGHHHGHFFIHECHGB>DEGHGC/EFGBBG-1?6?+3B*4.@5#9>7;A\tAS:i:0\tXN:i:0\tXM:i:0\tXO:i:0\tXG:i:0\tNM:i:0\tMD:Z:90\tYS:i:0\tYT:Z:CP\n",
            "EAS20_8_6_1_157_1844\t83\tgi|49175990|ref|NC_000913.2|\t5458\t42\t100M\t=\t5328\t-230\tACCGCCGCGCCACCATAAGAAAGCTCCTCATGATCATCACGGCGGTCATGGTCCAGGCAAACATCACCGCTAAATGACAAATGCCGGGTAACAATCCGGC\t1BC;CEA<D(HFECH>HHGHHH=?=FHCHECHH.HE<HGHHHGHHEGHHHFFDHHHHEGHHHH=HGHGHGHHHHGGHHHHHFBHHHGGHHHHHHHHHHHH\tAS:i:0\tXN:i:0\tXM:i:0\tXO:i:0\tXG:i:0\tNM:i:0\tMD:Z:100\tYS:i:0\tYT:Z:CP\n",
            "EAS20_8_6_1_157_1844/2\t163\tgi|49175990|ref|NC_000913.2|\t5328\t42\t92M\t=\t5458\t230\tTAAAATTACAGATAGGCGATCGTGATAATCGTGGCTATTACTGGGATGGAGGTCACTGGCGCGACCACGGCTGGTGGAAACAACATTATGAA\tHHHHHHHHHHHEEEHFHGDHEGGHHHEFGEHEHGHHGEG@HECHH#?F5?B=/4<ADF==GHGGEFGGHG=AG<#0C1?AADA#5;B0B:=D\tAS:i:0\tXN:i:0\tXM:i:0\tXO:i:0\tXG:i:0\tNM:i:0\tMD:Z:92\tYS:i:0\tYT:Z:CP\n",
            "EAS20_8_6_1_162_495\t83\tgi|49175990|ref|NC_000913.2|\t2368\t42\t100M\t=\t2257\t-211\tGATGTGGCGCGTAAACTATTGATTCTCGCTCGTGAAACGGGACGTGAACTGGAGCTGGCGGATATTGAAATTGAACCTGTGCTGCCCGCAGAGTTTAACG\tBE?EEA/96@=@=?-?:C>@@F?BE;D?B7EHGEGG=GGCCEDHEFEEG8HFFDDGGHG=CHGHIGHEGHEHHHGHHHFHHEGHGGEGHHHHHHGFHHFH\tAS:i:0\tXN:i:0\tXM:i:0\tXO:i:0\tXG:i:0\tNM:i:0\tMD:Z:100\tYS:i:0\tYT:Z:CP\n",
            "EAS20_8_6_1_162_495/2\t163\tgi|49175990|ref|NC_000913.2|\t2257\t42\t61M\t=\t2368\t211\tTCTTATATCTTCGGCAAGTTAGACGAAGGCATGAGTTTCTCCGAGGCGACCACGCTGGCGC\tHFAHHHDHAGHGHHGHHDH8DHF?HEHE=EEGAE8.B?GEHHH=EFHH=FHEEE=5BEBGH\tAS:i:0\tXN:i:0\tXM:i:0\tXO:i:0\tXG:i:0\tNM:i:0\tMD:Z:61\tYS:i:0\tYT:Z:CP\n",
            "EAS20_8_6_1_163_1521\t83\tgi|49175990|ref|NC_000913.2|\t292\t42\t100M\t=\t145\t-247\tCAGTGCGGGCTTTTTTTTTCGACCAAAGGTAACGAGGTAACAACCATGCGAGTGTTGAAGTTCGGCGGTACATCAGTGGCAAATGCAGAACGTTTTCTGC\tGFHGHHEGB?>6>DB;<<5?HGHHHHHFHIHHHGHGHHHIHHGHHHFHHEHHHHHGHHHHHHHFCHFHHHHHBHHHHHHHHHIHHIHHHHHDHHHIHHGH\tAS:i:0\tXN:i:0\tXM:i:0\tXO:i:0\tXG:i:0\tNM:i:0\tMD:Z:100\tYS:i:0\tYT:Z:CP\n",
            "EAS20_8_6_1_163_1521\t163\tgi|49175990|ref|NC_000913.2|\t145\t42\t100M\t=\t292\t247\tGGCATAGCGCACAGACAGATAAAAATTACAGAGTACACAACATCCATGAAACGCATTAGCACCACCATTACCACCACCATCACCATTACCACAGGTAACG\tHHGGFHHGHHHHHHHGFHHHHHHHCGHFHFHFHHHHHHGHHGHHDHHIEGEDFEHHCHHHHGCCGF>GFEFEGGFGGEIG1ACBCF?CD1?CADCD.DFB\tAS:i:0\tXN:i:0\tXM:i:0\tXO:i:0\tXG:i:0\tNM:i:0\tMD:Z:100\tYS:i:0\tYT:Z:CP\n",
            "EAS20_8_6_1_163_1672/1\t83\tgi|49175990|ref|NC_000913.2|\t8221\t42\t99M\t=\t8105\t-215\tTAAAGAGAAATACTATCATGACGGACAAATTGACCTCCCTTCGTCAGTACACCACCGTAGTGGCCGACACTGGGGACATCGCGGCAATGAAGCTGTATC\tDFFHEF;HEEBBEAG/GFEFDGEBEAFHEGDEAHH4FHHEEHGEHHDEEFDHHEHHCFHHHHHHHHHHDHHHHHEIHHHHHHHHHHHHGHHHHHHHHHH\tAS:i:0\tXN:i:0\tXM:i:0\tXO:i:0\tXG:i:0\tNM:i:0\tMD:Z:99\tYS:i:0\tYT:Z:CP\n",
            "EAS20_8_6_1_163_1672/2\t163\tgi|49175990|ref|NC_000913.2|\t8105\t42\t41M\t=\t8221\t215\tAGTGTCAGAAATCCGAAACAGTCTCGCCTGGCGATAACCGT\tHIGHHHHHHHHHHHHHGHHHHHHHHHHHHHHHHHHHHHHHH\tAS:i:0\tXN:i:0\tXM:i:0\tXO:i:0\tXG:i:0\tNM:i:0\tMD:Z:41\tYS:i:0\tYT:Z:CP\n",
            "EAS20_8_6_1_164_840\t83\tgi|49175990|ref|NC_000913.2|\t3272\t42\t100M\t=\t3146\t-226\tAACGACATCATCAGCCAGCAAGTGCCAGGGTTTGATGAGTGGCTGTGGGTGCTGGCGTATCCGGGGATTAAAGTCTCGACGGCAGAAGCCAGGGCTATTT\t>>DC<GG;CG>DCEEGG@GGDEA@DF>B;DECE=GFFFIGGGEEFCDFGGIGIGFIIIICFHHFEIHHHHHHGBHGFHGHHHHHHHHFGHHHHGEHHHHH\tAS:i:0\tXN:i:0\tXM:i:0\tXO:i:0\tXG:i:0\tNM:i:0\tMD:Z:100\tYS:i:0\tYT:Z:CP\n"
          ]
        }
      ]
    },
    {
      "cell_type": "code",
      "source": [
        "with open('test_alignment.sam', 'r') as f:\n",
        "    l = [line.strip() for line in f]\n",
        "    df = pd.DataFrame(np.zeros((4, 4)).astype(int), index = ['A', 'T', 'C', 'G'], columns = ['A', 'T', 'C', 'G'])\n",
        "    with open('MG1655-K12.first10K.fasta') as ref:\n",
        "      lref = [line.strip() for line in ref]\n",
        "      seq_ref = ''\n",
        "      k = 0\n",
        "      for i in range(1, len(lref)):\n",
        "        seq_ref += lref[i]\n",
        "      for i in range(3, len(l)):\n",
        "        a = l[i].split('\\t')\n",
        "        seq = a[9]\n",
        "        start = int(a[3]) - 1\n",
        "        if int(a[1]) in straight or int(a[1]) in revers:\n",
        "          for j in range(len(seq)): \n",
        "            if seq[j] != seq_ref[j + start]:\n",
        "              df.loc[seq[j], seq_ref[j + start]] += 1\n",
        "df"
      ],
      "metadata": {
        "colab": {
          "base_uri": "https://localhost:8080/",
          "height": 282
        },
        "id": "B9Hp2VEWN-5P",
        "outputId": "aa8550ce-d67d-4dc0-e611-1a72a3f669f2"
      },
      "execution_count": null,
      "outputs": [
        {
          "output_type": "stream",
          "name": "stdout",
          "text": [
            "   A  T  C  G\n",
            "A  0  0  0  0\n",
            "T  0  0  0  0\n",
            "C  0  0  0  0\n",
            "G  0  0  0  0\n",
            "[['A', 'T', 'C', 'G'], ['A', 'T', 'C', 'G']]\n"
          ]
        },
        {
          "output_type": "execute_result",
          "data": {
            "text/html": [
              "\n",
              "  <div id=\"df-814720a8-b4d2-4d58-819f-54166839d8e4\">\n",
              "    <div class=\"colab-df-container\">\n",
              "      <div>\n",
              "<style scoped>\n",
              "    .dataframe tbody tr th:only-of-type {\n",
              "        vertical-align: middle;\n",
              "    }\n",
              "\n",
              "    .dataframe tbody tr th {\n",
              "        vertical-align: top;\n",
              "    }\n",
              "\n",
              "    .dataframe thead th {\n",
              "        text-align: right;\n",
              "    }\n",
              "</style>\n",
              "<table border=\"1\" class=\"dataframe\">\n",
              "  <thead>\n",
              "    <tr style=\"text-align: right;\">\n",
              "      <th></th>\n",
              "      <th>A</th>\n",
              "      <th>T</th>\n",
              "      <th>C</th>\n",
              "      <th>G</th>\n",
              "    </tr>\n",
              "  </thead>\n",
              "  <tbody>\n",
              "    <tr>\n",
              "      <th>A</th>\n",
              "      <td>0</td>\n",
              "      <td>0</td>\n",
              "      <td>0</td>\n",
              "      <td>0</td>\n",
              "    </tr>\n",
              "    <tr>\n",
              "      <th>T</th>\n",
              "      <td>1</td>\n",
              "      <td>0</td>\n",
              "      <td>2</td>\n",
              "      <td>34</td>\n",
              "    </tr>\n",
              "    <tr>\n",
              "      <th>C</th>\n",
              "      <td>15</td>\n",
              "      <td>1</td>\n",
              "      <td>0</td>\n",
              "      <td>22</td>\n",
              "    </tr>\n",
              "    <tr>\n",
              "      <th>G</th>\n",
              "      <td>20</td>\n",
              "      <td>17</td>\n",
              "      <td>2</td>\n",
              "      <td>0</td>\n",
              "    </tr>\n",
              "  </tbody>\n",
              "</table>\n",
              "</div>\n",
              "      <button class=\"colab-df-convert\" onclick=\"convertToInteractive('df-814720a8-b4d2-4d58-819f-54166839d8e4')\"\n",
              "              title=\"Convert this dataframe to an interactive table.\"\n",
              "              style=\"display:none;\">\n",
              "        \n",
              "  <svg xmlns=\"http://www.w3.org/2000/svg\" height=\"24px\"viewBox=\"0 0 24 24\"\n",
              "       width=\"24px\">\n",
              "    <path d=\"M0 0h24v24H0V0z\" fill=\"none\"/>\n",
              "    <path d=\"M18.56 5.44l.94 2.06.94-2.06 2.06-.94-2.06-.94-.94-2.06-.94 2.06-2.06.94zm-11 1L8.5 8.5l.94-2.06 2.06-.94-2.06-.94L8.5 2.5l-.94 2.06-2.06.94zm10 10l.94 2.06.94-2.06 2.06-.94-2.06-.94-.94-2.06-.94 2.06-2.06.94z\"/><path d=\"M17.41 7.96l-1.37-1.37c-.4-.4-.92-.59-1.43-.59-.52 0-1.04.2-1.43.59L10.3 9.45l-7.72 7.72c-.78.78-.78 2.05 0 2.83L4 21.41c.39.39.9.59 1.41.59.51 0 1.02-.2 1.41-.59l7.78-7.78 2.81-2.81c.8-.78.8-2.07 0-2.86zM5.41 20L4 18.59l7.72-7.72 1.47 1.35L5.41 20z\"/>\n",
              "  </svg>\n",
              "      </button>\n",
              "      \n",
              "  <style>\n",
              "    .colab-df-container {\n",
              "      display:flex;\n",
              "      flex-wrap:wrap;\n",
              "      gap: 12px;\n",
              "    }\n",
              "\n",
              "    .colab-df-convert {\n",
              "      background-color: #E8F0FE;\n",
              "      border: none;\n",
              "      border-radius: 50%;\n",
              "      cursor: pointer;\n",
              "      display: none;\n",
              "      fill: #1967D2;\n",
              "      height: 32px;\n",
              "      padding: 0 0 0 0;\n",
              "      width: 32px;\n",
              "    }\n",
              "\n",
              "    .colab-df-convert:hover {\n",
              "      background-color: #E2EBFA;\n",
              "      box-shadow: 0px 1px 2px rgba(60, 64, 67, 0.3), 0px 1px 3px 1px rgba(60, 64, 67, 0.15);\n",
              "      fill: #174EA6;\n",
              "    }\n",
              "\n",
              "    [theme=dark] .colab-df-convert {\n",
              "      background-color: #3B4455;\n",
              "      fill: #D2E3FC;\n",
              "    }\n",
              "\n",
              "    [theme=dark] .colab-df-convert:hover {\n",
              "      background-color: #434B5C;\n",
              "      box-shadow: 0px 1px 3px 1px rgba(0, 0, 0, 0.15);\n",
              "      filter: drop-shadow(0px 1px 2px rgba(0, 0, 0, 0.3));\n",
              "      fill: #FFFFFF;\n",
              "    }\n",
              "  </style>\n",
              "\n",
              "      <script>\n",
              "        const buttonEl =\n",
              "          document.querySelector('#df-814720a8-b4d2-4d58-819f-54166839d8e4 button.colab-df-convert');\n",
              "        buttonEl.style.display =\n",
              "          google.colab.kernel.accessAllowed ? 'block' : 'none';\n",
              "\n",
              "        async function convertToInteractive(key) {\n",
              "          const element = document.querySelector('#df-814720a8-b4d2-4d58-819f-54166839d8e4');\n",
              "          const dataTable =\n",
              "            await google.colab.kernel.invokeFunction('convertToInteractive',\n",
              "                                                     [key], {});\n",
              "          if (!dataTable) return;\n",
              "\n",
              "          const docLinkHtml = 'Like what you see? Visit the ' +\n",
              "            '<a target=\"_blank\" href=https://colab.research.google.com/notebooks/data_table.ipynb>data table notebook</a>'\n",
              "            + ' to learn more about interactive tables.';\n",
              "          element.innerHTML = '';\n",
              "          dataTable['output_type'] = 'display_data';\n",
              "          await google.colab.output.renderOutput(dataTable, element);\n",
              "          const docLink = document.createElement('div');\n",
              "          docLink.innerHTML = docLinkHtml;\n",
              "          element.appendChild(docLink);\n",
              "        }\n",
              "      </script>\n",
              "    </div>\n",
              "  </div>\n",
              "  "
            ],
            "text/plain": [
              "    A   T  C   G\n",
              "A   0   0  0   0\n",
              "T   1   0  2  34\n",
              "C  15   1  0  22\n",
              "G  20  17  2   0"
            ]
          },
          "metadata": {},
          "execution_count": 198
        }
      ]
    },
    {
      "cell_type": "code",
      "source": [
        "!head -50 fr_alignment.sam"
      ],
      "metadata": {
        "colab": {
          "base_uri": "https://localhost:8080/"
        },
        "id": "LmQdlE8rhLfg",
        "outputId": "95871054-e1c5-4cbb-ffc2-17b63abcc3b6"
      },
      "execution_count": null,
      "outputs": [
        {
          "output_type": "stream",
          "name": "stdout",
          "text": [
            "@HD\tVN:1.0\tSO:unsorted\n",
            "@SQ\tSN:Contig184\tLN:3614991\n",
            "@PG\tID:bowtie2\tPN:bowtie2\tVN:2.3.5.1\tCL:\"/usr/local/bin/bowtie2-align-s --wrapper basic-0 -x chromosome_index -1 frag.R1.fastq.gz -2 frag.R2.fastq.gz\"\n",
            "2069:1:1208:3689:178475\t83\tContig184\t3167909\t23\t16M1D134M\t=\t3167855\t-205\tGCTGCCTCCCCCCCCGGGTTGGGGTCGTGCTCACGGCGCTGATCTTCGTGATCAACGTGGGCGTGACCCGGATCGGGGAGCGGCAGTCATGAGGGTCTCCCGCGCCGAGACGACGATGAACTACGTGCTCCTGCTGGGCTTCGCCGCCTT\tBBBBBBBBBBBBBBBBBBBBBBBBBBBBBBBBBBBBBBb_Y]TVa_WXJGG[WP`acaac`T][TH_aca[TTaacccaaacccccbbbacbccccccccccccccccb`bedegfgfgggdgihffhfhhgfiiiigfgfgeeeeebbb\tAS:i:-48\tXN:i:0\tXM:i:8\tXO:i:1\tXG:i:1\tNM:i:9\tMD:Z:1T0C1G4G2T3^C3C1C1A126\tYS:i:-25\tYT:Z:CP\n",
            "2069:1:1208:3689:178475\t163\tContig184\t3167855\t23\t150M\t=\t3167909\t205\tACCACCACCGTGCCCAGCTTCGAGGTGTACTTCCGGGCGTTCGAGCTGCGCGCCGTCGGCTCCGCCTCCGCGGTCGCGATCGTGCTCACGGCGCTGCTCTTCGTGATCAACGTGGGCGTGACCCGGATCGTGGGGCGGCAGTCATCACGG\tabbeeeeegfeggffdhh`ggh\\fg_b^effhhiiiiiiihhiiddgdeabccccacccc_acc]aaccaZa_]TET_a]_c`^^GJS]^X[[_RMES_b]b^[^BBBBBBBBBBBBBBBBBBBBBBBBBBBBBBBBBBBBBBBBBBBBB\tAS:i:-25\tXN:i:0\tXM:i:5\tXO:i:0\tXG:i:0\tNM:i:5\tMD:Z:96A33G2A11G1G2\tYS:i:-48\tYT:Z:CP\n",
            "2069:1:1303:4157:113475\t99\tContig184\t1444070\t23\t150M\t=\t1444166\t234\tACAACGCCCCGGCGGTCGCGGCGACCGCGGTGCGCAGCAGCACCAGGGCGGTGGCGTCGTTGACCAGCCCCTCCCCCTCGAGGATCGTCAGCAGCCGCGGCGGCAGGCCGAGCCGCTTGCCGCTCCAGGTGGCGGCGACCGCATCCGGAG\t___ececeggc^bcfeea``dcac_cP_aaEUYa_caR[W^[`^[acXaacTT[WVV[aVV[`b`bacaccaaW_]aaa_XTTXRXTR[^___`^aaBBBBBBBBBBBBBBBBBBBBBBBBBBBBBBBBBBBBBBBBBBBBBBBBBBBBB\tAS:i:-21\tXN:i:0\tXM:i:4\tXO:i:0\tXG:i:0\tNM:i:4\tMD:Z:1G120A2G22C1\tYS:i:-56\tYT:Z:CP\n",
            "2069:1:1303:4157:113475\t147\tContig184\t1444166\t23\t8M11I3M1I127M\t=\t1444070\t-234\tGCGGCGGCGCCGGTGGGGGAGGCCCGAGCCGCTTGCCGATCGAGGGGGCGGCGACCGCATCCGGCGGGCTGATGACCGCGCCGACGGCGACCGCGGAGGCCAGGCCCAGATCCGGGAAGATCCACCACAGCAGCGCACCGGTGCCGAAGG\tBBBBBBBBBBBBBBBBBBBBBBBBBBBBBBBBBBBBBBBBBBBBBBBBBBBBBBBBaXTTOEaca_[Yb_bbRXOORa_a]OZLZ^Va_Z\\Qa]ZUG__c\\^eddb`d_LF_[be\\IcccQa^Xfe^gbffgf`ffegcgeeeccec___\tAS:i:-56\tXN:i:0\tXM:i:2\tXO:i:2\tXG:i:12\tNM:i:14\tMD:Z:33T50C53\tYS:i:-21\tYT:Z:CP\n",
            "2069:1:2308:15390:155355\t73\tContig184\t2418994\t24\t150M\t=\t2418994\t0\tGCACGAGGTCGGGCTGCTCCTGCCCGATGCGTTCCAGCACGCCGGCGCGCCACTGCGCGCATTCGGTGTACTCCACCCCCTCGAGCAGGAGCGGGAGGTCCGCCGAGGGGAAGGAGCTCTTCGAGTTCGTGTCCAGCTGGAGCCTGCCTT\t___cecccgec`cgaeaRb_bfcgh[cg`ga_fgf_effhddf`WW]aYWT_ac_]WWOVZZLY_PWWZYYS_b_bWTT]]acTOET^BBBBBBBBBBBBBBBBBBBBBBBBBBBBBBBBBBBBBBBBBBBBBBBBBBBBBBBBBBBBBB\tAS:i:-30\tXN:i:0\tXM:i:6\tXO:i:0\tXG:i:0\tNM:i:6\tMD:Z:110C12T12G0C3T6C1\tYT:Z:UP\n",
            "2069:1:2308:15390:155355\t133\tContig184\t2418994\t0\t*\t=\t2418994\t0\tTGACGCCCCGCTGGTGTTCCTGTTCGGCGACTCCCACGCGGCCTCCTGGTACCCGGCGCTCGCGGAGCTGGCGGAGCCGGGCAGGATCCGCCTGGACCAGAAACCGCAACGCTCCTGCACCGCGGAGGCCACGCCGCGCACGACAGCACG\t_[[cccccgcggg]dgccfgfhegbgfhdgegfV\\ZGT\\a[R\\^X[[_]bbXXXUTVTVRZT[aBBBBBBBBBBBBBBBBBBBBBBBBBBBBBBBBBBBBBBBBBBBBBBBBBBBBBBBBBBBBBBBBBBBBBBBBBBBBBBBBBBBBBB\tYT:Z:UP\n",
            "2069:1:2304:7494:114508\t99\tContig184\t3113904\t23\t150M\t=\t3113950\t196\tAGCGCGTGGTCCCCTCCTACGAGGAGGCCTGGGGCGCGTGGCCCGAGGGGCCCGACGCCATCGTCGTCACCAGCGCGAACGCGCACCACAAGGACCTGGTGCTCGAGGCCGCCCGGCGCGGCGTGCACGTGCTGTGCGAGAAGCCGCTGG\tbbbeeeeefggggiiiiihiiiiihhiiiihiiiigeccccccacccccccccc[WaccZaccccc]a`ac_ac[[acaccccaaccccaccccccbcaY`b`bccc_aacccacX[X]aa]XOOXW]a`[`^_]XS[T[XOX^BBBBBB\tAS:i:0\tXN:i:0\tXM:i:0\tXO:i:0\tXG:i:0\tNM:i:0\tMD:Z:150\tYS:i:-90\tYT:Z:CP\n",
            "2069:1:2304:7494:114508\t147\tContig184\t3113950\t23\t150M\t=\t3113904\t-196\tGGAGCCGTGCGCCCGCGTCGTCCCGAGCGCAACCGCGCCCCACAAGGCCGTGGGCCTCGAGCCCCCCCGGCGCGGCGTGCACGTGCTGGGCGAGAAGCCGCTGGCCACCACCGTGGCCGATGCCGAGGCCATGGTCGCGGCCTGCCGCGA\tBBBBBBBBBBBBBBBBBBBBBBBBBBBBBBBBBBBBBBBBBBBBBBBBBBBBBBBBBBBBBBBBBBBBBBBBBBBBBBBBBBBBBBBBBBBBBBBBB_a_`X`^caZa^WaZcaa^daaadggfhhiihfehhhfgfeggfgeeeeebbb\tAS:i:-90\tXN:i:0\tXM:i:18\tXO:i:0\tXG:i:0\tNM:i:18\tMD:Z:2G3C0G0A4A0T7A1C5G1A5A8A1C3T0G6G2G23T61\tYS:i:0\tYT:Z:CP\n",
            "2069:1:1205:16310:157114\t99\tContig184\t1625539\t40\t146M1D4M\t=\t1625601\t212\tACTTCTACGGGGAGCAGAACCCGCTGGACTTCTTCTCGTCGGCGGCGGAGACGGTCCCCACATCGTTCATCAGCACCTGGGAGACCCACATCTCCGGCGCGTTCACGCGAGAGCTCGCCAACGTGGAGACCGGGGGCAAGGATCCCGCGC\t_bbeeeeefgggghhhehfffifhcgffihfgiifdffghhihecccc_c[aaaV_accbV_b]W^`aX_b`R_b`acb_aW^acac__aY]bccaaccaca_cbbQ[TX[T[`Y]XXX[_aaWQJGQ]^^a[[TEET[a^GGX^bBBBB\tAS:i:-13\tXN:i:0\tXM:i:1\tXO:i:1\tXG:i:1\tNM:i:2\tMD:Z:146^G0A3\tYS:i:-35\tYT:Z:CP\n",
            "2069:1:1205:16310:157114\t147\tContig184\t1625601\t40\t150M\t=\t1625539\t-212\tTCGTTGTGCAGCACGTGGGAGGCCCCCATCTCCGTCGCGTTCACGCGAGAGCTCGCCAACGTGGAGACCGGGGGCAAGGATCCCGACGCCGCCTGGAGAGACGCCCTCGCCCAGGCGGAGAAGGTCCTCGCCAAACGAGGAGTGGAGCTA\tBBBBBBBBBBBBBBBBBBBBBBBBBBBBBBBBBBBBBBBBBBBBBBBBBBBBBB_[WQGabb`bca[Xcaa`b`Ybb`_a]WOVa_cccccb_bbbcb]ZXbcedgggggeZ_ec[bhffff`cccdhhgfaedahfggeegcceaeba_\tAS:i:-35\tXN:i:0\tXM:i:7\tXO:i:0\tXG:i:0\tNM:i:7\tMD:Z:5C0A0T6C6A3A8G115\tYS:i:-13\tYT:Z:CP\n",
            "2069:1:2305:6528:83970\t73\tContig184\t1264208\t42\t150M\t=\t1264208\t0\tCCCTCGAGCGCCGCCGCGAGATGCGCCCCGCGCGCCCAGCGGTGCACGATCGCGGCGATCGCCGGGTCGGGGGCGGTGGTGGGGCTGATGCGGTGCCGGGCCTCGGCGGCCTGCAGCGCGGTCGCCCCCCGGGTCGAGGCCGCGAGGGCG\t__aeeeeeggeggiiihihhiiiiiiggeecccccccccccc_acccccccccccccccccccaccWaaccca_acLX_T^ccc]Xaa__ba[OX]^aacX__acaac_[]OWWX^bcMT[O[__aET[aBBBBBBBBBBBBBBBBBBBB\tAS:i:-15\tXN:i:0\tXM:i:3\tXO:i:0\tXG:i:0\tNM:i:3\tMD:Z:126A14T4C3\tYT:Z:UP\n",
            "2069:1:2305:6528:83970\t133\tContig184\t1264208\t0\t*\t=\t1264208\t0\tAGCTCGGATACCTCGAGCGCGTCGACGCCGGGACGGAGGACGAGGAGCTACGGCCCACCGCGAGCGGGCTGCGGCTGCGGCGGGTGTTAGGCGACCCGGCCCCGGCCACACGCAGCGCGCCACGCACACGGCCCCTGGTGACGCGTGCAC\tb_beeeeegfgggiihfhiihihihhifgfee`bU\\Q\\_[`X_Ua_^WGGJHTOT[a[_[a_TTZaV_aZa_]aa[[[]a_aaBBBBBBBBBBBBBBBBBBBBBBBBBBBBBBBBBBBBBBBBBBBBBBBBBBBBBBBBBBBBBBBBBBB\tYT:Z:UP\n",
            "2069:1:2107:6674:106806\t99\tContig184\t2859433\t42\t150M\t=\t2859588\t305\tTGCGCGATGATCCCGCCCGGTTTGAGGATCACCACCCGGTCCCCGAGGAGGAAGGCCTCGTCGATGTCATGGGTGACGAAGACGATCGTCTTGCGCAGCTCGTGCTGCAGGCGCTGCAGATCCCGCTGCAGCTCGGCGCGCACGATCGGG\tbb_eeeeegggggiiiiiiifhhhiidgigfhhhihiihhhfggeecccccccccccccc`ca_ccacccbccX[acc_ccab[acccb[`^`bcccccb`aa^a^`bccaaaaX[aRXJGJY[W[R[_`^]^]aaBBBBBBBBBBBBBB\tAS:i:-6\tXN:i:0\tXM:i:1\tXO:i:0\tXG:i:0\tNM:i:1\tMD:Z:119C30\tYS:i:-25\tYT:Z:CP\n",
            "2069:1:2107:6674:106806\t147\tContig184\t2859588\t42\t150M\t=\t2859433\t-305\tCTCGACGATGCGCTCGTCTATCAGCAGGATGTTCGGATCGGCGGCGAGACCCCGCGCCACCCCCACGCGCTGCTGCTGTCCGCCCGAGAGCTGTGCGGGGTAGCGGTCGGCGAGCGCGGCGTCGAGGCCGACGGTCCCCATCAGCTCCTG\tBBBBBBBBBBBBBBBBBBBBBBBBBB^`_XT^V`[XTHM][XOQb_XHO_X[a_c`[XT_Xa_]Xaaca^W``Xaaaa_ccaacccb_]^`ZccaWccccacacccaaaacbbddaggfgfcc^Hgaihgdhiihhhgggggeeeeebbb\tAS:i:-25\tXN:i:0\tXM:i:5\tXO:i:0\tXG:i:0\tNM:i:5\tMD:Z:1G2C3A1G7C131\tYS:i:-6\tYT:Z:CP\n",
            "2069:1:1205:19101:163484\t83\tContig184\t2818933\t24\t150M\t=\t2818770\t-313\tGGGGCGAAGTTCTTCTGCCCCACCGGGCGCTCGCCGCGGCGGCGCACCCCCTCGTCCGCGGCGGTCACCGCGACGGCGCTGGGGTCCACGTGGGCCCGTCCGTCCTCGCCCTTGGCGACCACCTCGGCGCGCTCGACCACCTCGAGCTCG\tBBBBBBBBBBBBBBBBBBBBBBBBBBBBBBBBBBaa[_]TRXOGOEaaa_[OTTH[[aaacab]O[Oca_XEOXcacca^aabb^^^Waccaa[caaWTcca_Ta^ccaca^\\Z[abYd^Tgddhihfhffggdf_aagggecccV`_^_\tAS:i:-15\tXN:i:0\tXM:i:3\tXO:i:0\tXG:i:0\tNM:i:3\tMD:Z:10G7A5A125\tYS:i:-45\tYT:Z:CP\n",
            "2069:1:1205:19101:163484\t163\tContig184\t2818770\t24\t150M\t=\t2818933\t313\tCTCGTTGCCGCAGATGCCCACGGAGATCGCCCGCAGCCCGTCGCGGTGGTCGGAGGGGCGTCCCAGCTCGTCGTGGACGGGGCCGACGAACACGTCGCGCAGCAGCAGCGCGTCGGCGCAGGCGTGGCCGTCCACCCACACAGGCATCTC\t^__cacc`egffc_dbecadadffdcfafdg[VV_W`bd`\\`[[]a_aN\\_\\aaWLVTTOT[aZY`[_baa^XX]_[_BBBBBBBBBBBBBBBBBBBBBBBBBBBBBBBBBBBBBBBBBBBBBBBBBBBBBBBBBBBBBBBBBBBBBBBB\tAS:i:-45\tXN:i:0\tXM:i:9\tXO:i:0\tXG:i:0\tNM:i:9\tMD:Z:115C3C1C4C3C6C1T1G2G5\tYS:i:-15\tYT:Z:CP\n",
            "2069:1:1103:9925:187614\t153\tContig184\t1465539\t40\t150M\t=\t1465539\t0\tCCGCGGCCGCGAGGTGCCGAGCGTGGCCCTCGAGACCCGGGCCGTCACGCTCAATGCGCGCGATCTCACCGGGAGCACGCCGAGCGTCGTCCCGGATGAGGAGAAGGGCGGGTACGACGCGACCCGCCTCCTGCTCGAGGCGGGCCACAC\tBBBBBBBBBBBBBBBBBBBBBBBBBBBBBBBBBBBBBBBBBBBBBBBBBBBb]X__]a]a^`Y\\a_[Xcaa`]Wccaccc__Va_cccaZaccbbbbbbbbb^baca_cbaa`__caca`XXghiihhhiiiiiiiigggfgeeeeebab\tAS:i:-25\tXN:i:0\tXM:i:5\tXO:i:0\tXG:i:0\tNM:i:5\tMD:Z:5A0G1T10C3C126\tYT:Z:UP\n",
            "2069:1:1103:9925:187614\t101\tContig184\t1465539\t0\t*\t=\t1465539\t0\tCGCGGAGCGGATCCGCGAGGCGGCCGCCGCCCCCGGCTACCGCCGGGAACCCCCGGCGAAGACCCCGAAAACGGGGGGCGCGGGGGTCATCGGCCCGGGCGGCGGCGAGGGGGCCACCCCCCCCTTCTCCCGGCAGAGGGACAAAGGGGC\tbbbeeeeegggggihiiiiihiaBBBBBBBBBBBBBBBBBBBBBBBBBBBBBBBBBBBBBBBBBBBBBBBBBBBBBBBBBBBBBBBBBBBBBBBBBBBBBBBBBBBBBBBBBBBBBBBBBBBBBBBBBBBBBBBBBBBBBBBBBBBBBBB\tYT:Z:UP\n",
            "2069:1:1107:16119:92455\t83\tContig184\t3281717\t40\t150M\t=\t3281587\t-280\tGGTCGAGGACCCCGCCTTCATCGAACGCGTTCTCTACAACGTGGTCGCGGTCTCGCCCAGCCCCGACGGACGAGCCTTCTTCTACTCCAACCCGCTGCACCAGCGGGAGCCGGGTGACTCCGCCAGCAGCAGCGTGAACATGCGCGCCGA\tBBBBBBBBBBBBBBBBBBBBBBBBBBBBBBBBBBBBB^QWPOMTT[OT^MT[T_^aaaccccca`^cccccab^`b^bbb``XS`Yca^Tcca`bbcb^ccacccccccceeeggd^gdiffhiihiiihdhiiiiigggggeeeee_bb\tAS:i:-15\tXN:i:0\tXM:i:3\tXO:i:0\tXG:i:0\tNM:i:3\tMD:Z:7T2G3A135\tYS:i:-30\tYT:Z:CP\n",
            "2069:1:1107:16119:92455\t163\tContig184\t3281587\t40\t150M\t=\t3281717\t280\tTGGGCTCCCGTCACCAGGACGAGGGCTTCGGGGAGGATTGGGAGCTCCCGCCGGACCGCGCCTACTGCGAGACCTGCGCCGGGATCGCCGCCATCATGTTCTCCTGGCGCCTGTACCCCGCCACCGGAGGGTGCGAGGACGCCGACTTAC\tbbbeeeeefggegiiiihhi`dgffhihihiihfdg^fggge^\\acdcbcacccacaacTZ_RT`Y]STZ]Z_^```accc]aXX[LWTX_a][XGSSGKYSRYY]X`XX_a_bbbBBBBBBBBBBBBBBBBBBBBBBBBBBBBBBBBBB\tAS:i:-30\tXN:i:0\tXM:i:6\tXO:i:0\tXG:i:0\tNM:i:6\tMD:Z:117T13G0T4T10C0A0\tYS:i:-15\tYT:Z:CP\n",
            "2069:1:1105:19151:137119\t83\tContig184\t736944\t40\t150M\t=\t736870\t-224\tATGTGCCCCGACAGCACCAGCGGCACCCGTCCGAGGAGGCCCTCGGGCTGGGTCGGGTCGTGGATCAGCGCGACGTCGACCGGATCCTCGGGATGCTCCTCGTCATAGCTCTCGATCGTGTCGCCGAGCTGGAAGATGGCGGCGTTGACC\t_ba_XTE[^YGbb`[RX]Xa_`c__a[ca_c_[[ccaca_]]accaa^__cacccccaccccccccacccccacaccaaccbccccccccccbccbcccccccccddc`ccceggffihihihiiiiiiiiiiihiigggggeeeec^b_\tAS:i:0\tXN:i:0\tXM:i:0\tXO:i:0\tXG:i:0\tNM:i:0\tMD:Z:150\tYS:i:-48\tYT:Z:CP\n",
            "2069:1:1105:19151:137119\t163\tContig184\t736870\t40\t143M1I6M\t=\t736944\t224\tCCCCGCCGGTCGAGCCGACCGTCAGCCAGTCCGTGCCGGAGTCCTCGCGGTCGAGCTCGACGTCGGAGGTGTGCATGTGCCCCGACAGCACCAGCGGCACCCGTCCGAGGAGGCCCTCGGGCTGGGTCGGCGCGTGGCGTAGCTGCACAG\taaaeeeeeg[ceggcegiiiihhihiibffgggdeeeccac^bbccY^WW[aac[acccccaaaca_acWW]acdb_Y]`]b[T]acX[`aBBBBBBBBBBBBBBBBBBBBBBBBBBBBBBBBBBBBBBBBBBBBBBBBBBBBBBBBBBB\tAS:i:-48\tXN:i:0\tXM:i:8\tXO:i:1\tXG:i:1\tNM:i:9\tMD:Z:130G0T5A0T0C5G0A0C1\tYS:i:0\tYT:Z:CP\n",
            "2069:1:1305:14870:114851\t89\tContig184\t2258034\t40\t150M\t=\t2258034\t0\tGGGGGCGCGGCGGTGGGGGGCTGGGTCTCGGCGGGGCCGGCGGGCGGCTGAGCGCCGGCAGGGCCGACGGGGCCGACGGGCGGCGTCGCACCGGCGGGGCCGACGGGTGCCTGCGCCGCCGGCTCGCCCTGGCCGGTGAGGGTGAAGAAC\tBBBBBBBBBBBBBBBBBBBBBBBBBBBBBBBBBBBBBBBBBBBBBBBBBBBBBBBBBBBBa[XTOQHX[X]R[_[XaaZT_ca_ac[a_TTca_N___ca_a_Ta_^^_XTRU^abagf`c_Ufhfgcbihfchhfheceageeeccb__\tAS:i:-20\tXN:i:0\tXM:i:4\tXO:i:0\tXG:i:0\tNM:i:4\tMD:Z:1A11C3C16A115\tYT:Z:UP\n",
            "2069:1:1305:14870:114851\t165\tContig184\t2258034\t0\t*\t=\t2258034\t0\tCAGTTCAGCGGCGCCGCGGAGGGCGCGGCGGCGGGCGGCTGGGTGTCGGCGGAGCCGGCGGGGGGGCGTTCGCCGGCAGGGGGCCGGGGGGCGCCGCGGGGGGTCCCTATCGGGGGGGGGGCGGGGTGCTCGCGCCATCGGCCGGCGCAC\t___acccdcccgcfffhiiU_\\[a`[a^UYaccccOYaUROO[`BBBBBBBBBBBBBBBBBBBBBBBBBBBBBBBBBBBBBBBBBBBBBBBBBBBBBBBBBBBBBBBBBBBBBBBBBBBBBBBBBBBBBBBBBBBBBBBBBBBBBBBBBB\tYT:Z:UP\n",
            "2069:1:1204:11043:74770\t99\tContig184\t3278589\t40\t150M\t=\t3278657\t218\tGAGGGTCAGGAGCAGCTCCTCGAGGAGGAGCCCGAGCTCGAGACCTGGGTCTCGGCCGTGCAGTCCGCGAAGGGACGGACCGGCGACAACCTCGGGGTCGACTACGCAAAGATCTCCGAGCAGCTGTGGACGGCAGTGCAGAACGCGCTC\tbbbeeeeegggggiiiiiiiiihihhhhhihgihefhihiiihiigggggeeeecccccccccbcccccccccccacccccccccacccacccccacO[a[accbaaa[_b``bc`bc__][^a^bS]`G]]aaBBBBBBBBBBBBBBBB\tAS:i:0\tXN:i:0\tXM:i:0\tXO:i:0\tXG:i:0\tNM:i:0\tMD:Z:150\tYS:i:-40\tYT:Z:CP\n",
            "2069:1:1204:11043:74770\t147\tContig184\t3278657\t40\t150M\t=\t3278589\t-218\tGAGGGGACGCGCGGGCCACACCCCCGGGGTCGACTACGCAAAGATCTCGGAGCAGCTGTGGACGGCAGTGCAGAACGCGCTCTCGGGTGCGGCGGACCCCGCGGATGCTCTCGCGACGGCGCACGAGGCGGCCGCCGAGGCACTCGGCGG\tBBBBBBBBBBBBBBBBBBBBBBBBBBBBBBBBBBBBBBBBBBBBBBBBBBBBBBBB_b^XTOXXSRG]__]W[XOaaa^XT_ZVaaZVV[a__^TTcaYaa[^]]]^acccac_^Z]^]ca^ZX``ghhhfhiihiigggggeeeeebbb\tAS:i:-40\tXN:i:0\tXM:i:8\tXO:i:0\tXG:i:0\tNM:i:8\tMD:Z:2A6G0A1C3G3A2T24C101\tYS:i:0\tYT:Z:CP\n",
            "2069:1:1305:12332:144941\t89\tContig184\t632898\t40\t150M\t=\t632898\t0\tAGGCGGGCTCGCCAGGTGCTCGGCGAGGGGCTCCCGGAACTGGGCGAGGAGCAGCTCGCGGCGGCCCACCGCCGGGTCGAGCAGCTCGAGATCGACGACGTCGAGGAGATCGTGGTGCTGCCGGGCACGGAGCGGCTGCTGGCCGAGCTC\tBBBBBBBBBBBBBBBBBBBBBBBBBBBBBBBBBBB`]SJ[]]XTO^`b]Y``XXXTL]T]XOQGOEXO]aa[LT[XTWY]R]_aab`YW[WZ\\WWW]Waa`]aX_b`X\\`f^hhhg`g`UcfgeYaZcb_YffebfacZc_ac^ccc^Z[\tAS:i:-20\tXN:i:0\tXM:i:4\tXO:i:0\tXG:i:0\tNM:i:4\tMD:Z:1A2C0A22T121\tYT:Z:UP\n",
            "2069:1:1305:12332:144941\t165\tContig184\t632898\t0\t*\t=\t632898\t0\tGCAGCACGGCAAGCCAGCTCGCCAGGTGCTCTGCGAGGTGCTCCCGGAACTGGGCGAGGAGCAGCTCGCGGTGGCCCACCCCCCGGGCGACGCGCCCCGCGTACAGCCCTCCGCGGCAGTCCGCGGGGCGCCGCGCACGCGCCGCAGCGC\t^Z^acccc[e`Wbb`_dfefhehh`aYac`IIOa^eBBBBBBBBBBBBBBBBBBBBBBBBBBBBBBBBBBBBBBBBBBBBBBBBBBBBBBBBBBBBBBBBBBBBBBBBBBBBBBBBBBBBBBBBBBBBBBBBBBBBBBBBBBBBBBBBBB\tYT:Z:UP\n",
            "2069:1:1306:6651:180641\t99\tContig184\t686490\t40\t150M\t=\t686623\t281\tGCCCATCCGGCGATGGTCCCGGCGTCGTCGGGGTGCAGGGGACGCAGGCGGATCACAGGGCTGCTCGACACAGGCACAGTCTGGCAGGCGGTAGCGTCATGGGCATGAGCGAAGAGCAGACCTCCGGCGCGCTGGCGCCGACCCGCCCCC\tbbbeeeeeggfggiiifiiiihgfhiehghgeeX^cccccaacccccacccccccccccccacccccccccbccaaccbbbbcbbbaaccc_acccaaaccbcccR^Y`bacR[M[RRR^`a]`^aOETTX[TXXaT]_]EOTXX_BBBB\tAS:i:-5\tXN:i:0\tXM:i:1\tXO:i:0\tXG:i:0\tNM:i:1\tMD:Z:147G2\tYS:i:-46\tYT:Z:CP\n",
            "2069:1:1306:6651:180641\t147\tContig184\t686623\t40\t5M1I2M1I141M\t=\t686490\t-281\tGGCGCACGCCCCCGCCGCCGCTCCGTGGCCCGCCCCGCCTTCCCCGTCGCGCGGGTCGCGCGGCGGCTGGGCGTGGATCCGGCACAGGCGGAGATCGTCCTGCACGACGACGAGAGGGCGCGTGCGGCGATCGCCCGCTCGGTCGAGGAG\tBBBBBBBBBBBBBBBBBBBBBBBBBBBBBBBBBBBBBBBBBBBBBBBBa]X[_XXTTX[XTaTLcccaca]VccbaaZaccb`bccca_ccccccaaccbaa_Xca[Pa_ccbcaccccccccegghiihhghihihec`ggeeeeebbb\tAS:i:-46\tXN:i:0\tXM:i:6\tXO:i:2\tXG:i:2\tNM:i:8\tMD:Z:7A9A0G0G2C12A112\tYS:i:-5\tYT:Z:CP\n",
            "2069:1:1202:19041:6093\t89\tContig184\t651444\t42\t150M\t=\t651444\t0\tCCGCTGCCGACGCCGACGTCGACGGGACCACGCCGGGAGGAGCCGGGGCCGCGGAGCACTCGAACAGCGCGGACCGTGCCACGTCCCCAGCGCCGGCCCCCAACCGCGACCCGCTGACCCAGCGGATCCTCGATCGCGGCGATGCGTCGC\tBBBBBBBBBBBBBBBBBBBa[Q_a`]WXHEcacccbXR_XM][cccca[cccbbbcabcaccbaaa]a[]_a^ccbccaa_aa_cccccc_acaccccccaa[ccca^Rcbceea]dggiiiiiiihiihiihiiiigggggeeeeebbb\tAS:i:-5\tXN:i:0\tXM:i:1\tXO:i:0\tXG:i:0\tNM:i:1\tMD:Z:5T144\tYT:Z:UP\n",
            "2069:1:1202:19041:6093\t165\tContig184\t651444\t0\t*\t=\t651444\t0\tTGGCGGGGCCCGCGCCCCCCCCCCCCCAACACCCCCCCCCCCCCGCGCGGCCGGGGGGGGCGTGACATCTCGCACTTCACCACACCCAGACGTGCGCCGCGCGTGCGCACCGCGCCCACCACAGCCACCCCCGCTCTCACCCCGCCACCC\t\\a_eee`BBBBBBBBBBBBBBBBBBBBBBBBBBBBBBBBBBBBBBBBBBBBBBBBBBBBBBBBBBBBBBBBBBBBBBBBBBBBBBBBBBBBBBBBBBBBBBBBBBBBBBBBBBBBBBBBBBBBBBBBBBBBBBBBBBBBBBBBBBBBBBB\tYT:Z:UP\n",
            "2069:1:1301:1353:47779\t73\tContig184\t3365772\t24\t150M\t=\t3365772\t0\tTCGCCCAGCTCGAGCTGCCGCGCCGCGTGGCCCTGCGCGCCGCGCACTCGTACTGCCGCAAGACCGGCGCGCTCTACCGGCCCGGCCCCGGGGGGGCGGATCGCACCTCCCGAGCGGCCCACGCGCTGGTGCGCCGCCGCGGGCGCGAGC\t_b_eeecefgcgggdffhhUdffhfgeaggabdgQU\\]a^ZZaU__acbccc_`]RRV[EHER[RZWaRLX]aZ[`_bacacLTX]a_aaacaETOHOOOOXR^WTXRW^^BBBBBBBBBBBBBBBBBBBBBBBBBBBBBBBBBBBBBBB\tAS:i:-30\tXN:i:0\tXM:i:6\tXO:i:0\tXG:i:0\tNM:i:6\tMD:Z:59G33A34C13C0A0T5\tYT:Z:UP\n",
            "2069:1:1301:1353:47779\t133\tContig184\t3365772\t0\t*\t=\t3365772\t0\tCTGCTCGGCGACCCAGGCCGGGGCGCGCGGGGAGAGCACCCAGGCCGGCCGCCCGCGCACCGCCGCNCNGAGGAGGGCGGCGGAGAACACNGAGACGGCTGGTCACNNNNNNNGACACGAGCGGGACAGGCGCGCGTGACACTGCGATAC\ta__eeeeeZeeeggfihfhcgde_d]`a_ac_EUEJQWW[[^[_a^TT_BBBBBBBBBBBBBBBBBBBBBBBBBBBBBBBBBBBBBBBBBBBBBBBBBBBBBBBBBBBBBBBBBBBBBBBBBBBBBBBBBBBBBBBBBBBBBBBBBBBBB\tYT:Z:UP\n",
            "2069:1:1304:14080:77333\t99\tContig184\t3597066\t40\t150M\t=\t3597138\t222\tCGCAGCTCCTCCTCGCTCAGATGATGCAGCAGATGGTTCGAGACGACGAGGTCGAAGCGCTGCCCCTCCTCGACCAGGTCCCCGGTCGCCGCCCGGCGGAAGCGCACACCGGCGACCGGAGGCCGGCTCCCCGCCCCCCCGCTCGCGCGC\tbbbeeeeefggggiiihihhghcghhhiiihffhfhggghhihhiiiihhg`ddeeaccccccccc^aabXXEX_X^abbbac]][_aaaccaccacc_MXXaacc_aa[OT[[]___aaMX__BBBBBBBBBBBBBBBBBBBBBBBBBB\tAS:i:-20\tXN:i:0\tXM:i:4\tXO:i:0\tXG:i:0\tNM:i:4\tMD:Z:130G5A1G2A8\tYS:i:-25\tYT:Z:CP\n",
            "2069:1:1304:14080:77333\t147\tContig184\t3597138\t40\t150M\t=\t3597066\t-222\tGCGAGGCCCCCTGTCGCGGCCCGGCGGAAGCGCACACCGGCGACCGGAGGCCGGCTCCGCGCCCACGCGATCGCGCGCGGATCCGGGTCGATCCCGGTCACCCGCAGATCGGCGCCGTCCCGGTGAGCCCAGCGGGCCAGCGCCCGGCTG\tBBBBBBBBBBBBBBBBBBBBBBBBBBBBBBBBBBBBBBBBBBBBBBBBBBBBBBBBa]X_^aXTEaa__[LVcccca^[O_WOTaaZ_acaacacbb`[TW__`caa_accccccbcahhfeihihiihihihgfdc`ge`e`c`ee___\tAS:i:-25\tXN:i:0\tXM:i:5\tXO:i:0\tXG:i:0\tNM:i:5\tMD:Z:0A1C3T4G5C132\tYS:i:-20\tYT:Z:CP\n",
            "2069:1:1103:17608:80059\t99\tContig184\t762264\t8\t150M\t=\t762366\t252\tCGATCATCCCCCTCTTCTACGAGCGGGACGCCCGCGGGATGCAGCGCGGCTGGATGACCAAGGGGCGCTCCTCGCTGGTCACCGTCGCGCCGCGGATCACCGCGGCCCGCATGGCGCGCGACGACGTCACCGTGCATCACCTCCCCGCCG\t_[[\\cYca[Zc^ceea]ee_Z_[HPPU^eOZZTS_\\aaaNW^`RRWXOXTXTTW_R]Y]]WW^GOLW]_Xa]_TRWT_X_aYS^QT[[[HTETLHOTX^aaGTO[]aBBBBBBBBBBBBBBBBBBBBBBBBBBBBBBBBBBBBBBBBBBB\tAS:i:-30\tXN:i:0\tXM:i:6\tXO:i:0\tXG:i:0\tNM:i:6\tMD:Z:63T50T7T13G0T7G4\tYS:i:-66\tYT:Z:CP\n",
            "2069:1:1103:17608:80059\t147\tContig184\t762366\t8\t10M1D6M1I133M\t=\t762264\t-252\tCGCCCGGCGTGTGCGCGGACTCGCTCACGGTGCAGTACCGCCCGGCCCCCCGCTCCGCCGCCGCGTGCACCGCCGACCCGGCGCTCGCCGGCGAGTTCGTCGACTGGAAGGCCGCGGTGCAGGACGCCTGGCCGCAGGTCGCCGTGCGCG\tBBBBBBBBBBBBBBBBBBBBBBBBBBBBBBBBBBBBBBBBBBBBBBBBBBBBBBBBBBBBBBBBBBBBBBa[T]XH]RacacaZTTZaccc^`aaWcca__]R__`__OT^a][caaXaedaa_aXdgaiiihhggcYPe`ccc`ec__[\tAS:i:-66\tXN:i:0\tXM:i:10\tXO:i:2\tXG:i:2\tNM:i:12\tMD:Z:2G2C2A1^G10A0C0G4C10T7G18T83\tYS:i:-30\tYT:Z:CP\n",
            "2069:1:1307:11744:46183\t99\tContig184\t1759348\t24\t150M\t=\t1759426\t228\tTGCCCACGATCAGCCGCGGATCCTTCCATCGCGGTCTGCGCAGTCGCATCATCGCTGCAGTCGCCCCCACTTCGGACTCCTCCCCCTGGTCTCGGCCGAGACGGCCCGGATCTGCCCGGAGGTTCCGACAGCTCCGCCGGGGCCGGGGCG\t___eceeeffgegiifihi`fgfdhihXafcegf_\\`bdceW]\\baZ\\a_bbcca[V[`b`][V_aaaaca]_aa[[_`b``bcccccc`b]bbOWX_[OTXWMX_BBBBBBBBBBBBBBBBBBBBBBBBBBBBBBBBBBBBBBBBBBBB\tAS:i:-31\tXN:i:0\tXM:i:6\tXO:i:0\tXG:i:0\tNM:i:6\tMD:Z:71G42A9A9G5T2A6\tYS:i:-40\tYT:Z:CP\n",
            "2069:1:1307:11744:46183\t147\tContig184\t1759426\t24\t150M\t=\t1759348\t-228\tCCGCCCCCTGTTCGCGCGCGAGTCGGCCCGGATCGGACCGGAGGTGACGACAGCTCGGCCGGTGCAGGGGCGGGAATCGGCGCATTGTGGATATCCGGGGGCACGCCCGTCGCCGACGCGGCCGTCCACAGGTGCCGTGCCGACGACGGT\tBBBBBBBBBBBBBBBBBBBBBBBBBBBBBBBBBBBBBBBBBBBBBBBBBBBBBBBBBBBB^YR^WGX_XOXccbcacaccab_SQG^`cbb[Nacaaab`_YTTW_YRRTc_^]`^cdage[fcXfeadhfgeUgf[_e[geYeeeea__\tAS:i:-40\tXN:i:0\tXM:i:8\tXO:i:0\tXG:i:0\tNM:i:8\tMD:Z:2T7G2T2G0C4A11T10T104\tYS:i:-31\tYT:Z:CP\n",
            "2069:1:2304:7450:19130\t83\tContig184\t108000\t40\t150M\t=\t107841\t-309\tGGGCCGGCGGCCTCGTGGTCGGCACCACGATCGGCGTGGTCGCCGGCAGCGTCGGCGTGTTCGTCGAGGACGTGCTGATGCGCGTGGTCGACGTGCTGCTGGCGATCCCCGGGCTGCTGCTGTCGCTGTCGGTGGTGATCCTGCTGGGCT\tBBBBBBBBBBBBBB^M]ca_XSW`a^[aa][_ca^^]Xcaacccca]ccccaca]TXLacccccccccaaaccccccccccacccccccaccccccccccccccceegihiiiiiihfehiihiiiihiiiiiiihhgggggeeeee_b_\tAS:i:-16\tXN:i:0\tXM:i:3\tXO:i:0\tXG:i:0\tNM:i:3\tMD:Z:0T5T50G92\tYS:i:-35\tYT:Z:CP\n",
            "2069:1:2304:7450:19130\t163\tContig184\t107841\t40\t150M\t=\t108000\t309\tCGGGGCTGTTCACCTCCTACGGGGCCACCGCCTCCGTCGGCCCCTCCCTGCAGGCCCCCAGCGCCGAGCACTGGTTCGGCACCGACGCGACCGGGCGGGACATGTTCTCCCGCGTGGTCCACGGCGCATCCGCCCACATAACCGCGGCGC\tbbbeeeeegggggiiiihhfhiiihiiihiiiiihhghigggeeccccbccbbccccccccccccaaccccbccbbbcacaca[]a[]T]X]X_aacccTXWYSGS]bb`ba[aBBBBBBBBBBBBBBBBBBBBBBBBBBBBBBBBBBBB\tAS:i:-35\tXN:i:0\tXM:i:7\tXO:i:0\tXG:i:0\tNM:i:7\tMD:Z:127C3C0A1T0C0G2C10\tYS:i:-16\tYT:Z:CP\n",
            "2069:1:2305:11397:10569\t83\tContig184\t276540\t24\t150M\t=\t276386\t-304\tGCCCCGTACCACCTGCGGCTGGACTGGCAGATGTGGTTCCTCGCGCTGCGCCCCGGCGCGCAGCCCTGGTTCGTGGCAATGCTGGAGGCGCTGCGCGCGGGGGAGCCGGGCGTGCGGCGGCTGCTGCGCACCGACCCCTTCGAGGGGCGG\tBBBBBBBBBBBBBBBB^b`[bb]`Y]]]S]R`_`[cc]a[[a]]V]aa_[accca_T][__WQ[caccaacccbbcbb`[bb^ccccccacaaaccccccccccccccccccceegighhiihiihgeecihhgiiigggggeeeeebbb\tAS:i:0\tXN:i:0\tXM:i:0\tXO:i:0\tXG:i:0\tNM:i:0\tMD:Z:150\tYS:i:-55\tYT:Z:CP\n",
            "2069:1:2305:11397:10569\t163\tContig184\t276386\t24\t150M\t=\t276540\t304\tCTACGGCGCGTTCGGCTCGATGACCGAGCGGCGCTTCGAGGTGGTGATCGAGGGGACGCTCGACCCGGACCCCGACACGGCCGACGACGCCGCCCGGCATCCCTTCGAGTTCCGGGGCAACGCCGCGGACGTGCGGGCCCGCCTCCCGCA\tbbbeeeeegggggiHYafgcfdghihffdgeaa_acaa[bcL[aO^W`bcW[_[aVTTZac_accccaLZacaZX_[a]a]aa__OTTOT[EEOEOOOEHX]aS]```^BBBBBBBBBBBBBBBBBBBBBBBBBBBBBBBBBBBBBBBBB\tAS:i:-55\tXN:i:0\tXM:i:11\tXO:i:0\tXG:i:0\tNM:i:11\tMD:Z:94T19T5G0C3G0T9C0G4T0C2G3\tYS:i:0\tYT:Z:CP\n",
            "2069:1:2307:12102:173463\t73\tContig184\t1995816\t24\t150M\t=\t1995816\t0\tAGTCCACGCAGAAGATGACCCGCGAGTCCACGCAGTGGTGGGAGATCGGCATCTTCACCCCCACGCAGGAGGGCCTGGACCTGCCGGACCTGATGATGCACTCCGGCTCGGGGCCCCTCGACATGCACACCCGCCGCCACGGCTACCCGC\ta_^ceeeegfggfhhhchhiifhiiifhihihicg\\eg\\__dddabcdcaccccc__bbccacaZa_ac_cacccaa`_`bb[[[X]_aabXXSSYabR_b`GJWTXT_[aBBBBBBBBBBBBBBBBBBBBBBBBBBBBBBBBBBBBBBB\tAS:i:-30\tXN:i:0\tXM:i:6\tXO:i:0\tXG:i:0\tNM:i:6\tMD:Z:102A8T4T19T2G9A0\tYT:Z:UP\n",
            "2069:1:2307:12102:173463\t133\tContig184\t1995816\t0\t*\t=\t1995816\t0\tTCGACCGCAGCCGCACCGTGCCGCGCGAGCGGGCGTGGGTGACGTTCGGGGTCAGCGCGAAGGACTCCGGCGAGGTCGGGTAGCCCTGAGGGCGGGGGTGCGTGCCGAAGGGGCGCGACGCCGCGCAGAGTGTACACGCGCGTCGCTGTC\taabeeecegggc`cgfiihiihhhagdgadccaccPOYUTO[]__caWcTTHV`bbXTTZZaVQW`bb_]_aac__^BBBBBBBBBBBBBBBBBBBBBBBBBBBBBBBBBBBBBBBBBBBBBBBBBBBBBBBBBBBBBBBBBBBBBBBBB\tYT:Z:UP\n",
            "2069:1:2105:12604:163062\t89\tContig184\t3612872\t24\t150M\t=\t3612872\t0\tGATCCCACCCCGGCTCGGGCGCCGCGGCGATGAGCTGCCCGATCTCCTCGAGCTCCCCCTCGGTCACCGCGCGCACCAGCGCCTGCTTGCCGGCGAAGTAGCGGTAGATCAGGCCGACGGAGACCCCGGCCTCGGCCGCGATCGACTGCA\tBBBBBBBBBBBBBBBBBBBBBBBBBBBBBBB`^^XX[TXQSGQJEaXT__WTTM[[OTE_[YR[OHX][TT_]XREOXXOEW^^^aaaaVZ_TQaaaaaaa_WGKX_`X[W^aaaa^UVZHa\\YZUZb`__^Ud`dbYUcY[HR\\^c_[_\tAS:i:-31\tXN:i:0\tXM:i:6\tXO:i:0\tXG:i:0\tNM:i:6\tMD:Z:5T0C1T8A35A26T69\tYT:Z:UP\n"
          ]
        }
      ]
    },
    {
      "cell_type": "code",
      "source": [
        "import pysam\n",
        "import pandas as pd\n",
        "import numpy as np"
      ],
      "metadata": {
        "id": "nWHD2OwRN_A-"
      },
      "execution_count": 6,
      "outputs": []
    },
    {
      "cell_type": "code",
      "source": [
        "samfile = pysam.AlignmentFile('fr_alignment.sam', \"r\")\n",
        "df = pd.DataFrame(np.zeros((4, 4)).astype(int), index = ['A', 'T', 'C', 'G'], columns = ['A', 'T', 'C', 'G'])\n",
        "pairs = []\n",
        "for read in samfile.fetch():\n",
        "    if not read.is_unmapped:\n",
        "        ref = read.get_reference_sequence()\n",
        "            \n",
        "        for read_nucleotide_idx, _, ref_nucleotide in read.get_aligned_pairs(matches_only=True, with_seq=True):\n",
        "                read_nucleotide = read.query[read_nucleotide_idx - read.query_alignment_start].upper()\n",
        "                if read_nucleotide.upper() != ref_nucleotide.upper() and read_nucleotide.upper() != 'N':\n",
        "                    pairs.append([read_nucleotide.upper(), ref_nucleotide.upper()])\n"
      ],
      "metadata": {
        "id": "KnF_UJxp7e7H"
      },
      "execution_count": 16,
      "outputs": []
    },
    {
      "cell_type": "code",
      "source": [
        "AC = pairs.count(['A', 'C'])\n",
        "AG = pairs.count(['A', 'G'])\n",
        "AT = pairs.count(['A', 'T'])\n",
        "CA = pairs.count(['C', 'A'])\n",
        "CG = pairs.count(['C', 'G'])\n",
        "CT = pairs.count(['C', 'T'])\n",
        "GA = pairs.count(['G', 'A'])\n",
        "GC = pairs.count(['G', 'C'])\n",
        "GT = pairs.count(['G', 'T'])\n",
        "TA = pairs.count(['T', 'A'])\n",
        "TC = pairs.count(['T', 'C'])\n",
        "TG = pairs.count(['T', 'G'])\n",
        "print(AC, AG, AT, CA, CG, CT, GA, GC, GT, TA, TC, TG)"
      ],
      "metadata": {
        "colab": {
          "base_uri": "https://localhost:8080/"
        },
        "id": "HtTxLOMj9WZB",
        "outputId": "b4dcc6c4-6587-4ea5-a20c-0c0778727c8e"
      },
      "execution_count": 18,
      "outputs": [
        {
          "output_type": "stream",
          "name": "stdout",
          "text": [
            "1132733 527321 234948 2298352 2222600 1464964 1477185 2229790 2314922 231225 523274 1136912\n"
          ]
        }
      ]
    },
    {
      "cell_type": "code",
      "source": [
        "df = pd.DataFrame(np.zeros((4, 4)).astype(int), index = ['A', 'T', 'C', 'G'], columns = ['A', 'T', 'C', 'G'])\n",
        "df.loc['A', 'C'] = AC\n",
        "df.loc['A', 'G'] = AG\n",
        "df.loc['A', 'T'] = AT\n",
        "df.loc['C', 'A'] = CA\n",
        "df.loc['C', 'G'] = CG\n",
        "df.loc['C', 'T'] = CT\n",
        "df.loc['G', 'A'] = GA\n",
        "df.loc['G', 'C'] = GC\n",
        "df.loc['G', 'T'] = GT\n",
        "df.loc['T', 'A'] = TA\n",
        "df.loc['T', 'C'] = TC\n",
        "df.loc['T', 'G'] = TG\n",
        "\n",
        "df"
      ],
      "metadata": {
        "colab": {
          "base_uri": "https://localhost:8080/",
          "height": 175
        },
        "id": "PfUTKsXmG8VQ",
        "outputId": "6b37b2f6-8caf-4cb4-87c9-a452367f69e2"
      },
      "execution_count": 23,
      "outputs": [
        {
          "output_type": "execute_result",
          "data": {
            "text/html": [
              "\n",
              "  <div id=\"df-5c16fdde-1556-46b8-8831-e900abbcc89f\">\n",
              "    <div class=\"colab-df-container\">\n",
              "      <div>\n",
              "<style scoped>\n",
              "    .dataframe tbody tr th:only-of-type {\n",
              "        vertical-align: middle;\n",
              "    }\n",
              "\n",
              "    .dataframe tbody tr th {\n",
              "        vertical-align: top;\n",
              "    }\n",
              "\n",
              "    .dataframe thead th {\n",
              "        text-align: right;\n",
              "    }\n",
              "</style>\n",
              "<table border=\"1\" class=\"dataframe\">\n",
              "  <thead>\n",
              "    <tr style=\"text-align: right;\">\n",
              "      <th></th>\n",
              "      <th>A</th>\n",
              "      <th>T</th>\n",
              "      <th>C</th>\n",
              "      <th>G</th>\n",
              "    </tr>\n",
              "  </thead>\n",
              "  <tbody>\n",
              "    <tr>\n",
              "      <th>A</th>\n",
              "      <td>0</td>\n",
              "      <td>234948</td>\n",
              "      <td>1132733</td>\n",
              "      <td>527321</td>\n",
              "    </tr>\n",
              "    <tr>\n",
              "      <th>T</th>\n",
              "      <td>231225</td>\n",
              "      <td>0</td>\n",
              "      <td>523274</td>\n",
              "      <td>1136912</td>\n",
              "    </tr>\n",
              "    <tr>\n",
              "      <th>C</th>\n",
              "      <td>2298352</td>\n",
              "      <td>1464964</td>\n",
              "      <td>0</td>\n",
              "      <td>2222600</td>\n",
              "    </tr>\n",
              "    <tr>\n",
              "      <th>G</th>\n",
              "      <td>1477185</td>\n",
              "      <td>2314922</td>\n",
              "      <td>2229790</td>\n",
              "      <td>0</td>\n",
              "    </tr>\n",
              "  </tbody>\n",
              "</table>\n",
              "</div>\n",
              "      <button class=\"colab-df-convert\" onclick=\"convertToInteractive('df-5c16fdde-1556-46b8-8831-e900abbcc89f')\"\n",
              "              title=\"Convert this dataframe to an interactive table.\"\n",
              "              style=\"display:none;\">\n",
              "        \n",
              "  <svg xmlns=\"http://www.w3.org/2000/svg\" height=\"24px\"viewBox=\"0 0 24 24\"\n",
              "       width=\"24px\">\n",
              "    <path d=\"M0 0h24v24H0V0z\" fill=\"none\"/>\n",
              "    <path d=\"M18.56 5.44l.94 2.06.94-2.06 2.06-.94-2.06-.94-.94-2.06-.94 2.06-2.06.94zm-11 1L8.5 8.5l.94-2.06 2.06-.94-2.06-.94L8.5 2.5l-.94 2.06-2.06.94zm10 10l.94 2.06.94-2.06 2.06-.94-2.06-.94-.94-2.06-.94 2.06-2.06.94z\"/><path d=\"M17.41 7.96l-1.37-1.37c-.4-.4-.92-.59-1.43-.59-.52 0-1.04.2-1.43.59L10.3 9.45l-7.72 7.72c-.78.78-.78 2.05 0 2.83L4 21.41c.39.39.9.59 1.41.59.51 0 1.02-.2 1.41-.59l7.78-7.78 2.81-2.81c.8-.78.8-2.07 0-2.86zM5.41 20L4 18.59l7.72-7.72 1.47 1.35L5.41 20z\"/>\n",
              "  </svg>\n",
              "      </button>\n",
              "      \n",
              "  <style>\n",
              "    .colab-df-container {\n",
              "      display:flex;\n",
              "      flex-wrap:wrap;\n",
              "      gap: 12px;\n",
              "    }\n",
              "\n",
              "    .colab-df-convert {\n",
              "      background-color: #E8F0FE;\n",
              "      border: none;\n",
              "      border-radius: 50%;\n",
              "      cursor: pointer;\n",
              "      display: none;\n",
              "      fill: #1967D2;\n",
              "      height: 32px;\n",
              "      padding: 0 0 0 0;\n",
              "      width: 32px;\n",
              "    }\n",
              "\n",
              "    .colab-df-convert:hover {\n",
              "      background-color: #E2EBFA;\n",
              "      box-shadow: 0px 1px 2px rgba(60, 64, 67, 0.3), 0px 1px 3px 1px rgba(60, 64, 67, 0.15);\n",
              "      fill: #174EA6;\n",
              "    }\n",
              "\n",
              "    [theme=dark] .colab-df-convert {\n",
              "      background-color: #3B4455;\n",
              "      fill: #D2E3FC;\n",
              "    }\n",
              "\n",
              "    [theme=dark] .colab-df-convert:hover {\n",
              "      background-color: #434B5C;\n",
              "      box-shadow: 0px 1px 3px 1px rgba(0, 0, 0, 0.15);\n",
              "      filter: drop-shadow(0px 1px 2px rgba(0, 0, 0, 0.3));\n",
              "      fill: #FFFFFF;\n",
              "    }\n",
              "  </style>\n",
              "\n",
              "      <script>\n",
              "        const buttonEl =\n",
              "          document.querySelector('#df-5c16fdde-1556-46b8-8831-e900abbcc89f button.colab-df-convert');\n",
              "        buttonEl.style.display =\n",
              "          google.colab.kernel.accessAllowed ? 'block' : 'none';\n",
              "\n",
              "        async function convertToInteractive(key) {\n",
              "          const element = document.querySelector('#df-5c16fdde-1556-46b8-8831-e900abbcc89f');\n",
              "          const dataTable =\n",
              "            await google.colab.kernel.invokeFunction('convertToInteractive',\n",
              "                                                     [key], {});\n",
              "          if (!dataTable) return;\n",
              "\n",
              "          const docLinkHtml = 'Like what you see? Visit the ' +\n",
              "            '<a target=\"_blank\" href=https://colab.research.google.com/notebooks/data_table.ipynb>data table notebook</a>'\n",
              "            + ' to learn more about interactive tables.';\n",
              "          element.innerHTML = '';\n",
              "          dataTable['output_type'] = 'display_data';\n",
              "          await google.colab.output.renderOutput(dataTable, element);\n",
              "          const docLink = document.createElement('div');\n",
              "          docLink.innerHTML = docLinkHtml;\n",
              "          element.appendChild(docLink);\n",
              "        }\n",
              "      </script>\n",
              "    </div>\n",
              "  </div>\n",
              "  "
            ],
            "text/plain": [
              "         A        T        C        G\n",
              "A        0   234948  1132733   527321\n",
              "T   231225        0   523274  1136912\n",
              "C  2298352  1464964        0  2222600\n",
              "G  1477185  2314922  2229790        0"
            ]
          },
          "metadata": {},
          "execution_count": 23
        }
      ]
    },
    {
      "cell_type": "code",
      "source": [
        "samfile = pysam.AlignmentFile('jump_alignment.sam', \"r\")\n",
        "df = pd.DataFrame(np.zeros((4, 4)).astype(int), index = ['A', 'T', 'C', 'G'], columns = ['A', 'T', 'C', 'G'])\n",
        "pairs = []\n",
        "for read in samfile.fetch():\n",
        "    if not read.is_unmapped:\n",
        "        ref = read.get_reference_sequence()\n",
        "            \n",
        "        for read_nucleotide_idx, _, ref_nucleotide in read.get_aligned_pairs(matches_only=True, with_seq=True):\n",
        "                read_nucleotide = read.query[read_nucleotide_idx - read.query_alignment_start].upper()\n",
        "                if read_nucleotide.upper() != ref_nucleotide.upper() and read_nucleotide.upper() != 'N':\n",
        "                    pairs.append([read_nucleotide.upper(), ref_nucleotide.upper()])\n"
      ],
      "metadata": {
        "id": "UWLSf2jjPiR8"
      },
      "execution_count": 24,
      "outputs": []
    },
    {
      "cell_type": "code",
      "source": [
        "AC = pairs.count(['A', 'C'])\n",
        "AG = pairs.count(['A', 'G'])\n",
        "AT = pairs.count(['A', 'T'])\n",
        "CA = pairs.count(['C', 'A'])\n",
        "CG = pairs.count(['C', 'G'])\n",
        "CT = pairs.count(['C', 'T'])\n",
        "GA = pairs.count(['G', 'A'])\n",
        "GC = pairs.count(['G', 'C'])\n",
        "GT = pairs.count(['G', 'T'])\n",
        "TA = pairs.count(['T', 'A'])\n",
        "TC = pairs.count(['T', 'C'])\n",
        "TG = pairs.count(['T', 'G'])\n",
        "print(AC, AG, AT, CA, CG, CT, GA, GC, GT, TA, TC, TG)"
      ],
      "metadata": {
        "colab": {
          "base_uri": "https://localhost:8080/"
        },
        "outputId": "988aec71-75b3-4dab-eb59-15d2ae9b0785",
        "id": "GY-HE-YdPiR9"
      },
      "execution_count": 25,
      "outputs": [
        {
          "output_type": "stream",
          "name": "stdout",
          "text": [
            "227204 127226 81850 1233853 860601 809054 823224 872249 1250129 81971 127835 228243\n"
          ]
        }
      ]
    },
    {
      "cell_type": "code",
      "source": [
        "df = pd.DataFrame(np.zeros((4, 4)).astype(int), index = ['A', 'T', 'C', 'G'], columns = ['A', 'T', 'C', 'G'])\n",
        "df.loc['A', 'C'] = AC\n",
        "df.loc['A', 'G'] = AG\n",
        "df.loc['A', 'T'] = AT\n",
        "df.loc['C', 'A'] = CA\n",
        "df.loc['C', 'G'] = CG\n",
        "df.loc['C', 'T'] = CT\n",
        "df.loc['G', 'A'] = GA\n",
        "df.loc['G', 'C'] = GC\n",
        "df.loc['G', 'T'] = GT\n",
        "df.loc['T', 'A'] = TA\n",
        "df.loc['T', 'C'] = TC\n",
        "df.loc['T', 'G'] = TG\n",
        "\n",
        "df"
      ],
      "metadata": {
        "colab": {
          "base_uri": "https://localhost:8080/",
          "height": 175
        },
        "outputId": "f7026078-bc59-4f1f-9f17-71ffe04e8c7a",
        "id": "oyibwyShPiR9"
      },
      "execution_count": 26,
      "outputs": [
        {
          "output_type": "execute_result",
          "data": {
            "text/html": [
              "\n",
              "  <div id=\"df-2a2e9c77-5c62-45a3-8be5-9bb96b6faf1a\">\n",
              "    <div class=\"colab-df-container\">\n",
              "      <div>\n",
              "<style scoped>\n",
              "    .dataframe tbody tr th:only-of-type {\n",
              "        vertical-align: middle;\n",
              "    }\n",
              "\n",
              "    .dataframe tbody tr th {\n",
              "        vertical-align: top;\n",
              "    }\n",
              "\n",
              "    .dataframe thead th {\n",
              "        text-align: right;\n",
              "    }\n",
              "</style>\n",
              "<table border=\"1\" class=\"dataframe\">\n",
              "  <thead>\n",
              "    <tr style=\"text-align: right;\">\n",
              "      <th></th>\n",
              "      <th>A</th>\n",
              "      <th>T</th>\n",
              "      <th>C</th>\n",
              "      <th>G</th>\n",
              "    </tr>\n",
              "  </thead>\n",
              "  <tbody>\n",
              "    <tr>\n",
              "      <th>A</th>\n",
              "      <td>0</td>\n",
              "      <td>81850</td>\n",
              "      <td>227204</td>\n",
              "      <td>127226</td>\n",
              "    </tr>\n",
              "    <tr>\n",
              "      <th>T</th>\n",
              "      <td>81971</td>\n",
              "      <td>0</td>\n",
              "      <td>127835</td>\n",
              "      <td>228243</td>\n",
              "    </tr>\n",
              "    <tr>\n",
              "      <th>C</th>\n",
              "      <td>1233853</td>\n",
              "      <td>809054</td>\n",
              "      <td>0</td>\n",
              "      <td>860601</td>\n",
              "    </tr>\n",
              "    <tr>\n",
              "      <th>G</th>\n",
              "      <td>823224</td>\n",
              "      <td>1250129</td>\n",
              "      <td>872249</td>\n",
              "      <td>0</td>\n",
              "    </tr>\n",
              "  </tbody>\n",
              "</table>\n",
              "</div>\n",
              "      <button class=\"colab-df-convert\" onclick=\"convertToInteractive('df-2a2e9c77-5c62-45a3-8be5-9bb96b6faf1a')\"\n",
              "              title=\"Convert this dataframe to an interactive table.\"\n",
              "              style=\"display:none;\">\n",
              "        \n",
              "  <svg xmlns=\"http://www.w3.org/2000/svg\" height=\"24px\"viewBox=\"0 0 24 24\"\n",
              "       width=\"24px\">\n",
              "    <path d=\"M0 0h24v24H0V0z\" fill=\"none\"/>\n",
              "    <path d=\"M18.56 5.44l.94 2.06.94-2.06 2.06-.94-2.06-.94-.94-2.06-.94 2.06-2.06.94zm-11 1L8.5 8.5l.94-2.06 2.06-.94-2.06-.94L8.5 2.5l-.94 2.06-2.06.94zm10 10l.94 2.06.94-2.06 2.06-.94-2.06-.94-.94-2.06-.94 2.06-2.06.94z\"/><path d=\"M17.41 7.96l-1.37-1.37c-.4-.4-.92-.59-1.43-.59-.52 0-1.04.2-1.43.59L10.3 9.45l-7.72 7.72c-.78.78-.78 2.05 0 2.83L4 21.41c.39.39.9.59 1.41.59.51 0 1.02-.2 1.41-.59l7.78-7.78 2.81-2.81c.8-.78.8-2.07 0-2.86zM5.41 20L4 18.59l7.72-7.72 1.47 1.35L5.41 20z\"/>\n",
              "  </svg>\n",
              "      </button>\n",
              "      \n",
              "  <style>\n",
              "    .colab-df-container {\n",
              "      display:flex;\n",
              "      flex-wrap:wrap;\n",
              "      gap: 12px;\n",
              "    }\n",
              "\n",
              "    .colab-df-convert {\n",
              "      background-color: #E8F0FE;\n",
              "      border: none;\n",
              "      border-radius: 50%;\n",
              "      cursor: pointer;\n",
              "      display: none;\n",
              "      fill: #1967D2;\n",
              "      height: 32px;\n",
              "      padding: 0 0 0 0;\n",
              "      width: 32px;\n",
              "    }\n",
              "\n",
              "    .colab-df-convert:hover {\n",
              "      background-color: #E2EBFA;\n",
              "      box-shadow: 0px 1px 2px rgba(60, 64, 67, 0.3), 0px 1px 3px 1px rgba(60, 64, 67, 0.15);\n",
              "      fill: #174EA6;\n",
              "    }\n",
              "\n",
              "    [theme=dark] .colab-df-convert {\n",
              "      background-color: #3B4455;\n",
              "      fill: #D2E3FC;\n",
              "    }\n",
              "\n",
              "    [theme=dark] .colab-df-convert:hover {\n",
              "      background-color: #434B5C;\n",
              "      box-shadow: 0px 1px 3px 1px rgba(0, 0, 0, 0.15);\n",
              "      filter: drop-shadow(0px 1px 2px rgba(0, 0, 0, 0.3));\n",
              "      fill: #FFFFFF;\n",
              "    }\n",
              "  </style>\n",
              "\n",
              "      <script>\n",
              "        const buttonEl =\n",
              "          document.querySelector('#df-2a2e9c77-5c62-45a3-8be5-9bb96b6faf1a button.colab-df-convert');\n",
              "        buttonEl.style.display =\n",
              "          google.colab.kernel.accessAllowed ? 'block' : 'none';\n",
              "\n",
              "        async function convertToInteractive(key) {\n",
              "          const element = document.querySelector('#df-2a2e9c77-5c62-45a3-8be5-9bb96b6faf1a');\n",
              "          const dataTable =\n",
              "            await google.colab.kernel.invokeFunction('convertToInteractive',\n",
              "                                                     [key], {});\n",
              "          if (!dataTable) return;\n",
              "\n",
              "          const docLinkHtml = 'Like what you see? Visit the ' +\n",
              "            '<a target=\"_blank\" href=https://colab.research.google.com/notebooks/data_table.ipynb>data table notebook</a>'\n",
              "            + ' to learn more about interactive tables.';\n",
              "          element.innerHTML = '';\n",
              "          dataTable['output_type'] = 'display_data';\n",
              "          await google.colab.output.renderOutput(dataTable, element);\n",
              "          const docLink = document.createElement('div');\n",
              "          docLink.innerHTML = docLinkHtml;\n",
              "          element.appendChild(docLink);\n",
              "        }\n",
              "      </script>\n",
              "    </div>\n",
              "  </div>\n",
              "  "
            ],
            "text/plain": [
              "         A        T       C       G\n",
              "A        0    81850  227204  127226\n",
              "T    81971        0  127835  228243\n",
              "C  1233853   809054       0  860601\n",
              "G   823224  1250129  872249       0"
            ]
          },
          "metadata": {},
          "execution_count": 26
        }
      ]
    },
    {
      "cell_type": "markdown",
      "metadata": {
        "id": "TyRc-SOGXtaY"
      },
      "source": [
        "#Часть 2: анализ ридов IonTorrent\n",
        "##  Статистика ридов IonTorrent\n",
        "\n",
        "***test***"
      ]
    },
    {
      "cell_type": "code",
      "execution_count": 5,
      "metadata": {
        "id": "GGRBPl4IXzgS",
        "colab": {
          "base_uri": "https://localhost:8080/"
        },
        "outputId": "106a88e7-c5c8-42bb-b33c-19565a6fca50"
      },
      "outputs": [
        {
          "output_type": "stream",
          "name": "stderr",
          "text": [
            "Downloading...\n",
            "From: https://drive.google.com/uc?id=13fMOQtaR0hvL4a1XOj8Ufpa3Op54WtFN&confirm=t\n",
            "To: /content/test.fastq\n",
            "100%|██████████| 171k/171k [00:00<00:00, 1.87MB/s]\n"
          ]
        }
      ],
      "source": [
        "download_from_disk('13fMOQtaR0hvL4a1XOj8Ufpa3Op54WtFN')"
      ]
    },
    {
      "cell_type": "code",
      "execution_count": 6,
      "metadata": {
        "id": "8bFjdx3FX9UJ",
        "colab": {
          "base_uri": "https://localhost:8080/"
        },
        "outputId": "f56ace24-ac89-42f6-90c4-00e14290edcc"
      },
      "outputs": [
        {
          "output_type": "stream",
          "name": "stderr",
          "text": [
            "Downloading...\n",
            "From: https://drive.google.com/uc?id=1nbAgPD4qNn_I3SfQDr5AcDfg2WzYLGBp&confirm=t\n",
            "To: /content/test_reference.fasta\n",
            "100%|██████████| 7.07M/7.07M [00:00<00:00, 31.8MB/s]\n"
          ]
        }
      ],
      "source": [
        "download_from_disk('1nbAgPD4qNn_I3SfQDr5AcDfg2WzYLGBp')"
      ]
    },
    {
      "cell_type": "markdown",
      "metadata": {
        "id": "MqtaCeUcYPxW"
      },
      "source": [
        "***Реальные данные***"
      ]
    },
    {
      "cell_type": "code",
      "execution_count": 100,
      "metadata": {
        "id": "5lFZuGBeX9h0",
        "colab": {
          "base_uri": "https://localhost:8080/"
        },
        "outputId": "3e8634ea-e9f9-4d63-ed00-d01d44db1746"
      },
      "outputs": [
        {
          "output_type": "stream",
          "name": "stderr",
          "text": [
            "Downloading...\n",
            "From: https://drive.google.com/uc?id=1Tu1EyQP45Wu-ibgUnf7Pw73UGpqQcyDp&confirm=t\n",
            "To: /content/B22-730.fastq.gz\n",
            "100%|██████████| 97.4M/97.4M [00:03<00:00, 31.3MB/s]\n"
          ]
        }
      ],
      "source": [
        "download_from_disk('1Tu1EyQP45Wu-ibgUnf7Pw73UGpqQcyDp')"
      ]
    },
    {
      "cell_type": "code",
      "execution_count": 8,
      "metadata": {
        "id": "Oy3TXrlxX963",
        "colab": {
          "base_uri": "https://localhost:8080/"
        },
        "outputId": "925e4eb8-89c2-48a8-d034-34eb58e52864"
      },
      "outputs": [
        {
          "output_type": "stream",
          "name": "stderr",
          "text": [
            "Downloading...\n",
            "From: https://drive.google.com/uc?id=194itwrkAOCd73oyYrO2E7spO_LyOtWz1&confirm=t\n",
            "To: /content/C24-698.fastq.gz\n",
            "100%|██████████| 97.4M/97.4M [00:04<00:00, 23.7MB/s]\n"
          ]
        }
      ],
      "source": [
        "download_from_disk('194itwrkAOCd73oyYrO2E7spO_LyOtWz1')"
      ]
    },
    {
      "cell_type": "markdown",
      "metadata": {
        "id": "DFYgTQYUYVqL"
      },
      "source": [
        "***Референсный геном***"
      ]
    },
    {
      "cell_type": "code",
      "execution_count": 101,
      "metadata": {
        "id": "ZOUTij3FX-E0",
        "colab": {
          "base_uri": "https://localhost:8080/"
        },
        "outputId": "7b854cc5-c11b-4b19-e0a9-f7508436bd6e"
      },
      "outputs": [
        {
          "output_type": "stream",
          "name": "stderr",
          "text": [
            "Downloading...\n",
            "From: https://drive.google.com/uc?id=1FKWaB4kcMtZWitippiOd_hRejwnyPYWD&confirm=t\n",
            "To: /content/DH10B-K12.fasta\n",
            "100%|██████████| 4.75M/4.75M [00:00<00:00, 22.2MB/s]\n"
          ]
        }
      ],
      "source": [
        "download_from_disk('1FKWaB4kcMtZWitippiOd_hRejwnyPYWD')"
      ]
    },
    {
      "cell_type": "code",
      "execution_count": 102,
      "metadata": {
        "id": "aFA2FXKiYnhq",
        "colab": {
          "base_uri": "https://localhost:8080/"
        },
        "outputId": "b7e9f1bc-b1fe-4789-c45f-6f33a176e92f"
      },
      "outputs": [
        {
          "output_type": "stream",
          "name": "stdout",
          "text": [
            "[bwa_index] Pack FASTA... 0.05 sec\n",
            "[bwa_index] Construct BWT for the packed sequence...\n",
            "[bwa_index] 1.53 seconds elapse.\n",
            "[bwa_index] Update BWT... 0.03 sec\n",
            "[bwa_index] Pack forward-only FASTA... 0.03 sec\n",
            "[bwa_index] Construct SA from BWT and Occ... 0.59 sec\n",
            "[main] Version: 0.7.17-r1188\n",
            "[main] CMD: bwa index DH10B-K12.fasta\n",
            "[main] Real time: 2.328 sec; CPU: 2.266 sec\n"
          ]
        }
      ],
      "source": [
        "!bwa index DH10B-K12.fasta"
      ]
    },
    {
      "cell_type": "code",
      "source": [
        "!bwa mem DH10B-K12.fasta B22-730.fastq.gz > tor_test_alignment.sam"
      ],
      "metadata": {
        "id": "WuP1LJ60AUbr",
        "colab": {
          "base_uri": "https://localhost:8080/"
        },
        "outputId": "a341309b-8dc4-460d-af97-9719c62f226b"
      },
      "execution_count": 103,
      "outputs": [
        {
          "output_type": "stream",
          "name": "stdout",
          "text": [
            "[M::bwa_idx_load_from_disk] read 0 ALT contigs\n",
            "[M::process] read 30580 sequences (10000589 bp)...\n",
            "[M::process] read 30700 sequences (10000499 bp)...\n",
            "[M::mem_process_seqs] Processed 30580 reads in 6.075 CPU sec, 5.930 real sec\n",
            "[M::process] read 30654 sequences (10000464 bp)...\n",
            "[M::mem_process_seqs] Processed 30700 reads in 6.598 CPU sec, 6.341 real sec\n",
            "[M::process] read 30558 sequences (10000069 bp)...\n",
            "[M::mem_process_seqs] Processed 30654 reads in 7.203 CPU sec, 6.975 real sec\n",
            "[M::process] read 30468 sequences (10000148 bp)...\n",
            "[M::mem_process_seqs] Processed 30558 reads in 5.566 CPU sec, 5.319 real sec\n",
            "[M::process] read 30596 sequences (10000413 bp)...\n",
            "[M::mem_process_seqs] Processed 30468 reads in 5.556 CPU sec, 5.307 real sec\n",
            "[M::process] read 30514 sequences (10000381 bp)...\n",
            "[M::mem_process_seqs] Processed 30596 reads in 6.039 CPU sec, 5.784 real sec\n",
            "[M::process] read 30520 sequences (10000266 bp)...\n",
            "[M::mem_process_seqs] Processed 30514 reads in 5.354 CPU sec, 5.115 real sec\n",
            "[M::process] read 30396 sequences (10000010 bp)...\n",
            "[M::mem_process_seqs] Processed 30520 reads in 5.922 CPU sec, 5.651 real sec\n",
            "[M::process] read 30478 sequences (10000118 bp)...\n",
            "[M::mem_process_seqs] Processed 30396 reads in 5.532 CPU sec, 5.261 real sec\n",
            "[M::process] read 30562 sequences (10000033 bp)...\n",
            "[M::mem_process_seqs] Processed 30478 reads in 5.905 CPU sec, 5.617 real sec\n",
            "[M::process] read 30576 sequences (10000499 bp)...\n",
            "[M::mem_process_seqs] Processed 30562 reads in 5.806 CPU sec, 5.563 real sec\n",
            "[M::process] read 30436 sequences (10000698 bp)...\n",
            "[M::mem_process_seqs] Processed 30576 reads in 5.743 CPU sec, 5.467 real sec\n",
            "[M::process] read 30768 sequences (10000324 bp)...\n",
            "[M::mem_process_seqs] Processed 30436 reads in 6.003 CPU sec, 5.756 real sec\n",
            "[M::process] read 30638 sequences (10000103 bp)...\n",
            "[M::mem_process_seqs] Processed 30768 reads in 5.984 CPU sec, 5.756 real sec\n",
            "[M::process] read 30718 sequences (10000240 bp)...\n",
            "[M::mem_process_seqs] Processed 30638 reads in 6.433 CPU sec, 6.209 real sec\n",
            "[M::process] read 5759 sequences (1147709 bp)...\n",
            "[M::mem_process_seqs] Processed 30718 reads in 5.459 CPU sec, 5.376 real sec\n",
            "[M::mem_process_seqs] Processed 5759 reads in 0.675 CPU sec, 0.596 real sec\n",
            "[main] Version: 0.7.17-r1188\n",
            "[main] CMD: bwa mem DH10B-K12.fasta B22-730.fastq.gz\n",
            "[main] Real time: 92.553 sec; CPU: 96.105 sec\n"
          ]
        }
      ]
    },
    {
      "cell_type": "code",
      "source": [
        "!samtools sort tor_test_alignment.sam > tor_test_sorted.bam"
      ],
      "metadata": {
        "id": "c-UnDDtziOd6"
      },
      "execution_count": 107,
      "outputs": []
    },
    {
      "cell_type": "code",
      "source": [
        "!samtools index tor_test_sorted.bam"
      ],
      "metadata": {
        "id": "WDyQsg3fiels"
      },
      "execution_count": 108,
      "outputs": []
    },
    {
      "cell_type": "code",
      "source": [
        "!head tor_test_alignment.sam"
      ],
      "metadata": {
        "colab": {
          "base_uri": "https://localhost:8080/"
        },
        "id": "2ClvZq5TiqaO",
        "outputId": "03d0a3de-2317-432b-ae61-d83103d2cfd9"
      },
      "execution_count": 109,
      "outputs": [
        {
          "output_type": "stream",
          "name": "stdout",
          "text": [
            "@SQ\tSN:gi|170079663|ref|NC_010473.1|\tLN:4686137\n",
            "@PG\tID:bwa\tPN:bwa\tVN:0.7.17-r1188\tCL:bwa mem DH10B-K12.fasta B22-730.fastq.gz\n",
            "LJKEP:00525:00022\t0\tgi|170079663|ref|NC_010473.1|\t1\t60\t57S46M1D210M1I28M3S\t*\t0\t0\tGCTGCATGATATTGAAAAAATATCACCAAATAAAAAACGCCTTAGTAAGTATTTTTCAGCTTTTCATTCTGACTGCAACGGGCAATATGTCTCTGTGTGGATTAAAAAAGAGTGTCTGATAGCAGCTTCTGAACTGGTTACCTGCCGTGAGTAAATTAAAATTTTATTGACTTAGGTCACTAAATACTTTAACCAATATAGGCATAGCGCACAGACAGATAAAAATTACAGAGTACACAACATCCATGAAACGCATTAGCACCACCATTACCACCACCATCACCATTACCACAGGTAACGGTGCGGGCTGACGACGTACAGGAAACACAGAAAAAAGCCCGCTAC\t@C@A>>9444499444444(4999AB6991999999*444:;@BBBD@BCCCBBA/@@@9999/9B@@DDCA@9<<969AC>BB?CBBBC<<;ACC?@;66=361111(1661178865500//..8<CAAA>A9948?@?>@@<;===9865922,---+-44.//,.66659A>:=;;::=;=A===9=@CEA;<<@883<AAAAB?>=B?77;;00055::-/-0:><?;9;=10.:....,4;=:==AB??><;;79488;2442348==?AA>A;;=>48827717<3.,.4444,.....+,054.......38=<==;<<<8845775*.--+----3\tNM:i:2\tMD:Z:46^A238\tAS:i:270\tXS:i:0\tSA:Z:gi|170079663|ref|NC_010473.1|,4686080,+,14M1D43M288S,60,1;\n",
            "LJKEP:00525:00022\t2048\tgi|170079663|ref|NC_010473.1|\t4686080\t60\t14M1D43M288H\t*\t0\t0\tGCTGCATGATATTGAAAAAATATCACCAAATAAAAAACGCCTTAGTAAGTATTTTTC\t@C@A>>9444499444444(4999AB6991999999*444:;@BBBD@BCCCBBA/@\tNM:i:1\tMD:Z:14^A43\tAS:i:50\tXS:i:0\tSA:Z:gi|170079663|ref|NC_010473.1|,1,+,57S46M1D210M1I28M3S,60,2;\n",
            "LJKEP:00724:00858\t0\tgi|170079663|ref|NC_010473.1|\t1\t60\t29S253M1D11M1D7M\t*\t0\t0\tATAAAAAAACGCCTTAGTAAGTATTTTTCAGCTTTTCATTCTGACTGCAACGGGCAATATGTCTCTGTGTGGATTAAAAAAAGAGTGTCTGATAGCAGCTTCTGAACTGGTTACCTGCCGTGAGTAAATTAAAATTTTATTGACTTAGGTCACTAAATACTTTAACCAATATAGGCATAGCGCACAGACAGATAAAAATTACAGAGTACACAACATCCATGAAACGCATTAGCACCACCATTACCACCACCATCACCATTACCACAGGTAACGGTGCGGGCTACGCGTACAGGAACACAG\t38888888&7=8771344478==BGDC3BCBBCCC9@@@>AA@@@AA@C@<<<;>DDDCCCBCCCCCCCBA<??4887777&111119>?<==CCCCCBC@CCEA688A:=:=A?AAA=@@AA??@@:;388808BB1=>:=;9;8;=;<==@@A@<@@@@D@D>A;=9;;;885>CECCCCC=<<B@@@CCCCECD2B=@???????ACBA=@AA?>@@@CC<ABBAA=AB@DC:99>9959@<@@;>><@999><996;?<>@;858A=8868777=67617=;3...--,-,-1248\tNM:i:2\tMD:Z:253^G11^A7\tAS:i:259\tXS:i:0\n",
            "LJKEP:00258:00950\t0\tgi|170079663|ref|NC_010473.1|\t1\t60\t127S112M\t*\t0\t0\tCTTGGTCGACTGGTTTACAACAACGCCTGGGGCTTTTTAGAGCAACGAGACACGGCAATGTTGCACCGTTTGCTGCATGATATTGAAAAAATATCACCAAATAAAAAACGCCTAGTAAGTATTTTTCAGCTTTTCATTCTGACTGCAACGGGCAATATGTCTCTGTGTGGATTAAAAAAAGAGTGTCTGATAGCAGCTTCTGAACTGGTTACCTGCCGTGAGTAAATTAAAATTTTATT\t*,,*+++689;431773====;<<99985==:8.;===::;;<<<==<<;<<4443222-,/-1-,-02400337338>999>BA-BABA===?<?;>;=<<-;;;;6244.008;998<;1=====>=>4@@>==;?:?:??@??=@?<AAB@CCCA@==@DCABB;5;;>B(BBBBBACBCBBCCDEDAAAEBBC?DCCC?CAA>C@CC@CCCDCA@;89919969-888-?@@A@B\tNM:i:0\tMD:Z:112\tAS:i:112\tXS:i:0\tSA:Z:gi|170079663|ref|NC_010473.1|,4686013,+,2S11M1I19M1I51M1D27M1D15M112S,60,4;\n",
            "LJKEP:00258:00950\t2048\tgi|170079663|ref|NC_010473.1|\t4686013\t60\t2H11M1I19M1I51M1D27M1D15M112H\t*\t0\t0\tTGGTCGACTGGTTTACAACAACGCCTGGGGCTTTTTAGAGCAACGAGACACGGCAATGTTGCACCGTTTGCTGCATGATATTGAAAAAATATCACCAAATAAAAAACGCCTAGTAAGTATTTTTC\t,*+++689;431773====;<<99985==:8.;===::;;<<<==<<;<<4443222-,/-1-,-02400337338>999>BA-BABA===?<?;>;=<<-;;;;6244.008;998<;1=====\tNM:i:4\tMD:Z:81^A27^T15\tAS:i:95\tXS:i:0\tSA:Z:gi|170079663|ref|NC_010473.1|,1,+,127S112M,60,0;\n",
            "LJKEP:00322:00589\t0\tgi|170079663|ref|NC_010473.1|\t1\t60\t122S182M1I24M\t*\t0\t0\tTCGACTGGTTACAACAACTGCCTGGGGCTTTTAGAGCAACGAGACACGGCAATGTTGCACCGTTTGCTGCATGATATTGAAAAAATATCACCAAATAAAAAACGCCTTAGTAAGTATTTTTCAGCTTTTCATTCTGACTGCAACGGGCAATATGTCTCTGTGTGGATTAAAAAAAGAGTGTCTGATAGCAGCTTCTGAACTGGTTACCTGCCGTGAGTAAATTAAAATTTTATTGACTTAGGTCACTAAATACTTTAACCAATATAGGCATAGCGCACAGACAGATAAAAATTACAGAGTACACAAACATCCATGAAACGCATTAGCAC\t30338993877/7777////9;;5>>>:1:=888?>?>???BAAAAA<@A=::;AA@=>;?8/88888BCBBBCAA=>4*444447;899>88661(1111167B<:?@AA<??>8,88888??8.8888><DCCC@@@B@=@B?BAA>AG<<<BBDCGCDDC=??>?'======777@@ACCBCB???9:17;;<?:;;;79244<944,76:/1/656/24,444,994929999:9959<:B??:I<;;:7B@?B?B>;;:@A>@A@BBAA@@@@999449<>0@BEC@CCGBCBA4449/+//111-??<><@@@;;;@BBBBB>\tNM:i:1\tMD:Z:206\tAS:i:199\tXS:i:0\tSA:Z:gi|170079663|ref|NC_010473.1|,4686016,+,18M1I60M1D43M207S,60,2;\n",
            "LJKEP:00322:00589\t2048\tgi|170079663|ref|NC_010473.1|\t4686016\t60\t18M1I60M1D43M207H\t*\t0\t0\tTCGACTGGTTACAACAACTGCCTGGGGCTTTTAGAGCAACGAGACACGGCAATGTTGCACCGTTTGCTGCATGATATTGAAAAAATATCACCAAATAAAAAACGCCTTAGTAAGTATTTTTC\t30338993877/7777////9;;5>>>:1:=888?>?>???BAAAAA<@A=::;AA@=>;?8/88888BCBBBCAA=>4*444447;899>88661(1111167B<:?@AA<??>8,88888\tNM:i:2\tMD:Z:78^A43\tAS:i:107\tXS:i:0\tSA:Z:gi|170079663|ref|NC_010473.1|,1,+,122S182M1I24M,60,1;\n",
            "LJKEP:00326:00018\t0\tgi|170079663|ref|NC_010473.1|\t1\t60\t93S279M\t*\t0\t0\tTTAGAGCAACGAGACACGGCAATGTTGCACCGTTTGCTGCATGATATTGAAAAAAATATCACCAAATAAAAAACGCCTTAGTAAGTATTTTTCAGCTTTTCATTCTGACTGCAACGGGCAATATGTCTCTGTGTGGATTAAAAAAAGAGTGTCTGATAGCAGCTTCTGAACTGGTTACCTGCCGTGAGTAAATTAAAATTTTATTGACTTAGGTCACTAAATACTTTAACCAATATAGGCATAGCGCACAGACAGATAAAAATTACAGAGTACACAACATCCATGAAACGCATTAGCACCACCATTACCACCACCATCACCATTACCACAGGTAACGGTGCGGGCTGACGCGTACAGGAAACACAGAAAAAA\t@@@AAA@>@@??AAAAA=AA>@@@=??885<=<A@@==898<@@<=9A;'?;??>>0//8894-444*;?AA888?A>A???>AAA<0;;;99===5@@@@A>@@@AA??><9;<7A>?=A===@A@@@A===A>@@>A'AA>><>888AAAA@@@AA===@@>B@@@>A<<98587=<<?>@@@ACA@;AA>@5@@@5CC==:AB@?;<==::8C@@<AA???>BB=@>A?AAAAA>A@??BAA@998?=?<====1AAA?<:??@:??AAAAA@CCBB?>>@?;???BBC@CB@@@@C@;<:@@?>BC@CA>ABBBB?BB@CDBEC@>>>8781,11>?9=A@@DCCCCCCCCB@B>EA=89;4(44444\tNM:i:0\tMD:Z:279\tAS:i:279\tXS:i:0\tSA:Z:gi|170079663|ref|NC_010473.1|,4686045,+,93M279S,60,0;\n"
          ]
        }
      ]
    },
    {
      "cell_type": "code",
      "source": [
        "flags('tor_test_alignment.sam')"
      ],
      "metadata": {
        "colab": {
          "base_uri": "https://localhost:8080/"
        },
        "id": "o9YYxSpcjBkK",
        "outputId": "6ed614b5-55b5-4c85-ac74-8313f51da90c"
      },
      "execution_count": 113,
      "outputs": [
        {
          "output_type": "execute_result",
          "data": {
            "text/plain": [
              "{'0', '16', '2048', '2064', '4'}"
            ]
          },
          "metadata": {},
          "execution_count": 113
        }
      ]
    },
    {
      "cell_type": "code",
      "execution_count": 114,
      "metadata": {
        "id": "QQfwWP2cFxxm"
      },
      "outputs": [],
      "source": [
        "with open('tor_test_alignment.sam', 'r') as f:\n",
        "    l = [line.strip() for line in f]\n",
        "    n = lenth('DH10B-K12.fasta')\n",
        "    s = [0] * n\n",
        "    for i in range(3, len(l)):\n",
        "      a = l[i].split('\\t')\n",
        "      if int(a[1]) != 4:\n",
        "        for i in range(int(a[3]) + 1, int(a[3]) + len(a[9]) + 1):\n",
        "          s[i] += 1\n",
        "    df = pd.DataFrame()\n",
        "    df['coverage'] = s"
      ]
    },
    {
      "cell_type": "code",
      "execution_count": 115,
      "metadata": {
        "colab": {
          "base_uri": "https://localhost:8080/",
          "height": 296
        },
        "outputId": "ff57e988-0f45-4499-bbbd-2894fac239cd",
        "id": "7lMroytuFxxm"
      },
      "outputs": [
        {
          "output_type": "execute_result",
          "data": {
            "text/plain": [
              "<matplotlib.axes._subplots.AxesSubplot at 0x7f9174f79a50>"
            ]
          },
          "metadata": {},
          "execution_count": 115
        },
        {
          "output_type": "display_data",
          "data": {
            "image/png": "[encoded data removed]",
            "text/plain": [
              "<Figure size 432x288 with 1 Axes>"
            ]
          },
          "metadata": {
            "needs_background": "light"
          }
        }
      ],
      "source": [
        "sns.lineplot(data=df, x=df.index, y=df['coverage'])\n"
      ]
    },
    {
      "cell_type": "code",
      "execution_count": 83,
      "metadata": {
        "colab": {
          "base_uri": "https://localhost:8080/"
        },
        "outputId": "b7c8df50-809f-4669-a249-9701eef4bc91",
        "id": "vZoj48-QFxxn"
      },
      "outputs": [
        {
          "output_type": "stream",
          "name": "stdout",
          "text": [
            "Процент покрытого генома\n"
          ]
        },
        {
          "output_type": "execute_result",
          "data": {
            "text/plain": [
              "0.9860813269760496"
            ]
          },
          "metadata": {},
          "execution_count": 83
        }
      ],
      "source": [
        "prop = (len(s) - s.count(0)) / len(s)\n",
        "print('Процент покрытого генома')\n",
        "prop"
      ]
    },
    {
      "cell_type": "code",
      "execution_count": 84,
      "metadata": {
        "colab": {
          "base_uri": "https://localhost:8080/"
        },
        "outputId": "26fd5460-e806-4b31-8388-718b77a73e43",
        "id": "CsNgX1x2Fxxn"
      },
      "outputs": [
        {
          "output_type": "stream",
          "name": "stdout",
          "text": [
            "Среднее покрытие\n"
          ]
        },
        {
          "output_type": "execute_result",
          "data": {
            "text/plain": [
              "58.868800338636234"
            ]
          },
          "metadata": {},
          "execution_count": 84
        }
      ],
      "source": [
        "meanzn = np.mean(s)\n",
        "print('Среднее покрытие')\n",
        "meanzn"
      ]
    },
    {
      "cell_type": "code",
      "source": [
        "!samtools stats tor_test_alignment_sorted.bam | grep ID > tor_stats_stats.txt"
      ],
      "metadata": {
        "id": "BNGz76WMG4kQ"
      },
      "execution_count": 85,
      "outputs": []
    },
    {
      "cell_type": "code",
      "source": [
        "!head tor_stats_stats.txt"
      ],
      "metadata": {
        "colab": {
          "base_uri": "https://localhost:8080/"
        },
        "id": "seVm_w9CI2or",
        "outputId": "e9097297-05db-42a7-ed69-cc3966926c37"
      },
      "execution_count": 86,
      "outputs": [
        {
          "output_type": "stream",
          "name": "stdout",
          "text": [
            "# Indel distribution. Use `grep ^ID | cut -f 2-` to extract this part. The columns are: length, number of insertions, number of deletions\n",
            "ID\t1\t624458\t490436\n",
            "ID\t2\t51245\t27014\n",
            "ID\t3\t7445\t2243\n",
            "ID\t4\t2497\t315\n",
            "ID\t5\t1094\t83\n",
            "ID\t6\t686\t14\n",
            "ID\t7\t426\t2\n",
            "ID\t8\t287\t5\n",
            "ID\t9\t212\t0\n"
          ]
        }
      ]
    },
    {
      "cell_type": "code",
      "source": [
        "with open('tor_stats_stats.txt', 'r') as f:\n",
        "    l = [line.strip() for line in f]\n",
        "    IS = [0] * (len(l) - 1)\n",
        "    COUNT = [0] * (len(l) - 1)\n",
        "    sum_DEL = 0\n",
        "    count_DEL = 0\n",
        "    sum_INS = 0\n",
        "    count_INS = 0\n",
        "    for i in range(1, len(l)):\n",
        "      a = l[i].split('\\t')\n",
        "      IS[i - 1] = int(a[1])\n",
        "      sum_DEL += int(a[1]) * int(a[2])\n",
        "      sum_INS += int(a[1]) * int(a[3])\n",
        "      count_DEL += int(a[2])\n",
        "      count_INS += int(a[3])\n",
        "      COUNT[i - 1] = int(a[2]) + int(a[3])\n",
        "mean_DEL = sum_DEL / count_DEL\n",
        "mean_INS = sum_INS / count_INS\n",
        "print(mean_DEL, mean_INS)\n",
        "df = pd.DataFrame()\n",
        "df['ins/del size'] = IS\n",
        "df['count'] = COUNT"
      ],
      "metadata": {
        "colab": {
          "base_uri": "https://localhost:8080/"
        },
        "id": "GmPWy9MJI6si",
        "outputId": "a0428760-f86d-4e63-a34f-3695eb4e8037"
      },
      "execution_count": 87,
      "outputs": [
        {
          "output_type": "stream",
          "name": "stdout",
          "text": [
            "1.140254176408354 1.0633072749435701\n"
          ]
        }
      ]
    },
    {
      "cell_type": "code",
      "source": [
        "sns.lineplot(data=df, x=df['ins/del size'], y=df['count'])\n"
      ],
      "metadata": {
        "colab": {
          "base_uri": "https://localhost:8080/",
          "height": 308
        },
        "id": "3YiCAj3ZJqvw",
        "outputId": "09284522-7887-4294-ce93-267961c122c2"
      },
      "execution_count": 88,
      "outputs": [
        {
          "output_type": "execute_result",
          "data": {
            "text/plain": [
              "<matplotlib.axes._subplots.AxesSubplot at 0x7f9183d783d0>"
            ]
          },
          "metadata": {},
          "execution_count": 88
        },
        {
          "output_type": "display_data",
          "data": {
            "image/png": "[encoded data removed]",
            "text/plain": [
              "<Figure size 432x288 with 1 Axes>"
            ]
          },
          "metadata": {
            "needs_background": "light"
          }
        }
      ]
    },
    {
      "cell_type": "code",
      "source": [
        "!cat tor_test_alignment.sam | cut -s -f 6 | grep -v '*' > CIGAR.txt"
      ],
      "metadata": {
        "id": "aGQ2WmyKd6Hp"
      },
      "execution_count": 90,
      "outputs": []
    },
    {
      "cell_type": "code",
      "source": [
        "import re"
      ],
      "metadata": {
        "id": "CH_M0tv5eIQy"
      },
      "execution_count": 91,
      "outputs": []
    },
    {
      "cell_type": "code",
      "source": [
        "CIGAR = {\"M\":0, 'S':0, 'H':0, 'D':0,'I':0}\n",
        "errors = 0\n",
        "for cigarette in cigarettes:\n",
        "    string = cigarette.rstrip()\n",
        "    matches = re.findall(r'(\\d+)([A-Z]{1})', string)\n",
        "    length = 0\n",
        "    error = 0\n",
        "    for match in matches:\n",
        "        CIGAR[match[1]] += int(match[0])\n",
        "        length += int(match[0])\n",
        "        if match[1] == 'D' or match[1] == 'I' or match[1] == 'X':\n",
        "            error += int(match[0])\n",
        "    if length != 0:\n",
        "        errors += error/length\n",
        "    else:\n",
        "        bias += 1\n",
        "errors /= len(cigarettes)"
      ],
      "metadata": {
        "id": "a7o87U5WJu4M"
      },
      "execution_count": 94,
      "outputs": []
    },
    {
      "cell_type": "code",
      "source": [
        "print('Средний процент ошибок в ридах')\n",
        "errors"
      ],
      "metadata": {
        "colab": {
          "base_uri": "https://localhost:8080/"
        },
        "id": "P_x2mAhkdntX",
        "outputId": "d41bf055-eae0-464c-e592-8e002b2e35a5"
      },
      "execution_count": 104,
      "outputs": [
        {
          "output_type": "stream",
          "name": "stdout",
          "text": [
            "Средний процент ошибок в ридах\n"
          ]
        },
        {
          "output_type": "execute_result",
          "data": {
            "text/plain": [
              "0.005150210519290204"
            ]
          },
          "metadata": {},
          "execution_count": 104
        }
      ]
    },
    {
      "cell_type": "code",
      "source": [
        ""
      ],
      "metadata": {
        "id": "t7GiZ7KceMkc"
      },
      "execution_count": null,
      "outputs": []
    }
  ],
  "metadata": {
    "colab": {
      "collapsed_sections": [
        "oLONza8XGfKR"
      ],
      "name": "NGS2.ipynb",
      "provenance": [],
      "authorship_tag": "ABX9TyMhzvASDaFFlfIp9jqcxU+w",
      "include_colab_link": true
    },
    "kernelspec": {
      "display_name": "Python 3",
      "name": "python3"
    },
    "language_info": {
      "name": "python"
    }
  },
  "nbformat": 4,
  "nbformat_minor": 0
}