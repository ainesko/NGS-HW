{
  "nbformat": 4,
  "nbformat_minor": 0,
  "metadata": {
    "colab": {
      "name": "NGS3.ipynb",
      "provenance": [],
      "authorship_tag": "ABX9TyMD1ize+z3thWB0cI5BxJS9",
      "include_colab_link": true
    },
    "kernelspec": {
      "name": "python3",
      "display_name": "Python 3"
    },
    "language_info": {
      "name": "python"
    }
  },
  "cells": [
    {
      "cell_type": "markdown",
      "metadata": {
        "id": "view-in-github",
        "colab_type": "text"
      },
      "source": [
        "<a href=\"https://colab.research.google.com/github/ainesko/NGS-HW1/blob/main/NGS3.ipynb\" target=\"_parent\"><img src=\"https://colab.research.google.com/assets/colab-badge.svg\" alt=\"Open In Colab\"/></a>"
      ]
    },
    {
      "cell_type": "markdown",
      "source": [
        "#Скачивание файлов с диска\n"
      ],
      "metadata": {
        "id": "kNDF5qxoS-jJ"
      }
    },
    {
      "cell_type": "markdown",
      "source": [
        "По ссылкам скачиваем с гугл-диска все файлы (кажется, работает только для Google Colab)"
      ],
      "metadata": {
        "id": "4DFFUfwETFll"
      }
    },
    {
      "cell_type": "code",
      "execution_count": 1,
      "metadata": {
        "id": "pNU35Y_ZSmba"
      },
      "outputs": [],
      "source": [
        "def download_from_disk(id):\n",
        "  import gdown\n",
        "  gdown.download(f'https://drive.google.com/uc?id={id}&confirm=t', quiet=False)"
      ]
    },
    {
      "cell_type": "code",
      "source": [
        "download_from_disk('1a18Uwzy-Dz10OmQZwsLrX4sntOuBxnew')"
      ],
      "metadata": {
        "colab": {
          "base_uri": "https://localhost:8080/"
        },
        "id": "z4ItfWaJSsbu",
        "outputId": "0b06d5bb-5958-49a0-94c3-b3cb27c8cfd8"
      },
      "execution_count": 2,
      "outputs": [
        {
          "output_type": "stream",
          "name": "stderr",
          "text": [
            "Downloading...\n",
            "From: https://drive.google.com/uc?id=1a18Uwzy-Dz10OmQZwsLrX4sntOuBxnew&confirm=t\n",
            "To: /content/ONT_2D.fastq.gz\n",
            "100%|██████████| 143M/143M [00:02<00:00, 58.8MB/s]\n"
          ]
        }
      ]
    },
    {
      "cell_type": "code",
      "source": [
        "download_from_disk('18VFr3uyICex0Xd8_rH6Tdhmr3GFIPr7C')"
      ],
      "metadata": {
        "colab": {
          "base_uri": "https://localhost:8080/"
        },
        "id": "iDdBFlPhSutp",
        "outputId": "fa050f4c-b97e-4190-dc2d-ab515c4aba4f"
      },
      "execution_count": 3,
      "outputs": [
        {
          "output_type": "stream",
          "name": "stderr",
          "text": [
            "Downloading...\n",
            "From: https://drive.google.com/uc?id=18VFr3uyICex0Xd8_rH6Tdhmr3GFIPr7C&confirm=t\n",
            "To: /content/pacbio_40x.fq.gz\n",
            "100%|██████████| 198M/198M [00:04<00:00, 46.6MB/s]\n"
          ]
        }
      ]
    },
    {
      "cell_type": "code",
      "source": [
        "download_from_disk('1unVHbhqU47hAGEY_wzbdBababBYNB5Df')"
      ],
      "metadata": {
        "colab": {
          "base_uri": "https://localhost:8080/"
        },
        "id": "uBozIU4qTdzL",
        "outputId": "1817f4f1-937c-40ee-ca9d-9fa8e74906af"
      },
      "execution_count": 4,
      "outputs": [
        {
          "output_type": "stream",
          "name": "stderr",
          "text": [
            "Downloading...\n",
            "From: https://drive.google.com/uc?id=1unVHbhqU47hAGEY_wzbdBababBYNB5Df&confirm=t\n",
            "To: /content/reference.fasta\n",
            "100%|██████████| 4.71M/4.71M [00:00<00:00, 40.4MB/s]\n"
          ]
        }
      ]
    },
    {
      "cell_type": "markdown",
      "source": [
        "# Установка программ"
      ],
      "metadata": {
        "id": "fKIVjJX6JzWe"
      }
    },
    {
      "cell_type": "code",
      "source": [
        "!pip install -q condacolab"
      ],
      "metadata": {
        "id": "reCR_GUpFFRr"
      },
      "execution_count": 5,
      "outputs": []
    },
    {
      "cell_type": "code",
      "source": [
        "import condacolab"
      ],
      "metadata": {
        "id": "jQ1Oqzb9BXoG"
      },
      "execution_count": 13,
      "outputs": []
    },
    {
      "cell_type": "code",
      "source": [
        "condacolab.install()"
      ],
      "metadata": {
        "colab": {
          "base_uri": "https://localhost:8080/"
        },
        "id": "q5FUOHCgBZWp",
        "outputId": "32339f16-2240-4961-eb0b-5a30e49ed838"
      },
      "execution_count": 14,
      "outputs": [
        {
          "output_type": "stream",
          "name": "stdout",
          "text": [
            "✨🍰✨ Everything looks OK!\n"
          ]
        }
      ]
    },
    {
      "cell_type": "code",
      "source": [
        "!conda install -c bioconda minimap2"
      ],
      "metadata": {
        "colab": {
          "base_uri": "https://localhost:8080/"
        },
        "id": "WJRW2-93q3dJ",
        "outputId": "9d332bf4-c8eb-43c5-b6e8-c560cd32f44c"
      },
      "execution_count": 1,
      "outputs": [
        {
          "output_type": "stream",
          "name": "stdout",
          "text": [
            "Collecting package metadata (current_repodata.json): - \b\b\\ \b\b| \b\b/ \b\b- \b\b\\ \b\b| \b\b/ \b\b- \b\b\\ \b\b| \b\b/ \b\b- \b\b\\ \b\b| \b\b/ \b\b- \b\b\\ \b\bdone\n",
            "Solving environment: / \b\b- \b\b\\ \b\b| \b\b/ \b\b- \b\b\\ \b\b| \b\bdone\n",
            "\n",
            "# All requested packages already installed.\n",
            "\n"
          ]
        }
      ]
    },
    {
      "cell_type": "code",
      "execution_count": 2,
      "metadata": {
        "colab": {
          "base_uri": "https://localhost:8080/"
        },
        "id": "ALt4efsPVgqH",
        "outputId": "4e6663bf-d76d-48e1-90a9-69281d9acc21"
      },
      "outputs": [
        {
          "output_type": "stream",
          "name": "stdout",
          "text": [
            "Collecting package metadata (current_repodata.json): - \b\b\\ \b\b| \b\b/ \b\b- \b\b\\ \b\b| \b\b/ \b\b- \b\b\\ \b\b| \b\b/ \b\b- \b\b\\ \b\b| \b\bdone\n",
            "Solving environment: - \b\b\\ \b\b| \b\b/ \b\b- \b\b\\ \b\b| \b\b/ \b\b- \b\b\\ \b\b| \b\b/ \b\b- \b\bdone\n",
            "\n",
            "# All requested packages already installed.\n",
            "\n"
          ]
        }
      ],
      "source": [
        "!conda install -c bioconda samtools"
      ]
    },
    {
      "cell_type": "code",
      "execution_count": 4,
      "metadata": {
        "colab": {
          "base_uri": "https://localhost:8080/"
        },
        "id": "17-iVMX-VamA",
        "outputId": "722c01d0-520f-4add-971d-86c71c63f6e0"
      },
      "outputs": [
        {
          "output_type": "stream",
          "name": "stdout",
          "text": [
            "Reading package lists... Done\n",
            "Building dependency tree       \n",
            "Reading state information... Done\n",
            "bowtie2 is already the newest version (2.3.4.1-1).\n",
            "samtools is already the newest version (1.7-1).\n",
            "0 upgraded, 0 newly installed, 0 to remove and 39 not upgraded.\n"
          ]
        }
      ],
      "source": [
        "!apt-get install bowtie2 samtools"
      ]
    },
    {
      "cell_type": "markdown",
      "source": [
        "# 0. Разобраться с minimap2"
      ],
      "metadata": {
        "id": "zg4bAYEOJ6gU"
      }
    },
    {
      "cell_type": "code",
      "source": [
        "!minimap2 -a --MD ONT_2D.fastq.gz reference.fasta > test.sam"
      ],
      "metadata": {
        "colab": {
          "base_uri": "https://localhost:8080/"
        },
        "id": "3zIIPdXJqqjt",
        "outputId": "362ee825-9085-43d0-e8cd-6eef91d63564"
      },
      "execution_count": 5,
      "outputs": [
        {
          "output_type": "stream",
          "name": "stdout",
          "text": [
            "[M::mm_idx_gen::5.909*1.53] collected minimizers\n",
            "[M::mm_idx_gen::7.337*1.61] sorted minimizers\n",
            "[M::main::7.340*1.61] loaded/built the index for 30810 target sequence(s)\n",
            "[M::mm_mapopt_update::7.514*1.60] mid_occ = 74\n",
            "[M::mm_idx_stat] kmer size: 15; skip: 10; is_hpc: 0; #seq: 30810\n",
            "[M::mm_idx_stat::7.637*1.59] distinct minimizers: 9405867 (76.33% are singletons); average occurrences: 2.662; average spacing: 5.377\n",
            "[M::worker_pipeline::15.709*1.28] mapped 1 sequences\n",
            "[M::main] Version: 2.17-r941\n",
            "[M::main] CMD: minimap2 -a --MD ONT_2D.fastq.gz reference.fasta\n",
            "[M::main] Real time: 15.837 sec; CPU: 20.299 sec; Peak RSS: 1.440 GB\n"
          ]
        }
      ]
    },
    {
      "cell_type": "markdown",
      "source": [
        "**Oxford Nanopores**"
      ],
      "metadata": {
        "id": "fquu7tY3Jrso"
      }
    },
    {
      "cell_type": "code",
      "source": [
        "!minimap2 -d ref.mmi reference.fasta  "
      ],
      "metadata": {
        "colab": {
          "base_uri": "https://localhost:8080/"
        },
        "id": "Q585KK-xGp5X",
        "outputId": "3eab4a68-d72a-4957-a18f-6672344f9ce9"
      },
      "execution_count": 6,
      "outputs": [
        {
          "output_type": "stream",
          "name": "stdout",
          "text": [
            "[M::mm_idx_gen::0.175*1.05] collected minimizers\n",
            "[M::mm_idx_gen::0.226*1.21] sorted minimizers\n",
            "[M::main::0.278*1.17] loaded/built the index for 1 target sequence(s)\n",
            "[M::mm_idx_stat] kmer size: 15; skip: 10; is_hpc: 0; #seq: 1\n",
            "[M::mm_idx_stat::0.289*1.16] distinct minimizers: 838533 (98.18% are singletons); average occurrences: 1.034; average spacing: 5.352\n",
            "[M::main] Version: 2.17-r941\n",
            "[M::main] CMD: minimap2 -d ref.mmi reference.fasta\n",
            "[M::main] Real time: 0.297 sec; CPU: 0.342 sec; Peak RSS: 0.068 GB\n"
          ]
        }
      ]
    },
    {
      "cell_type": "code",
      "source": [
        "!minimap2 -a --MD -o ont_alignment.sam  ref.mmi ONT_2D.fastq.gz "
      ],
      "metadata": {
        "colab": {
          "base_uri": "https://localhost:8080/"
        },
        "id": "zGKjtUWzITW1",
        "outputId": "2050f9cd-fdc0-47d6-fcbc-4a4a32b50652"
      },
      "execution_count": 7,
      "outputs": [
        {
          "output_type": "stream",
          "name": "stdout",
          "text": [
            "[M::main::0.060*1.17] loaded/built the index for 1 target sequence(s)\n",
            "[M::mm_mapopt_update::0.073*1.14] mid_occ = 11\n",
            "[M::mm_idx_stat] kmer size: 15; skip: 10; is_hpc: 0; #seq: 1\n",
            "[M::mm_idx_stat::0.082*1.12] distinct minimizers: 838533 (98.18% are singletons); average occurrences: 1.034; average spacing: 5.352\n",
            "[M::worker_pipeline::45.272*1.87] mapped 30810 sequences\n",
            "[M::main] Version: 2.17-r941\n",
            "[M::main] CMD: minimap2 -a --MD -o ont_alignment.sam ref.mmi ONT_2D.fastq.gz\n",
            "[M::main] Real time: 45.303 sec; CPU: 84.529 sec; Peak RSS: 0.940 GB\n"
          ]
        }
      ]
    },
    {
      "cell_type": "code",
      "execution_count": 15,
      "metadata": {
        "id": "sD0D8STkWryg"
      },
      "outputs": [],
      "source": [
        "!samtools view -bS -o ont_alignment.bam ont_alignment.sam"
      ]
    },
    {
      "cell_type": "code",
      "execution_count": 16,
      "metadata": {
        "id": "VBTGwg3VWr8A"
      },
      "outputs": [],
      "source": [
        "!samtools sort -o ont_alignment_sorted.bam ont_alignment.bam"
      ]
    },
    {
      "cell_type": "code",
      "execution_count": 17,
      "metadata": {
        "id": "tXe_mEIMWm-M"
      },
      "outputs": [],
      "source": [
        "!samtools index -b ont_alignment_sorted.bam ont_alignment.bai"
      ]
    },
    {
      "cell_type": "code",
      "execution_count": 18,
      "metadata": {
        "colab": {
          "base_uri": "https://localhost:8080/"
        },
        "id": "AKCufHlAWnBK",
        "outputId": "7da7e423-df35-4453-dfbb-d95f90751001"
      },
      "outputs": [
        {
          "output_type": "stream",
          "name": "stdout",
          "text": [
            "32103 + 0 in total (QC-passed reads + QC-failed reads)\n",
            "1072 + 0 secondary\n",
            "221 + 0 supplementary\n",
            "0 + 0 duplicates\n",
            "29565 + 0 mapped (92.09% : N/A)\n",
            "0 + 0 paired in sequencing\n",
            "0 + 0 read1\n",
            "0 + 0 read2\n",
            "0 + 0 properly paired (N/A : N/A)\n",
            "0 + 0 with itself and mate mapped\n",
            "0 + 0 singletons (N/A : N/A)\n",
            "0 + 0 with mate mapped to a different chr\n",
            "0 + 0 with mate mapped to a different chr (mapQ>=5)\n"
          ]
        }
      ],
      "source": [
        "!samtools flagstat ont_alignment_sorted.bam"
      ]
    },
    {
      "cell_type": "markdown",
      "source": [
        "**PacBio**"
      ],
      "metadata": {
        "id": "P0ulfPl5JmWG"
      }
    },
    {
      "cell_type": "code",
      "source": [
        "!minimap2 -ax  map-pb  reference.fasta pacbio_40x.fq.gz > pb_aln.sam"
      ],
      "metadata": {
        "id": "aumtBY72Vybw"
      },
      "execution_count": null,
      "outputs": []
    },
    {
      "cell_type": "code",
      "source": [
        "!samtools view -bS -o pb_aln.bam pb_aln.sam"
      ],
      "metadata": {
        "id": "-K8H0DBNWBr1"
      },
      "execution_count": 149,
      "outputs": []
    },
    {
      "cell_type": "code",
      "source": [
        "!samtools sort -o pb_aln_sorted.bam pb_aln.bam"
      ],
      "metadata": {
        "id": "oy7-6NI0WIYE"
      },
      "execution_count": 150,
      "outputs": []
    },
    {
      "cell_type": "code",
      "source": [
        "!samtools index -b pb_aln_sorted.bam pb_aln.bai"
      ],
      "metadata": {
        "id": "iqKLX4ZtWRIz"
      },
      "execution_count": 151,
      "outputs": []
    },
    {
      "cell_type": "code",
      "source": [
        "!samtools flagstat pb_aln_sorted.bam"
      ],
      "metadata": {
        "colab": {
          "base_uri": "https://localhost:8080/"
        },
        "id": "tOBqY6iMWWE8",
        "outputId": "16b5cb9d-d20d-4268-e019-70791f8cc60a"
      },
      "execution_count": 152,
      "outputs": [
        {
          "output_type": "stream",
          "name": "stdout",
          "text": [
            "52081 + 0 in total (QC-passed reads + QC-failed reads)\n",
            "1736 + 0 secondary\n",
            "8898 + 0 supplementary\n",
            "0 + 0 duplicates\n",
            "51199 + 0 mapped (98.31% : N/A)\n",
            "0 + 0 paired in sequencing\n",
            "0 + 0 read1\n",
            "0 + 0 read2\n",
            "0 + 0 properly paired (N/A : N/A)\n",
            "0 + 0 with itself and mate mapped\n",
            "0 + 0 singletons (N/A : N/A)\n",
            "0 + 0 with mate mapped to a different chr\n",
            "0 + 0 with mate mapped to a different chr (mapQ>=5)\n"
          ]
        }
      ]
    },
    {
      "cell_type": "markdown",
      "source": [
        "Результаты выравниваний выше и ниже немного отличаются (в силу адаптации алгоритмов программы выше под PacBio, но для работы удобнее нижнее."
      ],
      "metadata": {
        "id": "gI-FKzCRi2rw"
      }
    },
    {
      "cell_type": "code",
      "source": [
        "!minimap2 -a --MD -o pacbio_alignment.sam  ref.mmi pacbio_40x.fq.gz "
      ],
      "metadata": {
        "colab": {
          "base_uri": "https://localhost:8080/"
        },
        "outputId": "0a80752b-7ade-43f3-9393-3b80d9f5fb87",
        "id": "Ob0KWrtEJfbM"
      },
      "execution_count": 19,
      "outputs": [
        {
          "output_type": "stream",
          "name": "stdout",
          "text": [
            "[M::main::0.092*1.13] loaded/built the index for 1 target sequence(s)\n",
            "[M::mm_mapopt_update::0.107*1.10] mid_occ = 11\n",
            "[M::mm_idx_stat] kmer size: 15; skip: 10; is_hpc: 0; #seq: 1\n",
            "[M::mm_idx_stat::0.117*1.09] distinct minimizers: 838533 (98.18% are singletons); average occurrences: 1.034; average spacing: 5.352\n",
            "[M::worker_pipeline::131.037*1.90] mapped 41447 sequences\n",
            "[M::main] Version: 2.17-r941\n",
            "[M::main] CMD: minimap2 -a --MD -o pacbio_alignment.sam ref.mmi pacbio_40x.fq.gz\n",
            "[M::main] Real time: 131.087 sec; CPU: 249.463 sec; Peak RSS: 2.025 GB\n"
          ]
        }
      ]
    },
    {
      "cell_type": "code",
      "execution_count": 21,
      "metadata": {
        "id": "ZgjvRcwPJfbN"
      },
      "outputs": [],
      "source": [
        "!samtools view -bS -o pacbio_alignment.bam pacbio_alignment.sam"
      ]
    },
    {
      "cell_type": "code",
      "execution_count": 22,
      "metadata": {
        "id": "0UqxRxlSJfbN"
      },
      "outputs": [],
      "source": [
        "!samtools sort -o pacbio_alignment_sorted.bam pacbio_alignment.bam"
      ]
    },
    {
      "cell_type": "code",
      "execution_count": 23,
      "metadata": {
        "id": "P0-pmOuFJfbN"
      },
      "outputs": [],
      "source": [
        "!samtools index -b pacbio_alignment_sorted.bam pacbio_alignment.bai"
      ]
    },
    {
      "cell_type": "code",
      "execution_count": 24,
      "metadata": {
        "colab": {
          "base_uri": "https://localhost:8080/"
        },
        "outputId": "daaf9294-5ef1-413e-ba7c-6a8cd2c792bd",
        "id": "gyrW6TucJfbN"
      },
      "outputs": [
        {
          "output_type": "stream",
          "name": "stdout",
          "text": [
            "49743 + 0 in total (QC-passed reads + QC-failed reads)\n",
            "1528 + 0 secondary\n",
            "6768 + 0 supplementary\n",
            "0 + 0 duplicates\n",
            "48434 + 0 mapped (97.37% : N/A)\n",
            "0 + 0 paired in sequencing\n",
            "0 + 0 read1\n",
            "0 + 0 read2\n",
            "0 + 0 properly paired (N/A : N/A)\n",
            "0 + 0 with itself and mate mapped\n",
            "0 + 0 singletons (N/A : N/A)\n",
            "0 + 0 with mate mapped to a different chr\n",
            "0 + 0 with mate mapped to a different chr (mapQ>=5)\n"
          ]
        }
      ],
      "source": [
        "!samtools flagstat pacbio_alignment_sorted.bam"
      ]
    },
    {
      "cell_type": "code",
      "source": [
        "import pandas as pd\n",
        "import seaborn as sns\n",
        "import numpy as np"
      ],
      "metadata": {
        "id": "FyDwiFd3L2ht"
      },
      "execution_count": 16,
      "outputs": []
    },
    {
      "cell_type": "code",
      "source": [
        "data = {'Общее число ридов':[32103,\n",
        "                             49743],\n",
        "        \n",
        "        'Приложившиеся':['29565 (92.09%)',\n",
        "                              '448434 (97.37%)']}\n",
        "\n",
        "df = pd.DataFrame(data, index =['Oxford Nanopores',\n",
        "                                'PacBio'])\n",
        "df"
      ],
      "metadata": {
        "colab": {
          "base_uri": "https://localhost:8080/",
          "height": 112
        },
        "id": "Rewl3P-OJD8D",
        "outputId": "7d1450ca-7eb2-450f-c710-2104bc089522"
      },
      "execution_count": 26,
      "outputs": [
        {
          "output_type": "execute_result",
          "data": {
            "text/html": [
              "\n",
              "  <div id=\"df-7be59bf3-53a5-47af-b91e-9a3db010e29b\">\n",
              "    <div class=\"colab-df-container\">\n",
              "      <div>\n",
              "<style scoped>\n",
              "    .dataframe tbody tr th:only-of-type {\n",
              "        vertical-align: middle;\n",
              "    }\n",
              "\n",
              "    .dataframe tbody tr th {\n",
              "        vertical-align: top;\n",
              "    }\n",
              "\n",
              "    .dataframe thead th {\n",
              "        text-align: right;\n",
              "    }\n",
              "</style>\n",
              "<table border=\"1\" class=\"dataframe\">\n",
              "  <thead>\n",
              "    <tr style=\"text-align: right;\">\n",
              "      <th></th>\n",
              "      <th>Общее число ридов</th>\n",
              "      <th>Приложившиеся</th>\n",
              "    </tr>\n",
              "  </thead>\n",
              "  <tbody>\n",
              "    <tr>\n",
              "      <th>Oxford Nanopores</th>\n",
              "      <td>32103</td>\n",
              "      <td>29565 (92.09%)</td>\n",
              "    </tr>\n",
              "    <tr>\n",
              "      <th>PacBio</th>\n",
              "      <td>49743</td>\n",
              "      <td>448434 (97.37%)</td>\n",
              "    </tr>\n",
              "  </tbody>\n",
              "</table>\n",
              "</div>\n",
              "      <button class=\"colab-df-convert\" onclick=\"convertToInteractive('df-7be59bf3-53a5-47af-b91e-9a3db010e29b')\"\n",
              "              title=\"Convert this dataframe to an interactive table.\"\n",
              "              style=\"display:none;\">\n",
              "        \n",
              "  <svg xmlns=\"http://www.w3.org/2000/svg\" height=\"24px\"viewBox=\"0 0 24 24\"\n",
              "       width=\"24px\">\n",
              "    <path d=\"M0 0h24v24H0V0z\" fill=\"none\"/>\n",
              "    <path d=\"M18.56 5.44l.94 2.06.94-2.06 2.06-.94-2.06-.94-.94-2.06-.94 2.06-2.06.94zm-11 1L8.5 8.5l.94-2.06 2.06-.94-2.06-.94L8.5 2.5l-.94 2.06-2.06.94zm10 10l.94 2.06.94-2.06 2.06-.94-2.06-.94-.94-2.06-.94 2.06-2.06.94z\"/><path d=\"M17.41 7.96l-1.37-1.37c-.4-.4-.92-.59-1.43-.59-.52 0-1.04.2-1.43.59L10.3 9.45l-7.72 7.72c-.78.78-.78 2.05 0 2.83L4 21.41c.39.39.9.59 1.41.59.51 0 1.02-.2 1.41-.59l7.78-7.78 2.81-2.81c.8-.78.8-2.07 0-2.86zM5.41 20L4 18.59l7.72-7.72 1.47 1.35L5.41 20z\"/>\n",
              "  </svg>\n",
              "      </button>\n",
              "      \n",
              "  <style>\n",
              "    .colab-df-container {\n",
              "      display:flex;\n",
              "      flex-wrap:wrap;\n",
              "      gap: 12px;\n",
              "    }\n",
              "\n",
              "    .colab-df-convert {\n",
              "      background-color: #E8F0FE;\n",
              "      border: none;\n",
              "      border-radius: 50%;\n",
              "      cursor: pointer;\n",
              "      display: none;\n",
              "      fill: #1967D2;\n",
              "      height: 32px;\n",
              "      padding: 0 0 0 0;\n",
              "      width: 32px;\n",
              "    }\n",
              "\n",
              "    .colab-df-convert:hover {\n",
              "      background-color: #E2EBFA;\n",
              "      box-shadow: 0px 1px 2px rgba(60, 64, 67, 0.3), 0px 1px 3px 1px rgba(60, 64, 67, 0.15);\n",
              "      fill: #174EA6;\n",
              "    }\n",
              "\n",
              "    [theme=dark] .colab-df-convert {\n",
              "      background-color: #3B4455;\n",
              "      fill: #D2E3FC;\n",
              "    }\n",
              "\n",
              "    [theme=dark] .colab-df-convert:hover {\n",
              "      background-color: #434B5C;\n",
              "      box-shadow: 0px 1px 3px 1px rgba(0, 0, 0, 0.15);\n",
              "      filter: drop-shadow(0px 1px 2px rgba(0, 0, 0, 0.3));\n",
              "      fill: #FFFFFF;\n",
              "    }\n",
              "  </style>\n",
              "\n",
              "      <script>\n",
              "        const buttonEl =\n",
              "          document.querySelector('#df-7be59bf3-53a5-47af-b91e-9a3db010e29b button.colab-df-convert');\n",
              "        buttonEl.style.display =\n",
              "          google.colab.kernel.accessAllowed ? 'block' : 'none';\n",
              "\n",
              "        async function convertToInteractive(key) {\n",
              "          const element = document.querySelector('#df-7be59bf3-53a5-47af-b91e-9a3db010e29b');\n",
              "          const dataTable =\n",
              "            await google.colab.kernel.invokeFunction('convertToInteractive',\n",
              "                                                     [key], {});\n",
              "          if (!dataTable) return;\n",
              "\n",
              "          const docLinkHtml = 'Like what you see? Visit the ' +\n",
              "            '<a target=\"_blank\" href=https://colab.research.google.com/notebooks/data_table.ipynb>data table notebook</a>'\n",
              "            + ' to learn more about interactive tables.';\n",
              "          element.innerHTML = '';\n",
              "          dataTable['output_type'] = 'display_data';\n",
              "          await google.colab.output.renderOutput(dataTable, element);\n",
              "          const docLink = document.createElement('div');\n",
              "          docLink.innerHTML = docLinkHtml;\n",
              "          element.appendChild(docLink);\n",
              "        }\n",
              "      </script>\n",
              "    </div>\n",
              "  </div>\n",
              "  "
            ],
            "text/plain": [
              "                  Общее число ридов    Приложившиеся\n",
              "Oxford Nanopores              32103   29565 (92.09%)\n",
              "PacBio                        49743  448434 (97.37%)"
            ]
          },
          "metadata": {},
          "execution_count": 26
        }
      ]
    },
    {
      "cell_type": "markdown",
      "source": [
        "# 1. Статистики ридов PacBio и Oxford Nanopores."
      ],
      "metadata": {
        "id": "4nSl7C1FMZBY"
      }
    },
    {
      "cell_type": "markdown",
      "source": [
        "## Функции"
      ],
      "metadata": {
        "id": "Lt2BpO6BGJXV"
      }
    },
    {
      "cell_type": "markdown",
      "source": [
        "Функция, которая по sam-файлу возвращает множество значений FLAG (второй столбец)."
      ],
      "metadata": {
        "id": "5tDa49EcNuQX"
      }
    },
    {
      "cell_type": "code",
      "source": [
        "def flags(file):\n",
        "  with open(file, 'r') as f:\n",
        "    l = [line.strip() for line in f]\n",
        "    s = set()\n",
        "    for i in range(3, len(l)):\n",
        "      a = l[i].split('\\t')\n",
        "      sc = a[1]\n",
        "      if sc not in s:\n",
        "        s.add(sc)\n",
        "    return s"
      ],
      "metadata": {
        "id": "stKJocj_NqKJ"
      },
      "execution_count": 27,
      "outputs": []
    },
    {
      "cell_type": "code",
      "source": [
        "flags('ont_alignment.sam')"
      ],
      "metadata": {
        "colab": {
          "base_uri": "https://localhost:8080/"
        },
        "id": "YY-QMWn0ObBA",
        "outputId": "2e9cdc87-bea9-4a31-a042-40e9bd50b852"
      },
      "execution_count": 30,
      "outputs": [
        {
          "output_type": "execute_result",
          "data": {
            "text/plain": [
              "{'0', '16', '2048', '2064', '256', '272', '4'}"
            ]
          },
          "metadata": {},
          "execution_count": 30
        }
      ]
    },
    {
      "cell_type": "code",
      "source": [
        "flags('pacbio_alignment.sam')"
      ],
      "metadata": {
        "colab": {
          "base_uri": "https://localhost:8080/"
        },
        "id": "9FJ20LzNOn9B",
        "outputId": "17ed7b84-d317-457f-ad05-6865bd7c8c52"
      },
      "execution_count": 31,
      "outputs": [
        {
          "output_type": "execute_result",
          "data": {
            "text/plain": [
              "{'0', '16', '2048', '2064', '256', '272', '4'}"
            ]
          },
          "metadata": {},
          "execution_count": 31
        }
      ]
    },
    {
      "cell_type": "markdown",
      "source": [
        "Не приложились только риды с FLAG = 4"
      ],
      "metadata": {
        "id": "SNkLQ-AIQauN"
      }
    },
    {
      "cell_type": "markdown",
      "metadata": {
        "id": "sKiZAj2nRnRp"
      },
      "source": [
        "Найдём длину референсного генома."
      ]
    },
    {
      "cell_type": "code",
      "execution_count": 171,
      "metadata": {
        "id": "8xNsqKhjRr7Q"
      },
      "outputs": [],
      "source": [
        "def lenth(file):\n",
        "  with open(file, 'r') as f:\n",
        "    lines = f.readlines()\n",
        "    l = 0\n",
        "    for i in range(1, len(lines)):\n",
        "      l += len(lines[i])\n",
        "    return l"
      ]
    },
    {
      "cell_type": "code",
      "source": [
        "def coverage(file):\n",
        "  with open(file, 'r') as f:\n",
        "    l = [line.strip() for line in f]\n",
        "    n = lenth('reference.fasta')\n",
        "    s = [0] * n\n",
        "    for i in range(3, len(l)):\n",
        "      a = l[i].split('\\t')\n",
        "      if int(a[1]) != 4:\n",
        "        for i in range(int(a[3]) + 1, int(a[3]) + len(a[9]) + 1):\n",
        "          s[i] += 1\n",
        "    df = pd.DataFrame()\n",
        "    df['coverage'] = s\n",
        "    print(f'Процент покрытого генома: {round((len(s) - s.count(0)) / len(s), 3)}')\n",
        "    print(f'Среднее покрытие: {round(np.mean(s), 3)}')\n",
        "    graph = sns.lineplot(data=df, x=df.index, y=df['coverage'])\n",
        "    return graph"
      ],
      "metadata": {
        "id": "p2FZFRBqCBnc"
      },
      "execution_count": 173,
      "outputs": []
    },
    {
      "cell_type": "markdown",
      "source": [
        "## 1) Покрытие генома\n",
        "\n",
        "***Oxford Nanopores***"
      ],
      "metadata": {
        "id": "4kSVQRg3FVwq"
      }
    },
    {
      "cell_type": "code",
      "source": [
        "coverage('ont_alignment.sam')"
      ],
      "metadata": {
        "colab": {
          "base_uri": "https://localhost:8080/",
          "height": 331
        },
        "id": "8MRQanOiC3Mf",
        "outputId": "fb51d2ee-c995-4475-dc73-5a3d1c088225"
      },
      "execution_count": 174,
      "outputs": [
        {
          "output_type": "stream",
          "name": "stdout",
          "text": [
            "Процент покрытого генома: 0.988\n",
            "Среднее покрытие: 27.12\n"
          ]
        },
        {
          "output_type": "execute_result",
          "data": {
            "text/plain": [
              "<matplotlib.axes._subplots.AxesSubplot at 0x7f0de821f3d0>"
            ]
          },
          "metadata": {},
          "execution_count": 174
        },
        {
          "output_type": "display_data",
          "data": {
            "image/png": "[encoded data removed]",
            "text/plain": [
              "<Figure size 432x288 with 1 Axes>"
            ]
          },
          "metadata": {
            "needs_background": "light"
          }
        }
      ]
    },
    {
      "cell_type": "markdown",
      "source": [
        "***PacBio***"
      ],
      "metadata": {
        "id": "SPj8K2rjLfuh"
      }
    },
    {
      "cell_type": "code",
      "source": [
        "coverage('pacbio_alignment.sam')"
      ],
      "metadata": {
        "colab": {
          "base_uri": "https://localhost:8080/",
          "height": 331
        },
        "id": "34luEUr8F0l-",
        "outputId": "4d054518-d867-4682-8584-38702c067cfe"
      },
      "execution_count": 175,
      "outputs": [
        {
          "output_type": "stream",
          "name": "stdout",
          "text": [
            "Процент покрытого генома: 0.987\n",
            "Среднее покрытие: 47.465\n"
          ]
        },
        {
          "output_type": "execute_result",
          "data": {
            "text/plain": [
              "<matplotlib.axes._subplots.AxesSubplot at 0x7f0de6532b90>"
            ]
          },
          "metadata": {},
          "execution_count": 175
        },
        {
          "output_type": "display_data",
          "data": {
            "image/png": "[encoded data removed]",
            "text/plain": [
              "<Figure size 432x288 with 1 Axes>"
            ]
          },
          "metadata": {
            "needs_background": "light"
          }
        }
      ]
    },
    {
      "cell_type": "code",
      "source": [
        "data = {'Среднее покрытие':[27.12,\n",
        "                             47.465],\n",
        "        \n",
        "        'Доля покрытой области генома':['0.988',\n",
        "                              '0.987']}\n",
        "\n",
        "df = pd.DataFrame(data, index =['Oxford Nanopores',\n",
        "                                'PacBio'])\n",
        "df"
      ],
      "metadata": {
        "colab": {
          "base_uri": "https://localhost:8080/",
          "height": 112
        },
        "id": "5-TzfjJ8F83j",
        "outputId": "aa449944-5223-4a93-b4cc-e19e846ad91c"
      },
      "execution_count": 176,
      "outputs": [
        {
          "output_type": "execute_result",
          "data": {
            "text/html": [
              "\n",
              "  <div id=\"df-669c8d99-df1d-4018-8a98-8c271a4985b9\">\n",
              "    <div class=\"colab-df-container\">\n",
              "      <div>\n",
              "<style scoped>\n",
              "    .dataframe tbody tr th:only-of-type {\n",
              "        vertical-align: middle;\n",
              "    }\n",
              "\n",
              "    .dataframe tbody tr th {\n",
              "        vertical-align: top;\n",
              "    }\n",
              "\n",
              "    .dataframe thead th {\n",
              "        text-align: right;\n",
              "    }\n",
              "</style>\n",
              "<table border=\"1\" class=\"dataframe\">\n",
              "  <thead>\n",
              "    <tr style=\"text-align: right;\">\n",
              "      <th></th>\n",
              "      <th>Среднее покрытие</th>\n",
              "      <th>Доля покрытой области генома</th>\n",
              "    </tr>\n",
              "  </thead>\n",
              "  <tbody>\n",
              "    <tr>\n",
              "      <th>Oxford Nanopores</th>\n",
              "      <td>27.120</td>\n",
              "      <td>0.988</td>\n",
              "    </tr>\n",
              "    <tr>\n",
              "      <th>PacBio</th>\n",
              "      <td>47.465</td>\n",
              "      <td>0.987</td>\n",
              "    </tr>\n",
              "  </tbody>\n",
              "</table>\n",
              "</div>\n",
              "      <button class=\"colab-df-convert\" onclick=\"convertToInteractive('df-669c8d99-df1d-4018-8a98-8c271a4985b9')\"\n",
              "              title=\"Convert this dataframe to an interactive table.\"\n",
              "              style=\"display:none;\">\n",
              "        \n",
              "  <svg xmlns=\"http://www.w3.org/2000/svg\" height=\"24px\"viewBox=\"0 0 24 24\"\n",
              "       width=\"24px\">\n",
              "    <path d=\"M0 0h24v24H0V0z\" fill=\"none\"/>\n",
              "    <path d=\"M18.56 5.44l.94 2.06.94-2.06 2.06-.94-2.06-.94-.94-2.06-.94 2.06-2.06.94zm-11 1L8.5 8.5l.94-2.06 2.06-.94-2.06-.94L8.5 2.5l-.94 2.06-2.06.94zm10 10l.94 2.06.94-2.06 2.06-.94-2.06-.94-.94-2.06-.94 2.06-2.06.94z\"/><path d=\"M17.41 7.96l-1.37-1.37c-.4-.4-.92-.59-1.43-.59-.52 0-1.04.2-1.43.59L10.3 9.45l-7.72 7.72c-.78.78-.78 2.05 0 2.83L4 21.41c.39.39.9.59 1.41.59.51 0 1.02-.2 1.41-.59l7.78-7.78 2.81-2.81c.8-.78.8-2.07 0-2.86zM5.41 20L4 18.59l7.72-7.72 1.47 1.35L5.41 20z\"/>\n",
              "  </svg>\n",
              "      </button>\n",
              "      \n",
              "  <style>\n",
              "    .colab-df-container {\n",
              "      display:flex;\n",
              "      flex-wrap:wrap;\n",
              "      gap: 12px;\n",
              "    }\n",
              "\n",
              "    .colab-df-convert {\n",
              "      background-color: #E8F0FE;\n",
              "      border: none;\n",
              "      border-radius: 50%;\n",
              "      cursor: pointer;\n",
              "      display: none;\n",
              "      fill: #1967D2;\n",
              "      height: 32px;\n",
              "      padding: 0 0 0 0;\n",
              "      width: 32px;\n",
              "    }\n",
              "\n",
              "    .colab-df-convert:hover {\n",
              "      background-color: #E2EBFA;\n",
              "      box-shadow: 0px 1px 2px rgba(60, 64, 67, 0.3), 0px 1px 3px 1px rgba(60, 64, 67, 0.15);\n",
              "      fill: #174EA6;\n",
              "    }\n",
              "\n",
              "    [theme=dark] .colab-df-convert {\n",
              "      background-color: #3B4455;\n",
              "      fill: #D2E3FC;\n",
              "    }\n",
              "\n",
              "    [theme=dark] .colab-df-convert:hover {\n",
              "      background-color: #434B5C;\n",
              "      box-shadow: 0px 1px 3px 1px rgba(0, 0, 0, 0.15);\n",
              "      filter: drop-shadow(0px 1px 2px rgba(0, 0, 0, 0.3));\n",
              "      fill: #FFFFFF;\n",
              "    }\n",
              "  </style>\n",
              "\n",
              "      <script>\n",
              "        const buttonEl =\n",
              "          document.querySelector('#df-669c8d99-df1d-4018-8a98-8c271a4985b9 button.colab-df-convert');\n",
              "        buttonEl.style.display =\n",
              "          google.colab.kernel.accessAllowed ? 'block' : 'none';\n",
              "\n",
              "        async function convertToInteractive(key) {\n",
              "          const element = document.querySelector('#df-669c8d99-df1d-4018-8a98-8c271a4985b9');\n",
              "          const dataTable =\n",
              "            await google.colab.kernel.invokeFunction('convertToInteractive',\n",
              "                                                     [key], {});\n",
              "          if (!dataTable) return;\n",
              "\n",
              "          const docLinkHtml = 'Like what you see? Visit the ' +\n",
              "            '<a target=\"_blank\" href=https://colab.research.google.com/notebooks/data_table.ipynb>data table notebook</a>'\n",
              "            + ' to learn more about interactive tables.';\n",
              "          element.innerHTML = '';\n",
              "          dataTable['output_type'] = 'display_data';\n",
              "          await google.colab.output.renderOutput(dataTable, element);\n",
              "          const docLink = document.createElement('div');\n",
              "          docLink.innerHTML = docLinkHtml;\n",
              "          element.appendChild(docLink);\n",
              "        }\n",
              "      </script>\n",
              "    </div>\n",
              "  </div>\n",
              "  "
            ],
            "text/plain": [
              "                  Среднее покрытие Доля покрытой области генома\n",
              "Oxford Nanopores            27.120                        0.988\n",
              "PacBio                      47.465                        0.987"
            ]
          },
          "metadata": {},
          "execution_count": 176
        }
      ]
    },
    {
      "cell_type": "markdown",
      "source": [
        "## 2) Процент ошибок"
      ],
      "metadata": {
        "id": "QdbCGdyeFiWU"
      }
    },
    {
      "cell_type": "code",
      "source": [
        "import re"
      ],
      "metadata": {
        "id": "KwCNPwWWKLzi"
      },
      "execution_count": 56,
      "outputs": []
    },
    {
      "cell_type": "markdown",
      "source": [
        "***Oxford Nanopores***"
      ],
      "metadata": {
        "id": "FO9lVbL7LbaX"
      }
    },
    {
      "cell_type": "code",
      "source": [
        "!cat ont_alignment.sam | cut -s -f 6 | grep -v '*' > CIGAR_ont.txt"
      ],
      "metadata": {
        "id": "ZuiRER0BFhpR"
      },
      "execution_count": 49,
      "outputs": []
    },
    {
      "cell_type": "code",
      "source": [
        "def error(file):\n",
        "  with open(file, 'r') as f:\n",
        "    cigarettes = f.readlines()\n",
        "    CIGAR = {\"M\":0, 'S':0, 'H':0, 'D':0,'I':0}\n",
        "  errors = 0\n",
        "  for cigarette in cigarettes:\n",
        "    string = cigarette.rstrip()\n",
        "    matches = re.findall(r'(\\d+)([A-Z]{1})', string)\n",
        "    length = 0\n",
        "    error = 0\n",
        "    for match in matches:\n",
        "        CIGAR[match[1]] += int(match[0])\n",
        "        length += int(match[0])\n",
        "        if match[1] == 'D' or match[1] == 'I' or match[1] == 'X':\n",
        "            error += int(match[0])\n",
        "    if length != 0:\n",
        "        errors += error/length\n",
        "  errors /= len(cigarettes)\n",
        "  print('Процент ошибок')\n",
        "  return round(errors, 3)"
      ],
      "metadata": {
        "id": "pkqT53HcJXea"
      },
      "execution_count": 59,
      "outputs": []
    },
    {
      "cell_type": "code",
      "source": [
        "error('CIGAR_ont.txt')"
      ],
      "metadata": {
        "colab": {
          "base_uri": "https://localhost:8080/"
        },
        "id": "LxLat6aZJz7U",
        "outputId": "c085b680-7ff5-43bd-d488-5b4d2a5c8488"
      },
      "execution_count": 60,
      "outputs": [
        {
          "output_type": "stream",
          "name": "stdout",
          "text": [
            "Процент ошибок\n"
          ]
        },
        {
          "output_type": "execute_result",
          "data": {
            "text/plain": [
              "0.057"
            ]
          },
          "metadata": {},
          "execution_count": 60
        }
      ]
    },
    {
      "cell_type": "markdown",
      "source": [
        "***PacBio***"
      ],
      "metadata": {
        "id": "fKrUXXGeLkP8"
      }
    },
    {
      "cell_type": "code",
      "source": [
        "!cat pacbio_alignment.sam | cut -s -f 6 | grep -v '*' > CIGAR_pacbio.txt"
      ],
      "metadata": {
        "id": "rwWNPn8NI-X6"
      },
      "execution_count": 61,
      "outputs": []
    },
    {
      "cell_type": "code",
      "source": [
        "error('CIGAR_pacbio.txt')"
      ],
      "metadata": {
        "colab": {
          "base_uri": "https://localhost:8080/"
        },
        "id": "aovBRHsvK5rE",
        "outputId": "06c68964-4ecf-48c5-c8b5-81883b8a5ccc"
      },
      "execution_count": 62,
      "outputs": [
        {
          "output_type": "stream",
          "name": "stdout",
          "text": [
            "Процент ошибок\n"
          ]
        },
        {
          "output_type": "execute_result",
          "data": {
            "text/plain": [
              "0.087"
            ]
          },
          "metadata": {},
          "execution_count": 62
        }
      ]
    },
    {
      "cell_type": "code",
      "source": [
        "data = {'Средний процент ошибок':['5.7%',\n",
        "                             '8.7%']}\n",
        "\n",
        "df = pd.DataFrame(data, index =['Oxford Nanopores',\n",
        "                                'PacBio'])\n",
        "df"
      ],
      "metadata": {
        "colab": {
          "base_uri": "https://localhost:8080/",
          "height": 112
        },
        "id": "U1-gGDRILPJ7",
        "outputId": "936205b0-5d94-407a-f71d-82c36ce55dde"
      },
      "execution_count": 21,
      "outputs": [
        {
          "output_type": "execute_result",
          "data": {
            "text/html": [
              "\n",
              "  <div id=\"df-74b87452-f9e4-4247-bd91-d60763972512\">\n",
              "    <div class=\"colab-df-container\">\n",
              "      <div>\n",
              "<style scoped>\n",
              "    .dataframe tbody tr th:only-of-type {\n",
              "        vertical-align: middle;\n",
              "    }\n",
              "\n",
              "    .dataframe tbody tr th {\n",
              "        vertical-align: top;\n",
              "    }\n",
              "\n",
              "    .dataframe thead th {\n",
              "        text-align: right;\n",
              "    }\n",
              "</style>\n",
              "<table border=\"1\" class=\"dataframe\">\n",
              "  <thead>\n",
              "    <tr style=\"text-align: right;\">\n",
              "      <th></th>\n",
              "      <th>Средний процент ошибок</th>\n",
              "    </tr>\n",
              "  </thead>\n",
              "  <tbody>\n",
              "    <tr>\n",
              "      <th>Oxford Nanopores</th>\n",
              "      <td>5.7%</td>\n",
              "    </tr>\n",
              "    <tr>\n",
              "      <th>PacBio</th>\n",
              "      <td>8.7%</td>\n",
              "    </tr>\n",
              "  </tbody>\n",
              "</table>\n",
              "</div>\n",
              "      <button class=\"colab-df-convert\" onclick=\"convertToInteractive('df-74b87452-f9e4-4247-bd91-d60763972512')\"\n",
              "              title=\"Convert this dataframe to an interactive table.\"\n",
              "              style=\"display:none;\">\n",
              "        \n",
              "  <svg xmlns=\"http://www.w3.org/2000/svg\" height=\"24px\"viewBox=\"0 0 24 24\"\n",
              "       width=\"24px\">\n",
              "    <path d=\"M0 0h24v24H0V0z\" fill=\"none\"/>\n",
              "    <path d=\"M18.56 5.44l.94 2.06.94-2.06 2.06-.94-2.06-.94-.94-2.06-.94 2.06-2.06.94zm-11 1L8.5 8.5l.94-2.06 2.06-.94-2.06-.94L8.5 2.5l-.94 2.06-2.06.94zm10 10l.94 2.06.94-2.06 2.06-.94-2.06-.94-.94-2.06-.94 2.06-2.06.94z\"/><path d=\"M17.41 7.96l-1.37-1.37c-.4-.4-.92-.59-1.43-.59-.52 0-1.04.2-1.43.59L10.3 9.45l-7.72 7.72c-.78.78-.78 2.05 0 2.83L4 21.41c.39.39.9.59 1.41.59.51 0 1.02-.2 1.41-.59l7.78-7.78 2.81-2.81c.8-.78.8-2.07 0-2.86zM5.41 20L4 18.59l7.72-7.72 1.47 1.35L5.41 20z\"/>\n",
              "  </svg>\n",
              "      </button>\n",
              "      \n",
              "  <style>\n",
              "    .colab-df-container {\n",
              "      display:flex;\n",
              "      flex-wrap:wrap;\n",
              "      gap: 12px;\n",
              "    }\n",
              "\n",
              "    .colab-df-convert {\n",
              "      background-color: #E8F0FE;\n",
              "      border: none;\n",
              "      border-radius: 50%;\n",
              "      cursor: pointer;\n",
              "      display: none;\n",
              "      fill: #1967D2;\n",
              "      height: 32px;\n",
              "      padding: 0 0 0 0;\n",
              "      width: 32px;\n",
              "    }\n",
              "\n",
              "    .colab-df-convert:hover {\n",
              "      background-color: #E2EBFA;\n",
              "      box-shadow: 0px 1px 2px rgba(60, 64, 67, 0.3), 0px 1px 3px 1px rgba(60, 64, 67, 0.15);\n",
              "      fill: #174EA6;\n",
              "    }\n",
              "\n",
              "    [theme=dark] .colab-df-convert {\n",
              "      background-color: #3B4455;\n",
              "      fill: #D2E3FC;\n",
              "    }\n",
              "\n",
              "    [theme=dark] .colab-df-convert:hover {\n",
              "      background-color: #434B5C;\n",
              "      box-shadow: 0px 1px 3px 1px rgba(0, 0, 0, 0.15);\n",
              "      filter: drop-shadow(0px 1px 2px rgba(0, 0, 0, 0.3));\n",
              "      fill: #FFFFFF;\n",
              "    }\n",
              "  </style>\n",
              "\n",
              "      <script>\n",
              "        const buttonEl =\n",
              "          document.querySelector('#df-74b87452-f9e4-4247-bd91-d60763972512 button.colab-df-convert');\n",
              "        buttonEl.style.display =\n",
              "          google.colab.kernel.accessAllowed ? 'block' : 'none';\n",
              "\n",
              "        async function convertToInteractive(key) {\n",
              "          const element = document.querySelector('#df-74b87452-f9e4-4247-bd91-d60763972512');\n",
              "          const dataTable =\n",
              "            await google.colab.kernel.invokeFunction('convertToInteractive',\n",
              "                                                     [key], {});\n",
              "          if (!dataTable) return;\n",
              "\n",
              "          const docLinkHtml = 'Like what you see? Visit the ' +\n",
              "            '<a target=\"_blank\" href=https://colab.research.google.com/notebooks/data_table.ipynb>data table notebook</a>'\n",
              "            + ' to learn more about interactive tables.';\n",
              "          element.innerHTML = '';\n",
              "          dataTable['output_type'] = 'display_data';\n",
              "          await google.colab.output.renderOutput(dataTable, element);\n",
              "          const docLink = document.createElement('div');\n",
              "          docLink.innerHTML = docLinkHtml;\n",
              "          element.appendChild(docLink);\n",
              "        }\n",
              "      </script>\n",
              "    </div>\n",
              "  </div>\n",
              "  "
            ],
            "text/plain": [
              "                 Средний процент ошибок\n",
              "Oxford Nanopores                   5.7%\n",
              "PacBio                             8.7%"
            ]
          },
          "metadata": {},
          "execution_count": 21
        }
      ]
    },
    {
      "cell_type": "markdown",
      "source": [
        "## 3) Распределение типов замен"
      ],
      "metadata": {
        "id": "q3g16OgqGZ0w"
      }
    },
    {
      "cell_type": "code",
      "source": [
        "!pip install pysam"
      ],
      "metadata": {
        "colab": {
          "base_uri": "https://localhost:8080/"
        },
        "id": "PkqLn5cZSm-r",
        "outputId": "193bcaa6-a510-4003-c2fd-b4a5f487b950"
      },
      "execution_count": 8,
      "outputs": [
        {
          "output_type": "stream",
          "name": "stdout",
          "text": [
            "Collecting pysam\n",
            "  Downloading pysam-0.18.0-cp37-cp37m-manylinux_2_12_x86_64.manylinux2010_x86_64.whl (14.9 MB)\n",
            "\u001b[K     |████████████████████████████████| 14.9 MB 30.6 MB/s \n",
            "\u001b[?25hInstalling collected packages: pysam\n",
            "Successfully installed pysam-0.18.0\n"
          ]
        }
      ]
    },
    {
      "cell_type": "code",
      "source": [
        "import pysam"
      ],
      "metadata": {
        "id": "6P-Ug8z5Rwjw"
      },
      "execution_count": 9,
      "outputs": []
    },
    {
      "cell_type": "code",
      "source": [
        "def nucl_repl(file):\n",
        "  samfile = pysam.AlignmentFile(file, \"r\")\n",
        "  df = pd.DataFrame(np.zeros((4, 4)).astype(int), index = ['A', 'T', 'C', 'G'], columns = ['A', 'T', 'C', 'G'])\n",
        "  pairs = []\n",
        "  for read in samfile.fetch():\n",
        "    if not read.is_unmapped and read.seq is not None:\n",
        "        ref = read.get_reference_sequence()\n",
        "        for read_nucleotide_idx, _, ref_nucleotide in read.get_aligned_pairs(matches_only=True, with_seq=True):\n",
        "                read_nucleotide = read.query[read_nucleotide_idx - read.query_alignment_start].upper()\n",
        "                if read_nucleotide.upper() != ref_nucleotide.upper() and read_nucleotide.upper() != 'N':\n",
        "                    pairs.append([read_nucleotide.upper(), ref_nucleotide.upper()])\n",
        "  df = pd.DataFrame(np.zeros((4, 4)).astype(int), index = ['A', 'T', 'C', 'G'], columns = ['A', 'T', 'C', 'G'])\n",
        "  df.loc['A', 'C'] = pairs.count(['A', 'C'])\n",
        "  df.loc['A', 'G'] = pairs.count(['A', 'G'])\n",
        "  df.loc['A', 'T'] = pairs.count(['A', 'T'])\n",
        "  df.loc['C', 'A'] = pairs.count(['C', 'A'])\n",
        "  df.loc['C', 'G'] = pairs.count(['C', 'G'])\n",
        "  df.loc['C', 'T'] = pairs.count(['C', 'T']) \n",
        "  df.loc['G', 'A'] = pairs.count(['G', 'A'])\n",
        "  df.loc['G', 'C'] = pairs.count(['G', 'C'])\n",
        "  df.loc['G', 'T'] = pairs.count(['G', 'T'])\n",
        "  df.loc['T', 'A'] = pairs.count(['T', 'A'])\n",
        "  df.loc['T', 'C'] = pairs.count(['T', 'C'])\n",
        "  df.loc['T', 'G'] = pairs.count(['T', 'G'])\n",
        "\n",
        "  return df "
      ],
      "metadata": {
        "id": "ZNoDRjI9RY1c"
      },
      "execution_count": 10,
      "outputs": []
    },
    {
      "cell_type": "markdown",
      "source": [
        "***Oxford Nanopores***"
      ],
      "metadata": {
        "id": "vc99a18mLc6_"
      }
    },
    {
      "cell_type": "code",
      "source": [
        "nucl_repl('ont_alignment.sam')"
      ],
      "metadata": {
        "colab": {
          "base_uri": "https://localhost:8080/",
          "height": 175
        },
        "id": "vGaz8gymOK8o",
        "outputId": "96edac37-add2-46c9-acd2-b5e36de57b1c"
      },
      "execution_count": 17,
      "outputs": [
        {
          "output_type": "execute_result",
          "data": {
            "text/html": [
              "\n",
              "  <div id=\"df-b08a3008-8991-4716-a634-fa118c5cdfea\">\n",
              "    <div class=\"colab-df-container\">\n",
              "      <div>\n",
              "<style scoped>\n",
              "    .dataframe tbody tr th:only-of-type {\n",
              "        vertical-align: middle;\n",
              "    }\n",
              "\n",
              "    .dataframe tbody tr th {\n",
              "        vertical-align: top;\n",
              "    }\n",
              "\n",
              "    .dataframe thead th {\n",
              "        text-align: right;\n",
              "    }\n",
              "</style>\n",
              "<table border=\"1\" class=\"dataframe\">\n",
              "  <thead>\n",
              "    <tr style=\"text-align: right;\">\n",
              "      <th></th>\n",
              "      <th>A</th>\n",
              "      <th>T</th>\n",
              "      <th>C</th>\n",
              "      <th>G</th>\n",
              "    </tr>\n",
              "  </thead>\n",
              "  <tbody>\n",
              "    <tr>\n",
              "      <th>A</th>\n",
              "      <td>0</td>\n",
              "      <td>107765</td>\n",
              "      <td>137046</td>\n",
              "      <td>319761</td>\n",
              "    </tr>\n",
              "    <tr>\n",
              "      <th>T</th>\n",
              "      <td>105373</td>\n",
              "      <td>0</td>\n",
              "      <td>340675</td>\n",
              "      <td>126487</td>\n",
              "    </tr>\n",
              "    <tr>\n",
              "      <th>C</th>\n",
              "      <td>112963</td>\n",
              "      <td>372780</td>\n",
              "      <td>0</td>\n",
              "      <td>91353</td>\n",
              "    </tr>\n",
              "    <tr>\n",
              "      <th>G</th>\n",
              "      <td>368487</td>\n",
              "      <td>111447</td>\n",
              "      <td>85027</td>\n",
              "      <td>0</td>\n",
              "    </tr>\n",
              "  </tbody>\n",
              "</table>\n",
              "</div>\n",
              "      <button class=\"colab-df-convert\" onclick=\"convertToInteractive('df-b08a3008-8991-4716-a634-fa118c5cdfea')\"\n",
              "              title=\"Convert this dataframe to an interactive table.\"\n",
              "              style=\"display:none;\">\n",
              "        \n",
              "  <svg xmlns=\"http://www.w3.org/2000/svg\" height=\"24px\"viewBox=\"0 0 24 24\"\n",
              "       width=\"24px\">\n",
              "    <path d=\"M0 0h24v24H0V0z\" fill=\"none\"/>\n",
              "    <path d=\"M18.56 5.44l.94 2.06.94-2.06 2.06-.94-2.06-.94-.94-2.06-.94 2.06-2.06.94zm-11 1L8.5 8.5l.94-2.06 2.06-.94-2.06-.94L8.5 2.5l-.94 2.06-2.06.94zm10 10l.94 2.06.94-2.06 2.06-.94-2.06-.94-.94-2.06-.94 2.06-2.06.94z\"/><path d=\"M17.41 7.96l-1.37-1.37c-.4-.4-.92-.59-1.43-.59-.52 0-1.04.2-1.43.59L10.3 9.45l-7.72 7.72c-.78.78-.78 2.05 0 2.83L4 21.41c.39.39.9.59 1.41.59.51 0 1.02-.2 1.41-.59l7.78-7.78 2.81-2.81c.8-.78.8-2.07 0-2.86zM5.41 20L4 18.59l7.72-7.72 1.47 1.35L5.41 20z\"/>\n",
              "  </svg>\n",
              "      </button>\n",
              "      \n",
              "  <style>\n",
              "    .colab-df-container {\n",
              "      display:flex;\n",
              "      flex-wrap:wrap;\n",
              "      gap: 12px;\n",
              "    }\n",
              "\n",
              "    .colab-df-convert {\n",
              "      background-color: #E8F0FE;\n",
              "      border: none;\n",
              "      border-radius: 50%;\n",
              "      cursor: pointer;\n",
              "      display: none;\n",
              "      fill: #1967D2;\n",
              "      height: 32px;\n",
              "      padding: 0 0 0 0;\n",
              "      width: 32px;\n",
              "    }\n",
              "\n",
              "    .colab-df-convert:hover {\n",
              "      background-color: #E2EBFA;\n",
              "      box-shadow: 0px 1px 2px rgba(60, 64, 67, 0.3), 0px 1px 3px 1px rgba(60, 64, 67, 0.15);\n",
              "      fill: #174EA6;\n",
              "    }\n",
              "\n",
              "    [theme=dark] .colab-df-convert {\n",
              "      background-color: #3B4455;\n",
              "      fill: #D2E3FC;\n",
              "    }\n",
              "\n",
              "    [theme=dark] .colab-df-convert:hover {\n",
              "      background-color: #434B5C;\n",
              "      box-shadow: 0px 1px 3px 1px rgba(0, 0, 0, 0.15);\n",
              "      filter: drop-shadow(0px 1px 2px rgba(0, 0, 0, 0.3));\n",
              "      fill: #FFFFFF;\n",
              "    }\n",
              "  </style>\n",
              "\n",
              "      <script>\n",
              "        const buttonEl =\n",
              "          document.querySelector('#df-b08a3008-8991-4716-a634-fa118c5cdfea button.colab-df-convert');\n",
              "        buttonEl.style.display =\n",
              "          google.colab.kernel.accessAllowed ? 'block' : 'none';\n",
              "\n",
              "        async function convertToInteractive(key) {\n",
              "          const element = document.querySelector('#df-b08a3008-8991-4716-a634-fa118c5cdfea');\n",
              "          const dataTable =\n",
              "            await google.colab.kernel.invokeFunction('convertToInteractive',\n",
              "                                                     [key], {});\n",
              "          if (!dataTable) return;\n",
              "\n",
              "          const docLinkHtml = 'Like what you see? Visit the ' +\n",
              "            '<a target=\"_blank\" href=https://colab.research.google.com/notebooks/data_table.ipynb>data table notebook</a>'\n",
              "            + ' to learn more about interactive tables.';\n",
              "          element.innerHTML = '';\n",
              "          dataTable['output_type'] = 'display_data';\n",
              "          await google.colab.output.renderOutput(dataTable, element);\n",
              "          const docLink = document.createElement('div');\n",
              "          docLink.innerHTML = docLinkHtml;\n",
              "          element.appendChild(docLink);\n",
              "        }\n",
              "      </script>\n",
              "    </div>\n",
              "  </div>\n",
              "  "
            ],
            "text/plain": [
              "        A       T       C       G\n",
              "A       0  107765  137046  319761\n",
              "T  105373       0  340675  126487\n",
              "C  112963  372780       0   91353\n",
              "G  368487  111447   85027       0"
            ]
          },
          "metadata": {},
          "execution_count": 17
        }
      ]
    },
    {
      "cell_type": "markdown",
      "source": [
        "***PacBio***"
      ],
      "metadata": {
        "id": "ePUfnRUTLlST"
      }
    },
    {
      "cell_type": "code",
      "source": [
        "nucl_repl('pacbio_alignment.sam')"
      ],
      "metadata": {
        "colab": {
          "base_uri": "https://localhost:8080/",
          "height": 175
        },
        "id": "lp22fRs-ENWs",
        "outputId": "af23fd9f-4da8-4df3-f1be-52e7dbb041e6"
      },
      "execution_count": 20,
      "outputs": [
        {
          "output_type": "execute_result",
          "data": {
            "text/html": [
              "\n",
              "  <div id=\"df-756c4360-fca0-4c1c-9839-019a75a85756\">\n",
              "    <div class=\"colab-df-container\">\n",
              "      <div>\n",
              "<style scoped>\n",
              "    .dataframe tbody tr th:only-of-type {\n",
              "        vertical-align: middle;\n",
              "    }\n",
              "\n",
              "    .dataframe tbody tr th {\n",
              "        vertical-align: top;\n",
              "    }\n",
              "\n",
              "    .dataframe thead th {\n",
              "        text-align: right;\n",
              "    }\n",
              "</style>\n",
              "<table border=\"1\" class=\"dataframe\">\n",
              "  <thead>\n",
              "    <tr style=\"text-align: right;\">\n",
              "      <th></th>\n",
              "      <th>A</th>\n",
              "      <th>T</th>\n",
              "      <th>C</th>\n",
              "      <th>G</th>\n",
              "    </tr>\n",
              "  </thead>\n",
              "  <tbody>\n",
              "    <tr>\n",
              "      <th>A</th>\n",
              "      <td>0</td>\n",
              "      <td>285699</td>\n",
              "      <td>457338</td>\n",
              "      <td>322254</td>\n",
              "    </tr>\n",
              "    <tr>\n",
              "      <th>T</th>\n",
              "      <td>285427</td>\n",
              "      <td>0</td>\n",
              "      <td>321990</td>\n",
              "      <td>450152</td>\n",
              "    </tr>\n",
              "    <tr>\n",
              "      <th>C</th>\n",
              "      <td>354487</td>\n",
              "      <td>309393</td>\n",
              "      <td>0</td>\n",
              "      <td>415583</td>\n",
              "    </tr>\n",
              "    <tr>\n",
              "      <th>G</th>\n",
              "      <td>307539</td>\n",
              "      <td>359744</td>\n",
              "      <td>414331</td>\n",
              "      <td>0</td>\n",
              "    </tr>\n",
              "  </tbody>\n",
              "</table>\n",
              "</div>\n",
              "      <button class=\"colab-df-convert\" onclick=\"convertToInteractive('df-756c4360-fca0-4c1c-9839-019a75a85756')\"\n",
              "              title=\"Convert this dataframe to an interactive table.\"\n",
              "              style=\"display:none;\">\n",
              "        \n",
              "  <svg xmlns=\"http://www.w3.org/2000/svg\" height=\"24px\"viewBox=\"0 0 24 24\"\n",
              "       width=\"24px\">\n",
              "    <path d=\"M0 0h24v24H0V0z\" fill=\"none\"/>\n",
              "    <path d=\"M18.56 5.44l.94 2.06.94-2.06 2.06-.94-2.06-.94-.94-2.06-.94 2.06-2.06.94zm-11 1L8.5 8.5l.94-2.06 2.06-.94-2.06-.94L8.5 2.5l-.94 2.06-2.06.94zm10 10l.94 2.06.94-2.06 2.06-.94-2.06-.94-.94-2.06-.94 2.06-2.06.94z\"/><path d=\"M17.41 7.96l-1.37-1.37c-.4-.4-.92-.59-1.43-.59-.52 0-1.04.2-1.43.59L10.3 9.45l-7.72 7.72c-.78.78-.78 2.05 0 2.83L4 21.41c.39.39.9.59 1.41.59.51 0 1.02-.2 1.41-.59l7.78-7.78 2.81-2.81c.8-.78.8-2.07 0-2.86zM5.41 20L4 18.59l7.72-7.72 1.47 1.35L5.41 20z\"/>\n",
              "  </svg>\n",
              "      </button>\n",
              "      \n",
              "  <style>\n",
              "    .colab-df-container {\n",
              "      display:flex;\n",
              "      flex-wrap:wrap;\n",
              "      gap: 12px;\n",
              "    }\n",
              "\n",
              "    .colab-df-convert {\n",
              "      background-color: #E8F0FE;\n",
              "      border: none;\n",
              "      border-radius: 50%;\n",
              "      cursor: pointer;\n",
              "      display: none;\n",
              "      fill: #1967D2;\n",
              "      height: 32px;\n",
              "      padding: 0 0 0 0;\n",
              "      width: 32px;\n",
              "    }\n",
              "\n",
              "    .colab-df-convert:hover {\n",
              "      background-color: #E2EBFA;\n",
              "      box-shadow: 0px 1px 2px rgba(60, 64, 67, 0.3), 0px 1px 3px 1px rgba(60, 64, 67, 0.15);\n",
              "      fill: #174EA6;\n",
              "    }\n",
              "\n",
              "    [theme=dark] .colab-df-convert {\n",
              "      background-color: #3B4455;\n",
              "      fill: #D2E3FC;\n",
              "    }\n",
              "\n",
              "    [theme=dark] .colab-df-convert:hover {\n",
              "      background-color: #434B5C;\n",
              "      box-shadow: 0px 1px 3px 1px rgba(0, 0, 0, 0.15);\n",
              "      filter: drop-shadow(0px 1px 2px rgba(0, 0, 0, 0.3));\n",
              "      fill: #FFFFFF;\n",
              "    }\n",
              "  </style>\n",
              "\n",
              "      <script>\n",
              "        const buttonEl =\n",
              "          document.querySelector('#df-756c4360-fca0-4c1c-9839-019a75a85756 button.colab-df-convert');\n",
              "        buttonEl.style.display =\n",
              "          google.colab.kernel.accessAllowed ? 'block' : 'none';\n",
              "\n",
              "        async function convertToInteractive(key) {\n",
              "          const element = document.querySelector('#df-756c4360-fca0-4c1c-9839-019a75a85756');\n",
              "          const dataTable =\n",
              "            await google.colab.kernel.invokeFunction('convertToInteractive',\n",
              "                                                     [key], {});\n",
              "          if (!dataTable) return;\n",
              "\n",
              "          const docLinkHtml = 'Like what you see? Visit the ' +\n",
              "            '<a target=\"_blank\" href=https://colab.research.google.com/notebooks/data_table.ipynb>data table notebook</a>'\n",
              "            + ' to learn more about interactive tables.';\n",
              "          element.innerHTML = '';\n",
              "          dataTable['output_type'] = 'display_data';\n",
              "          await google.colab.output.renderOutput(dataTable, element);\n",
              "          const docLink = document.createElement('div');\n",
              "          docLink.innerHTML = docLinkHtml;\n",
              "          element.appendChild(docLink);\n",
              "        }\n",
              "      </script>\n",
              "    </div>\n",
              "  </div>\n",
              "  "
            ],
            "text/plain": [
              "        A       T       C       G\n",
              "A       0  285699  457338  322254\n",
              "T  285427       0  321990  450152\n",
              "C  354487  309393       0  415583\n",
              "G  307539  359744  414331       0"
            ]
          },
          "metadata": {},
          "execution_count": 20
        }
      ]
    },
    {
      "cell_type": "markdown",
      "source": [
        "## 4) Распределение длин инделов"
      ],
      "metadata": {
        "id": "__zFwuxnGcPH"
      }
    },
    {
      "cell_type": "markdown",
      "source": [
        "***Oxford Nanopores***"
      ],
      "metadata": {
        "id": "GPBqYOPJLd6h"
      }
    },
    {
      "cell_type": "code",
      "source": [
        "!samtools stats ont_alignment_sorted.bam | grep ID > ont_stats.txt"
      ],
      "metadata": {
        "id": "rXhKwJqjMLym"
      },
      "execution_count": 36,
      "outputs": []
    },
    {
      "cell_type": "code",
      "source": [
        "!head ont_stats.txt"
      ],
      "metadata": {
        "colab": {
          "base_uri": "https://localhost:8080/"
        },
        "id": "1cUn3DoKN1iD",
        "outputId": "9b9f3c69-73c9-4246-fb12-ba312e29189c"
      },
      "execution_count": 85,
      "outputs": [
        {
          "output_type": "stream",
          "name": "stdout",
          "text": [
            "# Indel distribution. Use `grep ^ID | cut -f 2-` to extract this part. The columns are: length, number of insertions, number of deletions\n",
            "ID\t1\t525344\t1897085\n",
            "ID\t2\t207341\t758942\n",
            "ID\t3\t81779\t368504\n",
            "ID\t4\t31719\t145775\n",
            "ID\t5\t14057\t71921\n",
            "ID\t6\t6762\t41815\n",
            "ID\t7\t3555\t22268\n",
            "ID\t8\t1995\t13439\n",
            "ID\t9\t1186\t9334\n"
          ]
        }
      ]
    },
    {
      "cell_type": "code",
      "source": [
        "def indel(file):\n",
        "  with open(file, 'r') as f:\n",
        "    l = [line.strip() for line in f]\n",
        "    IS = [0] * (len(l) - 1)\n",
        "    COUNT = [0] * (len(l) - 1)\n",
        "    sum_DEL = 0\n",
        "    count_DEL = 0\n",
        "    sum_INS = 0\n",
        "    count_INS = 0\n",
        "    for i in range(1, len(l)):\n",
        "      a = l[i].split('\\t')\n",
        "      IS[i - 1] = int(a[1])\n",
        "      sum_DEL += int(a[1]) * int(a[2])\n",
        "      sum_INS += int(a[1]) * int(a[3])\n",
        "      count_DEL += int(a[2])\n",
        "      count_INS += int(a[3])\n",
        "      COUNT[i - 1] = int(a[2]) + int(a[3])\n",
        "  mean_DEL = sum_DEL / count_DEL\n",
        "  mean_INS = sum_INS / count_INS\n",
        "  print(f'Средняя длина делеции = {round(mean_DEL, 3)}', f'Средняя длина вставки = {round(mean_INS, 3)}')\n",
        "  df = pd.DataFrame()\n",
        "  df['indel size'] = IS\n",
        "  df['count'] = COUNT\n",
        "  graph = sns.lineplot(data=df, x=df['indel size'], y=df['count'])\n",
        "  return graph"
      ],
      "metadata": {
        "id": "8rM5Nb2bGkzX"
      },
      "execution_count": 128,
      "outputs": []
    },
    {
      "cell_type": "code",
      "source": [
        "def indelcut(file):\n",
        "  with open(file, 'r') as f:\n",
        "    l = [line.strip() for line in f]\n",
        "    IS = [0] * (len(l) - 1)\n",
        "    COUNT = [0] * (len(l) - 1)\n",
        "    sum_DEL = 0\n",
        "    count_DEL = 0\n",
        "    sum_INS = 0\n",
        "    count_INS = 0\n",
        "    for i in range(11, 27):\n",
        "      a = l[i].split('\\t')\n",
        "      IS[i - 1] = int(a[1])\n",
        "      sum_DEL += int(a[1]) * int(a[2])\n",
        "      sum_INS += int(a[1]) * int(a[3])\n",
        "      count_DEL += int(a[2])\n",
        "      count_INS += int(a[3])\n",
        "      COUNT[i - 1] = int(a[2]) + int(a[3])\n",
        "  mean_DEL = sum_DEL / count_DEL\n",
        "  mean_INS = sum_INS / count_INS\n",
        "  print(f'Средняя длина делеции = {round(mean_DEL, 3)}', f'Средняя длина вставки = {round(mean_INS, 3)}')\n",
        "  df = pd.DataFrame()\n",
        "  df['indel size'] = IS\n",
        "  df['count'] = COUNT\n",
        "  graph = sns.lineplot(data=df, x=df['indel size'], y=df['count'])\n",
        "  return graph"
      ],
      "metadata": {
        "id": "Kf0k16NhMMqF"
      },
      "execution_count": 129,
      "outputs": []
    },
    {
      "cell_type": "code",
      "source": [
        "indel('ont_stats.txt')"
      ],
      "metadata": {
        "colab": {
          "base_uri": "https://localhost:8080/",
          "height": 325
        },
        "id": "LLnhXdpCOHOn",
        "outputId": "0c2f6ce9-1eee-498b-d9df-7b2d05872a4f"
      },
      "execution_count": 130,
      "outputs": [
        {
          "output_type": "stream",
          "name": "stdout",
          "text": [
            "Средняя длина делеции = 1.727 Средняя длина вставки = 1.884\n"
          ]
        },
        {
          "output_type": "execute_result",
          "data": {
            "text/plain": [
              "<matplotlib.axes._subplots.AxesSubplot at 0x7f0decc6c410>"
            ]
          },
          "metadata": {},
          "execution_count": 130
        },
        {
          "output_type": "display_data",
          "data": {
            "image/png": "[encoded data removed]",
            "text/plain": [
              "<Figure size 432x288 with 1 Axes>"
            ]
          },
          "metadata": {
            "needs_background": "light"
          }
        }
      ]
    },
    {
      "cell_type": "markdown",
      "source": [
        "Поскольку основной объём значений приходится на маленькие (0-5) размеры делеций и вставок, что можно сказать как по head, так по графику и средней длине, то отобразим промежуточную часть между резким падением в начале и почти постоянным значением (1-2) в конце, а именно размеры 10-25"
      ],
      "metadata": {
        "id": "hYQOeGr8OZgo"
      }
    },
    {
      "cell_type": "code",
      "source": [
        "indelcut('ont_stats.txt')"
      ],
      "metadata": {
        "colab": {
          "base_uri": "https://localhost:8080/",
          "height": 314
        },
        "id": "lO6SnAPOMR8G",
        "outputId": "87e0cf0d-9798-4f82-dd33-b97131fc0dff"
      },
      "execution_count": 131,
      "outputs": [
        {
          "output_type": "stream",
          "name": "stdout",
          "text": [
            "Средняя длина делеции = 12.886 Средняя длина вставки = 13.395\n"
          ]
        },
        {
          "output_type": "execute_result",
          "data": {
            "text/plain": [
              "<matplotlib.axes._subplots.AxesSubplot at 0x7f0decd586d0>"
            ]
          },
          "metadata": {},
          "execution_count": 131
        },
        {
          "output_type": "display_data",
          "data": {
            "image/png": "[encoded data removed]",
            "text/plain": [
              "<Figure size 432x288 with 1 Axes>"
            ]
          },
          "metadata": {
            "needs_background": "light"
          }
        }
      ]
    },
    {
      "cell_type": "markdown",
      "source": [
        "***PacBio***"
      ],
      "metadata": {
        "id": "8g4fC5HNLnNf"
      }
    },
    {
      "cell_type": "code",
      "source": [
        "!samtools stats pacbio_alignment_sorted.bam | grep ID > pacbio_stats.txt"
      ],
      "metadata": {
        "id": "vp4enmSjPZYW"
      },
      "execution_count": 108,
      "outputs": []
    },
    {
      "cell_type": "code",
      "source": [
        "!head pacbio_stats.txt"
      ],
      "metadata": {
        "colab": {
          "base_uri": "https://localhost:8080/"
        },
        "id": "ktjSA6euPfBE",
        "outputId": "09105134-0c31-49b2-e3c9-25c80b2dd5c2"
      },
      "execution_count": 123,
      "outputs": [
        {
          "output_type": "stream",
          "name": "stdout",
          "text": [
            "# Indel distribution. Use `grep ^ID | cut -f 2-` to extract this part. The columns are: length, number of insertions, number of deletions\n",
            "ID\t1\t8002082\t5017580\n",
            "ID\t2\t1669491\t657032\n",
            "ID\t3\t489159\t113130\n",
            "ID\t4\t193685\t32598\n",
            "ID\t5\t95802\t12624\n",
            "ID\t6\t52842\t5682\n",
            "ID\t7\t32569\t3276\n",
            "ID\t8\t20722\t1984\n",
            "ID\t9\t13803\t1268\n"
          ]
        }
      ]
    },
    {
      "cell_type": "code",
      "source": [
        "def indelcut(file):\n",
        "  with open(file, 'r') as f:\n",
        "    l = [line.strip() for line in f]\n",
        "    IS = [0] * (len(l) - 1)\n",
        "    COUNT = [0] * (len(l) - 1)\n",
        "    sum_DEL = 0\n",
        "    count_DEL = 0\n",
        "    sum_INS = 0\n",
        "    count_INS = 0\n",
        "    for i in range(17, 100):\n",
        "      a = l[i].split('\\t')\n",
        "      IS[i - 1] = int(a[1])\n",
        "      sum_DEL += int(a[1]) * int(a[2])\n",
        "      sum_INS += int(a[1]) * int(a[3])\n",
        "      count_DEL += int(a[2])\n",
        "      count_INS += int(a[3])\n",
        "      COUNT[i - 1] = int(a[2]) + int(a[3])\n",
        "  mean_DEL = sum_DEL / count_DEL\n",
        "  mean_INS = sum_INS / count_INS\n",
        "  print(f'Средняя длина делеции = {round(mean_DEL, 3)}', f'Средняя длина вставки = {round(mean_INS, 3)}')\n",
        "  df = pd.DataFrame()\n",
        "  df['indel size'] = IS\n",
        "  df['count'] = COUNT\n",
        "  graph = sns.lineplot(data=df, x=df['indel size'], y=df['count'])\n",
        "  return graph"
      ],
      "metadata": {
        "id": "1YPaGEv4PwMR"
      },
      "execution_count": 135,
      "outputs": []
    },
    {
      "cell_type": "code",
      "source": [
        "indel('pacbio_stats.txt')"
      ],
      "metadata": {
        "colab": {
          "base_uri": "https://localhost:8080/",
          "height": 325
        },
        "id": "I24a3GzSPh8K",
        "outputId": "10452a6d-1a00-42a8-c2d8-992fc06b0b00"
      },
      "execution_count": 133,
      "outputs": [
        {
          "output_type": "stream",
          "name": "stdout",
          "text": [
            "Средняя длина делеции = 1.508 Средняя длина вставки = 1.199\n"
          ]
        },
        {
          "output_type": "execute_result",
          "data": {
            "text/plain": [
              "<matplotlib.axes._subplots.AxesSubplot at 0x7f0decb1b0d0>"
            ]
          },
          "metadata": {},
          "execution_count": 133
        },
        {
          "output_type": "display_data",
          "data": {
            "image/png": "[encoded data removed]",
            "text/plain": [
              "<Figure size 432x288 with 1 Axes>"
            ]
          },
          "metadata": {
            "needs_background": "light"
          }
        }
      ]
    },
    {
      "cell_type": "markdown",
      "source": [
        "В этом файле бОльшие срезы дают достаточно информации. Например, то значения 20 резкое падение, а затем спуск по кочкам. Дальнейшее увеличение рамки сглаживает неровности, становится менее интересно."
      ],
      "metadata": {
        "id": "ujKxEDIcQmJC"
      }
    },
    {
      "cell_type": "code",
      "source": [
        "indelcut('pacbio_stats.txt')"
      ],
      "metadata": {
        "colab": {
          "base_uri": "https://localhost:8080/",
          "height": 314
        },
        "id": "dOnuxDqMPmCn",
        "outputId": "bd5f93d2-a033-4527-b52e-6d59800e382f"
      },
      "execution_count": 136,
      "outputs": [
        {
          "output_type": "stream",
          "name": "stdout",
          "text": [
            "Средняя длина делеции = 34.329 Средняя длина вставки = 34.042\n"
          ]
        },
        {
          "output_type": "execute_result",
          "data": {
            "text/plain": [
              "<matplotlib.axes._subplots.AxesSubplot at 0x7f0dee260050>"
            ]
          },
          "metadata": {},
          "execution_count": 136
        },
        {
          "output_type": "display_data",
          "data": {
            "image/png": "[encoded data removed]",
            "text/plain": [
              "<Figure size 432x288 with 1 Axes>"
            ]
          },
          "metadata": {
            "needs_background": "light"
          }
        }
      ]
    },
    {
      "cell_type": "markdown",
      "source": [
        "## Сравнение результатов\n",
        "\n",
        "У PacBio, вероятно, в силу того, что среднее покрытие больше, более интересен график распределение инделов. Вообще у PacBio при большем количестве ридов большее их приложение и прочее. В обоих случаях инделы сосредоточены в районе длины 1-2, а дальше количество падает."
      ],
      "metadata": {
        "id": "xWZt00wYiLAf"
      }
    },
    {
      "cell_type": "code",
      "source": [
        ""
      ],
      "metadata": {
        "id": "cxHle2gfinyQ"
      },
      "execution_count": null,
      "outputs": []
    }
  ]
}