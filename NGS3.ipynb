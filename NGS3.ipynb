{
  "nbformat": 4,
  "nbformat_minor": 0,
  "metadata": {
    "colab": {
      "name": "NGS3.ipynb",
      "provenance": [],
      "collapsed_sections": [],
      "authorship_tag": "ABX9TyN0nSsay6IekX1o29NVSbTF",
      "include_colab_link": true
    },
    "kernelspec": {
      "name": "python3",
      "display_name": "Python 3"
    },
    "language_info": {
      "name": "python"
    }
  },
  "cells": [
    {
      "cell_type": "markdown",
      "metadata": {
        "id": "view-in-github",
        "colab_type": "text"
      },
      "source": [
        "<a href=\"https://colab.research.google.com/github/ainesko/NGS-HW/blob/main/NGS3.ipynb\" target=\"_parent\"><img src=\"https://colab.research.google.com/assets/colab-badge.svg\" alt=\"Open In Colab\"/></a>"
      ]
    },
    {
      "cell_type": "markdown",
      "source": [
        "# Результаты\n",
        "\n",
        "\n",
        "*   Покрытие генома\n",
        "*   Процент ошибок\n",
        "*   Распределение типов замен\n",
        "*   Распределение длин инделов\n",
        "\n"
      ],
      "metadata": {
        "id": "i12tGnNzNLI1"
      }
    },
    {
      "cell_type": "code",
      "source": [
        "data = {'Среднее покрытие':[28.325,\n",
        "                             40.052],\n",
        "        \n",
        "        'Доля покрытой области генома':['100%',\n",
        "                              '100%'],\n",
        "        \n",
        "        'Процент ошибок':['7.93%',\n",
        "                              '10.39%'],\n",
        "        \n",
        "        'Средняя длина делеции':[1.727,\n",
        "                             1.555],\n",
        "        \n",
        "        'Средняя длина вставки':[1.884,\n",
        "                             1.2]}\n",
        "\n",
        "df = pd.DataFrame(data, index =['Oxford Nanopores',\n",
        "                                'PacBio'])\n",
        "df"
      ],
      "metadata": {
        "colab": {
          "base_uri": "https://localhost:8080/",
          "height": 112
        },
        "id": "bF_DILDN7Nrc",
        "outputId": "304433ca-0f0c-455a-85e0-09e4a0559c61"
      },
      "execution_count": 60,
      "outputs": [
        {
          "output_type": "execute_result",
          "data": {
            "text/plain": [
              "                  Среднее покрытие Доля покрытой области генома  \\\n",
              "Oxford Nanopores            28.325                         100%   \n",
              "PacBio                      40.052                         100%   \n",
              "\n",
              "                 Процент ошибок  Средняя длина делеции  Средняя длина вставки  \n",
              "Oxford Nanopores          7.93%                  1.727                  1.884  \n",
              "PacBio                   10.39%                  1.555                  1.200  "
            ],
            "text/html": [
              "\n",
              "  <div id=\"df-971ce528-eb9a-43ce-b2af-c3ca9ad2658f\">\n",
              "    <div class=\"colab-df-container\">\n",
              "      <div>\n",
              "<style scoped>\n",
              "    .dataframe tbody tr th:only-of-type {\n",
              "        vertical-align: middle;\n",
              "    }\n",
              "\n",
              "    .dataframe tbody tr th {\n",
              "        vertical-align: top;\n",
              "    }\n",
              "\n",
              "    .dataframe thead th {\n",
              "        text-align: right;\n",
              "    }\n",
              "</style>\n",
              "<table border=\"1\" class=\"dataframe\">\n",
              "  <thead>\n",
              "    <tr style=\"text-align: right;\">\n",
              "      <th></th>\n",
              "      <th>Среднее покрытие</th>\n",
              "      <th>Доля покрытой области генома</th>\n",
              "      <th>Процент ошибок</th>\n",
              "      <th>Средняя длина делеции</th>\n",
              "      <th>Средняя длина вставки</th>\n",
              "    </tr>\n",
              "  </thead>\n",
              "  <tbody>\n",
              "    <tr>\n",
              "      <th>Oxford Nanopores</th>\n",
              "      <td>28.325</td>\n",
              "      <td>100%</td>\n",
              "      <td>7.93%</td>\n",
              "      <td>1.727</td>\n",
              "      <td>1.884</td>\n",
              "    </tr>\n",
              "    <tr>\n",
              "      <th>PacBio</th>\n",
              "      <td>40.052</td>\n",
              "      <td>100%</td>\n",
              "      <td>10.39%</td>\n",
              "      <td>1.555</td>\n",
              "      <td>1.200</td>\n",
              "    </tr>\n",
              "  </tbody>\n",
              "</table>\n",
              "</div>\n",
              "      <button class=\"colab-df-convert\" onclick=\"convertToInteractive('df-971ce528-eb9a-43ce-b2af-c3ca9ad2658f')\"\n",
              "              title=\"Convert this dataframe to an interactive table.\"\n",
              "              style=\"display:none;\">\n",
              "        \n",
              "  <svg xmlns=\"http://www.w3.org/2000/svg\" height=\"24px\"viewBox=\"0 0 24 24\"\n",
              "       width=\"24px\">\n",
              "    <path d=\"M0 0h24v24H0V0z\" fill=\"none\"/>\n",
              "    <path d=\"M18.56 5.44l.94 2.06.94-2.06 2.06-.94-2.06-.94-.94-2.06-.94 2.06-2.06.94zm-11 1L8.5 8.5l.94-2.06 2.06-.94-2.06-.94L8.5 2.5l-.94 2.06-2.06.94zm10 10l.94 2.06.94-2.06 2.06-.94-2.06-.94-.94-2.06-.94 2.06-2.06.94z\"/><path d=\"M17.41 7.96l-1.37-1.37c-.4-.4-.92-.59-1.43-.59-.52 0-1.04.2-1.43.59L10.3 9.45l-7.72 7.72c-.78.78-.78 2.05 0 2.83L4 21.41c.39.39.9.59 1.41.59.51 0 1.02-.2 1.41-.59l7.78-7.78 2.81-2.81c.8-.78.8-2.07 0-2.86zM5.41 20L4 18.59l7.72-7.72 1.47 1.35L5.41 20z\"/>\n",
              "  </svg>\n",
              "      </button>\n",
              "      \n",
              "  <style>\n",
              "    .colab-df-container {\n",
              "      display:flex;\n",
              "      flex-wrap:wrap;\n",
              "      gap: 12px;\n",
              "    }\n",
              "\n",
              "    .colab-df-convert {\n",
              "      background-color: #E8F0FE;\n",
              "      border: none;\n",
              "      border-radius: 50%;\n",
              "      cursor: pointer;\n",
              "      display: none;\n",
              "      fill: #1967D2;\n",
              "      height: 32px;\n",
              "      padding: 0 0 0 0;\n",
              "      width: 32px;\n",
              "    }\n",
              "\n",
              "    .colab-df-convert:hover {\n",
              "      background-color: #E2EBFA;\n",
              "      box-shadow: 0px 1px 2px rgba(60, 64, 67, 0.3), 0px 1px 3px 1px rgba(60, 64, 67, 0.15);\n",
              "      fill: #174EA6;\n",
              "    }\n",
              "\n",
              "    [theme=dark] .colab-df-convert {\n",
              "      background-color: #3B4455;\n",
              "      fill: #D2E3FC;\n",
              "    }\n",
              "\n",
              "    [theme=dark] .colab-df-convert:hover {\n",
              "      background-color: #434B5C;\n",
              "      box-shadow: 0px 1px 3px 1px rgba(0, 0, 0, 0.15);\n",
              "      filter: drop-shadow(0px 1px 2px rgba(0, 0, 0, 0.3));\n",
              "      fill: #FFFFFF;\n",
              "    }\n",
              "  </style>\n",
              "\n",
              "      <script>\n",
              "        const buttonEl =\n",
              "          document.querySelector('#df-971ce528-eb9a-43ce-b2af-c3ca9ad2658f button.colab-df-convert');\n",
              "        buttonEl.style.display =\n",
              "          google.colab.kernel.accessAllowed ? 'block' : 'none';\n",
              "\n",
              "        async function convertToInteractive(key) {\n",
              "          const element = document.querySelector('#df-971ce528-eb9a-43ce-b2af-c3ca9ad2658f');\n",
              "          const dataTable =\n",
              "            await google.colab.kernel.invokeFunction('convertToInteractive',\n",
              "                                                     [key], {});\n",
              "          if (!dataTable) return;\n",
              "\n",
              "          const docLinkHtml = 'Like what you see? Visit the ' +\n",
              "            '<a target=\"_blank\" href=https://colab.research.google.com/notebooks/data_table.ipynb>data table notebook</a>'\n",
              "            + ' to learn more about interactive tables.';\n",
              "          element.innerHTML = '';\n",
              "          dataTable['output_type'] = 'display_data';\n",
              "          await google.colab.output.renderOutput(dataTable, element);\n",
              "          const docLink = document.createElement('div');\n",
              "          docLink.innerHTML = docLinkHtml;\n",
              "          element.appendChild(docLink);\n",
              "        }\n",
              "      </script>\n",
              "    </div>\n",
              "  </div>\n",
              "  "
            ]
          },
          "metadata": {},
          "execution_count": 60
        }
      ]
    },
    {
      "cell_type": "markdown",
      "source": [
        "#Скачивание файлов с диска\n"
      ],
      "metadata": {
        "id": "kNDF5qxoS-jJ"
      }
    },
    {
      "cell_type": "markdown",
      "source": [
        "По ссылкам скачиваем с гугл-диска все файлы (кажется, работает только для Google Colab)"
      ],
      "metadata": {
        "id": "4DFFUfwETFll"
      }
    },
    {
      "cell_type": "code",
      "execution_count": 1,
      "metadata": {
        "id": "pNU35Y_ZSmba"
      },
      "outputs": [],
      "source": [
        "def download_from_disk(id):\n",
        "  import gdown\n",
        "  gdown.download(f'https://drive.google.com/uc?id={id}&confirm=t', quiet=False)"
      ]
    },
    {
      "cell_type": "code",
      "source": [
        "download_from_disk('1a18Uwzy-Dz10OmQZwsLrX4sntOuBxnew')"
      ],
      "metadata": {
        "colab": {
          "base_uri": "https://localhost:8080/"
        },
        "id": "z4ItfWaJSsbu",
        "outputId": "f39cbb4c-d3a1-4f76-bc2b-dc31687a75c9"
      },
      "execution_count": 2,
      "outputs": [
        {
          "output_type": "stream",
          "name": "stderr",
          "text": [
            "Downloading...\n",
            "From: https://drive.google.com/uc?id=1a18Uwzy-Dz10OmQZwsLrX4sntOuBxnew&confirm=t\n",
            "To: /content/ONT_2D.fastq.gz\n",
            "100%|██████████| 143M/143M [00:00<00:00, 176MB/s]\n"
          ]
        }
      ]
    },
    {
      "cell_type": "code",
      "source": [
        "download_from_disk('18VFr3uyICex0Xd8_rH6Tdhmr3GFIPr7C')"
      ],
      "metadata": {
        "colab": {
          "base_uri": "https://localhost:8080/"
        },
        "id": "iDdBFlPhSutp",
        "outputId": "f48eea2d-085b-42a4-830e-cf82f72d10c6"
      },
      "execution_count": 3,
      "outputs": [
        {
          "output_type": "stream",
          "name": "stderr",
          "text": [
            "Downloading...\n",
            "From: https://drive.google.com/uc?id=18VFr3uyICex0Xd8_rH6Tdhmr3GFIPr7C&confirm=t\n",
            "To: /content/pacbio_40x.fq.gz\n",
            "100%|██████████| 198M/198M [00:02<00:00, 96.0MB/s]\n"
          ]
        }
      ]
    },
    {
      "cell_type": "code",
      "source": [
        "download_from_disk('1unVHbhqU47hAGEY_wzbdBababBYNB5Df')"
      ],
      "metadata": {
        "colab": {
          "base_uri": "https://localhost:8080/"
        },
        "id": "uBozIU4qTdzL",
        "outputId": "391d57f1-3090-49ca-e1fa-1ae7e89b0ca9"
      },
      "execution_count": 4,
      "outputs": [
        {
          "output_type": "stream",
          "name": "stderr",
          "text": [
            "Downloading...\n",
            "From: https://drive.google.com/uc?id=1unVHbhqU47hAGEY_wzbdBababBYNB5Df&confirm=t\n",
            "To: /content/reference.fasta\n",
            "100%|██████████| 4.71M/4.71M [00:00<00:00, 7.92MB/s]\n"
          ]
        }
      ]
    },
    {
      "cell_type": "markdown",
      "source": [
        "# Установка программ"
      ],
      "metadata": {
        "id": "fKIVjJX6JzWe"
      }
    },
    {
      "cell_type": "code",
      "source": [
        "!pip install -q condacolab"
      ],
      "metadata": {
        "id": "reCR_GUpFFRr"
      },
      "execution_count": 4,
      "outputs": []
    },
    {
      "cell_type": "code",
      "source": [
        "import condacolab"
      ],
      "metadata": {
        "id": "jQ1Oqzb9BXoG"
      },
      "execution_count": 5,
      "outputs": []
    },
    {
      "cell_type": "code",
      "source": [
        "condacolab.install()"
      ],
      "metadata": {
        "colab": {
          "base_uri": "https://localhost:8080/"
        },
        "id": "q5FUOHCgBZWp",
        "outputId": "1e6d5c10-0965-4912-a38a-4e15f275c010"
      },
      "execution_count": 6,
      "outputs": [
        {
          "output_type": "stream",
          "name": "stdout",
          "text": [
            "✨🍰✨ Everything looks OK!\n"
          ]
        }
      ]
    },
    {
      "cell_type": "code",
      "source": [
        "!conda install -c bioconda minimap2"
      ],
      "metadata": {
        "colab": {
          "base_uri": "https://localhost:8080/"
        },
        "id": "WJRW2-93q3dJ",
        "outputId": "3aab03ef-0203-4a99-e067-91f2df2dd9aa"
      },
      "execution_count": 7,
      "outputs": [
        {
          "output_type": "stream",
          "name": "stdout",
          "text": [
            "Collecting package metadata (current_repodata.json): - \b\b\\ \b\b| \b\b/ \b\b- \b\b\\ \b\b| \b\b/ \b\b- \b\b\\ \b\b| \b\b/ \b\b- \b\b\\ \b\b| \b\b/ \b\b- \b\b\\ \b\b| \b\bdone\n",
            "Solving environment: - \b\b\\ \b\b| \b\b/ \b\b- \b\b\\ \b\b| \b\b/ \b\b- \b\bdone\n",
            "\n",
            "# All requested packages already installed.\n",
            "\n"
          ]
        }
      ]
    },
    {
      "cell_type": "code",
      "execution_count": 8,
      "metadata": {
        "colab": {
          "base_uri": "https://localhost:8080/"
        },
        "id": "ALt4efsPVgqH",
        "outputId": "73bd4e3c-7f97-4e37-d9c4-14d283cd276e"
      },
      "outputs": [
        {
          "output_type": "stream",
          "name": "stdout",
          "text": [
            "Collecting package metadata (current_repodata.json): - \b\b\\ \b\b| \b\b/ \b\b- \b\b\\ \b\b| \b\b/ \b\b- \b\b\\ \b\b| \b\b/ \b\b- \b\b\\ \b\b| \b\b/ \b\b- \b\b\\ \b\b| \b\bdone\n",
            "Solving environment: - \b\b\\ \b\b| \b\b/ \b\b- \b\b\\ \b\b| \b\b/ \b\b- \b\b\\ \b\b| \b\b/ \b\b- \b\bdone\n",
            "\n",
            "# All requested packages already installed.\n",
            "\n"
          ]
        }
      ],
      "source": [
        "!conda install -c bioconda samtools"
      ]
    },
    {
      "cell_type": "code",
      "execution_count": 9,
      "metadata": {
        "colab": {
          "base_uri": "https://localhost:8080/"
        },
        "id": "17-iVMX-VamA",
        "outputId": "c22006bf-8475-40c6-8b89-479ebed55a73"
      },
      "outputs": [
        {
          "output_type": "stream",
          "name": "stdout",
          "text": [
            "Reading package lists... Done\n",
            "Building dependency tree       \n",
            "Reading state information... Done\n",
            "bowtie2 is already the newest version (2.3.4.1-1).\n",
            "samtools is already the newest version (1.7-1).\n",
            "The following package was automatically installed and is no longer required:\n",
            "  libnvidia-common-460\n",
            "Use 'apt autoremove' to remove it.\n",
            "0 upgraded, 0 newly installed, 0 to remove and 42 not upgraded.\n"
          ]
        }
      ],
      "source": [
        "!apt-get install bowtie2 samtools"
      ]
    },
    {
      "cell_type": "code",
      "source": [
        "!pip install pysam"
      ],
      "metadata": {
        "colab": {
          "base_uri": "https://localhost:8080/"
        },
        "id": "LLe24lrKOd9k",
        "outputId": "950b56ef-faca-485d-c6c9-34c4963a2de4"
      },
      "execution_count": 10,
      "outputs": [
        {
          "output_type": "stream",
          "name": "stdout",
          "text": [
            "Looking in indexes: https://pypi.org/simple, https://us-python.pkg.dev/colab-wheels/public/simple/\n",
            "Requirement already satisfied: pysam in /usr/local/lib/python3.7/site-packages (0.19.1)\n"
          ]
        }
      ]
    },
    {
      "cell_type": "markdown",
      "source": [
        "# 0. Разобраться с minimap2"
      ],
      "metadata": {
        "id": "zg4bAYEOJ6gU"
      }
    },
    {
      "cell_type": "markdown",
      "source": [
        "**Oxford Nanopores**"
      ],
      "metadata": {
        "id": "fquu7tY3Jrso"
      }
    },
    {
      "cell_type": "code",
      "source": [
        "!minimap2 -d ref.mmi reference.fasta  "
      ],
      "metadata": {
        "colab": {
          "base_uri": "https://localhost:8080/"
        },
        "id": "Q585KK-xGp5X",
        "outputId": "e71eedfe-1be2-4f08-d911-8389600ce393"
      },
      "execution_count": 12,
      "outputs": [
        {
          "output_type": "stream",
          "name": "stdout",
          "text": [
            "[M::mm_idx_gen::0.197*1.02] collected minimizers\n",
            "[M::mm_idx_gen::0.247*1.21] sorted minimizers\n",
            "[M::main::0.302*1.17] loaded/built the index for 1 target sequence(s)\n",
            "[M::mm_idx_stat] kmer size: 15; skip: 10; is_hpc: 0; #seq: 1\n",
            "[M::mm_idx_stat::0.315*1.17] distinct minimizers: 838533 (98.18% are singletons); average occurrences: 1.034; average spacing: 5.352\n",
            "[M::main] Version: 2.17-r941\n",
            "[M::main] CMD: minimap2 -d ref.mmi reference.fasta\n",
            "[M::main] Real time: 0.324 sec; CPU: 0.376 sec; Peak RSS: 0.079 GB\n"
          ]
        }
      ]
    },
    {
      "cell_type": "code",
      "source": [
        "! minimap2 -Y -c --MD -ax map-ont reference.fasta ONT_2D.fastq.gz > ont_alignment.sam"
      ],
      "metadata": {
        "colab": {
          "base_uri": "https://localhost:8080/"
        },
        "id": "zGKjtUWzITW1",
        "outputId": "78dbc7ba-6028-4977-9d6d-a3d517a8f542"
      },
      "execution_count": 13,
      "outputs": [
        {
          "output_type": "stream",
          "name": "stdout",
          "text": [
            "[M::mm_idx_gen::0.193*1.00] collected minimizers\n",
            "[M::mm_idx_gen::0.247*1.19] sorted minimizers\n",
            "[M::main::0.247*1.18] loaded/built the index for 1 target sequence(s)\n",
            "[M::mm_mapopt_update::0.263*1.17] mid_occ = 11\n",
            "[M::mm_idx_stat] kmer size: 15; skip: 10; is_hpc: 0; #seq: 1\n",
            "[M::mm_idx_stat::0.279*1.16] distinct minimizers: 838533 (98.18% are singletons); average occurrences: 1.034; average spacing: 5.352\n",
            "[M::worker_pipeline::50.226*1.86] mapped 30810 sequences\n",
            "[M::main] Version: 2.17-r941\n",
            "[M::main] CMD: minimap2 -Y -c --MD -ax map-ont reference.fasta ONT_2D.fastq.gz\n",
            "[M::main] Real time: 50.254 sec; CPU: 93.527 sec; Peak RSS: 0.949 GB\n"
          ]
        }
      ]
    },
    {
      "cell_type": "code",
      "execution_count": 14,
      "metadata": {
        "id": "sD0D8STkWryg"
      },
      "outputs": [],
      "source": [
        "!samtools view -bS -o ont_alignment.bam ont_alignment.sam"
      ]
    },
    {
      "cell_type": "code",
      "execution_count": 15,
      "metadata": {
        "id": "VBTGwg3VWr8A"
      },
      "outputs": [],
      "source": [
        "!samtools sort -o ont_alignment_sorted.bam ont_alignment.bam"
      ]
    },
    {
      "cell_type": "code",
      "execution_count": 16,
      "metadata": {
        "id": "tXe_mEIMWm-M"
      },
      "outputs": [],
      "source": [
        "!samtools index ont_alignment_sorted.bam"
      ]
    },
    {
      "cell_type": "code",
      "execution_count": 17,
      "metadata": {
        "colab": {
          "base_uri": "https://localhost:8080/"
        },
        "id": "AKCufHlAWnBK",
        "outputId": "c5f983c5-4cb6-416a-adf4-3da5db66aa2e"
      },
      "outputs": [
        {
          "output_type": "stream",
          "name": "stdout",
          "text": [
            "32103 + 0 in total (QC-passed reads + QC-failed reads)\n",
            "1072 + 0 secondary\n",
            "221 + 0 supplementary\n",
            "0 + 0 duplicates\n",
            "29565 + 0 mapped (92.09% : N/A)\n",
            "0 + 0 paired in sequencing\n",
            "0 + 0 read1\n",
            "0 + 0 read2\n",
            "0 + 0 properly paired (N/A : N/A)\n",
            "0 + 0 with itself and mate mapped\n",
            "0 + 0 singletons (N/A : N/A)\n",
            "0 + 0 with mate mapped to a different chr\n",
            "0 + 0 with mate mapped to a different chr (mapQ>=5)\n"
          ]
        }
      ],
      "source": [
        "!samtools flagstat ont_alignment_sorted.bam"
      ]
    },
    {
      "cell_type": "markdown",
      "source": [
        "**PacBio**"
      ],
      "metadata": {
        "id": "P0ulfPl5JmWG"
      }
    },
    {
      "cell_type": "code",
      "source": [
        "! minimap2 -Y -c --MD -ax map-pb reference.fasta pacbio_40x.fq.gz > pacbio_alignment.sam"
      ],
      "metadata": {
        "colab": {
          "base_uri": "https://localhost:8080/"
        },
        "outputId": "200c0f86-0f37-49cf-d161-3b134107091d",
        "id": "Ob0KWrtEJfbM"
      },
      "execution_count": 18,
      "outputs": [
        {
          "output_type": "stream",
          "name": "stdout",
          "text": [
            "[M::mm_idx_gen::0.176*1.00] collected minimizers\n",
            "[M::mm_idx_gen::0.204*1.13] sorted minimizers\n",
            "[M::main::0.204*1.13] loaded/built the index for 1 target sequence(s)\n",
            "[M::mm_mapopt_update::0.214*1.12] mid_occ = 11\n",
            "[M::mm_idx_stat] kmer size: 19; skip: 10; is_hpc: 1; #seq: 1\n",
            "[M::mm_idx_stat::0.221*1.12] distinct minimizers: 606828 (98.95% are singletons); average occurrences: 1.024; average spacing: 7.468\n",
            "[M::worker_pipeline::144.617*1.88] mapped 41447 sequences\n",
            "[M::main] Version: 2.17-r941\n",
            "[M::main] CMD: minimap2 -Y -c --MD -ax map-pb reference.fasta pacbio_40x.fq.gz\n",
            "[M::main] Real time: 144.717 sec; CPU: 271.778 sec; Peak RSS: 1.654 GB\n"
          ]
        }
      ]
    },
    {
      "cell_type": "code",
      "execution_count": 19,
      "metadata": {
        "id": "ZgjvRcwPJfbN"
      },
      "outputs": [],
      "source": [
        "!samtools view -bS -o pacbio_alignment.bam pacbio_alignment.sam"
      ]
    },
    {
      "cell_type": "code",
      "execution_count": 20,
      "metadata": {
        "id": "0UqxRxlSJfbN",
        "colab": {
          "base_uri": "https://localhost:8080/"
        },
        "outputId": "580c28d4-1fc3-49f6-b88e-56fbd584d780"
      },
      "outputs": [
        {
          "output_type": "stream",
          "name": "stdout",
          "text": [
            "[bam_sort_core] merging from 2 files...\n"
          ]
        }
      ],
      "source": [
        "!samtools sort -o pacbio_alignment_sorted.bam pacbio_alignment.bam"
      ]
    },
    {
      "cell_type": "code",
      "execution_count": 21,
      "metadata": {
        "id": "P0-pmOuFJfbN"
      },
      "outputs": [],
      "source": [
        "!samtools index pacbio_alignment_sorted.bam"
      ]
    },
    {
      "cell_type": "code",
      "execution_count": 22,
      "metadata": {
        "colab": {
          "base_uri": "https://localhost:8080/"
        },
        "outputId": "c63d447c-b42b-4d63-8526-fa391b988873",
        "id": "gyrW6TucJfbN"
      },
      "outputs": [
        {
          "output_type": "stream",
          "name": "stdout",
          "text": [
            "52081 + 0 in total (QC-passed reads + QC-failed reads)\n",
            "1736 + 0 secondary\n",
            "8898 + 0 supplementary\n",
            "0 + 0 duplicates\n",
            "51199 + 0 mapped (98.31% : N/A)\n",
            "0 + 0 paired in sequencing\n",
            "0 + 0 read1\n",
            "0 + 0 read2\n",
            "0 + 0 properly paired (N/A : N/A)\n",
            "0 + 0 with itself and mate mapped\n",
            "0 + 0 singletons (N/A : N/A)\n",
            "0 + 0 with mate mapped to a different chr\n",
            "0 + 0 with mate mapped to a different chr (mapQ>=5)\n"
          ]
        }
      ],
      "source": [
        "!samtools flagstat pacbio_alignment_sorted.bam"
      ]
    },
    {
      "cell_type": "code",
      "source": [
        "import pysam\n",
        "import matplotlib.pyplot as plt\n",
        "import matplotlib\n",
        "import statistics\n",
        "import numpy as np\n",
        "from collections import defaultdict, Counter\n",
        "import pandas as pd\n",
        "import seaborn as sns"
      ],
      "metadata": {
        "id": "FyDwiFd3L2ht"
      },
      "execution_count": 11,
      "outputs": []
    },
    {
      "cell_type": "code",
      "source": [
        "!pip install Bio"
      ],
      "metadata": {
        "colab": {
          "base_uri": "https://localhost:8080/",
          "height": 518
        },
        "id": "_e76w1nazFir",
        "outputId": "b7e05e27-9aec-40c5-fa19-ff9d5b9708a2"
      },
      "execution_count": 24,
      "outputs": [
        {
          "output_type": "stream",
          "name": "stdout",
          "text": [
            "Looking in indexes: https://pypi.org/simple, https://us-python.pkg.dev/colab-wheels/public/simple/\n",
            "Collecting Bio\n",
            "  Downloading bio-1.3.9-py3-none-any.whl (270 kB)\n",
            "\u001b[K     |████████████████████████████████| 270 kB 5.2 MB/s \n",
            "\u001b[?25hCollecting biopython>=1.79\n",
            "  Downloading biopython-1.79-cp37-cp37m-manylinux_2_5_x86_64.manylinux1_x86_64.whl (2.3 MB)\n",
            "\u001b[K     |████████████████████████████████| 2.3 MB 67.7 MB/s \n",
            "\u001b[?25hRequirement already satisfied: requests in /usr/local/lib/python3.7/site-packages (from Bio) (2.25.1)\n",
            "Collecting mygene\n",
            "  Downloading mygene-3.2.2-py2.py3-none-any.whl (5.4 kB)\n",
            "Requirement already satisfied: tqdm in /usr/local/lib/python3.7/site-packages (from Bio) (4.59.0)\n",
            "Collecting numpy\n",
            "  Downloading numpy-1.21.6-cp37-cp37m-manylinux_2_12_x86_64.manylinux2010_x86_64.whl (15.7 MB)\n",
            "\u001b[K     |████████████████████████████████| 15.7 MB 41.6 MB/s \n",
            "\u001b[?25hCollecting biothings-client>=0.2.6\n",
            "  Downloading biothings_client-0.2.6-py2.py3-none-any.whl (37 kB)\n",
            "Requirement already satisfied: urllib3<1.27,>=1.21.1 in /usr/local/lib/python3.7/site-packages (from requests->Bio) (1.26.3)\n",
            "Requirement already satisfied: certifi>=2017.4.17 in /usr/local/lib/python3.7/site-packages (from requests->Bio) (2022.5.18.1)\n",
            "Requirement already satisfied: idna<3,>=2.5 in /usr/local/lib/python3.7/site-packages (from requests->Bio) (2.10)\n",
            "Requirement already satisfied: chardet<5,>=3.0.2 in /usr/local/lib/python3.7/site-packages (from requests->Bio) (4.0.0)\n",
            "Installing collected packages: numpy, biothings-client, mygene, biopython, Bio\n",
            "Successfully installed Bio-1.3.9 biopython-1.79 biothings-client-0.2.6 mygene-3.2.2 numpy-1.21.6\n"
          ]
        },
        {
          "output_type": "display_data",
          "data": {
            "application/vnd.colab-display-data+json": {
              "pip_warning": {
                "packages": [
                  "numpy"
                ]
              }
            }
          },
          "metadata": {}
        }
      ]
    },
    {
      "cell_type": "code",
      "source": [
        "from Bio import SeqIO"
      ],
      "metadata": {
        "id": "7sMKX-cwzFk6"
      },
      "execution_count": 12,
      "outputs": []
    },
    {
      "cell_type": "code",
      "source": [
        "data = {'Общее число ридов':[32103,\n",
        "                             52081],\n",
        "        \n",
        "        'Приложившиеся':['29565 (92.09%)',\n",
        "                              '51199 (98.31%)']}\n",
        "\n",
        "df = pd.DataFrame(data, index =['Oxford Nanopores',\n",
        "                                'PacBio'])\n",
        "df"
      ],
      "metadata": {
        "colab": {
          "base_uri": "https://localhost:8080/",
          "height": 112
        },
        "id": "Rewl3P-OJD8D",
        "outputId": "2a8baeb3-2ef3-44f2-912a-07d44f8dd900"
      },
      "execution_count": 13,
      "outputs": [
        {
          "output_type": "execute_result",
          "data": {
            "text/plain": [
              "                  Общее число ридов   Приложившиеся\n",
              "Oxford Nanopores              32103  29565 (92.09%)\n",
              "PacBio                        52081  51199 (98.31%)"
            ],
            "text/html": [
              "\n",
              "  <div id=\"df-7f313e9b-34a0-4f45-bcf8-06c2cd253835\">\n",
              "    <div class=\"colab-df-container\">\n",
              "      <div>\n",
              "<style scoped>\n",
              "    .dataframe tbody tr th:only-of-type {\n",
              "        vertical-align: middle;\n",
              "    }\n",
              "\n",
              "    .dataframe tbody tr th {\n",
              "        vertical-align: top;\n",
              "    }\n",
              "\n",
              "    .dataframe thead th {\n",
              "        text-align: right;\n",
              "    }\n",
              "</style>\n",
              "<table border=\"1\" class=\"dataframe\">\n",
              "  <thead>\n",
              "    <tr style=\"text-align: right;\">\n",
              "      <th></th>\n",
              "      <th>Общее число ридов</th>\n",
              "      <th>Приложившиеся</th>\n",
              "    </tr>\n",
              "  </thead>\n",
              "  <tbody>\n",
              "    <tr>\n",
              "      <th>Oxford Nanopores</th>\n",
              "      <td>32103</td>\n",
              "      <td>29565 (92.09%)</td>\n",
              "    </tr>\n",
              "    <tr>\n",
              "      <th>PacBio</th>\n",
              "      <td>52081</td>\n",
              "      <td>51199 (98.31%)</td>\n",
              "    </tr>\n",
              "  </tbody>\n",
              "</table>\n",
              "</div>\n",
              "      <button class=\"colab-df-convert\" onclick=\"convertToInteractive('df-7f313e9b-34a0-4f45-bcf8-06c2cd253835')\"\n",
              "              title=\"Convert this dataframe to an interactive table.\"\n",
              "              style=\"display:none;\">\n",
              "        \n",
              "  <svg xmlns=\"http://www.w3.org/2000/svg\" height=\"24px\"viewBox=\"0 0 24 24\"\n",
              "       width=\"24px\">\n",
              "    <path d=\"M0 0h24v24H0V0z\" fill=\"none\"/>\n",
              "    <path d=\"M18.56 5.44l.94 2.06.94-2.06 2.06-.94-2.06-.94-.94-2.06-.94 2.06-2.06.94zm-11 1L8.5 8.5l.94-2.06 2.06-.94-2.06-.94L8.5 2.5l-.94 2.06-2.06.94zm10 10l.94 2.06.94-2.06 2.06-.94-2.06-.94-.94-2.06-.94 2.06-2.06.94z\"/><path d=\"M17.41 7.96l-1.37-1.37c-.4-.4-.92-.59-1.43-.59-.52 0-1.04.2-1.43.59L10.3 9.45l-7.72 7.72c-.78.78-.78 2.05 0 2.83L4 21.41c.39.39.9.59 1.41.59.51 0 1.02-.2 1.41-.59l7.78-7.78 2.81-2.81c.8-.78.8-2.07 0-2.86zM5.41 20L4 18.59l7.72-7.72 1.47 1.35L5.41 20z\"/>\n",
              "  </svg>\n",
              "      </button>\n",
              "      \n",
              "  <style>\n",
              "    .colab-df-container {\n",
              "      display:flex;\n",
              "      flex-wrap:wrap;\n",
              "      gap: 12px;\n",
              "    }\n",
              "\n",
              "    .colab-df-convert {\n",
              "      background-color: #E8F0FE;\n",
              "      border: none;\n",
              "      border-radius: 50%;\n",
              "      cursor: pointer;\n",
              "      display: none;\n",
              "      fill: #1967D2;\n",
              "      height: 32px;\n",
              "      padding: 0 0 0 0;\n",
              "      width: 32px;\n",
              "    }\n",
              "\n",
              "    .colab-df-convert:hover {\n",
              "      background-color: #E2EBFA;\n",
              "      box-shadow: 0px 1px 2px rgba(60, 64, 67, 0.3), 0px 1px 3px 1px rgba(60, 64, 67, 0.15);\n",
              "      fill: #174EA6;\n",
              "    }\n",
              "\n",
              "    [theme=dark] .colab-df-convert {\n",
              "      background-color: #3B4455;\n",
              "      fill: #D2E3FC;\n",
              "    }\n",
              "\n",
              "    [theme=dark] .colab-df-convert:hover {\n",
              "      background-color: #434B5C;\n",
              "      box-shadow: 0px 1px 3px 1px rgba(0, 0, 0, 0.15);\n",
              "      filter: drop-shadow(0px 1px 2px rgba(0, 0, 0, 0.3));\n",
              "      fill: #FFFFFF;\n",
              "    }\n",
              "  </style>\n",
              "\n",
              "      <script>\n",
              "        const buttonEl =\n",
              "          document.querySelector('#df-7f313e9b-34a0-4f45-bcf8-06c2cd253835 button.colab-df-convert');\n",
              "        buttonEl.style.display =\n",
              "          google.colab.kernel.accessAllowed ? 'block' : 'none';\n",
              "\n",
              "        async function convertToInteractive(key) {\n",
              "          const element = document.querySelector('#df-7f313e9b-34a0-4f45-bcf8-06c2cd253835');\n",
              "          const dataTable =\n",
              "            await google.colab.kernel.invokeFunction('convertToInteractive',\n",
              "                                                     [key], {});\n",
              "          if (!dataTable) return;\n",
              "\n",
              "          const docLinkHtml = 'Like what you see? Visit the ' +\n",
              "            '<a target=\"_blank\" href=https://colab.research.google.com/notebooks/data_table.ipynb>data table notebook</a>'\n",
              "            + ' to learn more about interactive tables.';\n",
              "          element.innerHTML = '';\n",
              "          dataTable['output_type'] = 'display_data';\n",
              "          await google.colab.output.renderOutput(dataTable, element);\n",
              "          const docLink = document.createElement('div');\n",
              "          docLink.innerHTML = docLinkHtml;\n",
              "          element.appendChild(docLink);\n",
              "        }\n",
              "      </script>\n",
              "    </div>\n",
              "  </div>\n",
              "  "
            ]
          },
          "metadata": {},
          "execution_count": 13
        }
      ]
    },
    {
      "cell_type": "markdown",
      "source": [
        "# 1. Статистики ридов PacBio и Oxford Nanopores."
      ],
      "metadata": {
        "id": "4nSl7C1FMZBY"
      }
    },
    {
      "cell_type": "code",
      "source": [
        "reference = SeqIO.read('reference.fasta', 'fasta').seq"
      ],
      "metadata": {
        "id": "ACyrYU-K3onJ"
      },
      "execution_count": 16,
      "outputs": []
    },
    {
      "cell_type": "code",
      "source": [
        "def coverage(file):\n",
        "    align = pysam.AlignmentFile(file, 'rb')\n",
        "    cover = {}\n",
        "    for read in align.fetch():\n",
        "        start, end = read.reference_start, read.reference_end\n",
        "        if start and end :\n",
        "            for i in range(start, end):\n",
        "                if i in cover:\n",
        "                    cover[i] += 1\n",
        "                else:\n",
        "                    cover[i] = 1\n",
        "    print('Среднее покрытие =', round(np.array(list(cover.values())).mean(), 3))\n",
        "    print('Доля покрытого генома =', round(len(cover.keys()) / len(reference), 3))\n",
        "    sns.set(rc={'figure.figsize':(15, 10)})\n",
        "    sns.lineplot(list(cover.keys()), list(cover.values()))"
      ],
      "metadata": {
        "id": "HwgZm7Qs3CBr"
      },
      "execution_count": 39,
      "outputs": []
    },
    {
      "cell_type": "code",
      "source": [
        "pacbio = coverage('pacbio_alignment.sam')"
      ],
      "metadata": {
        "colab": {
          "base_uri": "https://localhost:8080/",
          "height": 698
        },
        "id": "cf5AeBoT3IYr",
        "outputId": "3e66204a-d7a0-4a5a-dd53-85cd5a3483c7"
      },
      "execution_count": 40,
      "outputs": [
        {
          "output_type": "stream",
          "name": "stdout",
          "text": [
            "Среднее покрытие = 40.052\n",
            "Доля покрытого генома = 1.0\n"
          ]
        },
        {
          "output_type": "stream",
          "name": "stderr",
          "text": [
            "/usr/local/lib/python3.7/dist-packages/seaborn/_decorators.py:43: FutureWarning: Pass the following variables as keyword args: x, y. From version 0.12, the only valid positional argument will be `data`, and passing other arguments without an explicit keyword will result in an error or misinterpretation.\n",
            "  FutureWarning\n"
          ]
        },
        {
          "output_type": "display_data",
          "data": {
            "text/plain": [
              "<Figure size 1080x720 with 1 Axes>"
            ],
            "image/png": "[encoded data removed]"
          },
          "metadata": {}
        }
      ]
    },
    {
      "cell_type": "code",
      "source": [
        "ont = coverage('ont_alignment.sam')"
      ],
      "metadata": {
        "colab": {
          "base_uri": "https://localhost:8080/",
          "height": 698
        },
        "id": "nq2qqvdT8jrL",
        "outputId": "06fcad44-9977-4ab1-96f9-b1b5c0318521"
      },
      "execution_count": 41,
      "outputs": [
        {
          "output_type": "stream",
          "name": "stdout",
          "text": [
            "Среднее покрытие = 28.325\n",
            "Доля покрытого генома = 1.0\n"
          ]
        },
        {
          "output_type": "stream",
          "name": "stderr",
          "text": [
            "/usr/local/lib/python3.7/dist-packages/seaborn/_decorators.py:43: FutureWarning: Pass the following variables as keyword args: x, y. From version 0.12, the only valid positional argument will be `data`, and passing other arguments without an explicit keyword will result in an error or misinterpretation.\n",
            "  FutureWarning\n"
          ]
        },
        {
          "output_type": "display_data",
          "data": {
            "text/plain": [
              "<Figure size 1080x720 with 1 Axes>"
            ],
            "image/png": "[encoded data removed]"
          },
          "metadata": {}
        }
      ]
    },
    {
      "cell_type": "code",
      "source": [
        "data = {'Среднее покрытие':[28.325,\n",
        "                             40.052],\n",
        "        \n",
        "        'Доля покрытой области генома':['100%',\n",
        "                              '100%']}\n",
        "\n",
        "df = pd.DataFrame(data, index =['Oxford Nanopores',\n",
        "                                'PacBio'])\n",
        "df"
      ],
      "metadata": {
        "colab": {
          "base_uri": "https://localhost:8080/",
          "height": 112
        },
        "id": "5-TzfjJ8F83j",
        "outputId": "4005fd9a-a7f4-45d8-f4c7-a008dfa16340"
      },
      "execution_count": 42,
      "outputs": [
        {
          "output_type": "execute_result",
          "data": {
            "text/plain": [
              "                  Среднее покрытие Доля покрытой области генома\n",
              "Oxford Nanopores            28.325                         100%\n",
              "PacBio                      40.052                         100%"
            ],
            "text/html": [
              "\n",
              "  <div id=\"df-7d7624f9-2aaf-4a9e-941f-4769b0b4e42e\">\n",
              "    <div class=\"colab-df-container\">\n",
              "      <div>\n",
              "<style scoped>\n",
              "    .dataframe tbody tr th:only-of-type {\n",
              "        vertical-align: middle;\n",
              "    }\n",
              "\n",
              "    .dataframe tbody tr th {\n",
              "        vertical-align: top;\n",
              "    }\n",
              "\n",
              "    .dataframe thead th {\n",
              "        text-align: right;\n",
              "    }\n",
              "</style>\n",
              "<table border=\"1\" class=\"dataframe\">\n",
              "  <thead>\n",
              "    <tr style=\"text-align: right;\">\n",
              "      <th></th>\n",
              "      <th>Среднее покрытие</th>\n",
              "      <th>Доля покрытой области генома</th>\n",
              "    </tr>\n",
              "  </thead>\n",
              "  <tbody>\n",
              "    <tr>\n",
              "      <th>Oxford Nanopores</th>\n",
              "      <td>28.325</td>\n",
              "      <td>100%</td>\n",
              "    </tr>\n",
              "    <tr>\n",
              "      <th>PacBio</th>\n",
              "      <td>40.052</td>\n",
              "      <td>100%</td>\n",
              "    </tr>\n",
              "  </tbody>\n",
              "</table>\n",
              "</div>\n",
              "      <button class=\"colab-df-convert\" onclick=\"convertToInteractive('df-7d7624f9-2aaf-4a9e-941f-4769b0b4e42e')\"\n",
              "              title=\"Convert this dataframe to an interactive table.\"\n",
              "              style=\"display:none;\">\n",
              "        \n",
              "  <svg xmlns=\"http://www.w3.org/2000/svg\" height=\"24px\"viewBox=\"0 0 24 24\"\n",
              "       width=\"24px\">\n",
              "    <path d=\"M0 0h24v24H0V0z\" fill=\"none\"/>\n",
              "    <path d=\"M18.56 5.44l.94 2.06.94-2.06 2.06-.94-2.06-.94-.94-2.06-.94 2.06-2.06.94zm-11 1L8.5 8.5l.94-2.06 2.06-.94-2.06-.94L8.5 2.5l-.94 2.06-2.06.94zm10 10l.94 2.06.94-2.06 2.06-.94-2.06-.94-.94-2.06-.94 2.06-2.06.94z\"/><path d=\"M17.41 7.96l-1.37-1.37c-.4-.4-.92-.59-1.43-.59-.52 0-1.04.2-1.43.59L10.3 9.45l-7.72 7.72c-.78.78-.78 2.05 0 2.83L4 21.41c.39.39.9.59 1.41.59.51 0 1.02-.2 1.41-.59l7.78-7.78 2.81-2.81c.8-.78.8-2.07 0-2.86zM5.41 20L4 18.59l7.72-7.72 1.47 1.35L5.41 20z\"/>\n",
              "  </svg>\n",
              "      </button>\n",
              "      \n",
              "  <style>\n",
              "    .colab-df-container {\n",
              "      display:flex;\n",
              "      flex-wrap:wrap;\n",
              "      gap: 12px;\n",
              "    }\n",
              "\n",
              "    .colab-df-convert {\n",
              "      background-color: #E8F0FE;\n",
              "      border: none;\n",
              "      border-radius: 50%;\n",
              "      cursor: pointer;\n",
              "      display: none;\n",
              "      fill: #1967D2;\n",
              "      height: 32px;\n",
              "      padding: 0 0 0 0;\n",
              "      width: 32px;\n",
              "    }\n",
              "\n",
              "    .colab-df-convert:hover {\n",
              "      background-color: #E2EBFA;\n",
              "      box-shadow: 0px 1px 2px rgba(60, 64, 67, 0.3), 0px 1px 3px 1px rgba(60, 64, 67, 0.15);\n",
              "      fill: #174EA6;\n",
              "    }\n",
              "\n",
              "    [theme=dark] .colab-df-convert {\n",
              "      background-color: #3B4455;\n",
              "      fill: #D2E3FC;\n",
              "    }\n",
              "\n",
              "    [theme=dark] .colab-df-convert:hover {\n",
              "      background-color: #434B5C;\n",
              "      box-shadow: 0px 1px 3px 1px rgba(0, 0, 0, 0.15);\n",
              "      filter: drop-shadow(0px 1px 2px rgba(0, 0, 0, 0.3));\n",
              "      fill: #FFFFFF;\n",
              "    }\n",
              "  </style>\n",
              "\n",
              "      <script>\n",
              "        const buttonEl =\n",
              "          document.querySelector('#df-7d7624f9-2aaf-4a9e-941f-4769b0b4e42e button.colab-df-convert');\n",
              "        buttonEl.style.display =\n",
              "          google.colab.kernel.accessAllowed ? 'block' : 'none';\n",
              "\n",
              "        async function convertToInteractive(key) {\n",
              "          const element = document.querySelector('#df-7d7624f9-2aaf-4a9e-941f-4769b0b4e42e');\n",
              "          const dataTable =\n",
              "            await google.colab.kernel.invokeFunction('convertToInteractive',\n",
              "                                                     [key], {});\n",
              "          if (!dataTable) return;\n",
              "\n",
              "          const docLinkHtml = 'Like what you see? Visit the ' +\n",
              "            '<a target=\"_blank\" href=https://colab.research.google.com/notebooks/data_table.ipynb>data table notebook</a>'\n",
              "            + ' to learn more about interactive tables.';\n",
              "          element.innerHTML = '';\n",
              "          dataTable['output_type'] = 'display_data';\n",
              "          await google.colab.output.renderOutput(dataTable, element);\n",
              "          const docLink = document.createElement('div');\n",
              "          docLink.innerHTML = docLinkHtml;\n",
              "          element.appendChild(docLink);\n",
              "        }\n",
              "      </script>\n",
              "    </div>\n",
              "  </div>\n",
              "  "
            ]
          },
          "metadata": {},
          "execution_count": 42
        }
      ]
    },
    {
      "cell_type": "markdown",
      "source": [
        "## 2) Процент ошибок"
      ],
      "metadata": {
        "id": "QdbCGdyeFiWU"
      }
    },
    {
      "cell_type": "code",
      "execution_count": 14,
      "metadata": {
        "id": "ffc035bb"
      },
      "outputs": [],
      "source": [
        "def errors(file):\n",
        "    bam = pysam.AlignmentFile(file, 'rb')\n",
        "    letters = ['a', 't', 'c', 'g']\n",
        "    errs = []\n",
        "    pairs_n = []\n",
        "    df = pd.DataFrame(np.zeros((5, 5)).astype(int), index = ['A', 'T', 'C', 'G', '-'], columns = ['A', 'T', 'C', 'G', '-'])   \n",
        "    for line in bam.fetch(bam.get_reference_name(0)):\n",
        "        ci,  err = 0, 0\n",
        "        cigar = line.cigartuples\n",
        "        read_len = line.query_length\n",
        "        pairs = line.get_aligned_pairs(with_seq=True)\n",
        "        qual = line.query_alignment_qualities\n",
        "        for s in cigar: \n",
        "            if s[0] == 0: \n",
        "                for ip, p in enumerate(pairs[ci:ci + s[1]]):\n",
        "                    if p[2] in letters:\n",
        "                        df.loc[line.query_sequence[p[0]], p[2].upper()] += 1\n",
        "                        err += 1\n",
        "            elif s[0] == 1:\n",
        "                err += s[1]\n",
        "                for ip, p in enumerate(pairs[ci:ci + s[1]]):\n",
        "                    if p[0] is not None:\n",
        "                        df.loc[line.query_sequence[p[0]], '-'] += 1\n",
        "            elif s[0] == 2:\n",
        "                err += s[1]\n",
        "                for p in pairs[ci:ci + s[1]]:\n",
        "                    if p[2] is not None:\n",
        "                        df.loc['-', p[2].upper()] += 1\n",
        "            ci += s[1]\n",
        "        errs.append(err / read_len)\n",
        "        \n",
        "    print(f'Процент ошибок = {round(np.mean(errs) * 100, 2)}')\n",
        "    return df\n",
        "    "
      ]
    },
    {
      "cell_type": "code",
      "source": [
        "errors('ont_alignment_sorted.bam')"
      ],
      "metadata": {
        "colab": {
          "base_uri": "https://localhost:8080/",
          "height": 224
        },
        "id": "wZr8iP9xecob",
        "outputId": "df22096c-be17-423c-8cd2-e1b6d8eb2943"
      },
      "execution_count": 15,
      "outputs": [
        {
          "output_type": "stream",
          "name": "stdout",
          "text": [
            "Процент ошибок = 7.93\n"
          ]
        },
        {
          "output_type": "execute_result",
          "data": {
            "text/plain": [
              "         A        T        C        G       -\n",
              "A        0   110388   139961   326092  410542\n",
              "T   108115        0   346831   129393  406322\n",
              "C   115569   379303        0    93739  389995\n",
              "G   374902   114069    87576        0  407020\n",
              "-  1628114  1623745  1558527  1584088       0"
            ],
            "text/html": [
              "\n",
              "  <div id=\"df-f9d60523-b8a9-4bb6-848d-282eea2899f9\">\n",
              "    <div class=\"colab-df-container\">\n",
              "      <div>\n",
              "<style scoped>\n",
              "    .dataframe tbody tr th:only-of-type {\n",
              "        vertical-align: middle;\n",
              "    }\n",
              "\n",
              "    .dataframe tbody tr th {\n",
              "        vertical-align: top;\n",
              "    }\n",
              "\n",
              "    .dataframe thead th {\n",
              "        text-align: right;\n",
              "    }\n",
              "</style>\n",
              "<table border=\"1\" class=\"dataframe\">\n",
              "  <thead>\n",
              "    <tr style=\"text-align: right;\">\n",
              "      <th></th>\n",
              "      <th>A</th>\n",
              "      <th>T</th>\n",
              "      <th>C</th>\n",
              "      <th>G</th>\n",
              "      <th>-</th>\n",
              "    </tr>\n",
              "  </thead>\n",
              "  <tbody>\n",
              "    <tr>\n",
              "      <th>A</th>\n",
              "      <td>0</td>\n",
              "      <td>110388</td>\n",
              "      <td>139961</td>\n",
              "      <td>326092</td>\n",
              "      <td>410542</td>\n",
              "    </tr>\n",
              "    <tr>\n",
              "      <th>T</th>\n",
              "      <td>108115</td>\n",
              "      <td>0</td>\n",
              "      <td>346831</td>\n",
              "      <td>129393</td>\n",
              "      <td>406322</td>\n",
              "    </tr>\n",
              "    <tr>\n",
              "      <th>C</th>\n",
              "      <td>115569</td>\n",
              "      <td>379303</td>\n",
              "      <td>0</td>\n",
              "      <td>93739</td>\n",
              "      <td>389995</td>\n",
              "    </tr>\n",
              "    <tr>\n",
              "      <th>G</th>\n",
              "      <td>374902</td>\n",
              "      <td>114069</td>\n",
              "      <td>87576</td>\n",
              "      <td>0</td>\n",
              "      <td>407020</td>\n",
              "    </tr>\n",
              "    <tr>\n",
              "      <th>-</th>\n",
              "      <td>1628114</td>\n",
              "      <td>1623745</td>\n",
              "      <td>1558527</td>\n",
              "      <td>1584088</td>\n",
              "      <td>0</td>\n",
              "    </tr>\n",
              "  </tbody>\n",
              "</table>\n",
              "</div>\n",
              "      <button class=\"colab-df-convert\" onclick=\"convertToInteractive('df-f9d60523-b8a9-4bb6-848d-282eea2899f9')\"\n",
              "              title=\"Convert this dataframe to an interactive table.\"\n",
              "              style=\"display:none;\">\n",
              "        \n",
              "  <svg xmlns=\"http://www.w3.org/2000/svg\" height=\"24px\"viewBox=\"0 0 24 24\"\n",
              "       width=\"24px\">\n",
              "    <path d=\"M0 0h24v24H0V0z\" fill=\"none\"/>\n",
              "    <path d=\"M18.56 5.44l.94 2.06.94-2.06 2.06-.94-2.06-.94-.94-2.06-.94 2.06-2.06.94zm-11 1L8.5 8.5l.94-2.06 2.06-.94-2.06-.94L8.5 2.5l-.94 2.06-2.06.94zm10 10l.94 2.06.94-2.06 2.06-.94-2.06-.94-.94-2.06-.94 2.06-2.06.94z\"/><path d=\"M17.41 7.96l-1.37-1.37c-.4-.4-.92-.59-1.43-.59-.52 0-1.04.2-1.43.59L10.3 9.45l-7.72 7.72c-.78.78-.78 2.05 0 2.83L4 21.41c.39.39.9.59 1.41.59.51 0 1.02-.2 1.41-.59l7.78-7.78 2.81-2.81c.8-.78.8-2.07 0-2.86zM5.41 20L4 18.59l7.72-7.72 1.47 1.35L5.41 20z\"/>\n",
              "  </svg>\n",
              "      </button>\n",
              "      \n",
              "  <style>\n",
              "    .colab-df-container {\n",
              "      display:flex;\n",
              "      flex-wrap:wrap;\n",
              "      gap: 12px;\n",
              "    }\n",
              "\n",
              "    .colab-df-convert {\n",
              "      background-color: #E8F0FE;\n",
              "      border: none;\n",
              "      border-radius: 50%;\n",
              "      cursor: pointer;\n",
              "      display: none;\n",
              "      fill: #1967D2;\n",
              "      height: 32px;\n",
              "      padding: 0 0 0 0;\n",
              "      width: 32px;\n",
              "    }\n",
              "\n",
              "    .colab-df-convert:hover {\n",
              "      background-color: #E2EBFA;\n",
              "      box-shadow: 0px 1px 2px rgba(60, 64, 67, 0.3), 0px 1px 3px 1px rgba(60, 64, 67, 0.15);\n",
              "      fill: #174EA6;\n",
              "    }\n",
              "\n",
              "    [theme=dark] .colab-df-convert {\n",
              "      background-color: #3B4455;\n",
              "      fill: #D2E3FC;\n",
              "    }\n",
              "\n",
              "    [theme=dark] .colab-df-convert:hover {\n",
              "      background-color: #434B5C;\n",
              "      box-shadow: 0px 1px 3px 1px rgba(0, 0, 0, 0.15);\n",
              "      filter: drop-shadow(0px 1px 2px rgba(0, 0, 0, 0.3));\n",
              "      fill: #FFFFFF;\n",
              "    }\n",
              "  </style>\n",
              "\n",
              "      <script>\n",
              "        const buttonEl =\n",
              "          document.querySelector('#df-f9d60523-b8a9-4bb6-848d-282eea2899f9 button.colab-df-convert');\n",
              "        buttonEl.style.display =\n",
              "          google.colab.kernel.accessAllowed ? 'block' : 'none';\n",
              "\n",
              "        async function convertToInteractive(key) {\n",
              "          const element = document.querySelector('#df-f9d60523-b8a9-4bb6-848d-282eea2899f9');\n",
              "          const dataTable =\n",
              "            await google.colab.kernel.invokeFunction('convertToInteractive',\n",
              "                                                     [key], {});\n",
              "          if (!dataTable) return;\n",
              "\n",
              "          const docLinkHtml = 'Like what you see? Visit the ' +\n",
              "            '<a target=\"_blank\" href=https://colab.research.google.com/notebooks/data_table.ipynb>data table notebook</a>'\n",
              "            + ' to learn more about interactive tables.';\n",
              "          element.innerHTML = '';\n",
              "          dataTable['output_type'] = 'display_data';\n",
              "          await google.colab.output.renderOutput(dataTable, element);\n",
              "          const docLink = document.createElement('div');\n",
              "          docLink.innerHTML = docLinkHtml;\n",
              "          element.appendChild(docLink);\n",
              "        }\n",
              "      </script>\n",
              "    </div>\n",
              "  </div>\n",
              "  "
            ]
          },
          "metadata": {},
          "execution_count": 15
        }
      ]
    },
    {
      "cell_type": "code",
      "source": [
        "errors('pacbio_alignment_sorted.bam')"
      ],
      "metadata": {
        "colab": {
          "base_uri": "https://localhost:8080/",
          "height": 224
        },
        "id": "-nJ1CYGEecrT",
        "outputId": "2803e21c-b62e-4752-902e-55c590451e87"
      },
      "execution_count": 16,
      "outputs": [
        {
          "output_type": "stream",
          "name": "stdout",
          "text": [
            "Процент ошибок = 10.39\n"
          ]
        },
        {
          "output_type": "execute_result",
          "data": {
            "text/plain": [
              "         A        T        C        G        -\n",
              "A        0   293076   469562   332883  4011908\n",
              "T   293065        0   332423   462468  4001714\n",
              "C   362042   316460        0   426388  4706056\n",
              "G   314646   367469   424447        0  4708271\n",
              "-  1468795  1464530  2115301  2110350        0"
            ],
            "text/html": [
              "\n",
              "  <div id=\"df-a7451edb-6069-4704-ba4d-65a824a0ab56\">\n",
              "    <div class=\"colab-df-container\">\n",
              "      <div>\n",
              "<style scoped>\n",
              "    .dataframe tbody tr th:only-of-type {\n",
              "        vertical-align: middle;\n",
              "    }\n",
              "\n",
              "    .dataframe tbody tr th {\n",
              "        vertical-align: top;\n",
              "    }\n",
              "\n",
              "    .dataframe thead th {\n",
              "        text-align: right;\n",
              "    }\n",
              "</style>\n",
              "<table border=\"1\" class=\"dataframe\">\n",
              "  <thead>\n",
              "    <tr style=\"text-align: right;\">\n",
              "      <th></th>\n",
              "      <th>A</th>\n",
              "      <th>T</th>\n",
              "      <th>C</th>\n",
              "      <th>G</th>\n",
              "      <th>-</th>\n",
              "    </tr>\n",
              "  </thead>\n",
              "  <tbody>\n",
              "    <tr>\n",
              "      <th>A</th>\n",
              "      <td>0</td>\n",
              "      <td>293076</td>\n",
              "      <td>469562</td>\n",
              "      <td>332883</td>\n",
              "      <td>4011908</td>\n",
              "    </tr>\n",
              "    <tr>\n",
              "      <th>T</th>\n",
              "      <td>293065</td>\n",
              "      <td>0</td>\n",
              "      <td>332423</td>\n",
              "      <td>462468</td>\n",
              "      <td>4001714</td>\n",
              "    </tr>\n",
              "    <tr>\n",
              "      <th>C</th>\n",
              "      <td>362042</td>\n",
              "      <td>316460</td>\n",
              "      <td>0</td>\n",
              "      <td>426388</td>\n",
              "      <td>4706056</td>\n",
              "    </tr>\n",
              "    <tr>\n",
              "      <th>G</th>\n",
              "      <td>314646</td>\n",
              "      <td>367469</td>\n",
              "      <td>424447</td>\n",
              "      <td>0</td>\n",
              "      <td>4708271</td>\n",
              "    </tr>\n",
              "    <tr>\n",
              "      <th>-</th>\n",
              "      <td>1468795</td>\n",
              "      <td>1464530</td>\n",
              "      <td>2115301</td>\n",
              "      <td>2110350</td>\n",
              "      <td>0</td>\n",
              "    </tr>\n",
              "  </tbody>\n",
              "</table>\n",
              "</div>\n",
              "      <button class=\"colab-df-convert\" onclick=\"convertToInteractive('df-a7451edb-6069-4704-ba4d-65a824a0ab56')\"\n",
              "              title=\"Convert this dataframe to an interactive table.\"\n",
              "              style=\"display:none;\">\n",
              "        \n",
              "  <svg xmlns=\"http://www.w3.org/2000/svg\" height=\"24px\"viewBox=\"0 0 24 24\"\n",
              "       width=\"24px\">\n",
              "    <path d=\"M0 0h24v24H0V0z\" fill=\"none\"/>\n",
              "    <path d=\"M18.56 5.44l.94 2.06.94-2.06 2.06-.94-2.06-.94-.94-2.06-.94 2.06-2.06.94zm-11 1L8.5 8.5l.94-2.06 2.06-.94-2.06-.94L8.5 2.5l-.94 2.06-2.06.94zm10 10l.94 2.06.94-2.06 2.06-.94-2.06-.94-.94-2.06-.94 2.06-2.06.94z\"/><path d=\"M17.41 7.96l-1.37-1.37c-.4-.4-.92-.59-1.43-.59-.52 0-1.04.2-1.43.59L10.3 9.45l-7.72 7.72c-.78.78-.78 2.05 0 2.83L4 21.41c.39.39.9.59 1.41.59.51 0 1.02-.2 1.41-.59l7.78-7.78 2.81-2.81c.8-.78.8-2.07 0-2.86zM5.41 20L4 18.59l7.72-7.72 1.47 1.35L5.41 20z\"/>\n",
              "  </svg>\n",
              "      </button>\n",
              "      \n",
              "  <style>\n",
              "    .colab-df-container {\n",
              "      display:flex;\n",
              "      flex-wrap:wrap;\n",
              "      gap: 12px;\n",
              "    }\n",
              "\n",
              "    .colab-df-convert {\n",
              "      background-color: #E8F0FE;\n",
              "      border: none;\n",
              "      border-radius: 50%;\n",
              "      cursor: pointer;\n",
              "      display: none;\n",
              "      fill: #1967D2;\n",
              "      height: 32px;\n",
              "      padding: 0 0 0 0;\n",
              "      width: 32px;\n",
              "    }\n",
              "\n",
              "    .colab-df-convert:hover {\n",
              "      background-color: #E2EBFA;\n",
              "      box-shadow: 0px 1px 2px rgba(60, 64, 67, 0.3), 0px 1px 3px 1px rgba(60, 64, 67, 0.15);\n",
              "      fill: #174EA6;\n",
              "    }\n",
              "\n",
              "    [theme=dark] .colab-df-convert {\n",
              "      background-color: #3B4455;\n",
              "      fill: #D2E3FC;\n",
              "    }\n",
              "\n",
              "    [theme=dark] .colab-df-convert:hover {\n",
              "      background-color: #434B5C;\n",
              "      box-shadow: 0px 1px 3px 1px rgba(0, 0, 0, 0.15);\n",
              "      filter: drop-shadow(0px 1px 2px rgba(0, 0, 0, 0.3));\n",
              "      fill: #FFFFFF;\n",
              "    }\n",
              "  </style>\n",
              "\n",
              "      <script>\n",
              "        const buttonEl =\n",
              "          document.querySelector('#df-a7451edb-6069-4704-ba4d-65a824a0ab56 button.colab-df-convert');\n",
              "        buttonEl.style.display =\n",
              "          google.colab.kernel.accessAllowed ? 'block' : 'none';\n",
              "\n",
              "        async function convertToInteractive(key) {\n",
              "          const element = document.querySelector('#df-a7451edb-6069-4704-ba4d-65a824a0ab56');\n",
              "          const dataTable =\n",
              "            await google.colab.kernel.invokeFunction('convertToInteractive',\n",
              "                                                     [key], {});\n",
              "          if (!dataTable) return;\n",
              "\n",
              "          const docLinkHtml = 'Like what you see? Visit the ' +\n",
              "            '<a target=\"_blank\" href=https://colab.research.google.com/notebooks/data_table.ipynb>data table notebook</a>'\n",
              "            + ' to learn more about interactive tables.';\n",
              "          element.innerHTML = '';\n",
              "          dataTable['output_type'] = 'display_data';\n",
              "          await google.colab.output.renderOutput(dataTable, element);\n",
              "          const docLink = document.createElement('div');\n",
              "          docLink.innerHTML = docLinkHtml;\n",
              "          element.appendChild(docLink);\n",
              "        }\n",
              "      </script>\n",
              "    </div>\n",
              "  </div>\n",
              "  "
            ]
          },
          "metadata": {},
          "execution_count": 16
        }
      ]
    },
    {
      "cell_type": "markdown",
      "source": [
        "## 3) Распределение типов замен"
      ],
      "metadata": {
        "id": "q3g16OgqGZ0w"
      }
    },
    {
      "cell_type": "markdown",
      "source": [
        "Стало жалко удалять эти таблички :) \n",
        "\n",
        "Но с их помощью получаются некорректные ошибки (нужно учитывать вставки и удаления). Вообще таблички похожи на таблички сверху, небольшие различия могут объясняться чуть другим выравниванием или другим подходом."
      ],
      "metadata": {
        "id": "bH7QEnfk5YYv"
      }
    },
    {
      "cell_type": "code",
      "source": [
        "def nucl_repl(file):\n",
        "  samfile = pysam.AlignmentFile(file, \"r\")\n",
        "  df = pd.DataFrame(np.zeros((4, 4)).astype(int), index = ['A', 'T', 'C', 'G'], columns = ['A', 'T', 'C', 'G'])\n",
        "  pairs = []\n",
        "  for read in samfile.fetch():\n",
        "    if not read.is_unmapped and read.seq is not None:\n",
        "        ref = read.get_reference_sequence()\n",
        "        for read_nucleotide_idx, _, ref_nucleotide in read.get_aligned_pairs(matches_only=True, with_seq=True):\n",
        "                read_nucleotide = read.query[read_nucleotide_idx - read.query_alignment_start].upper()\n",
        "                if read_nucleotide.upper() != ref_nucleotide.upper() and read_nucleotide.upper() != 'N':\n",
        "                    pairs.append([read_nucleotide.upper(), ref_nucleotide.upper()])\n",
        "  df = pd.DataFrame(np.zeros((4, 4)).astype(int), index = ['A', 'T', 'C', 'G'], columns = ['A', 'T', 'C', 'G'])\n",
        "  df.loc['A', 'C'] = pairs.count(['A', 'C'])\n",
        "  df.loc['A', 'G'] = pairs.count(['A', 'G'])\n",
        "  df.loc['A', 'T'] = pairs.count(['A', 'T'])\n",
        "  df.loc['C', 'A'] = pairs.count(['C', 'A'])\n",
        "  df.loc['C', 'G'] = pairs.count(['C', 'G'])\n",
        "  df.loc['C', 'T'] = pairs.count(['C', 'T']) \n",
        "  df.loc['G', 'A'] = pairs.count(['G', 'A'])\n",
        "  df.loc['G', 'C'] = pairs.count(['G', 'C'])\n",
        "  df.loc['G', 'T'] = pairs.count(['G', 'T'])\n",
        "  df.loc['T', 'A'] = pairs.count(['T', 'A'])\n",
        "  df.loc['T', 'C'] = pairs.count(['T', 'C'])\n",
        "  df.loc['T', 'G'] = pairs.count(['T', 'G'])\n",
        "\n",
        "  return df "
      ],
      "metadata": {
        "id": "ZNoDRjI9RY1c"
      },
      "execution_count": 19,
      "outputs": []
    },
    {
      "cell_type": "markdown",
      "source": [
        "***Oxford Nanopores***"
      ],
      "metadata": {
        "id": "vc99a18mLc6_"
      }
    },
    {
      "cell_type": "code",
      "source": [
        "nucl_repl('ont_alignment.sam')"
      ],
      "metadata": {
        "colab": {
          "base_uri": "https://localhost:8080/",
          "height": 175
        },
        "id": "vGaz8gymOK8o",
        "outputId": "96edac37-add2-46c9-acd2-b5e36de57b1c"
      },
      "execution_count": null,
      "outputs": [
        {
          "output_type": "execute_result",
          "data": {
            "text/html": [
              "\n",
              "  <div id=\"df-b08a3008-8991-4716-a634-fa118c5cdfea\">\n",
              "    <div class=\"colab-df-container\">\n",
              "      <div>\n",
              "<style scoped>\n",
              "    .dataframe tbody tr th:only-of-type {\n",
              "        vertical-align: middle;\n",
              "    }\n",
              "\n",
              "    .dataframe tbody tr th {\n",
              "        vertical-align: top;\n",
              "    }\n",
              "\n",
              "    .dataframe thead th {\n",
              "        text-align: right;\n",
              "    }\n",
              "</style>\n",
              "<table border=\"1\" class=\"dataframe\">\n",
              "  <thead>\n",
              "    <tr style=\"text-align: right;\">\n",
              "      <th></th>\n",
              "      <th>A</th>\n",
              "      <th>T</th>\n",
              "      <th>C</th>\n",
              "      <th>G</th>\n",
              "    </tr>\n",
              "  </thead>\n",
              "  <tbody>\n",
              "    <tr>\n",
              "      <th>A</th>\n",
              "      <td>0</td>\n",
              "      <td>107765</td>\n",
              "      <td>137046</td>\n",
              "      <td>319761</td>\n",
              "    </tr>\n",
              "    <tr>\n",
              "      <th>T</th>\n",
              "      <td>105373</td>\n",
              "      <td>0</td>\n",
              "      <td>340675</td>\n",
              "      <td>126487</td>\n",
              "    </tr>\n",
              "    <tr>\n",
              "      <th>C</th>\n",
              "      <td>112963</td>\n",
              "      <td>372780</td>\n",
              "      <td>0</td>\n",
              "      <td>91353</td>\n",
              "    </tr>\n",
              "    <tr>\n",
              "      <th>G</th>\n",
              "      <td>368487</td>\n",
              "      <td>111447</td>\n",
              "      <td>85027</td>\n",
              "      <td>0</td>\n",
              "    </tr>\n",
              "  </tbody>\n",
              "</table>\n",
              "</div>\n",
              "      <button class=\"colab-df-convert\" onclick=\"convertToInteractive('df-b08a3008-8991-4716-a634-fa118c5cdfea')\"\n",
              "              title=\"Convert this dataframe to an interactive table.\"\n",
              "              style=\"display:none;\">\n",
              "        \n",
              "  <svg xmlns=\"http://www.w3.org/2000/svg\" height=\"24px\"viewBox=\"0 0 24 24\"\n",
              "       width=\"24px\">\n",
              "    <path d=\"M0 0h24v24H0V0z\" fill=\"none\"/>\n",
              "    <path d=\"M18.56 5.44l.94 2.06.94-2.06 2.06-.94-2.06-.94-.94-2.06-.94 2.06-2.06.94zm-11 1L8.5 8.5l.94-2.06 2.06-.94-2.06-.94L8.5 2.5l-.94 2.06-2.06.94zm10 10l.94 2.06.94-2.06 2.06-.94-2.06-.94-.94-2.06-.94 2.06-2.06.94z\"/><path d=\"M17.41 7.96l-1.37-1.37c-.4-.4-.92-.59-1.43-.59-.52 0-1.04.2-1.43.59L10.3 9.45l-7.72 7.72c-.78.78-.78 2.05 0 2.83L4 21.41c.39.39.9.59 1.41.59.51 0 1.02-.2 1.41-.59l7.78-7.78 2.81-2.81c.8-.78.8-2.07 0-2.86zM5.41 20L4 18.59l7.72-7.72 1.47 1.35L5.41 20z\"/>\n",
              "  </svg>\n",
              "      </button>\n",
              "      \n",
              "  <style>\n",
              "    .colab-df-container {\n",
              "      display:flex;\n",
              "      flex-wrap:wrap;\n",
              "      gap: 12px;\n",
              "    }\n",
              "\n",
              "    .colab-df-convert {\n",
              "      background-color: #E8F0FE;\n",
              "      border: none;\n",
              "      border-radius: 50%;\n",
              "      cursor: pointer;\n",
              "      display: none;\n",
              "      fill: #1967D2;\n",
              "      height: 32px;\n",
              "      padding: 0 0 0 0;\n",
              "      width: 32px;\n",
              "    }\n",
              "\n",
              "    .colab-df-convert:hover {\n",
              "      background-color: #E2EBFA;\n",
              "      box-shadow: 0px 1px 2px rgba(60, 64, 67, 0.3), 0px 1px 3px 1px rgba(60, 64, 67, 0.15);\n",
              "      fill: #174EA6;\n",
              "    }\n",
              "\n",
              "    [theme=dark] .colab-df-convert {\n",
              "      background-color: #3B4455;\n",
              "      fill: #D2E3FC;\n",
              "    }\n",
              "\n",
              "    [theme=dark] .colab-df-convert:hover {\n",
              "      background-color: #434B5C;\n",
              "      box-shadow: 0px 1px 3px 1px rgba(0, 0, 0, 0.15);\n",
              "      filter: drop-shadow(0px 1px 2px rgba(0, 0, 0, 0.3));\n",
              "      fill: #FFFFFF;\n",
              "    }\n",
              "  </style>\n",
              "\n",
              "      <script>\n",
              "        const buttonEl =\n",
              "          document.querySelector('#df-b08a3008-8991-4716-a634-fa118c5cdfea button.colab-df-convert');\n",
              "        buttonEl.style.display =\n",
              "          google.colab.kernel.accessAllowed ? 'block' : 'none';\n",
              "\n",
              "        async function convertToInteractive(key) {\n",
              "          const element = document.querySelector('#df-b08a3008-8991-4716-a634-fa118c5cdfea');\n",
              "          const dataTable =\n",
              "            await google.colab.kernel.invokeFunction('convertToInteractive',\n",
              "                                                     [key], {});\n",
              "          if (!dataTable) return;\n",
              "\n",
              "          const docLinkHtml = 'Like what you see? Visit the ' +\n",
              "            '<a target=\"_blank\" href=https://colab.research.google.com/notebooks/data_table.ipynb>data table notebook</a>'\n",
              "            + ' to learn more about interactive tables.';\n",
              "          element.innerHTML = '';\n",
              "          dataTable['output_type'] = 'display_data';\n",
              "          await google.colab.output.renderOutput(dataTable, element);\n",
              "          const docLink = document.createElement('div');\n",
              "          docLink.innerHTML = docLinkHtml;\n",
              "          element.appendChild(docLink);\n",
              "        }\n",
              "      </script>\n",
              "    </div>\n",
              "  </div>\n",
              "  "
            ],
            "text/plain": [
              "        A       T       C       G\n",
              "A       0  107765  137046  319761\n",
              "T  105373       0  340675  126487\n",
              "C  112963  372780       0   91353\n",
              "G  368487  111447   85027       0"
            ]
          },
          "metadata": {},
          "execution_count": 17
        }
      ]
    },
    {
      "cell_type": "markdown",
      "source": [
        "***PacBio***"
      ],
      "metadata": {
        "id": "ePUfnRUTLlST"
      }
    },
    {
      "cell_type": "code",
      "source": [
        "nucl_repl('pacbio_alignment.sam')"
      ],
      "metadata": {
        "colab": {
          "base_uri": "https://localhost:8080/",
          "height": 175
        },
        "id": "lp22fRs-ENWs",
        "outputId": "af23fd9f-4da8-4df3-f1be-52e7dbb041e6"
      },
      "execution_count": null,
      "outputs": [
        {
          "output_type": "execute_result",
          "data": {
            "text/html": [
              "\n",
              "  <div id=\"df-756c4360-fca0-4c1c-9839-019a75a85756\">\n",
              "    <div class=\"colab-df-container\">\n",
              "      <div>\n",
              "<style scoped>\n",
              "    .dataframe tbody tr th:only-of-type {\n",
              "        vertical-align: middle;\n",
              "    }\n",
              "\n",
              "    .dataframe tbody tr th {\n",
              "        vertical-align: top;\n",
              "    }\n",
              "\n",
              "    .dataframe thead th {\n",
              "        text-align: right;\n",
              "    }\n",
              "</style>\n",
              "<table border=\"1\" class=\"dataframe\">\n",
              "  <thead>\n",
              "    <tr style=\"text-align: right;\">\n",
              "      <th></th>\n",
              "      <th>A</th>\n",
              "      <th>T</th>\n",
              "      <th>C</th>\n",
              "      <th>G</th>\n",
              "    </tr>\n",
              "  </thead>\n",
              "  <tbody>\n",
              "    <tr>\n",
              "      <th>A</th>\n",
              "      <td>0</td>\n",
              "      <td>285699</td>\n",
              "      <td>457338</td>\n",
              "      <td>322254</td>\n",
              "    </tr>\n",
              "    <tr>\n",
              "      <th>T</th>\n",
              "      <td>285427</td>\n",
              "      <td>0</td>\n",
              "      <td>321990</td>\n",
              "      <td>450152</td>\n",
              "    </tr>\n",
              "    <tr>\n",
              "      <th>C</th>\n",
              "      <td>354487</td>\n",
              "      <td>309393</td>\n",
              "      <td>0</td>\n",
              "      <td>415583</td>\n",
              "    </tr>\n",
              "    <tr>\n",
              "      <th>G</th>\n",
              "      <td>307539</td>\n",
              "      <td>359744</td>\n",
              "      <td>414331</td>\n",
              "      <td>0</td>\n",
              "    </tr>\n",
              "  </tbody>\n",
              "</table>\n",
              "</div>\n",
              "      <button class=\"colab-df-convert\" onclick=\"convertToInteractive('df-756c4360-fca0-4c1c-9839-019a75a85756')\"\n",
              "              title=\"Convert this dataframe to an interactive table.\"\n",
              "              style=\"display:none;\">\n",
              "        \n",
              "  <svg xmlns=\"http://www.w3.org/2000/svg\" height=\"24px\"viewBox=\"0 0 24 24\"\n",
              "       width=\"24px\">\n",
              "    <path d=\"M0 0h24v24H0V0z\" fill=\"none\"/>\n",
              "    <path d=\"M18.56 5.44l.94 2.06.94-2.06 2.06-.94-2.06-.94-.94-2.06-.94 2.06-2.06.94zm-11 1L8.5 8.5l.94-2.06 2.06-.94-2.06-.94L8.5 2.5l-.94 2.06-2.06.94zm10 10l.94 2.06.94-2.06 2.06-.94-2.06-.94-.94-2.06-.94 2.06-2.06.94z\"/><path d=\"M17.41 7.96l-1.37-1.37c-.4-.4-.92-.59-1.43-.59-.52 0-1.04.2-1.43.59L10.3 9.45l-7.72 7.72c-.78.78-.78 2.05 0 2.83L4 21.41c.39.39.9.59 1.41.59.51 0 1.02-.2 1.41-.59l7.78-7.78 2.81-2.81c.8-.78.8-2.07 0-2.86zM5.41 20L4 18.59l7.72-7.72 1.47 1.35L5.41 20z\"/>\n",
              "  </svg>\n",
              "      </button>\n",
              "      \n",
              "  <style>\n",
              "    .colab-df-container {\n",
              "      display:flex;\n",
              "      flex-wrap:wrap;\n",
              "      gap: 12px;\n",
              "    }\n",
              "\n",
              "    .colab-df-convert {\n",
              "      background-color: #E8F0FE;\n",
              "      border: none;\n",
              "      border-radius: 50%;\n",
              "      cursor: pointer;\n",
              "      display: none;\n",
              "      fill: #1967D2;\n",
              "      height: 32px;\n",
              "      padding: 0 0 0 0;\n",
              "      width: 32px;\n",
              "    }\n",
              "\n",
              "    .colab-df-convert:hover {\n",
              "      background-color: #E2EBFA;\n",
              "      box-shadow: 0px 1px 2px rgba(60, 64, 67, 0.3), 0px 1px 3px 1px rgba(60, 64, 67, 0.15);\n",
              "      fill: #174EA6;\n",
              "    }\n",
              "\n",
              "    [theme=dark] .colab-df-convert {\n",
              "      background-color: #3B4455;\n",
              "      fill: #D2E3FC;\n",
              "    }\n",
              "\n",
              "    [theme=dark] .colab-df-convert:hover {\n",
              "      background-color: #434B5C;\n",
              "      box-shadow: 0px 1px 3px 1px rgba(0, 0, 0, 0.15);\n",
              "      filter: drop-shadow(0px 1px 2px rgba(0, 0, 0, 0.3));\n",
              "      fill: #FFFFFF;\n",
              "    }\n",
              "  </style>\n",
              "\n",
              "      <script>\n",
              "        const buttonEl =\n",
              "          document.querySelector('#df-756c4360-fca0-4c1c-9839-019a75a85756 button.colab-df-convert');\n",
              "        buttonEl.style.display =\n",
              "          google.colab.kernel.accessAllowed ? 'block' : 'none';\n",
              "\n",
              "        async function convertToInteractive(key) {\n",
              "          const element = document.querySelector('#df-756c4360-fca0-4c1c-9839-019a75a85756');\n",
              "          const dataTable =\n",
              "            await google.colab.kernel.invokeFunction('convertToInteractive',\n",
              "                                                     [key], {});\n",
              "          if (!dataTable) return;\n",
              "\n",
              "          const docLinkHtml = 'Like what you see? Visit the ' +\n",
              "            '<a target=\"_blank\" href=https://colab.research.google.com/notebooks/data_table.ipynb>data table notebook</a>'\n",
              "            + ' to learn more about interactive tables.';\n",
              "          element.innerHTML = '';\n",
              "          dataTable['output_type'] = 'display_data';\n",
              "          await google.colab.output.renderOutput(dataTable, element);\n",
              "          const docLink = document.createElement('div');\n",
              "          docLink.innerHTML = docLinkHtml;\n",
              "          element.appendChild(docLink);\n",
              "        }\n",
              "      </script>\n",
              "    </div>\n",
              "  </div>\n",
              "  "
            ],
            "text/plain": [
              "        A       T       C       G\n",
              "A       0  285699  457338  322254\n",
              "T  285427       0  321990  450152\n",
              "C  354487  309393       0  415583\n",
              "G  307539  359744  414331       0"
            ]
          },
          "metadata": {},
          "execution_count": 20
        }
      ]
    },
    {
      "cell_type": "markdown",
      "source": [
        "## 4) Распределение длин инделов"
      ],
      "metadata": {
        "id": "__zFwuxnGcPH"
      }
    },
    {
      "cell_type": "markdown",
      "source": [
        "***Oxford Nanopores***"
      ],
      "metadata": {
        "id": "GPBqYOPJLd6h"
      }
    },
    {
      "cell_type": "code",
      "source": [
        "!samtools stats ont_alignment_sorted.bam | grep ID > ont_stats.txt"
      ],
      "metadata": {
        "id": "rXhKwJqjMLym"
      },
      "execution_count": 21,
      "outputs": []
    },
    {
      "cell_type": "code",
      "source": [
        "def indel(file):\n",
        "  with open(file, 'r') as f:\n",
        "    l = [line.strip() for line in f]\n",
        "    IS = [0] * (len(l) - 1)\n",
        "    COUNT = [0] * (len(l) - 1)\n",
        "    sum_DEL = 0\n",
        "    count_DEL = 0\n",
        "    sum_INS = 0\n",
        "    count_INS = 0\n",
        "    for i in range(1, len(l)):\n",
        "      a = l[i].split('\\t')\n",
        "      IS[i - 1] = int(a[1])\n",
        "      sum_DEL += int(a[1]) * int(a[2])\n",
        "      sum_INS += int(a[1]) * int(a[3])\n",
        "      count_DEL += int(a[2])\n",
        "      count_INS += int(a[3])\n",
        "      COUNT[i - 1] = int(a[2]) + int(a[3])\n",
        "  mean_DEL = sum_DEL / count_DEL\n",
        "  mean_INS = sum_INS / count_INS\n",
        "  print(f'Средняя длина делеции = {round(mean_DEL, 3)}', f'Средняя длина вставки = {round(mean_INS, 3)}')\n",
        "  df = pd.DataFrame()\n",
        "  df['indel size'] = IS\n",
        "  df['count'] = COUNT\n",
        "  sns.set(rc={'figure.figsize':(15, 10)})\n",
        "  sns.lineplot(data=df, x=df['indel size'], y=df['count'])"
      ],
      "metadata": {
        "id": "8rM5Nb2bGkzX"
      },
      "execution_count": 27,
      "outputs": []
    },
    {
      "cell_type": "code",
      "source": [
        "indel('ont_stats.txt')"
      ],
      "metadata": {
        "colab": {
          "base_uri": "https://localhost:8080/",
          "height": 640
        },
        "id": "LLnhXdpCOHOn",
        "outputId": "eea52a76-d88d-409d-aacd-ebba0e224e2a"
      },
      "execution_count": 28,
      "outputs": [
        {
          "output_type": "stream",
          "name": "stdout",
          "text": [
            "Средняя длина делеции = 1.727 Средняя длина вставки = 1.884\n"
          ]
        },
        {
          "output_type": "display_data",
          "data": {
            "text/plain": [
              "<Figure size 1080x720 with 1 Axes>"
            ],
            "image/png": "[encoded data removed]"
          },
          "metadata": {}
        }
      ]
    },
    {
      "cell_type": "code",
      "source": [
        "def indelcut(file):\n",
        "  with open(file, 'r') as f:\n",
        "    l = [line.strip() for line in f]\n",
        "    IS = [0] * 16\n",
        "    COUNT = [0] * 16\n",
        "    sum_DEL = 0\n",
        "    count_DEL = 0\n",
        "    sum_INS = 0\n",
        "    count_INS = 0\n",
        "    for i in range(11, 27):\n",
        "      a = l[i].split('\\t')\n",
        "      IS[i - 11] = int(a[1])\n",
        "      sum_DEL += int(a[1]) * int(a[2])\n",
        "      sum_INS += int(a[1]) * int(a[3])\n",
        "      count_DEL += int(a[2])\n",
        "      count_INS += int(a[3])\n",
        "      COUNT[i - 11] = int(a[2]) + int(a[3])\n",
        "  mean_DEL = sum_DEL / count_DEL\n",
        "  mean_INS = sum_INS / count_INS\n",
        "  print(f'Средняя длина делеции = {round(mean_DEL, 3)}', f'Средняя длина вставки = {round(mean_INS, 3)}')\n",
        "  df = pd.DataFrame()\n",
        "  df['indel size'] = IS\n",
        "  df['count'] = COUNT\n",
        "  sns.lineplot(data=df, x=df['indel size'], y=df['count'])"
      ],
      "metadata": {
        "id": "KtjVszTK5UWW"
      },
      "execution_count": 54,
      "outputs": []
    },
    {
      "cell_type": "markdown",
      "source": [
        "Поскольку основной объём значений приходится на маленькие (0-5) размеры делеций и вставок, что можно сказать как по head, так по графику и средней длине, то отобразим промежуточную часть между резким падением в начале и почти постоянным значением (1-2) в конце, а именно размеры 10-25"
      ],
      "metadata": {
        "id": "QeBxy8Cp7E7A"
      }
    },
    {
      "cell_type": "code",
      "source": [
        "indelcut('ont_stats.txt')"
      ],
      "metadata": {
        "colab": {
          "base_uri": "https://localhost:8080/",
          "height": 629
        },
        "id": "JngHa_1a5boV",
        "outputId": "9a077042-c7a8-4278-8d4d-327b735f70ef"
      },
      "execution_count": 55,
      "outputs": [
        {
          "output_type": "stream",
          "name": "stdout",
          "text": [
            "Средняя длина делеции = 12.886 Средняя длина вставки = 13.395\n"
          ]
        },
        {
          "output_type": "display_data",
          "data": {
            "text/plain": [
              "<Figure size 1080x720 with 1 Axes>"
            ],
            "image/png": "[encoded data removed]"
          },
          "metadata": {}
        }
      ]
    },
    {
      "cell_type": "markdown",
      "source": [
        "***PacBio***"
      ],
      "metadata": {
        "id": "8g4fC5HNLnNf"
      }
    },
    {
      "cell_type": "code",
      "source": [
        "!samtools stats pacbio_alignment_sorted.bam | grep ID > pacbio_stats.txt"
      ],
      "metadata": {
        "id": "vp4enmSjPZYW"
      },
      "execution_count": 29,
      "outputs": []
    },
    {
      "cell_type": "code",
      "source": [
        "indel('pacbio_stats.txt')"
      ],
      "metadata": {
        "colab": {
          "base_uri": "https://localhost:8080/",
          "height": 640
        },
        "id": "I24a3GzSPh8K",
        "outputId": "6244bb63-2566-4baf-b52a-802a54f89961"
      },
      "execution_count": 30,
      "outputs": [
        {
          "output_type": "stream",
          "name": "stdout",
          "text": [
            "Средняя длина делеции = 1.555 Средняя длина вставки = 1.2\n"
          ]
        },
        {
          "output_type": "display_data",
          "data": {
            "text/plain": [
              "<Figure size 1080x720 with 1 Axes>"
            ],
            "image/png": "[encoded data removed]"
          },
          "metadata": {}
        }
      ]
    },
    {
      "cell_type": "code",
      "source": [
        "def indelcut(file):\n",
        "  with open(file, 'r') as f:\n",
        "    l = [line.strip() for line in f]\n",
        "    IS = [0] * 83\n",
        "    COUNT = [0] * 83\n",
        "    sum_DEL = 0\n",
        "    count_DEL = 0\n",
        "    sum_INS = 0\n",
        "    count_INS = 0\n",
        "    for i in range(17, 100):\n",
        "      a = l[i].split('\\t')\n",
        "      IS[i - 17] = int(a[1])\n",
        "      sum_DEL += int(a[1]) * int(a[2])\n",
        "      sum_INS += int(a[1]) * int(a[3])\n",
        "      count_DEL += int(a[2])\n",
        "      count_INS += int(a[3])\n",
        "      COUNT[i - 17] = int(a[2]) + int(a[3])\n",
        "  mean_DEL = sum_DEL / count_DEL\n",
        "  mean_INS = sum_INS / count_INS\n",
        "  print(f'Средняя длина делеции = {round(mean_DEL, 3)}', f'Средняя длина вставки = {round(mean_INS, 3)}')\n",
        "  df = pd.DataFrame()\n",
        "  df['indel size'] = IS\n",
        "  df['count'] = COUNT\n",
        "  sns.lineplot(data=df, x=df['indel size'], y=df['count'])"
      ],
      "metadata": {
        "id": "5hR7dVh_6vXh"
      },
      "execution_count": 56,
      "outputs": []
    },
    {
      "cell_type": "markdown",
      "source": [
        "В этом файле бОльшие срезы дают достаточно информации. Например, то значения 20 резкое падение, а затем спуск по кочкам. Дальнейшее увеличение рамки сглаживает неровности, становится менее интересно."
      ],
      "metadata": {
        "id": "4-g9pJHQ6_Xv"
      }
    },
    {
      "cell_type": "code",
      "source": [
        "indelcut('pacbio_stats.txt')"
      ],
      "metadata": {
        "colab": {
          "base_uri": "https://localhost:8080/",
          "height": 629
        },
        "id": "4Cbt4kqL65Iu",
        "outputId": "406d4bcb-f8ad-47bb-8676-6048313624af"
      },
      "execution_count": 57,
      "outputs": [
        {
          "output_type": "stream",
          "name": "stdout",
          "text": [
            "Средняя длина делеции = 33.469 Средняя длина вставки = 33.906\n"
          ]
        },
        {
          "output_type": "display_data",
          "data": {
            "text/plain": [
              "<Figure size 1080x720 with 1 Axes>"
            ],
            "image/png": "[encoded data removed]"
          },
          "metadata": {}
        }
      ]
    },
    {
      "cell_type": "markdown",
      "source": [
        "## Сравнение результатов\n",
        "\n",
        "У PacBio, вероятно, в силу того, что среднее покрытие больше, более интересен график распределение инделов. Вообще у PacBio при большем количестве ридов большее их приложение и прочее. В обоих случаях инделы сосредоточены в районе длины 1-2, а дальше количество падает."
      ],
      "metadata": {
        "id": "xWZt00wYiLAf"
      }
    },
    {
      "cell_type": "code",
      "source": [
        "data = {'Среднее покрытие':[28.325,\n",
        "                             40.052],\n",
        "        \n",
        "        'Доля покрытой области генома':['100%',\n",
        "                              '100%'],\n",
        "        \n",
        "        'Процент ошибок':['7.93%',\n",
        "                              '10.39%'],\n",
        "        \n",
        "        'Средняя длина делеции':[1.727,\n",
        "                             1.555],\n",
        "        \n",
        "        'Средняя длина вставки':[1.884,\n",
        "                             1.2]}\n",
        "\n",
        "df = pd.DataFrame(data, index =['Oxford Nanopores',\n",
        "                                'PacBio'])\n",
        "df"
      ],
      "metadata": {
        "colab": {
          "base_uri": "https://localhost:8080/",
          "height": 112
        },
        "id": "cBuvIB8YzFgc",
        "outputId": "08516c90-c601-4d38-88a5-caa632161b54"
      },
      "execution_count": 31,
      "outputs": [
        {
          "output_type": "execute_result",
          "data": {
            "text/plain": [
              "                  Среднее покрытие Доля покрытой области генома  \\\n",
              "Oxford Nanopores            28.325                         100%   \n",
              "PacBio                      40.052                         100%   \n",
              "\n",
              "                 Процент ошибок  Средняя длина делеции  Средняя длина вставки  \n",
              "Oxford Nanopores          7.93%                  1.727                  1.884  \n",
              "PacBio                   10.39%                  1.555                  1.200  "
            ],
            "text/html": [
              "\n",
              "  <div id=\"df-cda2716f-a5c9-488d-b91c-b824f0195d22\">\n",
              "    <div class=\"colab-df-container\">\n",
              "      <div>\n",
              "<style scoped>\n",
              "    .dataframe tbody tr th:only-of-type {\n",
              "        vertical-align: middle;\n",
              "    }\n",
              "\n",
              "    .dataframe tbody tr th {\n",
              "        vertical-align: top;\n",
              "    }\n",
              "\n",
              "    .dataframe thead th {\n",
              "        text-align: right;\n",
              "    }\n",
              "</style>\n",
              "<table border=\"1\" class=\"dataframe\">\n",
              "  <thead>\n",
              "    <tr style=\"text-align: right;\">\n",
              "      <th></th>\n",
              "      <th>Среднее покрытие</th>\n",
              "      <th>Доля покрытой области генома</th>\n",
              "      <th>Процент ошибок</th>\n",
              "      <th>Средняя длина делеции</th>\n",
              "      <th>Средняя длина вставки</th>\n",
              "    </tr>\n",
              "  </thead>\n",
              "  <tbody>\n",
              "    <tr>\n",
              "      <th>Oxford Nanopores</th>\n",
              "      <td>28.325</td>\n",
              "      <td>100%</td>\n",
              "      <td>7.93%</td>\n",
              "      <td>1.727</td>\n",
              "      <td>1.884</td>\n",
              "    </tr>\n",
              "    <tr>\n",
              "      <th>PacBio</th>\n",
              "      <td>40.052</td>\n",
              "      <td>100%</td>\n",
              "      <td>10.39%</td>\n",
              "      <td>1.555</td>\n",
              "      <td>1.200</td>\n",
              "    </tr>\n",
              "  </tbody>\n",
              "</table>\n",
              "</div>\n",
              "      <button class=\"colab-df-convert\" onclick=\"convertToInteractive('df-cda2716f-a5c9-488d-b91c-b824f0195d22')\"\n",
              "              title=\"Convert this dataframe to an interactive table.\"\n",
              "              style=\"display:none;\">\n",
              "        \n",
              "  <svg xmlns=\"http://www.w3.org/2000/svg\" height=\"24px\"viewBox=\"0 0 24 24\"\n",
              "       width=\"24px\">\n",
              "    <path d=\"M0 0h24v24H0V0z\" fill=\"none\"/>\n",
              "    <path d=\"M18.56 5.44l.94 2.06.94-2.06 2.06-.94-2.06-.94-.94-2.06-.94 2.06-2.06.94zm-11 1L8.5 8.5l.94-2.06 2.06-.94-2.06-.94L8.5 2.5l-.94 2.06-2.06.94zm10 10l.94 2.06.94-2.06 2.06-.94-2.06-.94-.94-2.06-.94 2.06-2.06.94z\"/><path d=\"M17.41 7.96l-1.37-1.37c-.4-.4-.92-.59-1.43-.59-.52 0-1.04.2-1.43.59L10.3 9.45l-7.72 7.72c-.78.78-.78 2.05 0 2.83L4 21.41c.39.39.9.59 1.41.59.51 0 1.02-.2 1.41-.59l7.78-7.78 2.81-2.81c.8-.78.8-2.07 0-2.86zM5.41 20L4 18.59l7.72-7.72 1.47 1.35L5.41 20z\"/>\n",
              "  </svg>\n",
              "      </button>\n",
              "      \n",
              "  <style>\n",
              "    .colab-df-container {\n",
              "      display:flex;\n",
              "      flex-wrap:wrap;\n",
              "      gap: 12px;\n",
              "    }\n",
              "\n",
              "    .colab-df-convert {\n",
              "      background-color: #E8F0FE;\n",
              "      border: none;\n",
              "      border-radius: 50%;\n",
              "      cursor: pointer;\n",
              "      display: none;\n",
              "      fill: #1967D2;\n",
              "      height: 32px;\n",
              "      padding: 0 0 0 0;\n",
              "      width: 32px;\n",
              "    }\n",
              "\n",
              "    .colab-df-convert:hover {\n",
              "      background-color: #E2EBFA;\n",
              "      box-shadow: 0px 1px 2px rgba(60, 64, 67, 0.3), 0px 1px 3px 1px rgba(60, 64, 67, 0.15);\n",
              "      fill: #174EA6;\n",
              "    }\n",
              "\n",
              "    [theme=dark] .colab-df-convert {\n",
              "      background-color: #3B4455;\n",
              "      fill: #D2E3FC;\n",
              "    }\n",
              "\n",
              "    [theme=dark] .colab-df-convert:hover {\n",
              "      background-color: #434B5C;\n",
              "      box-shadow: 0px 1px 3px 1px rgba(0, 0, 0, 0.15);\n",
              "      filter: drop-shadow(0px 1px 2px rgba(0, 0, 0, 0.3));\n",
              "      fill: #FFFFFF;\n",
              "    }\n",
              "  </style>\n",
              "\n",
              "      <script>\n",
              "        const buttonEl =\n",
              "          document.querySelector('#df-cda2716f-a5c9-488d-b91c-b824f0195d22 button.colab-df-convert');\n",
              "        buttonEl.style.display =\n",
              "          google.colab.kernel.accessAllowed ? 'block' : 'none';\n",
              "\n",
              "        async function convertToInteractive(key) {\n",
              "          const element = document.querySelector('#df-cda2716f-a5c9-488d-b91c-b824f0195d22');\n",
              "          const dataTable =\n",
              "            await google.colab.kernel.invokeFunction('convertToInteractive',\n",
              "                                                     [key], {});\n",
              "          if (!dataTable) return;\n",
              "\n",
              "          const docLinkHtml = 'Like what you see? Visit the ' +\n",
              "            '<a target=\"_blank\" href=https://colab.research.google.com/notebooks/data_table.ipynb>data table notebook</a>'\n",
              "            + ' to learn more about interactive tables.';\n",
              "          element.innerHTML = '';\n",
              "          dataTable['output_type'] = 'display_data';\n",
              "          await google.colab.output.renderOutput(dataTable, element);\n",
              "          const docLink = document.createElement('div');\n",
              "          docLink.innerHTML = docLinkHtml;\n",
              "          element.appendChild(docLink);\n",
              "        }\n",
              "      </script>\n",
              "    </div>\n",
              "  </div>\n",
              "  "
            ]
          },
          "metadata": {},
          "execution_count": 31
        }
      ]
    },
    {
      "cell_type": "code",
      "source": [
        ""
      ],
      "metadata": {
        "id": "m0tJtGbV5CRd"
      },
      "execution_count": null,
      "outputs": []
    }
  ]
}